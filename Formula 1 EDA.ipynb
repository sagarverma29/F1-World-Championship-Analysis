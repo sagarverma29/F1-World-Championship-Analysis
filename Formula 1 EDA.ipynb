{
 "cells": [
  {
   "cell_type": "code",
   "execution_count": 1,
   "metadata": {},
   "outputs": [],
   "source": [
    "import numpy as np\n",
    "import pandas as pd\n",
    "import matplotlib.pyplot as plt\n",
    "import seaborn as sns\n",
    "import plotly.express as px\n",
    "import datetime as dt"
   ]
  },
  {
   "cell_type": "code",
   "execution_count": 38,
   "metadata": {},
   "outputs": [],
   "source": [
    "circuits = pd.read_csv(r'dataset files\\circuits.csv')\n",
    "constructor_results = pd.read_csv(r'dataset files\\constructor_results.csv')\n",
    "constructor_standings = pd.read_csv(r'dataset files\\constructor_standings.csv')\n",
    "constructors = pd.read_csv(r'dataset files\\constructors.csv')\n",
    "driver_standings = pd.read_csv(r'dataset files\\driver_standings.csv')\n",
    "drivers = pd.read_csv(r'dataset files\\drivers.csv')\n",
    "lap_times = pd.read_csv(r'dataset files\\lap_times.csv')\n",
    "pit_stops = pd.read_csv(r'dataset files\\pit_stops.csv')\n",
    "qualifying = pd.read_csv(r'dataset files\\qualifying.csv')\n",
    "races = pd.read_csv(r'dataset files\\races.csv')\n",
    "results = pd.read_csv(r'dataset files\\results.csv')\n",
    "seasons = pd.read_csv(r'dataset files\\seasons.csv')\n",
    "sprint_results = pd.read_csv(r'dataset files\\sprint_results.csv')\n",
    "status = pd.read_csv(r'dataset files\\status.csv')"
   ]
  },
  {
   "cell_type": "markdown",
   "metadata": {},
   "source": [
    "#### Data Cleaning"
   ]
  },
  {
   "cell_type": "code",
   "execution_count": 39,
   "metadata": {},
   "outputs": [],
   "source": [
    "circuits.drop('url', axis=1, inplace= True)\n",
    "constructors.drop('url', axis=1, inplace= True)\n",
    "drivers.drop('url', axis=1, inplace= True)\n",
    "seasons.drop('url', axis=1, inplace= True)\n",
    "constructor_standings.drop('positionText', axis=1, inplace= True)\n",
    "races.drop(columns= ['url','fp1_date','fp1_time','fp2_date','fp2_time','fp3_date',\\\n",
    "                     'fp3_time','quali_date','quali_time','sprint_date','sprint_time'], axis=1, inplace=True)"
   ]
  },
  {
   "cell_type": "code",
   "execution_count": 40,
   "metadata": {},
   "outputs": [],
   "source": [
    "qualifying['q2'] = qualifying['q2'].fillna('NA')\n",
    "qualifying['q3'] = qualifying['q3'].fillna('NA')"
   ]
  },
  {
   "cell_type": "code",
   "execution_count": 41,
   "metadata": {},
   "outputs": [],
   "source": [
    "#changing datatype for dob column in drivers and date column in races\n",
    "drivers['dob']= pd.to_datetime(drivers['dob'])\n",
    "races['date'] = pd.to_datetime(races['date'])"
   ]
  },
  {
   "cell_type": "code",
   "execution_count": 42,
   "metadata": {},
   "outputs": [],
   "source": [
    "drivers['Name'] = drivers['forename'] +\" \"+ drivers['surname']"
   ]
  },
  {
   "cell_type": "code",
   "execution_count": 43,
   "metadata": {},
   "outputs": [],
   "source": [
    "drivers.drop(columns= ['forename', 'surname'], axis=1, inplace= True)"
   ]
  },
  {
   "cell_type": "code",
   "execution_count": 44,
   "metadata": {},
   "outputs": [],
   "source": [
    "results = results[results['fastestLapTime'].notnull()]\n",
    "results['fastestLapTime'] = results['fastestLapTime'].fillna(0)"
   ]
  },
  {
   "cell_type": "code",
   "execution_count": 50,
   "metadata": {},
   "outputs": [
    {
     "data": {
      "text/html": [
       "<div>\n",
       "<style scoped>\n",
       "    .dataframe tbody tr th:only-of-type {\n",
       "        vertical-align: middle;\n",
       "    }\n",
       "\n",
       "    .dataframe tbody tr th {\n",
       "        vertical-align: top;\n",
       "    }\n",
       "\n",
       "    .dataframe thead th {\n",
       "        text-align: right;\n",
       "    }\n",
       "</style>\n",
       "<table border=\"1\" class=\"dataframe\">\n",
       "  <thead>\n",
       "    <tr style=\"text-align: right;\">\n",
       "      <th></th>\n",
       "      <th>resultId</th>\n",
       "      <th>raceId</th>\n",
       "      <th>driverId</th>\n",
       "      <th>constructorId</th>\n",
       "      <th>number</th>\n",
       "      <th>grid</th>\n",
       "      <th>position</th>\n",
       "      <th>positionText</th>\n",
       "      <th>positionOrder</th>\n",
       "      <th>points</th>\n",
       "      <th>laps</th>\n",
       "      <th>time</th>\n",
       "      <th>milliseconds</th>\n",
       "      <th>fastestLap</th>\n",
       "      <th>rank</th>\n",
       "      <th>fastestLapTime</th>\n",
       "      <th>fastestLapSpeed</th>\n",
       "      <th>statusId</th>\n",
       "      <th>fastestLap_time_ms</th>\n",
       "    </tr>\n",
       "  </thead>\n",
       "  <tbody>\n",
       "    <tr>\n",
       "      <th>0</th>\n",
       "      <td>1</td>\n",
       "      <td>18</td>\n",
       "      <td>1</td>\n",
       "      <td>1</td>\n",
       "      <td>22</td>\n",
       "      <td>1</td>\n",
       "      <td>1</td>\n",
       "      <td>1</td>\n",
       "      <td>1</td>\n",
       "      <td>10.0</td>\n",
       "      <td>58</td>\n",
       "      <td>1:34:50.616</td>\n",
       "      <td>5690616</td>\n",
       "      <td>39</td>\n",
       "      <td>2</td>\n",
       "      <td>1:27.452</td>\n",
       "      <td>218.300</td>\n",
       "      <td>1</td>\n",
       "      <td>87452.0</td>\n",
       "    </tr>\n",
       "    <tr>\n",
       "      <th>1</th>\n",
       "      <td>2</td>\n",
       "      <td>18</td>\n",
       "      <td>2</td>\n",
       "      <td>2</td>\n",
       "      <td>3</td>\n",
       "      <td>5</td>\n",
       "      <td>2</td>\n",
       "      <td>2</td>\n",
       "      <td>2</td>\n",
       "      <td>8.0</td>\n",
       "      <td>58</td>\n",
       "      <td>+5.478</td>\n",
       "      <td>5696094</td>\n",
       "      <td>41</td>\n",
       "      <td>3</td>\n",
       "      <td>1:27.739</td>\n",
       "      <td>217.586</td>\n",
       "      <td>1</td>\n",
       "      <td>87739.0</td>\n",
       "    </tr>\n",
       "    <tr>\n",
       "      <th>2</th>\n",
       "      <td>3</td>\n",
       "      <td>18</td>\n",
       "      <td>3</td>\n",
       "      <td>3</td>\n",
       "      <td>7</td>\n",
       "      <td>7</td>\n",
       "      <td>3</td>\n",
       "      <td>3</td>\n",
       "      <td>3</td>\n",
       "      <td>6.0</td>\n",
       "      <td>58</td>\n",
       "      <td>+8.163</td>\n",
       "      <td>5698779</td>\n",
       "      <td>41</td>\n",
       "      <td>5</td>\n",
       "      <td>1:28.090</td>\n",
       "      <td>216.719</td>\n",
       "      <td>1</td>\n",
       "      <td>88090.0</td>\n",
       "    </tr>\n",
       "    <tr>\n",
       "      <th>3</th>\n",
       "      <td>4</td>\n",
       "      <td>18</td>\n",
       "      <td>4</td>\n",
       "      <td>4</td>\n",
       "      <td>5</td>\n",
       "      <td>11</td>\n",
       "      <td>4</td>\n",
       "      <td>4</td>\n",
       "      <td>4</td>\n",
       "      <td>5.0</td>\n",
       "      <td>58</td>\n",
       "      <td>+17.181</td>\n",
       "      <td>5707797</td>\n",
       "      <td>58</td>\n",
       "      <td>7</td>\n",
       "      <td>1:28.603</td>\n",
       "      <td>215.464</td>\n",
       "      <td>1</td>\n",
       "      <td>88603.0</td>\n",
       "    </tr>\n",
       "    <tr>\n",
       "      <th>4</th>\n",
       "      <td>5</td>\n",
       "      <td>18</td>\n",
       "      <td>5</td>\n",
       "      <td>1</td>\n",
       "      <td>23</td>\n",
       "      <td>3</td>\n",
       "      <td>5</td>\n",
       "      <td>5</td>\n",
       "      <td>5</td>\n",
       "      <td>4.0</td>\n",
       "      <td>58</td>\n",
       "      <td>+18.014</td>\n",
       "      <td>5708630</td>\n",
       "      <td>43</td>\n",
       "      <td>1</td>\n",
       "      <td>1:27.418</td>\n",
       "      <td>218.385</td>\n",
       "      <td>1</td>\n",
       "      <td>87418.0</td>\n",
       "    </tr>\n",
       "  </tbody>\n",
       "</table>\n",
       "</div>"
      ],
      "text/plain": [
       "   resultId  raceId  driverId  constructorId number  grid position  \\\n",
       "0         1      18         1              1     22     1        1   \n",
       "1         2      18         2              2      3     5        2   \n",
       "2         3      18         3              3      7     7        3   \n",
       "3         4      18         4              4      5    11        4   \n",
       "4         5      18         5              1     23     3        5   \n",
       "\n",
       "  positionText  positionOrder  points  laps         time milliseconds  \\\n",
       "0            1              1    10.0    58  1:34:50.616      5690616   \n",
       "1            2              2     8.0    58       +5.478      5696094   \n",
       "2            3              3     6.0    58       +8.163      5698779   \n",
       "3            4              4     5.0    58      +17.181      5707797   \n",
       "4            5              5     4.0    58      +18.014      5708630   \n",
       "\n",
       "  fastestLap rank fastestLapTime fastestLapSpeed  statusId  fastestLap_time_ms  \n",
       "0         39    2       1:27.452         218.300         1             87452.0  \n",
       "1         41    3       1:27.739         217.586         1             87739.0  \n",
       "2         41    5       1:28.090         216.719         1             88090.0  \n",
       "3         58    7       1:28.603         215.464         1             88603.0  \n",
       "4         43    1       1:27.418         218.385         1             87418.0  "
      ]
     },
     "execution_count": 50,
     "metadata": {},
     "output_type": "execute_result"
    }
   ],
   "source": [
    "results.head()"
   ]
  },
  {
   "cell_type": "code",
   "execution_count": 51,
   "metadata": {},
   "outputs": [
    {
     "data": {
      "text/plain": [
       "resultId                int64\n",
       "raceId                  int64\n",
       "driverId                int64\n",
       "constructorId           int64\n",
       "number                 object\n",
       "grid                    int64\n",
       "position               object\n",
       "positionText           object\n",
       "positionOrder           int64\n",
       "points                float64\n",
       "laps                    int64\n",
       "time                   object\n",
       "milliseconds           object\n",
       "fastestLap             object\n",
       "rank                   object\n",
       "fastestLapTime         object\n",
       "fastestLapSpeed        object\n",
       "statusId                int64\n",
       "fastestLap_time_ms    float64\n",
       "dtype: object"
      ]
     },
     "execution_count": 51,
     "metadata": {},
     "output_type": "execute_result"
    }
   ],
   "source": [
    "results.dtypes"
   ]
  },
  {
   "cell_type": "code",
   "execution_count": 47,
   "metadata": {},
   "outputs": [],
   "source": [
    "def time_to_milliseconds(time_str):\n",
    "    # Handle invalid or missing values\n",
    "    if time_str == '\\\\N' or not time_str:\n",
    "        return None  # or return 0 depending on how you want to handle missing data\n",
    "\n",
    "    # Split the time string by ':'\n",
    "    time_parts = time_str.split(':')\n",
    "\n",
    "    # Handle cases where there are 2 parts (minutes and seconds) or 1 part (seconds only)\n",
    "    if len(time_parts) == 2:\n",
    "        minutes, seconds = time_parts\n",
    "        milliseconds = 0\n",
    "    elif len(time_parts) == 1:\n",
    "        minutes = 0\n",
    "        seconds = time_parts[0]\n",
    "        milliseconds = 0\n",
    "    else:\n",
    "        minutes, seconds, milliseconds = time_parts\n",
    "    \n",
    "    # If seconds have a decimal, split seconds into whole and fractional parts\n",
    "    if '.' in seconds:\n",
    "        seconds, milliseconds = seconds.split('.')\n",
    "        milliseconds = milliseconds.ljust(3, '0')  # Ensure milliseconds are 3 digits\n",
    "    \n",
    "    # Convert everything to integer values\n",
    "    try:\n",
    "        minutes = int(minutes)\n",
    "        seconds = int(seconds)\n",
    "        milliseconds = int(milliseconds)\n",
    "    except ValueError:\n",
    "        return None  # In case the value cannot be converted to an integer, return None or handle the error\n",
    "\n",
    "    # Convert the time to milliseconds\n",
    "    return (minutes * 60 * 1000) + (seconds * 1000) + milliseconds\n",
    "results['fastestLap_time_ms'] = results['fastestLapTime'].apply(time_to_milliseconds)"
   ]
  },
  {
   "cell_type": "code",
   "execution_count": 24,
   "metadata": {},
   "outputs": [
    {
     "data": {
      "text/html": [
       "<div>\n",
       "<style scoped>\n",
       "    .dataframe tbody tr th:only-of-type {\n",
       "        vertical-align: middle;\n",
       "    }\n",
       "\n",
       "    .dataframe tbody tr th {\n",
       "        vertical-align: top;\n",
       "    }\n",
       "\n",
       "    .dataframe thead th {\n",
       "        text-align: right;\n",
       "    }\n",
       "</style>\n",
       "<table border=\"1\" class=\"dataframe\">\n",
       "  <thead>\n",
       "    <tr style=\"text-align: right;\">\n",
       "      <th></th>\n",
       "      <th>circuitId</th>\n",
       "      <th>circuitRef</th>\n",
       "      <th>name</th>\n",
       "      <th>location</th>\n",
       "      <th>country</th>\n",
       "      <th>lat</th>\n",
       "      <th>lng</th>\n",
       "      <th>alt</th>\n",
       "    </tr>\n",
       "  </thead>\n",
       "  <tbody>\n",
       "    <tr>\n",
       "      <th>0</th>\n",
       "      <td>1</td>\n",
       "      <td>albert_park</td>\n",
       "      <td>Albert Park Grand Prix Circuit</td>\n",
       "      <td>Melbourne</td>\n",
       "      <td>Australia</td>\n",
       "      <td>-37.84970</td>\n",
       "      <td>144.96800</td>\n",
       "      <td>10</td>\n",
       "    </tr>\n",
       "    <tr>\n",
       "      <th>1</th>\n",
       "      <td>2</td>\n",
       "      <td>sepang</td>\n",
       "      <td>Sepang International Circuit</td>\n",
       "      <td>Kuala Lumpur</td>\n",
       "      <td>Malaysia</td>\n",
       "      <td>2.76083</td>\n",
       "      <td>101.73800</td>\n",
       "      <td>18</td>\n",
       "    </tr>\n",
       "    <tr>\n",
       "      <th>2</th>\n",
       "      <td>3</td>\n",
       "      <td>bahrain</td>\n",
       "      <td>Bahrain International Circuit</td>\n",
       "      <td>Sakhir</td>\n",
       "      <td>Bahrain</td>\n",
       "      <td>26.03250</td>\n",
       "      <td>50.51060</td>\n",
       "      <td>7</td>\n",
       "    </tr>\n",
       "    <tr>\n",
       "      <th>3</th>\n",
       "      <td>4</td>\n",
       "      <td>catalunya</td>\n",
       "      <td>Circuit de Barcelona-Catalunya</td>\n",
       "      <td>Montmeló</td>\n",
       "      <td>Spain</td>\n",
       "      <td>41.57000</td>\n",
       "      <td>2.26111</td>\n",
       "      <td>109</td>\n",
       "    </tr>\n",
       "    <tr>\n",
       "      <th>4</th>\n",
       "      <td>5</td>\n",
       "      <td>istanbul</td>\n",
       "      <td>Istanbul Park</td>\n",
       "      <td>Istanbul</td>\n",
       "      <td>Turkey</td>\n",
       "      <td>40.95170</td>\n",
       "      <td>29.40500</td>\n",
       "      <td>130</td>\n",
       "    </tr>\n",
       "  </tbody>\n",
       "</table>\n",
       "</div>"
      ],
      "text/plain": [
       "   circuitId   circuitRef                            name      location  \\\n",
       "0          1  albert_park  Albert Park Grand Prix Circuit     Melbourne   \n",
       "1          2       sepang    Sepang International Circuit  Kuala Lumpur   \n",
       "2          3      bahrain   Bahrain International Circuit        Sakhir   \n",
       "3          4    catalunya  Circuit de Barcelona-Catalunya      Montmeló   \n",
       "4          5     istanbul                   Istanbul Park      Istanbul   \n",
       "\n",
       "     country       lat        lng  alt  \n",
       "0  Australia -37.84970  144.96800   10  \n",
       "1   Malaysia   2.76083  101.73800   18  \n",
       "2    Bahrain  26.03250   50.51060    7  \n",
       "3      Spain  41.57000    2.26111  109  \n",
       "4     Turkey  40.95170   29.40500  130  "
      ]
     },
     "metadata": {},
     "output_type": "display_data"
    },
    {
     "data": {
      "text/html": [
       "<div>\n",
       "<style scoped>\n",
       "    .dataframe tbody tr th:only-of-type {\n",
       "        vertical-align: middle;\n",
       "    }\n",
       "\n",
       "    .dataframe tbody tr th {\n",
       "        vertical-align: top;\n",
       "    }\n",
       "\n",
       "    .dataframe thead th {\n",
       "        text-align: right;\n",
       "    }\n",
       "</style>\n",
       "<table border=\"1\" class=\"dataframe\">\n",
       "  <thead>\n",
       "    <tr style=\"text-align: right;\">\n",
       "      <th></th>\n",
       "      <th>constructorResultsId</th>\n",
       "      <th>raceId</th>\n",
       "      <th>constructorId</th>\n",
       "      <th>points</th>\n",
       "      <th>status</th>\n",
       "    </tr>\n",
       "  </thead>\n",
       "  <tbody>\n",
       "    <tr>\n",
       "      <th>0</th>\n",
       "      <td>1</td>\n",
       "      <td>18</td>\n",
       "      <td>1</td>\n",
       "      <td>14.0</td>\n",
       "      <td>\\N</td>\n",
       "    </tr>\n",
       "    <tr>\n",
       "      <th>1</th>\n",
       "      <td>2</td>\n",
       "      <td>18</td>\n",
       "      <td>2</td>\n",
       "      <td>8.0</td>\n",
       "      <td>\\N</td>\n",
       "    </tr>\n",
       "    <tr>\n",
       "      <th>2</th>\n",
       "      <td>3</td>\n",
       "      <td>18</td>\n",
       "      <td>3</td>\n",
       "      <td>9.0</td>\n",
       "      <td>\\N</td>\n",
       "    </tr>\n",
       "    <tr>\n",
       "      <th>3</th>\n",
       "      <td>4</td>\n",
       "      <td>18</td>\n",
       "      <td>4</td>\n",
       "      <td>5.0</td>\n",
       "      <td>\\N</td>\n",
       "    </tr>\n",
       "    <tr>\n",
       "      <th>4</th>\n",
       "      <td>5</td>\n",
       "      <td>18</td>\n",
       "      <td>5</td>\n",
       "      <td>2.0</td>\n",
       "      <td>\\N</td>\n",
       "    </tr>\n",
       "  </tbody>\n",
       "</table>\n",
       "</div>"
      ],
      "text/plain": [
       "   constructorResultsId  raceId  constructorId  points status\n",
       "0                     1      18              1    14.0     \\N\n",
       "1                     2      18              2     8.0     \\N\n",
       "2                     3      18              3     9.0     \\N\n",
       "3                     4      18              4     5.0     \\N\n",
       "4                     5      18              5     2.0     \\N"
      ]
     },
     "metadata": {},
     "output_type": "display_data"
    },
    {
     "data": {
      "text/html": [
       "<div>\n",
       "<style scoped>\n",
       "    .dataframe tbody tr th:only-of-type {\n",
       "        vertical-align: middle;\n",
       "    }\n",
       "\n",
       "    .dataframe tbody tr th {\n",
       "        vertical-align: top;\n",
       "    }\n",
       "\n",
       "    .dataframe thead th {\n",
       "        text-align: right;\n",
       "    }\n",
       "</style>\n",
       "<table border=\"1\" class=\"dataframe\">\n",
       "  <thead>\n",
       "    <tr style=\"text-align: right;\">\n",
       "      <th></th>\n",
       "      <th>constructorStandingsId</th>\n",
       "      <th>raceId</th>\n",
       "      <th>constructorId</th>\n",
       "      <th>points</th>\n",
       "      <th>position</th>\n",
       "      <th>wins</th>\n",
       "    </tr>\n",
       "  </thead>\n",
       "  <tbody>\n",
       "    <tr>\n",
       "      <th>0</th>\n",
       "      <td>1</td>\n",
       "      <td>18</td>\n",
       "      <td>1</td>\n",
       "      <td>14.0</td>\n",
       "      <td>1</td>\n",
       "      <td>1</td>\n",
       "    </tr>\n",
       "    <tr>\n",
       "      <th>1</th>\n",
       "      <td>2</td>\n",
       "      <td>18</td>\n",
       "      <td>2</td>\n",
       "      <td>8.0</td>\n",
       "      <td>3</td>\n",
       "      <td>0</td>\n",
       "    </tr>\n",
       "    <tr>\n",
       "      <th>2</th>\n",
       "      <td>3</td>\n",
       "      <td>18</td>\n",
       "      <td>3</td>\n",
       "      <td>9.0</td>\n",
       "      <td>2</td>\n",
       "      <td>0</td>\n",
       "    </tr>\n",
       "    <tr>\n",
       "      <th>3</th>\n",
       "      <td>4</td>\n",
       "      <td>18</td>\n",
       "      <td>4</td>\n",
       "      <td>5.0</td>\n",
       "      <td>4</td>\n",
       "      <td>0</td>\n",
       "    </tr>\n",
       "    <tr>\n",
       "      <th>4</th>\n",
       "      <td>5</td>\n",
       "      <td>18</td>\n",
       "      <td>5</td>\n",
       "      <td>2.0</td>\n",
       "      <td>5</td>\n",
       "      <td>0</td>\n",
       "    </tr>\n",
       "  </tbody>\n",
       "</table>\n",
       "</div>"
      ],
      "text/plain": [
       "   constructorStandingsId  raceId  constructorId  points  position  wins\n",
       "0                       1      18              1    14.0         1     1\n",
       "1                       2      18              2     8.0         3     0\n",
       "2                       3      18              3     9.0         2     0\n",
       "3                       4      18              4     5.0         4     0\n",
       "4                       5      18              5     2.0         5     0"
      ]
     },
     "metadata": {},
     "output_type": "display_data"
    },
    {
     "data": {
      "text/html": [
       "<div>\n",
       "<style scoped>\n",
       "    .dataframe tbody tr th:only-of-type {\n",
       "        vertical-align: middle;\n",
       "    }\n",
       "\n",
       "    .dataframe tbody tr th {\n",
       "        vertical-align: top;\n",
       "    }\n",
       "\n",
       "    .dataframe thead th {\n",
       "        text-align: right;\n",
       "    }\n",
       "</style>\n",
       "<table border=\"1\" class=\"dataframe\">\n",
       "  <thead>\n",
       "    <tr style=\"text-align: right;\">\n",
       "      <th></th>\n",
       "      <th>constructorId</th>\n",
       "      <th>constructorRef</th>\n",
       "      <th>name</th>\n",
       "      <th>nationality</th>\n",
       "    </tr>\n",
       "  </thead>\n",
       "  <tbody>\n",
       "    <tr>\n",
       "      <th>0</th>\n",
       "      <td>1</td>\n",
       "      <td>mclaren</td>\n",
       "      <td>McLaren</td>\n",
       "      <td>British</td>\n",
       "    </tr>\n",
       "    <tr>\n",
       "      <th>1</th>\n",
       "      <td>2</td>\n",
       "      <td>bmw_sauber</td>\n",
       "      <td>BMW Sauber</td>\n",
       "      <td>German</td>\n",
       "    </tr>\n",
       "    <tr>\n",
       "      <th>2</th>\n",
       "      <td>3</td>\n",
       "      <td>williams</td>\n",
       "      <td>Williams</td>\n",
       "      <td>British</td>\n",
       "    </tr>\n",
       "    <tr>\n",
       "      <th>3</th>\n",
       "      <td>4</td>\n",
       "      <td>renault</td>\n",
       "      <td>Renault</td>\n",
       "      <td>French</td>\n",
       "    </tr>\n",
       "    <tr>\n",
       "      <th>4</th>\n",
       "      <td>5</td>\n",
       "      <td>toro_rosso</td>\n",
       "      <td>Toro Rosso</td>\n",
       "      <td>Italian</td>\n",
       "    </tr>\n",
       "  </tbody>\n",
       "</table>\n",
       "</div>"
      ],
      "text/plain": [
       "   constructorId constructorRef        name nationality\n",
       "0              1        mclaren     McLaren     British\n",
       "1              2     bmw_sauber  BMW Sauber      German\n",
       "2              3       williams    Williams     British\n",
       "3              4        renault     Renault      French\n",
       "4              5     toro_rosso  Toro Rosso     Italian"
      ]
     },
     "metadata": {},
     "output_type": "display_data"
    },
    {
     "data": {
      "text/html": [
       "<div>\n",
       "<style scoped>\n",
       "    .dataframe tbody tr th:only-of-type {\n",
       "        vertical-align: middle;\n",
       "    }\n",
       "\n",
       "    .dataframe tbody tr th {\n",
       "        vertical-align: top;\n",
       "    }\n",
       "\n",
       "    .dataframe thead th {\n",
       "        text-align: right;\n",
       "    }\n",
       "</style>\n",
       "<table border=\"1\" class=\"dataframe\">\n",
       "  <thead>\n",
       "    <tr style=\"text-align: right;\">\n",
       "      <th></th>\n",
       "      <th>driverStandingsId</th>\n",
       "      <th>raceId</th>\n",
       "      <th>driverId</th>\n",
       "      <th>points</th>\n",
       "      <th>position</th>\n",
       "      <th>positionText</th>\n",
       "      <th>wins</th>\n",
       "    </tr>\n",
       "  </thead>\n",
       "  <tbody>\n",
       "    <tr>\n",
       "      <th>0</th>\n",
       "      <td>1</td>\n",
       "      <td>18</td>\n",
       "      <td>1</td>\n",
       "      <td>10.0</td>\n",
       "      <td>1</td>\n",
       "      <td>1</td>\n",
       "      <td>1</td>\n",
       "    </tr>\n",
       "    <tr>\n",
       "      <th>1</th>\n",
       "      <td>2</td>\n",
       "      <td>18</td>\n",
       "      <td>2</td>\n",
       "      <td>8.0</td>\n",
       "      <td>2</td>\n",
       "      <td>2</td>\n",
       "      <td>0</td>\n",
       "    </tr>\n",
       "    <tr>\n",
       "      <th>2</th>\n",
       "      <td>3</td>\n",
       "      <td>18</td>\n",
       "      <td>3</td>\n",
       "      <td>6.0</td>\n",
       "      <td>3</td>\n",
       "      <td>3</td>\n",
       "      <td>0</td>\n",
       "    </tr>\n",
       "    <tr>\n",
       "      <th>3</th>\n",
       "      <td>4</td>\n",
       "      <td>18</td>\n",
       "      <td>4</td>\n",
       "      <td>5.0</td>\n",
       "      <td>4</td>\n",
       "      <td>4</td>\n",
       "      <td>0</td>\n",
       "    </tr>\n",
       "    <tr>\n",
       "      <th>4</th>\n",
       "      <td>5</td>\n",
       "      <td>18</td>\n",
       "      <td>5</td>\n",
       "      <td>4.0</td>\n",
       "      <td>5</td>\n",
       "      <td>5</td>\n",
       "      <td>0</td>\n",
       "    </tr>\n",
       "  </tbody>\n",
       "</table>\n",
       "</div>"
      ],
      "text/plain": [
       "   driverStandingsId  raceId  driverId  points  position positionText  wins\n",
       "0                  1      18         1    10.0         1            1     1\n",
       "1                  2      18         2     8.0         2            2     0\n",
       "2                  3      18         3     6.0         3            3     0\n",
       "3                  4      18         4     5.0         4            4     0\n",
       "4                  5      18         5     4.0         5            5     0"
      ]
     },
     "metadata": {},
     "output_type": "display_data"
    },
    {
     "data": {
      "text/html": [
       "<div>\n",
       "<style scoped>\n",
       "    .dataframe tbody tr th:only-of-type {\n",
       "        vertical-align: middle;\n",
       "    }\n",
       "\n",
       "    .dataframe tbody tr th {\n",
       "        vertical-align: top;\n",
       "    }\n",
       "\n",
       "    .dataframe thead th {\n",
       "        text-align: right;\n",
       "    }\n",
       "</style>\n",
       "<table border=\"1\" class=\"dataframe\">\n",
       "  <thead>\n",
       "    <tr style=\"text-align: right;\">\n",
       "      <th></th>\n",
       "      <th>driverId</th>\n",
       "      <th>driverRef</th>\n",
       "      <th>number</th>\n",
       "      <th>code</th>\n",
       "      <th>dob</th>\n",
       "      <th>nationality</th>\n",
       "      <th>Name</th>\n",
       "    </tr>\n",
       "  </thead>\n",
       "  <tbody>\n",
       "    <tr>\n",
       "      <th>0</th>\n",
       "      <td>1</td>\n",
       "      <td>hamilton</td>\n",
       "      <td>44</td>\n",
       "      <td>HAM</td>\n",
       "      <td>1985-01-07</td>\n",
       "      <td>British</td>\n",
       "      <td>Lewis Hamilton</td>\n",
       "    </tr>\n",
       "    <tr>\n",
       "      <th>1</th>\n",
       "      <td>2</td>\n",
       "      <td>heidfeld</td>\n",
       "      <td>\\N</td>\n",
       "      <td>HEI</td>\n",
       "      <td>1977-05-10</td>\n",
       "      <td>German</td>\n",
       "      <td>Nick Heidfeld</td>\n",
       "    </tr>\n",
       "    <tr>\n",
       "      <th>2</th>\n",
       "      <td>3</td>\n",
       "      <td>rosberg</td>\n",
       "      <td>6</td>\n",
       "      <td>ROS</td>\n",
       "      <td>1985-06-27</td>\n",
       "      <td>German</td>\n",
       "      <td>Nico Rosberg</td>\n",
       "    </tr>\n",
       "    <tr>\n",
       "      <th>3</th>\n",
       "      <td>4</td>\n",
       "      <td>alonso</td>\n",
       "      <td>14</td>\n",
       "      <td>ALO</td>\n",
       "      <td>1981-07-29</td>\n",
       "      <td>Spanish</td>\n",
       "      <td>Fernando Alonso</td>\n",
       "    </tr>\n",
       "    <tr>\n",
       "      <th>4</th>\n",
       "      <td>5</td>\n",
       "      <td>kovalainen</td>\n",
       "      <td>\\N</td>\n",
       "      <td>KOV</td>\n",
       "      <td>1981-10-19</td>\n",
       "      <td>Finnish</td>\n",
       "      <td>Heikki Kovalainen</td>\n",
       "    </tr>\n",
       "  </tbody>\n",
       "</table>\n",
       "</div>"
      ],
      "text/plain": [
       "   driverId   driverRef number code        dob nationality               Name\n",
       "0         1    hamilton     44  HAM 1985-01-07     British     Lewis Hamilton\n",
       "1         2    heidfeld     \\N  HEI 1977-05-10      German      Nick Heidfeld\n",
       "2         3     rosberg      6  ROS 1985-06-27      German       Nico Rosberg\n",
       "3         4      alonso     14  ALO 1981-07-29     Spanish    Fernando Alonso\n",
       "4         5  kovalainen     \\N  KOV 1981-10-19     Finnish  Heikki Kovalainen"
      ]
     },
     "metadata": {},
     "output_type": "display_data"
    },
    {
     "data": {
      "text/html": [
       "<div>\n",
       "<style scoped>\n",
       "    .dataframe tbody tr th:only-of-type {\n",
       "        vertical-align: middle;\n",
       "    }\n",
       "\n",
       "    .dataframe tbody tr th {\n",
       "        vertical-align: top;\n",
       "    }\n",
       "\n",
       "    .dataframe thead th {\n",
       "        text-align: right;\n",
       "    }\n",
       "</style>\n",
       "<table border=\"1\" class=\"dataframe\">\n",
       "  <thead>\n",
       "    <tr style=\"text-align: right;\">\n",
       "      <th></th>\n",
       "      <th>raceId</th>\n",
       "      <th>driverId</th>\n",
       "      <th>lap</th>\n",
       "      <th>position</th>\n",
       "      <th>time</th>\n",
       "      <th>milliseconds</th>\n",
       "    </tr>\n",
       "  </thead>\n",
       "  <tbody>\n",
       "    <tr>\n",
       "      <th>0</th>\n",
       "      <td>841</td>\n",
       "      <td>20</td>\n",
       "      <td>1</td>\n",
       "      <td>1</td>\n",
       "      <td>1:38.109</td>\n",
       "      <td>98109</td>\n",
       "    </tr>\n",
       "    <tr>\n",
       "      <th>1</th>\n",
       "      <td>841</td>\n",
       "      <td>20</td>\n",
       "      <td>2</td>\n",
       "      <td>1</td>\n",
       "      <td>1:33.006</td>\n",
       "      <td>93006</td>\n",
       "    </tr>\n",
       "    <tr>\n",
       "      <th>2</th>\n",
       "      <td>841</td>\n",
       "      <td>20</td>\n",
       "      <td>3</td>\n",
       "      <td>1</td>\n",
       "      <td>1:32.713</td>\n",
       "      <td>92713</td>\n",
       "    </tr>\n",
       "    <tr>\n",
       "      <th>3</th>\n",
       "      <td>841</td>\n",
       "      <td>20</td>\n",
       "      <td>4</td>\n",
       "      <td>1</td>\n",
       "      <td>1:32.803</td>\n",
       "      <td>92803</td>\n",
       "    </tr>\n",
       "    <tr>\n",
       "      <th>4</th>\n",
       "      <td>841</td>\n",
       "      <td>20</td>\n",
       "      <td>5</td>\n",
       "      <td>1</td>\n",
       "      <td>1:32.342</td>\n",
       "      <td>92342</td>\n",
       "    </tr>\n",
       "  </tbody>\n",
       "</table>\n",
       "</div>"
      ],
      "text/plain": [
       "   raceId  driverId  lap  position      time  milliseconds\n",
       "0     841        20    1         1  1:38.109         98109\n",
       "1     841        20    2         1  1:33.006         93006\n",
       "2     841        20    3         1  1:32.713         92713\n",
       "3     841        20    4         1  1:32.803         92803\n",
       "4     841        20    5         1  1:32.342         92342"
      ]
     },
     "metadata": {},
     "output_type": "display_data"
    },
    {
     "data": {
      "text/html": [
       "<div>\n",
       "<style scoped>\n",
       "    .dataframe tbody tr th:only-of-type {\n",
       "        vertical-align: middle;\n",
       "    }\n",
       "\n",
       "    .dataframe tbody tr th {\n",
       "        vertical-align: top;\n",
       "    }\n",
       "\n",
       "    .dataframe thead th {\n",
       "        text-align: right;\n",
       "    }\n",
       "</style>\n",
       "<table border=\"1\" class=\"dataframe\">\n",
       "  <thead>\n",
       "    <tr style=\"text-align: right;\">\n",
       "      <th></th>\n",
       "      <th>raceId</th>\n",
       "      <th>driverId</th>\n",
       "      <th>stop</th>\n",
       "      <th>lap</th>\n",
       "      <th>time</th>\n",
       "      <th>duration</th>\n",
       "      <th>milliseconds</th>\n",
       "    </tr>\n",
       "  </thead>\n",
       "  <tbody>\n",
       "    <tr>\n",
       "      <th>0</th>\n",
       "      <td>841</td>\n",
       "      <td>153</td>\n",
       "      <td>1</td>\n",
       "      <td>1</td>\n",
       "      <td>17:05:23</td>\n",
       "      <td>26.898</td>\n",
       "      <td>26898</td>\n",
       "    </tr>\n",
       "    <tr>\n",
       "      <th>1</th>\n",
       "      <td>841</td>\n",
       "      <td>30</td>\n",
       "      <td>1</td>\n",
       "      <td>1</td>\n",
       "      <td>17:05:52</td>\n",
       "      <td>25.021</td>\n",
       "      <td>25021</td>\n",
       "    </tr>\n",
       "    <tr>\n",
       "      <th>2</th>\n",
       "      <td>841</td>\n",
       "      <td>17</td>\n",
       "      <td>1</td>\n",
       "      <td>11</td>\n",
       "      <td>17:20:48</td>\n",
       "      <td>23.426</td>\n",
       "      <td>23426</td>\n",
       "    </tr>\n",
       "    <tr>\n",
       "      <th>3</th>\n",
       "      <td>841</td>\n",
       "      <td>4</td>\n",
       "      <td>1</td>\n",
       "      <td>12</td>\n",
       "      <td>17:22:34</td>\n",
       "      <td>23.251</td>\n",
       "      <td>23251</td>\n",
       "    </tr>\n",
       "    <tr>\n",
       "      <th>4</th>\n",
       "      <td>841</td>\n",
       "      <td>13</td>\n",
       "      <td>1</td>\n",
       "      <td>13</td>\n",
       "      <td>17:24:10</td>\n",
       "      <td>23.842</td>\n",
       "      <td>23842</td>\n",
       "    </tr>\n",
       "  </tbody>\n",
       "</table>\n",
       "</div>"
      ],
      "text/plain": [
       "   raceId  driverId  stop  lap      time duration  milliseconds\n",
       "0     841       153     1    1  17:05:23   26.898         26898\n",
       "1     841        30     1    1  17:05:52   25.021         25021\n",
       "2     841        17     1   11  17:20:48   23.426         23426\n",
       "3     841         4     1   12  17:22:34   23.251         23251\n",
       "4     841        13     1   13  17:24:10   23.842         23842"
      ]
     },
     "metadata": {},
     "output_type": "display_data"
    },
    {
     "data": {
      "text/html": [
       "<div>\n",
       "<style scoped>\n",
       "    .dataframe tbody tr th:only-of-type {\n",
       "        vertical-align: middle;\n",
       "    }\n",
       "\n",
       "    .dataframe tbody tr th {\n",
       "        vertical-align: top;\n",
       "    }\n",
       "\n",
       "    .dataframe thead th {\n",
       "        text-align: right;\n",
       "    }\n",
       "</style>\n",
       "<table border=\"1\" class=\"dataframe\">\n",
       "  <thead>\n",
       "    <tr style=\"text-align: right;\">\n",
       "      <th></th>\n",
       "      <th>qualifyId</th>\n",
       "      <th>raceId</th>\n",
       "      <th>driverId</th>\n",
       "      <th>constructorId</th>\n",
       "      <th>number</th>\n",
       "      <th>position</th>\n",
       "      <th>q1</th>\n",
       "      <th>q2</th>\n",
       "      <th>q3</th>\n",
       "    </tr>\n",
       "  </thead>\n",
       "  <tbody>\n",
       "    <tr>\n",
       "      <th>0</th>\n",
       "      <td>1</td>\n",
       "      <td>18</td>\n",
       "      <td>1</td>\n",
       "      <td>1</td>\n",
       "      <td>22</td>\n",
       "      <td>1</td>\n",
       "      <td>1:26.572</td>\n",
       "      <td>1:25.187</td>\n",
       "      <td>1:26.714</td>\n",
       "    </tr>\n",
       "    <tr>\n",
       "      <th>1</th>\n",
       "      <td>2</td>\n",
       "      <td>18</td>\n",
       "      <td>9</td>\n",
       "      <td>2</td>\n",
       "      <td>4</td>\n",
       "      <td>2</td>\n",
       "      <td>1:26.103</td>\n",
       "      <td>1:25.315</td>\n",
       "      <td>1:26.869</td>\n",
       "    </tr>\n",
       "    <tr>\n",
       "      <th>2</th>\n",
       "      <td>3</td>\n",
       "      <td>18</td>\n",
       "      <td>5</td>\n",
       "      <td>1</td>\n",
       "      <td>23</td>\n",
       "      <td>3</td>\n",
       "      <td>1:25.664</td>\n",
       "      <td>1:25.452</td>\n",
       "      <td>1:27.079</td>\n",
       "    </tr>\n",
       "    <tr>\n",
       "      <th>3</th>\n",
       "      <td>4</td>\n",
       "      <td>18</td>\n",
       "      <td>13</td>\n",
       "      <td>6</td>\n",
       "      <td>2</td>\n",
       "      <td>4</td>\n",
       "      <td>1:25.994</td>\n",
       "      <td>1:25.691</td>\n",
       "      <td>1:27.178</td>\n",
       "    </tr>\n",
       "    <tr>\n",
       "      <th>4</th>\n",
       "      <td>5</td>\n",
       "      <td>18</td>\n",
       "      <td>2</td>\n",
       "      <td>2</td>\n",
       "      <td>3</td>\n",
       "      <td>5</td>\n",
       "      <td>1:25.960</td>\n",
       "      <td>1:25.518</td>\n",
       "      <td>1:27.236</td>\n",
       "    </tr>\n",
       "  </tbody>\n",
       "</table>\n",
       "</div>"
      ],
      "text/plain": [
       "   qualifyId  raceId  driverId  constructorId  number  position        q1  \\\n",
       "0          1      18         1              1      22         1  1:26.572   \n",
       "1          2      18         9              2       4         2  1:26.103   \n",
       "2          3      18         5              1      23         3  1:25.664   \n",
       "3          4      18        13              6       2         4  1:25.994   \n",
       "4          5      18         2              2       3         5  1:25.960   \n",
       "\n",
       "         q2        q3  \n",
       "0  1:25.187  1:26.714  \n",
       "1  1:25.315  1:26.869  \n",
       "2  1:25.452  1:27.079  \n",
       "3  1:25.691  1:27.178  \n",
       "4  1:25.518  1:27.236  "
      ]
     },
     "metadata": {},
     "output_type": "display_data"
    },
    {
     "data": {
      "text/html": [
       "<div>\n",
       "<style scoped>\n",
       "    .dataframe tbody tr th:only-of-type {\n",
       "        vertical-align: middle;\n",
       "    }\n",
       "\n",
       "    .dataframe tbody tr th {\n",
       "        vertical-align: top;\n",
       "    }\n",
       "\n",
       "    .dataframe thead th {\n",
       "        text-align: right;\n",
       "    }\n",
       "</style>\n",
       "<table border=\"1\" class=\"dataframe\">\n",
       "  <thead>\n",
       "    <tr style=\"text-align: right;\">\n",
       "      <th></th>\n",
       "      <th>raceId</th>\n",
       "      <th>year</th>\n",
       "      <th>round</th>\n",
       "      <th>circuitId</th>\n",
       "      <th>name</th>\n",
       "      <th>date</th>\n",
       "      <th>time</th>\n",
       "    </tr>\n",
       "  </thead>\n",
       "  <tbody>\n",
       "    <tr>\n",
       "      <th>0</th>\n",
       "      <td>1</td>\n",
       "      <td>2009</td>\n",
       "      <td>1</td>\n",
       "      <td>1</td>\n",
       "      <td>Australian Grand Prix</td>\n",
       "      <td>2009-03-29</td>\n",
       "      <td>06:00:00</td>\n",
       "    </tr>\n",
       "    <tr>\n",
       "      <th>1</th>\n",
       "      <td>2</td>\n",
       "      <td>2009</td>\n",
       "      <td>2</td>\n",
       "      <td>2</td>\n",
       "      <td>Malaysian Grand Prix</td>\n",
       "      <td>2009-04-05</td>\n",
       "      <td>09:00:00</td>\n",
       "    </tr>\n",
       "    <tr>\n",
       "      <th>2</th>\n",
       "      <td>3</td>\n",
       "      <td>2009</td>\n",
       "      <td>3</td>\n",
       "      <td>17</td>\n",
       "      <td>Chinese Grand Prix</td>\n",
       "      <td>2009-04-19</td>\n",
       "      <td>07:00:00</td>\n",
       "    </tr>\n",
       "    <tr>\n",
       "      <th>3</th>\n",
       "      <td>4</td>\n",
       "      <td>2009</td>\n",
       "      <td>4</td>\n",
       "      <td>3</td>\n",
       "      <td>Bahrain Grand Prix</td>\n",
       "      <td>2009-04-26</td>\n",
       "      <td>12:00:00</td>\n",
       "    </tr>\n",
       "    <tr>\n",
       "      <th>4</th>\n",
       "      <td>5</td>\n",
       "      <td>2009</td>\n",
       "      <td>5</td>\n",
       "      <td>4</td>\n",
       "      <td>Spanish Grand Prix</td>\n",
       "      <td>2009-05-10</td>\n",
       "      <td>12:00:00</td>\n",
       "    </tr>\n",
       "  </tbody>\n",
       "</table>\n",
       "</div>"
      ],
      "text/plain": [
       "   raceId  year  round  circuitId                   name       date      time\n",
       "0       1  2009      1          1  Australian Grand Prix 2009-03-29  06:00:00\n",
       "1       2  2009      2          2   Malaysian Grand Prix 2009-04-05  09:00:00\n",
       "2       3  2009      3         17     Chinese Grand Prix 2009-04-19  07:00:00\n",
       "3       4  2009      4          3     Bahrain Grand Prix 2009-04-26  12:00:00\n",
       "4       5  2009      5          4     Spanish Grand Prix 2009-05-10  12:00:00"
      ]
     },
     "metadata": {},
     "output_type": "display_data"
    },
    {
     "data": {
      "text/html": [
       "<div>\n",
       "<style scoped>\n",
       "    .dataframe tbody tr th:only-of-type {\n",
       "        vertical-align: middle;\n",
       "    }\n",
       "\n",
       "    .dataframe tbody tr th {\n",
       "        vertical-align: top;\n",
       "    }\n",
       "\n",
       "    .dataframe thead th {\n",
       "        text-align: right;\n",
       "    }\n",
       "</style>\n",
       "<table border=\"1\" class=\"dataframe\">\n",
       "  <thead>\n",
       "    <tr style=\"text-align: right;\">\n",
       "      <th></th>\n",
       "      <th>resultId</th>\n",
       "      <th>raceId</th>\n",
       "      <th>driverId</th>\n",
       "      <th>constructorId</th>\n",
       "      <th>number</th>\n",
       "      <th>grid</th>\n",
       "      <th>position</th>\n",
       "      <th>positionText</th>\n",
       "      <th>positionOrder</th>\n",
       "      <th>points</th>\n",
       "      <th>laps</th>\n",
       "      <th>time</th>\n",
       "      <th>milliseconds</th>\n",
       "      <th>fastestLap</th>\n",
       "      <th>rank</th>\n",
       "      <th>fastestLapTime</th>\n",
       "      <th>fastestLapSpeed</th>\n",
       "      <th>statusId</th>\n",
       "    </tr>\n",
       "  </thead>\n",
       "  <tbody>\n",
       "    <tr>\n",
       "      <th>0</th>\n",
       "      <td>1</td>\n",
       "      <td>18</td>\n",
       "      <td>1</td>\n",
       "      <td>1</td>\n",
       "      <td>22</td>\n",
       "      <td>1</td>\n",
       "      <td>1</td>\n",
       "      <td>1</td>\n",
       "      <td>1</td>\n",
       "      <td>10.0</td>\n",
       "      <td>58</td>\n",
       "      <td>1:34:50.616</td>\n",
       "      <td>5690616</td>\n",
       "      <td>39</td>\n",
       "      <td>2</td>\n",
       "      <td>1:27.452</td>\n",
       "      <td>218.300</td>\n",
       "      <td>1</td>\n",
       "    </tr>\n",
       "    <tr>\n",
       "      <th>1</th>\n",
       "      <td>2</td>\n",
       "      <td>18</td>\n",
       "      <td>2</td>\n",
       "      <td>2</td>\n",
       "      <td>3</td>\n",
       "      <td>5</td>\n",
       "      <td>2</td>\n",
       "      <td>2</td>\n",
       "      <td>2</td>\n",
       "      <td>8.0</td>\n",
       "      <td>58</td>\n",
       "      <td>+5.478</td>\n",
       "      <td>5696094</td>\n",
       "      <td>41</td>\n",
       "      <td>3</td>\n",
       "      <td>1:27.739</td>\n",
       "      <td>217.586</td>\n",
       "      <td>1</td>\n",
       "    </tr>\n",
       "    <tr>\n",
       "      <th>2</th>\n",
       "      <td>3</td>\n",
       "      <td>18</td>\n",
       "      <td>3</td>\n",
       "      <td>3</td>\n",
       "      <td>7</td>\n",
       "      <td>7</td>\n",
       "      <td>3</td>\n",
       "      <td>3</td>\n",
       "      <td>3</td>\n",
       "      <td>6.0</td>\n",
       "      <td>58</td>\n",
       "      <td>+8.163</td>\n",
       "      <td>5698779</td>\n",
       "      <td>41</td>\n",
       "      <td>5</td>\n",
       "      <td>1:28.090</td>\n",
       "      <td>216.719</td>\n",
       "      <td>1</td>\n",
       "    </tr>\n",
       "    <tr>\n",
       "      <th>3</th>\n",
       "      <td>4</td>\n",
       "      <td>18</td>\n",
       "      <td>4</td>\n",
       "      <td>4</td>\n",
       "      <td>5</td>\n",
       "      <td>11</td>\n",
       "      <td>4</td>\n",
       "      <td>4</td>\n",
       "      <td>4</td>\n",
       "      <td>5.0</td>\n",
       "      <td>58</td>\n",
       "      <td>+17.181</td>\n",
       "      <td>5707797</td>\n",
       "      <td>58</td>\n",
       "      <td>7</td>\n",
       "      <td>1:28.603</td>\n",
       "      <td>215.464</td>\n",
       "      <td>1</td>\n",
       "    </tr>\n",
       "    <tr>\n",
       "      <th>4</th>\n",
       "      <td>5</td>\n",
       "      <td>18</td>\n",
       "      <td>5</td>\n",
       "      <td>1</td>\n",
       "      <td>23</td>\n",
       "      <td>3</td>\n",
       "      <td>5</td>\n",
       "      <td>5</td>\n",
       "      <td>5</td>\n",
       "      <td>4.0</td>\n",
       "      <td>58</td>\n",
       "      <td>+18.014</td>\n",
       "      <td>5708630</td>\n",
       "      <td>43</td>\n",
       "      <td>1</td>\n",
       "      <td>1:27.418</td>\n",
       "      <td>218.385</td>\n",
       "      <td>1</td>\n",
       "    </tr>\n",
       "  </tbody>\n",
       "</table>\n",
       "</div>"
      ],
      "text/plain": [
       "   resultId  raceId  driverId  constructorId number  grid position  \\\n",
       "0         1      18         1              1     22     1        1   \n",
       "1         2      18         2              2      3     5        2   \n",
       "2         3      18         3              3      7     7        3   \n",
       "3         4      18         4              4      5    11        4   \n",
       "4         5      18         5              1     23     3        5   \n",
       "\n",
       "  positionText  positionOrder  points  laps         time milliseconds  \\\n",
       "0            1              1    10.0    58  1:34:50.616      5690616   \n",
       "1            2              2     8.0    58       +5.478      5696094   \n",
       "2            3              3     6.0    58       +8.163      5698779   \n",
       "3            4              4     5.0    58      +17.181      5707797   \n",
       "4            5              5     4.0    58      +18.014      5708630   \n",
       "\n",
       "  fastestLap rank fastestLapTime fastestLapSpeed  statusId  \n",
       "0         39    2       1:27.452         218.300         1  \n",
       "1         41    3       1:27.739         217.586         1  \n",
       "2         41    5       1:28.090         216.719         1  \n",
       "3         58    7       1:28.603         215.464         1  \n",
       "4         43    1       1:27.418         218.385         1  "
      ]
     },
     "metadata": {},
     "output_type": "display_data"
    },
    {
     "data": {
      "text/html": [
       "<div>\n",
       "<style scoped>\n",
       "    .dataframe tbody tr th:only-of-type {\n",
       "        vertical-align: middle;\n",
       "    }\n",
       "\n",
       "    .dataframe tbody tr th {\n",
       "        vertical-align: top;\n",
       "    }\n",
       "\n",
       "    .dataframe thead th {\n",
       "        text-align: right;\n",
       "    }\n",
       "</style>\n",
       "<table border=\"1\" class=\"dataframe\">\n",
       "  <thead>\n",
       "    <tr style=\"text-align: right;\">\n",
       "      <th></th>\n",
       "      <th>year</th>\n",
       "    </tr>\n",
       "  </thead>\n",
       "  <tbody>\n",
       "    <tr>\n",
       "      <th>0</th>\n",
       "      <td>2009</td>\n",
       "    </tr>\n",
       "    <tr>\n",
       "      <th>1</th>\n",
       "      <td>2008</td>\n",
       "    </tr>\n",
       "    <tr>\n",
       "      <th>2</th>\n",
       "      <td>2007</td>\n",
       "    </tr>\n",
       "    <tr>\n",
       "      <th>3</th>\n",
       "      <td>2006</td>\n",
       "    </tr>\n",
       "    <tr>\n",
       "      <th>4</th>\n",
       "      <td>2005</td>\n",
       "    </tr>\n",
       "  </tbody>\n",
       "</table>\n",
       "</div>"
      ],
      "text/plain": [
       "   year\n",
       "0  2009\n",
       "1  2008\n",
       "2  2007\n",
       "3  2006\n",
       "4  2005"
      ]
     },
     "metadata": {},
     "output_type": "display_data"
    },
    {
     "data": {
      "text/html": [
       "<div>\n",
       "<style scoped>\n",
       "    .dataframe tbody tr th:only-of-type {\n",
       "        vertical-align: middle;\n",
       "    }\n",
       "\n",
       "    .dataframe tbody tr th {\n",
       "        vertical-align: top;\n",
       "    }\n",
       "\n",
       "    .dataframe thead th {\n",
       "        text-align: right;\n",
       "    }\n",
       "</style>\n",
       "<table border=\"1\" class=\"dataframe\">\n",
       "  <thead>\n",
       "    <tr style=\"text-align: right;\">\n",
       "      <th></th>\n",
       "      <th>resultId</th>\n",
       "      <th>raceId</th>\n",
       "      <th>driverId</th>\n",
       "      <th>constructorId</th>\n",
       "      <th>number</th>\n",
       "      <th>grid</th>\n",
       "      <th>position</th>\n",
       "      <th>positionText</th>\n",
       "      <th>positionOrder</th>\n",
       "      <th>points</th>\n",
       "      <th>laps</th>\n",
       "      <th>time</th>\n",
       "      <th>milliseconds</th>\n",
       "      <th>fastestLap</th>\n",
       "      <th>fastestLapTime</th>\n",
       "      <th>statusId</th>\n",
       "    </tr>\n",
       "  </thead>\n",
       "  <tbody>\n",
       "    <tr>\n",
       "      <th>0</th>\n",
       "      <td>1</td>\n",
       "      <td>1061</td>\n",
       "      <td>830</td>\n",
       "      <td>9</td>\n",
       "      <td>33</td>\n",
       "      <td>2</td>\n",
       "      <td>1</td>\n",
       "      <td>1</td>\n",
       "      <td>1</td>\n",
       "      <td>3</td>\n",
       "      <td>17</td>\n",
       "      <td>25:38.426</td>\n",
       "      <td>1538426</td>\n",
       "      <td>14</td>\n",
       "      <td>1:30.013</td>\n",
       "      <td>1</td>\n",
       "    </tr>\n",
       "    <tr>\n",
       "      <th>1</th>\n",
       "      <td>2</td>\n",
       "      <td>1061</td>\n",
       "      <td>1</td>\n",
       "      <td>131</td>\n",
       "      <td>44</td>\n",
       "      <td>1</td>\n",
       "      <td>2</td>\n",
       "      <td>2</td>\n",
       "      <td>2</td>\n",
       "      <td>2</td>\n",
       "      <td>17</td>\n",
       "      <td>+1.430</td>\n",
       "      <td>1539856</td>\n",
       "      <td>17</td>\n",
       "      <td>1:29.937</td>\n",
       "      <td>1</td>\n",
       "    </tr>\n",
       "    <tr>\n",
       "      <th>2</th>\n",
       "      <td>3</td>\n",
       "      <td>1061</td>\n",
       "      <td>822</td>\n",
       "      <td>131</td>\n",
       "      <td>77</td>\n",
       "      <td>3</td>\n",
       "      <td>3</td>\n",
       "      <td>3</td>\n",
       "      <td>3</td>\n",
       "      <td>1</td>\n",
       "      <td>17</td>\n",
       "      <td>+7.502</td>\n",
       "      <td>1545928</td>\n",
       "      <td>17</td>\n",
       "      <td>1:29.958</td>\n",
       "      <td>1</td>\n",
       "    </tr>\n",
       "    <tr>\n",
       "      <th>3</th>\n",
       "      <td>4</td>\n",
       "      <td>1061</td>\n",
       "      <td>844</td>\n",
       "      <td>6</td>\n",
       "      <td>16</td>\n",
       "      <td>4</td>\n",
       "      <td>4</td>\n",
       "      <td>4</td>\n",
       "      <td>4</td>\n",
       "      <td>0</td>\n",
       "      <td>17</td>\n",
       "      <td>+11.278</td>\n",
       "      <td>1549704</td>\n",
       "      <td>16</td>\n",
       "      <td>1:30.163</td>\n",
       "      <td>1</td>\n",
       "    </tr>\n",
       "    <tr>\n",
       "      <th>4</th>\n",
       "      <td>5</td>\n",
       "      <td>1061</td>\n",
       "      <td>846</td>\n",
       "      <td>1</td>\n",
       "      <td>4</td>\n",
       "      <td>6</td>\n",
       "      <td>5</td>\n",
       "      <td>5</td>\n",
       "      <td>5</td>\n",
       "      <td>0</td>\n",
       "      <td>17</td>\n",
       "      <td>+24.111</td>\n",
       "      <td>1562537</td>\n",
       "      <td>16</td>\n",
       "      <td>1:30.566</td>\n",
       "      <td>1</td>\n",
       "    </tr>\n",
       "  </tbody>\n",
       "</table>\n",
       "</div>"
      ],
      "text/plain": [
       "   resultId  raceId  driverId  constructorId  number  grid position  \\\n",
       "0         1    1061       830              9      33     2        1   \n",
       "1         2    1061         1            131      44     1        2   \n",
       "2         3    1061       822            131      77     3        3   \n",
       "3         4    1061       844              6      16     4        4   \n",
       "4         5    1061       846              1       4     6        5   \n",
       "\n",
       "  positionText  positionOrder  points  laps       time milliseconds  \\\n",
       "0            1              1       3    17  25:38.426      1538426   \n",
       "1            2              2       2    17     +1.430      1539856   \n",
       "2            3              3       1    17     +7.502      1545928   \n",
       "3            4              4       0    17    +11.278      1549704   \n",
       "4            5              5       0    17    +24.111      1562537   \n",
       "\n",
       "  fastestLap fastestLapTime  statusId  \n",
       "0         14       1:30.013         1  \n",
       "1         17       1:29.937         1  \n",
       "2         17       1:29.958         1  \n",
       "3         16       1:30.163         1  \n",
       "4         16       1:30.566         1  "
      ]
     },
     "metadata": {},
     "output_type": "display_data"
    },
    {
     "data": {
      "text/html": [
       "<div>\n",
       "<style scoped>\n",
       "    .dataframe tbody tr th:only-of-type {\n",
       "        vertical-align: middle;\n",
       "    }\n",
       "\n",
       "    .dataframe tbody tr th {\n",
       "        vertical-align: top;\n",
       "    }\n",
       "\n",
       "    .dataframe thead th {\n",
       "        text-align: right;\n",
       "    }\n",
       "</style>\n",
       "<table border=\"1\" class=\"dataframe\">\n",
       "  <thead>\n",
       "    <tr style=\"text-align: right;\">\n",
       "      <th></th>\n",
       "      <th>statusId</th>\n",
       "      <th>status</th>\n",
       "    </tr>\n",
       "  </thead>\n",
       "  <tbody>\n",
       "    <tr>\n",
       "      <th>0</th>\n",
       "      <td>1</td>\n",
       "      <td>Finished</td>\n",
       "    </tr>\n",
       "    <tr>\n",
       "      <th>1</th>\n",
       "      <td>2</td>\n",
       "      <td>Disqualified</td>\n",
       "    </tr>\n",
       "    <tr>\n",
       "      <th>2</th>\n",
       "      <td>3</td>\n",
       "      <td>Accident</td>\n",
       "    </tr>\n",
       "    <tr>\n",
       "      <th>3</th>\n",
       "      <td>4</td>\n",
       "      <td>Collision</td>\n",
       "    </tr>\n",
       "    <tr>\n",
       "      <th>4</th>\n",
       "      <td>5</td>\n",
       "      <td>Engine</td>\n",
       "    </tr>\n",
       "  </tbody>\n",
       "</table>\n",
       "</div>"
      ],
      "text/plain": [
       "   statusId        status\n",
       "0         1      Finished\n",
       "1         2  Disqualified\n",
       "2         3      Accident\n",
       "3         4     Collision\n",
       "4         5        Engine"
      ]
     },
     "metadata": {},
     "output_type": "display_data"
    }
   ],
   "source": [
    "display(circuits.head())\n",
    "display(constructor_results.head())\n",
    "display(constructor_standings.head())\n",
    "display(constructors.head())\n",
    "display(driver_standings.head())\n",
    "display(drivers.head())\n",
    "display(lap_times.head())\n",
    "display(pit_stops.head())\n",
    "display(qualifying.head())\n",
    "display(races.head())\n",
    "display(results.head())\n",
    "display(seasons.head())\n",
    "display(sprint_results.head())\n",
    "display(status.head())"
   ]
  },
  {
   "cell_type": "code",
   "execution_count": 13,
   "metadata": {},
   "outputs": [],
   "source": [
    "from sqlalchemy import MetaData, create_engine, Column, Integer, String, Float, ForeignKey\n",
    "from sqlalchemy.orm import declarative_base\n",
    "from sqlalchemy.orm import sessionmaker, relationship\n",
    "from sqlalchemy import text"
   ]
  },
  {
   "cell_type": "code",
   "execution_count": 14,
   "metadata": {},
   "outputs": [],
   "source": [
    "metadata =MetaData()"
   ]
  },
  {
   "cell_type": "code",
   "execution_count": 15,
   "metadata": {},
   "outputs": [],
   "source": [
    "# Define the SQLite database\n",
    "engine = create_engine('sqlite:///f1_data.db')\n",
    "Base = declarative_base()"
   ]
  },
  {
   "cell_type": "code",
   "execution_count": 49,
   "metadata": {},
   "outputs": [
    {
     "data": {
      "text/plain": [
       "75"
      ]
     },
     "execution_count": 49,
     "metadata": {},
     "output_type": "execute_result"
    }
   ],
   "source": [
    "# pushing dataframe into sql tables\n",
    "circuits.to_sql('circuits', engine, index= False, if_exists= 'replace')\n",
    "drivers.to_sql('drivers', engine, index= False, if_exists= 'replace')\n",
    "driver_standings.to_sql('driver_standings', engine, index= False, if_exists= 'replace')\n",
    "constructor_results.to_sql('constructor_results', engine, index= False, if_exists= 'replace')\n",
    "constructor_standings.to_sql('constructor_standings', engine, index= False, if_exists= 'replace')\n",
    "constructors.to_sql('constructors', engine, index= False, if_exists= 'replace')\n",
    "races.to_sql('races', engine, index= False, if_exists= 'replace')\n",
    "lap_times.to_sql('lap_times', engine, index= False, if_exists= 'replace')\n",
    "pit_stops.to_sql('pit_stops', engine, index= False, if_exists= 'replace')\n",
    "qualifying.to_sql('qualifying', engine, index = False, if_exists= 'replace')\n",
    "status.to_sql('status', engine, index = False, if_exists= 'replace')\n",
    "results.to_sql('results', engine, index = False, if_exists= 'replace')\n",
    "sprint_results.to_sql('sprint_results', engine, index = False, if_exists= 'replace')\n",
    "seasons.to_sql('seasons', engine, index = False, if_exists= 'replace')"
   ]
  },
  {
   "cell_type": "markdown",
   "metadata": {},
   "source": [
    "#### **Circuits Distribution and Occurence**"
   ]
  },
  {
   "cell_type": "code",
   "execution_count": 55,
   "metadata": {},
   "outputs": [],
   "source": [
    "#renaming column in races table\n",
    "with engine.connect() as connection:\n",
    "    connection.execute(text(\"\"\"ALTER TABLE races\n",
    "                               RENAME COLUMN name TO Grand_Prix\n",
    "                            \"\"\"))"
   ]
  },
  {
   "cell_type": "code",
   "execution_count": 56,
   "metadata": {},
   "outputs": [],
   "source": [
    "#query to find distinct circuits name and grand prix name and returing it into Circuit_df dataframe.\n",
    "query = \"\"\"\n",
    "        SELECT DISTINCT circuits.name, circuits.country, \n",
    "        FIRST_VALUE(races.Grand_Prix) OVER (PARTITION BY circuits.circuitId ORDER BY races.year) AS grand_prix, \n",
    "        circuits.lat, circuits.lng, COUNT(races.year) as occurence\n",
    "        FROM circuits\n",
    "        JOIN races ON circuits.circuitId = races.circuitId\n",
    "        GROUP BY circuits.name, circuits.country\n",
    "        \"\"\"\n",
    "Circuit_df = pd.read_sql(query, engine)"
   ]
  },
  {
   "cell_type": "code",
   "execution_count": 57,
   "metadata": {},
   "outputs": [
    {
     "data": {
      "text/html": [
       "<div>\n",
       "<style scoped>\n",
       "    .dataframe tbody tr th:only-of-type {\n",
       "        vertical-align: middle;\n",
       "    }\n",
       "\n",
       "    .dataframe tbody tr th {\n",
       "        vertical-align: top;\n",
       "    }\n",
       "\n",
       "    .dataframe thead th {\n",
       "        text-align: right;\n",
       "    }\n",
       "</style>\n",
       "<table border=\"1\" class=\"dataframe\">\n",
       "  <thead>\n",
       "    <tr style=\"text-align: right;\">\n",
       "      <th></th>\n",
       "      <th>name</th>\n",
       "      <th>country</th>\n",
       "      <th>grand_prix</th>\n",
       "      <th>lat</th>\n",
       "      <th>lng</th>\n",
       "      <th>occurence</th>\n",
       "    </tr>\n",
       "  </thead>\n",
       "  <tbody>\n",
       "    <tr>\n",
       "      <th>13</th>\n",
       "      <td>Autodromo Nazionale di Monza</td>\n",
       "      <td>Italy</td>\n",
       "      <td>Italian Grand Prix</td>\n",
       "      <td>45.6156</td>\n",
       "      <td>9.28111</td>\n",
       "      <td>74</td>\n",
       "    </tr>\n",
       "    <tr>\n",
       "      <th>5</th>\n",
       "      <td>Circuit de Monaco</td>\n",
       "      <td>Monaco</td>\n",
       "      <td>Monaco Grand Prix</td>\n",
       "      <td>43.7347</td>\n",
       "      <td>7.42056</td>\n",
       "      <td>70</td>\n",
       "    </tr>\n",
       "    <tr>\n",
       "      <th>8</th>\n",
       "      <td>Silverstone Circuit</td>\n",
       "      <td>UK</td>\n",
       "      <td>British Grand Prix</td>\n",
       "      <td>52.0786</td>\n",
       "      <td>-1.01694</td>\n",
       "      <td>59</td>\n",
       "    </tr>\n",
       "    <tr>\n",
       "      <th>12</th>\n",
       "      <td>Circuit de Spa-Francorchamps</td>\n",
       "      <td>Belgium</td>\n",
       "      <td>Belgian Grand Prix</td>\n",
       "      <td>50.4372</td>\n",
       "      <td>5.97139</td>\n",
       "      <td>57</td>\n",
       "    </tr>\n",
       "    <tr>\n",
       "      <th>6</th>\n",
       "      <td>Circuit Gilles Villeneuve</td>\n",
       "      <td>Canada</td>\n",
       "      <td>Canadian Grand Prix</td>\n",
       "      <td>45.5000</td>\n",
       "      <td>-73.52280</td>\n",
       "      <td>43</td>\n",
       "    </tr>\n",
       "    <tr>\n",
       "      <th>...</th>\n",
       "      <td>...</td>\n",
       "      <td>...</td>\n",
       "      <td>...</td>\n",
       "      <td>...</td>\n",
       "      <td>...</td>\n",
       "      <td>...</td>\n",
       "    </tr>\n",
       "    <tr>\n",
       "      <th>55</th>\n",
       "      <td>Zeltweg</td>\n",
       "      <td>Austria</td>\n",
       "      <td>Austrian Grand Prix</td>\n",
       "      <td>47.2039</td>\n",
       "      <td>14.74780</td>\n",
       "      <td>1</td>\n",
       "    </tr>\n",
       "    <tr>\n",
       "      <th>62</th>\n",
       "      <td>Ain Diab</td>\n",
       "      <td>Morocco</td>\n",
       "      <td>Moroccan Grand Prix</td>\n",
       "      <td>33.5786</td>\n",
       "      <td>-7.68750</td>\n",
       "      <td>1</td>\n",
       "    </tr>\n",
       "    <tr>\n",
       "      <th>61</th>\n",
       "      <td>Sebring International Raceway</td>\n",
       "      <td>USA</td>\n",
       "      <td>United States Grand Prix</td>\n",
       "      <td>27.4547</td>\n",
       "      <td>-81.34830</td>\n",
       "      <td>1</td>\n",
       "    </tr>\n",
       "    <tr>\n",
       "      <th>63</th>\n",
       "      <td>Pescara Circuit</td>\n",
       "      <td>Italy</td>\n",
       "      <td>Pescara Grand Prix</td>\n",
       "      <td>42.4750</td>\n",
       "      <td>14.15080</td>\n",
       "      <td>1</td>\n",
       "    </tr>\n",
       "    <tr>\n",
       "      <th>72</th>\n",
       "      <td>Autodromo Internazionale del Mugello</td>\n",
       "      <td>Italy</td>\n",
       "      <td>Tuscan Grand Prix</td>\n",
       "      <td>43.9975</td>\n",
       "      <td>11.37190</td>\n",
       "      <td>1</td>\n",
       "    </tr>\n",
       "  </tbody>\n",
       "</table>\n",
       "<p>77 rows × 6 columns</p>\n",
       "</div>"
      ],
      "text/plain": [
       "                                    name  country                grand_prix  \\\n",
       "13          Autodromo Nazionale di Monza    Italy        Italian Grand Prix   \n",
       "5                      Circuit de Monaco   Monaco         Monaco Grand Prix   \n",
       "8                    Silverstone Circuit       UK        British Grand Prix   \n",
       "12          Circuit de Spa-Francorchamps  Belgium        Belgian Grand Prix   \n",
       "6              Circuit Gilles Villeneuve   Canada       Canadian Grand Prix   \n",
       "..                                   ...      ...                       ...   \n",
       "55                               Zeltweg  Austria       Austrian Grand Prix   \n",
       "62                              Ain Diab  Morocco       Moroccan Grand Prix   \n",
       "61         Sebring International Raceway      USA  United States Grand Prix   \n",
       "63                       Pescara Circuit    Italy        Pescara Grand Prix   \n",
       "72  Autodromo Internazionale del Mugello    Italy         Tuscan Grand Prix   \n",
       "\n",
       "        lat       lng  occurence  \n",
       "13  45.6156   9.28111         74  \n",
       "5   43.7347   7.42056         70  \n",
       "8   52.0786  -1.01694         59  \n",
       "12  50.4372   5.97139         57  \n",
       "6   45.5000 -73.52280         43  \n",
       "..      ...       ...        ...  \n",
       "55  47.2039  14.74780          1  \n",
       "62  33.5786  -7.68750          1  \n",
       "61  27.4547 -81.34830          1  \n",
       "63  42.4750  14.15080          1  \n",
       "72  43.9975  11.37190          1  \n",
       "\n",
       "[77 rows x 6 columns]"
      ]
     },
     "execution_count": 57,
     "metadata": {},
     "output_type": "execute_result"
    }
   ],
   "source": [
    "Circuit_df.sort_values(by= 'occurence', ascending= False, inplace= True)\n",
    "Circuit_df"
   ]
  },
  {
   "cell_type": "code",
   "execution_count": 58,
   "metadata": {},
   "outputs": [
    {
     "data": {
      "application/vnd.plotly.v1+json": {
       "config": {
        "plotlyServerURL": "https://plot.ly"
       },
       "data": [
        {
         "customdata": [
          [
           74,
           "Italian Grand Prix"
          ],
          [
           31,
           "Italian Grand Prix"
          ],
          [
           1,
           "Pescara Grand Prix"
          ],
          [
           1,
           "Tuscan Grand Prix"
          ]
         ],
         "geo": "geo",
         "hovertemplate": "<b>%{hovertext}<b><br><b>%{customdata[1]}<b><br>occurence:  %{customdata[0]:,.0f}<br>",
         "hovertext": [
          "Autodromo Nazionale di Monza",
          "Autodromo Enzo e Dino Ferrari",
          "Pescara Circuit",
          "Autodromo Internazionale del Mugello"
         ],
         "lat": [
          45.6156,
          44.3439,
          42.475,
          43.9975
         ],
         "legendgroup": "Italy",
         "lon": [
          9.28111,
          11.7167,
          14.1508,
          11.3719
         ],
         "marker": {
          "color": "#636efa",
          "line": {
           "color": "black",
           "width": 0.5
          },
          "symbol": "circle"
         },
         "mode": "markers",
         "name": "Italy",
         "showlegend": true,
         "type": "scattergeo"
        },
        {
         "customdata": [
          [
           70,
           "Monaco Grand Prix"
          ]
         ],
         "geo": "geo",
         "hovertemplate": "<b>%{hovertext}<b><br><b>%{customdata[1]}<b><br>occurence:  %{customdata[0]:,.0f}<br>",
         "hovertext": [
          "Circuit de Monaco"
         ],
         "lat": [
          43.7347
         ],
         "legendgroup": "Monaco",
         "lon": [
          7.42056
         ],
         "marker": {
          "color": "#EF553B",
          "line": {
           "color": "black",
           "width": 0.5
          },
          "symbol": "circle"
         },
         "mode": "markers",
         "name": "Monaco",
         "showlegend": true,
         "type": "scattergeo"
        },
        {
         "customdata": [
          [
           59,
           "British Grand Prix"
          ],
          [
           14,
           "British Grand Prix"
          ],
          [
           5,
           "British Grand Prix"
          ],
          [
           1,
           "European Grand Prix"
          ]
         ],
         "geo": "geo",
         "hovertemplate": "<b>%{hovertext}<b><br><b>%{customdata[1]}<b><br>occurence:  %{customdata[0]:,.0f}<br>",
         "hovertext": [
          "Silverstone Circuit",
          "Brands Hatch",
          "Aintree",
          "Donington Park"
         ],
         "lat": [
          52.0786,
          51.3569,
          53.4769,
          52.8306
         ],
         "legendgroup": "UK",
         "lon": [
          -1.01694,
          0.263056,
          -2.94056,
          -1.37528
         ],
         "marker": {
          "color": "#00cc96",
          "line": {
           "color": "black",
           "width": 0.5
          },
          "symbol": "circle"
         },
         "mode": "markers",
         "name": "UK",
         "showlegend": true,
         "type": "scattergeo"
        },
        {
         "customdata": [
          [
           57,
           "Belgian Grand Prix"
          ],
          [
           10,
           "Belgian Grand Prix"
          ],
          [
           2,
           "Belgian Grand Prix"
          ]
         ],
         "geo": "geo",
         "hovertemplate": "<b>%{hovertext}<b><br><b>%{customdata[1]}<b><br>occurence:  %{customdata[0]:,.0f}<br>",
         "hovertext": [
          "Circuit de Spa-Francorchamps",
          "Zolder",
          "Nivelles-Baulers"
         ],
         "lat": [
          50.4372,
          50.9894,
          50.6211
         ],
         "legendgroup": "Belgium",
         "lon": [
          5.97139,
          5.25694,
          4.32694
         ],
         "marker": {
          "color": "#ab63fa",
          "line": {
           "color": "black",
           "width": 0.5
          },
          "symbol": "circle"
         },
         "mode": "markers",
         "name": "Belgium",
         "showlegend": true,
         "type": "scattergeo"
        },
        {
         "customdata": [
          [
           43,
           "Canadian Grand Prix"
          ],
          [
           8,
           "Canadian Grand Prix"
          ],
          [
           2,
           "Canadian Grand Prix"
          ]
         ],
         "geo": "geo",
         "hovertemplate": "<b>%{hovertext}<b><br><b>%{customdata[1]}<b><br>occurence:  %{customdata[0]:,.0f}<br>",
         "hovertext": [
          "Circuit Gilles Villeneuve",
          "Mosport International Raceway",
          "Circuit Mont-Tremblant"
         ],
         "lat": [
          45.5,
          44.0481,
          46.1877
         ],
         "legendgroup": "Canada",
         "lon": [
          -73.5228,
          -78.6756,
          -74.6099
         ],
         "marker": {
          "color": "#FFA15A",
          "line": {
           "color": "black",
           "width": 0.5
          },
          "symbol": "circle"
         },
         "mode": "markers",
         "name": "Canada",
         "showlegend": true,
         "type": "scattergeo"
        },
        {
         "customdata": [
          [
           41,
           "Brazilian Grand Prix"
          ],
          [
           10,
           "Brazilian Grand Prix"
          ]
         ],
         "geo": "geo",
         "hovertemplate": "<b>%{hovertext}<b><br><b>%{customdata[1]}<b><br>occurence:  %{customdata[0]:,.0f}<br>",
         "hovertext": [
          "Autódromo José Carlos Pace",
          "Autódromo Internacional Nelson Piquet"
         ],
         "lat": [
          -23.7036,
          -22.9756
         ],
         "legendgroup": "Brazil",
         "lon": [
          -46.6997,
          -43.395
         ],
         "marker": {
          "color": "#19d3f3",
          "line": {
           "color": "black",
           "width": 0.5
          },
          "symbol": "circle"
         },
         "mode": "markers",
         "name": "Brazil",
         "showlegend": true,
         "type": "scattergeo"
        },
        {
         "customdata": [
          [
           41,
           "German Grand Prix"
          ],
          [
           37,
           "German Grand Prix"
          ],
          [
           1,
           "German Grand Prix"
          ]
         ],
         "geo": "geo",
         "hovertemplate": "<b>%{hovertext}<b><br><b>%{customdata[1]}<b><br>occurence:  %{customdata[0]:,.0f}<br>",
         "hovertext": [
          "Nürburgring",
          "Hockenheimring",
          "AVUS"
         ],
         "lat": [
          50.3356,
          49.3278,
          52.4806
         ],
         "legendgroup": "Germany",
         "lon": [
          6.9475,
          8.56583,
          13.2514
         ],
         "marker": {
          "color": "#FF6692",
          "line": {
           "color": "black",
           "width": 0.5
          },
          "symbol": "circle"
         },
         "mode": "markers",
         "name": "Germany",
         "showlegend": true,
         "type": "scattergeo"
        },
        {
         "customdata": [
          [
           39,
           "Hungarian Grand Prix"
          ]
         ],
         "geo": "geo",
         "hovertemplate": "<b>%{hovertext}<b><br><b>%{customdata[1]}<b><br>occurence:  %{customdata[0]:,.0f}<br>",
         "hovertext": [
          "Hungaroring"
         ],
         "lat": [
          47.5789
         ],
         "legendgroup": "Hungary",
         "lon": [
          19.2486
         ],
         "marker": {
          "color": "#B6E880",
          "line": {
           "color": "black",
           "width": 0.5
          },
          "symbol": "circle"
         },
         "mode": "markers",
         "name": "Hungary",
         "showlegend": true,
         "type": "scattergeo"
        },
        {
         "customdata": [
          [
           38,
           "Austrian Grand Prix"
          ],
          [
           1,
           "Austrian Grand Prix"
          ]
         ],
         "geo": "geo",
         "hovertemplate": "<b>%{hovertext}<b><br><b>%{customdata[1]}<b><br>occurence:  %{customdata[0]:,.0f}<br>",
         "hovertext": [
          "Red Bull Ring",
          "Zeltweg"
         ],
         "lat": [
          47.2197,
          47.2039
         ],
         "legendgroup": "Austria",
         "lon": [
          14.7647,
          14.7478
         ],
         "marker": {
          "color": "#FF97FF",
          "line": {
           "color": "black",
           "width": 0.5
          },
          "symbol": "circle"
         },
         "mode": "markers",
         "name": "Austria",
         "showlegend": true,
         "type": "scattergeo"
        },
        {
         "customdata": [
          [
           34,
           "Spanish Grand Prix"
          ],
          [
           9,
           "Spanish Grand Prix"
          ],
          [
           7,
           "Spanish Grand Prix"
          ],
          [
           5,
           "European Grand Prix"
          ],
          [
           4,
           "Spanish Grand Prix"
          ],
          [
           2,
           "Spanish Grand Prix"
          ]
         ],
         "geo": "geo",
         "hovertemplate": "<b>%{hovertext}<b><br><b>%{customdata[1]}<b><br>occurence:  %{customdata[0]:,.0f}<br>",
         "hovertext": [
          "Circuit de Barcelona-Catalunya",
          "Jarama",
          "Circuito de Jerez",
          "Valencia Street Circuit",
          "Montjuïc",
          "Circuit de Pedralbes"
         ],
         "lat": [
          41.57,
          40.6171,
          36.7083,
          39.4589,
          41.3664,
          41.3903
         ],
         "legendgroup": "Spain",
         "lon": [
          2.26111,
          -3.58558,
          -6.03417,
          -0.331667,
          2.15167,
          2.11667
         ],
         "marker": {
          "color": "#FECB52",
          "line": {
           "color": "black",
           "width": 0.5
          },
          "symbol": "circle"
         },
         "mode": "markers",
         "name": "Spain",
         "showlegend": true,
         "type": "scattergeo"
        },
        {
         "customdata": [
          [
           34,
           "Japanese Grand Prix"
          ],
          [
           4,
           "Japanese Grand Prix"
          ],
          [
           2,
           "Pacific Grand Prix"
          ]
         ],
         "geo": "geo",
         "hovertemplate": "<b>%{hovertext}<b><br><b>%{customdata[1]}<b><br>occurence:  %{customdata[0]:,.0f}<br>",
         "hovertext": [
          "Suzuka Circuit",
          "Fuji Speedway",
          "Okayama International Circuit"
         ],
         "lat": [
          34.8431,
          35.3717,
          34.915
         ],
         "legendgroup": "Japan",
         "lon": [
          136.541,
          138.927,
          134.221
         ],
         "marker": {
          "color": "#636efa",
          "line": {
           "color": "black",
           "width": 0.5
          },
          "symbol": "circle"
         },
         "mode": "markers",
         "name": "Japan",
         "showlegend": true,
         "type": "scattergeo"
        },
        {
         "customdata": [
          [
           34,
           "Dutch Grand Prix"
          ]
         ],
         "geo": "geo",
         "hovertemplate": "<b>%{hovertext}<b><br><b>%{customdata[1]}<b><br>occurence:  %{customdata[0]:,.0f}<br>",
         "hovertext": [
          "Circuit Park Zandvoort"
         ],
         "lat": [
          52.3888
         ],
         "legendgroup": "Netherlands",
         "lon": [
          4.54092
         ],
         "marker": {
          "color": "#EF553B",
          "line": {
           "color": "black",
           "width": 0.5
          },
          "symbol": "circle"
         },
         "mode": "markers",
         "name": "Netherlands",
         "showlegend": true,
         "type": "scattergeo"
        },
        {
         "customdata": [
          [
           27,
           "Australian Grand Prix"
          ],
          [
           11,
           "Australian Grand Prix"
          ]
         ],
         "geo": "geo",
         "hovertemplate": "<b>%{hovertext}<b><br><b>%{customdata[1]}<b><br>occurence:  %{customdata[0]:,.0f}<br>",
         "hovertext": [
          "Albert Park Grand Prix Circuit",
          "Adelaide Street Circuit"
         ],
         "lat": [
          -37.8497,
          -34.9272
         ],
         "legendgroup": "Australia",
         "lon": [
          144.968,
          138.617
         ],
         "marker": {
          "color": "#00cc96",
          "line": {
           "color": "black",
           "width": 0.5
          },
          "symbol": "circle"
         },
         "mode": "markers",
         "name": "Australia",
         "showlegend": true,
         "type": "scattergeo"
        },
        {
         "customdata": [
          [
           24,
           "Mexican Grand Prix"
          ]
         ],
         "geo": "geo",
         "hovertemplate": "<b>%{hovertext}<b><br><b>%{customdata[1]}<b><br>occurence:  %{customdata[0]:,.0f}<br>",
         "hovertext": [
          "Autódromo Hermanos Rodríguez"
         ],
         "lat": [
          19.4042
         ],
         "legendgroup": "Mexico",
         "lon": [
          -99.0907
         ],
         "marker": {
          "color": "#ab63fa",
          "line": {
           "color": "black",
           "width": 0.5
          },
          "symbol": "circle"
         },
         "mode": "markers",
         "name": "Mexico",
         "showlegend": true,
         "type": "scattergeo"
        },
        {
         "customdata": [
          [
           21,
           "Bahrain Grand Prix"
          ]
         ],
         "geo": "geo",
         "hovertemplate": "<b>%{hovertext}<b><br><b>%{customdata[1]}<b><br>occurence:  %{customdata[0]:,.0f}<br>",
         "hovertext": [
          "Bahrain International Circuit"
         ],
         "lat": [
          26.0325
         ],
         "legendgroup": "Bahrain",
         "lon": [
          50.5106
         ],
         "marker": {
          "color": "#FFA15A",
          "line": {
           "color": "black",
           "width": 0.5
          },
          "symbol": "circle"
         },
         "mode": "markers",
         "name": "Bahrain",
         "showlegend": true,
         "type": "scattergeo"
        },
        {
         "customdata": [
          [
           20,
           "South African Grand Prix"
          ],
          [
           3,
           "South African Grand Prix"
          ]
         ],
         "geo": "geo",
         "hovertemplate": "<b>%{hovertext}<b><br><b>%{customdata[1]}<b><br>occurence:  %{customdata[0]:,.0f}<br>",
         "hovertext": [
          "Kyalami",
          "Prince George Circuit"
         ],
         "lat": [
          -25.9894,
          -33.0486
         ],
         "legendgroup": "South Africa",
         "lon": [
          28.0767,
          27.8736
         ],
         "marker": {
          "color": "#19d3f3",
          "line": {
           "color": "black",
           "width": 0.5
          },
          "symbol": "circle"
         },
         "mode": "markers",
         "name": "South Africa",
         "showlegend": true,
         "type": "scattergeo"
        },
        {
         "customdata": [
          [
           20,
           "United States Grand Prix"
          ],
          [
           19,
           "Indianapolis 500"
          ],
          [
           12,
           "United States Grand Prix"
          ],
          [
           8,
           "United States Grand Prix West"
          ],
          [
           7,
           "Detroit Grand Prix"
          ],
          [
           3,
           "Miami Grand Prix"
          ],
          [
           3,
           "United States Grand Prix"
          ],
          [
           2,
           "Caesars Palace Grand Prix"
          ],
          [
           1,
           "Dallas Grand Prix"
          ],
          [
           1,
           "United States Grand Prix"
          ],
          [
           1,
           "United States Grand Prix"
          ]
         ],
         "geo": "geo",
         "hovertemplate": "<b>%{hovertext}<b><br><b>%{customdata[1]}<b><br>occurence:  %{customdata[0]:,.0f}<br>",
         "hovertext": [
          "Watkins Glen",
          "Indianapolis Motor Speedway",
          "Circuit of the Americas",
          "Long Beach",
          "Detroit Street Circuit",
          "Miami International Autodrome",
          "Phoenix street circuit",
          "Las Vegas Street Circuit",
          "Fair Park",
          "Riverside International Raceway",
          "Sebring International Raceway"
         ],
         "lat": [
          42.3369,
          39.795,
          30.1328,
          33.7651,
          42.3298,
          25.9581,
          33.4479,
          36.1162,
          32.7774,
          33.937,
          27.4547
         ],
         "legendgroup": "USA",
         "lon": [
          -76.9272,
          -86.2347,
          -97.6411,
          -118.189,
          -83.0401,
          -80.2389,
          -112.075,
          -115.174,
          -96.7587,
          -117.273,
          -81.3483
         ],
         "marker": {
          "color": "#FF6692",
          "line": {
           "color": "black",
           "width": 0.5
          },
          "symbol": "circle"
         },
         "mode": "markers",
         "name": "USA",
         "showlegend": true,
         "type": "scattergeo"
        },
        {
         "customdata": [
          [
           20,
           "Argentine Grand Prix"
          ]
         ],
         "geo": "geo",
         "hovertemplate": "<b>%{hovertext}<b><br><b>%{customdata[1]}<b><br>occurence:  %{customdata[0]:,.0f}<br>",
         "hovertext": [
          "Autódromo Juan y Oscar Gálvez"
         ],
         "lat": [
          -34.6943
         ],
         "legendgroup": "Argentina",
         "lon": [
          -58.4593
         ],
         "marker": {
          "color": "#B6E880",
          "line": {
           "color": "black",
           "width": 0.5
          },
          "symbol": "circle"
         },
         "mode": "markers",
         "name": "Argentina",
         "showlegend": true,
         "type": "scattergeo"
        },
        {
         "customdata": [
          [
           19,
           "Malaysian Grand Prix"
          ]
         ],
         "geo": "geo",
         "hovertemplate": "<b>%{hovertext}<b><br><b>%{customdata[1]}<b><br>occurence:  %{customdata[0]:,.0f}<br>",
         "hovertext": [
          "Sepang International Circuit"
         ],
         "lat": [
          2.76083
         ],
         "legendgroup": "Malaysia",
         "lon": [
          101.738
         ],
         "marker": {
          "color": "#FF97FF",
          "line": {
           "color": "black",
           "width": 0.5
          },
          "symbol": "circle"
         },
         "mode": "markers",
         "name": "Malaysia",
         "showlegend": true,
         "type": "scattergeo"
        },
        {
         "customdata": [
          [
           18,
           "French Grand Prix"
          ],
          [
           18,
           "French Grand Prix"
          ],
          [
           11,
           "French Grand Prix"
          ],
          [
           6,
           "French Grand Prix"
          ],
          [
           5,
           "French Grand Prix"
          ],
          [
           4,
           "French Grand Prix"
          ],
          [
           1,
           "French Grand Prix"
          ]
         ],
         "geo": "geo",
         "hovertemplate": "<b>%{hovertext}<b><br><b>%{customdata[1]}<b><br>occurence:  %{customdata[0]:,.0f}<br>",
         "hovertext": [
          "Circuit Paul Ricard",
          "Circuit de Nevers Magny-Cours",
          "Reims-Gueux",
          "Dijon-Prenois",
          "Rouen-Les-Essarts",
          "Charade Circuit",
          "Le Mans"
         ],
         "lat": [
          43.2506,
          46.8642,
          49.2542,
          47.3625,
          49.3306,
          45.7472,
          47.95
         ],
         "legendgroup": "France",
         "lon": [
          5.79167,
          3.16361,
          3.93083,
          4.89913,
          1.00458,
          3.03889,
          0.224231
         ],
         "marker": {
          "color": "#FECB52",
          "line": {
           "color": "black",
           "width": 0.5
          },
          "symbol": "circle"
         },
         "mode": "markers",
         "name": "France",
         "showlegend": true,
         "type": "scattergeo"
        },
        {
         "customdata": [
          [
           17,
           "Chinese Grand Prix"
          ]
         ],
         "geo": "geo",
         "hovertemplate": "<b>%{hovertext}<b><br><b>%{customdata[1]}<b><br>occurence:  %{customdata[0]:,.0f}<br>",
         "hovertext": [
          "Shanghai International Circuit"
         ],
         "lat": [
          31.3389
         ],
         "legendgroup": "China",
         "lon": [
          121.22
         ],
         "marker": {
          "color": "#636efa",
          "line": {
           "color": "black",
           "width": 0.5
          },
          "symbol": "circle"
         },
         "mode": "markers",
         "name": "China",
         "showlegend": true,
         "type": "scattergeo"
        },
        {
         "customdata": [
          [
           16,
           "Abu Dhabi Grand Prix"
          ]
         ],
         "geo": "geo",
         "hovertemplate": "<b>%{hovertext}<b><br><b>%{customdata[1]}<b><br>occurence:  %{customdata[0]:,.0f}<br>",
         "hovertext": [
          "Yas Marina Circuit"
         ],
         "lat": [
          24.4672
         ],
         "legendgroup": "UAE",
         "lon": [
          54.6031
         ],
         "marker": {
          "color": "#EF553B",
          "line": {
           "color": "black",
           "width": 0.5
          },
          "symbol": "circle"
         },
         "mode": "markers",
         "name": "UAE",
         "showlegend": true,
         "type": "scattergeo"
        },
        {
         "customdata": [
          [
           15,
           "Singapore Grand Prix"
          ]
         ],
         "geo": "geo",
         "hovertemplate": "<b>%{hovertext}<b><br><b>%{customdata[1]}<b><br>occurence:  %{customdata[0]:,.0f}<br>",
         "hovertext": [
          "Marina Bay Street Circuit"
         ],
         "lat": [
          1.2914
         ],
         "legendgroup": "Singapore",
         "lon": [
          103.864
         ],
         "marker": {
          "color": "#00cc96",
          "line": {
           "color": "black",
           "width": 0.5
          },
          "symbol": "circle"
         },
         "mode": "markers",
         "name": "Singapore",
         "showlegend": true,
         "type": "scattergeo"
        },
        {
         "customdata": [
          [
           13,
           "Portuguese Grand Prix"
          ],
          [
           2,
           "Portuguese Grand Prix"
          ],
          [
           2,
           "Portuguese Grand Prix"
          ],
          [
           1,
           "Portuguese Grand Prix"
          ]
         ],
         "geo": "geo",
         "hovertemplate": "<b>%{hovertext}<b><br><b>%{customdata[1]}<b><br>occurence:  %{customdata[0]:,.0f}<br>",
         "hovertext": [
          "Autódromo do Estoril",
          "Autódromo Internacional do Algarve",
          "Circuito da Boavista",
          "Monsanto Park Circuit"
         ],
         "lat": [
          38.7506,
          37.227,
          41.1705,
          38.7197
         ],
         "legendgroup": "Portugal",
         "lon": [
          -9.39417,
          -8.6267,
          -8.67325,
          -9.20306
         ],
         "marker": {
          "color": "#ab63fa",
          "line": {
           "color": "black",
           "width": 0.5
          },
          "symbol": "circle"
         },
         "mode": "markers",
         "name": "Portugal",
         "showlegend": true,
         "type": "scattergeo"
        },
        {
         "customdata": [
          [
           9,
           "Turkish Grand Prix"
          ]
         ],
         "geo": "geo",
         "hovertemplate": "<b>%{hovertext}<b><br><b>%{customdata[1]}<b><br>occurence:  %{customdata[0]:,.0f}<br>",
         "hovertext": [
          "Istanbul Park"
         ],
         "lat": [
          40.9517
         ],
         "legendgroup": "Turkey",
         "lon": [
          29.405
         ],
         "marker": {
          "color": "#FFA15A",
          "line": {
           "color": "black",
           "width": 0.5
          },
          "symbol": "circle"
         },
         "mode": "markers",
         "name": "Turkey",
         "showlegend": true,
         "type": "scattergeo"
        },
        {
         "customdata": [
          [
           8,
           "European Grand Prix"
          ]
         ],
         "geo": "geo",
         "hovertemplate": "<b>%{hovertext}<b><br><b>%{customdata[1]}<b><br>occurence:  %{customdata[0]:,.0f}<br>",
         "hovertext": [
          "Baku City Circuit"
         ],
         "lat": [
          40.3725
         ],
         "legendgroup": "Azerbaijan",
         "lon": [
          49.8533
         ],
         "marker": {
          "color": "#19d3f3",
          "line": {
           "color": "black",
           "width": 0.5
          },
          "symbol": "circle"
         },
         "mode": "markers",
         "name": "Azerbaijan",
         "showlegend": true,
         "type": "scattergeo"
        },
        {
         "customdata": [
          [
           8,
           "Russian Grand Prix"
          ]
         ],
         "geo": "geo",
         "hovertemplate": "<b>%{hovertext}<b><br><b>%{customdata[1]}<b><br>occurence:  %{customdata[0]:,.0f}<br>",
         "hovertext": [
          "Sochi Autodrom"
         ],
         "lat": [
          43.4057
         ],
         "legendgroup": "Russia",
         "lon": [
          39.9578
         ],
         "marker": {
          "color": "#FF6692",
          "line": {
           "color": "black",
           "width": 0.5
          },
          "symbol": "circle"
         },
         "mode": "markers",
         "name": "Russia",
         "showlegend": true,
         "type": "scattergeo"
        },
        {
         "customdata": [
          [
           6,
           "Swedish Grand Prix"
          ]
         ],
         "geo": "geo",
         "hovertemplate": "<b>%{hovertext}<b><br><b>%{customdata[1]}<b><br>occurence:  %{customdata[0]:,.0f}<br>",
         "hovertext": [
          "Scandinavian Raceway"
         ],
         "lat": [
          57.2653
         ],
         "legendgroup": "Sweden",
         "lon": [
          13.6042
         ],
         "marker": {
          "color": "#B6E880",
          "line": {
           "color": "black",
           "width": 0.5
          },
          "symbol": "circle"
         },
         "mode": "markers",
         "name": "Sweden",
         "showlegend": true,
         "type": "scattergeo"
        },
        {
         "customdata": [
          [
           5,
           "Swiss Grand Prix"
          ]
         ],
         "geo": "geo",
         "hovertemplate": "<b>%{hovertext}<b><br><b>%{customdata[1]}<b><br>occurence:  %{customdata[0]:,.0f}<br>",
         "hovertext": [
          "Circuit Bremgarten"
         ],
         "lat": [
          46.9589
         ],
         "legendgroup": "Switzerland",
         "lon": [
          7.40194
         ],
         "marker": {
          "color": "#FF97FF",
          "line": {
           "color": "black",
           "width": 0.5
          },
          "symbol": "circle"
         },
         "mode": "markers",
         "name": "Switzerland",
         "showlegend": true,
         "type": "scattergeo"
        },
        {
         "customdata": [
          [
           4,
           "Saudi Arabian Grand Prix"
          ]
         ],
         "geo": "geo",
         "hovertemplate": "<b>%{hovertext}<b><br><b>%{customdata[1]}<b><br>occurence:  %{customdata[0]:,.0f}<br>",
         "hovertext": [
          "Jeddah Corniche Circuit"
         ],
         "lat": [
          21.6319
         ],
         "legendgroup": "Saudi Arabia",
         "lon": [
          39.1044
         ],
         "marker": {
          "color": "#FECB52",
          "line": {
           "color": "black",
           "width": 0.5
          },
          "symbol": "circle"
         },
         "mode": "markers",
         "name": "Saudi Arabia",
         "showlegend": true,
         "type": "scattergeo"
        },
        {
         "customdata": [
          [
           4,
           "Korean Grand Prix"
          ]
         ],
         "geo": "geo",
         "hovertemplate": "<b>%{hovertext}<b><br><b>%{customdata[1]}<b><br>occurence:  %{customdata[0]:,.0f}<br>",
         "hovertext": [
          "Korean International Circuit"
         ],
         "lat": [
          34.7333
         ],
         "legendgroup": "Korea",
         "lon": [
          126.417
         ],
         "marker": {
          "color": "#636efa",
          "line": {
           "color": "black",
           "width": 0.5
          },
          "symbol": "circle"
         },
         "mode": "markers",
         "name": "Korea",
         "showlegend": true,
         "type": "scattergeo"
        },
        {
         "customdata": [
          [
           3,
           "Qatar Grand Prix"
          ]
         ],
         "geo": "geo",
         "hovertemplate": "<b>%{hovertext}<b><br><b>%{customdata[1]}<b><br>occurence:  %{customdata[0]:,.0f}<br>",
         "hovertext": [
          "Losail International Circuit"
         ],
         "lat": [
          25.49
         ],
         "legendgroup": "Qatar",
         "lon": [
          51.4542
         ],
         "marker": {
          "color": "#EF553B",
          "line": {
           "color": "black",
           "width": 0.5
          },
          "symbol": "circle"
         },
         "mode": "markers",
         "name": "Qatar",
         "showlegend": true,
         "type": "scattergeo"
        },
        {
         "customdata": [
          [
           3,
           "Indian Grand Prix"
          ]
         ],
         "geo": "geo",
         "hovertemplate": "<b>%{hovertext}<b><br><b>%{customdata[1]}<b><br>occurence:  %{customdata[0]:,.0f}<br>",
         "hovertext": [
          "Buddh International Circuit"
         ],
         "lat": [
          28.3487
         ],
         "legendgroup": "India",
         "lon": [
          77.5331
         ],
         "marker": {
          "color": "#00cc96",
          "line": {
           "color": "black",
           "width": 0.5
          },
          "symbol": "circle"
         },
         "mode": "markers",
         "name": "India",
         "showlegend": true,
         "type": "scattergeo"
        },
        {
         "customdata": [
          [
           2,
           "Las Vegas Grand Prix"
          ]
         ],
         "geo": "geo",
         "hovertemplate": "<b>%{hovertext}<b><br><b>%{customdata[1]}<b><br>occurence:  %{customdata[0]:,.0f}<br>",
         "hovertext": [
          "Las Vegas Strip Street Circuit"
         ],
         "lat": [
          36.1147
         ],
         "legendgroup": "United States",
         "lon": [
          -115.173
         ],
         "marker": {
          "color": "#ab63fa",
          "line": {
           "color": "black",
           "width": 0.5
          },
          "symbol": "circle"
         },
         "mode": "markers",
         "name": "United States",
         "showlegend": true,
         "type": "scattergeo"
        },
        {
         "customdata": [
          [
           1,
           "Moroccan Grand Prix"
          ]
         ],
         "geo": "geo",
         "hovertemplate": "<b>%{hovertext}<b><br><b>%{customdata[1]}<b><br>occurence:  %{customdata[0]:,.0f}<br>",
         "hovertext": [
          "Ain Diab"
         ],
         "lat": [
          33.5786
         ],
         "legendgroup": "Morocco",
         "lon": [
          -7.6875
         ],
         "marker": {
          "color": "#FFA15A",
          "line": {
           "color": "black",
           "width": 0.5
          },
          "symbol": "circle"
         },
         "mode": "markers",
         "name": "Morocco",
         "showlegend": true,
         "type": "scattergeo"
        }
       ],
       "layout": {
        "geo": {
         "center": {},
         "domain": {
          "x": [
           0,
           1
          ],
          "y": [
           0,
           1
          ]
         },
         "projection": {
          "type": "natural earth"
         }
        },
        "legend": {
         "title": {
          "text": "country"
         },
         "tracegroupgap": 0
        },
        "margin": {
         "t": 60
        },
        "template": {
         "data": {
          "bar": [
           {
            "error_x": {
             "color": "#2a3f5f"
            },
            "error_y": {
             "color": "#2a3f5f"
            },
            "marker": {
             "line": {
              "color": "#E5ECF6",
              "width": 0.5
             },
             "pattern": {
              "fillmode": "overlay",
              "size": 10,
              "solidity": 0.2
             }
            },
            "type": "bar"
           }
          ],
          "barpolar": [
           {
            "marker": {
             "line": {
              "color": "#E5ECF6",
              "width": 0.5
             },
             "pattern": {
              "fillmode": "overlay",
              "size": 10,
              "solidity": 0.2
             }
            },
            "type": "barpolar"
           }
          ],
          "carpet": [
           {
            "aaxis": {
             "endlinecolor": "#2a3f5f",
             "gridcolor": "white",
             "linecolor": "white",
             "minorgridcolor": "white",
             "startlinecolor": "#2a3f5f"
            },
            "baxis": {
             "endlinecolor": "#2a3f5f",
             "gridcolor": "white",
             "linecolor": "white",
             "minorgridcolor": "white",
             "startlinecolor": "#2a3f5f"
            },
            "type": "carpet"
           }
          ],
          "choropleth": [
           {
            "colorbar": {
             "outlinewidth": 0,
             "ticks": ""
            },
            "type": "choropleth"
           }
          ],
          "contour": [
           {
            "colorbar": {
             "outlinewidth": 0,
             "ticks": ""
            },
            "colorscale": [
             [
              0,
              "#0d0887"
             ],
             [
              0.1111111111111111,
              "#46039f"
             ],
             [
              0.2222222222222222,
              "#7201a8"
             ],
             [
              0.3333333333333333,
              "#9c179e"
             ],
             [
              0.4444444444444444,
              "#bd3786"
             ],
             [
              0.5555555555555556,
              "#d8576b"
             ],
             [
              0.6666666666666666,
              "#ed7953"
             ],
             [
              0.7777777777777778,
              "#fb9f3a"
             ],
             [
              0.8888888888888888,
              "#fdca26"
             ],
             [
              1,
              "#f0f921"
             ]
            ],
            "type": "contour"
           }
          ],
          "contourcarpet": [
           {
            "colorbar": {
             "outlinewidth": 0,
             "ticks": ""
            },
            "type": "contourcarpet"
           }
          ],
          "heatmap": [
           {
            "colorbar": {
             "outlinewidth": 0,
             "ticks": ""
            },
            "colorscale": [
             [
              0,
              "#0d0887"
             ],
             [
              0.1111111111111111,
              "#46039f"
             ],
             [
              0.2222222222222222,
              "#7201a8"
             ],
             [
              0.3333333333333333,
              "#9c179e"
             ],
             [
              0.4444444444444444,
              "#bd3786"
             ],
             [
              0.5555555555555556,
              "#d8576b"
             ],
             [
              0.6666666666666666,
              "#ed7953"
             ],
             [
              0.7777777777777778,
              "#fb9f3a"
             ],
             [
              0.8888888888888888,
              "#fdca26"
             ],
             [
              1,
              "#f0f921"
             ]
            ],
            "type": "heatmap"
           }
          ],
          "heatmapgl": [
           {
            "colorbar": {
             "outlinewidth": 0,
             "ticks": ""
            },
            "colorscale": [
             [
              0,
              "#0d0887"
             ],
             [
              0.1111111111111111,
              "#46039f"
             ],
             [
              0.2222222222222222,
              "#7201a8"
             ],
             [
              0.3333333333333333,
              "#9c179e"
             ],
             [
              0.4444444444444444,
              "#bd3786"
             ],
             [
              0.5555555555555556,
              "#d8576b"
             ],
             [
              0.6666666666666666,
              "#ed7953"
             ],
             [
              0.7777777777777778,
              "#fb9f3a"
             ],
             [
              0.8888888888888888,
              "#fdca26"
             ],
             [
              1,
              "#f0f921"
             ]
            ],
            "type": "heatmapgl"
           }
          ],
          "histogram": [
           {
            "marker": {
             "pattern": {
              "fillmode": "overlay",
              "size": 10,
              "solidity": 0.2
             }
            },
            "type": "histogram"
           }
          ],
          "histogram2d": [
           {
            "colorbar": {
             "outlinewidth": 0,
             "ticks": ""
            },
            "colorscale": [
             [
              0,
              "#0d0887"
             ],
             [
              0.1111111111111111,
              "#46039f"
             ],
             [
              0.2222222222222222,
              "#7201a8"
             ],
             [
              0.3333333333333333,
              "#9c179e"
             ],
             [
              0.4444444444444444,
              "#bd3786"
             ],
             [
              0.5555555555555556,
              "#d8576b"
             ],
             [
              0.6666666666666666,
              "#ed7953"
             ],
             [
              0.7777777777777778,
              "#fb9f3a"
             ],
             [
              0.8888888888888888,
              "#fdca26"
             ],
             [
              1,
              "#f0f921"
             ]
            ],
            "type": "histogram2d"
           }
          ],
          "histogram2dcontour": [
           {
            "colorbar": {
             "outlinewidth": 0,
             "ticks": ""
            },
            "colorscale": [
             [
              0,
              "#0d0887"
             ],
             [
              0.1111111111111111,
              "#46039f"
             ],
             [
              0.2222222222222222,
              "#7201a8"
             ],
             [
              0.3333333333333333,
              "#9c179e"
             ],
             [
              0.4444444444444444,
              "#bd3786"
             ],
             [
              0.5555555555555556,
              "#d8576b"
             ],
             [
              0.6666666666666666,
              "#ed7953"
             ],
             [
              0.7777777777777778,
              "#fb9f3a"
             ],
             [
              0.8888888888888888,
              "#fdca26"
             ],
             [
              1,
              "#f0f921"
             ]
            ],
            "type": "histogram2dcontour"
           }
          ],
          "mesh3d": [
           {
            "colorbar": {
             "outlinewidth": 0,
             "ticks": ""
            },
            "type": "mesh3d"
           }
          ],
          "parcoords": [
           {
            "line": {
             "colorbar": {
              "outlinewidth": 0,
              "ticks": ""
             }
            },
            "type": "parcoords"
           }
          ],
          "pie": [
           {
            "automargin": true,
            "type": "pie"
           }
          ],
          "scatter": [
           {
            "fillpattern": {
             "fillmode": "overlay",
             "size": 10,
             "solidity": 0.2
            },
            "type": "scatter"
           }
          ],
          "scatter3d": [
           {
            "line": {
             "colorbar": {
              "outlinewidth": 0,
              "ticks": ""
             }
            },
            "marker": {
             "colorbar": {
              "outlinewidth": 0,
              "ticks": ""
             }
            },
            "type": "scatter3d"
           }
          ],
          "scattercarpet": [
           {
            "marker": {
             "colorbar": {
              "outlinewidth": 0,
              "ticks": ""
             }
            },
            "type": "scattercarpet"
           }
          ],
          "scattergeo": [
           {
            "marker": {
             "colorbar": {
              "outlinewidth": 0,
              "ticks": ""
             }
            },
            "type": "scattergeo"
           }
          ],
          "scattergl": [
           {
            "marker": {
             "colorbar": {
              "outlinewidth": 0,
              "ticks": ""
             }
            },
            "type": "scattergl"
           }
          ],
          "scattermapbox": [
           {
            "marker": {
             "colorbar": {
              "outlinewidth": 0,
              "ticks": ""
             }
            },
            "type": "scattermapbox"
           }
          ],
          "scatterpolar": [
           {
            "marker": {
             "colorbar": {
              "outlinewidth": 0,
              "ticks": ""
             }
            },
            "type": "scatterpolar"
           }
          ],
          "scatterpolargl": [
           {
            "marker": {
             "colorbar": {
              "outlinewidth": 0,
              "ticks": ""
             }
            },
            "type": "scatterpolargl"
           }
          ],
          "scatterternary": [
           {
            "marker": {
             "colorbar": {
              "outlinewidth": 0,
              "ticks": ""
             }
            },
            "type": "scatterternary"
           }
          ],
          "surface": [
           {
            "colorbar": {
             "outlinewidth": 0,
             "ticks": ""
            },
            "colorscale": [
             [
              0,
              "#0d0887"
             ],
             [
              0.1111111111111111,
              "#46039f"
             ],
             [
              0.2222222222222222,
              "#7201a8"
             ],
             [
              0.3333333333333333,
              "#9c179e"
             ],
             [
              0.4444444444444444,
              "#bd3786"
             ],
             [
              0.5555555555555556,
              "#d8576b"
             ],
             [
              0.6666666666666666,
              "#ed7953"
             ],
             [
              0.7777777777777778,
              "#fb9f3a"
             ],
             [
              0.8888888888888888,
              "#fdca26"
             ],
             [
              1,
              "#f0f921"
             ]
            ],
            "type": "surface"
           }
          ],
          "table": [
           {
            "cells": {
             "fill": {
              "color": "#EBF0F8"
             },
             "line": {
              "color": "white"
             }
            },
            "header": {
             "fill": {
              "color": "#C8D4E3"
             },
             "line": {
              "color": "white"
             }
            },
            "type": "table"
           }
          ]
         },
         "layout": {
          "annotationdefaults": {
           "arrowcolor": "#2a3f5f",
           "arrowhead": 0,
           "arrowwidth": 1
          },
          "autotypenumbers": "strict",
          "coloraxis": {
           "colorbar": {
            "outlinewidth": 0,
            "ticks": ""
           }
          },
          "colorscale": {
           "diverging": [
            [
             0,
             "#8e0152"
            ],
            [
             0.1,
             "#c51b7d"
            ],
            [
             0.2,
             "#de77ae"
            ],
            [
             0.3,
             "#f1b6da"
            ],
            [
             0.4,
             "#fde0ef"
            ],
            [
             0.5,
             "#f7f7f7"
            ],
            [
             0.6,
             "#e6f5d0"
            ],
            [
             0.7,
             "#b8e186"
            ],
            [
             0.8,
             "#7fbc41"
            ],
            [
             0.9,
             "#4d9221"
            ],
            [
             1,
             "#276419"
            ]
           ],
           "sequential": [
            [
             0,
             "#0d0887"
            ],
            [
             0.1111111111111111,
             "#46039f"
            ],
            [
             0.2222222222222222,
             "#7201a8"
            ],
            [
             0.3333333333333333,
             "#9c179e"
            ],
            [
             0.4444444444444444,
             "#bd3786"
            ],
            [
             0.5555555555555556,
             "#d8576b"
            ],
            [
             0.6666666666666666,
             "#ed7953"
            ],
            [
             0.7777777777777778,
             "#fb9f3a"
            ],
            [
             0.8888888888888888,
             "#fdca26"
            ],
            [
             1,
             "#f0f921"
            ]
           ],
           "sequentialminus": [
            [
             0,
             "#0d0887"
            ],
            [
             0.1111111111111111,
             "#46039f"
            ],
            [
             0.2222222222222222,
             "#7201a8"
            ],
            [
             0.3333333333333333,
             "#9c179e"
            ],
            [
             0.4444444444444444,
             "#bd3786"
            ],
            [
             0.5555555555555556,
             "#d8576b"
            ],
            [
             0.6666666666666666,
             "#ed7953"
            ],
            [
             0.7777777777777778,
             "#fb9f3a"
            ],
            [
             0.8888888888888888,
             "#fdca26"
            ],
            [
             1,
             "#f0f921"
            ]
           ]
          },
          "colorway": [
           "#636efa",
           "#EF553B",
           "#00cc96",
           "#ab63fa",
           "#FFA15A",
           "#19d3f3",
           "#FF6692",
           "#B6E880",
           "#FF97FF",
           "#FECB52"
          ],
          "font": {
           "color": "#2a3f5f"
          },
          "geo": {
           "bgcolor": "white",
           "lakecolor": "white",
           "landcolor": "#E5ECF6",
           "showlakes": true,
           "showland": true,
           "subunitcolor": "white"
          },
          "hoverlabel": {
           "align": "left"
          },
          "hovermode": "closest",
          "mapbox": {
           "style": "light"
          },
          "paper_bgcolor": "white",
          "plot_bgcolor": "#E5ECF6",
          "polar": {
           "angularaxis": {
            "gridcolor": "white",
            "linecolor": "white",
            "ticks": ""
           },
           "bgcolor": "#E5ECF6",
           "radialaxis": {
            "gridcolor": "white",
            "linecolor": "white",
            "ticks": ""
           }
          },
          "scene": {
           "xaxis": {
            "backgroundcolor": "#E5ECF6",
            "gridcolor": "white",
            "gridwidth": 2,
            "linecolor": "white",
            "showbackground": true,
            "ticks": "",
            "zerolinecolor": "white"
           },
           "yaxis": {
            "backgroundcolor": "#E5ECF6",
            "gridcolor": "white",
            "gridwidth": 2,
            "linecolor": "white",
            "showbackground": true,
            "ticks": "",
            "zerolinecolor": "white"
           },
           "zaxis": {
            "backgroundcolor": "#E5ECF6",
            "gridcolor": "white",
            "gridwidth": 2,
            "linecolor": "white",
            "showbackground": true,
            "ticks": "",
            "zerolinecolor": "white"
           }
          },
          "shapedefaults": {
           "line": {
            "color": "#2a3f5f"
           }
          },
          "ternary": {
           "aaxis": {
            "gridcolor": "white",
            "linecolor": "white",
            "ticks": ""
           },
           "baxis": {
            "gridcolor": "white",
            "linecolor": "white",
            "ticks": ""
           },
           "bgcolor": "#E5ECF6",
           "caxis": {
            "gridcolor": "white",
            "linecolor": "white",
            "ticks": ""
           }
          },
          "title": {
           "x": 0.05
          },
          "xaxis": {
           "automargin": true,
           "gridcolor": "white",
           "linecolor": "white",
           "ticks": "",
           "title": {
            "standoff": 15
           },
           "zerolinecolor": "white",
           "zerolinewidth": 2
          },
          "yaxis": {
           "automargin": true,
           "gridcolor": "white",
           "linecolor": "white",
           "ticks": "",
           "title": {
            "standoff": 15
           },
           "zerolinecolor": "white",
           "zerolinewidth": 2
          }
         }
        }
       }
      }
     },
     "metadata": {},
     "output_type": "display_data"
    }
   ],
   "source": [
    "fig = px.scatter_geo(data_frame= Circuit_df, lat= 'lat', lon= 'lng', hover_name= 'name',\n",
    "                     hover_data= {'occurence': True, 'grand_prix': True},\n",
    "                     projection= 'natural earth',\n",
    "                     color= 'country')\n",
    "fig.update_traces(marker = dict(line= dict(width= 0.5, color= 'black')),\n",
    "                  hovertemplate= \"<b>%{hovertext}<b><br>\"+\n",
    "                                 \"<b>%{customdata[1]}<b><br>\"+\n",
    "                                 \"occurence:  %{customdata[0]:,.0f}<br>\"\n",
    "                    )\n",
    "fig.show()"
   ]
  },
  {
   "cell_type": "markdown",
   "metadata": {},
   "source": [
    "#### **Driver Performance**"
   ]
  },
  {
   "cell_type": "code",
   "execution_count": 91,
   "metadata": {},
   "outputs": [
    {
     "data": {
      "text/html": [
       "<div>\n",
       "<style scoped>\n",
       "    .dataframe tbody tr th:only-of-type {\n",
       "        vertical-align: middle;\n",
       "    }\n",
       "\n",
       "    .dataframe tbody tr th {\n",
       "        vertical-align: top;\n",
       "    }\n",
       "\n",
       "    .dataframe thead th {\n",
       "        text-align: right;\n",
       "    }\n",
       "</style>\n",
       "<table border=\"1\" class=\"dataframe\">\n",
       "  <thead>\n",
       "    <tr style=\"text-align: right;\">\n",
       "      <th></th>\n",
       "      <th>Name</th>\n",
       "      <th>wins</th>\n",
       "    </tr>\n",
       "  </thead>\n",
       "  <tbody>\n",
       "    <tr>\n",
       "      <th>0</th>\n",
       "      <td>Lewis Hamilton</td>\n",
       "      <td>104</td>\n",
       "    </tr>\n",
       "    <tr>\n",
       "      <th>1</th>\n",
       "      <td>Michael Schumacher</td>\n",
       "      <td>91</td>\n",
       "    </tr>\n",
       "    <tr>\n",
       "      <th>2</th>\n",
       "      <td>Max Verstappen</td>\n",
       "      <td>61</td>\n",
       "    </tr>\n",
       "    <tr>\n",
       "      <th>3</th>\n",
       "      <td>Sebastian Vettel</td>\n",
       "      <td>53</td>\n",
       "    </tr>\n",
       "    <tr>\n",
       "      <th>4</th>\n",
       "      <td>Alain Prost</td>\n",
       "      <td>51</td>\n",
       "    </tr>\n",
       "    <tr>\n",
       "      <th>...</th>\n",
       "      <td>...</td>\n",
       "      <td>...</td>\n",
       "    </tr>\n",
       "    <tr>\n",
       "      <th>109</th>\n",
       "      <td>Jean Alesi</td>\n",
       "      <td>1</td>\n",
       "    </tr>\n",
       "    <tr>\n",
       "      <th>110</th>\n",
       "      <td>Olivier Panis</td>\n",
       "      <td>1</td>\n",
       "    </tr>\n",
       "    <tr>\n",
       "      <th>111</th>\n",
       "      <td>Jarno Trulli</td>\n",
       "      <td>1</td>\n",
       "    </tr>\n",
       "    <tr>\n",
       "      <th>112</th>\n",
       "      <td>Robert Kubica</td>\n",
       "      <td>1</td>\n",
       "    </tr>\n",
       "    <tr>\n",
       "      <th>113</th>\n",
       "      <td>Heikki Kovalainen</td>\n",
       "      <td>1</td>\n",
       "    </tr>\n",
       "  </tbody>\n",
       "</table>\n",
       "<p>114 rows × 2 columns</p>\n",
       "</div>"
      ],
      "text/plain": [
       "                   Name  wins\n",
       "0        Lewis Hamilton   104\n",
       "1    Michael Schumacher    91\n",
       "2        Max Verstappen    61\n",
       "3      Sebastian Vettel    53\n",
       "4           Alain Prost    51\n",
       "..                  ...   ...\n",
       "109          Jean Alesi     1\n",
       "110       Olivier Panis     1\n",
       "111        Jarno Trulli     1\n",
       "112       Robert Kubica     1\n",
       "113   Heikki Kovalainen     1\n",
       "\n",
       "[114 rows x 2 columns]"
      ]
     },
     "execution_count": 91,
     "metadata": {},
     "output_type": "execute_result"
    }
   ],
   "source": [
    "#driver performance \n",
    "query = \"\"\"\n",
    "        SELECT drivers.Name, COUNT(results.position) AS wins\n",
    "        FROM drivers\n",
    "        JOIN results ON drivers.driverId = results.driverId\n",
    "        WHERE results.position = 1\n",
    "        GROUP BY drivers.driverId\n",
    "        ORDER BY wins DESC\n",
    "        \"\"\"\n",
    "driver_performance = pd.read_sql(query, engine)\n",
    "driver_performance"
   ]
  },
  {
   "cell_type": "code",
   "execution_count": 93,
   "metadata": {},
   "outputs": [
    {
     "data": {
      "image/png": "[encoded data removed]",
      "text/plain": [
       "<Figure size 800x600 with 1 Axes>"
      ]
     },
     "metadata": {},
     "output_type": "display_data"
    }
   ],
   "source": [
    "plt.figure(figsize= (8,6))\n",
    "ax = sns.barplot(data= driver_performance.head(10), x= 'Name',y= 'wins', hue= 'Name')\n",
    "plt.title('Top 10 Drivers in Formual One')\n",
    "plt.ylabel('total wins')\n",
    "plt.xlabel('Drivers')\n",
    "plt.xticks(rotation = -45, ha= 'left',va= 'top')\n",
    "for p in ax.patches:\n",
    "    ax.annotate(f'{p.get_height(): .0f}',\n",
    "                (p.get_x() + p.get_width() / 2., p.get_height()), \n",
    "                ha='center', \n",
    "                va='bottom', \n",
    "                xytext=(0, 5),  # Offset to move text 5 points above the bar\n",
    "                textcoords='offset points')\n",
    "plt.show()"
   ]
  },
  {
   "cell_type": "markdown",
   "metadata": {},
   "source": [
    "#### **Constructor Performance**"
   ]
  },
  {
   "cell_type": "code",
   "execution_count": 64,
   "metadata": {},
   "outputs": [
    {
     "data": {
      "text/html": [
       "<div>\n",
       "<style scoped>\n",
       "    .dataframe tbody tr th:only-of-type {\n",
       "        vertical-align: middle;\n",
       "    }\n",
       "\n",
       "    .dataframe tbody tr th {\n",
       "        vertical-align: top;\n",
       "    }\n",
       "\n",
       "    .dataframe thead th {\n",
       "        text-align: right;\n",
       "    }\n",
       "</style>\n",
       "<table border=\"1\" class=\"dataframe\">\n",
       "  <thead>\n",
       "    <tr style=\"text-align: right;\">\n",
       "      <th></th>\n",
       "      <th>name</th>\n",
       "      <th>wins</th>\n",
       "    </tr>\n",
       "  </thead>\n",
       "  <tbody>\n",
       "    <tr>\n",
       "      <th>0</th>\n",
       "      <td>Ferrari</td>\n",
       "      <td>234</td>\n",
       "    </tr>\n",
       "    <tr>\n",
       "      <th>1</th>\n",
       "      <td>McLaren</td>\n",
       "      <td>165</td>\n",
       "    </tr>\n",
       "    <tr>\n",
       "      <th>2</th>\n",
       "      <td>Mercedes</td>\n",
       "      <td>145</td>\n",
       "    </tr>\n",
       "    <tr>\n",
       "      <th>3</th>\n",
       "      <td>Red Bull</td>\n",
       "      <td>120</td>\n",
       "    </tr>\n",
       "    <tr>\n",
       "      <th>4</th>\n",
       "      <td>Williams</td>\n",
       "      <td>114</td>\n",
       "    </tr>\n",
       "    <tr>\n",
       "      <th>5</th>\n",
       "      <td>Renault</td>\n",
       "      <td>46</td>\n",
       "    </tr>\n",
       "    <tr>\n",
       "      <th>6</th>\n",
       "      <td>Team Lotus</td>\n",
       "      <td>44</td>\n",
       "    </tr>\n",
       "    <tr>\n",
       "      <th>7</th>\n",
       "      <td>Benetton</td>\n",
       "      <td>29</td>\n",
       "    </tr>\n",
       "    <tr>\n",
       "      <th>8</th>\n",
       "      <td>Lotus-Climax</td>\n",
       "      <td>23</td>\n",
       "    </tr>\n",
       "    <tr>\n",
       "      <th>9</th>\n",
       "      <td>Cooper-Climax</td>\n",
       "      <td>20</td>\n",
       "    </tr>\n",
       "    <tr>\n",
       "      <th>10</th>\n",
       "      <td>Brawn</td>\n",
       "      <td>17</td>\n",
       "    </tr>\n",
       "    <tr>\n",
       "      <th>11</th>\n",
       "      <td>Brabham-Repco</td>\n",
       "      <td>16</td>\n",
       "    </tr>\n",
       "    <tr>\n",
       "      <th>12</th>\n",
       "      <td>Tyrrell</td>\n",
       "      <td>16</td>\n",
       "    </tr>\n",
       "    <tr>\n",
       "      <th>13</th>\n",
       "      <td>BRM</td>\n",
       "      <td>14</td>\n",
       "    </tr>\n",
       "    <tr>\n",
       "      <th>14</th>\n",
       "      <td>Lotus-Ford</td>\n",
       "      <td>12</td>\n",
       "    </tr>\n",
       "    <tr>\n",
       "      <th>15</th>\n",
       "      <td>Matra-Ford</td>\n",
       "      <td>11</td>\n",
       "    </tr>\n",
       "    <tr>\n",
       "      <th>16</th>\n",
       "      <td>Brabham</td>\n",
       "      <td>6</td>\n",
       "    </tr>\n",
       "    <tr>\n",
       "      <th>17</th>\n",
       "      <td>Cooper</td>\n",
       "      <td>4</td>\n",
       "    </tr>\n",
       "    <tr>\n",
       "      <th>18</th>\n",
       "      <td>Ligier</td>\n",
       "      <td>4</td>\n",
       "    </tr>\n",
       "    <tr>\n",
       "      <th>19</th>\n",
       "      <td>Vanwall</td>\n",
       "      <td>3</td>\n",
       "    </tr>\n",
       "    <tr>\n",
       "      <th>20</th>\n",
       "      <td>March</td>\n",
       "      <td>3</td>\n",
       "    </tr>\n",
       "    <tr>\n",
       "      <th>21</th>\n",
       "      <td>Cooper-Maserati</td>\n",
       "      <td>1</td>\n",
       "    </tr>\n",
       "    <tr>\n",
       "      <th>22</th>\n",
       "      <td>Wolf</td>\n",
       "      <td>1</td>\n",
       "    </tr>\n",
       "    <tr>\n",
       "      <th>23</th>\n",
       "      <td>BMW Sauber</td>\n",
       "      <td>1</td>\n",
       "    </tr>\n",
       "  </tbody>\n",
       "</table>\n",
       "</div>"
      ],
      "text/plain": [
       "               name  wins\n",
       "0           Ferrari   234\n",
       "1           McLaren   165\n",
       "2          Mercedes   145\n",
       "3          Red Bull   120\n",
       "4          Williams   114\n",
       "5           Renault    46\n",
       "6        Team Lotus    44\n",
       "7          Benetton    29\n",
       "8      Lotus-Climax    23\n",
       "9     Cooper-Climax    20\n",
       "10            Brawn    17\n",
       "11    Brabham-Repco    16\n",
       "12          Tyrrell    16\n",
       "13              BRM    14\n",
       "14       Lotus-Ford    12\n",
       "15       Matra-Ford    11\n",
       "16          Brabham     6\n",
       "17           Cooper     4\n",
       "18           Ligier     4\n",
       "19          Vanwall     3\n",
       "20            March     3\n",
       "21  Cooper-Maserati     1\n",
       "22             Wolf     1\n",
       "23       BMW Sauber     1"
      ]
     },
     "execution_count": 64,
     "metadata": {},
     "output_type": "execute_result"
    }
   ],
   "source": [
    "query = \"\"\"\n",
    "        SELECT constructors.name, COUNT(constructor_standings.position) as wins \n",
    "        FROM constructors\n",
    "        JOIN constructor_standings ON constructors.constructorId = constructor_standings.constructorId\n",
    "        JOIN races ON races.raceId = constructor_standings.raceId\n",
    "        WHERE (constructor_standings.position) = 1\n",
    "        GROUP BY constructors.constructorId\n",
    "        ORDER BY wins DESC\n",
    "\"\"\"\n",
    "constructor_performance = pd.read_sql(query, engine)\n",
    "constructor_performance"
   ]
  },
  {
   "cell_type": "code",
   "execution_count": 65,
   "metadata": {},
   "outputs": [],
   "source": [
    "query = \"\"\"\n",
    "WITH yearly_points AS (\n",
    "    SELECT \n",
    "        constructors.constructorId, \n",
    "        constructors.name, \n",
    "        races.year, \n",
    "        SUM(constructor_standings.points) AS total_points\n",
    "    FROM constructors\n",
    "    JOIN constructor_standings\n",
    "        ON constructors.constructorId = constructor_standings.constructorId\n",
    "    JOIN races\n",
    "        ON races.raceId = constructor_standings.raceId\n",
    "    GROUP BY constructors.constructorId, constructors.name, races.year\n",
    "),\n",
    "max_points_per_year AS (\n",
    "    SELECT \n",
    "        year, \n",
    "        MAX(total_points) AS max_points\n",
    "    FROM yearly_points\n",
    "    GROUP BY year\n",
    ")\n",
    "SELECT \n",
    "    yp.name, \n",
    "    yp.year, \n",
    "    mp.max_points AS Points\n",
    "FROM yearly_points AS yp\n",
    "JOIN max_points_per_year AS mp\n",
    "    ON yp.year = mp.year\n",
    "    AND yp.total_points = mp.max_points\n",
    "ORDER BY yp.year DESC;\n",
    "\n",
    "\"\"\"\n",
    "const = pd.read_sql(query, engine)"
   ]
  },
  {
   "cell_type": "code",
   "execution_count": 66,
   "metadata": {},
   "outputs": [
    {
     "data": {
      "text/html": [
       "<div>\n",
       "<style scoped>\n",
       "    .dataframe tbody tr th:only-of-type {\n",
       "        vertical-align: middle;\n",
       "    }\n",
       "\n",
       "    .dataframe tbody tr th {\n",
       "        vertical-align: top;\n",
       "    }\n",
       "\n",
       "    .dataframe thead th {\n",
       "        text-align: right;\n",
       "    }\n",
       "</style>\n",
       "<table border=\"1\" class=\"dataframe\">\n",
       "  <thead>\n",
       "    <tr style=\"text-align: right;\">\n",
       "      <th></th>\n",
       "      <th>name</th>\n",
       "      <th>year</th>\n",
       "      <th>Points</th>\n",
       "    </tr>\n",
       "  </thead>\n",
       "  <tbody>\n",
       "    <tr>\n",
       "      <th>0</th>\n",
       "      <td>Red Bull</td>\n",
       "      <td>2024</td>\n",
       "      <td>2706.0</td>\n",
       "    </tr>\n",
       "    <tr>\n",
       "      <th>1</th>\n",
       "      <td>Red Bull</td>\n",
       "      <td>2023</td>\n",
       "      <td>10158.0</td>\n",
       "    </tr>\n",
       "    <tr>\n",
       "      <th>2</th>\n",
       "      <td>Red Bull</td>\n",
       "      <td>2022</td>\n",
       "      <td>8439.0</td>\n",
       "    </tr>\n",
       "    <tr>\n",
       "      <th>3</th>\n",
       "      <td>Mercedes</td>\n",
       "      <td>2021</td>\n",
       "      <td>6915.5</td>\n",
       "    </tr>\n",
       "    <tr>\n",
       "      <th>4</th>\n",
       "      <td>Mercedes</td>\n",
       "      <td>2020</td>\n",
       "      <td>5476.0</td>\n",
       "    </tr>\n",
       "    <tr>\n",
       "      <th>5</th>\n",
       "      <td>Mercedes</td>\n",
       "      <td>2019</td>\n",
       "      <td>8631.0</td>\n",
       "    </tr>\n",
       "    <tr>\n",
       "      <th>6</th>\n",
       "      <td>Mercedes</td>\n",
       "      <td>2018</td>\n",
       "      <td>6903.0</td>\n",
       "    </tr>\n",
       "    <tr>\n",
       "      <th>7</th>\n",
       "      <td>Mercedes</td>\n",
       "      <td>2017</td>\n",
       "      <td>6928.0</td>\n",
       "    </tr>\n",
       "    <tr>\n",
       "      <th>8</th>\n",
       "      <td>Mercedes</td>\n",
       "      <td>2016</td>\n",
       "      <td>8085.0</td>\n",
       "    </tr>\n",
       "    <tr>\n",
       "      <th>9</th>\n",
       "      <td>Mercedes</td>\n",
       "      <td>2015</td>\n",
       "      <td>7139.0</td>\n",
       "    </tr>\n",
       "    <tr>\n",
       "      <th>10</th>\n",
       "      <td>Mercedes</td>\n",
       "      <td>2014</td>\n",
       "      <td>6830.0</td>\n",
       "    </tr>\n",
       "    <tr>\n",
       "      <th>11</th>\n",
       "      <td>Red Bull</td>\n",
       "      <td>2013</td>\n",
       "      <td>5538.0</td>\n",
       "    </tr>\n",
       "    <tr>\n",
       "      <th>12</th>\n",
       "      <td>Red Bull</td>\n",
       "      <td>2012</td>\n",
       "      <td>4785.0</td>\n",
       "    </tr>\n",
       "    <tr>\n",
       "      <th>13</th>\n",
       "      <td>Red Bull</td>\n",
       "      <td>2011</td>\n",
       "      <td>6679.0</td>\n",
       "    </tr>\n",
       "    <tr>\n",
       "      <th>14</th>\n",
       "      <td>Red Bull</td>\n",
       "      <td>2010</td>\n",
       "      <td>4734.0</td>\n",
       "    </tr>\n",
       "    <tr>\n",
       "      <th>15</th>\n",
       "      <td>Brawn</td>\n",
       "      <td>2009</td>\n",
       "      <td>1752.0</td>\n",
       "    </tr>\n",
       "    <tr>\n",
       "      <th>16</th>\n",
       "      <td>Ferrari</td>\n",
       "      <td>2008</td>\n",
       "      <td>1686.0</td>\n",
       "    </tr>\n",
       "    <tr>\n",
       "      <th>17</th>\n",
       "      <td>McLaren</td>\n",
       "      <td>2007</td>\n",
       "      <td>2072.0</td>\n",
       "    </tr>\n",
       "    <tr>\n",
       "      <th>18</th>\n",
       "      <td>Renault</td>\n",
       "      <td>2006</td>\n",
       "      <td>2065.0</td>\n",
       "    </tr>\n",
       "    <tr>\n",
       "      <th>19</th>\n",
       "      <td>Renault</td>\n",
       "      <td>2005</td>\n",
       "      <td>1853.0</td>\n",
       "    </tr>\n",
       "  </tbody>\n",
       "</table>\n",
       "</div>"
      ],
      "text/plain": [
       "        name  year   Points\n",
       "0   Red Bull  2024   2706.0\n",
       "1   Red Bull  2023  10158.0\n",
       "2   Red Bull  2022   8439.0\n",
       "3   Mercedes  2021   6915.5\n",
       "4   Mercedes  2020   5476.0\n",
       "5   Mercedes  2019   8631.0\n",
       "6   Mercedes  2018   6903.0\n",
       "7   Mercedes  2017   6928.0\n",
       "8   Mercedes  2016   8085.0\n",
       "9   Mercedes  2015   7139.0\n",
       "10  Mercedes  2014   6830.0\n",
       "11  Red Bull  2013   5538.0\n",
       "12  Red Bull  2012   4785.0\n",
       "13  Red Bull  2011   6679.0\n",
       "14  Red Bull  2010   4734.0\n",
       "15     Brawn  2009   1752.0\n",
       "16   Ferrari  2008   1686.0\n",
       "17   McLaren  2007   2072.0\n",
       "18   Renault  2006   2065.0\n",
       "19   Renault  2005   1853.0"
      ]
     },
     "execution_count": 66,
     "metadata": {},
     "output_type": "execute_result"
    }
   ],
   "source": [
    "const.head(20)"
   ]
  },
  {
   "cell_type": "code",
   "execution_count": 67,
   "metadata": {},
   "outputs": [],
   "source": [
    "Constructor_champions = const.groupby(by= 'name').size().reset_index(name = 'Constructor Wins')"
   ]
  },
  {
   "cell_type": "code",
   "execution_count": 70,
   "metadata": {},
   "outputs": [],
   "source": [
    "Constructor_champions.sort_values('Constructor Wins', ascending= False, inplace= True)"
   ]
  },
  {
   "cell_type": "code",
   "execution_count": 71,
   "metadata": {},
   "outputs": [
    {
     "data": {
      "application/vnd.plotly.v1+json": {
       "config": {
        "plotlyServerURL": "https://plot.ly"
       },
       "data": [
        {
         "alignmentgroup": "True",
         "bingroup": "x",
         "histfunc": "sum",
         "hovertemplate": "<b>Constructor Name: %{x}</b><br><b>Constructor Wins: %{y}</b><br>",
         "legendgroup": "Ferrari",
         "marker": {
          "color": "#636efa",
          "pattern": {
           "shape": ""
          }
         },
         "name": "Ferrari",
         "offsetgroup": "Ferrari",
         "orientation": "v",
         "showlegend": true,
         "type": "histogram",
         "x": [
          "Ferrari"
         ],
         "xaxis": "x",
         "y": [
          15
         ],
         "yaxis": "y"
        },
        {
         "alignmentgroup": "True",
         "bingroup": "x",
         "histfunc": "sum",
         "hovertemplate": "<b>Constructor Name: %{x}</b><br><b>Constructor Wins: %{y}</b><br>",
         "legendgroup": "McLaren",
         "marker": {
          "color": "#EF553B",
          "pattern": {
           "shape": ""
          }
         },
         "name": "McLaren",
         "offsetgroup": "McLaren",
         "orientation": "v",
         "showlegend": true,
         "type": "histogram",
         "x": [
          "McLaren"
         ],
         "xaxis": "x",
         "y": [
          9
         ],
         "yaxis": "y"
        },
        {
         "alignmentgroup": "True",
         "bingroup": "x",
         "histfunc": "sum",
         "hovertemplate": "<b>Constructor Name: %{x}</b><br><b>Constructor Wins: %{y}</b><br>",
         "legendgroup": "Mercedes",
         "marker": {
          "color": "#00cc96",
          "pattern": {
           "shape": ""
          }
         },
         "name": "Mercedes",
         "offsetgroup": "Mercedes",
         "orientation": "v",
         "showlegend": true,
         "type": "histogram",
         "x": [
          "Mercedes"
         ],
         "xaxis": "x",
         "y": [
          8
         ],
         "yaxis": "y"
        },
        {
         "alignmentgroup": "True",
         "bingroup": "x",
         "histfunc": "sum",
         "hovertemplate": "<b>Constructor Name: %{x}</b><br><b>Constructor Wins: %{y}</b><br>",
         "legendgroup": "Williams",
         "marker": {
          "color": "#ab63fa",
          "pattern": {
           "shape": ""
          }
         },
         "name": "Williams",
         "offsetgroup": "Williams",
         "orientation": "v",
         "showlegend": true,
         "type": "histogram",
         "x": [
          "Williams"
         ],
         "xaxis": "x",
         "y": [
          8
         ],
         "yaxis": "y"
        },
        {
         "alignmentgroup": "True",
         "bingroup": "x",
         "histfunc": "sum",
         "hovertemplate": "<b>Constructor Name: %{x}</b><br><b>Constructor Wins: %{y}</b><br>",
         "legendgroup": "Red Bull",
         "marker": {
          "color": "#FFA15A",
          "pattern": {
           "shape": ""
          }
         },
         "name": "Red Bull",
         "offsetgroup": "Red Bull",
         "orientation": "v",
         "showlegend": true,
         "type": "histogram",
         "x": [
          "Red Bull"
         ],
         "xaxis": "x",
         "y": [
          7
         ],
         "yaxis": "y"
        },
        {
         "alignmentgroup": "True",
         "bingroup": "x",
         "histfunc": "sum",
         "hovertemplate": "<b>Constructor Name: %{x}</b><br><b>Constructor Wins: %{y}</b><br>",
         "legendgroup": "Team Lotus",
         "marker": {
          "color": "#19d3f3",
          "pattern": {
           "shape": ""
          }
         },
         "name": "Team Lotus",
         "offsetgroup": "Team Lotus",
         "orientation": "v",
         "showlegend": true,
         "type": "histogram",
         "x": [
          "Team Lotus"
         ],
         "xaxis": "x",
         "y": [
          4
         ],
         "yaxis": "y"
        },
        {
         "alignmentgroup": "True",
         "bingroup": "x",
         "histfunc": "sum",
         "hovertemplate": "<b>Constructor Name: %{x}</b><br><b>Constructor Wins: %{y}</b><br>",
         "legendgroup": "Lotus-Climax",
         "marker": {
          "color": "#FF6692",
          "pattern": {
           "shape": ""
          }
         },
         "name": "Lotus-Climax",
         "offsetgroup": "Lotus-Climax",
         "orientation": "v",
         "showlegend": true,
         "type": "histogram",
         "x": [
          "Lotus-Climax"
         ],
         "xaxis": "x",
         "y": [
          3
         ],
         "yaxis": "y"
        },
        {
         "alignmentgroup": "True",
         "bingroup": "x",
         "histfunc": "sum",
         "hovertemplate": "<b>Constructor Name: %{x}</b><br><b>Constructor Wins: %{y}</b><br>",
         "legendgroup": "Benetton",
         "marker": {
          "color": "#B6E880",
          "pattern": {
           "shape": ""
          }
         },
         "name": "Benetton",
         "offsetgroup": "Benetton",
         "orientation": "v",
         "showlegend": true,
         "type": "histogram",
         "x": [
          "Benetton"
         ],
         "xaxis": "x",
         "y": [
          2
         ],
         "yaxis": "y"
        },
        {
         "alignmentgroup": "True",
         "bingroup": "x",
         "histfunc": "sum",
         "hovertemplate": "<b>Constructor Name: %{x}</b><br><b>Constructor Wins: %{y}</b><br>",
         "legendgroup": "Brabham-Repco",
         "marker": {
          "color": "#FF97FF",
          "pattern": {
           "shape": ""
          }
         },
         "name": "Brabham-Repco",
         "offsetgroup": "Brabham-Repco",
         "orientation": "v",
         "showlegend": true,
         "type": "histogram",
         "x": [
          "Brabham-Repco"
         ],
         "xaxis": "x",
         "y": [
          2
         ],
         "yaxis": "y"
        },
        {
         "alignmentgroup": "True",
         "bingroup": "x",
         "histfunc": "sum",
         "hovertemplate": "<b>Constructor Name: %{x}</b><br><b>Constructor Wins: %{y}</b><br>",
         "legendgroup": "Renault",
         "marker": {
          "color": "#FECB52",
          "pattern": {
           "shape": ""
          }
         },
         "name": "Renault",
         "offsetgroup": "Renault",
         "orientation": "v",
         "showlegend": true,
         "type": "histogram",
         "x": [
          "Renault"
         ],
         "xaxis": "x",
         "y": [
          2
         ],
         "yaxis": "y"
        },
        {
         "alignmentgroup": "True",
         "bingroup": "x",
         "histfunc": "sum",
         "hovertemplate": "<b>Constructor Name: %{x}</b><br><b>Constructor Wins: %{y}</b><br>",
         "legendgroup": "Tyrrell",
         "marker": {
          "color": "#636efa",
          "pattern": {
           "shape": ""
          }
         },
         "name": "Tyrrell",
         "offsetgroup": "Tyrrell",
         "orientation": "v",
         "showlegend": true,
         "type": "histogram",
         "x": [
          "Tyrrell"
         ],
         "xaxis": "x",
         "y": [
          2
         ],
         "yaxis": "y"
        },
        {
         "alignmentgroup": "True",
         "bingroup": "x",
         "histfunc": "sum",
         "hovertemplate": "<b>Constructor Name: %{x}</b><br><b>Constructor Wins: %{y}</b><br>",
         "legendgroup": "Cooper-Climax",
         "marker": {
          "color": "#EF553B",
          "pattern": {
           "shape": ""
          }
         },
         "name": "Cooper-Climax",
         "offsetgroup": "Cooper-Climax",
         "orientation": "v",
         "showlegend": true,
         "type": "histogram",
         "x": [
          "Cooper-Climax"
         ],
         "xaxis": "x",
         "y": [
          2
         ],
         "yaxis": "y"
        },
        {
         "alignmentgroup": "True",
         "bingroup": "x",
         "histfunc": "sum",
         "hovertemplate": "<b>Constructor Name: %{x}</b><br><b>Constructor Wins: %{y}</b><br>",
         "legendgroup": "Lotus-Ford",
         "marker": {
          "color": "#00cc96",
          "pattern": {
           "shape": ""
          }
         },
         "name": "Lotus-Ford",
         "offsetgroup": "Lotus-Ford",
         "orientation": "v",
         "showlegend": true,
         "type": "histogram",
         "x": [
          "Lotus-Ford"
         ],
         "xaxis": "x",
         "y": [
          1
         ],
         "yaxis": "y"
        },
        {
         "alignmentgroup": "True",
         "bingroup": "x",
         "histfunc": "sum",
         "hovertemplate": "<b>Constructor Name: %{x}</b><br><b>Constructor Wins: %{y}</b><br>",
         "legendgroup": "Brawn",
         "marker": {
          "color": "#ab63fa",
          "pattern": {
           "shape": ""
          }
         },
         "name": "Brawn",
         "offsetgroup": "Brawn",
         "orientation": "v",
         "showlegend": true,
         "type": "histogram",
         "x": [
          "Brawn"
         ],
         "xaxis": "x",
         "y": [
          1
         ],
         "yaxis": "y"
        },
        {
         "alignmentgroup": "True",
         "bingroup": "x",
         "histfunc": "sum",
         "hovertemplate": "<b>Constructor Name: %{x}</b><br><b>Constructor Wins: %{y}</b><br>",
         "legendgroup": "BRM",
         "marker": {
          "color": "#FFA15A",
          "pattern": {
           "shape": ""
          }
         },
         "name": "BRM",
         "offsetgroup": "BRM",
         "orientation": "v",
         "showlegend": true,
         "type": "histogram",
         "x": [
          "BRM"
         ],
         "xaxis": "x",
         "y": [
          1
         ],
         "yaxis": "y"
        },
        {
         "alignmentgroup": "True",
         "bingroup": "x",
         "histfunc": "sum",
         "hovertemplate": "<b>Constructor Name: %{x}</b><br><b>Constructor Wins: %{y}</b><br>",
         "legendgroup": "Matra-Ford",
         "marker": {
          "color": "#19d3f3",
          "pattern": {
           "shape": ""
          }
         },
         "name": "Matra-Ford",
         "offsetgroup": "Matra-Ford",
         "orientation": "v",
         "showlegend": true,
         "type": "histogram",
         "x": [
          "Matra-Ford"
         ],
         "xaxis": "x",
         "y": [
          1
         ],
         "yaxis": "y"
        }
       ],
       "layout": {
        "barmode": "relative",
        "legend": {
         "title": {
          "text": "name"
         },
         "tracegroupgap": 0
        },
        "showlegend": false,
        "template": {
         "data": {
          "bar": [
           {
            "error_x": {
             "color": "#2a3f5f"
            },
            "error_y": {
             "color": "#2a3f5f"
            },
            "marker": {
             "line": {
              "color": "#E5ECF6",
              "width": 0.5
             },
             "pattern": {
              "fillmode": "overlay",
              "size": 10,
              "solidity": 0.2
             }
            },
            "type": "bar"
           }
          ],
          "barpolar": [
           {
            "marker": {
             "line": {
              "color": "#E5ECF6",
              "width": 0.5
             },
             "pattern": {
              "fillmode": "overlay",
              "size": 10,
              "solidity": 0.2
             }
            },
            "type": "barpolar"
           }
          ],
          "carpet": [
           {
            "aaxis": {
             "endlinecolor": "#2a3f5f",
             "gridcolor": "white",
             "linecolor": "white",
             "minorgridcolor": "white",
             "startlinecolor": "#2a3f5f"
            },
            "baxis": {
             "endlinecolor": "#2a3f5f",
             "gridcolor": "white",
             "linecolor": "white",
             "minorgridcolor": "white",
             "startlinecolor": "#2a3f5f"
            },
            "type": "carpet"
           }
          ],
          "choropleth": [
           {
            "colorbar": {
             "outlinewidth": 0,
             "ticks": ""
            },
            "type": "choropleth"
           }
          ],
          "contour": [
           {
            "colorbar": {
             "outlinewidth": 0,
             "ticks": ""
            },
            "colorscale": [
             [
              0,
              "#0d0887"
             ],
             [
              0.1111111111111111,
              "#46039f"
             ],
             [
              0.2222222222222222,
              "#7201a8"
             ],
             [
              0.3333333333333333,
              "#9c179e"
             ],
             [
              0.4444444444444444,
              "#bd3786"
             ],
             [
              0.5555555555555556,
              "#d8576b"
             ],
             [
              0.6666666666666666,
              "#ed7953"
             ],
             [
              0.7777777777777778,
              "#fb9f3a"
             ],
             [
              0.8888888888888888,
              "#fdca26"
             ],
             [
              1,
              "#f0f921"
             ]
            ],
            "type": "contour"
           }
          ],
          "contourcarpet": [
           {
            "colorbar": {
             "outlinewidth": 0,
             "ticks": ""
            },
            "type": "contourcarpet"
           }
          ],
          "heatmap": [
           {
            "colorbar": {
             "outlinewidth": 0,
             "ticks": ""
            },
            "colorscale": [
             [
              0,
              "#0d0887"
             ],
             [
              0.1111111111111111,
              "#46039f"
             ],
             [
              0.2222222222222222,
              "#7201a8"
             ],
             [
              0.3333333333333333,
              "#9c179e"
             ],
             [
              0.4444444444444444,
              "#bd3786"
             ],
             [
              0.5555555555555556,
              "#d8576b"
             ],
             [
              0.6666666666666666,
              "#ed7953"
             ],
             [
              0.7777777777777778,
              "#fb9f3a"
             ],
             [
              0.8888888888888888,
              "#fdca26"
             ],
             [
              1,
              "#f0f921"
             ]
            ],
            "type": "heatmap"
           }
          ],
          "heatmapgl": [
           {
            "colorbar": {
             "outlinewidth": 0,
             "ticks": ""
            },
            "colorscale": [
             [
              0,
              "#0d0887"
             ],
             [
              0.1111111111111111,
              "#46039f"
             ],
             [
              0.2222222222222222,
              "#7201a8"
             ],
             [
              0.3333333333333333,
              "#9c179e"
             ],
             [
              0.4444444444444444,
              "#bd3786"
             ],
             [
              0.5555555555555556,
              "#d8576b"
             ],
             [
              0.6666666666666666,
              "#ed7953"
             ],
             [
              0.7777777777777778,
              "#fb9f3a"
             ],
             [
              0.8888888888888888,
              "#fdca26"
             ],
             [
              1,
              "#f0f921"
             ]
            ],
            "type": "heatmapgl"
           }
          ],
          "histogram": [
           {
            "marker": {
             "pattern": {
              "fillmode": "overlay",
              "size": 10,
              "solidity": 0.2
             }
            },
            "type": "histogram"
           }
          ],
          "histogram2d": [
           {
            "colorbar": {
             "outlinewidth": 0,
             "ticks": ""
            },
            "colorscale": [
             [
              0,
              "#0d0887"
             ],
             [
              0.1111111111111111,
              "#46039f"
             ],
             [
              0.2222222222222222,
              "#7201a8"
             ],
             [
              0.3333333333333333,
              "#9c179e"
             ],
             [
              0.4444444444444444,
              "#bd3786"
             ],
             [
              0.5555555555555556,
              "#d8576b"
             ],
             [
              0.6666666666666666,
              "#ed7953"
             ],
             [
              0.7777777777777778,
              "#fb9f3a"
             ],
             [
              0.8888888888888888,
              "#fdca26"
             ],
             [
              1,
              "#f0f921"
             ]
            ],
            "type": "histogram2d"
           }
          ],
          "histogram2dcontour": [
           {
            "colorbar": {
             "outlinewidth": 0,
             "ticks": ""
            },
            "colorscale": [
             [
              0,
              "#0d0887"
             ],
             [
              0.1111111111111111,
              "#46039f"
             ],
             [
              0.2222222222222222,
              "#7201a8"
             ],
             [
              0.3333333333333333,
              "#9c179e"
             ],
             [
              0.4444444444444444,
              "#bd3786"
             ],
             [
              0.5555555555555556,
              "#d8576b"
             ],
             [
              0.6666666666666666,
              "#ed7953"
             ],
             [
              0.7777777777777778,
              "#fb9f3a"
             ],
             [
              0.8888888888888888,
              "#fdca26"
             ],
             [
              1,
              "#f0f921"
             ]
            ],
            "type": "histogram2dcontour"
           }
          ],
          "mesh3d": [
           {
            "colorbar": {
             "outlinewidth": 0,
             "ticks": ""
            },
            "type": "mesh3d"
           }
          ],
          "parcoords": [
           {
            "line": {
             "colorbar": {
              "outlinewidth": 0,
              "ticks": ""
             }
            },
            "type": "parcoords"
           }
          ],
          "pie": [
           {
            "automargin": true,
            "type": "pie"
           }
          ],
          "scatter": [
           {
            "fillpattern": {
             "fillmode": "overlay",
             "size": 10,
             "solidity": 0.2
            },
            "type": "scatter"
           }
          ],
          "scatter3d": [
           {
            "line": {
             "colorbar": {
              "outlinewidth": 0,
              "ticks": ""
             }
            },
            "marker": {
             "colorbar": {
              "outlinewidth": 0,
              "ticks": ""
             }
            },
            "type": "scatter3d"
           }
          ],
          "scattercarpet": [
           {
            "marker": {
             "colorbar": {
              "outlinewidth": 0,
              "ticks": ""
             }
            },
            "type": "scattercarpet"
           }
          ],
          "scattergeo": [
           {
            "marker": {
             "colorbar": {
              "outlinewidth": 0,
              "ticks": ""
             }
            },
            "type": "scattergeo"
           }
          ],
          "scattergl": [
           {
            "marker": {
             "colorbar": {
              "outlinewidth": 0,
              "ticks": ""
             }
            },
            "type": "scattergl"
           }
          ],
          "scattermapbox": [
           {
            "marker": {
             "colorbar": {
              "outlinewidth": 0,
              "ticks": ""
             }
            },
            "type": "scattermapbox"
           }
          ],
          "scatterpolar": [
           {
            "marker": {
             "colorbar": {
              "outlinewidth": 0,
              "ticks": ""
             }
            },
            "type": "scatterpolar"
           }
          ],
          "scatterpolargl": [
           {
            "marker": {
             "colorbar": {
              "outlinewidth": 0,
              "ticks": ""
             }
            },
            "type": "scatterpolargl"
           }
          ],
          "scatterternary": [
           {
            "marker": {
             "colorbar": {
              "outlinewidth": 0,
              "ticks": ""
             }
            },
            "type": "scatterternary"
           }
          ],
          "surface": [
           {
            "colorbar": {
             "outlinewidth": 0,
             "ticks": ""
            },
            "colorscale": [
             [
              0,
              "#0d0887"
             ],
             [
              0.1111111111111111,
              "#46039f"
             ],
             [
              0.2222222222222222,
              "#7201a8"
             ],
             [
              0.3333333333333333,
              "#9c179e"
             ],
             [
              0.4444444444444444,
              "#bd3786"
             ],
             [
              0.5555555555555556,
              "#d8576b"
             ],
             [
              0.6666666666666666,
              "#ed7953"
             ],
             [
              0.7777777777777778,
              "#fb9f3a"
             ],
             [
              0.8888888888888888,
              "#fdca26"
             ],
             [
              1,
              "#f0f921"
             ]
            ],
            "type": "surface"
           }
          ],
          "table": [
           {
            "cells": {
             "fill": {
              "color": "#EBF0F8"
             },
             "line": {
              "color": "white"
             }
            },
            "header": {
             "fill": {
              "color": "#C8D4E3"
             },
             "line": {
              "color": "white"
             }
            },
            "type": "table"
           }
          ]
         },
         "layout": {
          "annotationdefaults": {
           "arrowcolor": "#2a3f5f",
           "arrowhead": 0,
           "arrowwidth": 1
          },
          "autotypenumbers": "strict",
          "coloraxis": {
           "colorbar": {
            "outlinewidth": 0,
            "ticks": ""
           }
          },
          "colorscale": {
           "diverging": [
            [
             0,
             "#8e0152"
            ],
            [
             0.1,
             "#c51b7d"
            ],
            [
             0.2,
             "#de77ae"
            ],
            [
             0.3,
             "#f1b6da"
            ],
            [
             0.4,
             "#fde0ef"
            ],
            [
             0.5,
             "#f7f7f7"
            ],
            [
             0.6,
             "#e6f5d0"
            ],
            [
             0.7,
             "#b8e186"
            ],
            [
             0.8,
             "#7fbc41"
            ],
            [
             0.9,
             "#4d9221"
            ],
            [
             1,
             "#276419"
            ]
           ],
           "sequential": [
            [
             0,
             "#0d0887"
            ],
            [
             0.1111111111111111,
             "#46039f"
            ],
            [
             0.2222222222222222,
             "#7201a8"
            ],
            [
             0.3333333333333333,
             "#9c179e"
            ],
            [
             0.4444444444444444,
             "#bd3786"
            ],
            [
             0.5555555555555556,
             "#d8576b"
            ],
            [
             0.6666666666666666,
             "#ed7953"
            ],
            [
             0.7777777777777778,
             "#fb9f3a"
            ],
            [
             0.8888888888888888,
             "#fdca26"
            ],
            [
             1,
             "#f0f921"
            ]
           ],
           "sequentialminus": [
            [
             0,
             "#0d0887"
            ],
            [
             0.1111111111111111,
             "#46039f"
            ],
            [
             0.2222222222222222,
             "#7201a8"
            ],
            [
             0.3333333333333333,
             "#9c179e"
            ],
            [
             0.4444444444444444,
             "#bd3786"
            ],
            [
             0.5555555555555556,
             "#d8576b"
            ],
            [
             0.6666666666666666,
             "#ed7953"
            ],
            [
             0.7777777777777778,
             "#fb9f3a"
            ],
            [
             0.8888888888888888,
             "#fdca26"
            ],
            [
             1,
             "#f0f921"
            ]
           ]
          },
          "colorway": [
           "#636efa",
           "#EF553B",
           "#00cc96",
           "#ab63fa",
           "#FFA15A",
           "#19d3f3",
           "#FF6692",
           "#B6E880",
           "#FF97FF",
           "#FECB52"
          ],
          "font": {
           "color": "#2a3f5f"
          },
          "geo": {
           "bgcolor": "white",
           "lakecolor": "white",
           "landcolor": "#E5ECF6",
           "showlakes": true,
           "showland": true,
           "subunitcolor": "white"
          },
          "hoverlabel": {
           "align": "left"
          },
          "hovermode": "closest",
          "mapbox": {
           "style": "light"
          },
          "paper_bgcolor": "white",
          "plot_bgcolor": "#E5ECF6",
          "polar": {
           "angularaxis": {
            "gridcolor": "white",
            "linecolor": "white",
            "ticks": ""
           },
           "bgcolor": "#E5ECF6",
           "radialaxis": {
            "gridcolor": "white",
            "linecolor": "white",
            "ticks": ""
           }
          },
          "scene": {
           "xaxis": {
            "backgroundcolor": "#E5ECF6",
            "gridcolor": "white",
            "gridwidth": 2,
            "linecolor": "white",
            "showbackground": true,
            "ticks": "",
            "zerolinecolor": "white"
           },
           "yaxis": {
            "backgroundcolor": "#E5ECF6",
            "gridcolor": "white",
            "gridwidth": 2,
            "linecolor": "white",
            "showbackground": true,
            "ticks": "",
            "zerolinecolor": "white"
           },
           "zaxis": {
            "backgroundcolor": "#E5ECF6",
            "gridcolor": "white",
            "gridwidth": 2,
            "linecolor": "white",
            "showbackground": true,
            "ticks": "",
            "zerolinecolor": "white"
           }
          },
          "shapedefaults": {
           "line": {
            "color": "#2a3f5f"
           }
          },
          "ternary": {
           "aaxis": {
            "gridcolor": "white",
            "linecolor": "white",
            "ticks": ""
           },
           "baxis": {
            "gridcolor": "white",
            "linecolor": "white",
            "ticks": ""
           },
           "bgcolor": "#E5ECF6",
           "caxis": {
            "gridcolor": "white",
            "linecolor": "white",
            "ticks": ""
           }
          },
          "title": {
           "x": 0.05
          },
          "xaxis": {
           "automargin": true,
           "gridcolor": "white",
           "linecolor": "white",
           "ticks": "",
           "title": {
            "standoff": 15
           },
           "zerolinecolor": "white",
           "zerolinewidth": 2
          },
          "yaxis": {
           "automargin": true,
           "gridcolor": "white",
           "linecolor": "white",
           "ticks": "",
           "title": {
            "standoff": 15
           },
           "zerolinecolor": "white",
           "zerolinewidth": 2
          }
         }
        },
        "title": {
         "text": "Constructor Champions",
         "x": 0.5,
         "xanchor": "center",
         "yanchor": "top"
        },
        "xaxis": {
         "anchor": "y",
         "categoryarray": [
          "Ferrari",
          "McLaren",
          "Mercedes",
          "Williams",
          "Red Bull",
          "Team Lotus",
          "Lotus-Climax",
          "Benetton",
          "Brabham-Repco",
          "Renault",
          "Tyrrell",
          "Cooper-Climax",
          "Lotus-Ford",
          "Brawn",
          "BRM",
          "Matra-Ford"
         ],
         "categoryorder": "array",
         "domain": [
          0,
          1
         ],
         "title": {
          "text": "Constructors"
         }
        },
        "yaxis": {
         "anchor": "x",
         "domain": [
          0,
          1
         ],
         "title": {
          "text": "Total Constructor Wins"
         }
        }
       }
      }
     },
     "metadata": {},
     "output_type": "display_data"
    }
   ],
   "source": [
    "fig = px.histogram(data_frame=Constructor_champions, \n",
    "                   x='name', \n",
    "                   y='Constructor Wins', \n",
    "                   title='Constructor Champions', \n",
    "                   color='name', \n",
    "                   hover_name='name', \n",
    "                   hover_data={'name': True, 'Constructor Wins': True})  # Proper hover data\n",
    "\n",
    "# Update layout for axis titles and remove legend\n",
    "fig.update_layout(\n",
    "    xaxis_title='Constructors', \n",
    "    yaxis_title='Total Constructor Wins', \n",
    "    showlegend=False,\n",
    "    title={'text': 'Constructor Champions', 'x': 0.5, 'yanchor': 'top', 'xanchor': 'center'}\n",
    ")\n",
    "\n",
    "# Update hover template to customize hover text\n",
    "fig.update_traces(\n",
    "    hovertemplate= \n",
    "                  \"<b>Constructor Name: %{x}</b><br>\" +  # Display the constructor name\n",
    "                  \"<b>Constructor Wins: %{y}</b><br>\"  # Display the 'Constructor Wins'\n",
    ")\n",
    "fig.show()"
   ]
  },
  {
   "cell_type": "markdown",
   "metadata": {},
   "source": [
    "#### fastest lap times\n"
   ]
  },
  {
   "cell_type": "code",
   "execution_count": 127,
   "metadata": {},
   "outputs": [],
   "source": [
    "#changing data types for results column\n",
    "l = ['time', 'milliseconds','fastestLap','rank','fastestLapTime','fastestLapSpeed']\n",
    "for i in l:\n",
    "    results[i] = pd.to_numeric(results[i], errors='coerce')"
   ]
  },
  {
   "cell_type": "code",
   "execution_count": 78,
   "metadata": {},
   "outputs": [],
   "source": [
    "l = ['time','milliseconds','fastestLap','fastestLapTime','position']\n",
    "for i in l:\n",
    "    sprint_results[i] = pd.to_numeric(sprint_results[i], errors= 'coerce')"
   ]
  },
  {
   "cell_type": "code",
   "execution_count": null,
   "metadata": {},
   "outputs": [],
   "source": [
    "query = \"\"\"\n",
    "WITH fastest_lap AS(\n",
    "SELECT \n",
    "drivers.driverId, drivers.Name, races.year, results.raceId, MAX(results.fastestLap_time_ms) AS fastestLap_time\n",
    "FROM drivers\n",
    "JOIN results\n",
    "ON drivers.driverId = results.driverId\n",
    "JOIN races\n",
    "ON races.raceId = results.raceId\n",
    "GROUP BY results.raceId\n",
    "fastest_lap_count AS(\n",
    "SELECT\n",
    "driverId, Name, COUNT(driverId) AS Number_of_fastestLap\n",
    "FROM fastest_lap\n",
    "GROUP BY driverId, Name\n",
    ")\n",
    "SELECT\n",
    "fl.driverId, fl.Name, flc.Number_of_fastestLap\n",
    "FROM fastest_lap AS fl\n",
    "JOIN fastest_lap_count AS flc\n",
    "ON fl.driverId = flc.driverId\n",
    "AND fl.Name = flc.Name\n",
    "\"\"\"\n",
    "Fastest_lap = pd.read_sql(query, engine)"
   ]
  },
  {
   "cell_type": "code",
   "execution_count": 57,
   "metadata": {},
   "outputs": [],
   "source": [
    "Fastest_lap.sort_values('Number_of_fastestLap', ascending= False, inplace=True)"
   ]
  },
  {
   "cell_type": "code",
   "execution_count": 65,
   "metadata": {},
   "outputs": [
    {
     "data": {
      "text/html": [
       "<div>\n",
       "<style scoped>\n",
       "    .dataframe tbody tr th:only-of-type {\n",
       "        vertical-align: middle;\n",
       "    }\n",
       "\n",
       "    .dataframe tbody tr th {\n",
       "        vertical-align: top;\n",
       "    }\n",
       "\n",
       "    .dataframe thead th {\n",
       "        text-align: right;\n",
       "    }\n",
       "</style>\n",
       "<table border=\"1\" class=\"dataframe\">\n",
       "  <thead>\n",
       "    <tr style=\"text-align: right;\">\n",
       "      <th></th>\n",
       "      <th>driverId</th>\n",
       "      <th>Name</th>\n",
       "      <th>Number_of_fastestLap</th>\n",
       "    </tr>\n",
       "  </thead>\n",
       "  <tbody>\n",
       "    <tr>\n",
       "      <th>0</th>\n",
       "      <td>1</td>\n",
       "      <td>Lewis Hamilton</td>\n",
       "      <td>344</td>\n",
       "    </tr>\n",
       "    <tr>\n",
       "      <th>1</th>\n",
       "      <td>1</td>\n",
       "      <td>Lewis Hamilton</td>\n",
       "      <td>344</td>\n",
       "    </tr>\n",
       "    <tr>\n",
       "      <th>2</th>\n",
       "      <td>1</td>\n",
       "      <td>Lewis Hamilton</td>\n",
       "      <td>344</td>\n",
       "    </tr>\n",
       "    <tr>\n",
       "      <th>3</th>\n",
       "      <td>1</td>\n",
       "      <td>Lewis Hamilton</td>\n",
       "      <td>344</td>\n",
       "    </tr>\n",
       "    <tr>\n",
       "      <th>4</th>\n",
       "      <td>1</td>\n",
       "      <td>Lewis Hamilton</td>\n",
       "      <td>344</td>\n",
       "    </tr>\n",
       "    <tr>\n",
       "      <th>...</th>\n",
       "      <td>...</td>\n",
       "      <td>...</td>\n",
       "      <td>...</td>\n",
       "    </tr>\n",
       "    <tr>\n",
       "      <th>26423</th>\n",
       "      <td>859</td>\n",
       "      <td>Liam Lawson</td>\n",
       "      <td>5</td>\n",
       "    </tr>\n",
       "    <tr>\n",
       "      <th>26424</th>\n",
       "      <td>859</td>\n",
       "      <td>Liam Lawson</td>\n",
       "      <td>5</td>\n",
       "    </tr>\n",
       "    <tr>\n",
       "      <th>26425</th>\n",
       "      <td>859</td>\n",
       "      <td>Liam Lawson</td>\n",
       "      <td>5</td>\n",
       "    </tr>\n",
       "    <tr>\n",
       "      <th>26426</th>\n",
       "      <td>859</td>\n",
       "      <td>Liam Lawson</td>\n",
       "      <td>5</td>\n",
       "    </tr>\n",
       "    <tr>\n",
       "      <th>26427</th>\n",
       "      <td>860</td>\n",
       "      <td>Oliver Bearman</td>\n",
       "      <td>1</td>\n",
       "    </tr>\n",
       "  </tbody>\n",
       "</table>\n",
       "<p>26428 rows × 3 columns</p>\n",
       "</div>"
      ],
      "text/plain": [
       "       driverId            Name  Number_of_fastestLap\n",
       "0             1  Lewis Hamilton                   344\n",
       "1             1  Lewis Hamilton                   344\n",
       "2             1  Lewis Hamilton                   344\n",
       "3             1  Lewis Hamilton                   344\n",
       "4             1  Lewis Hamilton                   344\n",
       "...         ...             ...                   ...\n",
       "26423       859     Liam Lawson                     5\n",
       "26424       859     Liam Lawson                     5\n",
       "26425       859     Liam Lawson                     5\n",
       "26426       859     Liam Lawson                     5\n",
       "26427       860  Oliver Bearman                     1\n",
       "\n",
       "[26428 rows x 3 columns]"
      ]
     },
     "execution_count": 65,
     "metadata": {},
     "output_type": "execute_result"
    }
   ],
   "source": [
    "Fastest_lap"
   ]
  },
  {
   "cell_type": "code",
   "execution_count": 62,
   "metadata": {},
   "outputs": [
    {
     "name": "stdout",
     "output_type": "stream",
     "text": [
      "(12, 'Nelson Piquet Jr.', 2009, 1, 90502.0)\n",
      "(16, 'Adrian Sutil', 2009, 2, 99464.0)\n",
      "(15, 'Jarno Trulli', 2009, 3, 120330.0)\n",
      "(67, 'Sébastien Buemi', 2009, 4, 96473.0)\n",
      "(5, 'Heikki Kovalainen', 2009, 5, 88719.0)\n",
      "(67, 'Sébastien Buemi', 2009, 6, 78582.0)\n",
      "(21, 'Giancarlo Fisichella', 2009, 7, 94070.0)\n",
      "(16, 'Adrian Sutil', 2009, 8, 83475.0)\n",
      "(7, 'Sébastien Bourdais', 2009, 9, 97498.0)\n",
      "(4, 'Fernando Alonso', 2009, 10, 83529.0)\n",
      "(67, 'Sébastien Buemi', 2009, 11, 101042.0)\n",
      "(15, 'Jarno Trulli', 2009, 12, 110029.0)\n",
      "(153, 'Jaime Alguersuari', 2009, 13, 87846.0)\n",
      "(154, 'Romain Grosjean', 2009, 14, 117192.0)\n",
      "(67, 'Sébastien Buemi', 2009, 15, 95392.0)\n",
      "(6, 'Kazuki Nakajima', 2009, 16, 75073.0)\n",
      "(153, 'Jaime Alguersuari', 2009, 17, 103318.0)\n",
      "(16, 'Adrian Sutil', 2008, 18, 92021.0)\n",
      "(16, 'Adrian Sutil', 2008, 19, 100330.0)\n",
      "(18, 'Jenson Button', 2008, 20, 96125.0)\n",
      "(19, 'Anthony Davidson', 2008, 21, 86864.0)\n",
      "(16, 'Adrian Sutil', 2008, 22, 88780.0)\n",
      "(14, 'David Coulthard', 2008, 23, 102112.0)\n",
      "(16, 'Adrian Sutil', 2008, 24, 80666.0)\n",
      "(18, 'Jenson Button', 2008, 25, 80876.0)\n",
      "(16, 'Adrian Sutil', 2008, 26, 98160.0)\n",
      "(21, 'Giancarlo Fisichella', 2008, 27, 78208.0)\n",
      "(20, 'Sebastian Vettel', 2008, 28, 84222.0)\n",
      "(14, 'David Coulthard', 2008, 29, 100978.0)\n",
      "(22, 'Rubens Barrichello', 2008, 30, 112072.0)\n",
      "(21, 'Giancarlo Fisichella', 2008, 31, 97304.0)\n",
      "(12, 'Nelson Piquet Jr.', 2008, 32, 110449.0)\n",
      "(21, 'Giancarlo Fisichella', 2008, 33, 81577.0)\n",
      "(15, 'Jarno Trulli', 2008, 34, 159612.0)\n",
      "(6, 'Kazuki Nakajima', 2008, 35, 75865.0)\n",
      "(27, 'Christijan Albers', 2007, 36, 90899.0)\n",
      "(27, 'Christijan Albers', 2007, 37, 101495.0)\n",
      "(27, 'Christijan Albers', 2007, 38, 97184.0)\n",
      "(17, 'Mark Webber', 2007, 39, 86323.0)\n",
      "(17, 'Mark Webber', 2007, 40, 78998.0)\n",
      "(26, 'Scott Speed', 2007, 41, 80092.0)\n",
      "(11, 'Takuma Sato', 2007, 42, 76680.0)\n",
      "(27, 'Christijan Albers', 2007, 43, 78955.0)\n",
      "(16, 'Adrian Sutil', 2007, 44, 85015.0)\n",
      "(24, 'Vitantonio Liuzzi', 2007, 45, 202300.0)\n",
      "(29, 'Sakon Yamamoto', 2007, 46, 86741.0)\n",
      "(29, 'Sakon Yamamoto', 2007, 47, 90951.0)\n",
      "(29, 'Sakon Yamamoto', 2007, 48, 85478.0)\n",
      "(20, 'Sebastian Vettel', 2007, 49, 112724.0)\n",
      "(25, 'Alexander Wurz', 2007, 50, 125636.0)\n",
      "(19, 'Anthony Davidson', 2007, 51, 111765.0)\n",
      "(21, 'Giancarlo Fisichella', 2007, 52, 122680.0)\n",
      "(34, 'Yuji Ide', 2006, 53, 98302.0)\n",
      "(34, 'Yuji Ide', 2006, 54, 102833.0)\n",
      "(32, 'Christian Klien', 2006, 55, 101351.0)\n",
      "(34, 'Yuji Ide', 2006, 56, 91032.0)\n",
      "(14, 'David Coulthard', 2006, 57, 144500.0)\n",
      "(36, 'Franck Montagny', 2006, 58, 82389.0)\n",
      "(36, 'Franck Montagny', 2006, 59, 79104.0)\n",
      "(36, 'Franck Montagny', 2006, 60, 87167.0)\n",
      "(36, 'Franck Montagny', 2006, 61, 127709.0)\n",
      "(18, 'Jenson Button', 2006, 62, 124692.0)\n",
      "(33, 'Tiago Monteiro', 2006, 63, 81663.0)\n",
      "(37, 'Pedro de la Rosa', 2006, 64, 79649.0)\n",
      "(3, 'Nico Rosberg', 2006, 65, 98964.0)\n",
      "(29, 'Sakon Yamamoto', 2006, 66, 92337.0)\n",
      "(29, 'Sakon Yamamoto', 2006, 67, 86548.0)\n",
      "(33, 'Tiago Monteiro', 2006, 68, 105356.0)\n",
      "(27, 'Christijan Albers', 2006, 69, 96036.0)\n",
      "(23, 'Ralf Schumacher', 2006, 70, 76835.0)\n",
      "(27, 'Christijan Albers', 2005, 71, 93144.0)\n",
      "(40, 'Patrick Friesacher', 2005, 72, 103558.0)\n",
      "(39, 'Narain Karthikeyan', 2005, 73, 97533.0)\n",
      "(40, 'Patrick Friesacher', 2005, 74, 88334.0)\n",
      "(40, 'Patrick Friesacher', 2005, 75, 80865.0)\n",
      "(39, 'Narain Karthikeyan', 2005, 76, 82019.0)\n",
      "(40, 'Patrick Friesacher', 2005, 77, 95536.0)\n",
      "(40, 'Patrick Friesacher', 2005, 78, 78709.0)\n",
      "(40, 'Patrick Friesacher', 2005, 79, 74490.0)\n",
      "(40, 'Patrick Friesacher', 2005, 80, 81451.0)\n",
      "(40, 'Patrick Friesacher', 2005, 81, 86489.0)\n",
      "(38, 'Robert Doornbos', 2005, 82, 79025.0)\n",
      "(27, 'Christijan Albers', 2005, 83, 85956.0)\n",
      "(27, 'Christijan Albers', 2005, 84, 89392.0)\n",
      "(38, 'Robert Doornbos', 2005, 85, 85193.0)\n",
      "(27, 'Christijan Albers', 2005, 86, 121627.0)\n",
      "(38, 'Robert Doornbos', 2005, 87, 75792.0)\n",
      "(15, 'Jarno Trulli', 2005, 88, 97428.0)\n",
      "(39, 'Narain Karthikeyan', 2005, 89, 97398.0)\n",
      "(47, 'Zsolt Baumgartner', 2004, 90, 90621.0)\n",
      "(47, 'Zsolt Baumgartner', 2004, 91, 100123.0)\n",
      "(46, 'Gianmaria Bruni', 2004, 92, 95130.0)\n",
      "(46, 'Gianmaria Bruni', 2004, 93, 86857.0)\n",
      "(47, 'Zsolt Baumgartner', 2004, 94, 83390.0)\n",
      "(47, 'Zsolt Baumgartner', 2004, 95, 81886.0)\n",
      "(46, 'Gianmaria Bruni', 2004, 96, 95555.0)\n",
      "(46, 'Gianmaria Bruni', 2004, 97, 78025.0)\n",
      "(47, 'Zsolt Baumgartner', 2004, 98, 74097.0)\n",
      "(47, 'Zsolt Baumgartner', 2004, 99, 79659.0)\n",
      "(47, 'Zsolt Baumgartner', 2004, 100, 84317.0)\n",
      "(47, 'Zsolt Baumgartner', 2004, 101, 78760.0)\n",
      "(47, 'Zsolt Baumgartner', 2004, 102, 84855.0)\n",
      "(47, 'Zsolt Baumgartner', 2004, 103, 111031.0)\n",
      "(46, 'Gianmaria Bruni', 2004, 104, 86371.0)\n",
      "(47, 'Zsolt Baumgartner', 2004, 105, 97578.0)\n",
      "(47, 'Zsolt Baumgartner', 2004, 106, 99434.0)\n",
      "(18, 'Jenson Button', 2004, 107, 84440.0)\n",
      "(52, 'Ralph Firman', 2003, 108, None)\n",
      "(52, 'Ralph Firman', 2003, 109, None)\n",
      "(52, 'Ralph Firman', 2003, 110, None)\n",
      "(52, 'Ralph Firman', 2003, 111, None)\n",
      "(52, 'Ralph Firman', 2003, 112, None)\n",
      "(52, 'Ralph Firman', 2003, 113, None)\n",
      "(52, 'Ralph Firman', 2003, 114, None)\n",
      "(52, 'Ralph Firman', 2003, 115, None)\n",
      "(52, 'Ralph Firman', 2003, 116, None)\n",
      "(52, 'Ralph Firman', 2003, 117, None)\n",
      "(52, 'Ralph Firman', 2003, 118, None)\n",
      "(53, 'Nicolas Kiesa', 2003, 119, None)\n",
      "(53, 'Nicolas Kiesa', 2003, 120, None)\n",
      "(53, 'Nicolas Kiesa', 2003, 121, None)\n",
      "(53, 'Nicolas Kiesa', 2003, 122, None)\n",
      "(53, 'Nicolas Kiesa', 2003, 123, None)\n",
      "(66, 'Allan McNish', 2002, 124, None)\n",
      "(66, 'Allan McNish', 2002, 125, None)\n",
      "(66, 'Allan McNish', 2002, 126, None)\n",
      "(66, 'Allan McNish', 2002, 127, None)\n",
      "(66, 'Allan McNish', 2002, 128, None)\n",
      "(66, 'Allan McNish', 2002, 129, None)\n",
      "(66, 'Allan McNish', 2002, 130, None)\n",
      "(66, 'Allan McNish', 2002, 131, None)\n",
      "(66, 'Allan McNish', 2002, 132, None)\n",
      "(66, 'Allan McNish', 2002, 133, None)\n",
      "(66, 'Allan McNish', 2002, 134, None)\n",
      "(66, 'Allan McNish', 2002, 135, None)\n",
      "(66, 'Allan McNish', 2002, 136, None)\n",
      "(66, 'Allan McNish', 2002, 137, None)\n",
      "(66, 'Allan McNish', 2002, 138, None)\n",
      "(66, 'Allan McNish', 2002, 139, None)\n",
      "(66, 'Allan McNish', 2002, 140, None)\n",
      "(60, 'Gastón Mazzacane', 2001, 141, None)\n",
      "(60, 'Gastón Mazzacane', 2001, 142, None)\n",
      "(60, 'Gastón Mazzacane', 2001, 143, None)\n",
      "(60, 'Gastón Mazzacane', 2001, 144, None)\n",
      "(59, 'Enrique Bernoldi', 2001, 145, None)\n",
      "(59, 'Enrique Bernoldi', 2001, 146, None)\n",
      "(59, 'Enrique Bernoldi', 2001, 147, None)\n",
      "(59, 'Enrique Bernoldi', 2001, 148, None)\n",
      "(59, 'Enrique Bernoldi', 2001, 149, None)\n",
      "(59, 'Enrique Bernoldi', 2001, 150, None)\n",
      "(59, 'Enrique Bernoldi', 2001, 151, None)\n",
      "(59, 'Enrique Bernoldi', 2001, 152, None)\n",
      "(59, 'Enrique Bernoldi', 2001, 153, None)\n",
      "(59, 'Enrique Bernoldi', 2001, 154, None)\n",
      "(62, 'Alex Yoong', 2001, 155, None)\n",
      "(62, 'Alex Yoong', 2001, 156, None)\n",
      "(62, 'Alex Yoong', 2001, 157, None)\n",
      "(65, 'Johnny Herbert', 2000, 158, None)\n",
      "(65, 'Johnny Herbert', 2000, 159, None)\n",
      "(65, 'Johnny Herbert', 2000, 160, None)\n",
      "(65, 'Johnny Herbert', 2000, 161, None)\n",
      "(65, 'Johnny Herbert', 2000, 162, None)\n",
      "(65, 'Johnny Herbert', 2000, 163, None)\n",
      "(65, 'Johnny Herbert', 2000, 164, None)\n",
      "(65, 'Johnny Herbert', 2000, 165, None)\n",
      "(65, 'Johnny Herbert', 2000, 166, None)\n",
      "(65, 'Johnny Herbert', 2000, 167, None)\n",
      "(65, 'Johnny Herbert', 2000, 168, None)\n",
      "(65, 'Johnny Herbert', 2000, 169, None)\n",
      "(65, 'Johnny Herbert', 2000, 170, None)\n",
      "(65, 'Johnny Herbert', 2000, 171, None)\n",
      "(65, 'Johnny Herbert', 2000, 172, None)\n",
      "(65, 'Johnny Herbert', 2000, 173, None)\n",
      "(65, 'Johnny Herbert', 2000, 174, None)\n",
      "(71, 'Damon Hill', 1999, 175, None)\n",
      "(72, 'Stéphane Sarrazin', 1999, 176, None)\n",
      "(71, 'Damon Hill', 1999, 177, None)\n",
      "(71, 'Damon Hill', 1999, 178, None)\n",
      "(71, 'Damon Hill', 1999, 179, None)\n",
      "(71, 'Damon Hill', 1999, 180, None)\n",
      "(71, 'Damon Hill', 1999, 181, None)\n",
      "(71, 'Damon Hill', 1999, 182, None)\n",
      "(71, 'Damon Hill', 1999, 183, None)\n",
      "(71, 'Damon Hill', 1999, 184, None)\n",
      "(71, 'Damon Hill', 1999, 185, None)\n",
      "(71, 'Damon Hill', 1999, 186, None)\n",
      "(71, 'Damon Hill', 1999, 187, None)\n",
      "(71, 'Damon Hill', 1999, 188, None)\n",
      "(71, 'Damon Hill', 1999, 189, None)\n",
      "(71, 'Damon Hill', 1999, 190, None)\n",
      "(76, 'Jan Magnussen', 1998, 191, None)\n",
      "(76, 'Jan Magnussen', 1998, 192, None)\n",
      "(76, 'Jan Magnussen', 1998, 193, None)\n",
      "(76, 'Jan Magnussen', 1998, 194, None)\n",
      "(76, 'Jan Magnussen', 1998, 195, None)\n",
      "(76, 'Jan Magnussen', 1998, 196, None)\n",
      "(76, 'Jan Magnussen', 1998, 197, None)\n",
      "(75, 'Shinji Nakano', 1998, 198, None)\n",
      "(75, 'Shinji Nakano', 1998, 199, None)\n",
      "(75, 'Shinji Nakano', 1998, 200, None)\n",
      "(75, 'Shinji Nakano', 1998, 201, None)\n",
      "(75, 'Shinji Nakano', 1998, 202, None)\n",
      "(75, 'Shinji Nakano', 1998, 203, None)\n",
      "(75, 'Shinji Nakano', 1998, 204, None)\n",
      "(75, 'Shinji Nakano', 1998, 205, None)\n",
      "(75, 'Shinji Nakano', 1998, 206, None)\n",
      "(80, 'Vincenzo Sospiri', 1997, 207, None)\n",
      "(79, 'Ukyo Katayama', 1997, 208, None)\n",
      "(79, 'Ukyo Katayama', 1997, 209, None)\n",
      "(79, 'Ukyo Katayama', 1997, 210, None)\n",
      "(79, 'Ukyo Katayama', 1997, 211, None)\n",
      "(81, 'Gianni Morbidelli', 1997, 212, None)\n",
      "(81, 'Gianni Morbidelli', 1997, 213, None)\n",
      "(82, 'Norberto Fontana', 1997, 214, None)\n",
      "(82, 'Norberto Fontana', 1997, 215, None)\n",
      "(82, 'Norberto Fontana', 1997, 216, None)\n",
      "(81, 'Gianni Morbidelli', 1997, 217, None)\n",
      "(81, 'Gianni Morbidelli', 1997, 218, None)\n",
      "(81, 'Gianni Morbidelli', 1997, 219, None)\n",
      "(81, 'Gianni Morbidelli', 1997, 220, None)\n",
      "(81, 'Gianni Morbidelli', 1997, 221, None)\n",
      "(81, 'Gianni Morbidelli', 1997, 222, None)\n",
      "(82, 'Norberto Fontana', 1997, 223, None)\n",
      "(85, 'Andrea Montermini', 1996, 224, None)\n",
      "(85, 'Andrea Montermini', 1996, 225, None)\n",
      "(85, 'Andrea Montermini', 1996, 226, None)\n",
      "(85, 'Andrea Montermini', 1996, 227, None)\n",
      "(85, 'Andrea Montermini', 1996, 228, None)\n",
      "(85, 'Andrea Montermini', 1996, 229, None)\n",
      "(85, 'Andrea Montermini', 1996, 230, None)\n",
      "(85, 'Andrea Montermini', 1996, 231, None)\n",
      "(85, 'Andrea Montermini', 1996, 232, None)\n",
      "(85, 'Andrea Montermini', 1996, 233, None)\n",
      "(86, 'Giovanni Lavaggi', 1996, 234, None)\n",
      "(86, 'Giovanni Lavaggi', 1996, 235, None)\n",
      "(86, 'Giovanni Lavaggi', 1996, 236, None)\n",
      "(86, 'Giovanni Lavaggi', 1996, 237, None)\n",
      "(86, 'Giovanni Lavaggi', 1996, 238, None)\n",
      "(86, 'Giovanni Lavaggi', 1996, 239, None)\n",
      "(94, 'Pierluigi Martini', 1995, 240, None)\n",
      "(94, 'Pierluigi Martini', 1995, 241, None)\n",
      "(95, 'Nigel Mansell', 1995, 242, None)\n",
      "(95, 'Nigel Mansell', 1995, 243, None)\n",
      "(96, 'Jean-Christophe Boullion', 1995, 244, None)\n",
      "(96, 'Jean-Christophe Boullion', 1995, 245, None)\n",
      "(96, 'Jean-Christophe Boullion', 1995, 246, None)\n",
      "(97, 'Massimiliano Papis', 1995, 247, None)\n",
      "(97, 'Massimiliano Papis', 1995, 248, None)\n",
      "(97, 'Massimiliano Papis', 1995, 249, None)\n",
      "(97, 'Massimiliano Papis', 1995, 250, None)\n",
      "(97, 'Massimiliano Papis', 1995, 251, None)\n",
      "(98, 'Jean-Denis Délétraz', 1995, 252, None)\n",
      "(99, 'Gabriele Tarquini', 1995, 253, None)\n",
      "(96, 'Jean-Christophe Boullion', 1995, 254, None)\n",
      "(92, 'Bertrand Gachot', 1995, 255, None)\n",
      "(92, 'Bertrand Gachot', 1995, 256, None)\n",
      "(108, 'Paul Belmondo', 1994, 257, None)\n",
      "(108, 'Paul Belmondo', 1994, 258, None)\n",
      "(110, 'Andrea de Cesaris', 1994, 259, None)\n",
      "(110, 'Andrea de Cesaris', 1994, 260, None)\n",
      "(109, 'Jyrki Järvilehto', 1994, 261, None)\n",
      "(110, 'Andrea de Cesaris', 1994, 262, None)\n",
      "(111, 'Jean-Marc Gounon', 1994, 263, None)\n",
      "(111, 'Jean-Marc Gounon', 1994, 264, None)\n",
      "(111, 'Jean-Marc Gounon', 1994, 265, None)\n",
      "(112, 'Philippe Alliot', 1994, 266, None)\n",
      "(113, 'Philippe Adams', 1994, 267, None)\n",
      "(114, 'Yannick Dalmas', 1994, 268, None)\n",
      "(114, 'Yannick Dalmas', 1994, 269, None)\n",
      "(115, 'Hideki Noda', 1994, 270, None)\n",
      "(116, 'Franck Lagorce', 1994, 271, None)\n",
      "(116, 'Franck Lagorce', 1994, 272, None)\n",
      "(122, 'Ivan Capelli', 1993, 273, None)\n",
      "(122, 'Ivan Capelli', 1993, 274, None)\n",
      "(123, 'Thierry Boutsen', 1993, 275, None)\n",
      "(123, 'Thierry Boutsen', 1993, 276, None)\n",
      "(123, 'Thierry Boutsen', 1993, 277, None)\n",
      "(123, 'Thierry Boutsen', 1993, 278, None)\n",
      "(123, 'Thierry Boutsen', 1993, 279, None)\n",
      "(123, 'Thierry Boutsen', 1993, 280, None)\n",
      "(123, 'Thierry Boutsen', 1993, 281, None)\n",
      "(123, 'Thierry Boutsen', 1993, 282, None)\n",
      "(123, 'Thierry Boutsen', 1993, 283, None)\n",
      "(123, 'Thierry Boutsen', 1993, 284, None)\n",
      "(124, 'Marco Apicella', 1993, 285, None)\n",
      "(125, 'Emanuele Naspetti', 1993, 286, None)\n",
      "(126, 'Toshio Suzuki', 1993, 287, None)\n",
      "(126, 'Toshio Suzuki', 1993, 288, None)\n",
      "(132, 'Giovanna Amati', 1992, 289, None)\n",
      "(132, 'Giovanna Amati', 1992, 290, None)\n",
      "(132, 'Giovanna Amati', 1992, 291, None)\n",
      "(135, 'Perry McCarthy', 1992, 292, None)\n",
      "(135, 'Perry McCarthy', 1992, 293, None)\n",
      "(135, 'Perry McCarthy', 1992, 294, None)\n",
      "(131, 'Stefano Modena', 1992, 295, None)\n",
      "(131, 'Stefano Modena', 1992, 296, None)\n",
      "(135, 'Perry McCarthy', 1992, 297, None)\n",
      "(135, 'Perry McCarthy', 1992, 298, None)\n",
      "(135, 'Perry McCarthy', 1992, 299, None)\n",
      "(135, 'Perry McCarthy', 1992, 300, None)\n",
      "(131, 'Stefano Modena', 1992, 301, None)\n",
      "(131, 'Stefano Modena', 1992, 302, None)\n",
      "(136, 'Jan Lammers', 1992, 303, None)\n",
      "(136, 'Jan Lammers', 1992, 304, None)\n",
      "(142, 'Pedro Chaves', 1991, 305, None)\n",
      "(142, 'Pedro Chaves', 1991, 306, None)\n",
      "(142, 'Pedro Chaves', 1991, 307, None)\n",
      "(142, 'Pedro Chaves', 1991, 308, None)\n",
      "(142, 'Pedro Chaves', 1991, 309, None)\n",
      "(142, 'Pedro Chaves', 1991, 310, None)\n",
      "(142, 'Pedro Chaves', 1991, 311, None)\n",
      "(142, 'Pedro Chaves', 1991, 312, None)\n",
      "(143, 'Michael Bartels', 1991, 313, None)\n",
      "(143, 'Michael Bartels', 1991, 314, None)\n",
      "(142, 'Pedro Chaves', 1991, 315, None)\n",
      "(143, 'Michael Bartels', 1991, 316, None)\n",
      "(142, 'Pedro Chaves', 1991, 317, None)\n",
      "(143, 'Michael Bartels', 1991, 318, None)\n",
      "(144, 'Naoki Hattori', 1991, 319, None)\n",
      "(144, 'Naoki Hattori', 1991, 320, None)\n",
      "(151, 'Martin Donnelly', 1990, 321, None)\n",
      "(151, 'Martin Donnelly', 1990, 322, None)\n",
      "(152, 'Bruno Giacomelli', 1990, 323, None)\n",
      "(152, 'Bruno Giacomelli', 1990, 324, None)\n",
      "(152, 'Bruno Giacomelli', 1990, 325, None)\n",
      "(152, 'Bruno Giacomelli', 1990, 326, None)\n",
      "(152, 'Bruno Giacomelli', 1990, 327, None)\n",
      "(152, 'Bruno Giacomelli', 1990, 328, None)\n",
      "(152, 'Bruno Giacomelli', 1990, 329, None)\n",
      "(152, 'Bruno Giacomelli', 1990, 330, None)\n",
      "(152, 'Bruno Giacomelli', 1990, 331, None)\n",
      "(152, 'Bruno Giacomelli', 1990, 332, None)\n",
      "(152, 'Bruno Giacomelli', 1990, 333, None)\n",
      "(152, 'Bruno Giacomelli', 1990, 334, None)\n",
      "(139, 'Emanuele Pirro', 1990, 335, None)\n",
      "(139, 'Emanuele Pirro', 1990, 336, None)\n",
      "(810, 'Lucas di Grassi', 2010, 337, 129361.0)\n",
      "(811, 'Bruno Senna', 2010, 338, 147276.0)\n",
      "(10, 'Timo Glock', 2010, 339, 106388.0)\n",
      "(810, 'Lucas di Grassi', 2010, 340, 113185.0)\n",
      "(812, 'Karun Chandhok', 2010, 341, 92041.0)\n",
      "(18, 'Jenson Button', 2010, 342, 134285.0)\n",
      "(812, 'Karun Chandhok', 2010, 343, 94585.0)\n",
      "(811, 'Bruno Senna', 2010, 344, 84524.0)\n",
      "(5, 'Heikki Kovalainen', 2010, 345, 106130.0)\n",
      "(810, 'Lucas di Grassi', 2010, 346, 100641.0)\n",
      "(15, 'Jarno Trulli', 2010, 347, 134452.0)\n",
      "(29, 'Sakon Yamamoto', 2010, 348, 89278.0)\n",
      "(811, 'Bruno Senna', 2010, 349, 140201.0)\n",
      "(811, 'Bruno Senna', 2010, 350, 90880.0)\n",
      "(811, 'Bruno Senna', 2010, 351, 117962.0)\n",
      "(9, 'Robert Kubica', 2010, 352, 161378.0)\n",
      "(15, 'Jarno Trulli', 2010, 353, 125161.0)\n",
      "(811, 'Bruno Senna', 2010, 354, 77731.0)\n",
      "(10, 'Timo Glock', 2010, 355, 106837.0)\n",
      "(164, 'Joachim Winkelhock', 1989, 356, None)\n",
      "(164, 'Joachim Winkelhock', 1989, 357, None)\n",
      "(164, 'Joachim Winkelhock', 1989, 358, None)\n",
      "(164, 'Joachim Winkelhock', 1989, 359, None)\n",
      "(164, 'Joachim Winkelhock', 1989, 360, None)\n",
      "(164, 'Joachim Winkelhock', 1989, 361, None)\n",
      "(164, 'Joachim Winkelhock', 1989, 362, None)\n",
      "(163, 'René Arnoux', 1989, 363, None)\n",
      "(163, 'René Arnoux', 1989, 364, None)\n",
      "(163, 'René Arnoux', 1989, 365, None)\n",
      "(163, 'René Arnoux', 1989, 366, None)\n",
      "(165, 'Oscar Larrauri', 1989, 367, None)\n",
      "(165, 'Oscar Larrauri', 1989, 368, None)\n",
      "(165, 'Oscar Larrauri', 1989, 369, None)\n",
      "(165, 'Oscar Larrauri', 1989, 370, None)\n",
      "(165, 'Oscar Larrauri', 1989, 371, None)\n",
      "(167, 'Adrián Campos', 1988, 372, None)\n",
      "(167, 'Adrián Campos', 1988, 373, None)\n",
      "(167, 'Adrián Campos', 1988, 374, None)\n",
      "(167, 'Adrián Campos', 1988, 375, None)\n",
      "(167, 'Adrián Campos', 1988, 376, None)\n",
      "(166, 'Philippe Streiff', 1988, 377, None)\n",
      "(166, 'Philippe Streiff', 1988, 378, None)\n",
      "(166, 'Philippe Streiff', 1988, 379, None)\n",
      "(166, 'Philippe Streiff', 1988, 380, None)\n",
      "(166, 'Philippe Streiff', 1988, 381, None)\n",
      "(166, 'Philippe Streiff', 1988, 382, None)\n",
      "(168, 'Jean-Louis Schlesser', 1988, 383, None)\n",
      "(166, 'Philippe Streiff', 1988, 384, None)\n",
      "(166, 'Philippe Streiff', 1988, 385, None)\n",
      "(166, 'Philippe Streiff', 1988, 386, None)\n",
      "(166, 'Philippe Streiff', 1988, 387, None)\n",
      "(170, 'Teo Fabi', 1987, 388, None)\n",
      "(170, 'Teo Fabi', 1987, 389, None)\n",
      "(170, 'Teo Fabi', 1987, 390, None)\n",
      "(170, 'Teo Fabi', 1987, 391, None)\n",
      "(170, 'Teo Fabi', 1987, 392, None)\n",
      "(170, 'Teo Fabi', 1987, 393, None)\n",
      "(170, 'Teo Fabi', 1987, 394, None)\n",
      "(170, 'Teo Fabi', 1987, 395, None)\n",
      "(170, 'Teo Fabi', 1987, 396, None)\n",
      "(170, 'Teo Fabi', 1987, 397, None)\n",
      "(171, 'Franco Forini', 1987, 398, None)\n",
      "(171, 'Franco Forini', 1987, 399, None)\n",
      "(170, 'Teo Fabi', 1987, 400, None)\n",
      "(170, 'Teo Fabi', 1987, 401, None)\n",
      "(170, 'Teo Fabi', 1987, 402, None)\n",
      "(170, 'Teo Fabi', 1987, 403, None)\n",
      "(178, 'Alan Jones', 1986, 404, None)\n",
      "(178, 'Alan Jones', 1986, 405, None)\n",
      "(179, 'Huub Rothengatter', 1986, 406, None)\n",
      "(179, 'Huub Rothengatter', 1986, 407, None)\n",
      "(179, 'Huub Rothengatter', 1986, 408, None)\n",
      "(179, 'Huub Rothengatter', 1986, 409, None)\n",
      "(180, 'Allen Berg', 1986, 410, None)\n",
      "(180, 'Allen Berg', 1986, 411, None)\n",
      "(180, 'Allen Berg', 1986, 412, None)\n",
      "(180, 'Allen Berg', 1986, 413, None)\n",
      "(180, 'Allen Berg', 1986, 414, None)\n",
      "(180, 'Allen Berg', 1986, 415, None)\n",
      "(179, 'Huub Rothengatter', 1986, 416, None)\n",
      "(180, 'Allen Berg', 1986, 417, None)\n",
      "(180, 'Allen Berg', 1986, 418, None)\n",
      "(180, 'Allen Berg', 1986, 419, None)\n",
      "(184, 'Mauro Baldi', 1985, 420, None)\n",
      "(185, 'Stefan Bellof', 1985, 421, None)\n",
      "(185, 'Stefan Bellof', 1985, 422, None)\n",
      "(185, 'Stefan Bellof', 1985, 423, None)\n",
      "(185, 'Stefan Bellof', 1985, 424, None)\n",
      "(185, 'Stefan Bellof', 1985, 425, None)\n",
      "(185, 'Stefan Bellof', 1985, 426, None)\n",
      "(185, 'Stefan Bellof', 1985, 427, None)\n",
      "(185, 'Stefan Bellof', 1985, 428, None)\n",
      "(186, 'Kenny Acheson', 1985, 429, None)\n",
      "(185, 'Stefan Bellof', 1985, 430, None)\n",
      "(186, 'Kenny Acheson', 1985, 431, None)\n",
      "(179, 'Huub Rothengatter', 1985, 432, None)\n",
      "(187, 'John Watson', 1985, 433, None)\n",
      "(182, 'Niki Lauda', 1985, 434, None)\n",
      "(182, 'Niki Lauda', 1985, 435, None)\n",
      "(188, 'Johnny Cecotto', 1984, 436, None)\n",
      "(188, 'Johnny Cecotto', 1984, 437, None)\n",
      "(188, 'Johnny Cecotto', 1984, 438, None)\n",
      "(189, 'Jo Gartner', 1984, 439, None)\n",
      "(188, 'Johnny Cecotto', 1984, 440, None)\n",
      "(190, 'Corrado Fabi', 1984, 441, None)\n",
      "(191, 'Mike Thackwell', 1984, 442, None)\n",
      "(188, 'Johnny Cecotto', 1984, 443, None)\n",
      "(190, 'Corrado Fabi', 1984, 444, None)\n",
      "(189, 'Jo Gartner', 1984, 445, None)\n",
      "(191, 'Mike Thackwell', 1984, 446, None)\n",
      "(189, 'Jo Gartner', 1984, 447, None)\n",
      "(189, 'Jo Gartner', 1984, 448, None)\n",
      "(189, 'Jo Gartner', 1984, 449, None)\n",
      "(189, 'Jo Gartner', 1984, 450, None)\n",
      "(189, 'Jo Gartner', 1984, 451, None)\n",
      "(197, 'Jean-Pierre Jarier', 1983, 452, None)\n",
      "(197, 'Jean-Pierre Jarier', 1983, 453, None)\n",
      "(197, 'Jean-Pierre Jarier', 1983, 454, None)\n",
      "(197, 'Jean-Pierre Jarier', 1983, 455, None)\n",
      "(197, 'Jean-Pierre Jarier', 1983, 456, None)\n",
      "(197, 'Jean-Pierre Jarier', 1983, 457, None)\n",
      "(197, 'Jean-Pierre Jarier', 1983, 458, None)\n",
      "(198, 'Jacques Villeneuve Sr.', 1983, 459, None)\n",
      "(197, 'Jean-Pierre Jarier', 1983, 460, None)\n",
      "(197, 'Jean-Pierre Jarier', 1983, 461, None)\n",
      "(197, 'Jean-Pierre Jarier', 1983, 462, None)\n",
      "(197, 'Jean-Pierre Jarier', 1983, 463, None)\n",
      "(197, 'Jean-Pierre Jarier', 1983, 464, None)\n",
      "(197, 'Jean-Pierre Jarier', 1983, 465, None)\n",
      "(197, 'Jean-Pierre Jarier', 1983, 466, None)\n",
      "(206, 'Derek Daly', 1982, 467, None)\n",
      "(206, 'Derek Daly', 1982, 468, None)\n",
      "(207, 'Mario Andretti', 1982, 469, None)\n",
      "(205, 'Brian Henton', 1982, 470, None)\n",
      "(208, 'Emilio de Villota', 1982, 471, None)\n",
      "(208, 'Emilio de Villota', 1982, 472, None)\n",
      "(208, 'Emilio de Villota', 1982, 473, None)\n",
      "(209, 'Geoff Lees', 1982, 474, None)\n",
      "(208, 'Emilio de Villota', 1982, 475, None)\n",
      "(206, 'Derek Daly', 1982, 476, None)\n",
      "(209, 'Geoff Lees', 1982, 477, None)\n",
      "(211, 'Rupert Keegan', 1982, 478, None)\n",
      "(211, 'Rupert Keegan', 1982, 479, None)\n",
      "(211, 'Rupert Keegan', 1982, 480, None)\n",
      "(211, 'Rupert Keegan', 1982, 481, None)\n",
      "(211, 'Rupert Keegan', 1982, 482, None)\n",
      "(216, 'Siegfried Stohr', 1981, 483, None)\n",
      "(218, 'Ricardo Londoño', 1981, 484, None)\n",
      "(219, 'Jean-Pierre Jabouille', 1981, 485, None)\n",
      "(219, 'Jean-Pierre Jabouille', 1981, 486, None)\n",
      "(219, 'Jean-Pierre Jabouille', 1981, 487, None)\n",
      "(219, 'Jean-Pierre Jabouille', 1981, 488, None)\n",
      "(220, 'Giorgio Francia', 1981, 489, None)\n",
      "(216, 'Siegfried Stohr', 1981, 490, None)\n",
      "(216, 'Siegfried Stohr', 1981, 491, None)\n",
      "(216, 'Siegfried Stohr', 1981, 492, None)\n",
      "(216, 'Siegfried Stohr', 1981, 493, None)\n",
      "(216, 'Siegfried Stohr', 1981, 494, None)\n",
      "(216, 'Siegfried Stohr', 1981, 495, None)\n",
      "(213, 'Beppe Gabbiani', 1981, 496, None)\n",
      "(213, 'Beppe Gabbiani', 1981, 497, None)\n",
      "(225, 'Dave Kennedy', 1980, 498, None)\n",
      "(225, 'Dave Kennedy', 1980, 499, None)\n",
      "(225, 'Dave Kennedy', 1980, 500, None)\n",
      "(226, 'Stephen South', 1980, 501, None)\n",
      "(227, 'Tiff Needell', 1980, 502, None)\n",
      "(227, 'Tiff Needell', 1980, 503, None)\n",
      "(225, 'Dave Kennedy', 1980, 504, None)\n",
      "(228, 'Desiré Wilson', 1980, 505, None)\n",
      "(229, 'Harald Ertl', 1980, 506, None)\n",
      "(224, 'Emerson Fittipaldi', 1980, 507, None)\n",
      "(230, 'Vittorio Brambilla', 1980, 508, None)\n",
      "(230, 'Vittorio Brambilla', 1980, 509, None)\n",
      "(224, 'Emerson Fittipaldi', 1980, 510, None)\n",
      "(224, 'Emerson Fittipaldi', 1980, 511, None)\n",
      "(233, 'Hans-Joachim Stuck', 1979, 512, None)\n",
      "(233, 'Hans-Joachim Stuck', 1979, 513, None)\n",
      "(233, 'Hans-Joachim Stuck', 1979, 514, None)\n",
      "(233, 'Hans-Joachim Stuck', 1979, 515, None)\n",
      "(234, 'Gianfranco Brancatelli', 1979, 516, None)\n",
      "(234, 'Gianfranco Brancatelli', 1979, 517, None)\n",
      "(234, 'Gianfranco Brancatelli', 1979, 518, None)\n",
      "(236, 'Patrick Gaillard', 1979, 519, None)\n",
      "(236, 'Patrick Gaillard', 1979, 520, None)\n",
      "(236, 'Patrick Gaillard', 1979, 521, None)\n",
      "(236, 'Patrick Gaillard', 1979, 522, None)\n",
      "(236, 'Patrick Gaillard', 1979, 523, None)\n",
      "(235, 'Jacky Ickx', 1979, 524, None)\n",
      "(237, 'Alex Ribeiro', 1979, 525, None)\n",
      "(237, 'Alex Ribeiro', 1979, 526, None)\n",
      "(242, 'Divina Galica', 1978, 527, None)\n",
      "(242, 'Divina Galica', 1978, 528, None)\n",
      "(243, 'Rolf Stommelen', 1978, 529, None)\n",
      "(243, 'Rolf Stommelen', 1978, 530, None)\n",
      "(243, 'Rolf Stommelen', 1978, 531, None)\n",
      "(244, 'Alberto Colombo', 1978, 532, None)\n",
      "(244, 'Alberto Colombo', 1978, 533, None)\n",
      "(243, 'Rolf Stommelen', 1978, 534, None)\n",
      "(243, 'Rolf Stommelen', 1978, 535, None)\n",
      "(245, 'Tony Trimmer', 1978, 536, None)\n",
      "(243, 'Rolf Stommelen', 1978, 537, None)\n",
      "(246, 'Hans Binder', 1978, 538, None)\n",
      "(247, 'Michael Bleekemolen', 1978, 539, None)\n",
      "(248, 'Carlo Franchi', 1978, 540, None)\n",
      "(249, 'Bobby Rahal', 1978, 541, None)\n",
      "(249, 'Bobby Rahal', 1978, 542, None)\n",
      "(255, 'Gunnar Nilsson', 1977, 543, None)\n",
      "(256, 'Larry Perkins', 1977, 544, None)\n",
      "(257, 'Boy Lunger', 1977, 545, None)\n",
      "(255, 'Gunnar Nilsson', 1977, 546, None)\n",
      "(260, 'Conny Andersson', 1977, 547, None)\n",
      "(257, 'Boy Lunger', 1977, 548, None)\n",
      "(261, 'Bernard de Dryver', 1977, 549, None)\n",
      "(263, 'Mikko Kozarowitzky', 1977, 550, None)\n",
      "(260, 'Conny Andersson', 1977, 551, None)\n",
      "(267, 'Vern Schuppan', 1977, 552, None)\n",
      "(269, 'Teddy Pilette', 1977, 553, None)\n",
      "(270, 'Ian Ashley', 1977, 554, None)\n",
      "(270, 'Ian Ashley', 1977, 555, None)\n",
      "(271, 'Loris Kessel', 1977, 556, None)\n",
      "(270, 'Ian Ashley', 1977, 557, None)\n",
      "(270, 'Ian Ashley', 1977, 558, None)\n",
      "(274, 'Noritake Takahara', 1977, 559, None)\n",
      "(275, 'Lella Lombardi', 1976, 560, None)\n",
      "(278, 'Chris Amon', 1976, 561, None)\n",
      "(278, 'Chris Amon', 1976, 562, None)\n",
      "(279, 'Emilio Zapico', 1976, 563, None)\n",
      "(278, 'Chris Amon', 1976, 564, None)\n",
      "(280, 'Henri Pescarolo', 1976, 565, None)\n",
      "(281, 'Jac Nelleman', 1976, 566, None)\n",
      "(282, 'Damien Magee', 1976, 567, None)\n",
      "(283, 'Mike Wilds', 1976, 568, None)\n",
      "(284, 'Alessandro Pesenti-Rossi', 1976, 569, None)\n",
      "(284, 'Alessandro Pesenti-Rossi', 1976, 570, None)\n",
      "(284, 'Alessandro Pesenti-Rossi', 1976, 571, None)\n",
      "(285, 'Otto Stuppacher', 1976, 572, None)\n",
      "(285, 'Otto Stuppacher', 1976, 573, None)\n",
      "(286, 'Warwick Brown', 1976, 574, None)\n",
      "(287, 'Masahiro Hasemi', 1976, 575, None)\n",
      "(290, 'Wilson Fittipaldi', 1975, 576, None)\n",
      "(290, 'Wilson Fittipaldi', 1975, 577, None)\n",
      "(293, 'Dave Charlton', 1975, 578, None)\n",
      "(296, 'François Migault', 1975, 579, None)\n",
      "(297, 'Torsten Palm', 1975, 580, None)\n",
      "(296, 'François Migault', 1975, 581, None)\n",
      "(297, 'Torsten Palm', 1975, 582, None)\n",
      "(299, 'Hiroshi Fushida', 1975, 583, None)\n",
      "(298, 'Gijs van Lennep', 1975, 584, None)\n",
      "(302, 'Jim Crawford', 1975, 585, None)\n",
      "(298, 'Gijs van Lennep', 1975, 586, None)\n",
      "(303, 'Jo Vonlanthen', 1975, 587, None)\n",
      "(302, 'Jim Crawford', 1975, 588, None)\n",
      "(295, 'Roelof Wunderink', 1975, 589, None)\n",
      "(309, 'Peter Revson', 1974, 590, None)\n",
      "(309, 'Peter Revson', 1974, 591, None)\n",
      "(311, 'Tom Belsø', 1974, 592, None)\n",
      "(314, 'Tim Schenken', 1974, 593, None)\n",
      "(316, 'Leo Kinnunen', 1974, 594, None)\n",
      "(314, 'Tim Schenken', 1974, 595, None)\n",
      "(318, 'Bertil Roos', 1974, 596, None)\n",
      "(314, 'Tim Schenken', 1974, 597, None)\n",
      "(319, 'José Dolhem', 1974, 598, None)\n",
      "(321, 'Derek Bell', 1974, 599, None)\n",
      "(321, 'Derek Bell', 1974, 600, None)\n",
      "(324, 'Helmuth Koinigg', 1974, 601, None)\n",
      "(325, 'Carlo Facetti', 1974, 602, None)\n",
      "(326, 'Eppie Wietzes', 1974, 603, None)\n",
      "(324, 'Helmuth Koinigg', 1974, 604, None)\n",
      "(330, 'Nanni Galli', 1973, 605, None)\n",
      "(331, 'Luiz Bueno', 1973, 606, None)\n",
      "(334, 'Jackie Pretorius', 1973, 607, None)\n",
      "(333, 'Andrea de Adamich', 1973, 608, None)\n",
      "(333, 'Andrea de Adamich', 1973, 609, None)\n",
      "(333, 'Andrea de Adamich', 1973, 610, None)\n",
      "(332, 'George Follmer', 1973, 611, None)\n",
      "(333, 'Andrea de Adamich', 1973, 612, None)\n",
      "(336, 'Graham McRae', 1973, 613, None)\n",
      "(335, 'Roger Williamson', 1973, 614, None)\n",
      "(332, 'George Follmer', 1973, 615, None)\n",
      "(332, 'George Follmer', 1973, 616, None)\n",
      "(332, 'George Follmer', 1973, 617, None)\n",
      "(332, 'George Follmer', 1973, 618, None)\n",
      "(332, 'George Follmer', 1973, 619, None)\n",
      "(339, 'Alex Soler-Roig', 1972, 620, None)\n",
      "(340, 'John Love', 1972, 621, None)\n",
      "(339, 'Alex Soler-Roig', 1972, 622, None)\n",
      "(338, 'David Walker', 1972, 623, None)\n",
      "(338, 'David Walker', 1972, 624, None)\n",
      "(338, 'David Walker', 1972, 625, None)\n",
      "(338, 'David Walker', 1972, 626, None)\n",
      "(338, 'David Walker', 1972, 627, None)\n",
      "(338, 'David Walker', 1972, 628, None)\n",
      "(341, 'John Surtees', 1972, 629, None)\n",
      "(343, 'Bill Brack', 1972, 630, None)\n",
      "(344, 'Sam Posey', 1972, 631, None)\n",
      "(347, 'Jo Bonnier', 1971, 632, None)\n",
      "(346, 'Jo Siffert', 1971, 633, None)\n",
      "(346, 'Jo Siffert', 1971, 634, None)\n",
      "(346, 'Jo Siffert', 1971, 635, None)\n",
      "(349, 'Max Jean', 1971, 636, None)\n",
      "(346, 'Jo Siffert', 1971, 637, None)\n",
      "(350, 'Vic Elford', 1971, 638, None)\n",
      "(347, 'Jo Bonnier', 1971, 639, None)\n",
      "(351, 'Silvio Moser', 1971, 640, None)\n",
      "(354, 'Chris Craft', 1971, 641, None)\n",
      "(355, 'John Cannon', 1971, 642, None)\n",
      "(362, 'Peter de Klerk', 1970, 643, None)\n",
      "(361, 'Piers Courage', 1970, 644, None)\n",
      "(361, 'Piers Courage', 1970, 645, None)\n",
      "(363, 'Ignazio Giunti', 1970, 646, None)\n",
      "(364, 'Dan Gurney', 1970, 647, None)\n",
      "(364, 'Dan Gurney', 1970, 648, None)\n",
      "(364, 'Dan Gurney', 1970, 649, None)\n",
      "(365, 'Hubert Hahne', 1970, 650, None)\n",
      "(363, 'Ignazio Giunti', 1970, 651, None)\n",
      "(363, 'Ignazio Giunti', 1970, 652, None)\n",
      "(356, 'Jack Brabham', 1970, 653, None)\n",
      "(367, 'Peter Westbury', 1970, 654, None)\n",
      "(356, 'Jack Brabham', 1970, 655, None)\n",
      "(369, 'Basil van Rooyen', 1969, 656, None)\n",
      "(361, 'Piers Courage', 1969, 657, None)\n",
      "(370, 'Richard Attwood', 1969, 658, None)\n",
      "(361, 'Piers Courage', 1969, 659, None)\n",
      "(361, 'Piers Courage', 1969, 660, None)\n",
      "(361, 'Piers Courage', 1969, 661, None)\n",
      "(361, 'Piers Courage', 1969, 662, None)\n",
      "(361, 'Piers Courage', 1969, 663, None)\n",
      "(372, 'John Cordts', 1969, 664, None)\n",
      "(361, 'Piers Courage', 1969, 665, None)\n",
      "(361, 'Piers Courage', 1969, 666, None)\n",
      "(375, 'Ludovico Scarfiotti', 1968, 667, None)\n",
      "(375, 'Ludovico Scarfiotti', 1968, 668, None)\n",
      "(376, 'Lucien Bianchi', 1968, 669, None)\n",
      "(376, 'Lucien Bianchi', 1968, 670, None)\n",
      "(376, 'Lucien Bianchi', 1968, 671, None)\n",
      "(377, 'Jo Schlesser', 1968, 672, None)\n",
      "(378, 'Robin Widdows', 1968, 673, None)\n",
      "(379, 'Kurt Ahrens', 1968, 674, None)\n",
      "(380, 'Frank Gardner', 1968, 675, None)\n",
      "(376, 'Lucien Bianchi', 1968, 676, None)\n",
      "(381, 'Bobby Unser', 1968, 677, None)\n",
      "(382, 'Moisés Solana', 1968, 678, None)\n",
      "(384, 'Luki Botha', 1967, 679, None)\n",
      "(386, 'Richie Ginther', 1967, 680, None)\n",
      "(388, 'Chris Irwin', 1967, 681, None)\n",
      "(389, 'Guy Ligier', 1967, 682, None)\n",
      "(389, 'Guy Ligier', 1967, 683, None)\n",
      "(390, 'Alan Rees', 1967, 684, None)\n",
      "(391, 'Brian Hart', 1967, 685, None)\n",
      "(393, 'Tom Jones', 1967, 686, None)\n",
      "(394, 'Giancarlo Baghetti', 1967, 687, None)\n",
      "(389, 'Guy Ligier', 1967, 688, None)\n",
      "(395, 'Jonathan Williams', 1967, 689, None)\n",
      "(396, 'Bob Bondurant', 1966, 690, None)\n",
      "(398, 'Vic Wilson', 1966, 691, None)\n",
      "(399, 'John Taylor', 1966, 692, None)\n",
      "(401, 'Trevor Taylor', 1966, 693, None)\n",
      "(399, 'John Taylor', 1966, 694, None)\n",
      "(400, 'Chris Lawrence', 1966, 695, None)\n",
      "(403, 'Phil Hill', 1966, 696, None)\n",
      "(405, 'Ronnie Bucknum', 1966, 697, None)\n",
      "(405, 'Ronnie Bucknum', 1966, 698, None)\n",
      "(417, 'Alex Blignaut', 1965, 699, None)\n",
      "(406, 'Paul Hawkins', 1965, 700, None)\n",
      "(418, 'Masten Gregory', 1965, 701, None)\n",
      "(405, 'Ronnie Bucknum', 1965, 702, None)\n",
      "(422, 'Brian Gubby', 1965, 703, None)\n",
      "(404, 'Innes Ireland', 1965, 704, None)\n",
      "(424, 'Roberto Bussinello', 1965, 705, None)\n",
      "(426, 'Giorgio Bassi', 1965, 706, None)\n",
      "(405, 'Ronnie Bucknum', 1965, 707, None)\n",
      "(405, 'Ronnie Bucknum', 1965, 708, None)\n",
      "(429, 'André Pilette', 1964, 709, None)\n",
      "(430, 'Carel Godin de Beaufort', 1964, 710, None)\n",
      "(429, 'André Pilette', 1964, 711, None)\n",
      "(427, 'Maurice Trintignant', 1964, 712, None)\n",
      "(427, 'Maurice Trintignant', 1964, 713, None)\n",
      "(431, 'Edgar Barth', 1964, 714, None)\n",
      "(408, 'Tony Maggs', 1964, 715, None)\n",
      "(432, 'Mário de Araújo Cabral', 1964, 716, None)\n",
      "(434, 'Hap Sharp', 1964, 717, None)\n",
      "(434, 'Hap Sharp', 1964, 718, None)\n",
      "(440, 'Jim Hall', 1963, 719, None)\n",
      "(440, 'Jim Hall', 1963, 720, None)\n",
      "(440, 'Jim Hall', 1963, 721, None)\n",
      "(440, 'Jim Hall', 1963, 722, None)\n",
      "(440, 'Jim Hall', 1963, 723, None)\n",
      "(442, 'Kurt Kuhnke', 1963, 724, None)\n",
      "(447, 'Gaetano Starrabba', 1963, 725, None)\n",
      "(450, 'Ernie de Vos', 1963, 726, None)\n",
      "(452, 'Thomas Monarch', 1963, 727, None)\n",
      "(430, 'Carel Godin de Beaufort', 1963, 728, None)\n",
      "(458, 'Rob Slotemaker', 1962, 729, None)\n",
      "(459, 'Tony Marsh', 1962, 730, None)\n",
      "(461, 'Heinz Schiller', 1962, 731, None)\n",
      "(462, 'Colin Davis', 1962, 732, None)\n",
      "(465, 'Keith Greene', 1962, 733, None)\n",
      "(466, 'Heini Walter', 1962, 734, None)\n",
      "(467, 'Ernesto Prinoth', 1962, 735, None)\n",
      "(470, 'Timmy Mayer', 1962, 736, None)\n",
      "(474, 'Syd van der Vyver', 1962, 737, None)\n",
      "(482, 'Olivier Gendebien', 1961, 738, None)\n",
      "(479, 'Tony Brooks', 1961, 739, None)\n",
      "(482, 'Olivier Gendebien', 1961, 740, None)\n",
      "(485, 'Juan Manuel Bordeu', 1961, 741, None)\n",
      "(487, 'Massimo Natili', 1961, 742, None)\n",
      "(490, 'Geoff Duke', 1961, 743, None)\n",
      "(492, 'Menato Boffa', 1961, 744, None)\n",
      "(495, 'Ken Miles', 1961, 745, None)\n",
      "(504, 'Antonio Creus', 1960, 746, None)\n",
      "(508, 'Lance Reventlow', 1960, 747, None)\n",
      "(539, 'Dempsey Wilson', 1960, 748, None)\n",
      "(508, 'Lance Reventlow', 1960, 749, None)\n",
      "(540, 'Mike Taylor', 1960, 750, None)\n",
      "(542, 'David Piper', 1960, 751, None)\n",
      "(542, 'David Piper', 1960, 752, None)\n",
      "(482, 'Olivier Gendebien', 1960, 753, None)\n",
      "(547, 'Horace Gould', 1960, 754, None)\n",
      "(548, 'Bob Drake', 1960, 755, None)\n",
      "(554, 'Jean Behra', 1959, 756, None)\n",
      "(565, 'Mike Magill', 1959, 757, None)\n",
      "(566, 'Carroll Shelby', 1959, 758, None)\n",
      "(568, 'Azdrubal Fontes', 1959, 759, None)\n",
      "(571, 'Dennis Taylor', 1959, 760, None)\n",
      "(501, 'Harry Schell', 1959, 761, None)\n",
      "(566, 'Carroll Shelby', 1959, 762, None)\n",
      "(566, 'Carroll Shelby', 1959, 763, None)\n",
      "(576, 'Phil Cade', 1959, 764, None)\n",
      "(581, 'Peter Collins', 1958, 765, None)\n",
      "(590, 'Stuart Lewis-Evans', 1958, 766, None)\n",
      "(590, 'Stuart Lewis-Evans', 1958, 767, None)\n",
      "(599, 'Art Bisch', 1958, 768, None)\n",
      "(590, 'Stuart Lewis-Evans', 1958, 769, None)\n",
      "(590, 'Stuart Lewis-Evans', 1958, 770, None)\n",
      "(590, 'Stuart Lewis-Evans', 1958, 771, None)\n",
      "(601, 'Dick Gibson', 1958, 772, None)\n",
      "(590, 'Stuart Lewis-Evans', 1958, 773, None)\n",
      "(590, 'Stuart Lewis-Evans', 1958, 774, None)\n",
      "(605, 'Tom Bridger', 1958, 775, None)\n",
      "(608, 'Eugenio Castellotti', 1957, 776, None)\n",
      "(610, 'Les Leston', 1957, 777, None)\n",
      "(616, 'Elmer George', 1957, 778, None)\n",
      "(618, 'Herbert MacKay-Fraser', 1957, 779, None)\n",
      "(619, 'Bob Gerard', 1957, 780, None)\n",
      "(621, 'Paul England', 1957, 781, None)\n",
      "(590, 'Stuart Lewis-Evans', 1957, 782, None)\n",
      "(638, 'Ottorino Volonterio', 1957, 783, None)\n",
      "(806, 'Óscar González', 1956, 784, None)\n",
      "(627, 'Louis Rosier', 1956, 785, None)\n",
      "(631, 'Keith Andrews', 1956, 786, None)\n",
      "(634, 'Piero Scotti', 1956, 787, None)\n",
      "(635, 'Colin Chapman', 1956, 788, None)\n",
      "(637, 'Archie Scott Brown', 1956, 789, None)\n",
      "(639, 'André Milhoux', 1956, 790, None)\n",
      "(641, 'Piero Taruffi', 1956, 791, None)\n",
      "(649, 'Pablo Birger', 1955, 792, None)\n",
      "(652, 'Ted Whiteaway', 1955, 793, None)\n",
      "(659, 'Jerry Hoyt', 1955, 794, None)\n",
      "(660, 'Johnny Claes', 1955, 795, None)\n",
      "(661, 'Peter Walker', 1955, 796, None)\n",
      "(666, 'Tony Rolt', 1955, 797, None)\n",
      "(668, 'Jean Lucas', 1955, 798, None)\n",
      "(672, 'Jorge Daponte', 1954, 799, None)\n",
      "(805, 'Danny Kladis', 1954, 800, None)\n",
      "(680, 'Jacques Swaters', 1954, 801, None)\n",
      "(681, 'Georges Berger', 1954, 802, None)\n",
      "(690, 'Rodney Nuckey', 1954, 803, None)\n",
      "(692, 'Theo Helfrich', 1954, 804, None)\n",
      "(693, 'Fred Wacker', 1954, 805, None)\n",
      "(694, 'Giovanni de Riu', 1954, 806, None)\n",
      "(680, 'Jacques Swaters', 1954, 807, None)\n",
      "(698, 'Adolfo Cruz', 1953, 808, None)\n",
      "(804, 'Johnny Mantz', 1953, 809, None)\n",
      "(697, 'Felice Bonetto', 1953, 810, None)\n",
      "(703, 'Arthur Legat', 1953, 811, None)\n",
      "(704, 'Yves Cabantous', 1953, 812, None)\n",
      "(708, 'Duncan Hamilton', 1953, 813, None)\n",
      "(718, 'Ernst Loof', 1953, 814, None)\n",
      "(721, 'Peter Hirt', 1953, 815, None)\n",
      "(722, 'Piero Carini', 1953, 816, None)\n",
      "(725, 'George Abecassis', 1952, 817, None)\n",
      "(734, 'Bobby Ball', 1952, 818, None)\n",
      "(739, 'Robin Montgomerie-Charrington', 1952, 819, None)\n",
      "(741, 'Philippe Étancelin', 1952, 820, None)\n",
      "(749, 'Bill Aston', 1952, 821, None)\n",
      "(757, 'Josef Peters', 1952, 822, None)\n",
      "(759, 'Jan Flinterman', 1952, 823, None)\n",
      "(762, 'Franco Rol', 1952, 824, None)\n",
      "(765, 'Henri Louveau', 1951, 825, None)\n",
      "(772, 'Mack Hellings', 1951, 826, None)\n",
      "(773, 'Pierre Levegh', 1951, 827, None)\n",
      "(786, 'Luigi Fagioli', 1951, 828, None)\n",
      "(779, 'John James', 1951, 829, None)\n",
      "(780, 'Toni Branca', 1951, 830, None)\n",
      "(781, 'Ken Richardson', 1951, 831, None)\n",
      "(783, 'Georges Grignard', 1951, 832, None)\n",
      "(790, 'Leslie Johnson', 1950, 833, None)\n",
      "(793, 'Raymond Sommer', 1950, 834, None)\n",
      "(803, 'Bill Cantrell', 1950, 835, None)\n",
      "(800, 'Nello Pagani', 1950, 836, None)\n",
      "(793, 'Raymond Sommer', 1950, 837, None)\n",
      "(801, 'Charles Pozzi', 1950, 838, None)\n",
      "(802, 'Dorino Serafini', 1950, 839, None)\n",
      "(10, 'Timo Glock', 2011, 841, 95789.0)\n",
      "(39, 'Narain Karthikeyan', 2011, 842, 109385.0)\n",
      "(39, 'Narain Karthikeyan', 2011, 843, 106081.0)\n",
      "(816, \"Jérôme d'Ambrosio\", 2011, 844, 94971.0)\n",
      "(24, 'Vitantonio Liuzzi', 2011, 845, 93884.0)\n",
      "(39, 'Narain Karthikeyan', 2011, 846, 82731.0)\n",
      "(5, 'Heikki Kovalainen', 2011, 847, 98460.0)\n",
      "(39, 'Narain Karthikeyan', 2011, 848, 107708.0)\n",
      "(5, 'Heikki Kovalainen', 2011, 849, 130404.0)\n",
      "(24, 'Vitantonio Liuzzi', 2011, 850, 100683.0)\n",
      "(15, 'Jarno Trulli', 2011, 851, 95252.0)\n",
      "(817, 'Daniel Ricciardo', 2011, 852, 119831.0)\n",
      "(817, 'Daniel Ricciardo', 2011, 853, 92013.0)\n",
      "(10, 'Timo Glock', 2011, 854, 120412.0)\n",
      "(24, 'Vitantonio Liuzzi', 2011, 855, 102409.0)\n",
      "(24, 'Vitantonio Liuzzi', 2011, 856, 106173.0)\n",
      "(10, 'Timo Glock', 2011, 857, 129008.0)\n",
      "(816, \"Jérôme d'Ambrosio\", 2011, 858, 111196.0)\n",
      "(10, 'Timo Glock', 2011, 859, 81773.0)\n",
      "(819, 'Charles Pic', 2012, 860, 95011.0)\n",
      "(154, 'Romain Grosjean', 2012, 861, 128464.0)\n",
      "(30, 'Michael Schumacher', 2012, 862, 104109.0)\n",
      "(819, 'Charles Pic', 2012, 863, 101519.0)\n",
      "(39, 'Narain Karthikeyan', 2012, 864, 92903.0)\n",
      "(155, 'Kamui Kobayashi', 2012, 865, 85480.0)\n",
      "(39, 'Narain Karthikeyan', 2012, 866, 82044.0)\n",
      "(37, 'Pedro de la Rosa', 2012, 867, 106799.0)\n",
      "(815, 'Sergio Pérez', 2012, 868, 99781.0)\n",
      "(10, 'Timo Glock', 2012, 869, 82778.0)\n",
      "(39, 'Narain Karthikeyan', 2012, 870, 89506.0)\n",
      "(813, 'Pastor Maldonado', 2012, 871, 176181.0)\n",
      "(818, 'Jean-Éric Vergne', 2012, 872, 91962.0)\n",
      "(39, 'Narain Karthikeyan', 2012, 873, 118507.0)\n",
      "(39, 'Narain Karthikeyan', 2012, 874, 101388.0)\n",
      "(37, 'Pedro de la Rosa', 2012, 875, 109861.0)\n",
      "(37, 'Pedro de la Rosa', 2012, 876, 92864.0)\n",
      "(39, 'Narain Karthikeyan', 2012, 877, 112238.0)\n",
      "(818, 'Jean-Éric Vergne', 2012, 878, 104775.0)\n",
      "(154, 'Romain Grosjean', 2012, 879, 82184.0)\n",
      "(813, 'Pastor Maldonado', 2013, 880, 92915.0)\n",
      "(813, 'Pastor Maldonado', 2013, 881, 103465.0)\n",
      "(821, 'Esteban Gutiérrez', 2013, 882, 104775.0)\n",
      "(818, 'Jean-Éric Vergne', 2013, 883, 103107.0)\n",
      "(154, 'Romain Grosjean', 2013, 884, 91136.0)\n",
      "(819, 'Charles Pic', 2013, 885, 82772.0)\n",
      "(823, 'Giedo van der Garde', 2013, 886, 81811.0)\n",
      "(820, 'Max Chilton', 2013, 887, 99156.0)\n",
      "(824, 'Jules Bianchi', 2013, 888, 99844.0)\n",
      "(821, 'Esteban Gutiérrez', 2013, 890, 89135.0)\n",
      "(819, 'Charles Pic', 2013, 891, 117330.0)\n",
      "(818, 'Jean-Éric Vergne', 2013, 892, 89710.0)\n",
      "(817, 'Daniel Ricciardo', 2013, 893, 113052.0)\n",
      "(814, 'Paul di Resta', 2013, 894, 106411.0)\n",
      "(1, 'Lewis Hamilton', 2013, 895, 101202.0)\n",
      "(819, 'Charles Pic', 2013, 896, 92907.0)\n",
      "(820, 'Max Chilton', 2013, 897, 107707.0)\n",
      "(819, 'Charles Pic', 2013, 898, 103968.0)\n",
      "(154, 'Romain Grosjean', 2013, 899, 80898.0)\n",
      "(1, 'Lewis Hamilton', 2014, 900, 109947.0)\n",
      "(824, 'Jules Bianchi', 2014, 901, 111473.0)\n",
      "(824, 'Jules Bianchi', 2014, 902, 102175.0)\n",
      "(16, 'Adrian Sutil', 2014, 903, 118376.0)\n",
      "(828, 'Marcus Ericsson', 2014, 904, 93350.0)\n",
      "(20, 'Sebastian Vettel', 2014, 905, 119505.0)\n",
      "(828, 'Marcus Ericsson', 2014, 906, 111041.0)\n",
      "(155, 'Kamui Kobayashi', 2014, 907, 75274.0)\n",
      "(828, 'Marcus Ericsson', 2014, 908, 104319.0)\n",
      "(154, 'Romain Grosjean', 2014, 909, 84137.0)\n",
      "(828, 'Marcus Ericsson', 2014, 910, 108459.0)\n",
      "(824, 'Jules Bianchi', 2014, 911, 116347.0)\n",
      "(820, 'Max Chilton', 2014, 912, 92569.0)\n",
      "(3, 'Nico Rosberg', 2014, 913, 116769.0)\n",
      "(820, 'Max Chilton', 2014, 914, 116472.0)\n",
      "(820, 'Max Chilton', 2014, 915, 108268.0)\n",
      "(807, 'Nico Hülkenberg', 2014, 916, 106226.0)\n",
      "(817, 'Daniel Ricciardo', 2014, 917, 75387.0)\n",
      "(813, 'Pastor Maldonado', 2014, 918, 108933.0)\n",
      "(830, 'Max Verstappen', 2015, 926, 94295.0)\n",
      "(833, 'Roberto Merhi', 2015, 927, 109040.0)\n",
      "(826, 'Daniil Kvyat', 2015, 928, 106291.0)\n",
      "(833, 'Roberto Merhi', 2015, 929, 102033.0)\n",
      "(833, 'Roberto Merhi', 2015, 930, 94211.0)\n",
      "(829, 'Will Stevens', 2015, 931, 82693.0)\n",
      "(833, 'Roberto Merhi', 2015, 932, 80804.0)\n",
      "(18, 'Jenson Button', 2015, 933, 112208.0)\n",
      "(830, 'Max Verstappen', 2015, 934, 140776.0)\n",
      "(833, 'Roberto Merhi', 2015, 936, 89868.0)\n",
      "(833, 'Roberto Merhi', 2015, 937, 118174.0)\n",
      "(833, 'Roberto Merhi', 2015, 938, 91311.0)\n",
      "(829, 'Will Stevens', 2015, 939, 115890.0)\n",
      "(834, 'Alexander Rossi', 2015, 940, 101467.0)\n",
      "(154, 'Romain Grosjean', 2015, 941, 105266.0)\n",
      "(822, 'Valtteri Bottas', 2015, 942, 151939.0)\n",
      "(829, 'Will Stevens', 2015, 943, 85540.0)\n",
      "(829, 'Will Stevens', 2015, 944, 79098.0)\n",
      "(833, 'Roberto Merhi', 2015, 945, 111213.0)\n",
      "(828, 'Marcus Ericsson', 2016, 948, 93892.0)\n",
      "(18, 'Jenson Button', 2016, 949, 99427.0)\n",
      "(828, 'Marcus Ericsson', 2016, 950, 103269.0)\n",
      "(835, 'Jolyon Palmer', 2016, 951, 102660.0)\n",
      "(807, 'Nico Hülkenberg', 2016, 952, 91810.0)\n",
      "(835, 'Jolyon Palmer', 2016, 953, 118474.0)\n",
      "(835, 'Jolyon Palmer', 2016, 954, 79879.0)\n",
      "(826, 'Daniil Kvyat', 2016, 955, 113167.0)\n",
      "(826, 'Daniil Kvyat', 2016, 956, 78302.0)\n",
      "(836, 'Pascal Wehrlein', 2016, 957, 168804.0)\n",
      "(837, 'Rio Haryanto', 2016, 958, 87791.0)\n",
      "(837, 'Rio Haryanto', 2016, 959, 81845.0)\n",
      "(828, 'Marcus Ericsson', 2016, 960, 135255.0)\n",
      "(835, 'Jolyon Palmer', 2016, 961, 91361.0)\n",
      "(836, 'Pascal Wehrlein', 2016, 962, 112021.0)\n",
      "(825, 'Kevin Magnussen', 2016, 963, 103379.0)\n",
      "(831, 'Felipe Nasr', 2016, 964, 98544.0)\n",
      "(836, 'Pascal Wehrlein', 2016, 965, 105451.0)\n",
      "(839, 'Esteban Ocon', 2016, 966, 84964.0)\n",
      "(835, 'Jolyon Palmer', 2016, 967, 94334.0)\n",
      "(18, 'Jenson Button', 2016, 968, 108753.0)\n",
      "(835, 'Jolyon Palmer', 2017, 969, 92195.0)\n",
      "(838, 'Stoffel Vandoorne', 2017, 970, 101460.0)\n",
      "(825, 'Kevin Magnussen', 2017, 971, 98718.0)\n",
      "(817, 'Daniel Ricciardo', 2017, 972, 102285.0)\n",
      "(838, 'Stoffel Vandoorne', 2017, 973, 87554.0)\n",
      "(836, 'Pascal Wehrlein', 2017, 974, 78034.0)\n",
      "(830, 'Max Verstappen', 2017, 975, 77187.0)\n",
      "(835, 'Jolyon Palmer', 2017, 976, 111673.0)\n",
      "(825, 'Kevin Magnussen', 2017, 977, 70402.0)\n",
      "(4, 'Fernando Alonso', 2017, 978, 94263.0)\n",
      "(154, 'Romain Grosjean', 2017, 979, 84702.0)\n",
      "(4, 'Fernando Alonso', 2017, 980, 111720.0)\n",
      "(828, 'Marcus Ericsson', 2017, 981, 87663.0)\n",
      "(4, 'Fernando Alonso', 2017, 982, 133579.0)\n",
      "(832, 'Carlos Sainz', 2017, 983, 98123.0)\n",
      "(20, 'Sebastian Vettel', 2017, 984, 126457.0)\n",
      "(836, 'Pascal Wehrlein', 2017, 985, 107073.0)\n",
      "(817, 'Daniel Ricciardo', 2017, 986, 82789.0)\n",
      "(836, 'Pascal Wehrlein', 2017, 987, 74812.0)\n",
      "(838, 'Stoffel Vandoorne', 2017, 988, 103986.0)\n",
      "(845, 'Sergey Sirotkin', 2018, 989, 92573.0)\n",
      "(832, 'Carlos Sainz', 2018, 990, 95535.0)\n",
      "(843, 'Brendon Hartley', 2018, 991, 99376.0)\n",
      "(807, 'Nico Hülkenberg', 2018, 992, 108867.0)\n",
      "(845, 'Sergey Sirotkin', 2018, 993, 82680.0)\n",
      "(844, 'Charles Leclerc', 2018, 994, 77710.0)\n",
      "(828, 'Marcus Ericsson', 2018, 995, 76403.0)\n",
      "(815, 'Sergio Pérez', 2018, 996, 98319.0)\n",
      "(807, 'Nico Hülkenberg', 2018, 997, 70380.0)\n",
      "(844, 'Charles Leclerc', 2018, 998, 95209.0)\n",
      "(845, 'Sergey Sirotkin', 2018, 999, 78934.0)\n",
      "(830, 'Max Verstappen', 2018, 1000, 83985.0)\n",
      "(8, 'Kimi Räikkönen', 2018, 1001, 114320.0)\n",
      "(843, 'Brendon Hartley', 2018, 1002, 87009.0)\n",
      "(807, 'Nico Hülkenberg', 2018, 1003, 106093.0)\n",
      "(843, 'Brendon Hartley', 2018, 1004, 105852.0)\n",
      "(825, 'Kevin Magnussen', 2018, 1005, 99908.0)\n",
      "(154, 'Romain Grosjean', 2018, 1006, 101982.0)\n",
      "(4, 'Fernando Alonso', 2018, 1007, 84197.0)\n",
      "(828, 'Marcus Ericsson', 2018, 1008, 75281.0)\n",
      "(828, 'Marcus Ericsson', 2018, 1009, 106077.0)\n",
      "(832, 'Carlos Sainz', 2019, 1010, 90899.0)\n",
      "(9, 'Robert Kubica', 2019, 1011, 97903.0)\n",
      "(9, 'Robert Kubica', 2019, 1012, 99772.0)\n",
      "(154, 'Romain Grosjean', 2019, 1013, 108517.0)\n",
      "(840, 'Lance Stroll', 2019, 1014, 83226.0)\n",
      "(844, 'Charles Leclerc', 2019, 1015, 79151.0)\n",
      "(846, 'Lando Norris', 2019, 1016, 78023.0)\n",
      "(9, 'Robert Kubica', 2019, 1017, 96608.0)\n",
      "(9, 'Robert Kubica', 2019, 1018, 70964.0)\n",
      "(154, 'Romain Grosjean', 2019, 1019, 94350.0)\n",
      "(817, 'Daniel Ricciardo', 2019, 1020, 92654.0)\n",
      "(9, 'Robert Kubica', 2019, 1021, 83436.0)\n",
      "(817, 'Daniel Ricciardo', 2019, 1022, 110451.0)\n",
      "(826, 'Daniil Kvyat', 2019, 1023, 85772.0)\n",
      "(847, 'George Russell', 2019, 1024, 108285.0)\n",
      "(9, 'Robert Kubica', 2019, 1025, 102327.0)\n",
      "(830, 'Max Verstappen', 2019, 1026, 97249.0)\n",
      "(825, 'Kevin Magnussen', 2019, 1027, 81682.0)\n",
      "(9, 'Robert Kubica', 2019, 1028, 103830.0)\n",
      "(9, 'Robert Kubica', 2019, 1029, 74553.0)\n",
      "(9, 'Robert Kubica', 2019, 1030, 104500.0)\n",
      "(825, 'Kevin Magnussen', 2020, 1031, 70720.0)\n",
      "(844, 'Charles Leclerc', 2020, 1032, 95379.0)\n",
      "(842, 'Pierre Gasly', 2020, 1033, 83939.0)\n",
      "(826, 'Daniil Kvyat', 2020, 1034, 92443.0)\n",
      "(825, 'Kevin Magnussen', 2020, 1035, 91830.0)\n",
      "(844, 'Charles Leclerc', 2020, 1036, 83968.0)\n",
      "(841, 'Antonio Giovinazzi', 2020, 1037, 111793.0)\n",
      "(20, 'Sebastian Vettel', 2020, 1038, 87107.0)\n",
      "(832, 'Carlos Sainz', 2020, 1039, 134103.0)\n",
      "(849, 'Nicholas Latifi', 2020, 1040, 101044.0)\n",
      "(847, 'George Russell', 2020, 1041, 94526.0)\n",
      "(841, 'Antonio Giovinazzi', 2020, 1042, 81893.0)\n",
      "(842, 'Pierre Gasly', 2020, 1043, 80403.0)\n",
      "(841, 'Antonio Giovinazzi', 2020, 1044, 111122.0)\n",
      "(825, 'Kevin Magnussen', 2020, 1045, 95241.0)\n",
      "(849, 'Nicholas Latifi', 2020, 1046, 58206.0)\n",
      "(847, 'George Russell', 2020, 1047, 103328.0)\n",
      "(849, 'Nicholas Latifi', 2021, 1051, 88732.0)\n",
      "(849, 'Nicholas Latifi', 2021, 1052, 96602.0)\n",
      "(822, 'Valtteri Bottas', 2021, 1053, 88485.0)\n",
      "(853, 'Nikita Mazepin', 2021, 1054, 83641.0)\n",
      "(852, 'Yuki Tsunoda', 2021, 1055, 84825.0)\n",
      "(853, 'Nikita Mazepin', 2021, 1056, 76866.0)\n",
      "(839, 'Esteban Ocon', 2021, 1057, 110850.0)\n",
      "(853, 'Nikita Mazepin', 2021, 1058, 70951.0)\n",
      "(853, 'Nikita Mazepin', 2021, 1059, 99317.0)\n",
      "(853, 'Nikita Mazepin', 2021, 1060, 69757.0)\n",
      "(20, 'Sebastian Vettel', 2021, 1061, 93059.0)\n",
      "(849, 'Nicholas Latifi', 2021, 1062, 82831.0)\n",
      "(854, 'Mick Schumacher', 2021, 1063, None)\n",
      "(853, 'Nikita Mazepin', 2021, 1064, 76066.0)\n",
      "(842, 'Pierre Gasly', 2021, 1065, 89005.0)\n",
      "(853, 'Nikita Mazepin', 2021, 1066, 101713.0)\n",
      "(853, 'Nikita Mazepin', 2021, 1067, 95438.0)\n",
      "(853, 'Nikita Mazepin', 2021, 1069, 102886.0)\n",
      "(847, 'George Russell', 2021, 1070, 82016.0)\n",
      "(840, 'Lance Stroll', 2021, 1071, 75344.0)\n",
      "(853, 'Nikita Mazepin', 2021, 1072, 97043.0)\n",
      "(847, 'George Russell', 2021, 1073, 90647.0)\n",
      "(849, 'Nicholas Latifi', 2022, 1074, 98251.0)\n",
      "(849, 'Nicholas Latifi', 2022, 1075, 97530.0)\n",
      "(20, 'Sebastian Vettel', 2022, 1076, 85189.0)\n",
      "(4, 'Fernando Alonso', 2022, 1077, 99685.0)\n",
      "(855, 'Guanyu Zhou', 2022, 1078, 95731.0)\n",
      "(855, 'Guanyu Zhou', 2022, 1079, 88415.0)\n",
      "(825, 'Kevin Magnussen', 2022, 1080, 93754.0)\n",
      "(849, 'Nicholas Latifi', 2022, 1081, 109583.0)\n",
      "(854, 'Mick Schumacher', 2022, 1082, 78967.0)\n",
      "(822, 'Valtteri Bottas', 2022, 1083, 95103.0)\n",
      "(815, 'Sergio Pérez', 2022, 1084, 71843.0)\n",
      "(852, 'Yuki Tsunoda', 2022, 1085, 100216.0)\n",
      "(839, 'Esteban Ocon', 2022, 1086, 84149.0)\n",
      "(825, 'Kevin Magnussen', 2022, 1087, 113332.0)\n",
      "(852, 'Yuki Tsunoda', 2022, 1088, 77138.0)\n",
      "(20, 'Sebastian Vettel', 2022, 1089, 87501.0)\n",
      "(849, 'Nicholas Latifi', 2022, 1091, 125585.0)\n",
      "(849, 'Nicholas Latifi', 2022, 1092, 108371.0)\n",
      "(849, 'Nicholas Latifi', 2022, 1093, 103485.0)\n",
      "(849, 'Nicholas Latifi', 2022, 1094, 83709.0)\n",
      "(846, 'Lando Norris', 2022, 1095, 75855.0)\n",
      "(825, 'Kevin Magnussen', 2022, 1096, 91158.0)\n",
      "(857, 'Oscar Piastri', 2023, 1098, 100691.0)\n",
      "(848, 'Alexander Albon', 2023, 1099, 95567.0)\n",
      "(848, 'Alexander Albon', 2023, 1100, 83349.0)\n",
      "(856, 'Nyck de Vries', 2023, 1101, 108781.0)\n",
      "(846, 'Lando Norris', 2023, 1102, 92401.0)\n",
      "(825, 'Kevin Magnussen', 2023, 1104, 78351.0)\n",
      "(858, 'Logan Sargeant', 2023, 1105, 79247.0)\n",
      "(858, 'Logan Sargeant', 2023, 1106, 78437.0)\n",
      "(807, 'Nico Hülkenberg', 2023, 1107, 71066.0)\n",
      "(839, 'Esteban Ocon', 2023, 1108, 93941.0)\n",
      "(848, 'Alexander Albon', 2023, 1109, 84051.0)\n",
      "(832, 'Carlos Sainz', 2023, 1110, 113138.0)\n",
      "(858, 'Logan Sargeant', 2023, 1111, 77399.0)\n",
      "(839, 'Esteban Ocon', 2023, 1112, 86963.0)\n",
      "(839, 'Esteban Ocon', 2023, 1113, 99930.0)\n",
      "(822, 'Valtteri Bottas', 2023, 1114, 122755.0)\n",
      "(858, 'Logan Sargeant', 2023, 1115, 87983.0)\n",
      "(839, 'Esteban Ocon', 2023, 1116, 104789.0)\n",
      "(855, 'Guanyu Zhou', 2023, 1117, 83567.0)\n",
      "(855, 'Guanyu Zhou', 2023, 1118, 76232.0)\n",
      "(846, 'Lando Norris', 2023, 1119, 119327.0)\n",
      "(839, 'Esteban Ocon', 2023, 1120, 90033.0)\n",
      "(839, 'Esteban Ocon', 2024, 1121, 96226.0)\n",
      "(840, 'Lance Stroll', 2024, 1122, 95560.0)\n",
      "(830, 'Max Verstappen', 2024, 1123, 83115.0)\n",
      "(855, 'Guanyu Zhou', 2024, 1124, 97160.0)\n",
      "(852, 'Yuki Tsunoda', 2024, 1125, 101593.0)\n",
      "(858, 'Logan Sargeant', 2024, 1126, 93452.0)\n",
      "(807, 'Nico Hülkenberg', 2024, 1127, 81700.0)\n",
      "(858, 'Logan Sargeant', 2024, 1128, None)\n",
      "(858, 'Logan Sargeant', 2024, 1129, 86484.0)\n",
      "(858, 'Logan Sargeant', 2024, 1130, 80172.0)\n",
      "(855, 'Guanyu Zhou', 2024, 1131, 70470.0)\n",
      "(847, 'George Russell', 2024, 1132, 91298.0)\n"
     ]
    }
   ],
   "source": [
    "with engine.connect() as connection:\n",
    "    result = connection.execute(text(\"\"\"\n",
    "                        SELECT \n",
    "                        drivers.driverId, drivers.Name, races.year, results.raceId, MAX(results.fastestLap_time_ms) AS fastestLap_time\n",
    "                        FROM drivers\n",
    "                        JOIN results\n",
    "                        ON drivers.driverId = results.driverId\n",
    "                        JOIN races\n",
    "                        ON races.raceId = results.raceId\n",
    "                        GROUP BY results.raceId\n",
    "                        \"\"\"))\n",
    "    rows = result.fetchall()\n",
    "    for row in rows:\n",
    "        print(row)"
   ]
  },
  {
   "cell_type": "code",
   "execution_count": 126,
   "metadata": {},
   "outputs": [
    {
     "name": "stdout",
     "output_type": "stream",
     "text": [
      "(0, 'resultId', 'BIGINT', 0, None, 0)\n",
      "(1, 'raceId', 'BIGINT', 0, None, 0)\n",
      "(2, 'driverId', 'BIGINT', 0, None, 0)\n",
      "(3, 'constructorId', 'BIGINT', 0, None, 0)\n",
      "(4, 'number', 'TEXT', 0, None, 0)\n",
      "(5, 'grid', 'BIGINT', 0, None, 0)\n",
      "(6, 'position', 'TEXT', 0, None, 0)\n",
      "(7, 'positionText', 'TEXT', 0, None, 0)\n",
      "(8, 'positionOrder', 'BIGINT', 0, None, 0)\n",
      "(9, 'points', 'FLOAT', 0, None, 0)\n",
      "(10, 'laps', 'BIGINT', 0, None, 0)\n",
      "(11, 'time', 'FLOAT', 0, None, 0)\n",
      "(12, 'milliseconds', 'FLOAT', 0, None, 0)\n",
      "(13, 'fastestLap', 'FLOAT', 0, None, 0)\n",
      "(14, 'rank', 'FLOAT', 0, None, 0)\n",
      "(15, 'fastestLapTime', 'FLOAT', 0, None, 0)\n",
      "(16, 'fastestLapSpeed', 'FLOAT', 0, None, 0)\n",
      "(17, 'statusId', 'BIGINT', 0, None, 0)\n"
     ]
    }
   ],
   "source": [
    "with engine.connect() as connection:\n",
    "    result = connection.execute(text(\"\"\"\n",
    "                        PRAGMA table_info(results)\n",
    "                        \"\"\"))\n",
    "    rows = result.fetchall()\n",
    "    for row in rows:\n",
    "        print(row)"
   ]
  },
  {
   "cell_type": "code",
   "execution_count": null,
   "metadata": {},
   "outputs": [],
   "source": []
  },
  {
   "cell_type": "code",
   "execution_count": 52,
   "metadata": {},
   "outputs": [
    {
     "data": {
      "text/plain": [
       "26519"
      ]
     },
     "execution_count": 52,
     "metadata": {},
     "output_type": "execute_result"
    }
   ],
   "source": [
    "results.to_sql('results', engine, index = False, if_exists= 'replace')"
   ]
  }
 ],
 "metadata": {
  "kernelspec": {
   "display_name": "Python 3",
   "language": "python",
   "name": "python3"
  },
  "language_info": {
   "codemirror_mode": {
    "name": "ipython",
    "version": 3
   },
   "file_extension": ".py",
   "mimetype": "text/x-python",
   "name": "python",
   "nbconvert_exporter": "python",
   "pygments_lexer": "ipython3",
   "version": "3.12.4"
  }
 },
 "nbformat": 4,
 "nbformat_minor": 2
}

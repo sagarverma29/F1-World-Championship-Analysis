{
 "cells": [
  {
   "cell_type": "code",
   "execution_count": 2,
   "metadata": {},
   "outputs": [],
   "source": [
    "import numpy as np\n",
    "import pandas as pd\n",
    "import matplotlib.pyplot as plt\n",
    "import seaborn as sns\n",
    "import plotly.express as px\n",
    "import datetime as dt"
   ]
  },
  {
   "cell_type": "code",
   "execution_count": 3,
   "metadata": {},
   "outputs": [],
   "source": [
    "from IPython.display import display"
   ]
  },
  {
   "cell_type": "code",
   "execution_count": 4,
   "metadata": {},
   "outputs": [],
   "source": [
    "pd.set_option('display.max_rows', None)  # Set to None to show all rows\n",
    "pd.set_option('display.max_columns', None)  # Set to None to show all columns"
   ]
  },
  {
   "cell_type": "code",
   "execution_count": 5,
   "metadata": {},
   "outputs": [],
   "source": [
    "# Optionally, reset the display options after viewing\n",
    "pd.reset_option('display.max_rows')\n",
    "pd.reset_option('display.max_columns')"
   ]
  },
  {
   "cell_type": "code",
   "execution_count": 6,
   "metadata": {},
   "outputs": [],
   "source": [
    "circuits = pd.read_csv(r'C:\\Users\\SAGAVERM\\Desktop\\DA projects\\F1\\circuits.csv')\n",
    "constructor_results = pd.read_csv(r'C:\\Users\\SAGAVERM\\Desktop\\DA projects\\F1\\constructor_results.csv')\n",
    "constructor_standings = pd.read_csv(r'C:\\Users\\SAGAVERM\\Desktop\\DA projects\\F1\\constructor_standings.csv')\n",
    "constructors = pd.read_csv(r'C:\\Users\\SAGAVERM\\Desktop\\DA projects\\F1\\constructors.csv')\n",
    "driver_standings = pd.read_csv(r'C:\\Users\\SAGAVERM\\Desktop\\DA projects\\F1\\driver_standings.csv')\n",
    "drivers = pd.read_csv(r'C:\\Users\\SAGAVERM\\Desktop\\DA projects\\F1\\drivers.csv')\n",
    "lap_times = pd.read_csv(r'C:\\Users\\SAGAVERM\\Desktop\\DA projects\\F1\\lap_times.csv')\n",
    "pit_stops = pd.read_csv(r'C:\\Users\\SAGAVERM\\Desktop\\DA projects\\F1\\pit_stops.csv')\n",
    "qualifying = pd.read_csv(r'C:\\Users\\SAGAVERM\\Desktop\\DA projects\\F1\\qualifying.csv')\n",
    "races = pd.read_csv(r'C:\\Users\\SAGAVERM\\Desktop\\DA projects\\F1\\races.csv')\n",
    "results = pd.read_csv(r'C:\\Users\\SAGAVERM\\Desktop\\DA projects\\F1\\results.csv')\n",
    "seasons = pd.read_csv(r'C:\\Users\\SAGAVERM\\Desktop\\DA projects\\F1\\seasons.csv')\n",
    "sprint_results = pd.read_csv(r'C:\\Users\\SAGAVERM\\Desktop\\DA projects\\F1\\sprint_results.csv')\n",
    "status = pd.read_csv(r'C:\\Users\\SAGAVERM\\Desktop\\DA projects\\F1\\status.csv')"
   ]
  },
  {
   "cell_type": "code",
   "execution_count": 7,
   "metadata": {},
   "outputs": [
    {
     "data": {
      "text/html": [
       "<div>\n",
       "<style scoped>\n",
       "    .dataframe tbody tr th:only-of-type {\n",
       "        vertical-align: middle;\n",
       "    }\n",
       "\n",
       "    .dataframe tbody tr th {\n",
       "        vertical-align: top;\n",
       "    }\n",
       "\n",
       "    .dataframe thead th {\n",
       "        text-align: right;\n",
       "    }\n",
       "</style>\n",
       "<table border=\"1\" class=\"dataframe\">\n",
       "  <thead>\n",
       "    <tr style=\"text-align: right;\">\n",
       "      <th></th>\n",
       "      <th>circuitId</th>\n",
       "      <th>circuitRef</th>\n",
       "      <th>name</th>\n",
       "      <th>location</th>\n",
       "      <th>country</th>\n",
       "      <th>lat</th>\n",
       "      <th>lng</th>\n",
       "      <th>alt</th>\n",
       "      <th>url</th>\n",
       "    </tr>\n",
       "  </thead>\n",
       "  <tbody>\n",
       "    <tr>\n",
       "      <th>0</th>\n",
       "      <td>1</td>\n",
       "      <td>albert_park</td>\n",
       "      <td>Albert Park Grand Prix Circuit</td>\n",
       "      <td>Melbourne</td>\n",
       "      <td>Australia</td>\n",
       "      <td>-37.84970</td>\n",
       "      <td>144.96800</td>\n",
       "      <td>10</td>\n",
       "      <td>http://en.wikipedia.org/wiki/Melbourne_Grand_P...</td>\n",
       "    </tr>\n",
       "    <tr>\n",
       "      <th>1</th>\n",
       "      <td>2</td>\n",
       "      <td>sepang</td>\n",
       "      <td>Sepang International Circuit</td>\n",
       "      <td>Kuala Lumpur</td>\n",
       "      <td>Malaysia</td>\n",
       "      <td>2.76083</td>\n",
       "      <td>101.73800</td>\n",
       "      <td>18</td>\n",
       "      <td>http://en.wikipedia.org/wiki/Sepang_Internatio...</td>\n",
       "    </tr>\n",
       "    <tr>\n",
       "      <th>2</th>\n",
       "      <td>3</td>\n",
       "      <td>bahrain</td>\n",
       "      <td>Bahrain International Circuit</td>\n",
       "      <td>Sakhir</td>\n",
       "      <td>Bahrain</td>\n",
       "      <td>26.03250</td>\n",
       "      <td>50.51060</td>\n",
       "      <td>7</td>\n",
       "      <td>http://en.wikipedia.org/wiki/Bahrain_Internati...</td>\n",
       "    </tr>\n",
       "    <tr>\n",
       "      <th>3</th>\n",
       "      <td>4</td>\n",
       "      <td>catalunya</td>\n",
       "      <td>Circuit de Barcelona-Catalunya</td>\n",
       "      <td>Montmeló</td>\n",
       "      <td>Spain</td>\n",
       "      <td>41.57000</td>\n",
       "      <td>2.26111</td>\n",
       "      <td>109</td>\n",
       "      <td>http://en.wikipedia.org/wiki/Circuit_de_Barcel...</td>\n",
       "    </tr>\n",
       "    <tr>\n",
       "      <th>4</th>\n",
       "      <td>5</td>\n",
       "      <td>istanbul</td>\n",
       "      <td>Istanbul Park</td>\n",
       "      <td>Istanbul</td>\n",
       "      <td>Turkey</td>\n",
       "      <td>40.95170</td>\n",
       "      <td>29.40500</td>\n",
       "      <td>130</td>\n",
       "      <td>http://en.wikipedia.org/wiki/Istanbul_Park</td>\n",
       "    </tr>\n",
       "  </tbody>\n",
       "</table>\n",
       "</div>"
      ],
      "text/plain": [
       "   circuitId   circuitRef                            name      location  \\\n",
       "0          1  albert_park  Albert Park Grand Prix Circuit     Melbourne   \n",
       "1          2       sepang    Sepang International Circuit  Kuala Lumpur   \n",
       "2          3      bahrain   Bahrain International Circuit        Sakhir   \n",
       "3          4    catalunya  Circuit de Barcelona-Catalunya      Montmeló   \n",
       "4          5     istanbul                   Istanbul Park      Istanbul   \n",
       "\n",
       "     country       lat        lng  alt  \\\n",
       "0  Australia -37.84970  144.96800   10   \n",
       "1   Malaysia   2.76083  101.73800   18   \n",
       "2    Bahrain  26.03250   50.51060    7   \n",
       "3      Spain  41.57000    2.26111  109   \n",
       "4     Turkey  40.95170   29.40500  130   \n",
       "\n",
       "                                                 url  \n",
       "0  http://en.wikipedia.org/wiki/Melbourne_Grand_P...  \n",
       "1  http://en.wikipedia.org/wiki/Sepang_Internatio...  \n",
       "2  http://en.wikipedia.org/wiki/Bahrain_Internati...  \n",
       "3  http://en.wikipedia.org/wiki/Circuit_de_Barcel...  \n",
       "4         http://en.wikipedia.org/wiki/Istanbul_Park  "
      ]
     },
     "metadata": {},
     "output_type": "display_data"
    },
    {
     "data": {
      "text/html": [
       "<div>\n",
       "<style scoped>\n",
       "    .dataframe tbody tr th:only-of-type {\n",
       "        vertical-align: middle;\n",
       "    }\n",
       "\n",
       "    .dataframe tbody tr th {\n",
       "        vertical-align: top;\n",
       "    }\n",
       "\n",
       "    .dataframe thead th {\n",
       "        text-align: right;\n",
       "    }\n",
       "</style>\n",
       "<table border=\"1\" class=\"dataframe\">\n",
       "  <thead>\n",
       "    <tr style=\"text-align: right;\">\n",
       "      <th></th>\n",
       "      <th>constructorResultsId</th>\n",
       "      <th>raceId</th>\n",
       "      <th>constructorId</th>\n",
       "      <th>points</th>\n",
       "      <th>status</th>\n",
       "    </tr>\n",
       "  </thead>\n",
       "  <tbody>\n",
       "    <tr>\n",
       "      <th>0</th>\n",
       "      <td>1</td>\n",
       "      <td>18</td>\n",
       "      <td>1</td>\n",
       "      <td>14.0</td>\n",
       "      <td>\\N</td>\n",
       "    </tr>\n",
       "    <tr>\n",
       "      <th>1</th>\n",
       "      <td>2</td>\n",
       "      <td>18</td>\n",
       "      <td>2</td>\n",
       "      <td>8.0</td>\n",
       "      <td>\\N</td>\n",
       "    </tr>\n",
       "    <tr>\n",
       "      <th>2</th>\n",
       "      <td>3</td>\n",
       "      <td>18</td>\n",
       "      <td>3</td>\n",
       "      <td>9.0</td>\n",
       "      <td>\\N</td>\n",
       "    </tr>\n",
       "    <tr>\n",
       "      <th>3</th>\n",
       "      <td>4</td>\n",
       "      <td>18</td>\n",
       "      <td>4</td>\n",
       "      <td>5.0</td>\n",
       "      <td>\\N</td>\n",
       "    </tr>\n",
       "    <tr>\n",
       "      <th>4</th>\n",
       "      <td>5</td>\n",
       "      <td>18</td>\n",
       "      <td>5</td>\n",
       "      <td>2.0</td>\n",
       "      <td>\\N</td>\n",
       "    </tr>\n",
       "  </tbody>\n",
       "</table>\n",
       "</div>"
      ],
      "text/plain": [
       "   constructorResultsId  raceId  constructorId  points status\n",
       "0                     1      18              1    14.0     \\N\n",
       "1                     2      18              2     8.0     \\N\n",
       "2                     3      18              3     9.0     \\N\n",
       "3                     4      18              4     5.0     \\N\n",
       "4                     5      18              5     2.0     \\N"
      ]
     },
     "metadata": {},
     "output_type": "display_data"
    },
    {
     "data": {
      "text/html": [
       "<div>\n",
       "<style scoped>\n",
       "    .dataframe tbody tr th:only-of-type {\n",
       "        vertical-align: middle;\n",
       "    }\n",
       "\n",
       "    .dataframe tbody tr th {\n",
       "        vertical-align: top;\n",
       "    }\n",
       "\n",
       "    .dataframe thead th {\n",
       "        text-align: right;\n",
       "    }\n",
       "</style>\n",
       "<table border=\"1\" class=\"dataframe\">\n",
       "  <thead>\n",
       "    <tr style=\"text-align: right;\">\n",
       "      <th></th>\n",
       "      <th>constructorStandingsId</th>\n",
       "      <th>raceId</th>\n",
       "      <th>constructorId</th>\n",
       "      <th>points</th>\n",
       "      <th>position</th>\n",
       "      <th>positionText</th>\n",
       "      <th>wins</th>\n",
       "    </tr>\n",
       "  </thead>\n",
       "  <tbody>\n",
       "    <tr>\n",
       "      <th>0</th>\n",
       "      <td>1</td>\n",
       "      <td>18</td>\n",
       "      <td>1</td>\n",
       "      <td>14.0</td>\n",
       "      <td>1</td>\n",
       "      <td>1</td>\n",
       "      <td>1</td>\n",
       "    </tr>\n",
       "    <tr>\n",
       "      <th>1</th>\n",
       "      <td>2</td>\n",
       "      <td>18</td>\n",
       "      <td>2</td>\n",
       "      <td>8.0</td>\n",
       "      <td>3</td>\n",
       "      <td>3</td>\n",
       "      <td>0</td>\n",
       "    </tr>\n",
       "    <tr>\n",
       "      <th>2</th>\n",
       "      <td>3</td>\n",
       "      <td>18</td>\n",
       "      <td>3</td>\n",
       "      <td>9.0</td>\n",
       "      <td>2</td>\n",
       "      <td>2</td>\n",
       "      <td>0</td>\n",
       "    </tr>\n",
       "    <tr>\n",
       "      <th>3</th>\n",
       "      <td>4</td>\n",
       "      <td>18</td>\n",
       "      <td>4</td>\n",
       "      <td>5.0</td>\n",
       "      <td>4</td>\n",
       "      <td>4</td>\n",
       "      <td>0</td>\n",
       "    </tr>\n",
       "    <tr>\n",
       "      <th>4</th>\n",
       "      <td>5</td>\n",
       "      <td>18</td>\n",
       "      <td>5</td>\n",
       "      <td>2.0</td>\n",
       "      <td>5</td>\n",
       "      <td>5</td>\n",
       "      <td>0</td>\n",
       "    </tr>\n",
       "  </tbody>\n",
       "</table>\n",
       "</div>"
      ],
      "text/plain": [
       "   constructorStandingsId  raceId  constructorId  points  position  \\\n",
       "0                       1      18              1    14.0         1   \n",
       "1                       2      18              2     8.0         3   \n",
       "2                       3      18              3     9.0         2   \n",
       "3                       4      18              4     5.0         4   \n",
       "4                       5      18              5     2.0         5   \n",
       "\n",
       "  positionText  wins  \n",
       "0            1     1  \n",
       "1            3     0  \n",
       "2            2     0  \n",
       "3            4     0  \n",
       "4            5     0  "
      ]
     },
     "metadata": {},
     "output_type": "display_data"
    },
    {
     "data": {
      "text/html": [
       "<div>\n",
       "<style scoped>\n",
       "    .dataframe tbody tr th:only-of-type {\n",
       "        vertical-align: middle;\n",
       "    }\n",
       "\n",
       "    .dataframe tbody tr th {\n",
       "        vertical-align: top;\n",
       "    }\n",
       "\n",
       "    .dataframe thead th {\n",
       "        text-align: right;\n",
       "    }\n",
       "</style>\n",
       "<table border=\"1\" class=\"dataframe\">\n",
       "  <thead>\n",
       "    <tr style=\"text-align: right;\">\n",
       "      <th></th>\n",
       "      <th>constructorId</th>\n",
       "      <th>constructorRef</th>\n",
       "      <th>name</th>\n",
       "      <th>nationality</th>\n",
       "      <th>url</th>\n",
       "    </tr>\n",
       "  </thead>\n",
       "  <tbody>\n",
       "    <tr>\n",
       "      <th>0</th>\n",
       "      <td>1</td>\n",
       "      <td>mclaren</td>\n",
       "      <td>McLaren</td>\n",
       "      <td>British</td>\n",
       "      <td>http://en.wikipedia.org/wiki/McLaren</td>\n",
       "    </tr>\n",
       "    <tr>\n",
       "      <th>1</th>\n",
       "      <td>2</td>\n",
       "      <td>bmw_sauber</td>\n",
       "      <td>BMW Sauber</td>\n",
       "      <td>German</td>\n",
       "      <td>http://en.wikipedia.org/wiki/BMW_Sauber</td>\n",
       "    </tr>\n",
       "    <tr>\n",
       "      <th>2</th>\n",
       "      <td>3</td>\n",
       "      <td>williams</td>\n",
       "      <td>Williams</td>\n",
       "      <td>British</td>\n",
       "      <td>http://en.wikipedia.org/wiki/Williams_Grand_Pr...</td>\n",
       "    </tr>\n",
       "    <tr>\n",
       "      <th>3</th>\n",
       "      <td>4</td>\n",
       "      <td>renault</td>\n",
       "      <td>Renault</td>\n",
       "      <td>French</td>\n",
       "      <td>http://en.wikipedia.org/wiki/Renault_in_Formul...</td>\n",
       "    </tr>\n",
       "    <tr>\n",
       "      <th>4</th>\n",
       "      <td>5</td>\n",
       "      <td>toro_rosso</td>\n",
       "      <td>Toro Rosso</td>\n",
       "      <td>Italian</td>\n",
       "      <td>http://en.wikipedia.org/wiki/Scuderia_Toro_Rosso</td>\n",
       "    </tr>\n",
       "  </tbody>\n",
       "</table>\n",
       "</div>"
      ],
      "text/plain": [
       "   constructorId constructorRef        name nationality  \\\n",
       "0              1        mclaren     McLaren     British   \n",
       "1              2     bmw_sauber  BMW Sauber      German   \n",
       "2              3       williams    Williams     British   \n",
       "3              4        renault     Renault      French   \n",
       "4              5     toro_rosso  Toro Rosso     Italian   \n",
       "\n",
       "                                                 url  \n",
       "0               http://en.wikipedia.org/wiki/McLaren  \n",
       "1            http://en.wikipedia.org/wiki/BMW_Sauber  \n",
       "2  http://en.wikipedia.org/wiki/Williams_Grand_Pr...  \n",
       "3  http://en.wikipedia.org/wiki/Renault_in_Formul...  \n",
       "4   http://en.wikipedia.org/wiki/Scuderia_Toro_Rosso  "
      ]
     },
     "metadata": {},
     "output_type": "display_data"
    },
    {
     "data": {
      "text/html": [
       "<div>\n",
       "<style scoped>\n",
       "    .dataframe tbody tr th:only-of-type {\n",
       "        vertical-align: middle;\n",
       "    }\n",
       "\n",
       "    .dataframe tbody tr th {\n",
       "        vertical-align: top;\n",
       "    }\n",
       "\n",
       "    .dataframe thead th {\n",
       "        text-align: right;\n",
       "    }\n",
       "</style>\n",
       "<table border=\"1\" class=\"dataframe\">\n",
       "  <thead>\n",
       "    <tr style=\"text-align: right;\">\n",
       "      <th></th>\n",
       "      <th>driverStandingsId</th>\n",
       "      <th>raceId</th>\n",
       "      <th>driverId</th>\n",
       "      <th>points</th>\n",
       "      <th>position</th>\n",
       "      <th>positionText</th>\n",
       "      <th>wins</th>\n",
       "    </tr>\n",
       "  </thead>\n",
       "  <tbody>\n",
       "    <tr>\n",
       "      <th>0</th>\n",
       "      <td>1</td>\n",
       "      <td>18</td>\n",
       "      <td>1</td>\n",
       "      <td>10.0</td>\n",
       "      <td>1</td>\n",
       "      <td>1</td>\n",
       "      <td>1</td>\n",
       "    </tr>\n",
       "    <tr>\n",
       "      <th>1</th>\n",
       "      <td>2</td>\n",
       "      <td>18</td>\n",
       "      <td>2</td>\n",
       "      <td>8.0</td>\n",
       "      <td>2</td>\n",
       "      <td>2</td>\n",
       "      <td>0</td>\n",
       "    </tr>\n",
       "    <tr>\n",
       "      <th>2</th>\n",
       "      <td>3</td>\n",
       "      <td>18</td>\n",
       "      <td>3</td>\n",
       "      <td>6.0</td>\n",
       "      <td>3</td>\n",
       "      <td>3</td>\n",
       "      <td>0</td>\n",
       "    </tr>\n",
       "    <tr>\n",
       "      <th>3</th>\n",
       "      <td>4</td>\n",
       "      <td>18</td>\n",
       "      <td>4</td>\n",
       "      <td>5.0</td>\n",
       "      <td>4</td>\n",
       "      <td>4</td>\n",
       "      <td>0</td>\n",
       "    </tr>\n",
       "    <tr>\n",
       "      <th>4</th>\n",
       "      <td>5</td>\n",
       "      <td>18</td>\n",
       "      <td>5</td>\n",
       "      <td>4.0</td>\n",
       "      <td>5</td>\n",
       "      <td>5</td>\n",
       "      <td>0</td>\n",
       "    </tr>\n",
       "  </tbody>\n",
       "</table>\n",
       "</div>"
      ],
      "text/plain": [
       "   driverStandingsId  raceId  driverId  points  position positionText  wins\n",
       "0                  1      18         1    10.0         1            1     1\n",
       "1                  2      18         2     8.0         2            2     0\n",
       "2                  3      18         3     6.0         3            3     0\n",
       "3                  4      18         4     5.0         4            4     0\n",
       "4                  5      18         5     4.0         5            5     0"
      ]
     },
     "metadata": {},
     "output_type": "display_data"
    },
    {
     "data": {
      "text/html": [
       "<div>\n",
       "<style scoped>\n",
       "    .dataframe tbody tr th:only-of-type {\n",
       "        vertical-align: middle;\n",
       "    }\n",
       "\n",
       "    .dataframe tbody tr th {\n",
       "        vertical-align: top;\n",
       "    }\n",
       "\n",
       "    .dataframe thead th {\n",
       "        text-align: right;\n",
       "    }\n",
       "</style>\n",
       "<table border=\"1\" class=\"dataframe\">\n",
       "  <thead>\n",
       "    <tr style=\"text-align: right;\">\n",
       "      <th></th>\n",
       "      <th>driverId</th>\n",
       "      <th>driverRef</th>\n",
       "      <th>number</th>\n",
       "      <th>code</th>\n",
       "      <th>forename</th>\n",
       "      <th>surname</th>\n",
       "      <th>dob</th>\n",
       "      <th>nationality</th>\n",
       "      <th>url</th>\n",
       "    </tr>\n",
       "  </thead>\n",
       "  <tbody>\n",
       "    <tr>\n",
       "      <th>0</th>\n",
       "      <td>1</td>\n",
       "      <td>hamilton</td>\n",
       "      <td>44</td>\n",
       "      <td>HAM</td>\n",
       "      <td>Lewis</td>\n",
       "      <td>Hamilton</td>\n",
       "      <td>1985-01-07</td>\n",
       "      <td>British</td>\n",
       "      <td>http://en.wikipedia.org/wiki/Lewis_Hamilton</td>\n",
       "    </tr>\n",
       "    <tr>\n",
       "      <th>1</th>\n",
       "      <td>2</td>\n",
       "      <td>heidfeld</td>\n",
       "      <td>\\N</td>\n",
       "      <td>HEI</td>\n",
       "      <td>Nick</td>\n",
       "      <td>Heidfeld</td>\n",
       "      <td>1977-05-10</td>\n",
       "      <td>German</td>\n",
       "      <td>http://en.wikipedia.org/wiki/Nick_Heidfeld</td>\n",
       "    </tr>\n",
       "    <tr>\n",
       "      <th>2</th>\n",
       "      <td>3</td>\n",
       "      <td>rosberg</td>\n",
       "      <td>6</td>\n",
       "      <td>ROS</td>\n",
       "      <td>Nico</td>\n",
       "      <td>Rosberg</td>\n",
       "      <td>1985-06-27</td>\n",
       "      <td>German</td>\n",
       "      <td>http://en.wikipedia.org/wiki/Nico_Rosberg</td>\n",
       "    </tr>\n",
       "    <tr>\n",
       "      <th>3</th>\n",
       "      <td>4</td>\n",
       "      <td>alonso</td>\n",
       "      <td>14</td>\n",
       "      <td>ALO</td>\n",
       "      <td>Fernando</td>\n",
       "      <td>Alonso</td>\n",
       "      <td>1981-07-29</td>\n",
       "      <td>Spanish</td>\n",
       "      <td>http://en.wikipedia.org/wiki/Fernando_Alonso</td>\n",
       "    </tr>\n",
       "    <tr>\n",
       "      <th>4</th>\n",
       "      <td>5</td>\n",
       "      <td>kovalainen</td>\n",
       "      <td>\\N</td>\n",
       "      <td>KOV</td>\n",
       "      <td>Heikki</td>\n",
       "      <td>Kovalainen</td>\n",
       "      <td>1981-10-19</td>\n",
       "      <td>Finnish</td>\n",
       "      <td>http://en.wikipedia.org/wiki/Heikki_Kovalainen</td>\n",
       "    </tr>\n",
       "  </tbody>\n",
       "</table>\n",
       "</div>"
      ],
      "text/plain": [
       "   driverId   driverRef number code  forename     surname         dob  \\\n",
       "0         1    hamilton     44  HAM     Lewis    Hamilton  1985-01-07   \n",
       "1         2    heidfeld     \\N  HEI      Nick    Heidfeld  1977-05-10   \n",
       "2         3     rosberg      6  ROS      Nico     Rosberg  1985-06-27   \n",
       "3         4      alonso     14  ALO  Fernando      Alonso  1981-07-29   \n",
       "4         5  kovalainen     \\N  KOV    Heikki  Kovalainen  1981-10-19   \n",
       "\n",
       "  nationality                                             url  \n",
       "0     British     http://en.wikipedia.org/wiki/Lewis_Hamilton  \n",
       "1      German      http://en.wikipedia.org/wiki/Nick_Heidfeld  \n",
       "2      German       http://en.wikipedia.org/wiki/Nico_Rosberg  \n",
       "3     Spanish    http://en.wikipedia.org/wiki/Fernando_Alonso  \n",
       "4     Finnish  http://en.wikipedia.org/wiki/Heikki_Kovalainen  "
      ]
     },
     "metadata": {},
     "output_type": "display_data"
    },
    {
     "data": {
      "text/html": [
       "<div>\n",
       "<style scoped>\n",
       "    .dataframe tbody tr th:only-of-type {\n",
       "        vertical-align: middle;\n",
       "    }\n",
       "\n",
       "    .dataframe tbody tr th {\n",
       "        vertical-align: top;\n",
       "    }\n",
       "\n",
       "    .dataframe thead th {\n",
       "        text-align: right;\n",
       "    }\n",
       "</style>\n",
       "<table border=\"1\" class=\"dataframe\">\n",
       "  <thead>\n",
       "    <tr style=\"text-align: right;\">\n",
       "      <th></th>\n",
       "      <th>raceId</th>\n",
       "      <th>driverId</th>\n",
       "      <th>lap</th>\n",
       "      <th>position</th>\n",
       "      <th>time</th>\n",
       "      <th>milliseconds</th>\n",
       "    </tr>\n",
       "  </thead>\n",
       "  <tbody>\n",
       "    <tr>\n",
       "      <th>0</th>\n",
       "      <td>841</td>\n",
       "      <td>20</td>\n",
       "      <td>1</td>\n",
       "      <td>1</td>\n",
       "      <td>1:38.109</td>\n",
       "      <td>98109</td>\n",
       "    </tr>\n",
       "    <tr>\n",
       "      <th>1</th>\n",
       "      <td>841</td>\n",
       "      <td>20</td>\n",
       "      <td>2</td>\n",
       "      <td>1</td>\n",
       "      <td>1:33.006</td>\n",
       "      <td>93006</td>\n",
       "    </tr>\n",
       "    <tr>\n",
       "      <th>2</th>\n",
       "      <td>841</td>\n",
       "      <td>20</td>\n",
       "      <td>3</td>\n",
       "      <td>1</td>\n",
       "      <td>1:32.713</td>\n",
       "      <td>92713</td>\n",
       "    </tr>\n",
       "    <tr>\n",
       "      <th>3</th>\n",
       "      <td>841</td>\n",
       "      <td>20</td>\n",
       "      <td>4</td>\n",
       "      <td>1</td>\n",
       "      <td>1:32.803</td>\n",
       "      <td>92803</td>\n",
       "    </tr>\n",
       "    <tr>\n",
       "      <th>4</th>\n",
       "      <td>841</td>\n",
       "      <td>20</td>\n",
       "      <td>5</td>\n",
       "      <td>1</td>\n",
       "      <td>1:32.342</td>\n",
       "      <td>92342</td>\n",
       "    </tr>\n",
       "  </tbody>\n",
       "</table>\n",
       "</div>"
      ],
      "text/plain": [
       "   raceId  driverId  lap  position      time  milliseconds\n",
       "0     841        20    1         1  1:38.109         98109\n",
       "1     841        20    2         1  1:33.006         93006\n",
       "2     841        20    3         1  1:32.713         92713\n",
       "3     841        20    4         1  1:32.803         92803\n",
       "4     841        20    5         1  1:32.342         92342"
      ]
     },
     "metadata": {},
     "output_type": "display_data"
    },
    {
     "data": {
      "text/html": [
       "<div>\n",
       "<style scoped>\n",
       "    .dataframe tbody tr th:only-of-type {\n",
       "        vertical-align: middle;\n",
       "    }\n",
       "\n",
       "    .dataframe tbody tr th {\n",
       "        vertical-align: top;\n",
       "    }\n",
       "\n",
       "    .dataframe thead th {\n",
       "        text-align: right;\n",
       "    }\n",
       "</style>\n",
       "<table border=\"1\" class=\"dataframe\">\n",
       "  <thead>\n",
       "    <tr style=\"text-align: right;\">\n",
       "      <th></th>\n",
       "      <th>raceId</th>\n",
       "      <th>driverId</th>\n",
       "      <th>stop</th>\n",
       "      <th>lap</th>\n",
       "      <th>time</th>\n",
       "      <th>duration</th>\n",
       "      <th>milliseconds</th>\n",
       "    </tr>\n",
       "  </thead>\n",
       "  <tbody>\n",
       "    <tr>\n",
       "      <th>0</th>\n",
       "      <td>841</td>\n",
       "      <td>153</td>\n",
       "      <td>1</td>\n",
       "      <td>1</td>\n",
       "      <td>17:05:23</td>\n",
       "      <td>26.898</td>\n",
       "      <td>26898</td>\n",
       "    </tr>\n",
       "    <tr>\n",
       "      <th>1</th>\n",
       "      <td>841</td>\n",
       "      <td>30</td>\n",
       "      <td>1</td>\n",
       "      <td>1</td>\n",
       "      <td>17:05:52</td>\n",
       "      <td>25.021</td>\n",
       "      <td>25021</td>\n",
       "    </tr>\n",
       "    <tr>\n",
       "      <th>2</th>\n",
       "      <td>841</td>\n",
       "      <td>17</td>\n",
       "      <td>1</td>\n",
       "      <td>11</td>\n",
       "      <td>17:20:48</td>\n",
       "      <td>23.426</td>\n",
       "      <td>23426</td>\n",
       "    </tr>\n",
       "    <tr>\n",
       "      <th>3</th>\n",
       "      <td>841</td>\n",
       "      <td>4</td>\n",
       "      <td>1</td>\n",
       "      <td>12</td>\n",
       "      <td>17:22:34</td>\n",
       "      <td>23.251</td>\n",
       "      <td>23251</td>\n",
       "    </tr>\n",
       "    <tr>\n",
       "      <th>4</th>\n",
       "      <td>841</td>\n",
       "      <td>13</td>\n",
       "      <td>1</td>\n",
       "      <td>13</td>\n",
       "      <td>17:24:10</td>\n",
       "      <td>23.842</td>\n",
       "      <td>23842</td>\n",
       "    </tr>\n",
       "  </tbody>\n",
       "</table>\n",
       "</div>"
      ],
      "text/plain": [
       "   raceId  driverId  stop  lap      time duration  milliseconds\n",
       "0     841       153     1    1  17:05:23   26.898         26898\n",
       "1     841        30     1    1  17:05:52   25.021         25021\n",
       "2     841        17     1   11  17:20:48   23.426         23426\n",
       "3     841         4     1   12  17:22:34   23.251         23251\n",
       "4     841        13     1   13  17:24:10   23.842         23842"
      ]
     },
     "metadata": {},
     "output_type": "display_data"
    },
    {
     "data": {
      "text/html": [
       "<div>\n",
       "<style scoped>\n",
       "    .dataframe tbody tr th:only-of-type {\n",
       "        vertical-align: middle;\n",
       "    }\n",
       "\n",
       "    .dataframe tbody tr th {\n",
       "        vertical-align: top;\n",
       "    }\n",
       "\n",
       "    .dataframe thead th {\n",
       "        text-align: right;\n",
       "    }\n",
       "</style>\n",
       "<table border=\"1\" class=\"dataframe\">\n",
       "  <thead>\n",
       "    <tr style=\"text-align: right;\">\n",
       "      <th></th>\n",
       "      <th>qualifyId</th>\n",
       "      <th>raceId</th>\n",
       "      <th>driverId</th>\n",
       "      <th>constructorId</th>\n",
       "      <th>number</th>\n",
       "      <th>position</th>\n",
       "      <th>q1</th>\n",
       "      <th>q2</th>\n",
       "      <th>q3</th>\n",
       "    </tr>\n",
       "  </thead>\n",
       "  <tbody>\n",
       "    <tr>\n",
       "      <th>0</th>\n",
       "      <td>1</td>\n",
       "      <td>18</td>\n",
       "      <td>1</td>\n",
       "      <td>1</td>\n",
       "      <td>22</td>\n",
       "      <td>1</td>\n",
       "      <td>1:26.572</td>\n",
       "      <td>1:25.187</td>\n",
       "      <td>1:26.714</td>\n",
       "    </tr>\n",
       "    <tr>\n",
       "      <th>1</th>\n",
       "      <td>2</td>\n",
       "      <td>18</td>\n",
       "      <td>9</td>\n",
       "      <td>2</td>\n",
       "      <td>4</td>\n",
       "      <td>2</td>\n",
       "      <td>1:26.103</td>\n",
       "      <td>1:25.315</td>\n",
       "      <td>1:26.869</td>\n",
       "    </tr>\n",
       "    <tr>\n",
       "      <th>2</th>\n",
       "      <td>3</td>\n",
       "      <td>18</td>\n",
       "      <td>5</td>\n",
       "      <td>1</td>\n",
       "      <td>23</td>\n",
       "      <td>3</td>\n",
       "      <td>1:25.664</td>\n",
       "      <td>1:25.452</td>\n",
       "      <td>1:27.079</td>\n",
       "    </tr>\n",
       "    <tr>\n",
       "      <th>3</th>\n",
       "      <td>4</td>\n",
       "      <td>18</td>\n",
       "      <td>13</td>\n",
       "      <td>6</td>\n",
       "      <td>2</td>\n",
       "      <td>4</td>\n",
       "      <td>1:25.994</td>\n",
       "      <td>1:25.691</td>\n",
       "      <td>1:27.178</td>\n",
       "    </tr>\n",
       "    <tr>\n",
       "      <th>4</th>\n",
       "      <td>5</td>\n",
       "      <td>18</td>\n",
       "      <td>2</td>\n",
       "      <td>2</td>\n",
       "      <td>3</td>\n",
       "      <td>5</td>\n",
       "      <td>1:25.960</td>\n",
       "      <td>1:25.518</td>\n",
       "      <td>1:27.236</td>\n",
       "    </tr>\n",
       "  </tbody>\n",
       "</table>\n",
       "</div>"
      ],
      "text/plain": [
       "   qualifyId  raceId  driverId  constructorId  number  position        q1  \\\n",
       "0          1      18         1              1      22         1  1:26.572   \n",
       "1          2      18         9              2       4         2  1:26.103   \n",
       "2          3      18         5              1      23         3  1:25.664   \n",
       "3          4      18        13              6       2         4  1:25.994   \n",
       "4          5      18         2              2       3         5  1:25.960   \n",
       "\n",
       "         q2        q3  \n",
       "0  1:25.187  1:26.714  \n",
       "1  1:25.315  1:26.869  \n",
       "2  1:25.452  1:27.079  \n",
       "3  1:25.691  1:27.178  \n",
       "4  1:25.518  1:27.236  "
      ]
     },
     "metadata": {},
     "output_type": "display_data"
    },
    {
     "data": {
      "text/html": [
       "<div>\n",
       "<style scoped>\n",
       "    .dataframe tbody tr th:only-of-type {\n",
       "        vertical-align: middle;\n",
       "    }\n",
       "\n",
       "    .dataframe tbody tr th {\n",
       "        vertical-align: top;\n",
       "    }\n",
       "\n",
       "    .dataframe thead th {\n",
       "        text-align: right;\n",
       "    }\n",
       "</style>\n",
       "<table border=\"1\" class=\"dataframe\">\n",
       "  <thead>\n",
       "    <tr style=\"text-align: right;\">\n",
       "      <th></th>\n",
       "      <th>raceId</th>\n",
       "      <th>year</th>\n",
       "      <th>round</th>\n",
       "      <th>circuitId</th>\n",
       "      <th>name</th>\n",
       "      <th>date</th>\n",
       "      <th>time</th>\n",
       "      <th>url</th>\n",
       "      <th>fp1_date</th>\n",
       "      <th>fp1_time</th>\n",
       "      <th>fp2_date</th>\n",
       "      <th>fp2_time</th>\n",
       "      <th>fp3_date</th>\n",
       "      <th>fp3_time</th>\n",
       "      <th>quali_date</th>\n",
       "      <th>quali_time</th>\n",
       "      <th>sprint_date</th>\n",
       "      <th>sprint_time</th>\n",
       "    </tr>\n",
       "  </thead>\n",
       "  <tbody>\n",
       "    <tr>\n",
       "      <th>0</th>\n",
       "      <td>1</td>\n",
       "      <td>2009</td>\n",
       "      <td>1</td>\n",
       "      <td>1</td>\n",
       "      <td>Australian Grand Prix</td>\n",
       "      <td>2009-03-29</td>\n",
       "      <td>06:00:00</td>\n",
       "      <td>http://en.wikipedia.org/wiki/2009_Australian_G...</td>\n",
       "      <td>\\N</td>\n",
       "      <td>\\N</td>\n",
       "      <td>\\N</td>\n",
       "      <td>\\N</td>\n",
       "      <td>\\N</td>\n",
       "      <td>\\N</td>\n",
       "      <td>\\N</td>\n",
       "      <td>\\N</td>\n",
       "      <td>\\N</td>\n",
       "      <td>\\N</td>\n",
       "    </tr>\n",
       "    <tr>\n",
       "      <th>1</th>\n",
       "      <td>2</td>\n",
       "      <td>2009</td>\n",
       "      <td>2</td>\n",
       "      <td>2</td>\n",
       "      <td>Malaysian Grand Prix</td>\n",
       "      <td>2009-04-05</td>\n",
       "      <td>09:00:00</td>\n",
       "      <td>http://en.wikipedia.org/wiki/2009_Malaysian_Gr...</td>\n",
       "      <td>\\N</td>\n",
       "      <td>\\N</td>\n",
       "      <td>\\N</td>\n",
       "      <td>\\N</td>\n",
       "      <td>\\N</td>\n",
       "      <td>\\N</td>\n",
       "      <td>\\N</td>\n",
       "      <td>\\N</td>\n",
       "      <td>\\N</td>\n",
       "      <td>\\N</td>\n",
       "    </tr>\n",
       "    <tr>\n",
       "      <th>2</th>\n",
       "      <td>3</td>\n",
       "      <td>2009</td>\n",
       "      <td>3</td>\n",
       "      <td>17</td>\n",
       "      <td>Chinese Grand Prix</td>\n",
       "      <td>2009-04-19</td>\n",
       "      <td>07:00:00</td>\n",
       "      <td>http://en.wikipedia.org/wiki/2009_Chinese_Gran...</td>\n",
       "      <td>\\N</td>\n",
       "      <td>\\N</td>\n",
       "      <td>\\N</td>\n",
       "      <td>\\N</td>\n",
       "      <td>\\N</td>\n",
       "      <td>\\N</td>\n",
       "      <td>\\N</td>\n",
       "      <td>\\N</td>\n",
       "      <td>\\N</td>\n",
       "      <td>\\N</td>\n",
       "    </tr>\n",
       "    <tr>\n",
       "      <th>3</th>\n",
       "      <td>4</td>\n",
       "      <td>2009</td>\n",
       "      <td>4</td>\n",
       "      <td>3</td>\n",
       "      <td>Bahrain Grand Prix</td>\n",
       "      <td>2009-04-26</td>\n",
       "      <td>12:00:00</td>\n",
       "      <td>http://en.wikipedia.org/wiki/2009_Bahrain_Gran...</td>\n",
       "      <td>\\N</td>\n",
       "      <td>\\N</td>\n",
       "      <td>\\N</td>\n",
       "      <td>\\N</td>\n",
       "      <td>\\N</td>\n",
       "      <td>\\N</td>\n",
       "      <td>\\N</td>\n",
       "      <td>\\N</td>\n",
       "      <td>\\N</td>\n",
       "      <td>\\N</td>\n",
       "    </tr>\n",
       "    <tr>\n",
       "      <th>4</th>\n",
       "      <td>5</td>\n",
       "      <td>2009</td>\n",
       "      <td>5</td>\n",
       "      <td>4</td>\n",
       "      <td>Spanish Grand Prix</td>\n",
       "      <td>2009-05-10</td>\n",
       "      <td>12:00:00</td>\n",
       "      <td>http://en.wikipedia.org/wiki/2009_Spanish_Gran...</td>\n",
       "      <td>\\N</td>\n",
       "      <td>\\N</td>\n",
       "      <td>\\N</td>\n",
       "      <td>\\N</td>\n",
       "      <td>\\N</td>\n",
       "      <td>\\N</td>\n",
       "      <td>\\N</td>\n",
       "      <td>\\N</td>\n",
       "      <td>\\N</td>\n",
       "      <td>\\N</td>\n",
       "    </tr>\n",
       "  </tbody>\n",
       "</table>\n",
       "</div>"
      ],
      "text/plain": [
       "   raceId  year  round  circuitId                   name        date  \\\n",
       "0       1  2009      1          1  Australian Grand Prix  2009-03-29   \n",
       "1       2  2009      2          2   Malaysian Grand Prix  2009-04-05   \n",
       "2       3  2009      3         17     Chinese Grand Prix  2009-04-19   \n",
       "3       4  2009      4          3     Bahrain Grand Prix  2009-04-26   \n",
       "4       5  2009      5          4     Spanish Grand Prix  2009-05-10   \n",
       "\n",
       "       time                                                url fp1_date  \\\n",
       "0  06:00:00  http://en.wikipedia.org/wiki/2009_Australian_G...       \\N   \n",
       "1  09:00:00  http://en.wikipedia.org/wiki/2009_Malaysian_Gr...       \\N   \n",
       "2  07:00:00  http://en.wikipedia.org/wiki/2009_Chinese_Gran...       \\N   \n",
       "3  12:00:00  http://en.wikipedia.org/wiki/2009_Bahrain_Gran...       \\N   \n",
       "4  12:00:00  http://en.wikipedia.org/wiki/2009_Spanish_Gran...       \\N   \n",
       "\n",
       "  fp1_time fp2_date fp2_time fp3_date fp3_time quali_date quali_time  \\\n",
       "0       \\N       \\N       \\N       \\N       \\N         \\N         \\N   \n",
       "1       \\N       \\N       \\N       \\N       \\N         \\N         \\N   \n",
       "2       \\N       \\N       \\N       \\N       \\N         \\N         \\N   \n",
       "3       \\N       \\N       \\N       \\N       \\N         \\N         \\N   \n",
       "4       \\N       \\N       \\N       \\N       \\N         \\N         \\N   \n",
       "\n",
       "  sprint_date sprint_time  \n",
       "0          \\N          \\N  \n",
       "1          \\N          \\N  \n",
       "2          \\N          \\N  \n",
       "3          \\N          \\N  \n",
       "4          \\N          \\N  "
      ]
     },
     "metadata": {},
     "output_type": "display_data"
    },
    {
     "data": {
      "text/html": [
       "<div>\n",
       "<style scoped>\n",
       "    .dataframe tbody tr th:only-of-type {\n",
       "        vertical-align: middle;\n",
       "    }\n",
       "\n",
       "    .dataframe tbody tr th {\n",
       "        vertical-align: top;\n",
       "    }\n",
       "\n",
       "    .dataframe thead th {\n",
       "        text-align: right;\n",
       "    }\n",
       "</style>\n",
       "<table border=\"1\" class=\"dataframe\">\n",
       "  <thead>\n",
       "    <tr style=\"text-align: right;\">\n",
       "      <th></th>\n",
       "      <th>resultId</th>\n",
       "      <th>raceId</th>\n",
       "      <th>driverId</th>\n",
       "      <th>constructorId</th>\n",
       "      <th>number</th>\n",
       "      <th>grid</th>\n",
       "      <th>position</th>\n",
       "      <th>positionText</th>\n",
       "      <th>positionOrder</th>\n",
       "      <th>points</th>\n",
       "      <th>laps</th>\n",
       "      <th>time</th>\n",
       "      <th>milliseconds</th>\n",
       "      <th>fastestLap</th>\n",
       "      <th>rank</th>\n",
       "      <th>fastestLapTime</th>\n",
       "      <th>fastestLapSpeed</th>\n",
       "      <th>statusId</th>\n",
       "    </tr>\n",
       "  </thead>\n",
       "  <tbody>\n",
       "    <tr>\n",
       "      <th>0</th>\n",
       "      <td>1</td>\n",
       "      <td>18</td>\n",
       "      <td>1</td>\n",
       "      <td>1</td>\n",
       "      <td>22</td>\n",
       "      <td>1</td>\n",
       "      <td>1</td>\n",
       "      <td>1</td>\n",
       "      <td>1</td>\n",
       "      <td>10.0</td>\n",
       "      <td>58</td>\n",
       "      <td>1:34:50.616</td>\n",
       "      <td>5690616</td>\n",
       "      <td>39</td>\n",
       "      <td>2</td>\n",
       "      <td>1:27.452</td>\n",
       "      <td>218.300</td>\n",
       "      <td>1</td>\n",
       "    </tr>\n",
       "    <tr>\n",
       "      <th>1</th>\n",
       "      <td>2</td>\n",
       "      <td>18</td>\n",
       "      <td>2</td>\n",
       "      <td>2</td>\n",
       "      <td>3</td>\n",
       "      <td>5</td>\n",
       "      <td>2</td>\n",
       "      <td>2</td>\n",
       "      <td>2</td>\n",
       "      <td>8.0</td>\n",
       "      <td>58</td>\n",
       "      <td>+5.478</td>\n",
       "      <td>5696094</td>\n",
       "      <td>41</td>\n",
       "      <td>3</td>\n",
       "      <td>1:27.739</td>\n",
       "      <td>217.586</td>\n",
       "      <td>1</td>\n",
       "    </tr>\n",
       "    <tr>\n",
       "      <th>2</th>\n",
       "      <td>3</td>\n",
       "      <td>18</td>\n",
       "      <td>3</td>\n",
       "      <td>3</td>\n",
       "      <td>7</td>\n",
       "      <td>7</td>\n",
       "      <td>3</td>\n",
       "      <td>3</td>\n",
       "      <td>3</td>\n",
       "      <td>6.0</td>\n",
       "      <td>58</td>\n",
       "      <td>+8.163</td>\n",
       "      <td>5698779</td>\n",
       "      <td>41</td>\n",
       "      <td>5</td>\n",
       "      <td>1:28.090</td>\n",
       "      <td>216.719</td>\n",
       "      <td>1</td>\n",
       "    </tr>\n",
       "    <tr>\n",
       "      <th>3</th>\n",
       "      <td>4</td>\n",
       "      <td>18</td>\n",
       "      <td>4</td>\n",
       "      <td>4</td>\n",
       "      <td>5</td>\n",
       "      <td>11</td>\n",
       "      <td>4</td>\n",
       "      <td>4</td>\n",
       "      <td>4</td>\n",
       "      <td>5.0</td>\n",
       "      <td>58</td>\n",
       "      <td>+17.181</td>\n",
       "      <td>5707797</td>\n",
       "      <td>58</td>\n",
       "      <td>7</td>\n",
       "      <td>1:28.603</td>\n",
       "      <td>215.464</td>\n",
       "      <td>1</td>\n",
       "    </tr>\n",
       "    <tr>\n",
       "      <th>4</th>\n",
       "      <td>5</td>\n",
       "      <td>18</td>\n",
       "      <td>5</td>\n",
       "      <td>1</td>\n",
       "      <td>23</td>\n",
       "      <td>3</td>\n",
       "      <td>5</td>\n",
       "      <td>5</td>\n",
       "      <td>5</td>\n",
       "      <td>4.0</td>\n",
       "      <td>58</td>\n",
       "      <td>+18.014</td>\n",
       "      <td>5708630</td>\n",
       "      <td>43</td>\n",
       "      <td>1</td>\n",
       "      <td>1:27.418</td>\n",
       "      <td>218.385</td>\n",
       "      <td>1</td>\n",
       "    </tr>\n",
       "  </tbody>\n",
       "</table>\n",
       "</div>"
      ],
      "text/plain": [
       "   resultId  raceId  driverId  constructorId number  grid position  \\\n",
       "0         1      18         1              1     22     1        1   \n",
       "1         2      18         2              2      3     5        2   \n",
       "2         3      18         3              3      7     7        3   \n",
       "3         4      18         4              4      5    11        4   \n",
       "4         5      18         5              1     23     3        5   \n",
       "\n",
       "  positionText  positionOrder  points  laps         time milliseconds  \\\n",
       "0            1              1    10.0    58  1:34:50.616      5690616   \n",
       "1            2              2     8.0    58       +5.478      5696094   \n",
       "2            3              3     6.0    58       +8.163      5698779   \n",
       "3            4              4     5.0    58      +17.181      5707797   \n",
       "4            5              5     4.0    58      +18.014      5708630   \n",
       "\n",
       "  fastestLap rank fastestLapTime fastestLapSpeed  statusId  \n",
       "0         39    2       1:27.452         218.300         1  \n",
       "1         41    3       1:27.739         217.586         1  \n",
       "2         41    5       1:28.090         216.719         1  \n",
       "3         58    7       1:28.603         215.464         1  \n",
       "4         43    1       1:27.418         218.385         1  "
      ]
     },
     "metadata": {},
     "output_type": "display_data"
    },
    {
     "data": {
      "text/html": [
       "<div>\n",
       "<style scoped>\n",
       "    .dataframe tbody tr th:only-of-type {\n",
       "        vertical-align: middle;\n",
       "    }\n",
       "\n",
       "    .dataframe tbody tr th {\n",
       "        vertical-align: top;\n",
       "    }\n",
       "\n",
       "    .dataframe thead th {\n",
       "        text-align: right;\n",
       "    }\n",
       "</style>\n",
       "<table border=\"1\" class=\"dataframe\">\n",
       "  <thead>\n",
       "    <tr style=\"text-align: right;\">\n",
       "      <th></th>\n",
       "      <th>year</th>\n",
       "      <th>url</th>\n",
       "    </tr>\n",
       "  </thead>\n",
       "  <tbody>\n",
       "    <tr>\n",
       "      <th>0</th>\n",
       "      <td>2009</td>\n",
       "      <td>http://en.wikipedia.org/wiki/2009_Formula_One_...</td>\n",
       "    </tr>\n",
       "    <tr>\n",
       "      <th>1</th>\n",
       "      <td>2008</td>\n",
       "      <td>http://en.wikipedia.org/wiki/2008_Formula_One_...</td>\n",
       "    </tr>\n",
       "    <tr>\n",
       "      <th>2</th>\n",
       "      <td>2007</td>\n",
       "      <td>http://en.wikipedia.org/wiki/2007_Formula_One_...</td>\n",
       "    </tr>\n",
       "    <tr>\n",
       "      <th>3</th>\n",
       "      <td>2006</td>\n",
       "      <td>http://en.wikipedia.org/wiki/2006_Formula_One_...</td>\n",
       "    </tr>\n",
       "    <tr>\n",
       "      <th>4</th>\n",
       "      <td>2005</td>\n",
       "      <td>http://en.wikipedia.org/wiki/2005_Formula_One_...</td>\n",
       "    </tr>\n",
       "  </tbody>\n",
       "</table>\n",
       "</div>"
      ],
      "text/plain": [
       "   year                                                url\n",
       "0  2009  http://en.wikipedia.org/wiki/2009_Formula_One_...\n",
       "1  2008  http://en.wikipedia.org/wiki/2008_Formula_One_...\n",
       "2  2007  http://en.wikipedia.org/wiki/2007_Formula_One_...\n",
       "3  2006  http://en.wikipedia.org/wiki/2006_Formula_One_...\n",
       "4  2005  http://en.wikipedia.org/wiki/2005_Formula_One_..."
      ]
     },
     "metadata": {},
     "output_type": "display_data"
    },
    {
     "data": {
      "text/html": [
       "<div>\n",
       "<style scoped>\n",
       "    .dataframe tbody tr th:only-of-type {\n",
       "        vertical-align: middle;\n",
       "    }\n",
       "\n",
       "    .dataframe tbody tr th {\n",
       "        vertical-align: top;\n",
       "    }\n",
       "\n",
       "    .dataframe thead th {\n",
       "        text-align: right;\n",
       "    }\n",
       "</style>\n",
       "<table border=\"1\" class=\"dataframe\">\n",
       "  <thead>\n",
       "    <tr style=\"text-align: right;\">\n",
       "      <th></th>\n",
       "      <th>resultId</th>\n",
       "      <th>raceId</th>\n",
       "      <th>driverId</th>\n",
       "      <th>constructorId</th>\n",
       "      <th>number</th>\n",
       "      <th>grid</th>\n",
       "      <th>position</th>\n",
       "      <th>positionText</th>\n",
       "      <th>positionOrder</th>\n",
       "      <th>points</th>\n",
       "      <th>laps</th>\n",
       "      <th>time</th>\n",
       "      <th>milliseconds</th>\n",
       "      <th>fastestLap</th>\n",
       "      <th>fastestLapTime</th>\n",
       "      <th>statusId</th>\n",
       "    </tr>\n",
       "  </thead>\n",
       "  <tbody>\n",
       "    <tr>\n",
       "      <th>0</th>\n",
       "      <td>1</td>\n",
       "      <td>1061</td>\n",
       "      <td>830</td>\n",
       "      <td>9</td>\n",
       "      <td>33</td>\n",
       "      <td>2</td>\n",
       "      <td>1</td>\n",
       "      <td>1</td>\n",
       "      <td>1</td>\n",
       "      <td>3</td>\n",
       "      <td>17</td>\n",
       "      <td>25:38.426</td>\n",
       "      <td>1538426</td>\n",
       "      <td>14</td>\n",
       "      <td>1:30.013</td>\n",
       "      <td>1</td>\n",
       "    </tr>\n",
       "    <tr>\n",
       "      <th>1</th>\n",
       "      <td>2</td>\n",
       "      <td>1061</td>\n",
       "      <td>1</td>\n",
       "      <td>131</td>\n",
       "      <td>44</td>\n",
       "      <td>1</td>\n",
       "      <td>2</td>\n",
       "      <td>2</td>\n",
       "      <td>2</td>\n",
       "      <td>2</td>\n",
       "      <td>17</td>\n",
       "      <td>+1.430</td>\n",
       "      <td>1539856</td>\n",
       "      <td>17</td>\n",
       "      <td>1:29.937</td>\n",
       "      <td>1</td>\n",
       "    </tr>\n",
       "    <tr>\n",
       "      <th>2</th>\n",
       "      <td>3</td>\n",
       "      <td>1061</td>\n",
       "      <td>822</td>\n",
       "      <td>131</td>\n",
       "      <td>77</td>\n",
       "      <td>3</td>\n",
       "      <td>3</td>\n",
       "      <td>3</td>\n",
       "      <td>3</td>\n",
       "      <td>1</td>\n",
       "      <td>17</td>\n",
       "      <td>+7.502</td>\n",
       "      <td>1545928</td>\n",
       "      <td>17</td>\n",
       "      <td>1:29.958</td>\n",
       "      <td>1</td>\n",
       "    </tr>\n",
       "    <tr>\n",
       "      <th>3</th>\n",
       "      <td>4</td>\n",
       "      <td>1061</td>\n",
       "      <td>844</td>\n",
       "      <td>6</td>\n",
       "      <td>16</td>\n",
       "      <td>4</td>\n",
       "      <td>4</td>\n",
       "      <td>4</td>\n",
       "      <td>4</td>\n",
       "      <td>0</td>\n",
       "      <td>17</td>\n",
       "      <td>+11.278</td>\n",
       "      <td>1549704</td>\n",
       "      <td>16</td>\n",
       "      <td>1:30.163</td>\n",
       "      <td>1</td>\n",
       "    </tr>\n",
       "    <tr>\n",
       "      <th>4</th>\n",
       "      <td>5</td>\n",
       "      <td>1061</td>\n",
       "      <td>846</td>\n",
       "      <td>1</td>\n",
       "      <td>4</td>\n",
       "      <td>6</td>\n",
       "      <td>5</td>\n",
       "      <td>5</td>\n",
       "      <td>5</td>\n",
       "      <td>0</td>\n",
       "      <td>17</td>\n",
       "      <td>+24.111</td>\n",
       "      <td>1562537</td>\n",
       "      <td>16</td>\n",
       "      <td>1:30.566</td>\n",
       "      <td>1</td>\n",
       "    </tr>\n",
       "  </tbody>\n",
       "</table>\n",
       "</div>"
      ],
      "text/plain": [
       "   resultId  raceId  driverId  constructorId  number  grid position  \\\n",
       "0         1    1061       830              9      33     2        1   \n",
       "1         2    1061         1            131      44     1        2   \n",
       "2         3    1061       822            131      77     3        3   \n",
       "3         4    1061       844              6      16     4        4   \n",
       "4         5    1061       846              1       4     6        5   \n",
       "\n",
       "  positionText  positionOrder  points  laps       time milliseconds  \\\n",
       "0            1              1       3    17  25:38.426      1538426   \n",
       "1            2              2       2    17     +1.430      1539856   \n",
       "2            3              3       1    17     +7.502      1545928   \n",
       "3            4              4       0    17    +11.278      1549704   \n",
       "4            5              5       0    17    +24.111      1562537   \n",
       "\n",
       "  fastestLap fastestLapTime  statusId  \n",
       "0         14       1:30.013         1  \n",
       "1         17       1:29.937         1  \n",
       "2         17       1:29.958         1  \n",
       "3         16       1:30.163         1  \n",
       "4         16       1:30.566         1  "
      ]
     },
     "metadata": {},
     "output_type": "display_data"
    },
    {
     "data": {
      "text/html": [
       "<div>\n",
       "<style scoped>\n",
       "    .dataframe tbody tr th:only-of-type {\n",
       "        vertical-align: middle;\n",
       "    }\n",
       "\n",
       "    .dataframe tbody tr th {\n",
       "        vertical-align: top;\n",
       "    }\n",
       "\n",
       "    .dataframe thead th {\n",
       "        text-align: right;\n",
       "    }\n",
       "</style>\n",
       "<table border=\"1\" class=\"dataframe\">\n",
       "  <thead>\n",
       "    <tr style=\"text-align: right;\">\n",
       "      <th></th>\n",
       "      <th>statusId</th>\n",
       "      <th>status</th>\n",
       "    </tr>\n",
       "  </thead>\n",
       "  <tbody>\n",
       "    <tr>\n",
       "      <th>0</th>\n",
       "      <td>1</td>\n",
       "      <td>Finished</td>\n",
       "    </tr>\n",
       "    <tr>\n",
       "      <th>1</th>\n",
       "      <td>2</td>\n",
       "      <td>Disqualified</td>\n",
       "    </tr>\n",
       "    <tr>\n",
       "      <th>2</th>\n",
       "      <td>3</td>\n",
       "      <td>Accident</td>\n",
       "    </tr>\n",
       "    <tr>\n",
       "      <th>3</th>\n",
       "      <td>4</td>\n",
       "      <td>Collision</td>\n",
       "    </tr>\n",
       "    <tr>\n",
       "      <th>4</th>\n",
       "      <td>5</td>\n",
       "      <td>Engine</td>\n",
       "    </tr>\n",
       "  </tbody>\n",
       "</table>\n",
       "</div>"
      ],
      "text/plain": [
       "   statusId        status\n",
       "0         1      Finished\n",
       "1         2  Disqualified\n",
       "2         3      Accident\n",
       "3         4     Collision\n",
       "4         5        Engine"
      ]
     },
     "metadata": {},
     "output_type": "display_data"
    }
   ],
   "source": [
    "display(circuits.head())\n",
    "display(constructor_results.head())\n",
    "display(constructor_standings.head())\n",
    "display(constructors.head())\n",
    "display(driver_standings.head())\n",
    "display(drivers.head())\n",
    "display(lap_times.head())\n",
    "display(pit_stops.head())\n",
    "display(qualifying.head())\n",
    "display(races.head())\n",
    "display(results.head())\n",
    "display(seasons.head())\n",
    "display(sprint_results.head())\n",
    "display(status.head())"
   ]
  },
  {
   "cell_type": "code",
   "execution_count": 8,
   "metadata": {},
   "outputs": [],
   "source": [
    "from sqlalchemy import MetaData, create_engine, Column, Integer, String, Float, ForeignKey\n",
    "from sqlalchemy.orm import declarative_base\n",
    "from sqlalchemy.orm import sessionmaker, relationship\n",
    "from sqlalchemy import text"
   ]
  },
  {
   "cell_type": "code",
   "execution_count": 9,
   "metadata": {},
   "outputs": [],
   "source": [
    "metadata =MetaData()"
   ]
  },
  {
   "cell_type": "code",
   "execution_count": 10,
   "metadata": {},
   "outputs": [],
   "source": [
    "# Define the SQLite database\n",
    "engine = create_engine('sqlite:///f1_data.db')\n",
    "Base = declarative_base()"
   ]
  },
  {
   "cell_type": "code",
   "execution_count": 42,
   "metadata": {},
   "outputs": [
    {
     "data": {
      "text/plain": [
       "75"
      ]
     },
     "execution_count": 42,
     "metadata": {},
     "output_type": "execute_result"
    }
   ],
   "source": [
    "# pushing dataframe into sql tables\n",
    "circuits.to_sql('circuits', engine, index= False, if_exists= 'replace')\n",
    "drivers.to_sql('drivers', engine, index= False, if_exists= 'replace')\n",
    "driver_standings.to_sql('driver_standings', engine, index= False, if_exists= 'replace')\n",
    "constructor_results.to_sql('constructor_results', engine, index= False, if_exists= 'replace')\n",
    "constructor_standings.to_sql('constructor_standings', engine, index= False, if_exists= 'replace')\n",
    "constructors.to_sql('constructors', engine, index= False, if_exists= 'replace')\n",
    "races.to_sql('races', engine, index= False, if_exists= 'replace')\n",
    "lap_times.to_sql('lap_times', engine, index= False, if_exists= 'replace')\n",
    "pit_stops.to_sql('pit_stops', engine, index= False, if_exists= 'replace')\n",
    "qualifying.to_sql('qualifying', engine, index = False, if_exists= 'replace')\n",
    "status.to_sql('status', engine, index = False, if_exists= 'replace')\n",
    "results.to_sql('results', engine, index = False, if_exists= 'replace')\n",
    "sprint_results.to_sql('sprint_results', engine, index = False, if_exists= 'replace')\n",
    "seasons.to_sql('seasons', engine, index = False, if_exists= 'replace')"
   ]
  },
  {
   "cell_type": "markdown",
   "metadata": {},
   "source": [
    "#### **Circuits Distribution and Occurence**"
   ]
  },
  {
   "cell_type": "code",
   "execution_count": null,
   "metadata": {},
   "outputs": [],
   "source": [
    "#renaming column in races table\n",
    "with engine.connect() as connection:\n",
    "    connection.execute(text(\"\"\"ALTER TABLE races\n",
    "                               RENAME COLUMN name TO Grand_Prix\n",
    "                            \"\"\"))"
   ]
  },
  {
   "cell_type": "code",
   "execution_count": 96,
   "metadata": {},
   "outputs": [],
   "source": [
    "#query to find distinct circuits name and grand prix name and returing it into Circuit_df dataframe.\n",
    "query = \"\"\"\n",
    "        SELECT DISTINCT circuits.name, circuits.country, \n",
    "        FIRST_VALUE(races.Grand_Prix) OVER (PARTITION BY circuits.circuitId ORDER BY races.year) AS grand_prix, \n",
    "        circuits.lat, circuits.lng, COUNT(races.year) as occurence\n",
    "        FROM circuits\n",
    "        JOIN races ON circuits.circuitId = races.circuitId\n",
    "        GROUP BY circuits.name, circuits.country\n",
    "        \"\"\"\n",
    "Circuit_df = pd.read_sql(query, engine)"
   ]
  },
  {
   "cell_type": "code",
   "execution_count": 97,
   "metadata": {},
   "outputs": [
    {
     "data": {
      "text/html": [
       "<div>\n",
       "<style scoped>\n",
       "    .dataframe tbody tr th:only-of-type {\n",
       "        vertical-align: middle;\n",
       "    }\n",
       "\n",
       "    .dataframe tbody tr th {\n",
       "        vertical-align: top;\n",
       "    }\n",
       "\n",
       "    .dataframe thead th {\n",
       "        text-align: right;\n",
       "    }\n",
       "</style>\n",
       "<table border=\"1\" class=\"dataframe\">\n",
       "  <thead>\n",
       "    <tr style=\"text-align: right;\">\n",
       "      <th></th>\n",
       "      <th>name</th>\n",
       "      <th>country</th>\n",
       "      <th>grand_prix</th>\n",
       "      <th>lat</th>\n",
       "      <th>lng</th>\n",
       "      <th>occurence</th>\n",
       "    </tr>\n",
       "  </thead>\n",
       "  <tbody>\n",
       "    <tr>\n",
       "      <th>13</th>\n",
       "      <td>Autodromo Nazionale di Monza</td>\n",
       "      <td>Italy</td>\n",
       "      <td>Italian Grand Prix</td>\n",
       "      <td>45.6156</td>\n",
       "      <td>9.28111</td>\n",
       "      <td>74</td>\n",
       "    </tr>\n",
       "    <tr>\n",
       "      <th>5</th>\n",
       "      <td>Circuit de Monaco</td>\n",
       "      <td>Monaco</td>\n",
       "      <td>Monaco Grand Prix</td>\n",
       "      <td>43.7347</td>\n",
       "      <td>7.42056</td>\n",
       "      <td>70</td>\n",
       "    </tr>\n",
       "    <tr>\n",
       "      <th>8</th>\n",
       "      <td>Silverstone Circuit</td>\n",
       "      <td>UK</td>\n",
       "      <td>British Grand Prix</td>\n",
       "      <td>52.0786</td>\n",
       "      <td>-1.01694</td>\n",
       "      <td>59</td>\n",
       "    </tr>\n",
       "    <tr>\n",
       "      <th>12</th>\n",
       "      <td>Circuit de Spa-Francorchamps</td>\n",
       "      <td>Belgium</td>\n",
       "      <td>Belgian Grand Prix</td>\n",
       "      <td>50.4372</td>\n",
       "      <td>5.97139</td>\n",
       "      <td>57</td>\n",
       "    </tr>\n",
       "    <tr>\n",
       "      <th>6</th>\n",
       "      <td>Circuit Gilles Villeneuve</td>\n",
       "      <td>Canada</td>\n",
       "      <td>Canadian Grand Prix</td>\n",
       "      <td>45.5000</td>\n",
       "      <td>-73.52280</td>\n",
       "      <td>43</td>\n",
       "    </tr>\n",
       "    <tr>\n",
       "      <th>...</th>\n",
       "      <td>...</td>\n",
       "      <td>...</td>\n",
       "      <td>...</td>\n",
       "      <td>...</td>\n",
       "      <td>...</td>\n",
       "      <td>...</td>\n",
       "    </tr>\n",
       "    <tr>\n",
       "      <th>55</th>\n",
       "      <td>Zeltweg</td>\n",
       "      <td>Austria</td>\n",
       "      <td>Austrian Grand Prix</td>\n",
       "      <td>47.2039</td>\n",
       "      <td>14.74780</td>\n",
       "      <td>1</td>\n",
       "    </tr>\n",
       "    <tr>\n",
       "      <th>62</th>\n",
       "      <td>Ain Diab</td>\n",
       "      <td>Morocco</td>\n",
       "      <td>Moroccan Grand Prix</td>\n",
       "      <td>33.5786</td>\n",
       "      <td>-7.68750</td>\n",
       "      <td>1</td>\n",
       "    </tr>\n",
       "    <tr>\n",
       "      <th>61</th>\n",
       "      <td>Sebring International Raceway</td>\n",
       "      <td>USA</td>\n",
       "      <td>United States Grand Prix</td>\n",
       "      <td>27.4547</td>\n",
       "      <td>-81.34830</td>\n",
       "      <td>1</td>\n",
       "    </tr>\n",
       "    <tr>\n",
       "      <th>63</th>\n",
       "      <td>Pescara Circuit</td>\n",
       "      <td>Italy</td>\n",
       "      <td>Pescara Grand Prix</td>\n",
       "      <td>42.4750</td>\n",
       "      <td>14.15080</td>\n",
       "      <td>1</td>\n",
       "    </tr>\n",
       "    <tr>\n",
       "      <th>72</th>\n",
       "      <td>Autodromo Internazionale del Mugello</td>\n",
       "      <td>Italy</td>\n",
       "      <td>Tuscan Grand Prix</td>\n",
       "      <td>43.9975</td>\n",
       "      <td>11.37190</td>\n",
       "      <td>1</td>\n",
       "    </tr>\n",
       "  </tbody>\n",
       "</table>\n",
       "<p>77 rows × 6 columns</p>\n",
       "</div>"
      ],
      "text/plain": [
       "                                    name  country                grand_prix  \\\n",
       "13          Autodromo Nazionale di Monza    Italy        Italian Grand Prix   \n",
       "5                      Circuit de Monaco   Monaco         Monaco Grand Prix   \n",
       "8                    Silverstone Circuit       UK        British Grand Prix   \n",
       "12          Circuit de Spa-Francorchamps  Belgium        Belgian Grand Prix   \n",
       "6              Circuit Gilles Villeneuve   Canada       Canadian Grand Prix   \n",
       "..                                   ...      ...                       ...   \n",
       "55                               Zeltweg  Austria       Austrian Grand Prix   \n",
       "62                              Ain Diab  Morocco       Moroccan Grand Prix   \n",
       "61         Sebring International Raceway      USA  United States Grand Prix   \n",
       "63                       Pescara Circuit    Italy        Pescara Grand Prix   \n",
       "72  Autodromo Internazionale del Mugello    Italy         Tuscan Grand Prix   \n",
       "\n",
       "        lat       lng  occurence  \n",
       "13  45.6156   9.28111         74  \n",
       "5   43.7347   7.42056         70  \n",
       "8   52.0786  -1.01694         59  \n",
       "12  50.4372   5.97139         57  \n",
       "6   45.5000 -73.52280         43  \n",
       "..      ...       ...        ...  \n",
       "55  47.2039  14.74780          1  \n",
       "62  33.5786  -7.68750          1  \n",
       "61  27.4547 -81.34830          1  \n",
       "63  42.4750  14.15080          1  \n",
       "72  43.9975  11.37190          1  \n",
       "\n",
       "[77 rows x 6 columns]"
      ]
     },
     "execution_count": 97,
     "metadata": {},
     "output_type": "execute_result"
    }
   ],
   "source": [
    "Circuit_df.sort_values(by= 'occurence', ascending= False, inplace= True)\n",
    "Circuit_df"
   ]
  },
  {
   "cell_type": "code",
   "execution_count": 98,
   "metadata": {},
   "outputs": [
    {
     "data": {
      "application/vnd.plotly.v1+json": {
       "config": {
        "plotlyServerURL": "https://plot.ly"
       },
       "data": [
        {
         "customdata": [
          [
           74,
           "Italian Grand Prix"
          ],
          [
           31,
           "Italian Grand Prix"
          ],
          [
           1,
           "Pescara Grand Prix"
          ],
          [
           1,
           "Tuscan Grand Prix"
          ]
         ],
         "geo": "geo",
         "hovertemplate": "<b>%{hovertext}<b><br><b>%{customdata[1]}<b><br>occurence:  %{customdata[0]:,.0f}<br>",
         "hovertext": [
          "Autodromo Nazionale di Monza",
          "Autodromo Enzo e Dino Ferrari",
          "Pescara Circuit",
          "Autodromo Internazionale del Mugello"
         ],
         "lat": [
          45.6156,
          44.3439,
          42.475,
          43.9975
         ],
         "legendgroup": "Italy",
         "lon": [
          9.28111,
          11.7167,
          14.1508,
          11.3719
         ],
         "marker": {
          "color": "#636efa",
          "line": {
           "color": "black",
           "width": 0.5
          },
          "symbol": "circle"
         },
         "mode": "markers",
         "name": "Italy",
         "showlegend": true,
         "type": "scattergeo"
        },
        {
         "customdata": [
          [
           70,
           "Monaco Grand Prix"
          ]
         ],
         "geo": "geo",
         "hovertemplate": "<b>%{hovertext}<b><br><b>%{customdata[1]}<b><br>occurence:  %{customdata[0]:,.0f}<br>",
         "hovertext": [
          "Circuit de Monaco"
         ],
         "lat": [
          43.7347
         ],
         "legendgroup": "Monaco",
         "lon": [
          7.42056
         ],
         "marker": {
          "color": "#EF553B",
          "line": {
           "color": "black",
           "width": 0.5
          },
          "symbol": "circle"
         },
         "mode": "markers",
         "name": "Monaco",
         "showlegend": true,
         "type": "scattergeo"
        },
        {
         "customdata": [
          [
           59,
           "British Grand Prix"
          ],
          [
           14,
           "British Grand Prix"
          ],
          [
           5,
           "British Grand Prix"
          ],
          [
           1,
           "European Grand Prix"
          ]
         ],
         "geo": "geo",
         "hovertemplate": "<b>%{hovertext}<b><br><b>%{customdata[1]}<b><br>occurence:  %{customdata[0]:,.0f}<br>",
         "hovertext": [
          "Silverstone Circuit",
          "Brands Hatch",
          "Aintree",
          "Donington Park"
         ],
         "lat": [
          52.0786,
          51.3569,
          53.4769,
          52.8306
         ],
         "legendgroup": "UK",
         "lon": [
          -1.01694,
          0.263056,
          -2.94056,
          -1.37528
         ],
         "marker": {
          "color": "#00cc96",
          "line": {
           "color": "black",
           "width": 0.5
          },
          "symbol": "circle"
         },
         "mode": "markers",
         "name": "UK",
         "showlegend": true,
         "type": "scattergeo"
        },
        {
         "customdata": [
          [
           57,
           "Belgian Grand Prix"
          ],
          [
           10,
           "Belgian Grand Prix"
          ],
          [
           2,
           "Belgian Grand Prix"
          ]
         ],
         "geo": "geo",
         "hovertemplate": "<b>%{hovertext}<b><br><b>%{customdata[1]}<b><br>occurence:  %{customdata[0]:,.0f}<br>",
         "hovertext": [
          "Circuit de Spa-Francorchamps",
          "Zolder",
          "Nivelles-Baulers"
         ],
         "lat": [
          50.4372,
          50.9894,
          50.6211
         ],
         "legendgroup": "Belgium",
         "lon": [
          5.97139,
          5.25694,
          4.32694
         ],
         "marker": {
          "color": "#ab63fa",
          "line": {
           "color": "black",
           "width": 0.5
          },
          "symbol": "circle"
         },
         "mode": "markers",
         "name": "Belgium",
         "showlegend": true,
         "type": "scattergeo"
        },
        {
         "customdata": [
          [
           43,
           "Canadian Grand Prix"
          ],
          [
           8,
           "Canadian Grand Prix"
          ],
          [
           2,
           "Canadian Grand Prix"
          ]
         ],
         "geo": "geo",
         "hovertemplate": "<b>%{hovertext}<b><br><b>%{customdata[1]}<b><br>occurence:  %{customdata[0]:,.0f}<br>",
         "hovertext": [
          "Circuit Gilles Villeneuve",
          "Mosport International Raceway",
          "Circuit Mont-Tremblant"
         ],
         "lat": [
          45.5,
          44.0481,
          46.1877
         ],
         "legendgroup": "Canada",
         "lon": [
          -73.5228,
          -78.6756,
          -74.6099
         ],
         "marker": {
          "color": "#FFA15A",
          "line": {
           "color": "black",
           "width": 0.5
          },
          "symbol": "circle"
         },
         "mode": "markers",
         "name": "Canada",
         "showlegend": true,
         "type": "scattergeo"
        },
        {
         "customdata": [
          [
           41,
           "Brazilian Grand Prix"
          ],
          [
           10,
           "Brazilian Grand Prix"
          ]
         ],
         "geo": "geo",
         "hovertemplate": "<b>%{hovertext}<b><br><b>%{customdata[1]}<b><br>occurence:  %{customdata[0]:,.0f}<br>",
         "hovertext": [
          "Autódromo José Carlos Pace",
          "Autódromo Internacional Nelson Piquet"
         ],
         "lat": [
          -23.7036,
          -22.9756
         ],
         "legendgroup": "Brazil",
         "lon": [
          -46.6997,
          -43.395
         ],
         "marker": {
          "color": "#19d3f3",
          "line": {
           "color": "black",
           "width": 0.5
          },
          "symbol": "circle"
         },
         "mode": "markers",
         "name": "Brazil",
         "showlegend": true,
         "type": "scattergeo"
        },
        {
         "customdata": [
          [
           41,
           "German Grand Prix"
          ],
          [
           37,
           "German Grand Prix"
          ],
          [
           1,
           "German Grand Prix"
          ]
         ],
         "geo": "geo",
         "hovertemplate": "<b>%{hovertext}<b><br><b>%{customdata[1]}<b><br>occurence:  %{customdata[0]:,.0f}<br>",
         "hovertext": [
          "Nürburgring",
          "Hockenheimring",
          "AVUS"
         ],
         "lat": [
          50.3356,
          49.3278,
          52.4806
         ],
         "legendgroup": "Germany",
         "lon": [
          6.9475,
          8.56583,
          13.2514
         ],
         "marker": {
          "color": "#FF6692",
          "line": {
           "color": "black",
           "width": 0.5
          },
          "symbol": "circle"
         },
         "mode": "markers",
         "name": "Germany",
         "showlegend": true,
         "type": "scattergeo"
        },
        {
         "customdata": [
          [
           39,
           "Hungarian Grand Prix"
          ]
         ],
         "geo": "geo",
         "hovertemplate": "<b>%{hovertext}<b><br><b>%{customdata[1]}<b><br>occurence:  %{customdata[0]:,.0f}<br>",
         "hovertext": [
          "Hungaroring"
         ],
         "lat": [
          47.5789
         ],
         "legendgroup": "Hungary",
         "lon": [
          19.2486
         ],
         "marker": {
          "color": "#B6E880",
          "line": {
           "color": "black",
           "width": 0.5
          },
          "symbol": "circle"
         },
         "mode": "markers",
         "name": "Hungary",
         "showlegend": true,
         "type": "scattergeo"
        },
        {
         "customdata": [
          [
           38,
           "Austrian Grand Prix"
          ],
          [
           1,
           "Austrian Grand Prix"
          ]
         ],
         "geo": "geo",
         "hovertemplate": "<b>%{hovertext}<b><br><b>%{customdata[1]}<b><br>occurence:  %{customdata[0]:,.0f}<br>",
         "hovertext": [
          "Red Bull Ring",
          "Zeltweg"
         ],
         "lat": [
          47.2197,
          47.2039
         ],
         "legendgroup": "Austria",
         "lon": [
          14.7647,
          14.7478
         ],
         "marker": {
          "color": "#FF97FF",
          "line": {
           "color": "black",
           "width": 0.5
          },
          "symbol": "circle"
         },
         "mode": "markers",
         "name": "Austria",
         "showlegend": true,
         "type": "scattergeo"
        },
        {
         "customdata": [
          [
           34,
           "Spanish Grand Prix"
          ],
          [
           9,
           "Spanish Grand Prix"
          ],
          [
           7,
           "Spanish Grand Prix"
          ],
          [
           5,
           "European Grand Prix"
          ],
          [
           4,
           "Spanish Grand Prix"
          ],
          [
           2,
           "Spanish Grand Prix"
          ]
         ],
         "geo": "geo",
         "hovertemplate": "<b>%{hovertext}<b><br><b>%{customdata[1]}<b><br>occurence:  %{customdata[0]:,.0f}<br>",
         "hovertext": [
          "Circuit de Barcelona-Catalunya",
          "Jarama",
          "Circuito de Jerez",
          "Valencia Street Circuit",
          "Montjuïc",
          "Circuit de Pedralbes"
         ],
         "lat": [
          41.57,
          40.6171,
          36.7083,
          39.4589,
          41.3664,
          41.3903
         ],
         "legendgroup": "Spain",
         "lon": [
          2.26111,
          -3.58558,
          -6.03417,
          -0.331667,
          2.15167,
          2.11667
         ],
         "marker": {
          "color": "#FECB52",
          "line": {
           "color": "black",
           "width": 0.5
          },
          "symbol": "circle"
         },
         "mode": "markers",
         "name": "Spain",
         "showlegend": true,
         "type": "scattergeo"
        },
        {
         "customdata": [
          [
           34,
           "Japanese Grand Prix"
          ],
          [
           4,
           "Japanese Grand Prix"
          ],
          [
           2,
           "Pacific Grand Prix"
          ]
         ],
         "geo": "geo",
         "hovertemplate": "<b>%{hovertext}<b><br><b>%{customdata[1]}<b><br>occurence:  %{customdata[0]:,.0f}<br>",
         "hovertext": [
          "Suzuka Circuit",
          "Fuji Speedway",
          "Okayama International Circuit"
         ],
         "lat": [
          34.8431,
          35.3717,
          34.915
         ],
         "legendgroup": "Japan",
         "lon": [
          136.541,
          138.927,
          134.221
         ],
         "marker": {
          "color": "#636efa",
          "line": {
           "color": "black",
           "width": 0.5
          },
          "symbol": "circle"
         },
         "mode": "markers",
         "name": "Japan",
         "showlegend": true,
         "type": "scattergeo"
        },
        {
         "customdata": [
          [
           34,
           "Dutch Grand Prix"
          ]
         ],
         "geo": "geo",
         "hovertemplate": "<b>%{hovertext}<b><br><b>%{customdata[1]}<b><br>occurence:  %{customdata[0]:,.0f}<br>",
         "hovertext": [
          "Circuit Park Zandvoort"
         ],
         "lat": [
          52.3888
         ],
         "legendgroup": "Netherlands",
         "lon": [
          4.54092
         ],
         "marker": {
          "color": "#EF553B",
          "line": {
           "color": "black",
           "width": 0.5
          },
          "symbol": "circle"
         },
         "mode": "markers",
         "name": "Netherlands",
         "showlegend": true,
         "type": "scattergeo"
        },
        {
         "customdata": [
          [
           27,
           "Australian Grand Prix"
          ],
          [
           11,
           "Australian Grand Prix"
          ]
         ],
         "geo": "geo",
         "hovertemplate": "<b>%{hovertext}<b><br><b>%{customdata[1]}<b><br>occurence:  %{customdata[0]:,.0f}<br>",
         "hovertext": [
          "Albert Park Grand Prix Circuit",
          "Adelaide Street Circuit"
         ],
         "lat": [
          -37.8497,
          -34.9272
         ],
         "legendgroup": "Australia",
         "lon": [
          144.968,
          138.617
         ],
         "marker": {
          "color": "#00cc96",
          "line": {
           "color": "black",
           "width": 0.5
          },
          "symbol": "circle"
         },
         "mode": "markers",
         "name": "Australia",
         "showlegend": true,
         "type": "scattergeo"
        },
        {
         "customdata": [
          [
           24,
           "Mexican Grand Prix"
          ]
         ],
         "geo": "geo",
         "hovertemplate": "<b>%{hovertext}<b><br><b>%{customdata[1]}<b><br>occurence:  %{customdata[0]:,.0f}<br>",
         "hovertext": [
          "Autódromo Hermanos Rodríguez"
         ],
         "lat": [
          19.4042
         ],
         "legendgroup": "Mexico",
         "lon": [
          -99.0907
         ],
         "marker": {
          "color": "#ab63fa",
          "line": {
           "color": "black",
           "width": 0.5
          },
          "symbol": "circle"
         },
         "mode": "markers",
         "name": "Mexico",
         "showlegend": true,
         "type": "scattergeo"
        },
        {
         "customdata": [
          [
           21,
           "Bahrain Grand Prix"
          ]
         ],
         "geo": "geo",
         "hovertemplate": "<b>%{hovertext}<b><br><b>%{customdata[1]}<b><br>occurence:  %{customdata[0]:,.0f}<br>",
         "hovertext": [
          "Bahrain International Circuit"
         ],
         "lat": [
          26.0325
         ],
         "legendgroup": "Bahrain",
         "lon": [
          50.5106
         ],
         "marker": {
          "color": "#FFA15A",
          "line": {
           "color": "black",
           "width": 0.5
          },
          "symbol": "circle"
         },
         "mode": "markers",
         "name": "Bahrain",
         "showlegend": true,
         "type": "scattergeo"
        },
        {
         "customdata": [
          [
           20,
           "South African Grand Prix"
          ],
          [
           3,
           "South African Grand Prix"
          ]
         ],
         "geo": "geo",
         "hovertemplate": "<b>%{hovertext}<b><br><b>%{customdata[1]}<b><br>occurence:  %{customdata[0]:,.0f}<br>",
         "hovertext": [
          "Kyalami",
          "Prince George Circuit"
         ],
         "lat": [
          -25.9894,
          -33.0486
         ],
         "legendgroup": "South Africa",
         "lon": [
          28.0767,
          27.8736
         ],
         "marker": {
          "color": "#19d3f3",
          "line": {
           "color": "black",
           "width": 0.5
          },
          "symbol": "circle"
         },
         "mode": "markers",
         "name": "South Africa",
         "showlegend": true,
         "type": "scattergeo"
        },
        {
         "customdata": [
          [
           20,
           "United States Grand Prix"
          ],
          [
           19,
           "Indianapolis 500"
          ],
          [
           12,
           "United States Grand Prix"
          ],
          [
           8,
           "United States Grand Prix West"
          ],
          [
           7,
           "Detroit Grand Prix"
          ],
          [
           3,
           "Miami Grand Prix"
          ],
          [
           3,
           "United States Grand Prix"
          ],
          [
           2,
           "Caesars Palace Grand Prix"
          ],
          [
           1,
           "Dallas Grand Prix"
          ],
          [
           1,
           "United States Grand Prix"
          ],
          [
           1,
           "United States Grand Prix"
          ]
         ],
         "geo": "geo",
         "hovertemplate": "<b>%{hovertext}<b><br><b>%{customdata[1]}<b><br>occurence:  %{customdata[0]:,.0f}<br>",
         "hovertext": [
          "Watkins Glen",
          "Indianapolis Motor Speedway",
          "Circuit of the Americas",
          "Long Beach",
          "Detroit Street Circuit",
          "Miami International Autodrome",
          "Phoenix street circuit",
          "Las Vegas Street Circuit",
          "Fair Park",
          "Riverside International Raceway",
          "Sebring International Raceway"
         ],
         "lat": [
          42.3369,
          39.795,
          30.1328,
          33.7651,
          42.3298,
          25.9581,
          33.4479,
          36.1162,
          32.7774,
          33.937,
          27.4547
         ],
         "legendgroup": "USA",
         "lon": [
          -76.9272,
          -86.2347,
          -97.6411,
          -118.189,
          -83.0401,
          -80.2389,
          -112.075,
          -115.174,
          -96.7587,
          -117.273,
          -81.3483
         ],
         "marker": {
          "color": "#FF6692",
          "line": {
           "color": "black",
           "width": 0.5
          },
          "symbol": "circle"
         },
         "mode": "markers",
         "name": "USA",
         "showlegend": true,
         "type": "scattergeo"
        },
        {
         "customdata": [
          [
           20,
           "Argentine Grand Prix"
          ]
         ],
         "geo": "geo",
         "hovertemplate": "<b>%{hovertext}<b><br><b>%{customdata[1]}<b><br>occurence:  %{customdata[0]:,.0f}<br>",
         "hovertext": [
          "Autódromo Juan y Oscar Gálvez"
         ],
         "lat": [
          -34.6943
         ],
         "legendgroup": "Argentina",
         "lon": [
          -58.4593
         ],
         "marker": {
          "color": "#B6E880",
          "line": {
           "color": "black",
           "width": 0.5
          },
          "symbol": "circle"
         },
         "mode": "markers",
         "name": "Argentina",
         "showlegend": true,
         "type": "scattergeo"
        },
        {
         "customdata": [
          [
           19,
           "Malaysian Grand Prix"
          ]
         ],
         "geo": "geo",
         "hovertemplate": "<b>%{hovertext}<b><br><b>%{customdata[1]}<b><br>occurence:  %{customdata[0]:,.0f}<br>",
         "hovertext": [
          "Sepang International Circuit"
         ],
         "lat": [
          2.76083
         ],
         "legendgroup": "Malaysia",
         "lon": [
          101.738
         ],
         "marker": {
          "color": "#FF97FF",
          "line": {
           "color": "black",
           "width": 0.5
          },
          "symbol": "circle"
         },
         "mode": "markers",
         "name": "Malaysia",
         "showlegend": true,
         "type": "scattergeo"
        },
        {
         "customdata": [
          [
           18,
           "French Grand Prix"
          ],
          [
           18,
           "French Grand Prix"
          ],
          [
           11,
           "French Grand Prix"
          ],
          [
           6,
           "French Grand Prix"
          ],
          [
           5,
           "French Grand Prix"
          ],
          [
           4,
           "French Grand Prix"
          ],
          [
           1,
           "French Grand Prix"
          ]
         ],
         "geo": "geo",
         "hovertemplate": "<b>%{hovertext}<b><br><b>%{customdata[1]}<b><br>occurence:  %{customdata[0]:,.0f}<br>",
         "hovertext": [
          "Circuit Paul Ricard",
          "Circuit de Nevers Magny-Cours",
          "Reims-Gueux",
          "Dijon-Prenois",
          "Rouen-Les-Essarts",
          "Charade Circuit",
          "Le Mans"
         ],
         "lat": [
          43.2506,
          46.8642,
          49.2542,
          47.3625,
          49.3306,
          45.7472,
          47.95
         ],
         "legendgroup": "France",
         "lon": [
          5.79167,
          3.16361,
          3.93083,
          4.89913,
          1.00458,
          3.03889,
          0.224231
         ],
         "marker": {
          "color": "#FECB52",
          "line": {
           "color": "black",
           "width": 0.5
          },
          "symbol": "circle"
         },
         "mode": "markers",
         "name": "France",
         "showlegend": true,
         "type": "scattergeo"
        },
        {
         "customdata": [
          [
           17,
           "Chinese Grand Prix"
          ]
         ],
         "geo": "geo",
         "hovertemplate": "<b>%{hovertext}<b><br><b>%{customdata[1]}<b><br>occurence:  %{customdata[0]:,.0f}<br>",
         "hovertext": [
          "Shanghai International Circuit"
         ],
         "lat": [
          31.3389
         ],
         "legendgroup": "China",
         "lon": [
          121.22
         ],
         "marker": {
          "color": "#636efa",
          "line": {
           "color": "black",
           "width": 0.5
          },
          "symbol": "circle"
         },
         "mode": "markers",
         "name": "China",
         "showlegend": true,
         "type": "scattergeo"
        },
        {
         "customdata": [
          [
           16,
           "Abu Dhabi Grand Prix"
          ]
         ],
         "geo": "geo",
         "hovertemplate": "<b>%{hovertext}<b><br><b>%{customdata[1]}<b><br>occurence:  %{customdata[0]:,.0f}<br>",
         "hovertext": [
          "Yas Marina Circuit"
         ],
         "lat": [
          24.4672
         ],
         "legendgroup": "UAE",
         "lon": [
          54.6031
         ],
         "marker": {
          "color": "#EF553B",
          "line": {
           "color": "black",
           "width": 0.5
          },
          "symbol": "circle"
         },
         "mode": "markers",
         "name": "UAE",
         "showlegend": true,
         "type": "scattergeo"
        },
        {
         "customdata": [
          [
           15,
           "Singapore Grand Prix"
          ]
         ],
         "geo": "geo",
         "hovertemplate": "<b>%{hovertext}<b><br><b>%{customdata[1]}<b><br>occurence:  %{customdata[0]:,.0f}<br>",
         "hovertext": [
          "Marina Bay Street Circuit"
         ],
         "lat": [
          1.2914
         ],
         "legendgroup": "Singapore",
         "lon": [
          103.864
         ],
         "marker": {
          "color": "#00cc96",
          "line": {
           "color": "black",
           "width": 0.5
          },
          "symbol": "circle"
         },
         "mode": "markers",
         "name": "Singapore",
         "showlegend": true,
         "type": "scattergeo"
        },
        {
         "customdata": [
          [
           13,
           "Portuguese Grand Prix"
          ],
          [
           2,
           "Portuguese Grand Prix"
          ],
          [
           2,
           "Portuguese Grand Prix"
          ],
          [
           1,
           "Portuguese Grand Prix"
          ]
         ],
         "geo": "geo",
         "hovertemplate": "<b>%{hovertext}<b><br><b>%{customdata[1]}<b><br>occurence:  %{customdata[0]:,.0f}<br>",
         "hovertext": [
          "Autódromo do Estoril",
          "Autódromo Internacional do Algarve",
          "Circuito da Boavista",
          "Monsanto Park Circuit"
         ],
         "lat": [
          38.7506,
          37.227,
          41.1705,
          38.7197
         ],
         "legendgroup": "Portugal",
         "lon": [
          -9.39417,
          -8.6267,
          -8.67325,
          -9.20306
         ],
         "marker": {
          "color": "#ab63fa",
          "line": {
           "color": "black",
           "width": 0.5
          },
          "symbol": "circle"
         },
         "mode": "markers",
         "name": "Portugal",
         "showlegend": true,
         "type": "scattergeo"
        },
        {
         "customdata": [
          [
           9,
           "Turkish Grand Prix"
          ]
         ],
         "geo": "geo",
         "hovertemplate": "<b>%{hovertext}<b><br><b>%{customdata[1]}<b><br>occurence:  %{customdata[0]:,.0f}<br>",
         "hovertext": [
          "Istanbul Park"
         ],
         "lat": [
          40.9517
         ],
         "legendgroup": "Turkey",
         "lon": [
          29.405
         ],
         "marker": {
          "color": "#FFA15A",
          "line": {
           "color": "black",
           "width": 0.5
          },
          "symbol": "circle"
         },
         "mode": "markers",
         "name": "Turkey",
         "showlegend": true,
         "type": "scattergeo"
        },
        {
         "customdata": [
          [
           8,
           "European Grand Prix"
          ]
         ],
         "geo": "geo",
         "hovertemplate": "<b>%{hovertext}<b><br><b>%{customdata[1]}<b><br>occurence:  %{customdata[0]:,.0f}<br>",
         "hovertext": [
          "Baku City Circuit"
         ],
         "lat": [
          40.3725
         ],
         "legendgroup": "Azerbaijan",
         "lon": [
          49.8533
         ],
         "marker": {
          "color": "#19d3f3",
          "line": {
           "color": "black",
           "width": 0.5
          },
          "symbol": "circle"
         },
         "mode": "markers",
         "name": "Azerbaijan",
         "showlegend": true,
         "type": "scattergeo"
        },
        {
         "customdata": [
          [
           8,
           "Russian Grand Prix"
          ]
         ],
         "geo": "geo",
         "hovertemplate": "<b>%{hovertext}<b><br><b>%{customdata[1]}<b><br>occurence:  %{customdata[0]:,.0f}<br>",
         "hovertext": [
          "Sochi Autodrom"
         ],
         "lat": [
          43.4057
         ],
         "legendgroup": "Russia",
         "lon": [
          39.9578
         ],
         "marker": {
          "color": "#FF6692",
          "line": {
           "color": "black",
           "width": 0.5
          },
          "symbol": "circle"
         },
         "mode": "markers",
         "name": "Russia",
         "showlegend": true,
         "type": "scattergeo"
        },
        {
         "customdata": [
          [
           6,
           "Swedish Grand Prix"
          ]
         ],
         "geo": "geo",
         "hovertemplate": "<b>%{hovertext}<b><br><b>%{customdata[1]}<b><br>occurence:  %{customdata[0]:,.0f}<br>",
         "hovertext": [
          "Scandinavian Raceway"
         ],
         "lat": [
          57.2653
         ],
         "legendgroup": "Sweden",
         "lon": [
          13.6042
         ],
         "marker": {
          "color": "#B6E880",
          "line": {
           "color": "black",
           "width": 0.5
          },
          "symbol": "circle"
         },
         "mode": "markers",
         "name": "Sweden",
         "showlegend": true,
         "type": "scattergeo"
        },
        {
         "customdata": [
          [
           5,
           "Swiss Grand Prix"
          ]
         ],
         "geo": "geo",
         "hovertemplate": "<b>%{hovertext}<b><br><b>%{customdata[1]}<b><br>occurence:  %{customdata[0]:,.0f}<br>",
         "hovertext": [
          "Circuit Bremgarten"
         ],
         "lat": [
          46.9589
         ],
         "legendgroup": "Switzerland",
         "lon": [
          7.40194
         ],
         "marker": {
          "color": "#FF97FF",
          "line": {
           "color": "black",
           "width": 0.5
          },
          "symbol": "circle"
         },
         "mode": "markers",
         "name": "Switzerland",
         "showlegend": true,
         "type": "scattergeo"
        },
        {
         "customdata": [
          [
           4,
           "Saudi Arabian Grand Prix"
          ]
         ],
         "geo": "geo",
         "hovertemplate": "<b>%{hovertext}<b><br><b>%{customdata[1]}<b><br>occurence:  %{customdata[0]:,.0f}<br>",
         "hovertext": [
          "Jeddah Corniche Circuit"
         ],
         "lat": [
          21.6319
         ],
         "legendgroup": "Saudi Arabia",
         "lon": [
          39.1044
         ],
         "marker": {
          "color": "#FECB52",
          "line": {
           "color": "black",
           "width": 0.5
          },
          "symbol": "circle"
         },
         "mode": "markers",
         "name": "Saudi Arabia",
         "showlegend": true,
         "type": "scattergeo"
        },
        {
         "customdata": [
          [
           4,
           "Korean Grand Prix"
          ]
         ],
         "geo": "geo",
         "hovertemplate": "<b>%{hovertext}<b><br><b>%{customdata[1]}<b><br>occurence:  %{customdata[0]:,.0f}<br>",
         "hovertext": [
          "Korean International Circuit"
         ],
         "lat": [
          34.7333
         ],
         "legendgroup": "Korea",
         "lon": [
          126.417
         ],
         "marker": {
          "color": "#636efa",
          "line": {
           "color": "black",
           "width": 0.5
          },
          "symbol": "circle"
         },
         "mode": "markers",
         "name": "Korea",
         "showlegend": true,
         "type": "scattergeo"
        },
        {
         "customdata": [
          [
           3,
           "Qatar Grand Prix"
          ]
         ],
         "geo": "geo",
         "hovertemplate": "<b>%{hovertext}<b><br><b>%{customdata[1]}<b><br>occurence:  %{customdata[0]:,.0f}<br>",
         "hovertext": [
          "Losail International Circuit"
         ],
         "lat": [
          25.49
         ],
         "legendgroup": "Qatar",
         "lon": [
          51.4542
         ],
         "marker": {
          "color": "#EF553B",
          "line": {
           "color": "black",
           "width": 0.5
          },
          "symbol": "circle"
         },
         "mode": "markers",
         "name": "Qatar",
         "showlegend": true,
         "type": "scattergeo"
        },
        {
         "customdata": [
          [
           3,
           "Indian Grand Prix"
          ]
         ],
         "geo": "geo",
         "hovertemplate": "<b>%{hovertext}<b><br><b>%{customdata[1]}<b><br>occurence:  %{customdata[0]:,.0f}<br>",
         "hovertext": [
          "Buddh International Circuit"
         ],
         "lat": [
          28.3487
         ],
         "legendgroup": "India",
         "lon": [
          77.5331
         ],
         "marker": {
          "color": "#00cc96",
          "line": {
           "color": "black",
           "width": 0.5
          },
          "symbol": "circle"
         },
         "mode": "markers",
         "name": "India",
         "showlegend": true,
         "type": "scattergeo"
        },
        {
         "customdata": [
          [
           2,
           "Las Vegas Grand Prix"
          ]
         ],
         "geo": "geo",
         "hovertemplate": "<b>%{hovertext}<b><br><b>%{customdata[1]}<b><br>occurence:  %{customdata[0]:,.0f}<br>",
         "hovertext": [
          "Las Vegas Strip Street Circuit"
         ],
         "lat": [
          36.1147
         ],
         "legendgroup": "United States",
         "lon": [
          -115.173
         ],
         "marker": {
          "color": "#ab63fa",
          "line": {
           "color": "black",
           "width": 0.5
          },
          "symbol": "circle"
         },
         "mode": "markers",
         "name": "United States",
         "showlegend": true,
         "type": "scattergeo"
        },
        {
         "customdata": [
          [
           1,
           "Moroccan Grand Prix"
          ]
         ],
         "geo": "geo",
         "hovertemplate": "<b>%{hovertext}<b><br><b>%{customdata[1]}<b><br>occurence:  %{customdata[0]:,.0f}<br>",
         "hovertext": [
          "Ain Diab"
         ],
         "lat": [
          33.5786
         ],
         "legendgroup": "Morocco",
         "lon": [
          -7.6875
         ],
         "marker": {
          "color": "#FFA15A",
          "line": {
           "color": "black",
           "width": 0.5
          },
          "symbol": "circle"
         },
         "mode": "markers",
         "name": "Morocco",
         "showlegend": true,
         "type": "scattergeo"
        }
       ],
       "layout": {
        "geo": {
         "center": {},
         "domain": {
          "x": [
           0,
           1
          ],
          "y": [
           0,
           1
          ]
         },
         "projection": {
          "type": "natural earth"
         }
        },
        "legend": {
         "title": {
          "text": "country"
         },
         "tracegroupgap": 0
        },
        "margin": {
         "t": 60
        },
        "template": {
         "data": {
          "bar": [
           {
            "error_x": {
             "color": "#2a3f5f"
            },
            "error_y": {
             "color": "#2a3f5f"
            },
            "marker": {
             "line": {
              "color": "#E5ECF6",
              "width": 0.5
             },
             "pattern": {
              "fillmode": "overlay",
              "size": 10,
              "solidity": 0.2
             }
            },
            "type": "bar"
           }
          ],
          "barpolar": [
           {
            "marker": {
             "line": {
              "color": "#E5ECF6",
              "width": 0.5
             },
             "pattern": {
              "fillmode": "overlay",
              "size": 10,
              "solidity": 0.2
             }
            },
            "type": "barpolar"
           }
          ],
          "carpet": [
           {
            "aaxis": {
             "endlinecolor": "#2a3f5f",
             "gridcolor": "white",
             "linecolor": "white",
             "minorgridcolor": "white",
             "startlinecolor": "#2a3f5f"
            },
            "baxis": {
             "endlinecolor": "#2a3f5f",
             "gridcolor": "white",
             "linecolor": "white",
             "minorgridcolor": "white",
             "startlinecolor": "#2a3f5f"
            },
            "type": "carpet"
           }
          ],
          "choropleth": [
           {
            "colorbar": {
             "outlinewidth": 0,
             "ticks": ""
            },
            "type": "choropleth"
           }
          ],
          "contour": [
           {
            "colorbar": {
             "outlinewidth": 0,
             "ticks": ""
            },
            "colorscale": [
             [
              0,
              "#0d0887"
             ],
             [
              0.1111111111111111,
              "#46039f"
             ],
             [
              0.2222222222222222,
              "#7201a8"
             ],
             [
              0.3333333333333333,
              "#9c179e"
             ],
             [
              0.4444444444444444,
              "#bd3786"
             ],
             [
              0.5555555555555556,
              "#d8576b"
             ],
             [
              0.6666666666666666,
              "#ed7953"
             ],
             [
              0.7777777777777778,
              "#fb9f3a"
             ],
             [
              0.8888888888888888,
              "#fdca26"
             ],
             [
              1,
              "#f0f921"
             ]
            ],
            "type": "contour"
           }
          ],
          "contourcarpet": [
           {
            "colorbar": {
             "outlinewidth": 0,
             "ticks": ""
            },
            "type": "contourcarpet"
           }
          ],
          "heatmap": [
           {
            "colorbar": {
             "outlinewidth": 0,
             "ticks": ""
            },
            "colorscale": [
             [
              0,
              "#0d0887"
             ],
             [
              0.1111111111111111,
              "#46039f"
             ],
             [
              0.2222222222222222,
              "#7201a8"
             ],
             [
              0.3333333333333333,
              "#9c179e"
             ],
             [
              0.4444444444444444,
              "#bd3786"
             ],
             [
              0.5555555555555556,
              "#d8576b"
             ],
             [
              0.6666666666666666,
              "#ed7953"
             ],
             [
              0.7777777777777778,
              "#fb9f3a"
             ],
             [
              0.8888888888888888,
              "#fdca26"
             ],
             [
              1,
              "#f0f921"
             ]
            ],
            "type": "heatmap"
           }
          ],
          "heatmapgl": [
           {
            "colorbar": {
             "outlinewidth": 0,
             "ticks": ""
            },
            "colorscale": [
             [
              0,
              "#0d0887"
             ],
             [
              0.1111111111111111,
              "#46039f"
             ],
             [
              0.2222222222222222,
              "#7201a8"
             ],
             [
              0.3333333333333333,
              "#9c179e"
             ],
             [
              0.4444444444444444,
              "#bd3786"
             ],
             [
              0.5555555555555556,
              "#d8576b"
             ],
             [
              0.6666666666666666,
              "#ed7953"
             ],
             [
              0.7777777777777778,
              "#fb9f3a"
             ],
             [
              0.8888888888888888,
              "#fdca26"
             ],
             [
              1,
              "#f0f921"
             ]
            ],
            "type": "heatmapgl"
           }
          ],
          "histogram": [
           {
            "marker": {
             "pattern": {
              "fillmode": "overlay",
              "size": 10,
              "solidity": 0.2
             }
            },
            "type": "histogram"
           }
          ],
          "histogram2d": [
           {
            "colorbar": {
             "outlinewidth": 0,
             "ticks": ""
            },
            "colorscale": [
             [
              0,
              "#0d0887"
             ],
             [
              0.1111111111111111,
              "#46039f"
             ],
             [
              0.2222222222222222,
              "#7201a8"
             ],
             [
              0.3333333333333333,
              "#9c179e"
             ],
             [
              0.4444444444444444,
              "#bd3786"
             ],
             [
              0.5555555555555556,
              "#d8576b"
             ],
             [
              0.6666666666666666,
              "#ed7953"
             ],
             [
              0.7777777777777778,
              "#fb9f3a"
             ],
             [
              0.8888888888888888,
              "#fdca26"
             ],
             [
              1,
              "#f0f921"
             ]
            ],
            "type": "histogram2d"
           }
          ],
          "histogram2dcontour": [
           {
            "colorbar": {
             "outlinewidth": 0,
             "ticks": ""
            },
            "colorscale": [
             [
              0,
              "#0d0887"
             ],
             [
              0.1111111111111111,
              "#46039f"
             ],
             [
              0.2222222222222222,
              "#7201a8"
             ],
             [
              0.3333333333333333,
              "#9c179e"
             ],
             [
              0.4444444444444444,
              "#bd3786"
             ],
             [
              0.5555555555555556,
              "#d8576b"
             ],
             [
              0.6666666666666666,
              "#ed7953"
             ],
             [
              0.7777777777777778,
              "#fb9f3a"
             ],
             [
              0.8888888888888888,
              "#fdca26"
             ],
             [
              1,
              "#f0f921"
             ]
            ],
            "type": "histogram2dcontour"
           }
          ],
          "mesh3d": [
           {
            "colorbar": {
             "outlinewidth": 0,
             "ticks": ""
            },
            "type": "mesh3d"
           }
          ],
          "parcoords": [
           {
            "line": {
             "colorbar": {
              "outlinewidth": 0,
              "ticks": ""
             }
            },
            "type": "parcoords"
           }
          ],
          "pie": [
           {
            "automargin": true,
            "type": "pie"
           }
          ],
          "scatter": [
           {
            "fillpattern": {
             "fillmode": "overlay",
             "size": 10,
             "solidity": 0.2
            },
            "type": "scatter"
           }
          ],
          "scatter3d": [
           {
            "line": {
             "colorbar": {
              "outlinewidth": 0,
              "ticks": ""
             }
            },
            "marker": {
             "colorbar": {
              "outlinewidth": 0,
              "ticks": ""
             }
            },
            "type": "scatter3d"
           }
          ],
          "scattercarpet": [
           {
            "marker": {
             "colorbar": {
              "outlinewidth": 0,
              "ticks": ""
             }
            },
            "type": "scattercarpet"
           }
          ],
          "scattergeo": [
           {
            "marker": {
             "colorbar": {
              "outlinewidth": 0,
              "ticks": ""
             }
            },
            "type": "scattergeo"
           }
          ],
          "scattergl": [
           {
            "marker": {
             "colorbar": {
              "outlinewidth": 0,
              "ticks": ""
             }
            },
            "type": "scattergl"
           }
          ],
          "scattermapbox": [
           {
            "marker": {
             "colorbar": {
              "outlinewidth": 0,
              "ticks": ""
             }
            },
            "type": "scattermapbox"
           }
          ],
          "scatterpolar": [
           {
            "marker": {
             "colorbar": {
              "outlinewidth": 0,
              "ticks": ""
             }
            },
            "type": "scatterpolar"
           }
          ],
          "scatterpolargl": [
           {
            "marker": {
             "colorbar": {
              "outlinewidth": 0,
              "ticks": ""
             }
            },
            "type": "scatterpolargl"
           }
          ],
          "scatterternary": [
           {
            "marker": {
             "colorbar": {
              "outlinewidth": 0,
              "ticks": ""
             }
            },
            "type": "scatterternary"
           }
          ],
          "surface": [
           {
            "colorbar": {
             "outlinewidth": 0,
             "ticks": ""
            },
            "colorscale": [
             [
              0,
              "#0d0887"
             ],
             [
              0.1111111111111111,
              "#46039f"
             ],
             [
              0.2222222222222222,
              "#7201a8"
             ],
             [
              0.3333333333333333,
              "#9c179e"
             ],
             [
              0.4444444444444444,
              "#bd3786"
             ],
             [
              0.5555555555555556,
              "#d8576b"
             ],
             [
              0.6666666666666666,
              "#ed7953"
             ],
             [
              0.7777777777777778,
              "#fb9f3a"
             ],
             [
              0.8888888888888888,
              "#fdca26"
             ],
             [
              1,
              "#f0f921"
             ]
            ],
            "type": "surface"
           }
          ],
          "table": [
           {
            "cells": {
             "fill": {
              "color": "#EBF0F8"
             },
             "line": {
              "color": "white"
             }
            },
            "header": {
             "fill": {
              "color": "#C8D4E3"
             },
             "line": {
              "color": "white"
             }
            },
            "type": "table"
           }
          ]
         },
         "layout": {
          "annotationdefaults": {
           "arrowcolor": "#2a3f5f",
           "arrowhead": 0,
           "arrowwidth": 1
          },
          "autotypenumbers": "strict",
          "coloraxis": {
           "colorbar": {
            "outlinewidth": 0,
            "ticks": ""
           }
          },
          "colorscale": {
           "diverging": [
            [
             0,
             "#8e0152"
            ],
            [
             0.1,
             "#c51b7d"
            ],
            [
             0.2,
             "#de77ae"
            ],
            [
             0.3,
             "#f1b6da"
            ],
            [
             0.4,
             "#fde0ef"
            ],
            [
             0.5,
             "#f7f7f7"
            ],
            [
             0.6,
             "#e6f5d0"
            ],
            [
             0.7,
             "#b8e186"
            ],
            [
             0.8,
             "#7fbc41"
            ],
            [
             0.9,
             "#4d9221"
            ],
            [
             1,
             "#276419"
            ]
           ],
           "sequential": [
            [
             0,
             "#0d0887"
            ],
            [
             0.1111111111111111,
             "#46039f"
            ],
            [
             0.2222222222222222,
             "#7201a8"
            ],
            [
             0.3333333333333333,
             "#9c179e"
            ],
            [
             0.4444444444444444,
             "#bd3786"
            ],
            [
             0.5555555555555556,
             "#d8576b"
            ],
            [
             0.6666666666666666,
             "#ed7953"
            ],
            [
             0.7777777777777778,
             "#fb9f3a"
            ],
            [
             0.8888888888888888,
             "#fdca26"
            ],
            [
             1,
             "#f0f921"
            ]
           ],
           "sequentialminus": [
            [
             0,
             "#0d0887"
            ],
            [
             0.1111111111111111,
             "#46039f"
            ],
            [
             0.2222222222222222,
             "#7201a8"
            ],
            [
             0.3333333333333333,
             "#9c179e"
            ],
            [
             0.4444444444444444,
             "#bd3786"
            ],
            [
             0.5555555555555556,
             "#d8576b"
            ],
            [
             0.6666666666666666,
             "#ed7953"
            ],
            [
             0.7777777777777778,
             "#fb9f3a"
            ],
            [
             0.8888888888888888,
             "#fdca26"
            ],
            [
             1,
             "#f0f921"
            ]
           ]
          },
          "colorway": [
           "#636efa",
           "#EF553B",
           "#00cc96",
           "#ab63fa",
           "#FFA15A",
           "#19d3f3",
           "#FF6692",
           "#B6E880",
           "#FF97FF",
           "#FECB52"
          ],
          "font": {
           "color": "#2a3f5f"
          },
          "geo": {
           "bgcolor": "white",
           "lakecolor": "white",
           "landcolor": "#E5ECF6",
           "showlakes": true,
           "showland": true,
           "subunitcolor": "white"
          },
          "hoverlabel": {
           "align": "left"
          },
          "hovermode": "closest",
          "mapbox": {
           "style": "light"
          },
          "paper_bgcolor": "white",
          "plot_bgcolor": "#E5ECF6",
          "polar": {
           "angularaxis": {
            "gridcolor": "white",
            "linecolor": "white",
            "ticks": ""
           },
           "bgcolor": "#E5ECF6",
           "radialaxis": {
            "gridcolor": "white",
            "linecolor": "white",
            "ticks": ""
           }
          },
          "scene": {
           "xaxis": {
            "backgroundcolor": "#E5ECF6",
            "gridcolor": "white",
            "gridwidth": 2,
            "linecolor": "white",
            "showbackground": true,
            "ticks": "",
            "zerolinecolor": "white"
           },
           "yaxis": {
            "backgroundcolor": "#E5ECF6",
            "gridcolor": "white",
            "gridwidth": 2,
            "linecolor": "white",
            "showbackground": true,
            "ticks": "",
            "zerolinecolor": "white"
           },
           "zaxis": {
            "backgroundcolor": "#E5ECF6",
            "gridcolor": "white",
            "gridwidth": 2,
            "linecolor": "white",
            "showbackground": true,
            "ticks": "",
            "zerolinecolor": "white"
           }
          },
          "shapedefaults": {
           "line": {
            "color": "#2a3f5f"
           }
          },
          "ternary": {
           "aaxis": {
            "gridcolor": "white",
            "linecolor": "white",
            "ticks": ""
           },
           "baxis": {
            "gridcolor": "white",
            "linecolor": "white",
            "ticks": ""
           },
           "bgcolor": "#E5ECF6",
           "caxis": {
            "gridcolor": "white",
            "linecolor": "white",
            "ticks": ""
           }
          },
          "title": {
           "x": 0.05
          },
          "xaxis": {
           "automargin": true,
           "gridcolor": "white",
           "linecolor": "white",
           "ticks": "",
           "title": {
            "standoff": 15
           },
           "zerolinecolor": "white",
           "zerolinewidth": 2
          },
          "yaxis": {
           "automargin": true,
           "gridcolor": "white",
           "linecolor": "white",
           "ticks": "",
           "title": {
            "standoff": 15
           },
           "zerolinecolor": "white",
           "zerolinewidth": 2
          }
         }
        }
       }
      }
     },
     "metadata": {},
     "output_type": "display_data"
    }
   ],
   "source": [
    "fig = px.scatter_geo(data_frame= Circuit_df, lat= 'lat', lon= 'lng', hover_name= 'name',\n",
    "                     hover_data= {'occurence': True, 'grand_prix': True},\n",
    "                     projection= 'natural earth',\n",
    "                     color= 'country')\n",
    "fig.update_traces(marker = dict(line= dict(width= 0.5, color= 'black')),\n",
    "                  hovertemplate= \"<b>%{hovertext}<b><br>\"+\n",
    "                                 \"<b>%{customdata[1]}<b><br>\"+\n",
    "                                 \"occurence:  %{customdata[0]:,.0f}<br>\"\n",
    "                    )\n",
    "fig.show()"
   ]
  },
  {
   "cell_type": "markdown",
   "metadata": {},
   "source": [
    "#### **Driver Performance**"
   ]
  },
  {
   "cell_type": "code",
   "execution_count": 67,
   "metadata": {},
   "outputs": [
    {
     "data": {
      "text/html": [
       "<div>\n",
       "<style scoped>\n",
       "    .dataframe tbody tr th:only-of-type {\n",
       "        vertical-align: middle;\n",
       "    }\n",
       "\n",
       "    .dataframe tbody tr th {\n",
       "        vertical-align: top;\n",
       "    }\n",
       "\n",
       "    .dataframe thead th {\n",
       "        text-align: right;\n",
       "    }\n",
       "</style>\n",
       "<table border=\"1\" class=\"dataframe\">\n",
       "  <thead>\n",
       "    <tr style=\"text-align: right;\">\n",
       "      <th></th>\n",
       "      <th>forename</th>\n",
       "      <th>surname</th>\n",
       "      <th>wins</th>\n",
       "    </tr>\n",
       "  </thead>\n",
       "  <tbody>\n",
       "    <tr>\n",
       "      <th>0</th>\n",
       "      <td>Lewis</td>\n",
       "      <td>Hamilton</td>\n",
       "      <td>104</td>\n",
       "    </tr>\n",
       "    <tr>\n",
       "      <th>1</th>\n",
       "      <td>Michael</td>\n",
       "      <td>Schumacher</td>\n",
       "      <td>91</td>\n",
       "    </tr>\n",
       "    <tr>\n",
       "      <th>2</th>\n",
       "      <td>Max</td>\n",
       "      <td>Verstappen</td>\n",
       "      <td>61</td>\n",
       "    </tr>\n",
       "    <tr>\n",
       "      <th>3</th>\n",
       "      <td>Sebastian</td>\n",
       "      <td>Vettel</td>\n",
       "      <td>53</td>\n",
       "    </tr>\n",
       "    <tr>\n",
       "      <th>4</th>\n",
       "      <td>Alain</td>\n",
       "      <td>Prost</td>\n",
       "      <td>51</td>\n",
       "    </tr>\n",
       "    <tr>\n",
       "      <th>...</th>\n",
       "      <td>...</td>\n",
       "      <td>...</td>\n",
       "      <td>...</td>\n",
       "    </tr>\n",
       "    <tr>\n",
       "      <th>109</th>\n",
       "      <td>Jean</td>\n",
       "      <td>Alesi</td>\n",
       "      <td>1</td>\n",
       "    </tr>\n",
       "    <tr>\n",
       "      <th>110</th>\n",
       "      <td>Olivier</td>\n",
       "      <td>Panis</td>\n",
       "      <td>1</td>\n",
       "    </tr>\n",
       "    <tr>\n",
       "      <th>111</th>\n",
       "      <td>Jarno</td>\n",
       "      <td>Trulli</td>\n",
       "      <td>1</td>\n",
       "    </tr>\n",
       "    <tr>\n",
       "      <th>112</th>\n",
       "      <td>Robert</td>\n",
       "      <td>Kubica</td>\n",
       "      <td>1</td>\n",
       "    </tr>\n",
       "    <tr>\n",
       "      <th>113</th>\n",
       "      <td>Heikki</td>\n",
       "      <td>Kovalainen</td>\n",
       "      <td>1</td>\n",
       "    </tr>\n",
       "  </tbody>\n",
       "</table>\n",
       "<p>114 rows × 3 columns</p>\n",
       "</div>"
      ],
      "text/plain": [
       "      forename     surname  wins\n",
       "0        Lewis    Hamilton   104\n",
       "1      Michael  Schumacher    91\n",
       "2          Max  Verstappen    61\n",
       "3    Sebastian      Vettel    53\n",
       "4        Alain       Prost    51\n",
       "..         ...         ...   ...\n",
       "109       Jean       Alesi     1\n",
       "110    Olivier       Panis     1\n",
       "111      Jarno      Trulli     1\n",
       "112     Robert      Kubica     1\n",
       "113     Heikki  Kovalainen     1\n",
       "\n",
       "[114 rows x 3 columns]"
      ]
     },
     "execution_count": 67,
     "metadata": {},
     "output_type": "execute_result"
    }
   ],
   "source": [
    "#driver performance \n",
    "query = \"\"\"\n",
    "        SELECT drivers.forename, drivers.surname, COUNT(results.position) AS wins\n",
    "        FROM drivers\n",
    "        JOIN results ON drivers.driverId = results.driverId\n",
    "        WHERE results.position = 1\n",
    "        GROUP BY drivers.driverId\n",
    "        ORDER BY wins DESC\n",
    "        \"\"\"\n",
    "driver_performance = pd.read_sql(query, engine)\n",
    "driver_performance"
   ]
  },
  {
   "cell_type": "code",
   "execution_count": 103,
   "metadata": {},
   "outputs": [],
   "source": [
    "driver_performance['Full Name'] = driver_performance['forename']+\" \"+driver_performance['surname']"
   ]
  },
  {
   "cell_type": "code",
   "execution_count": 115,
   "metadata": {},
   "outputs": [],
   "source": [
    "# to drop unnecessary columns\n",
    "# driver_performance.drop(columns= [['forename', 'surname']], axis =1, inplace= True)"
   ]
  },
  {
   "cell_type": "code",
   "execution_count": 116,
   "metadata": {},
   "outputs": [
    {
     "data": {
      "text/html": [
       "<div>\n",
       "<style scoped>\n",
       "    .dataframe tbody tr th:only-of-type {\n",
       "        vertical-align: middle;\n",
       "    }\n",
       "\n",
       "    .dataframe tbody tr th {\n",
       "        vertical-align: top;\n",
       "    }\n",
       "\n",
       "    .dataframe thead th {\n",
       "        text-align: right;\n",
       "    }\n",
       "</style>\n",
       "<table border=\"1\" class=\"dataframe\">\n",
       "  <thead>\n",
       "    <tr style=\"text-align: right;\">\n",
       "      <th></th>\n",
       "      <th>Full Name</th>\n",
       "      <th>wins</th>\n",
       "    </tr>\n",
       "  </thead>\n",
       "  <tbody>\n",
       "    <tr>\n",
       "      <th>0</th>\n",
       "      <td>Lewis Hamilton</td>\n",
       "      <td>104</td>\n",
       "    </tr>\n",
       "    <tr>\n",
       "      <th>1</th>\n",
       "      <td>Michael Schumacher</td>\n",
       "      <td>91</td>\n",
       "    </tr>\n",
       "    <tr>\n",
       "      <th>2</th>\n",
       "      <td>Max Verstappen</td>\n",
       "      <td>61</td>\n",
       "    </tr>\n",
       "    <tr>\n",
       "      <th>3</th>\n",
       "      <td>Sebastian Vettel</td>\n",
       "      <td>53</td>\n",
       "    </tr>\n",
       "    <tr>\n",
       "      <th>4</th>\n",
       "      <td>Alain Prost</td>\n",
       "      <td>51</td>\n",
       "    </tr>\n",
       "  </tbody>\n",
       "</table>\n",
       "</div>"
      ],
      "text/plain": [
       "            Full Name  wins\n",
       "0      Lewis Hamilton   104\n",
       "1  Michael Schumacher    91\n",
       "2      Max Verstappen    61\n",
       "3    Sebastian Vettel    53\n",
       "4         Alain Prost    51"
      ]
     },
     "execution_count": 116,
     "metadata": {},
     "output_type": "execute_result"
    }
   ],
   "source": [
    "driver_performance.head()"
   ]
  },
  {
   "cell_type": "code",
   "execution_count": 139,
   "metadata": {},
   "outputs": [
    {
     "data": {
      "image/png": "[encoded data removed]",
      "text/plain": [
       "<Figure size 800x600 with 1 Axes>"
      ]
     },
     "metadata": {},
     "output_type": "display_data"
    }
   ],
   "source": [
    "plt.figure(figsize= (8,6))\n",
    "ax = sns.barplot(data= driver_performance.head(10), x= 'Full Name',y= 'wins', hue= 'Full Name')\n",
    "plt.title('Top 10 Drivers in Formual One')\n",
    "plt.ylabel('total wins')\n",
    "plt.xlabel('Drivers')\n",
    "plt.xticks(rotation = -45, ha= 'left',va= 'top')\n",
    "for p in ax.patches:\n",
    "    ax.annotate(f'{p.get_height(): .0f}',\n",
    "                (p.get_x() + p.get_width() / 2., p.get_height()), \n",
    "                ha='center', \n",
    "                va='bottom', \n",
    "                xytext=(0, 5),  # Offset to move text 5 points above the bar\n",
    "                textcoords='offset points')\n",
    "plt.show()"
   ]
  },
  {
   "cell_type": "markdown",
   "metadata": {},
   "source": [
    "#### **Constructor Performance**"
   ]
  },
  {
   "cell_type": "code",
   "execution_count": 151,
   "metadata": {},
   "outputs": [
    {
     "data": {
      "text/html": [
       "<div>\n",
       "<style scoped>\n",
       "    .dataframe tbody tr th:only-of-type {\n",
       "        vertical-align: middle;\n",
       "    }\n",
       "\n",
       "    .dataframe tbody tr th {\n",
       "        vertical-align: top;\n",
       "    }\n",
       "\n",
       "    .dataframe thead th {\n",
       "        text-align: right;\n",
       "    }\n",
       "</style>\n",
       "<table border=\"1\" class=\"dataframe\">\n",
       "  <thead>\n",
       "    <tr style=\"text-align: right;\">\n",
       "      <th></th>\n",
       "      <th>name</th>\n",
       "      <th>wins</th>\n",
       "    </tr>\n",
       "  </thead>\n",
       "  <tbody>\n",
       "    <tr>\n",
       "      <th>0</th>\n",
       "      <td>Ferrari</td>\n",
       "      <td>234</td>\n",
       "    </tr>\n",
       "    <tr>\n",
       "      <th>1</th>\n",
       "      <td>McLaren</td>\n",
       "      <td>165</td>\n",
       "    </tr>\n",
       "    <tr>\n",
       "      <th>2</th>\n",
       "      <td>Mercedes</td>\n",
       "      <td>145</td>\n",
       "    </tr>\n",
       "    <tr>\n",
       "      <th>3</th>\n",
       "      <td>Red Bull</td>\n",
       "      <td>120</td>\n",
       "    </tr>\n",
       "    <tr>\n",
       "      <th>4</th>\n",
       "      <td>Williams</td>\n",
       "      <td>114</td>\n",
       "    </tr>\n",
       "    <tr>\n",
       "      <th>5</th>\n",
       "      <td>Renault</td>\n",
       "      <td>46</td>\n",
       "    </tr>\n",
       "    <tr>\n",
       "      <th>6</th>\n",
       "      <td>Team Lotus</td>\n",
       "      <td>44</td>\n",
       "    </tr>\n",
       "    <tr>\n",
       "      <th>7</th>\n",
       "      <td>Benetton</td>\n",
       "      <td>29</td>\n",
       "    </tr>\n",
       "    <tr>\n",
       "      <th>8</th>\n",
       "      <td>Lotus-Climax</td>\n",
       "      <td>23</td>\n",
       "    </tr>\n",
       "    <tr>\n",
       "      <th>9</th>\n",
       "      <td>Cooper-Climax</td>\n",
       "      <td>20</td>\n",
       "    </tr>\n",
       "    <tr>\n",
       "      <th>10</th>\n",
       "      <td>Brawn</td>\n",
       "      <td>17</td>\n",
       "    </tr>\n",
       "    <tr>\n",
       "      <th>11</th>\n",
       "      <td>Brabham-Repco</td>\n",
       "      <td>16</td>\n",
       "    </tr>\n",
       "    <tr>\n",
       "      <th>12</th>\n",
       "      <td>Tyrrell</td>\n",
       "      <td>16</td>\n",
       "    </tr>\n",
       "    <tr>\n",
       "      <th>13</th>\n",
       "      <td>BRM</td>\n",
       "      <td>14</td>\n",
       "    </tr>\n",
       "    <tr>\n",
       "      <th>14</th>\n",
       "      <td>Lotus-Ford</td>\n",
       "      <td>12</td>\n",
       "    </tr>\n",
       "    <tr>\n",
       "      <th>15</th>\n",
       "      <td>Matra-Ford</td>\n",
       "      <td>11</td>\n",
       "    </tr>\n",
       "    <tr>\n",
       "      <th>16</th>\n",
       "      <td>Brabham</td>\n",
       "      <td>6</td>\n",
       "    </tr>\n",
       "    <tr>\n",
       "      <th>17</th>\n",
       "      <td>Cooper</td>\n",
       "      <td>4</td>\n",
       "    </tr>\n",
       "    <tr>\n",
       "      <th>18</th>\n",
       "      <td>Ligier</td>\n",
       "      <td>4</td>\n",
       "    </tr>\n",
       "    <tr>\n",
       "      <th>19</th>\n",
       "      <td>Vanwall</td>\n",
       "      <td>3</td>\n",
       "    </tr>\n",
       "    <tr>\n",
       "      <th>20</th>\n",
       "      <td>March</td>\n",
       "      <td>3</td>\n",
       "    </tr>\n",
       "    <tr>\n",
       "      <th>21</th>\n",
       "      <td>Cooper-Maserati</td>\n",
       "      <td>1</td>\n",
       "    </tr>\n",
       "    <tr>\n",
       "      <th>22</th>\n",
       "      <td>Wolf</td>\n",
       "      <td>1</td>\n",
       "    </tr>\n",
       "    <tr>\n",
       "      <th>23</th>\n",
       "      <td>BMW Sauber</td>\n",
       "      <td>1</td>\n",
       "    </tr>\n",
       "  </tbody>\n",
       "</table>\n",
       "</div>"
      ],
      "text/plain": [
       "               name  wins\n",
       "0           Ferrari   234\n",
       "1           McLaren   165\n",
       "2          Mercedes   145\n",
       "3          Red Bull   120\n",
       "4          Williams   114\n",
       "5           Renault    46\n",
       "6        Team Lotus    44\n",
       "7          Benetton    29\n",
       "8      Lotus-Climax    23\n",
       "9     Cooper-Climax    20\n",
       "10            Brawn    17\n",
       "11    Brabham-Repco    16\n",
       "12          Tyrrell    16\n",
       "13              BRM    14\n",
       "14       Lotus-Ford    12\n",
       "15       Matra-Ford    11\n",
       "16          Brabham     6\n",
       "17           Cooper     4\n",
       "18           Ligier     4\n",
       "19          Vanwall     3\n",
       "20            March     3\n",
       "21  Cooper-Maserati     1\n",
       "22             Wolf     1\n",
       "23       BMW Sauber     1"
      ]
     },
     "execution_count": 151,
     "metadata": {},
     "output_type": "execute_result"
    }
   ],
   "source": [
    "query = \"\"\"\n",
    "        SELECT constructors.name, COUNT(constructor_standings.position) as wins \n",
    "        FROM constructors\n",
    "        JOIN constructor_standings ON constructors.constructorId = constructor_standings.constructorId\n",
    "        JOIN races ON races.raceId = constructor_standings.raceId\n",
    "        WHERE (constructor_standings.position) = 1\n",
    "        GROUP BY constructors.constructorId\n",
    "        ORDER BY wins DESC\n",
    "\"\"\"\n",
    "constructor_performance = pd.read_sql(query, engine)\n",
    "constructor_performance"
   ]
  },
  {
   "cell_type": "code",
   "execution_count": 152,
   "metadata": {},
   "outputs": [],
   "source": [
    "query= \"\"\"\n",
    "        SELECT constructors.name, races.year, COUNT(results.position) AS wins\n",
    "FROM results\n",
    "JOIN constructors ON results.constructorId = constructors.constructorId\n",
    "JOIN races ON results.raceId = races.raceId\n",
    "WHERE results.position = 1\n",
    "GROUP BY constructors.constructorId, races.year\n",
    "ORDER BY wins DESC;\n",
    "        \"\"\"\n",
    "const = pd.read_sql(query, engine)"
   ]
  },
  {
   "cell_type": "code",
   "execution_count": 153,
   "metadata": {},
   "outputs": [
    {
     "data": {
      "text/html": [
       "<div>\n",
       "<style scoped>\n",
       "    .dataframe tbody tr th:only-of-type {\n",
       "        vertical-align: middle;\n",
       "    }\n",
       "\n",
       "    .dataframe tbody tr th {\n",
       "        vertical-align: top;\n",
       "    }\n",
       "\n",
       "    .dataframe thead th {\n",
       "        text-align: right;\n",
       "    }\n",
       "</style>\n",
       "<table border=\"1\" class=\"dataframe\">\n",
       "  <thead>\n",
       "    <tr style=\"text-align: right;\">\n",
       "      <th></th>\n",
       "      <th>name</th>\n",
       "      <th>year</th>\n",
       "      <th>wins</th>\n",
       "    </tr>\n",
       "  </thead>\n",
       "  <tbody>\n",
       "    <tr>\n",
       "      <th>0</th>\n",
       "      <td>Red Bull</td>\n",
       "      <td>2023</td>\n",
       "      <td>21</td>\n",
       "    </tr>\n",
       "    <tr>\n",
       "      <th>1</th>\n",
       "      <td>Mercedes</td>\n",
       "      <td>2016</td>\n",
       "      <td>19</td>\n",
       "    </tr>\n",
       "    <tr>\n",
       "      <th>2</th>\n",
       "      <td>Red Bull</td>\n",
       "      <td>2022</td>\n",
       "      <td>17</td>\n",
       "    </tr>\n",
       "    <tr>\n",
       "      <th>3</th>\n",
       "      <td>Mercedes</td>\n",
       "      <td>2014</td>\n",
       "      <td>16</td>\n",
       "    </tr>\n",
       "    <tr>\n",
       "      <th>4</th>\n",
       "      <td>Mercedes</td>\n",
       "      <td>2015</td>\n",
       "      <td>16</td>\n",
       "    </tr>\n",
       "    <tr>\n",
       "      <th>...</th>\n",
       "      <td>...</td>\n",
       "      <td>...</td>\n",
       "      <td>...</td>\n",
       "    </tr>\n",
       "    <tr>\n",
       "      <th>272</th>\n",
       "      <td>Lotus F1</td>\n",
       "      <td>2012</td>\n",
       "      <td>1</td>\n",
       "    </tr>\n",
       "    <tr>\n",
       "      <th>273</th>\n",
       "      <td>Lotus F1</td>\n",
       "      <td>2013</td>\n",
       "      <td>1</td>\n",
       "    </tr>\n",
       "    <tr>\n",
       "      <th>274</th>\n",
       "      <td>Racing Point</td>\n",
       "      <td>2020</td>\n",
       "      <td>1</td>\n",
       "    </tr>\n",
       "    <tr>\n",
       "      <th>275</th>\n",
       "      <td>AlphaTauri</td>\n",
       "      <td>2020</td>\n",
       "      <td>1</td>\n",
       "    </tr>\n",
       "    <tr>\n",
       "      <th>276</th>\n",
       "      <td>Alpine F1 Team</td>\n",
       "      <td>2021</td>\n",
       "      <td>1</td>\n",
       "    </tr>\n",
       "  </tbody>\n",
       "</table>\n",
       "<p>277 rows × 3 columns</p>\n",
       "</div>"
      ],
      "text/plain": [
       "               name  year  wins\n",
       "0          Red Bull  2023    21\n",
       "1          Mercedes  2016    19\n",
       "2          Red Bull  2022    17\n",
       "3          Mercedes  2014    16\n",
       "4          Mercedes  2015    16\n",
       "..              ...   ...   ...\n",
       "272        Lotus F1  2012     1\n",
       "273        Lotus F1  2013     1\n",
       "274    Racing Point  2020     1\n",
       "275      AlphaTauri  2020     1\n",
       "276  Alpine F1 Team  2021     1\n",
       "\n",
       "[277 rows x 3 columns]"
      ]
     },
     "execution_count": 153,
     "metadata": {},
     "output_type": "execute_result"
    }
   ],
   "source": [
    "const"
   ]
  },
  {
   "cell_type": "code",
   "execution_count": 158,
   "metadata": {},
   "outputs": [
    {
     "name": "stdout",
     "output_type": "stream",
     "text": [
      "Constructor standings points stats:\n",
      " count    12505.000000\n",
      "mean         3.986166\n",
      "std          7.759519\n",
      "min          0.000000\n",
      "25%          0.000000\n",
      "50%          0.000000\n",
      "75%          4.000000\n",
      "max         66.000000\n",
      "Name: points, dtype: float64\n",
      "Results points stats:\n",
      " count    26519.000000\n",
      "mean         1.959578\n",
      "std          4.306475\n",
      "min          0.000000\n",
      "25%          0.000000\n",
      "50%          0.000000\n",
      "75%          2.000000\n",
      "max         50.000000\n",
      "Name: points, dtype: float64\n"
     ]
    }
   ],
   "source": [
    "print(\"Constructor standings points stats:\\n\", constructor_results['points'].describe())\n",
    "print(\"Results points stats:\\n\", results['points'].describe())"
   ]
  }
 ],
 "metadata": {
  "kernelspec": {
   "display_name": "Python 3",
   "language": "python",
   "name": "python3"
  },
  "language_info": {
   "codemirror_mode": {
    "name": "ipython",
    "version": 3
   },
   "file_extension": ".py",
   "mimetype": "text/x-python",
   "name": "python",
   "nbconvert_exporter": "python",
   "pygments_lexer": "ipython3",
   "version": "3.12.4"
  }
 },
 "nbformat": 4,
 "nbformat_minor": 2
}

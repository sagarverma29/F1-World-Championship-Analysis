{
 "cells": [
  {
   "cell_type": "markdown",
   "metadata": {},
   "source": [
    "# **Formula 1 Data Analysis (1950-2024)**"
   ]
  },
  {
   "cell_type": "markdown",
   "metadata": {},
   "source": [
    "### **INTRODUCTION**\n",
    "- **Project Overview:** The Formula 1 Data Analysis (1950-2024) project explores historical performance data from Formula 1 racing to identify trends in driver and team performance, race outcomes, and the impact of different circuits. Using dataset from Kaggle, including race results, driver standings, lap times, and circuit data, this project aims to uncover insights into the evolution of Formula 1. The analysis is conducted with Python for data processing, SQL for querying, and a Power BI dashboard for visualizations.\n",
    "\n",
    "- **Context and Relevance:** Formula 1 is a dynamic sport where performance is influenced by multiple factors, such as driver skill, team strategies, and technological advancements. This project helps analyze:\n",
    "    - Driver and Team Performance: How drivers and teams have evolved over time.\n",
    "    - Driver and Constructor Analysis: A deeper look at how individual driver performances and constructor results have changed over the years, identifying patterns of dominance and rivalry.\n",
    "    - Circuit Characteristics: How different types of circuits (e.g., street vs. traditional) influence race strategies and outcomes.\n"
   ]
  },
  {
   "cell_type": "markdown",
   "metadata": {},
   "source": [
    "### **Data Collection and Sources**\n",
    "- **kaggle Dataset:** This project uses a comprehensive [Formula 1 dataset](https://www.kaggle.com/datasets/rohanrao/formula-1-world-championship-1950-2020/data) from Kaggle, which includes multiple CSV files such as:\n",
    "\n",
    "    - Circuits: Information about different race circuits (e.g., names, locations, and lengths).\n",
    "    - Driver Standings: Historical data on driver rankings by season and race.\n",
    "    - Constructor Results: Performance of constructors (teams) over the years.\n",
    "    - Lap Times: Detailed timing data for each driver in each race.\n",
    "    - Pit Stops: Information on pit stop timings and strategies during races.\n",
    "    - Races: Metadata about individual races, including locations, dates, and results.\n",
    "\n",
    "- **Data Availability:** The dataset spans from 1950 to 2024, covering over seven decades of Formula 1 history. This range enables analysis of long-term trends, including the evolution of teams, drivers, circuits, and race outcomes.\n",
    "\n",
    "- **Data Format and Importing:** The datasets are provided in CSV format. They were imported into Python using libraries like pandas for processing and exploration. Each dataset was subsequently uploaded into an SQLite database using SQLAlchemy and the to_sql() function, ensuring efficient data storage and enabling SQL-based querying for deeper insights.\n",
    "\n"
   ]
  },
  {
   "cell_type": "code",
   "execution_count": 1,
   "metadata": {},
   "outputs": [],
   "source": [
    "#Importing libarires required to perform cleaning operations and data visualization\n",
    "import numpy as np\n",
    "import pandas as pd\n",
    "import matplotlib.pyplot as plt\n",
    "import seaborn as sns\n",
    "import plotly.express as px\n",
    "import datetime as dt\n",
    "import sqlite3 "
   ]
  },
  {
   "cell_type": "code",
   "execution_count": 2,
   "metadata": {},
   "outputs": [],
   "source": [
    "#importing csv file to a dataframe\n",
    "circuits = pd.read_csv(r'dataset files\\circuits.csv')\n",
    "constructor_results = pd.read_csv(r'dataset files\\constructor_results.csv')\n",
    "constructor_standings = pd.read_csv(r'dataset files\\constructor_standings.csv')\n",
    "constructors = pd.read_csv(r'dataset files\\constructors.csv')\n",
    "driver_standings = pd.read_csv(r'dataset files\\driver_standings.csv')\n",
    "drivers = pd.read_csv(r'dataset files\\drivers.csv')\n",
    "lap_times = pd.read_csv(r'dataset files\\lap_times.csv')\n",
    "pit_stops = pd.read_csv(r'dataset files\\pit_stops.csv')\n",
    "qualifying = pd.read_csv(r'dataset files\\qualifying.csv')\n",
    "races = pd.read_csv(r'dataset files\\races.csv')\n",
    "results = pd.read_csv(r'dataset files\\results.csv')\n",
    "seasons = pd.read_csv(r'dataset files\\seasons.csv')\n",
    "sprint_results = pd.read_csv(r'dataset files\\sprint_results.csv')\n",
    "status = pd.read_csv(r'dataset files\\status.csv')"
   ]
  },
  {
   "cell_type": "markdown",
   "metadata": {},
   "source": [
    "### **Data Exploration and Preprocessing**\n",
    "\n",
    "- **Data Cleaning:** Addressed missing values, standardized data types (e.g., dates, times), and removed duplicates for consistency.\n",
    "\n",
    "- **Data Transformation:** Merged datasets to create comprehensive views, such as combining race results with driver standings and circuits.\n",
    "Added calculated fields like win percentages, average lap times, and points per season to enhance analysis.\n",
    "\n",
    "- **Database Integration:** Imported cleaned datasets into an SQLite database using SQLAlchemy and to_sql().\n",
    "Created tables for key datasets like drivers, constructors, circuits, and races. Relationships between datasets were managed through SQL joins during queries."
   ]
  },
  {
   "cell_type": "code",
   "execution_count": 3,
   "metadata": {},
   "outputs": [],
   "source": [
    "#dropping unnecessary columns from the dataframes\n",
    "circuits.drop('url', axis=1, inplace= True)\n",
    "constructors.drop('url', axis=1, inplace= True)\n",
    "drivers.drop('url', axis=1, inplace= True)\n",
    "seasons.drop('url', axis=1, inplace= True)\n",
    "constructor_results.drop('status', axis=1, inplace=True)\n",
    "constructor_standings.drop('positionText', axis=1, inplace= True)\n",
    "races.drop(columns= ['url','fp1_date','fp1_time','fp2_date','fp2_time','fp3_date',\\\n",
    "                     'fp3_time','quali_date','quali_time','sprint_date','sprint_time'], axis=1, inplace=True)"
   ]
  },
  {
   "cell_type": "code",
   "execution_count": 4,
   "metadata": {},
   "outputs": [],
   "source": [
    "#filling NA values for q2 and q3 NULL values\n",
    "qualifying['q2'] = qualifying['q2'].fillna('NA')\n",
    "qualifying['q3'] = qualifying['q3'].fillna('NA')"
   ]
  },
  {
   "cell_type": "code",
   "execution_count": 5,
   "metadata": {},
   "outputs": [],
   "source": [
    "#fucntion to convert time (in format min:sec:msec) to milliseconds\n",
    "def time_to_milliseconds(time_str):\n",
    "    # Handle invalid or missing values\n",
    "    if time_str == '\\\\N' or not time_str:\n",
    "        return None  # or return 0 depending on how you want to handle missing data\n",
    "\n",
    "    # Split the time string by ':'\n",
    "    time_parts = time_str.split(':')\n",
    "\n",
    "    # Handle cases where there are 2 parts (minutes and seconds) or 1 part (seconds only)\n",
    "    if len(time_parts) == 2:\n",
    "        minutes, seconds = time_parts\n",
    "        milliseconds = 0\n",
    "    elif len(time_parts) == 1:\n",
    "        minutes = 0\n",
    "        seconds = time_parts[0]\n",
    "        milliseconds = 0\n",
    "    else:\n",
    "        minutes, seconds, milliseconds = time_parts\n",
    "    \n",
    "    # If seconds have a decimal, split seconds into whole and fractional parts\n",
    "    if '.' in seconds:\n",
    "        seconds, milliseconds = seconds.split('.')\n",
    "        milliseconds = milliseconds.ljust(3, '0')  # Ensure milliseconds are 3 digits\n",
    "    \n",
    "    # Convert everything to integer values\n",
    "    try:\n",
    "        minutes = int(minutes)\n",
    "        seconds = int(seconds)\n",
    "        milliseconds = int(milliseconds)\n",
    "    except ValueError:\n",
    "        return None  # In case the value cannot be converted to an integer, return None or handle the error\n",
    "\n",
    "    # Convert the time to milliseconds\n",
    "    return (minutes * 60 * 1000) + (seconds * 1000) + milliseconds\n",
    "results['fastestLap_time_ms'] = results['fastestLapTime'].apply(time_to_milliseconds)"
   ]
  },
  {
   "cell_type": "code",
   "execution_count": 6,
   "metadata": {},
   "outputs": [],
   "source": [
    "l = ['number', 'fastestLapSpeed', 'milliseconds', 'rank', 'fastestLap_time_ms']\n",
    "for i in l:\n",
    "    results[i] = pd.to_numeric(results[i], errors= 'coerce')"
   ]
  },
  {
   "cell_type": "code",
   "execution_count": 7,
   "metadata": {},
   "outputs": [],
   "source": [
    "#Handling missing values\n",
    "results['fastestLapSpeed'] = results['fastestLapSpeed'].replace('\\\\N',results['fastestLapSpeed'].mean())\n",
    "results['fastestLap_time_ms'] = results['fastestLap_time_ms'].replace('\\\\N', results['fastestLap_time_ms'].mean())"
   ]
  },
  {
   "cell_type": "code",
   "execution_count": 8,
   "metadata": {},
   "outputs": [],
   "source": [
    "fastestLapSpeed_mean = results['fastestLapSpeed'].mean()\n",
    "fastestlaptime_mean = results['fastestLap_time_ms'].mean()"
   ]
  },
  {
   "cell_type": "code",
   "execution_count": 9,
   "metadata": {},
   "outputs": [],
   "source": [
    "results['fastestLapSpeed'] = results['fastestLapSpeed'].fillna(fastestLapSpeed_mean)\n",
    "results['fastestLap_time_ms'] = results['fastestLap_time_ms'].fillna(fastestlaptime_mean)"
   ]
  },
  {
   "cell_type": "code",
   "execution_count": 10,
   "metadata": {},
   "outputs": [],
   "source": [
    "results.rename(columns= {'milliseconds':'Lap_time_ms'}, inplace= True)"
   ]
  },
  {
   "cell_type": "code",
   "execution_count": 11,
   "metadata": {},
   "outputs": [],
   "source": [
    "#changing datatype for dob column in drivers and date column in races\n",
    "drivers['dob']= pd.to_datetime(drivers['dob'])\n",
    "races['date'] = pd.to_datetime(races['date'])"
   ]
  },
  {
   "cell_type": "code",
   "execution_count": 12,
   "metadata": {},
   "outputs": [],
   "source": [
    "#Concatenating forname and surname column from drivers DF\n",
    "drivers['Name'] = drivers['forename'] +\" \"+ drivers['surname']"
   ]
  },
  {
   "cell_type": "code",
   "execution_count": 13,
   "metadata": {},
   "outputs": [],
   "source": [
    "#Dropping the forename and surname column\n",
    "drivers.drop(columns= ['forename', 'surname'], axis=1, inplace= True)"
   ]
  },
  {
   "cell_type": "code",
   "execution_count": 14,
   "metadata": {},
   "outputs": [],
   "source": [
    "#Handling NULL values for fastetsLapTime column\n",
    "results = results[results['fastestLapTime'].notnull()]\n",
    "results['fastestLapTime'] = results['fastestLapTime'].fillna(0)"
   ]
  },
  {
   "cell_type": "code",
   "execution_count": 15,
   "metadata": {},
   "outputs": [
    {
     "data": {
      "text/plain": [
       "resultId                int64\n",
       "raceId                  int64\n",
       "driverId                int64\n",
       "constructorId           int64\n",
       "number                float64\n",
       "grid                    int64\n",
       "position               object\n",
       "positionText           object\n",
       "positionOrder           int64\n",
       "points                float64\n",
       "laps                    int64\n",
       "time                   object\n",
       "Lap_time_ms           float64\n",
       "fastestLap             object\n",
       "rank                  float64\n",
       "fastestLapTime         object\n",
       "fastestLapSpeed       float64\n",
       "statusId                int64\n",
       "fastestLap_time_ms    float64\n",
       "dtype: object"
      ]
     },
     "execution_count": 15,
     "metadata": {},
     "output_type": "execute_result"
    }
   ],
   "source": [
    "results.dtypes"
   ]
  },
  {
   "cell_type": "code",
   "execution_count": 16,
   "metadata": {},
   "outputs": [
    {
     "data": {
      "text/html": [
       "<div>\n",
       "<style scoped>\n",
       "    .dataframe tbody tr th:only-of-type {\n",
       "        vertical-align: middle;\n",
       "    }\n",
       "\n",
       "    .dataframe tbody tr th {\n",
       "        vertical-align: top;\n",
       "    }\n",
       "\n",
       "    .dataframe thead th {\n",
       "        text-align: right;\n",
       "    }\n",
       "</style>\n",
       "<table border=\"1\" class=\"dataframe\">\n",
       "  <thead>\n",
       "    <tr style=\"text-align: right;\">\n",
       "      <th></th>\n",
       "      <th>circuitId</th>\n",
       "      <th>circuitRef</th>\n",
       "      <th>name</th>\n",
       "      <th>location</th>\n",
       "      <th>country</th>\n",
       "      <th>lat</th>\n",
       "      <th>lng</th>\n",
       "      <th>alt</th>\n",
       "    </tr>\n",
       "  </thead>\n",
       "  <tbody>\n",
       "    <tr>\n",
       "      <th>0</th>\n",
       "      <td>1</td>\n",
       "      <td>albert_park</td>\n",
       "      <td>Albert Park Grand Prix Circuit</td>\n",
       "      <td>Melbourne</td>\n",
       "      <td>Australia</td>\n",
       "      <td>-37.84970</td>\n",
       "      <td>144.96800</td>\n",
       "      <td>10</td>\n",
       "    </tr>\n",
       "    <tr>\n",
       "      <th>1</th>\n",
       "      <td>2</td>\n",
       "      <td>sepang</td>\n",
       "      <td>Sepang International Circuit</td>\n",
       "      <td>Kuala Lumpur</td>\n",
       "      <td>Malaysia</td>\n",
       "      <td>2.76083</td>\n",
       "      <td>101.73800</td>\n",
       "      <td>18</td>\n",
       "    </tr>\n",
       "    <tr>\n",
       "      <th>2</th>\n",
       "      <td>3</td>\n",
       "      <td>bahrain</td>\n",
       "      <td>Bahrain International Circuit</td>\n",
       "      <td>Sakhir</td>\n",
       "      <td>Bahrain</td>\n",
       "      <td>26.03250</td>\n",
       "      <td>50.51060</td>\n",
       "      <td>7</td>\n",
       "    </tr>\n",
       "    <tr>\n",
       "      <th>3</th>\n",
       "      <td>4</td>\n",
       "      <td>catalunya</td>\n",
       "      <td>Circuit de Barcelona-Catalunya</td>\n",
       "      <td>Montmeló</td>\n",
       "      <td>Spain</td>\n",
       "      <td>41.57000</td>\n",
       "      <td>2.26111</td>\n",
       "      <td>109</td>\n",
       "    </tr>\n",
       "    <tr>\n",
       "      <th>4</th>\n",
       "      <td>5</td>\n",
       "      <td>istanbul</td>\n",
       "      <td>Istanbul Park</td>\n",
       "      <td>Istanbul</td>\n",
       "      <td>Turkey</td>\n",
       "      <td>40.95170</td>\n",
       "      <td>29.40500</td>\n",
       "      <td>130</td>\n",
       "    </tr>\n",
       "  </tbody>\n",
       "</table>\n",
       "</div>"
      ],
      "text/plain": [
       "   circuitId   circuitRef                            name      location  \\\n",
       "0          1  albert_park  Albert Park Grand Prix Circuit     Melbourne   \n",
       "1          2       sepang    Sepang International Circuit  Kuala Lumpur   \n",
       "2          3      bahrain   Bahrain International Circuit        Sakhir   \n",
       "3          4    catalunya  Circuit de Barcelona-Catalunya      Montmeló   \n",
       "4          5     istanbul                   Istanbul Park      Istanbul   \n",
       "\n",
       "     country       lat        lng  alt  \n",
       "0  Australia -37.84970  144.96800   10  \n",
       "1   Malaysia   2.76083  101.73800   18  \n",
       "2    Bahrain  26.03250   50.51060    7  \n",
       "3      Spain  41.57000    2.26111  109  \n",
       "4     Turkey  40.95170   29.40500  130  "
      ]
     },
     "metadata": {},
     "output_type": "display_data"
    },
    {
     "data": {
      "text/html": [
       "<div>\n",
       "<style scoped>\n",
       "    .dataframe tbody tr th:only-of-type {\n",
       "        vertical-align: middle;\n",
       "    }\n",
       "\n",
       "    .dataframe tbody tr th {\n",
       "        vertical-align: top;\n",
       "    }\n",
       "\n",
       "    .dataframe thead th {\n",
       "        text-align: right;\n",
       "    }\n",
       "</style>\n",
       "<table border=\"1\" class=\"dataframe\">\n",
       "  <thead>\n",
       "    <tr style=\"text-align: right;\">\n",
       "      <th></th>\n",
       "      <th>constructorResultsId</th>\n",
       "      <th>raceId</th>\n",
       "      <th>constructorId</th>\n",
       "      <th>points</th>\n",
       "    </tr>\n",
       "  </thead>\n",
       "  <tbody>\n",
       "    <tr>\n",
       "      <th>0</th>\n",
       "      <td>1</td>\n",
       "      <td>18</td>\n",
       "      <td>1</td>\n",
       "      <td>14.0</td>\n",
       "    </tr>\n",
       "    <tr>\n",
       "      <th>1</th>\n",
       "      <td>2</td>\n",
       "      <td>18</td>\n",
       "      <td>2</td>\n",
       "      <td>8.0</td>\n",
       "    </tr>\n",
       "    <tr>\n",
       "      <th>2</th>\n",
       "      <td>3</td>\n",
       "      <td>18</td>\n",
       "      <td>3</td>\n",
       "      <td>9.0</td>\n",
       "    </tr>\n",
       "    <tr>\n",
       "      <th>3</th>\n",
       "      <td>4</td>\n",
       "      <td>18</td>\n",
       "      <td>4</td>\n",
       "      <td>5.0</td>\n",
       "    </tr>\n",
       "    <tr>\n",
       "      <th>4</th>\n",
       "      <td>5</td>\n",
       "      <td>18</td>\n",
       "      <td>5</td>\n",
       "      <td>2.0</td>\n",
       "    </tr>\n",
       "  </tbody>\n",
       "</table>\n",
       "</div>"
      ],
      "text/plain": [
       "   constructorResultsId  raceId  constructorId  points\n",
       "0                     1      18              1    14.0\n",
       "1                     2      18              2     8.0\n",
       "2                     3      18              3     9.0\n",
       "3                     4      18              4     5.0\n",
       "4                     5      18              5     2.0"
      ]
     },
     "metadata": {},
     "output_type": "display_data"
    },
    {
     "data": {
      "text/html": [
       "<div>\n",
       "<style scoped>\n",
       "    .dataframe tbody tr th:only-of-type {\n",
       "        vertical-align: middle;\n",
       "    }\n",
       "\n",
       "    .dataframe tbody tr th {\n",
       "        vertical-align: top;\n",
       "    }\n",
       "\n",
       "    .dataframe thead th {\n",
       "        text-align: right;\n",
       "    }\n",
       "</style>\n",
       "<table border=\"1\" class=\"dataframe\">\n",
       "  <thead>\n",
       "    <tr style=\"text-align: right;\">\n",
       "      <th></th>\n",
       "      <th>constructorStandingsId</th>\n",
       "      <th>raceId</th>\n",
       "      <th>constructorId</th>\n",
       "      <th>points</th>\n",
       "      <th>position</th>\n",
       "      <th>wins</th>\n",
       "    </tr>\n",
       "  </thead>\n",
       "  <tbody>\n",
       "    <tr>\n",
       "      <th>0</th>\n",
       "      <td>1</td>\n",
       "      <td>18</td>\n",
       "      <td>1</td>\n",
       "      <td>14.0</td>\n",
       "      <td>1</td>\n",
       "      <td>1</td>\n",
       "    </tr>\n",
       "    <tr>\n",
       "      <th>1</th>\n",
       "      <td>2</td>\n",
       "      <td>18</td>\n",
       "      <td>2</td>\n",
       "      <td>8.0</td>\n",
       "      <td>3</td>\n",
       "      <td>0</td>\n",
       "    </tr>\n",
       "    <tr>\n",
       "      <th>2</th>\n",
       "      <td>3</td>\n",
       "      <td>18</td>\n",
       "      <td>3</td>\n",
       "      <td>9.0</td>\n",
       "      <td>2</td>\n",
       "      <td>0</td>\n",
       "    </tr>\n",
       "    <tr>\n",
       "      <th>3</th>\n",
       "      <td>4</td>\n",
       "      <td>18</td>\n",
       "      <td>4</td>\n",
       "      <td>5.0</td>\n",
       "      <td>4</td>\n",
       "      <td>0</td>\n",
       "    </tr>\n",
       "    <tr>\n",
       "      <th>4</th>\n",
       "      <td>5</td>\n",
       "      <td>18</td>\n",
       "      <td>5</td>\n",
       "      <td>2.0</td>\n",
       "      <td>5</td>\n",
       "      <td>0</td>\n",
       "    </tr>\n",
       "  </tbody>\n",
       "</table>\n",
       "</div>"
      ],
      "text/plain": [
       "   constructorStandingsId  raceId  constructorId  points  position  wins\n",
       "0                       1      18              1    14.0         1     1\n",
       "1                       2      18              2     8.0         3     0\n",
       "2                       3      18              3     9.0         2     0\n",
       "3                       4      18              4     5.0         4     0\n",
       "4                       5      18              5     2.0         5     0"
      ]
     },
     "metadata": {},
     "output_type": "display_data"
    },
    {
     "data": {
      "text/html": [
       "<div>\n",
       "<style scoped>\n",
       "    .dataframe tbody tr th:only-of-type {\n",
       "        vertical-align: middle;\n",
       "    }\n",
       "\n",
       "    .dataframe tbody tr th {\n",
       "        vertical-align: top;\n",
       "    }\n",
       "\n",
       "    .dataframe thead th {\n",
       "        text-align: right;\n",
       "    }\n",
       "</style>\n",
       "<table border=\"1\" class=\"dataframe\">\n",
       "  <thead>\n",
       "    <tr style=\"text-align: right;\">\n",
       "      <th></th>\n",
       "      <th>constructorId</th>\n",
       "      <th>constructorRef</th>\n",
       "      <th>name</th>\n",
       "      <th>nationality</th>\n",
       "    </tr>\n",
       "  </thead>\n",
       "  <tbody>\n",
       "    <tr>\n",
       "      <th>0</th>\n",
       "      <td>1</td>\n",
       "      <td>mclaren</td>\n",
       "      <td>McLaren</td>\n",
       "      <td>British</td>\n",
       "    </tr>\n",
       "    <tr>\n",
       "      <th>1</th>\n",
       "      <td>2</td>\n",
       "      <td>bmw_sauber</td>\n",
       "      <td>BMW Sauber</td>\n",
       "      <td>German</td>\n",
       "    </tr>\n",
       "    <tr>\n",
       "      <th>2</th>\n",
       "      <td>3</td>\n",
       "      <td>williams</td>\n",
       "      <td>Williams</td>\n",
       "      <td>British</td>\n",
       "    </tr>\n",
       "    <tr>\n",
       "      <th>3</th>\n",
       "      <td>4</td>\n",
       "      <td>renault</td>\n",
       "      <td>Renault</td>\n",
       "      <td>French</td>\n",
       "    </tr>\n",
       "    <tr>\n",
       "      <th>4</th>\n",
       "      <td>5</td>\n",
       "      <td>toro_rosso</td>\n",
       "      <td>Toro Rosso</td>\n",
       "      <td>Italian</td>\n",
       "    </tr>\n",
       "  </tbody>\n",
       "</table>\n",
       "</div>"
      ],
      "text/plain": [
       "   constructorId constructorRef        name nationality\n",
       "0              1        mclaren     McLaren     British\n",
       "1              2     bmw_sauber  BMW Sauber      German\n",
       "2              3       williams    Williams     British\n",
       "3              4        renault     Renault      French\n",
       "4              5     toro_rosso  Toro Rosso     Italian"
      ]
     },
     "metadata": {},
     "output_type": "display_data"
    },
    {
     "data": {
      "text/html": [
       "<div>\n",
       "<style scoped>\n",
       "    .dataframe tbody tr th:only-of-type {\n",
       "        vertical-align: middle;\n",
       "    }\n",
       "\n",
       "    .dataframe tbody tr th {\n",
       "        vertical-align: top;\n",
       "    }\n",
       "\n",
       "    .dataframe thead th {\n",
       "        text-align: right;\n",
       "    }\n",
       "</style>\n",
       "<table border=\"1\" class=\"dataframe\">\n",
       "  <thead>\n",
       "    <tr style=\"text-align: right;\">\n",
       "      <th></th>\n",
       "      <th>driverStandingsId</th>\n",
       "      <th>raceId</th>\n",
       "      <th>driverId</th>\n",
       "      <th>points</th>\n",
       "      <th>position</th>\n",
       "      <th>positionText</th>\n",
       "      <th>wins</th>\n",
       "    </tr>\n",
       "  </thead>\n",
       "  <tbody>\n",
       "    <tr>\n",
       "      <th>0</th>\n",
       "      <td>1</td>\n",
       "      <td>18</td>\n",
       "      <td>1</td>\n",
       "      <td>10.0</td>\n",
       "      <td>1</td>\n",
       "      <td>1</td>\n",
       "      <td>1</td>\n",
       "    </tr>\n",
       "    <tr>\n",
       "      <th>1</th>\n",
       "      <td>2</td>\n",
       "      <td>18</td>\n",
       "      <td>2</td>\n",
       "      <td>8.0</td>\n",
       "      <td>2</td>\n",
       "      <td>2</td>\n",
       "      <td>0</td>\n",
       "    </tr>\n",
       "    <tr>\n",
       "      <th>2</th>\n",
       "      <td>3</td>\n",
       "      <td>18</td>\n",
       "      <td>3</td>\n",
       "      <td>6.0</td>\n",
       "      <td>3</td>\n",
       "      <td>3</td>\n",
       "      <td>0</td>\n",
       "    </tr>\n",
       "    <tr>\n",
       "      <th>3</th>\n",
       "      <td>4</td>\n",
       "      <td>18</td>\n",
       "      <td>4</td>\n",
       "      <td>5.0</td>\n",
       "      <td>4</td>\n",
       "      <td>4</td>\n",
       "      <td>0</td>\n",
       "    </tr>\n",
       "    <tr>\n",
       "      <th>4</th>\n",
       "      <td>5</td>\n",
       "      <td>18</td>\n",
       "      <td>5</td>\n",
       "      <td>4.0</td>\n",
       "      <td>5</td>\n",
       "      <td>5</td>\n",
       "      <td>0</td>\n",
       "    </tr>\n",
       "  </tbody>\n",
       "</table>\n",
       "</div>"
      ],
      "text/plain": [
       "   driverStandingsId  raceId  driverId  points  position positionText  wins\n",
       "0                  1      18         1    10.0         1            1     1\n",
       "1                  2      18         2     8.0         2            2     0\n",
       "2                  3      18         3     6.0         3            3     0\n",
       "3                  4      18         4     5.0         4            4     0\n",
       "4                  5      18         5     4.0         5            5     0"
      ]
     },
     "metadata": {},
     "output_type": "display_data"
    },
    {
     "data": {
      "text/html": [
       "<div>\n",
       "<style scoped>\n",
       "    .dataframe tbody tr th:only-of-type {\n",
       "        vertical-align: middle;\n",
       "    }\n",
       "\n",
       "    .dataframe tbody tr th {\n",
       "        vertical-align: top;\n",
       "    }\n",
       "\n",
       "    .dataframe thead th {\n",
       "        text-align: right;\n",
       "    }\n",
       "</style>\n",
       "<table border=\"1\" class=\"dataframe\">\n",
       "  <thead>\n",
       "    <tr style=\"text-align: right;\">\n",
       "      <th></th>\n",
       "      <th>driverId</th>\n",
       "      <th>driverRef</th>\n",
       "      <th>number</th>\n",
       "      <th>code</th>\n",
       "      <th>dob</th>\n",
       "      <th>nationality</th>\n",
       "      <th>Name</th>\n",
       "    </tr>\n",
       "  </thead>\n",
       "  <tbody>\n",
       "    <tr>\n",
       "      <th>0</th>\n",
       "      <td>1</td>\n",
       "      <td>hamilton</td>\n",
       "      <td>44</td>\n",
       "      <td>HAM</td>\n",
       "      <td>1985-01-07</td>\n",
       "      <td>British</td>\n",
       "      <td>Lewis Hamilton</td>\n",
       "    </tr>\n",
       "    <tr>\n",
       "      <th>1</th>\n",
       "      <td>2</td>\n",
       "      <td>heidfeld</td>\n",
       "      <td>\\N</td>\n",
       "      <td>HEI</td>\n",
       "      <td>1977-05-10</td>\n",
       "      <td>German</td>\n",
       "      <td>Nick Heidfeld</td>\n",
       "    </tr>\n",
       "    <tr>\n",
       "      <th>2</th>\n",
       "      <td>3</td>\n",
       "      <td>rosberg</td>\n",
       "      <td>6</td>\n",
       "      <td>ROS</td>\n",
       "      <td>1985-06-27</td>\n",
       "      <td>German</td>\n",
       "      <td>Nico Rosberg</td>\n",
       "    </tr>\n",
       "    <tr>\n",
       "      <th>3</th>\n",
       "      <td>4</td>\n",
       "      <td>alonso</td>\n",
       "      <td>14</td>\n",
       "      <td>ALO</td>\n",
       "      <td>1981-07-29</td>\n",
       "      <td>Spanish</td>\n",
       "      <td>Fernando Alonso</td>\n",
       "    </tr>\n",
       "    <tr>\n",
       "      <th>4</th>\n",
       "      <td>5</td>\n",
       "      <td>kovalainen</td>\n",
       "      <td>\\N</td>\n",
       "      <td>KOV</td>\n",
       "      <td>1981-10-19</td>\n",
       "      <td>Finnish</td>\n",
       "      <td>Heikki Kovalainen</td>\n",
       "    </tr>\n",
       "  </tbody>\n",
       "</table>\n",
       "</div>"
      ],
      "text/plain": [
       "   driverId   driverRef number code        dob nationality               Name\n",
       "0         1    hamilton     44  HAM 1985-01-07     British     Lewis Hamilton\n",
       "1         2    heidfeld     \\N  HEI 1977-05-10      German      Nick Heidfeld\n",
       "2         3     rosberg      6  ROS 1985-06-27      German       Nico Rosberg\n",
       "3         4      alonso     14  ALO 1981-07-29     Spanish    Fernando Alonso\n",
       "4         5  kovalainen     \\N  KOV 1981-10-19     Finnish  Heikki Kovalainen"
      ]
     },
     "metadata": {},
     "output_type": "display_data"
    },
    {
     "data": {
      "text/html": [
       "<div>\n",
       "<style scoped>\n",
       "    .dataframe tbody tr th:only-of-type {\n",
       "        vertical-align: middle;\n",
       "    }\n",
       "\n",
       "    .dataframe tbody tr th {\n",
       "        vertical-align: top;\n",
       "    }\n",
       "\n",
       "    .dataframe thead th {\n",
       "        text-align: right;\n",
       "    }\n",
       "</style>\n",
       "<table border=\"1\" class=\"dataframe\">\n",
       "  <thead>\n",
       "    <tr style=\"text-align: right;\">\n",
       "      <th></th>\n",
       "      <th>raceId</th>\n",
       "      <th>driverId</th>\n",
       "      <th>lap</th>\n",
       "      <th>position</th>\n",
       "      <th>time</th>\n",
       "      <th>milliseconds</th>\n",
       "    </tr>\n",
       "  </thead>\n",
       "  <tbody>\n",
       "    <tr>\n",
       "      <th>0</th>\n",
       "      <td>841</td>\n",
       "      <td>20</td>\n",
       "      <td>1</td>\n",
       "      <td>1</td>\n",
       "      <td>1:38.109</td>\n",
       "      <td>98109</td>\n",
       "    </tr>\n",
       "    <tr>\n",
       "      <th>1</th>\n",
       "      <td>841</td>\n",
       "      <td>20</td>\n",
       "      <td>2</td>\n",
       "      <td>1</td>\n",
       "      <td>1:33.006</td>\n",
       "      <td>93006</td>\n",
       "    </tr>\n",
       "    <tr>\n",
       "      <th>2</th>\n",
       "      <td>841</td>\n",
       "      <td>20</td>\n",
       "      <td>3</td>\n",
       "      <td>1</td>\n",
       "      <td>1:32.713</td>\n",
       "      <td>92713</td>\n",
       "    </tr>\n",
       "    <tr>\n",
       "      <th>3</th>\n",
       "      <td>841</td>\n",
       "      <td>20</td>\n",
       "      <td>4</td>\n",
       "      <td>1</td>\n",
       "      <td>1:32.803</td>\n",
       "      <td>92803</td>\n",
       "    </tr>\n",
       "    <tr>\n",
       "      <th>4</th>\n",
       "      <td>841</td>\n",
       "      <td>20</td>\n",
       "      <td>5</td>\n",
       "      <td>1</td>\n",
       "      <td>1:32.342</td>\n",
       "      <td>92342</td>\n",
       "    </tr>\n",
       "  </tbody>\n",
       "</table>\n",
       "</div>"
      ],
      "text/plain": [
       "   raceId  driverId  lap  position      time  milliseconds\n",
       "0     841        20    1         1  1:38.109         98109\n",
       "1     841        20    2         1  1:33.006         93006\n",
       "2     841        20    3         1  1:32.713         92713\n",
       "3     841        20    4         1  1:32.803         92803\n",
       "4     841        20    5         1  1:32.342         92342"
      ]
     },
     "metadata": {},
     "output_type": "display_data"
    },
    {
     "data": {
      "text/html": [
       "<div>\n",
       "<style scoped>\n",
       "    .dataframe tbody tr th:only-of-type {\n",
       "        vertical-align: middle;\n",
       "    }\n",
       "\n",
       "    .dataframe tbody tr th {\n",
       "        vertical-align: top;\n",
       "    }\n",
       "\n",
       "    .dataframe thead th {\n",
       "        text-align: right;\n",
       "    }\n",
       "</style>\n",
       "<table border=\"1\" class=\"dataframe\">\n",
       "  <thead>\n",
       "    <tr style=\"text-align: right;\">\n",
       "      <th></th>\n",
       "      <th>raceId</th>\n",
       "      <th>driverId</th>\n",
       "      <th>stop</th>\n",
       "      <th>lap</th>\n",
       "      <th>time</th>\n",
       "      <th>duration</th>\n",
       "      <th>milliseconds</th>\n",
       "    </tr>\n",
       "  </thead>\n",
       "  <tbody>\n",
       "    <tr>\n",
       "      <th>0</th>\n",
       "      <td>841</td>\n",
       "      <td>153</td>\n",
       "      <td>1</td>\n",
       "      <td>1</td>\n",
       "      <td>17:05:23</td>\n",
       "      <td>26.898</td>\n",
       "      <td>26898</td>\n",
       "    </tr>\n",
       "    <tr>\n",
       "      <th>1</th>\n",
       "      <td>841</td>\n",
       "      <td>30</td>\n",
       "      <td>1</td>\n",
       "      <td>1</td>\n",
       "      <td>17:05:52</td>\n",
       "      <td>25.021</td>\n",
       "      <td>25021</td>\n",
       "    </tr>\n",
       "    <tr>\n",
       "      <th>2</th>\n",
       "      <td>841</td>\n",
       "      <td>17</td>\n",
       "      <td>1</td>\n",
       "      <td>11</td>\n",
       "      <td>17:20:48</td>\n",
       "      <td>23.426</td>\n",
       "      <td>23426</td>\n",
       "    </tr>\n",
       "    <tr>\n",
       "      <th>3</th>\n",
       "      <td>841</td>\n",
       "      <td>4</td>\n",
       "      <td>1</td>\n",
       "      <td>12</td>\n",
       "      <td>17:22:34</td>\n",
       "      <td>23.251</td>\n",
       "      <td>23251</td>\n",
       "    </tr>\n",
       "    <tr>\n",
       "      <th>4</th>\n",
       "      <td>841</td>\n",
       "      <td>13</td>\n",
       "      <td>1</td>\n",
       "      <td>13</td>\n",
       "      <td>17:24:10</td>\n",
       "      <td>23.842</td>\n",
       "      <td>23842</td>\n",
       "    </tr>\n",
       "  </tbody>\n",
       "</table>\n",
       "</div>"
      ],
      "text/plain": [
       "   raceId  driverId  stop  lap      time duration  milliseconds\n",
       "0     841       153     1    1  17:05:23   26.898         26898\n",
       "1     841        30     1    1  17:05:52   25.021         25021\n",
       "2     841        17     1   11  17:20:48   23.426         23426\n",
       "3     841         4     1   12  17:22:34   23.251         23251\n",
       "4     841        13     1   13  17:24:10   23.842         23842"
      ]
     },
     "metadata": {},
     "output_type": "display_data"
    },
    {
     "data": {
      "text/html": [
       "<div>\n",
       "<style scoped>\n",
       "    .dataframe tbody tr th:only-of-type {\n",
       "        vertical-align: middle;\n",
       "    }\n",
       "\n",
       "    .dataframe tbody tr th {\n",
       "        vertical-align: top;\n",
       "    }\n",
       "\n",
       "    .dataframe thead th {\n",
       "        text-align: right;\n",
       "    }\n",
       "</style>\n",
       "<table border=\"1\" class=\"dataframe\">\n",
       "  <thead>\n",
       "    <tr style=\"text-align: right;\">\n",
       "      <th></th>\n",
       "      <th>qualifyId</th>\n",
       "      <th>raceId</th>\n",
       "      <th>driverId</th>\n",
       "      <th>constructorId</th>\n",
       "      <th>number</th>\n",
       "      <th>position</th>\n",
       "      <th>q1</th>\n",
       "      <th>q2</th>\n",
       "      <th>q3</th>\n",
       "    </tr>\n",
       "  </thead>\n",
       "  <tbody>\n",
       "    <tr>\n",
       "      <th>0</th>\n",
       "      <td>1</td>\n",
       "      <td>18</td>\n",
       "      <td>1</td>\n",
       "      <td>1</td>\n",
       "      <td>22</td>\n",
       "      <td>1</td>\n",
       "      <td>1:26.572</td>\n",
       "      <td>1:25.187</td>\n",
       "      <td>1:26.714</td>\n",
       "    </tr>\n",
       "    <tr>\n",
       "      <th>1</th>\n",
       "      <td>2</td>\n",
       "      <td>18</td>\n",
       "      <td>9</td>\n",
       "      <td>2</td>\n",
       "      <td>4</td>\n",
       "      <td>2</td>\n",
       "      <td>1:26.103</td>\n",
       "      <td>1:25.315</td>\n",
       "      <td>1:26.869</td>\n",
       "    </tr>\n",
       "    <tr>\n",
       "      <th>2</th>\n",
       "      <td>3</td>\n",
       "      <td>18</td>\n",
       "      <td>5</td>\n",
       "      <td>1</td>\n",
       "      <td>23</td>\n",
       "      <td>3</td>\n",
       "      <td>1:25.664</td>\n",
       "      <td>1:25.452</td>\n",
       "      <td>1:27.079</td>\n",
       "    </tr>\n",
       "    <tr>\n",
       "      <th>3</th>\n",
       "      <td>4</td>\n",
       "      <td>18</td>\n",
       "      <td>13</td>\n",
       "      <td>6</td>\n",
       "      <td>2</td>\n",
       "      <td>4</td>\n",
       "      <td>1:25.994</td>\n",
       "      <td>1:25.691</td>\n",
       "      <td>1:27.178</td>\n",
       "    </tr>\n",
       "    <tr>\n",
       "      <th>4</th>\n",
       "      <td>5</td>\n",
       "      <td>18</td>\n",
       "      <td>2</td>\n",
       "      <td>2</td>\n",
       "      <td>3</td>\n",
       "      <td>5</td>\n",
       "      <td>1:25.960</td>\n",
       "      <td>1:25.518</td>\n",
       "      <td>1:27.236</td>\n",
       "    </tr>\n",
       "  </tbody>\n",
       "</table>\n",
       "</div>"
      ],
      "text/plain": [
       "   qualifyId  raceId  driverId  constructorId  number  position        q1  \\\n",
       "0          1      18         1              1      22         1  1:26.572   \n",
       "1          2      18         9              2       4         2  1:26.103   \n",
       "2          3      18         5              1      23         3  1:25.664   \n",
       "3          4      18        13              6       2         4  1:25.994   \n",
       "4          5      18         2              2       3         5  1:25.960   \n",
       "\n",
       "         q2        q3  \n",
       "0  1:25.187  1:26.714  \n",
       "1  1:25.315  1:26.869  \n",
       "2  1:25.452  1:27.079  \n",
       "3  1:25.691  1:27.178  \n",
       "4  1:25.518  1:27.236  "
      ]
     },
     "metadata": {},
     "output_type": "display_data"
    },
    {
     "data": {
      "text/html": [
       "<div>\n",
       "<style scoped>\n",
       "    .dataframe tbody tr th:only-of-type {\n",
       "        vertical-align: middle;\n",
       "    }\n",
       "\n",
       "    .dataframe tbody tr th {\n",
       "        vertical-align: top;\n",
       "    }\n",
       "\n",
       "    .dataframe thead th {\n",
       "        text-align: right;\n",
       "    }\n",
       "</style>\n",
       "<table border=\"1\" class=\"dataframe\">\n",
       "  <thead>\n",
       "    <tr style=\"text-align: right;\">\n",
       "      <th></th>\n",
       "      <th>raceId</th>\n",
       "      <th>year</th>\n",
       "      <th>round</th>\n",
       "      <th>circuitId</th>\n",
       "      <th>name</th>\n",
       "      <th>date</th>\n",
       "      <th>time</th>\n",
       "    </tr>\n",
       "  </thead>\n",
       "  <tbody>\n",
       "    <tr>\n",
       "      <th>0</th>\n",
       "      <td>1</td>\n",
       "      <td>2009</td>\n",
       "      <td>1</td>\n",
       "      <td>1</td>\n",
       "      <td>Australian Grand Prix</td>\n",
       "      <td>2009-03-29</td>\n",
       "      <td>06:00:00</td>\n",
       "    </tr>\n",
       "    <tr>\n",
       "      <th>1</th>\n",
       "      <td>2</td>\n",
       "      <td>2009</td>\n",
       "      <td>2</td>\n",
       "      <td>2</td>\n",
       "      <td>Malaysian Grand Prix</td>\n",
       "      <td>2009-04-05</td>\n",
       "      <td>09:00:00</td>\n",
       "    </tr>\n",
       "    <tr>\n",
       "      <th>2</th>\n",
       "      <td>3</td>\n",
       "      <td>2009</td>\n",
       "      <td>3</td>\n",
       "      <td>17</td>\n",
       "      <td>Chinese Grand Prix</td>\n",
       "      <td>2009-04-19</td>\n",
       "      <td>07:00:00</td>\n",
       "    </tr>\n",
       "    <tr>\n",
       "      <th>3</th>\n",
       "      <td>4</td>\n",
       "      <td>2009</td>\n",
       "      <td>4</td>\n",
       "      <td>3</td>\n",
       "      <td>Bahrain Grand Prix</td>\n",
       "      <td>2009-04-26</td>\n",
       "      <td>12:00:00</td>\n",
       "    </tr>\n",
       "    <tr>\n",
       "      <th>4</th>\n",
       "      <td>5</td>\n",
       "      <td>2009</td>\n",
       "      <td>5</td>\n",
       "      <td>4</td>\n",
       "      <td>Spanish Grand Prix</td>\n",
       "      <td>2009-05-10</td>\n",
       "      <td>12:00:00</td>\n",
       "    </tr>\n",
       "  </tbody>\n",
       "</table>\n",
       "</div>"
      ],
      "text/plain": [
       "   raceId  year  round  circuitId                   name       date      time\n",
       "0       1  2009      1          1  Australian Grand Prix 2009-03-29  06:00:00\n",
       "1       2  2009      2          2   Malaysian Grand Prix 2009-04-05  09:00:00\n",
       "2       3  2009      3         17     Chinese Grand Prix 2009-04-19  07:00:00\n",
       "3       4  2009      4          3     Bahrain Grand Prix 2009-04-26  12:00:00\n",
       "4       5  2009      5          4     Spanish Grand Prix 2009-05-10  12:00:00"
      ]
     },
     "metadata": {},
     "output_type": "display_data"
    },
    {
     "data": {
      "text/html": [
       "<div>\n",
       "<style scoped>\n",
       "    .dataframe tbody tr th:only-of-type {\n",
       "        vertical-align: middle;\n",
       "    }\n",
       "\n",
       "    .dataframe tbody tr th {\n",
       "        vertical-align: top;\n",
       "    }\n",
       "\n",
       "    .dataframe thead th {\n",
       "        text-align: right;\n",
       "    }\n",
       "</style>\n",
       "<table border=\"1\" class=\"dataframe\">\n",
       "  <thead>\n",
       "    <tr style=\"text-align: right;\">\n",
       "      <th></th>\n",
       "      <th>resultId</th>\n",
       "      <th>raceId</th>\n",
       "      <th>driverId</th>\n",
       "      <th>constructorId</th>\n",
       "      <th>number</th>\n",
       "      <th>grid</th>\n",
       "      <th>position</th>\n",
       "      <th>positionText</th>\n",
       "      <th>positionOrder</th>\n",
       "      <th>points</th>\n",
       "      <th>laps</th>\n",
       "      <th>time</th>\n",
       "      <th>Lap_time_ms</th>\n",
       "      <th>fastestLap</th>\n",
       "      <th>rank</th>\n",
       "      <th>fastestLapTime</th>\n",
       "      <th>fastestLapSpeed</th>\n",
       "      <th>statusId</th>\n",
       "      <th>fastestLap_time_ms</th>\n",
       "    </tr>\n",
       "  </thead>\n",
       "  <tbody>\n",
       "    <tr>\n",
       "      <th>0</th>\n",
       "      <td>1</td>\n",
       "      <td>18</td>\n",
       "      <td>1</td>\n",
       "      <td>1</td>\n",
       "      <td>22.0</td>\n",
       "      <td>1</td>\n",
       "      <td>1</td>\n",
       "      <td>1</td>\n",
       "      <td>1</td>\n",
       "      <td>10.0</td>\n",
       "      <td>58</td>\n",
       "      <td>1:34:50.616</td>\n",
       "      <td>5690616.0</td>\n",
       "      <td>39</td>\n",
       "      <td>2.0</td>\n",
       "      <td>1:27.452</td>\n",
       "      <td>218.300</td>\n",
       "      <td>1</td>\n",
       "      <td>87452.0</td>\n",
       "    </tr>\n",
       "    <tr>\n",
       "      <th>1</th>\n",
       "      <td>2</td>\n",
       "      <td>18</td>\n",
       "      <td>2</td>\n",
       "      <td>2</td>\n",
       "      <td>3.0</td>\n",
       "      <td>5</td>\n",
       "      <td>2</td>\n",
       "      <td>2</td>\n",
       "      <td>2</td>\n",
       "      <td>8.0</td>\n",
       "      <td>58</td>\n",
       "      <td>+5.478</td>\n",
       "      <td>5696094.0</td>\n",
       "      <td>41</td>\n",
       "      <td>3.0</td>\n",
       "      <td>1:27.739</td>\n",
       "      <td>217.586</td>\n",
       "      <td>1</td>\n",
       "      <td>87739.0</td>\n",
       "    </tr>\n",
       "    <tr>\n",
       "      <th>2</th>\n",
       "      <td>3</td>\n",
       "      <td>18</td>\n",
       "      <td>3</td>\n",
       "      <td>3</td>\n",
       "      <td>7.0</td>\n",
       "      <td>7</td>\n",
       "      <td>3</td>\n",
       "      <td>3</td>\n",
       "      <td>3</td>\n",
       "      <td>6.0</td>\n",
       "      <td>58</td>\n",
       "      <td>+8.163</td>\n",
       "      <td>5698779.0</td>\n",
       "      <td>41</td>\n",
       "      <td>5.0</td>\n",
       "      <td>1:28.090</td>\n",
       "      <td>216.719</td>\n",
       "      <td>1</td>\n",
       "      <td>88090.0</td>\n",
       "    </tr>\n",
       "    <tr>\n",
       "      <th>3</th>\n",
       "      <td>4</td>\n",
       "      <td>18</td>\n",
       "      <td>4</td>\n",
       "      <td>4</td>\n",
       "      <td>5.0</td>\n",
       "      <td>11</td>\n",
       "      <td>4</td>\n",
       "      <td>4</td>\n",
       "      <td>4</td>\n",
       "      <td>5.0</td>\n",
       "      <td>58</td>\n",
       "      <td>+17.181</td>\n",
       "      <td>5707797.0</td>\n",
       "      <td>58</td>\n",
       "      <td>7.0</td>\n",
       "      <td>1:28.603</td>\n",
       "      <td>215.464</td>\n",
       "      <td>1</td>\n",
       "      <td>88603.0</td>\n",
       "    </tr>\n",
       "    <tr>\n",
       "      <th>4</th>\n",
       "      <td>5</td>\n",
       "      <td>18</td>\n",
       "      <td>5</td>\n",
       "      <td>1</td>\n",
       "      <td>23.0</td>\n",
       "      <td>3</td>\n",
       "      <td>5</td>\n",
       "      <td>5</td>\n",
       "      <td>5</td>\n",
       "      <td>4.0</td>\n",
       "      <td>58</td>\n",
       "      <td>+18.014</td>\n",
       "      <td>5708630.0</td>\n",
       "      <td>43</td>\n",
       "      <td>1.0</td>\n",
       "      <td>1:27.418</td>\n",
       "      <td>218.385</td>\n",
       "      <td>1</td>\n",
       "      <td>87418.0</td>\n",
       "    </tr>\n",
       "  </tbody>\n",
       "</table>\n",
       "</div>"
      ],
      "text/plain": [
       "   resultId  raceId  driverId  constructorId  number  grid position  \\\n",
       "0         1      18         1              1    22.0     1        1   \n",
       "1         2      18         2              2     3.0     5        2   \n",
       "2         3      18         3              3     7.0     7        3   \n",
       "3         4      18         4              4     5.0    11        4   \n",
       "4         5      18         5              1    23.0     3        5   \n",
       "\n",
       "  positionText  positionOrder  points  laps         time  Lap_time_ms  \\\n",
       "0            1              1    10.0    58  1:34:50.616    5690616.0   \n",
       "1            2              2     8.0    58       +5.478    5696094.0   \n",
       "2            3              3     6.0    58       +8.163    5698779.0   \n",
       "3            4              4     5.0    58      +17.181    5707797.0   \n",
       "4            5              5     4.0    58      +18.014    5708630.0   \n",
       "\n",
       "  fastestLap  rank fastestLapTime  fastestLapSpeed  statusId  \\\n",
       "0         39   2.0       1:27.452          218.300         1   \n",
       "1         41   3.0       1:27.739          217.586         1   \n",
       "2         41   5.0       1:28.090          216.719         1   \n",
       "3         58   7.0       1:28.603          215.464         1   \n",
       "4         43   1.0       1:27.418          218.385         1   \n",
       "\n",
       "   fastestLap_time_ms  \n",
       "0             87452.0  \n",
       "1             87739.0  \n",
       "2             88090.0  \n",
       "3             88603.0  \n",
       "4             87418.0  "
      ]
     },
     "metadata": {},
     "output_type": "display_data"
    },
    {
     "data": {
      "text/html": [
       "<div>\n",
       "<style scoped>\n",
       "    .dataframe tbody tr th:only-of-type {\n",
       "        vertical-align: middle;\n",
       "    }\n",
       "\n",
       "    .dataframe tbody tr th {\n",
       "        vertical-align: top;\n",
       "    }\n",
       "\n",
       "    .dataframe thead th {\n",
       "        text-align: right;\n",
       "    }\n",
       "</style>\n",
       "<table border=\"1\" class=\"dataframe\">\n",
       "  <thead>\n",
       "    <tr style=\"text-align: right;\">\n",
       "      <th></th>\n",
       "      <th>year</th>\n",
       "    </tr>\n",
       "  </thead>\n",
       "  <tbody>\n",
       "    <tr>\n",
       "      <th>0</th>\n",
       "      <td>2009</td>\n",
       "    </tr>\n",
       "    <tr>\n",
       "      <th>1</th>\n",
       "      <td>2008</td>\n",
       "    </tr>\n",
       "    <tr>\n",
       "      <th>2</th>\n",
       "      <td>2007</td>\n",
       "    </tr>\n",
       "    <tr>\n",
       "      <th>3</th>\n",
       "      <td>2006</td>\n",
       "    </tr>\n",
       "    <tr>\n",
       "      <th>4</th>\n",
       "      <td>2005</td>\n",
       "    </tr>\n",
       "  </tbody>\n",
       "</table>\n",
       "</div>"
      ],
      "text/plain": [
       "   year\n",
       "0  2009\n",
       "1  2008\n",
       "2  2007\n",
       "3  2006\n",
       "4  2005"
      ]
     },
     "metadata": {},
     "output_type": "display_data"
    },
    {
     "data": {
      "text/html": [
       "<div>\n",
       "<style scoped>\n",
       "    .dataframe tbody tr th:only-of-type {\n",
       "        vertical-align: middle;\n",
       "    }\n",
       "\n",
       "    .dataframe tbody tr th {\n",
       "        vertical-align: top;\n",
       "    }\n",
       "\n",
       "    .dataframe thead th {\n",
       "        text-align: right;\n",
       "    }\n",
       "</style>\n",
       "<table border=\"1\" class=\"dataframe\">\n",
       "  <thead>\n",
       "    <tr style=\"text-align: right;\">\n",
       "      <th></th>\n",
       "      <th>resultId</th>\n",
       "      <th>raceId</th>\n",
       "      <th>driverId</th>\n",
       "      <th>constructorId</th>\n",
       "      <th>number</th>\n",
       "      <th>grid</th>\n",
       "      <th>position</th>\n",
       "      <th>positionText</th>\n",
       "      <th>positionOrder</th>\n",
       "      <th>points</th>\n",
       "      <th>laps</th>\n",
       "      <th>time</th>\n",
       "      <th>milliseconds</th>\n",
       "      <th>fastestLap</th>\n",
       "      <th>fastestLapTime</th>\n",
       "      <th>statusId</th>\n",
       "    </tr>\n",
       "  </thead>\n",
       "  <tbody>\n",
       "    <tr>\n",
       "      <th>0</th>\n",
       "      <td>1</td>\n",
       "      <td>1061</td>\n",
       "      <td>830</td>\n",
       "      <td>9</td>\n",
       "      <td>33</td>\n",
       "      <td>2</td>\n",
       "      <td>1</td>\n",
       "      <td>1</td>\n",
       "      <td>1</td>\n",
       "      <td>3</td>\n",
       "      <td>17</td>\n",
       "      <td>25:38.426</td>\n",
       "      <td>1538426</td>\n",
       "      <td>14</td>\n",
       "      <td>1:30.013</td>\n",
       "      <td>1</td>\n",
       "    </tr>\n",
       "    <tr>\n",
       "      <th>1</th>\n",
       "      <td>2</td>\n",
       "      <td>1061</td>\n",
       "      <td>1</td>\n",
       "      <td>131</td>\n",
       "      <td>44</td>\n",
       "      <td>1</td>\n",
       "      <td>2</td>\n",
       "      <td>2</td>\n",
       "      <td>2</td>\n",
       "      <td>2</td>\n",
       "      <td>17</td>\n",
       "      <td>+1.430</td>\n",
       "      <td>1539856</td>\n",
       "      <td>17</td>\n",
       "      <td>1:29.937</td>\n",
       "      <td>1</td>\n",
       "    </tr>\n",
       "    <tr>\n",
       "      <th>2</th>\n",
       "      <td>3</td>\n",
       "      <td>1061</td>\n",
       "      <td>822</td>\n",
       "      <td>131</td>\n",
       "      <td>77</td>\n",
       "      <td>3</td>\n",
       "      <td>3</td>\n",
       "      <td>3</td>\n",
       "      <td>3</td>\n",
       "      <td>1</td>\n",
       "      <td>17</td>\n",
       "      <td>+7.502</td>\n",
       "      <td>1545928</td>\n",
       "      <td>17</td>\n",
       "      <td>1:29.958</td>\n",
       "      <td>1</td>\n",
       "    </tr>\n",
       "    <tr>\n",
       "      <th>3</th>\n",
       "      <td>4</td>\n",
       "      <td>1061</td>\n",
       "      <td>844</td>\n",
       "      <td>6</td>\n",
       "      <td>16</td>\n",
       "      <td>4</td>\n",
       "      <td>4</td>\n",
       "      <td>4</td>\n",
       "      <td>4</td>\n",
       "      <td>0</td>\n",
       "      <td>17</td>\n",
       "      <td>+11.278</td>\n",
       "      <td>1549704</td>\n",
       "      <td>16</td>\n",
       "      <td>1:30.163</td>\n",
       "      <td>1</td>\n",
       "    </tr>\n",
       "    <tr>\n",
       "      <th>4</th>\n",
       "      <td>5</td>\n",
       "      <td>1061</td>\n",
       "      <td>846</td>\n",
       "      <td>1</td>\n",
       "      <td>4</td>\n",
       "      <td>6</td>\n",
       "      <td>5</td>\n",
       "      <td>5</td>\n",
       "      <td>5</td>\n",
       "      <td>0</td>\n",
       "      <td>17</td>\n",
       "      <td>+24.111</td>\n",
       "      <td>1562537</td>\n",
       "      <td>16</td>\n",
       "      <td>1:30.566</td>\n",
       "      <td>1</td>\n",
       "    </tr>\n",
       "  </tbody>\n",
       "</table>\n",
       "</div>"
      ],
      "text/plain": [
       "   resultId  raceId  driverId  constructorId  number  grid position  \\\n",
       "0         1    1061       830              9      33     2        1   \n",
       "1         2    1061         1            131      44     1        2   \n",
       "2         3    1061       822            131      77     3        3   \n",
       "3         4    1061       844              6      16     4        4   \n",
       "4         5    1061       846              1       4     6        5   \n",
       "\n",
       "  positionText  positionOrder  points  laps       time milliseconds  \\\n",
       "0            1              1       3    17  25:38.426      1538426   \n",
       "1            2              2       2    17     +1.430      1539856   \n",
       "2            3              3       1    17     +7.502      1545928   \n",
       "3            4              4       0    17    +11.278      1549704   \n",
       "4            5              5       0    17    +24.111      1562537   \n",
       "\n",
       "  fastestLap fastestLapTime  statusId  \n",
       "0         14       1:30.013         1  \n",
       "1         17       1:29.937         1  \n",
       "2         17       1:29.958         1  \n",
       "3         16       1:30.163         1  \n",
       "4         16       1:30.566         1  "
      ]
     },
     "metadata": {},
     "output_type": "display_data"
    },
    {
     "data": {
      "text/html": [
       "<div>\n",
       "<style scoped>\n",
       "    .dataframe tbody tr th:only-of-type {\n",
       "        vertical-align: middle;\n",
       "    }\n",
       "\n",
       "    .dataframe tbody tr th {\n",
       "        vertical-align: top;\n",
       "    }\n",
       "\n",
       "    .dataframe thead th {\n",
       "        text-align: right;\n",
       "    }\n",
       "</style>\n",
       "<table border=\"1\" class=\"dataframe\">\n",
       "  <thead>\n",
       "    <tr style=\"text-align: right;\">\n",
       "      <th></th>\n",
       "      <th>statusId</th>\n",
       "      <th>status</th>\n",
       "    </tr>\n",
       "  </thead>\n",
       "  <tbody>\n",
       "    <tr>\n",
       "      <th>0</th>\n",
       "      <td>1</td>\n",
       "      <td>Finished</td>\n",
       "    </tr>\n",
       "    <tr>\n",
       "      <th>1</th>\n",
       "      <td>2</td>\n",
       "      <td>Disqualified</td>\n",
       "    </tr>\n",
       "    <tr>\n",
       "      <th>2</th>\n",
       "      <td>3</td>\n",
       "      <td>Accident</td>\n",
       "    </tr>\n",
       "    <tr>\n",
       "      <th>3</th>\n",
       "      <td>4</td>\n",
       "      <td>Collision</td>\n",
       "    </tr>\n",
       "    <tr>\n",
       "      <th>4</th>\n",
       "      <td>5</td>\n",
       "      <td>Engine</td>\n",
       "    </tr>\n",
       "  </tbody>\n",
       "</table>\n",
       "</div>"
      ],
      "text/plain": [
       "   statusId        status\n",
       "0         1      Finished\n",
       "1         2  Disqualified\n",
       "2         3      Accident\n",
       "3         4     Collision\n",
       "4         5        Engine"
      ]
     },
     "metadata": {},
     "output_type": "display_data"
    }
   ],
   "source": [
    "#printing all the dataframes imported to csv\n",
    "display(circuits.head())\n",
    "display(constructor_results.head())\n",
    "display(constructor_standings.head())\n",
    "display(constructors.head())\n",
    "display(driver_standings.head())\n",
    "display(drivers.head())\n",
    "display(lap_times.head())\n",
    "display(pit_stops.head())\n",
    "display(qualifying.head())\n",
    "display(races.head())\n",
    "display(results.head())\n",
    "display(seasons.head())\n",
    "display(sprint_results.head())\n",
    "display(status.head())"
   ]
  },
  {
   "cell_type": "code",
   "execution_count": 17,
   "metadata": {},
   "outputs": [],
   "source": [
    "#Importing SQLAlchemy to integrate into the project\n",
    "from sqlalchemy import MetaData, create_engine, Column, Integer, String, Float, ForeignKey\n",
    "from sqlalchemy.orm import declarative_base\n",
    "from sqlalchemy.orm import sessionmaker, relationship\n",
    "from sqlalchemy import text\n",
    "metadata =MetaData()"
   ]
  },
  {
   "cell_type": "code",
   "execution_count": 18,
   "metadata": {},
   "outputs": [],
   "source": [
    "# Define the SQLite database\n",
    "engine = create_engine('sqlite:///f1_data.db')\n",
    "Base = declarative_base()"
   ]
  },
  {
   "cell_type": "code",
   "execution_count": 19,
   "metadata": {},
   "outputs": [
    {
     "data": {
      "text/plain": [
       "75"
      ]
     },
     "execution_count": 19,
     "metadata": {},
     "output_type": "execute_result"
    }
   ],
   "source": [
    "# pushing dataframe into sql tables\n",
    "circuits.to_sql('circuits', engine, index= False, if_exists= 'replace')\n",
    "drivers.to_sql('drivers', engine, index= False, if_exists= 'replace')\n",
    "driver_standings.to_sql('driver_standings', engine, index= False, if_exists= 'replace')\n",
    "constructor_results.to_sql('constructor_results', engine, index= False, if_exists= 'replace')\n",
    "constructor_standings.to_sql('constructor_standings', engine, index= False, if_exists= 'replace')\n",
    "constructors.to_sql('constructors', engine, index= False, if_exists= 'replace')\n",
    "races.to_sql('races', engine, index= False, if_exists= 'replace')\n",
    "lap_times.to_sql('lap_times', engine, index= False, if_exists= 'replace')\n",
    "pit_stops.to_sql('pit_stops', engine, index= False, if_exists= 'replace')\n",
    "qualifying.to_sql('qualifying', engine, index = False, if_exists= 'replace')\n",
    "status.to_sql('status', engine, index = False, if_exists= 'replace')\n",
    "results.to_sql('results', engine, index = False, if_exists= 'replace')\n",
    "sprint_results.to_sql('sprint_results', engine, index = False, if_exists= 'replace')\n",
    "seasons.to_sql('seasons', engine, index = False, if_exists= 'replace')"
   ]
  },
  {
   "cell_type": "markdown",
   "metadata": {},
   "source": [
    "#### **Circuits Distribution and Occurence**\n",
    "- Formula One races have been held across the globe, featuring a variety of circuits over the years. Some tracks are iconic, like the Monaco Circuit, which has been part of F1 since its inception in 1950, while others have been added and removed from the calendar.\n",
    "- **Objective:**\n",
    "    - Identify all circuits where a Grand Prix has been held.\n",
    "    - Calculate the frequency of each circuit's appearance in the F1 calendar.\n",
    "    - Visualize the distribution and occurrence of these circuits on a world map for better geographical understanding.\n",
    "- This analysis highlights trends in the choice of circuits, including those that have been historically significant and those that are part of newer additions."
   ]
  },
  {
   "cell_type": "code",
   "execution_count": 20,
   "metadata": {},
   "outputs": [],
   "source": [
    "#renaming column in races table\n",
    "with engine.connect() as connection:\n",
    "    connection.execute(text(\"\"\"ALTER TABLE races\n",
    "                               RENAME COLUMN name TO Grand_Prix\n",
    "                            \"\"\"))"
   ]
  },
  {
   "cell_type": "code",
   "execution_count": 21,
   "metadata": {},
   "outputs": [],
   "source": [
    "#query to find distinct circuits name and grand prix name and returing it into Circuit_df dataframe.\n",
    "query = \"\"\"\n",
    "        SELECT DISTINCT circuits.name, circuits.country, \n",
    "        FIRST_VALUE(races.Grand_Prix) OVER (PARTITION BY circuits.circuitId ORDER BY races.year) AS grand_prix, \n",
    "        circuits.lat, circuits.lng, COUNT(races.year) as occurence\n",
    "        FROM circuits\n",
    "        JOIN races ON circuits.circuitId = races.circuitId\n",
    "        GROUP BY circuits.name, circuits.country\n",
    "        \"\"\"\n",
    "Circuit_df = pd.read_sql(query, engine)"
   ]
  },
  {
   "cell_type": "code",
   "execution_count": 22,
   "metadata": {},
   "outputs": [
    {
     "data": {
      "text/html": [
       "<div>\n",
       "<style scoped>\n",
       "    .dataframe tbody tr th:only-of-type {\n",
       "        vertical-align: middle;\n",
       "    }\n",
       "\n",
       "    .dataframe tbody tr th {\n",
       "        vertical-align: top;\n",
       "    }\n",
       "\n",
       "    .dataframe thead th {\n",
       "        text-align: right;\n",
       "    }\n",
       "</style>\n",
       "<table border=\"1\" class=\"dataframe\">\n",
       "  <thead>\n",
       "    <tr style=\"text-align: right;\">\n",
       "      <th></th>\n",
       "      <th>name</th>\n",
       "      <th>country</th>\n",
       "      <th>grand_prix</th>\n",
       "      <th>lat</th>\n",
       "      <th>lng</th>\n",
       "      <th>occurence</th>\n",
       "    </tr>\n",
       "  </thead>\n",
       "  <tbody>\n",
       "    <tr>\n",
       "      <th>13</th>\n",
       "      <td>Autodromo Nazionale di Monza</td>\n",
       "      <td>Italy</td>\n",
       "      <td>Italian Grand Prix</td>\n",
       "      <td>45.6156</td>\n",
       "      <td>9.28111</td>\n",
       "      <td>74</td>\n",
       "    </tr>\n",
       "    <tr>\n",
       "      <th>5</th>\n",
       "      <td>Circuit de Monaco</td>\n",
       "      <td>Monaco</td>\n",
       "      <td>Monaco Grand Prix</td>\n",
       "      <td>43.7347</td>\n",
       "      <td>7.42056</td>\n",
       "      <td>70</td>\n",
       "    </tr>\n",
       "    <tr>\n",
       "      <th>8</th>\n",
       "      <td>Silverstone Circuit</td>\n",
       "      <td>UK</td>\n",
       "      <td>British Grand Prix</td>\n",
       "      <td>52.0786</td>\n",
       "      <td>-1.01694</td>\n",
       "      <td>59</td>\n",
       "    </tr>\n",
       "    <tr>\n",
       "      <th>12</th>\n",
       "      <td>Circuit de Spa-Francorchamps</td>\n",
       "      <td>Belgium</td>\n",
       "      <td>Belgian Grand Prix</td>\n",
       "      <td>50.4372</td>\n",
       "      <td>5.97139</td>\n",
       "      <td>57</td>\n",
       "    </tr>\n",
       "    <tr>\n",
       "      <th>6</th>\n",
       "      <td>Circuit Gilles Villeneuve</td>\n",
       "      <td>Canada</td>\n",
       "      <td>Canadian Grand Prix</td>\n",
       "      <td>45.5000</td>\n",
       "      <td>-73.52280</td>\n",
       "      <td>43</td>\n",
       "    </tr>\n",
       "    <tr>\n",
       "      <th>...</th>\n",
       "      <td>...</td>\n",
       "      <td>...</td>\n",
       "      <td>...</td>\n",
       "      <td>...</td>\n",
       "      <td>...</td>\n",
       "      <td>...</td>\n",
       "    </tr>\n",
       "    <tr>\n",
       "      <th>55</th>\n",
       "      <td>Zeltweg</td>\n",
       "      <td>Austria</td>\n",
       "      <td>Austrian Grand Prix</td>\n",
       "      <td>47.2039</td>\n",
       "      <td>14.74780</td>\n",
       "      <td>1</td>\n",
       "    </tr>\n",
       "    <tr>\n",
       "      <th>62</th>\n",
       "      <td>Ain Diab</td>\n",
       "      <td>Morocco</td>\n",
       "      <td>Moroccan Grand Prix</td>\n",
       "      <td>33.5786</td>\n",
       "      <td>-7.68750</td>\n",
       "      <td>1</td>\n",
       "    </tr>\n",
       "    <tr>\n",
       "      <th>61</th>\n",
       "      <td>Sebring International Raceway</td>\n",
       "      <td>USA</td>\n",
       "      <td>United States Grand Prix</td>\n",
       "      <td>27.4547</td>\n",
       "      <td>-81.34830</td>\n",
       "      <td>1</td>\n",
       "    </tr>\n",
       "    <tr>\n",
       "      <th>63</th>\n",
       "      <td>Pescara Circuit</td>\n",
       "      <td>Italy</td>\n",
       "      <td>Pescara Grand Prix</td>\n",
       "      <td>42.4750</td>\n",
       "      <td>14.15080</td>\n",
       "      <td>1</td>\n",
       "    </tr>\n",
       "    <tr>\n",
       "      <th>72</th>\n",
       "      <td>Autodromo Internazionale del Mugello</td>\n",
       "      <td>Italy</td>\n",
       "      <td>Tuscan Grand Prix</td>\n",
       "      <td>43.9975</td>\n",
       "      <td>11.37190</td>\n",
       "      <td>1</td>\n",
       "    </tr>\n",
       "  </tbody>\n",
       "</table>\n",
       "<p>77 rows × 6 columns</p>\n",
       "</div>"
      ],
      "text/plain": [
       "                                    name  country                grand_prix  \\\n",
       "13          Autodromo Nazionale di Monza    Italy        Italian Grand Prix   \n",
       "5                      Circuit de Monaco   Monaco         Monaco Grand Prix   \n",
       "8                    Silverstone Circuit       UK        British Grand Prix   \n",
       "12          Circuit de Spa-Francorchamps  Belgium        Belgian Grand Prix   \n",
       "6              Circuit Gilles Villeneuve   Canada       Canadian Grand Prix   \n",
       "..                                   ...      ...                       ...   \n",
       "55                               Zeltweg  Austria       Austrian Grand Prix   \n",
       "62                              Ain Diab  Morocco       Moroccan Grand Prix   \n",
       "61         Sebring International Raceway      USA  United States Grand Prix   \n",
       "63                       Pescara Circuit    Italy        Pescara Grand Prix   \n",
       "72  Autodromo Internazionale del Mugello    Italy         Tuscan Grand Prix   \n",
       "\n",
       "        lat       lng  occurence  \n",
       "13  45.6156   9.28111         74  \n",
       "5   43.7347   7.42056         70  \n",
       "8   52.0786  -1.01694         59  \n",
       "12  50.4372   5.97139         57  \n",
       "6   45.5000 -73.52280         43  \n",
       "..      ...       ...        ...  \n",
       "55  47.2039  14.74780          1  \n",
       "62  33.5786  -7.68750          1  \n",
       "61  27.4547 -81.34830          1  \n",
       "63  42.4750  14.15080          1  \n",
       "72  43.9975  11.37190          1  \n",
       "\n",
       "[77 rows x 6 columns]"
      ]
     },
     "execution_count": 22,
     "metadata": {},
     "output_type": "execute_result"
    }
   ],
   "source": [
    "#sorting the dataframe by occurence column in descending order\n",
    "Circuit_df.sort_values(by= 'occurence', ascending= False, inplace= True)\n",
    "Circuit_df"
   ]
  },
  {
   "cell_type": "code",
   "execution_count": 23,
   "metadata": {},
   "outputs": [
    {
     "data": {
      "application/vnd.plotly.v1+json": {
       "config": {
        "plotlyServerURL": "https://plot.ly"
       },
       "data": [
        {
         "customdata": [
          [
           74,
           "Italian Grand Prix"
          ],
          [
           31,
           "Italian Grand Prix"
          ],
          [
           1,
           "Pescara Grand Prix"
          ],
          [
           1,
           "Tuscan Grand Prix"
          ]
         ],
         "geo": "geo",
         "hovertemplate": "<b>%{hovertext}<b><br><b>%{customdata[1]}<b><br>occurence:  %{customdata[0]:,.0f}<br>",
         "hovertext": [
          "Autodromo Nazionale di Monza",
          "Autodromo Enzo e Dino Ferrari",
          "Pescara Circuit",
          "Autodromo Internazionale del Mugello"
         ],
         "lat": [
          45.6156,
          44.3439,
          42.475,
          43.9975
         ],
         "legendgroup": "Italy",
         "lon": [
          9.28111,
          11.7167,
          14.1508,
          11.3719
         ],
         "marker": {
          "color": "#636efa",
          "line": {
           "color": "black",
           "width": 0.5
          },
          "symbol": "circle"
         },
         "mode": "markers",
         "name": "Italy",
         "showlegend": true,
         "type": "scattergeo"
        },
        {
         "customdata": [
          [
           70,
           "Monaco Grand Prix"
          ]
         ],
         "geo": "geo",
         "hovertemplate": "<b>%{hovertext}<b><br><b>%{customdata[1]}<b><br>occurence:  %{customdata[0]:,.0f}<br>",
         "hovertext": [
          "Circuit de Monaco"
         ],
         "lat": [
          43.7347
         ],
         "legendgroup": "Monaco",
         "lon": [
          7.42056
         ],
         "marker": {
          "color": "#EF553B",
          "line": {
           "color": "black",
           "width": 0.5
          },
          "symbol": "circle"
         },
         "mode": "markers",
         "name": "Monaco",
         "showlegend": true,
         "type": "scattergeo"
        },
        {
         "customdata": [
          [
           59,
           "British Grand Prix"
          ],
          [
           14,
           "British Grand Prix"
          ],
          [
           5,
           "British Grand Prix"
          ],
          [
           1,
           "European Grand Prix"
          ]
         ],
         "geo": "geo",
         "hovertemplate": "<b>%{hovertext}<b><br><b>%{customdata[1]}<b><br>occurence:  %{customdata[0]:,.0f}<br>",
         "hovertext": [
          "Silverstone Circuit",
          "Brands Hatch",
          "Aintree",
          "Donington Park"
         ],
         "lat": [
          52.0786,
          51.3569,
          53.4769,
          52.8306
         ],
         "legendgroup": "UK",
         "lon": [
          -1.01694,
          0.263056,
          -2.94056,
          -1.37528
         ],
         "marker": {
          "color": "#00cc96",
          "line": {
           "color": "black",
           "width": 0.5
          },
          "symbol": "circle"
         },
         "mode": "markers",
         "name": "UK",
         "showlegend": true,
         "type": "scattergeo"
        },
        {
         "customdata": [
          [
           57,
           "Belgian Grand Prix"
          ],
          [
           10,
           "Belgian Grand Prix"
          ],
          [
           2,
           "Belgian Grand Prix"
          ]
         ],
         "geo": "geo",
         "hovertemplate": "<b>%{hovertext}<b><br><b>%{customdata[1]}<b><br>occurence:  %{customdata[0]:,.0f}<br>",
         "hovertext": [
          "Circuit de Spa-Francorchamps",
          "Zolder",
          "Nivelles-Baulers"
         ],
         "lat": [
          50.4372,
          50.9894,
          50.6211
         ],
         "legendgroup": "Belgium",
         "lon": [
          5.97139,
          5.25694,
          4.32694
         ],
         "marker": {
          "color": "#ab63fa",
          "line": {
           "color": "black",
           "width": 0.5
          },
          "symbol": "circle"
         },
         "mode": "markers",
         "name": "Belgium",
         "showlegend": true,
         "type": "scattergeo"
        },
        {
         "customdata": [
          [
           43,
           "Canadian Grand Prix"
          ],
          [
           8,
           "Canadian Grand Prix"
          ],
          [
           2,
           "Canadian Grand Prix"
          ]
         ],
         "geo": "geo",
         "hovertemplate": "<b>%{hovertext}<b><br><b>%{customdata[1]}<b><br>occurence:  %{customdata[0]:,.0f}<br>",
         "hovertext": [
          "Circuit Gilles Villeneuve",
          "Mosport International Raceway",
          "Circuit Mont-Tremblant"
         ],
         "lat": [
          45.5,
          44.0481,
          46.1877
         ],
         "legendgroup": "Canada",
         "lon": [
          -73.5228,
          -78.6756,
          -74.6099
         ],
         "marker": {
          "color": "#FFA15A",
          "line": {
           "color": "black",
           "width": 0.5
          },
          "symbol": "circle"
         },
         "mode": "markers",
         "name": "Canada",
         "showlegend": true,
         "type": "scattergeo"
        },
        {
         "customdata": [
          [
           41,
           "Brazilian Grand Prix"
          ],
          [
           10,
           "Brazilian Grand Prix"
          ]
         ],
         "geo": "geo",
         "hovertemplate": "<b>%{hovertext}<b><br><b>%{customdata[1]}<b><br>occurence:  %{customdata[0]:,.0f}<br>",
         "hovertext": [
          "Autódromo José Carlos Pace",
          "Autódromo Internacional Nelson Piquet"
         ],
         "lat": [
          -23.7036,
          -22.9756
         ],
         "legendgroup": "Brazil",
         "lon": [
          -46.6997,
          -43.395
         ],
         "marker": {
          "color": "#19d3f3",
          "line": {
           "color": "black",
           "width": 0.5
          },
          "symbol": "circle"
         },
         "mode": "markers",
         "name": "Brazil",
         "showlegend": true,
         "type": "scattergeo"
        },
        {
         "customdata": [
          [
           41,
           "German Grand Prix"
          ],
          [
           37,
           "German Grand Prix"
          ],
          [
           1,
           "German Grand Prix"
          ]
         ],
         "geo": "geo",
         "hovertemplate": "<b>%{hovertext}<b><br><b>%{customdata[1]}<b><br>occurence:  %{customdata[0]:,.0f}<br>",
         "hovertext": [
          "Nürburgring",
          "Hockenheimring",
          "AVUS"
         ],
         "lat": [
          50.3356,
          49.3278,
          52.4806
         ],
         "legendgroup": "Germany",
         "lon": [
          6.9475,
          8.56583,
          13.2514
         ],
         "marker": {
          "color": "#FF6692",
          "line": {
           "color": "black",
           "width": 0.5
          },
          "symbol": "circle"
         },
         "mode": "markers",
         "name": "Germany",
         "showlegend": true,
         "type": "scattergeo"
        },
        {
         "customdata": [
          [
           39,
           "Hungarian Grand Prix"
          ]
         ],
         "geo": "geo",
         "hovertemplate": "<b>%{hovertext}<b><br><b>%{customdata[1]}<b><br>occurence:  %{customdata[0]:,.0f}<br>",
         "hovertext": [
          "Hungaroring"
         ],
         "lat": [
          47.5789
         ],
         "legendgroup": "Hungary",
         "lon": [
          19.2486
         ],
         "marker": {
          "color": "#B6E880",
          "line": {
           "color": "black",
           "width": 0.5
          },
          "symbol": "circle"
         },
         "mode": "markers",
         "name": "Hungary",
         "showlegend": true,
         "type": "scattergeo"
        },
        {
         "customdata": [
          [
           38,
           "Austrian Grand Prix"
          ],
          [
           1,
           "Austrian Grand Prix"
          ]
         ],
         "geo": "geo",
         "hovertemplate": "<b>%{hovertext}<b><br><b>%{customdata[1]}<b><br>occurence:  %{customdata[0]:,.0f}<br>",
         "hovertext": [
          "Red Bull Ring",
          "Zeltweg"
         ],
         "lat": [
          47.2197,
          47.2039
         ],
         "legendgroup": "Austria",
         "lon": [
          14.7647,
          14.7478
         ],
         "marker": {
          "color": "#FF97FF",
          "line": {
           "color": "black",
           "width": 0.5
          },
          "symbol": "circle"
         },
         "mode": "markers",
         "name": "Austria",
         "showlegend": true,
         "type": "scattergeo"
        },
        {
         "customdata": [
          [
           34,
           "Spanish Grand Prix"
          ],
          [
           9,
           "Spanish Grand Prix"
          ],
          [
           7,
           "Spanish Grand Prix"
          ],
          [
           5,
           "European Grand Prix"
          ],
          [
           4,
           "Spanish Grand Prix"
          ],
          [
           2,
           "Spanish Grand Prix"
          ]
         ],
         "geo": "geo",
         "hovertemplate": "<b>%{hovertext}<b><br><b>%{customdata[1]}<b><br>occurence:  %{customdata[0]:,.0f}<br>",
         "hovertext": [
          "Circuit de Barcelona-Catalunya",
          "Jarama",
          "Circuito de Jerez",
          "Valencia Street Circuit",
          "Montjuïc",
          "Circuit de Pedralbes"
         ],
         "lat": [
          41.57,
          40.6171,
          36.7083,
          39.4589,
          41.3664,
          41.3903
         ],
         "legendgroup": "Spain",
         "lon": [
          2.26111,
          -3.58558,
          -6.03417,
          -0.331667,
          2.15167,
          2.11667
         ],
         "marker": {
          "color": "#FECB52",
          "line": {
           "color": "black",
           "width": 0.5
          },
          "symbol": "circle"
         },
         "mode": "markers",
         "name": "Spain",
         "showlegend": true,
         "type": "scattergeo"
        },
        {
         "customdata": [
          [
           34,
           "Japanese Grand Prix"
          ],
          [
           4,
           "Japanese Grand Prix"
          ],
          [
           2,
           "Pacific Grand Prix"
          ]
         ],
         "geo": "geo",
         "hovertemplate": "<b>%{hovertext}<b><br><b>%{customdata[1]}<b><br>occurence:  %{customdata[0]:,.0f}<br>",
         "hovertext": [
          "Suzuka Circuit",
          "Fuji Speedway",
          "Okayama International Circuit"
         ],
         "lat": [
          34.8431,
          35.3717,
          34.915
         ],
         "legendgroup": "Japan",
         "lon": [
          136.541,
          138.927,
          134.221
         ],
         "marker": {
          "color": "#636efa",
          "line": {
           "color": "black",
           "width": 0.5
          },
          "symbol": "circle"
         },
         "mode": "markers",
         "name": "Japan",
         "showlegend": true,
         "type": "scattergeo"
        },
        {
         "customdata": [
          [
           34,
           "Dutch Grand Prix"
          ]
         ],
         "geo": "geo",
         "hovertemplate": "<b>%{hovertext}<b><br><b>%{customdata[1]}<b><br>occurence:  %{customdata[0]:,.0f}<br>",
         "hovertext": [
          "Circuit Park Zandvoort"
         ],
         "lat": [
          52.3888
         ],
         "legendgroup": "Netherlands",
         "lon": [
          4.54092
         ],
         "marker": {
          "color": "#EF553B",
          "line": {
           "color": "black",
           "width": 0.5
          },
          "symbol": "circle"
         },
         "mode": "markers",
         "name": "Netherlands",
         "showlegend": true,
         "type": "scattergeo"
        },
        {
         "customdata": [
          [
           27,
           "Australian Grand Prix"
          ],
          [
           11,
           "Australian Grand Prix"
          ]
         ],
         "geo": "geo",
         "hovertemplate": "<b>%{hovertext}<b><br><b>%{customdata[1]}<b><br>occurence:  %{customdata[0]:,.0f}<br>",
         "hovertext": [
          "Albert Park Grand Prix Circuit",
          "Adelaide Street Circuit"
         ],
         "lat": [
          -37.8497,
          -34.9272
         ],
         "legendgroup": "Australia",
         "lon": [
          144.968,
          138.617
         ],
         "marker": {
          "color": "#00cc96",
          "line": {
           "color": "black",
           "width": 0.5
          },
          "symbol": "circle"
         },
         "mode": "markers",
         "name": "Australia",
         "showlegend": true,
         "type": "scattergeo"
        },
        {
         "customdata": [
          [
           24,
           "Mexican Grand Prix"
          ]
         ],
         "geo": "geo",
         "hovertemplate": "<b>%{hovertext}<b><br><b>%{customdata[1]}<b><br>occurence:  %{customdata[0]:,.0f}<br>",
         "hovertext": [
          "Autódromo Hermanos Rodríguez"
         ],
         "lat": [
          19.4042
         ],
         "legendgroup": "Mexico",
         "lon": [
          -99.0907
         ],
         "marker": {
          "color": "#ab63fa",
          "line": {
           "color": "black",
           "width": 0.5
          },
          "symbol": "circle"
         },
         "mode": "markers",
         "name": "Mexico",
         "showlegend": true,
         "type": "scattergeo"
        },
        {
         "customdata": [
          [
           21,
           "Bahrain Grand Prix"
          ]
         ],
         "geo": "geo",
         "hovertemplate": "<b>%{hovertext}<b><br><b>%{customdata[1]}<b><br>occurence:  %{customdata[0]:,.0f}<br>",
         "hovertext": [
          "Bahrain International Circuit"
         ],
         "lat": [
          26.0325
         ],
         "legendgroup": "Bahrain",
         "lon": [
          50.5106
         ],
         "marker": {
          "color": "#FFA15A",
          "line": {
           "color": "black",
           "width": 0.5
          },
          "symbol": "circle"
         },
         "mode": "markers",
         "name": "Bahrain",
         "showlegend": true,
         "type": "scattergeo"
        },
        {
         "customdata": [
          [
           20,
           "South African Grand Prix"
          ],
          [
           3,
           "South African Grand Prix"
          ]
         ],
         "geo": "geo",
         "hovertemplate": "<b>%{hovertext}<b><br><b>%{customdata[1]}<b><br>occurence:  %{customdata[0]:,.0f}<br>",
         "hovertext": [
          "Kyalami",
          "Prince George Circuit"
         ],
         "lat": [
          -25.9894,
          -33.0486
         ],
         "legendgroup": "South Africa",
         "lon": [
          28.0767,
          27.8736
         ],
         "marker": {
          "color": "#19d3f3",
          "line": {
           "color": "black",
           "width": 0.5
          },
          "symbol": "circle"
         },
         "mode": "markers",
         "name": "South Africa",
         "showlegend": true,
         "type": "scattergeo"
        },
        {
         "customdata": [
          [
           20,
           "United States Grand Prix"
          ],
          [
           19,
           "Indianapolis 500"
          ],
          [
           12,
           "United States Grand Prix"
          ],
          [
           8,
           "United States Grand Prix West"
          ],
          [
           7,
           "Detroit Grand Prix"
          ],
          [
           3,
           "Miami Grand Prix"
          ],
          [
           3,
           "United States Grand Prix"
          ],
          [
           2,
           "Caesars Palace Grand Prix"
          ],
          [
           1,
           "Dallas Grand Prix"
          ],
          [
           1,
           "United States Grand Prix"
          ],
          [
           1,
           "United States Grand Prix"
          ]
         ],
         "geo": "geo",
         "hovertemplate": "<b>%{hovertext}<b><br><b>%{customdata[1]}<b><br>occurence:  %{customdata[0]:,.0f}<br>",
         "hovertext": [
          "Watkins Glen",
          "Indianapolis Motor Speedway",
          "Circuit of the Americas",
          "Long Beach",
          "Detroit Street Circuit",
          "Miami International Autodrome",
          "Phoenix street circuit",
          "Las Vegas Street Circuit",
          "Fair Park",
          "Riverside International Raceway",
          "Sebring International Raceway"
         ],
         "lat": [
          42.3369,
          39.795,
          30.1328,
          33.7651,
          42.3298,
          25.9581,
          33.4479,
          36.1162,
          32.7774,
          33.937,
          27.4547
         ],
         "legendgroup": "USA",
         "lon": [
          -76.9272,
          -86.2347,
          -97.6411,
          -118.189,
          -83.0401,
          -80.2389,
          -112.075,
          -115.174,
          -96.7587,
          -117.273,
          -81.3483
         ],
         "marker": {
          "color": "#FF6692",
          "line": {
           "color": "black",
           "width": 0.5
          },
          "symbol": "circle"
         },
         "mode": "markers",
         "name": "USA",
         "showlegend": true,
         "type": "scattergeo"
        },
        {
         "customdata": [
          [
           20,
           "Argentine Grand Prix"
          ]
         ],
         "geo": "geo",
         "hovertemplate": "<b>%{hovertext}<b><br><b>%{customdata[1]}<b><br>occurence:  %{customdata[0]:,.0f}<br>",
         "hovertext": [
          "Autódromo Juan y Oscar Gálvez"
         ],
         "lat": [
          -34.6943
         ],
         "legendgroup": "Argentina",
         "lon": [
          -58.4593
         ],
         "marker": {
          "color": "#B6E880",
          "line": {
           "color": "black",
           "width": 0.5
          },
          "symbol": "circle"
         },
         "mode": "markers",
         "name": "Argentina",
         "showlegend": true,
         "type": "scattergeo"
        },
        {
         "customdata": [
          [
           19,
           "Malaysian Grand Prix"
          ]
         ],
         "geo": "geo",
         "hovertemplate": "<b>%{hovertext}<b><br><b>%{customdata[1]}<b><br>occurence:  %{customdata[0]:,.0f}<br>",
         "hovertext": [
          "Sepang International Circuit"
         ],
         "lat": [
          2.76083
         ],
         "legendgroup": "Malaysia",
         "lon": [
          101.738
         ],
         "marker": {
          "color": "#FF97FF",
          "line": {
           "color": "black",
           "width": 0.5
          },
          "symbol": "circle"
         },
         "mode": "markers",
         "name": "Malaysia",
         "showlegend": true,
         "type": "scattergeo"
        },
        {
         "customdata": [
          [
           18,
           "French Grand Prix"
          ],
          [
           18,
           "French Grand Prix"
          ],
          [
           11,
           "French Grand Prix"
          ],
          [
           6,
           "French Grand Prix"
          ],
          [
           5,
           "French Grand Prix"
          ],
          [
           4,
           "French Grand Prix"
          ],
          [
           1,
           "French Grand Prix"
          ]
         ],
         "geo": "geo",
         "hovertemplate": "<b>%{hovertext}<b><br><b>%{customdata[1]}<b><br>occurence:  %{customdata[0]:,.0f}<br>",
         "hovertext": [
          "Circuit Paul Ricard",
          "Circuit de Nevers Magny-Cours",
          "Reims-Gueux",
          "Dijon-Prenois",
          "Rouen-Les-Essarts",
          "Charade Circuit",
          "Le Mans"
         ],
         "lat": [
          43.2506,
          46.8642,
          49.2542,
          47.3625,
          49.3306,
          45.7472,
          47.95
         ],
         "legendgroup": "France",
         "lon": [
          5.79167,
          3.16361,
          3.93083,
          4.89913,
          1.00458,
          3.03889,
          0.224231
         ],
         "marker": {
          "color": "#FECB52",
          "line": {
           "color": "black",
           "width": 0.5
          },
          "symbol": "circle"
         },
         "mode": "markers",
         "name": "France",
         "showlegend": true,
         "type": "scattergeo"
        },
        {
         "customdata": [
          [
           17,
           "Chinese Grand Prix"
          ]
         ],
         "geo": "geo",
         "hovertemplate": "<b>%{hovertext}<b><br><b>%{customdata[1]}<b><br>occurence:  %{customdata[0]:,.0f}<br>",
         "hovertext": [
          "Shanghai International Circuit"
         ],
         "lat": [
          31.3389
         ],
         "legendgroup": "China",
         "lon": [
          121.22
         ],
         "marker": {
          "color": "#636efa",
          "line": {
           "color": "black",
           "width": 0.5
          },
          "symbol": "circle"
         },
         "mode": "markers",
         "name": "China",
         "showlegend": true,
         "type": "scattergeo"
        },
        {
         "customdata": [
          [
           16,
           "Abu Dhabi Grand Prix"
          ]
         ],
         "geo": "geo",
         "hovertemplate": "<b>%{hovertext}<b><br><b>%{customdata[1]}<b><br>occurence:  %{customdata[0]:,.0f}<br>",
         "hovertext": [
          "Yas Marina Circuit"
         ],
         "lat": [
          24.4672
         ],
         "legendgroup": "UAE",
         "lon": [
          54.6031
         ],
         "marker": {
          "color": "#EF553B",
          "line": {
           "color": "black",
           "width": 0.5
          },
          "symbol": "circle"
         },
         "mode": "markers",
         "name": "UAE",
         "showlegend": true,
         "type": "scattergeo"
        },
        {
         "customdata": [
          [
           15,
           "Singapore Grand Prix"
          ]
         ],
         "geo": "geo",
         "hovertemplate": "<b>%{hovertext}<b><br><b>%{customdata[1]}<b><br>occurence:  %{customdata[0]:,.0f}<br>",
         "hovertext": [
          "Marina Bay Street Circuit"
         ],
         "lat": [
          1.2914
         ],
         "legendgroup": "Singapore",
         "lon": [
          103.864
         ],
         "marker": {
          "color": "#00cc96",
          "line": {
           "color": "black",
           "width": 0.5
          },
          "symbol": "circle"
         },
         "mode": "markers",
         "name": "Singapore",
         "showlegend": true,
         "type": "scattergeo"
        },
        {
         "customdata": [
          [
           13,
           "Portuguese Grand Prix"
          ],
          [
           2,
           "Portuguese Grand Prix"
          ],
          [
           2,
           "Portuguese Grand Prix"
          ],
          [
           1,
           "Portuguese Grand Prix"
          ]
         ],
         "geo": "geo",
         "hovertemplate": "<b>%{hovertext}<b><br><b>%{customdata[1]}<b><br>occurence:  %{customdata[0]:,.0f}<br>",
         "hovertext": [
          "Autódromo do Estoril",
          "Autódromo Internacional do Algarve",
          "Circuito da Boavista",
          "Monsanto Park Circuit"
         ],
         "lat": [
          38.7506,
          37.227,
          41.1705,
          38.7197
         ],
         "legendgroup": "Portugal",
         "lon": [
          -9.39417,
          -8.6267,
          -8.67325,
          -9.20306
         ],
         "marker": {
          "color": "#ab63fa",
          "line": {
           "color": "black",
           "width": 0.5
          },
          "symbol": "circle"
         },
         "mode": "markers",
         "name": "Portugal",
         "showlegend": true,
         "type": "scattergeo"
        },
        {
         "customdata": [
          [
           9,
           "Turkish Grand Prix"
          ]
         ],
         "geo": "geo",
         "hovertemplate": "<b>%{hovertext}<b><br><b>%{customdata[1]}<b><br>occurence:  %{customdata[0]:,.0f}<br>",
         "hovertext": [
          "Istanbul Park"
         ],
         "lat": [
          40.9517
         ],
         "legendgroup": "Turkey",
         "lon": [
          29.405
         ],
         "marker": {
          "color": "#FFA15A",
          "line": {
           "color": "black",
           "width": 0.5
          },
          "symbol": "circle"
         },
         "mode": "markers",
         "name": "Turkey",
         "showlegend": true,
         "type": "scattergeo"
        },
        {
         "customdata": [
          [
           8,
           "European Grand Prix"
          ]
         ],
         "geo": "geo",
         "hovertemplate": "<b>%{hovertext}<b><br><b>%{customdata[1]}<b><br>occurence:  %{customdata[0]:,.0f}<br>",
         "hovertext": [
          "Baku City Circuit"
         ],
         "lat": [
          40.3725
         ],
         "legendgroup": "Azerbaijan",
         "lon": [
          49.8533
         ],
         "marker": {
          "color": "#19d3f3",
          "line": {
           "color": "black",
           "width": 0.5
          },
          "symbol": "circle"
         },
         "mode": "markers",
         "name": "Azerbaijan",
         "showlegend": true,
         "type": "scattergeo"
        },
        {
         "customdata": [
          [
           8,
           "Russian Grand Prix"
          ]
         ],
         "geo": "geo",
         "hovertemplate": "<b>%{hovertext}<b><br><b>%{customdata[1]}<b><br>occurence:  %{customdata[0]:,.0f}<br>",
         "hovertext": [
          "Sochi Autodrom"
         ],
         "lat": [
          43.4057
         ],
         "legendgroup": "Russia",
         "lon": [
          39.9578
         ],
         "marker": {
          "color": "#FF6692",
          "line": {
           "color": "black",
           "width": 0.5
          },
          "symbol": "circle"
         },
         "mode": "markers",
         "name": "Russia",
         "showlegend": true,
         "type": "scattergeo"
        },
        {
         "customdata": [
          [
           6,
           "Swedish Grand Prix"
          ]
         ],
         "geo": "geo",
         "hovertemplate": "<b>%{hovertext}<b><br><b>%{customdata[1]}<b><br>occurence:  %{customdata[0]:,.0f}<br>",
         "hovertext": [
          "Scandinavian Raceway"
         ],
         "lat": [
          57.2653
         ],
         "legendgroup": "Sweden",
         "lon": [
          13.6042
         ],
         "marker": {
          "color": "#B6E880",
          "line": {
           "color": "black",
           "width": 0.5
          },
          "symbol": "circle"
         },
         "mode": "markers",
         "name": "Sweden",
         "showlegend": true,
         "type": "scattergeo"
        },
        {
         "customdata": [
          [
           5,
           "Swiss Grand Prix"
          ]
         ],
         "geo": "geo",
         "hovertemplate": "<b>%{hovertext}<b><br><b>%{customdata[1]}<b><br>occurence:  %{customdata[0]:,.0f}<br>",
         "hovertext": [
          "Circuit Bremgarten"
         ],
         "lat": [
          46.9589
         ],
         "legendgroup": "Switzerland",
         "lon": [
          7.40194
         ],
         "marker": {
          "color": "#FF97FF",
          "line": {
           "color": "black",
           "width": 0.5
          },
          "symbol": "circle"
         },
         "mode": "markers",
         "name": "Switzerland",
         "showlegend": true,
         "type": "scattergeo"
        },
        {
         "customdata": [
          [
           4,
           "Saudi Arabian Grand Prix"
          ]
         ],
         "geo": "geo",
         "hovertemplate": "<b>%{hovertext}<b><br><b>%{customdata[1]}<b><br>occurence:  %{customdata[0]:,.0f}<br>",
         "hovertext": [
          "Jeddah Corniche Circuit"
         ],
         "lat": [
          21.6319
         ],
         "legendgroup": "Saudi Arabia",
         "lon": [
          39.1044
         ],
         "marker": {
          "color": "#FECB52",
          "line": {
           "color": "black",
           "width": 0.5
          },
          "symbol": "circle"
         },
         "mode": "markers",
         "name": "Saudi Arabia",
         "showlegend": true,
         "type": "scattergeo"
        },
        {
         "customdata": [
          [
           4,
           "Korean Grand Prix"
          ]
         ],
         "geo": "geo",
         "hovertemplate": "<b>%{hovertext}<b><br><b>%{customdata[1]}<b><br>occurence:  %{customdata[0]:,.0f}<br>",
         "hovertext": [
          "Korean International Circuit"
         ],
         "lat": [
          34.7333
         ],
         "legendgroup": "Korea",
         "lon": [
          126.417
         ],
         "marker": {
          "color": "#636efa",
          "line": {
           "color": "black",
           "width": 0.5
          },
          "symbol": "circle"
         },
         "mode": "markers",
         "name": "Korea",
         "showlegend": true,
         "type": "scattergeo"
        },
        {
         "customdata": [
          [
           3,
           "Qatar Grand Prix"
          ]
         ],
         "geo": "geo",
         "hovertemplate": "<b>%{hovertext}<b><br><b>%{customdata[1]}<b><br>occurence:  %{customdata[0]:,.0f}<br>",
         "hovertext": [
          "Losail International Circuit"
         ],
         "lat": [
          25.49
         ],
         "legendgroup": "Qatar",
         "lon": [
          51.4542
         ],
         "marker": {
          "color": "#EF553B",
          "line": {
           "color": "black",
           "width": 0.5
          },
          "symbol": "circle"
         },
         "mode": "markers",
         "name": "Qatar",
         "showlegend": true,
         "type": "scattergeo"
        },
        {
         "customdata": [
          [
           3,
           "Indian Grand Prix"
          ]
         ],
         "geo": "geo",
         "hovertemplate": "<b>%{hovertext}<b><br><b>%{customdata[1]}<b><br>occurence:  %{customdata[0]:,.0f}<br>",
         "hovertext": [
          "Buddh International Circuit"
         ],
         "lat": [
          28.3487
         ],
         "legendgroup": "India",
         "lon": [
          77.5331
         ],
         "marker": {
          "color": "#00cc96",
          "line": {
           "color": "black",
           "width": 0.5
          },
          "symbol": "circle"
         },
         "mode": "markers",
         "name": "India",
         "showlegend": true,
         "type": "scattergeo"
        },
        {
         "customdata": [
          [
           2,
           "Las Vegas Grand Prix"
          ]
         ],
         "geo": "geo",
         "hovertemplate": "<b>%{hovertext}<b><br><b>%{customdata[1]}<b><br>occurence:  %{customdata[0]:,.0f}<br>",
         "hovertext": [
          "Las Vegas Strip Street Circuit"
         ],
         "lat": [
          36.1147
         ],
         "legendgroup": "United States",
         "lon": [
          -115.173
         ],
         "marker": {
          "color": "#ab63fa",
          "line": {
           "color": "black",
           "width": 0.5
          },
          "symbol": "circle"
         },
         "mode": "markers",
         "name": "United States",
         "showlegend": true,
         "type": "scattergeo"
        },
        {
         "customdata": [
          [
           1,
           "Moroccan Grand Prix"
          ]
         ],
         "geo": "geo",
         "hovertemplate": "<b>%{hovertext}<b><br><b>%{customdata[1]}<b><br>occurence:  %{customdata[0]:,.0f}<br>",
         "hovertext": [
          "Ain Diab"
         ],
         "lat": [
          33.5786
         ],
         "legendgroup": "Morocco",
         "lon": [
          -7.6875
         ],
         "marker": {
          "color": "#FFA15A",
          "line": {
           "color": "black",
           "width": 0.5
          },
          "symbol": "circle"
         },
         "mode": "markers",
         "name": "Morocco",
         "showlegend": true,
         "type": "scattergeo"
        }
       ],
       "layout": {
        "geo": {
         "center": {},
         "domain": {
          "x": [
           0,
           1
          ],
          "y": [
           0,
           1
          ]
         },
         "projection": {
          "type": "natural earth"
         }
        },
        "legend": {
         "title": {
          "text": "country"
         },
         "tracegroupgap": 0
        },
        "margin": {
         "t": 60
        },
        "template": {
         "data": {
          "bar": [
           {
            "error_x": {
             "color": "#2a3f5f"
            },
            "error_y": {
             "color": "#2a3f5f"
            },
            "marker": {
             "line": {
              "color": "#E5ECF6",
              "width": 0.5
             },
             "pattern": {
              "fillmode": "overlay",
              "size": 10,
              "solidity": 0.2
             }
            },
            "type": "bar"
           }
          ],
          "barpolar": [
           {
            "marker": {
             "line": {
              "color": "#E5ECF6",
              "width": 0.5
             },
             "pattern": {
              "fillmode": "overlay",
              "size": 10,
              "solidity": 0.2
             }
            },
            "type": "barpolar"
           }
          ],
          "carpet": [
           {
            "aaxis": {
             "endlinecolor": "#2a3f5f",
             "gridcolor": "white",
             "linecolor": "white",
             "minorgridcolor": "white",
             "startlinecolor": "#2a3f5f"
            },
            "baxis": {
             "endlinecolor": "#2a3f5f",
             "gridcolor": "white",
             "linecolor": "white",
             "minorgridcolor": "white",
             "startlinecolor": "#2a3f5f"
            },
            "type": "carpet"
           }
          ],
          "choropleth": [
           {
            "colorbar": {
             "outlinewidth": 0,
             "ticks": ""
            },
            "type": "choropleth"
           }
          ],
          "contour": [
           {
            "colorbar": {
             "outlinewidth": 0,
             "ticks": ""
            },
            "colorscale": [
             [
              0,
              "#0d0887"
             ],
             [
              0.1111111111111111,
              "#46039f"
             ],
             [
              0.2222222222222222,
              "#7201a8"
             ],
             [
              0.3333333333333333,
              "#9c179e"
             ],
             [
              0.4444444444444444,
              "#bd3786"
             ],
             [
              0.5555555555555556,
              "#d8576b"
             ],
             [
              0.6666666666666666,
              "#ed7953"
             ],
             [
              0.7777777777777778,
              "#fb9f3a"
             ],
             [
              0.8888888888888888,
              "#fdca26"
             ],
             [
              1,
              "#f0f921"
             ]
            ],
            "type": "contour"
           }
          ],
          "contourcarpet": [
           {
            "colorbar": {
             "outlinewidth": 0,
             "ticks": ""
            },
            "type": "contourcarpet"
           }
          ],
          "heatmap": [
           {
            "colorbar": {
             "outlinewidth": 0,
             "ticks": ""
            },
            "colorscale": [
             [
              0,
              "#0d0887"
             ],
             [
              0.1111111111111111,
              "#46039f"
             ],
             [
              0.2222222222222222,
              "#7201a8"
             ],
             [
              0.3333333333333333,
              "#9c179e"
             ],
             [
              0.4444444444444444,
              "#bd3786"
             ],
             [
              0.5555555555555556,
              "#d8576b"
             ],
             [
              0.6666666666666666,
              "#ed7953"
             ],
             [
              0.7777777777777778,
              "#fb9f3a"
             ],
             [
              0.8888888888888888,
              "#fdca26"
             ],
             [
              1,
              "#f0f921"
             ]
            ],
            "type": "heatmap"
           }
          ],
          "heatmapgl": [
           {
            "colorbar": {
             "outlinewidth": 0,
             "ticks": ""
            },
            "colorscale": [
             [
              0,
              "#0d0887"
             ],
             [
              0.1111111111111111,
              "#46039f"
             ],
             [
              0.2222222222222222,
              "#7201a8"
             ],
             [
              0.3333333333333333,
              "#9c179e"
             ],
             [
              0.4444444444444444,
              "#bd3786"
             ],
             [
              0.5555555555555556,
              "#d8576b"
             ],
             [
              0.6666666666666666,
              "#ed7953"
             ],
             [
              0.7777777777777778,
              "#fb9f3a"
             ],
             [
              0.8888888888888888,
              "#fdca26"
             ],
             [
              1,
              "#f0f921"
             ]
            ],
            "type": "heatmapgl"
           }
          ],
          "histogram": [
           {
            "marker": {
             "pattern": {
              "fillmode": "overlay",
              "size": 10,
              "solidity": 0.2
             }
            },
            "type": "histogram"
           }
          ],
          "histogram2d": [
           {
            "colorbar": {
             "outlinewidth": 0,
             "ticks": ""
            },
            "colorscale": [
             [
              0,
              "#0d0887"
             ],
             [
              0.1111111111111111,
              "#46039f"
             ],
             [
              0.2222222222222222,
              "#7201a8"
             ],
             [
              0.3333333333333333,
              "#9c179e"
             ],
             [
              0.4444444444444444,
              "#bd3786"
             ],
             [
              0.5555555555555556,
              "#d8576b"
             ],
             [
              0.6666666666666666,
              "#ed7953"
             ],
             [
              0.7777777777777778,
              "#fb9f3a"
             ],
             [
              0.8888888888888888,
              "#fdca26"
             ],
             [
              1,
              "#f0f921"
             ]
            ],
            "type": "histogram2d"
           }
          ],
          "histogram2dcontour": [
           {
            "colorbar": {
             "outlinewidth": 0,
             "ticks": ""
            },
            "colorscale": [
             [
              0,
              "#0d0887"
             ],
             [
              0.1111111111111111,
              "#46039f"
             ],
             [
              0.2222222222222222,
              "#7201a8"
             ],
             [
              0.3333333333333333,
              "#9c179e"
             ],
             [
              0.4444444444444444,
              "#bd3786"
             ],
             [
              0.5555555555555556,
              "#d8576b"
             ],
             [
              0.6666666666666666,
              "#ed7953"
             ],
             [
              0.7777777777777778,
              "#fb9f3a"
             ],
             [
              0.8888888888888888,
              "#fdca26"
             ],
             [
              1,
              "#f0f921"
             ]
            ],
            "type": "histogram2dcontour"
           }
          ],
          "mesh3d": [
           {
            "colorbar": {
             "outlinewidth": 0,
             "ticks": ""
            },
            "type": "mesh3d"
           }
          ],
          "parcoords": [
           {
            "line": {
             "colorbar": {
              "outlinewidth": 0,
              "ticks": ""
             }
            },
            "type": "parcoords"
           }
          ],
          "pie": [
           {
            "automargin": true,
            "type": "pie"
           }
          ],
          "scatter": [
           {
            "fillpattern": {
             "fillmode": "overlay",
             "size": 10,
             "solidity": 0.2
            },
            "type": "scatter"
           }
          ],
          "scatter3d": [
           {
            "line": {
             "colorbar": {
              "outlinewidth": 0,
              "ticks": ""
             }
            },
            "marker": {
             "colorbar": {
              "outlinewidth": 0,
              "ticks": ""
             }
            },
            "type": "scatter3d"
           }
          ],
          "scattercarpet": [
           {
            "marker": {
             "colorbar": {
              "outlinewidth": 0,
              "ticks": ""
             }
            },
            "type": "scattercarpet"
           }
          ],
          "scattergeo": [
           {
            "marker": {
             "colorbar": {
              "outlinewidth": 0,
              "ticks": ""
             }
            },
            "type": "scattergeo"
           }
          ],
          "scattergl": [
           {
            "marker": {
             "colorbar": {
              "outlinewidth": 0,
              "ticks": ""
             }
            },
            "type": "scattergl"
           }
          ],
          "scattermapbox": [
           {
            "marker": {
             "colorbar": {
              "outlinewidth": 0,
              "ticks": ""
             }
            },
            "type": "scattermapbox"
           }
          ],
          "scatterpolar": [
           {
            "marker": {
             "colorbar": {
              "outlinewidth": 0,
              "ticks": ""
             }
            },
            "type": "scatterpolar"
           }
          ],
          "scatterpolargl": [
           {
            "marker": {
             "colorbar": {
              "outlinewidth": 0,
              "ticks": ""
             }
            },
            "type": "scatterpolargl"
           }
          ],
          "scatterternary": [
           {
            "marker": {
             "colorbar": {
              "outlinewidth": 0,
              "ticks": ""
             }
            },
            "type": "scatterternary"
           }
          ],
          "surface": [
           {
            "colorbar": {
             "outlinewidth": 0,
             "ticks": ""
            },
            "colorscale": [
             [
              0,
              "#0d0887"
             ],
             [
              0.1111111111111111,
              "#46039f"
             ],
             [
              0.2222222222222222,
              "#7201a8"
             ],
             [
              0.3333333333333333,
              "#9c179e"
             ],
             [
              0.4444444444444444,
              "#bd3786"
             ],
             [
              0.5555555555555556,
              "#d8576b"
             ],
             [
              0.6666666666666666,
              "#ed7953"
             ],
             [
              0.7777777777777778,
              "#fb9f3a"
             ],
             [
              0.8888888888888888,
              "#fdca26"
             ],
             [
              1,
              "#f0f921"
             ]
            ],
            "type": "surface"
           }
          ],
          "table": [
           {
            "cells": {
             "fill": {
              "color": "#EBF0F8"
             },
             "line": {
              "color": "white"
             }
            },
            "header": {
             "fill": {
              "color": "#C8D4E3"
             },
             "line": {
              "color": "white"
             }
            },
            "type": "table"
           }
          ]
         },
         "layout": {
          "annotationdefaults": {
           "arrowcolor": "#2a3f5f",
           "arrowhead": 0,
           "arrowwidth": 1
          },
          "autotypenumbers": "strict",
          "coloraxis": {
           "colorbar": {
            "outlinewidth": 0,
            "ticks": ""
           }
          },
          "colorscale": {
           "diverging": [
            [
             0,
             "#8e0152"
            ],
            [
             0.1,
             "#c51b7d"
            ],
            [
             0.2,
             "#de77ae"
            ],
            [
             0.3,
             "#f1b6da"
            ],
            [
             0.4,
             "#fde0ef"
            ],
            [
             0.5,
             "#f7f7f7"
            ],
            [
             0.6,
             "#e6f5d0"
            ],
            [
             0.7,
             "#b8e186"
            ],
            [
             0.8,
             "#7fbc41"
            ],
            [
             0.9,
             "#4d9221"
            ],
            [
             1,
             "#276419"
            ]
           ],
           "sequential": [
            [
             0,
             "#0d0887"
            ],
            [
             0.1111111111111111,
             "#46039f"
            ],
            [
             0.2222222222222222,
             "#7201a8"
            ],
            [
             0.3333333333333333,
             "#9c179e"
            ],
            [
             0.4444444444444444,
             "#bd3786"
            ],
            [
             0.5555555555555556,
             "#d8576b"
            ],
            [
             0.6666666666666666,
             "#ed7953"
            ],
            [
             0.7777777777777778,
             "#fb9f3a"
            ],
            [
             0.8888888888888888,
             "#fdca26"
            ],
            [
             1,
             "#f0f921"
            ]
           ],
           "sequentialminus": [
            [
             0,
             "#0d0887"
            ],
            [
             0.1111111111111111,
             "#46039f"
            ],
            [
             0.2222222222222222,
             "#7201a8"
            ],
            [
             0.3333333333333333,
             "#9c179e"
            ],
            [
             0.4444444444444444,
             "#bd3786"
            ],
            [
             0.5555555555555556,
             "#d8576b"
            ],
            [
             0.6666666666666666,
             "#ed7953"
            ],
            [
             0.7777777777777778,
             "#fb9f3a"
            ],
            [
             0.8888888888888888,
             "#fdca26"
            ],
            [
             1,
             "#f0f921"
            ]
           ]
          },
          "colorway": [
           "#636efa",
           "#EF553B",
           "#00cc96",
           "#ab63fa",
           "#FFA15A",
           "#19d3f3",
           "#FF6692",
           "#B6E880",
           "#FF97FF",
           "#FECB52"
          ],
          "font": {
           "color": "#2a3f5f"
          },
          "geo": {
           "bgcolor": "white",
           "lakecolor": "white",
           "landcolor": "#E5ECF6",
           "showlakes": true,
           "showland": true,
           "subunitcolor": "white"
          },
          "hoverlabel": {
           "align": "left"
          },
          "hovermode": "closest",
          "mapbox": {
           "style": "light"
          },
          "paper_bgcolor": "white",
          "plot_bgcolor": "#E5ECF6",
          "polar": {
           "angularaxis": {
            "gridcolor": "white",
            "linecolor": "white",
            "ticks": ""
           },
           "bgcolor": "#E5ECF6",
           "radialaxis": {
            "gridcolor": "white",
            "linecolor": "white",
            "ticks": ""
           }
          },
          "scene": {
           "xaxis": {
            "backgroundcolor": "#E5ECF6",
            "gridcolor": "white",
            "gridwidth": 2,
            "linecolor": "white",
            "showbackground": true,
            "ticks": "",
            "zerolinecolor": "white"
           },
           "yaxis": {
            "backgroundcolor": "#E5ECF6",
            "gridcolor": "white",
            "gridwidth": 2,
            "linecolor": "white",
            "showbackground": true,
            "ticks": "",
            "zerolinecolor": "white"
           },
           "zaxis": {
            "backgroundcolor": "#E5ECF6",
            "gridcolor": "white",
            "gridwidth": 2,
            "linecolor": "white",
            "showbackground": true,
            "ticks": "",
            "zerolinecolor": "white"
           }
          },
          "shapedefaults": {
           "line": {
            "color": "#2a3f5f"
           }
          },
          "ternary": {
           "aaxis": {
            "gridcolor": "white",
            "linecolor": "white",
            "ticks": ""
           },
           "baxis": {
            "gridcolor": "white",
            "linecolor": "white",
            "ticks": ""
           },
           "bgcolor": "#E5ECF6",
           "caxis": {
            "gridcolor": "white",
            "linecolor": "white",
            "ticks": ""
           }
          },
          "title": {
           "x": 0.05
          },
          "xaxis": {
           "automargin": true,
           "gridcolor": "white",
           "linecolor": "white",
           "ticks": "",
           "title": {
            "standoff": 15
           },
           "zerolinecolor": "white",
           "zerolinewidth": 2
          },
          "yaxis": {
           "automargin": true,
           "gridcolor": "white",
           "linecolor": "white",
           "ticks": "",
           "title": {
            "standoff": 15
           },
           "zerolinecolor": "white",
           "zerolinewidth": 2
          }
         }
        }
       }
      }
     },
     "metadata": {},
     "output_type": "display_data"
    }
   ],
   "source": [
    "#utilizing the scatte_geo to plot the circuit_df in geographical manner\n",
    "fig = px.scatter_geo(data_frame= Circuit_df, lat= 'lat', lon= 'lng', hover_name= 'name',\n",
    "                     hover_data= {'occurence': True, 'grand_prix': True},\n",
    "                     projection= 'natural earth',\n",
    "                     color= 'country')\n",
    "fig.update_traces(marker = dict(line= dict(width= 0.5, color= 'black')),\n",
    "                  hovertemplate= \"<b>%{hovertext}<b><br>\"+\n",
    "                                 \"<b>%{customdata[1]}<b><br>\"+\n",
    "                                 \"occurence:  %{customdata[0]:,.0f}<br>\"\n",
    "                    )\n",
    "fig.show()"
   ]
  },
  {
   "cell_type": "markdown",
   "metadata": {},
   "source": [
    "\n",
    "*Circuit Distribution and occurence* <br>\n",
    "<img src=\"graphs plotly/Circuit distribution and occurence.png\" alt=\"Circuit Distribution and Occurrence\" width=\"600\">\n",
    "\n"
   ]
  },
  {
   "cell_type": "markdown",
   "metadata": {},
   "source": [
    "#### **Driver Performance**\n",
    "*If you no longer go for a gap that exists, you're no longer a racing driver - Ayrton Senna*\n",
    "\n",
    "- Formula One boasts a rich history of extraordinary drivers, from legends like Alain Prost, Niki Lauda, and Ayrton Senna to modern champions such as Michael Schumacher, Sebastian Vettel, Fernando Alonso, Lewis Hamilton, and Max Verstappen.\n",
    "- A Grand Prix winner is crowned when a driver finishes the race in first place. Over the decades, many drivers have achieved remarkable success, setting historic records with their victories.\n",
    "- **Objective:**\n",
    "    - Identify the top 10 drivers with the most Grand Prix wins by calculating how many times each driver has finished in position = 1.\n",
    "    - Represent this data visually using a bar plot for clear comparison."
   ]
  },
  {
   "cell_type": "code",
   "execution_count": 24,
   "metadata": {},
   "outputs": [
    {
     "data": {
      "text/html": [
       "<div>\n",
       "<style scoped>\n",
       "    .dataframe tbody tr th:only-of-type {\n",
       "        vertical-align: middle;\n",
       "    }\n",
       "\n",
       "    .dataframe tbody tr th {\n",
       "        vertical-align: top;\n",
       "    }\n",
       "\n",
       "    .dataframe thead th {\n",
       "        text-align: right;\n",
       "    }\n",
       "</style>\n",
       "<table border=\"1\" class=\"dataframe\">\n",
       "  <thead>\n",
       "    <tr style=\"text-align: right;\">\n",
       "      <th></th>\n",
       "      <th>Name</th>\n",
       "      <th>wins</th>\n",
       "    </tr>\n",
       "  </thead>\n",
       "  <tbody>\n",
       "    <tr>\n",
       "      <th>0</th>\n",
       "      <td>Lewis Hamilton</td>\n",
       "      <td>104</td>\n",
       "    </tr>\n",
       "    <tr>\n",
       "      <th>1</th>\n",
       "      <td>Michael Schumacher</td>\n",
       "      <td>91</td>\n",
       "    </tr>\n",
       "    <tr>\n",
       "      <th>2</th>\n",
       "      <td>Max Verstappen</td>\n",
       "      <td>61</td>\n",
       "    </tr>\n",
       "    <tr>\n",
       "      <th>3</th>\n",
       "      <td>Sebastian Vettel</td>\n",
       "      <td>53</td>\n",
       "    </tr>\n",
       "    <tr>\n",
       "      <th>4</th>\n",
       "      <td>Alain Prost</td>\n",
       "      <td>51</td>\n",
       "    </tr>\n",
       "    <tr>\n",
       "      <th>...</th>\n",
       "      <td>...</td>\n",
       "      <td>...</td>\n",
       "    </tr>\n",
       "    <tr>\n",
       "      <th>109</th>\n",
       "      <td>Jean Alesi</td>\n",
       "      <td>1</td>\n",
       "    </tr>\n",
       "    <tr>\n",
       "      <th>110</th>\n",
       "      <td>Olivier Panis</td>\n",
       "      <td>1</td>\n",
       "    </tr>\n",
       "    <tr>\n",
       "      <th>111</th>\n",
       "      <td>Jarno Trulli</td>\n",
       "      <td>1</td>\n",
       "    </tr>\n",
       "    <tr>\n",
       "      <th>112</th>\n",
       "      <td>Robert Kubica</td>\n",
       "      <td>1</td>\n",
       "    </tr>\n",
       "    <tr>\n",
       "      <th>113</th>\n",
       "      <td>Heikki Kovalainen</td>\n",
       "      <td>1</td>\n",
       "    </tr>\n",
       "  </tbody>\n",
       "</table>\n",
       "<p>114 rows × 2 columns</p>\n",
       "</div>"
      ],
      "text/plain": [
       "                   Name  wins\n",
       "0        Lewis Hamilton   104\n",
       "1    Michael Schumacher    91\n",
       "2        Max Verstappen    61\n",
       "3      Sebastian Vettel    53\n",
       "4           Alain Prost    51\n",
       "..                  ...   ...\n",
       "109          Jean Alesi     1\n",
       "110       Olivier Panis     1\n",
       "111        Jarno Trulli     1\n",
       "112       Robert Kubica     1\n",
       "113   Heikki Kovalainen     1\n",
       "\n",
       "[114 rows x 2 columns]"
      ]
     },
     "execution_count": 24,
     "metadata": {},
     "output_type": "execute_result"
    }
   ],
   "source": [
    "#driver performance \n",
    "query = \"\"\"\n",
    "        SELECT drivers.Name, COUNT(results.position) AS wins\n",
    "        FROM drivers\n",
    "        JOIN results ON drivers.driverId = results.driverId\n",
    "        WHERE results.position = 1\n",
    "        GROUP BY drivers.driverId\n",
    "        ORDER BY wins DESC\n",
    "        \"\"\"\n",
    "driver_performance = pd.read_sql(query, engine)\n",
    "driver_performance"
   ]
  },
  {
   "cell_type": "code",
   "execution_count": 25,
   "metadata": {},
   "outputs": [
    {
     "data": {
      "image/png": "[encoded data removed]",
      "text/plain": [
       "<Figure size 800x600 with 1 Axes>"
      ]
     },
     "metadata": {},
     "output_type": "display_data"
    }
   ],
   "source": [
    "#Plotting the data on seaborn bar plot\n",
    "plt.figure(figsize= (8,6))\n",
    "ax = sns.barplot(data= driver_performance.head(10), x= 'Name',y= 'wins', hue= 'Name')\n",
    "plt.title('Top 10 Drivers in Formual One')\n",
    "plt.ylabel('total wins')\n",
    "plt.xlabel('Drivers')\n",
    "plt.xticks(rotation = -45, ha= 'left',va= 'top')\n",
    "for p in ax.patches:\n",
    "    ax.annotate(f'{p.get_height(): .0f}',\n",
    "                (p.get_x() + p.get_width() / 2., p.get_height()), \n",
    "                ha='center', \n",
    "                va='bottom', \n",
    "                xytext=(0, 5),  # Offset to move text 5 points above the bar\n",
    "                textcoords='offset points')\n",
    "plt.show()"
   ]
  },
  {
   "cell_type": "markdown",
   "metadata": {},
   "source": [
    "### Driver Championship\n",
    "*The championship isn’t won in a single race. It’s a journey of consistency, adaptability, and seizing every opportunity<br>- Lewis Hamilton (7-time F1 World Champion)*\n",
    "- In Formula One, every driver aspires to achieve the ultimate accolade: the Drivers' Championship. However, only a select few succeed in turning this dream into reality.\n",
    "- The Drivers' Championship is awarded at the end of each season to the driver with the most points accumulated across all Grand Prix events. This honor symbolizes not only individual excellence but also resilience, adaptability, and consistency over the course of a demanding season.\n",
    "- **Objective:** Using historical F1 data from 1950 to 2023, we identified all Drivers' Championship winners and calculated the total number of titles won by each driver. The results were visualized in a bar graph, showcasing the legends of the sport and their dominance across different eras."
   ]
  },
  {
   "cell_type": "code",
   "execution_count": 26,
   "metadata": {},
   "outputs": [
    {
     "data": {
      "text/html": [
       "<div>\n",
       "<style scoped>\n",
       "    .dataframe tbody tr th:only-of-type {\n",
       "        vertical-align: middle;\n",
       "    }\n",
       "\n",
       "    .dataframe tbody tr th {\n",
       "        vertical-align: top;\n",
       "    }\n",
       "\n",
       "    .dataframe thead th {\n",
       "        text-align: right;\n",
       "    }\n",
       "</style>\n",
       "<table border=\"1\" class=\"dataframe\">\n",
       "  <thead>\n",
       "    <tr style=\"text-align: right;\">\n",
       "      <th></th>\n",
       "      <th>year</th>\n",
       "      <th>Name</th>\n",
       "    </tr>\n",
       "  </thead>\n",
       "  <tbody>\n",
       "    <tr>\n",
       "      <th>0</th>\n",
       "      <td>2023</td>\n",
       "      <td>Max Verstappen</td>\n",
       "    </tr>\n",
       "    <tr>\n",
       "      <th>1</th>\n",
       "      <td>2022</td>\n",
       "      <td>Max Verstappen</td>\n",
       "    </tr>\n",
       "    <tr>\n",
       "      <th>2</th>\n",
       "      <td>2021</td>\n",
       "      <td>Max Verstappen</td>\n",
       "    </tr>\n",
       "    <tr>\n",
       "      <th>3</th>\n",
       "      <td>2020</td>\n",
       "      <td>Lewis Hamilton</td>\n",
       "    </tr>\n",
       "    <tr>\n",
       "      <th>4</th>\n",
       "      <td>2019</td>\n",
       "      <td>Lewis Hamilton</td>\n",
       "    </tr>\n",
       "  </tbody>\n",
       "</table>\n",
       "</div>"
      ],
      "text/plain": [
       "   year            Name\n",
       "0  2023  Max Verstappen\n",
       "1  2022  Max Verstappen\n",
       "2  2021  Max Verstappen\n",
       "3  2020  Lewis Hamilton\n",
       "4  2019  Lewis Hamilton"
      ]
     },
     "execution_count": 26,
     "metadata": {},
     "output_type": "execute_result"
    }
   ],
   "source": [
    "query = \"\"\"    \n",
    "SELECT year, name \n",
    "FROM driver_standings AS ds\n",
    "JOIN(\n",
    "SELECT year, raceId \n",
    "FROM races\n",
    "GROUP BY year\n",
    "HAVING MAX(round)\n",
    ")AS max_race\n",
    "ON max_race.raceId = ds.raceId\n",
    "JOIN drivers AS d\n",
    "ON d.driverId = ds.driverId\n",
    "WHERE position = 1\n",
    "ORDER BY year DESC\n",
    "\"\"\"\n",
    "driver_championship_df = pd.read_sql(query, engine)\n",
    "driver_championship_df.head()"
   ]
  },
  {
   "cell_type": "code",
   "execution_count": 27,
   "metadata": {},
   "outputs": [],
   "source": [
    "driver_championship_df = driver_championship_df.groupby(by= 'Name').size().reset_index(name= 'Driver Championship Wins').sort_values(by= 'Driver Championship Wins', ascending= False)"
   ]
  },
  {
   "cell_type": "code",
   "execution_count": 28,
   "metadata": {},
   "outputs": [],
   "source": [
    "driver_championship_df.reset_index(drop= True, inplace=True)"
   ]
  },
  {
   "cell_type": "code",
   "execution_count": 29,
   "metadata": {},
   "outputs": [
    {
     "data": {
      "image/png": "[encoded data removed]",
      "text/plain": [
       "<Figure size 1000x500 with 1 Axes>"
      ]
     },
     "metadata": {},
     "output_type": "display_data"
    }
   ],
   "source": [
    "plt.figure(figsize = (10,5))\n",
    "sns.barplot(data= driver_championship_df, x= 'Name', y= 'Driver Championship Wins', hue= 'Name')\n",
    "plt.xlabel('Driver')\n",
    "plt.xticks(rotation = -45, ha= 'left', va= 'top', fontsize= 8)\n",
    "plt.title('Driver Championship winners')\n",
    "plt.show()"
   ]
  },
  {
   "cell_type": "markdown",
   "metadata": {},
   "source": [
    "#### **Total Constructor Wins**\n",
    "*Formula 1 is not just about the driver; it’s about every single person at the factory. Without them, there’s no car<br> - Toto Wolf* *(Mercedes-AMG Team Principal.)*\n",
    "\n",
    "- Formula One has witnessed numerous legendary constructors (teams) throughout its history. Among them, Ferrari stands out as the only team to have participated in every F1 season since 1950.\n",
    "- In Formula One, the most successful constructor of a Grand Prix is determined by the team accumulating the most points from that race. Over the years, several teams have achieved remarkable success, leaving their mark on the sport's history.\n",
    "- **Objective**:\n",
    "    -Calculate the total number of constructor wins for each team and visualize their achievements to understand the dominance of various constructors across different eras."
   ]
  },
  {
   "cell_type": "code",
   "execution_count": 30,
   "metadata": {},
   "outputs": [
    {
     "data": {
      "text/html": [
       "<div>\n",
       "<style scoped>\n",
       "    .dataframe tbody tr th:only-of-type {\n",
       "        vertical-align: middle;\n",
       "    }\n",
       "\n",
       "    .dataframe tbody tr th {\n",
       "        vertical-align: top;\n",
       "    }\n",
       "\n",
       "    .dataframe thead th {\n",
       "        text-align: right;\n",
       "    }\n",
       "</style>\n",
       "<table border=\"1\" class=\"dataframe\">\n",
       "  <thead>\n",
       "    <tr style=\"text-align: right;\">\n",
       "      <th></th>\n",
       "      <th>name</th>\n",
       "      <th>wins</th>\n",
       "    </tr>\n",
       "  </thead>\n",
       "  <tbody>\n",
       "    <tr>\n",
       "      <th>0</th>\n",
       "      <td>Ferrari</td>\n",
       "      <td>234</td>\n",
       "    </tr>\n",
       "    <tr>\n",
       "      <th>1</th>\n",
       "      <td>McLaren</td>\n",
       "      <td>165</td>\n",
       "    </tr>\n",
       "    <tr>\n",
       "      <th>2</th>\n",
       "      <td>Mercedes</td>\n",
       "      <td>145</td>\n",
       "    </tr>\n",
       "    <tr>\n",
       "      <th>3</th>\n",
       "      <td>Red Bull</td>\n",
       "      <td>120</td>\n",
       "    </tr>\n",
       "    <tr>\n",
       "      <th>4</th>\n",
       "      <td>Williams</td>\n",
       "      <td>114</td>\n",
       "    </tr>\n",
       "  </tbody>\n",
       "</table>\n",
       "</div>"
      ],
      "text/plain": [
       "       name  wins\n",
       "0   Ferrari   234\n",
       "1   McLaren   165\n",
       "2  Mercedes   145\n",
       "3  Red Bull   120\n",
       "4  Williams   114"
      ]
     },
     "execution_count": 30,
     "metadata": {},
     "output_type": "execute_result"
    }
   ],
   "source": [
    "#query to find out total constructor wins \n",
    "query = \"\"\"\n",
    "        SELECT constructors.name, COUNT(constructor_standings.position) as wins \n",
    "        FROM constructors\n",
    "        JOIN constructor_standings ON constructors.constructorId = constructor_standings.constructorId\n",
    "        JOIN races ON races.raceId = constructor_standings.raceId\n",
    "        WHERE (constructor_standings.position) = 1\n",
    "        GROUP BY constructors.constructorId\n",
    "        ORDER BY wins DESC\n",
    "\"\"\"\n",
    "constructor_performance = pd.read_sql(query, engine)\n",
    "constructor_performance.head()"
   ]
  },
  {
   "cell_type": "code",
   "execution_count": 31,
   "metadata": {},
   "outputs": [
    {
     "data": {
      "application/vnd.plotly.v1+json": {
       "config": {
        "plotlyServerURL": "https://plot.ly"
       },
       "data": [
        {
         "alignmentgroup": "True",
         "hovertemplate": "<b>Constructor Name: %{x}</b><br><b>Constructor Wins: %{y}</b><br>",
         "hovertext": [
          "Ferrari"
         ],
         "legendgroup": "Ferrari",
         "marker": {
          "color": "#636efa",
          "pattern": {
           "shape": ""
          }
         },
         "name": "Ferrari",
         "offsetgroup": "Ferrari",
         "orientation": "v",
         "showlegend": true,
         "textposition": "auto",
         "type": "bar",
         "x": [
          "Ferrari"
         ],
         "xaxis": "x",
         "y": [
          234
         ],
         "yaxis": "y"
        },
        {
         "alignmentgroup": "True",
         "hovertemplate": "<b>Constructor Name: %{x}</b><br><b>Constructor Wins: %{y}</b><br>",
         "hovertext": [
          "McLaren"
         ],
         "legendgroup": "McLaren",
         "marker": {
          "color": "#EF553B",
          "pattern": {
           "shape": ""
          }
         },
         "name": "McLaren",
         "offsetgroup": "McLaren",
         "orientation": "v",
         "showlegend": true,
         "textposition": "auto",
         "type": "bar",
         "x": [
          "McLaren"
         ],
         "xaxis": "x",
         "y": [
          165
         ],
         "yaxis": "y"
        },
        {
         "alignmentgroup": "True",
         "hovertemplate": "<b>Constructor Name: %{x}</b><br><b>Constructor Wins: %{y}</b><br>",
         "hovertext": [
          "Mercedes"
         ],
         "legendgroup": "Mercedes",
         "marker": {
          "color": "#00cc96",
          "pattern": {
           "shape": ""
          }
         },
         "name": "Mercedes",
         "offsetgroup": "Mercedes",
         "orientation": "v",
         "showlegend": true,
         "textposition": "auto",
         "type": "bar",
         "x": [
          "Mercedes"
         ],
         "xaxis": "x",
         "y": [
          145
         ],
         "yaxis": "y"
        },
        {
         "alignmentgroup": "True",
         "hovertemplate": "<b>Constructor Name: %{x}</b><br><b>Constructor Wins: %{y}</b><br>",
         "hovertext": [
          "Red Bull"
         ],
         "legendgroup": "Red Bull",
         "marker": {
          "color": "#ab63fa",
          "pattern": {
           "shape": ""
          }
         },
         "name": "Red Bull",
         "offsetgroup": "Red Bull",
         "orientation": "v",
         "showlegend": true,
         "textposition": "auto",
         "type": "bar",
         "x": [
          "Red Bull"
         ],
         "xaxis": "x",
         "y": [
          120
         ],
         "yaxis": "y"
        },
        {
         "alignmentgroup": "True",
         "hovertemplate": "<b>Constructor Name: %{x}</b><br><b>Constructor Wins: %{y}</b><br>",
         "hovertext": [
          "Williams"
         ],
         "legendgroup": "Williams",
         "marker": {
          "color": "#FFA15A",
          "pattern": {
           "shape": ""
          }
         },
         "name": "Williams",
         "offsetgroup": "Williams",
         "orientation": "v",
         "showlegend": true,
         "textposition": "auto",
         "type": "bar",
         "x": [
          "Williams"
         ],
         "xaxis": "x",
         "y": [
          114
         ],
         "yaxis": "y"
        },
        {
         "alignmentgroup": "True",
         "hovertemplate": "<b>Constructor Name: %{x}</b><br><b>Constructor Wins: %{y}</b><br>",
         "hovertext": [
          "Renault"
         ],
         "legendgroup": "Renault",
         "marker": {
          "color": "#19d3f3",
          "pattern": {
           "shape": ""
          }
         },
         "name": "Renault",
         "offsetgroup": "Renault",
         "orientation": "v",
         "showlegend": true,
         "textposition": "auto",
         "type": "bar",
         "x": [
          "Renault"
         ],
         "xaxis": "x",
         "y": [
          46
         ],
         "yaxis": "y"
        },
        {
         "alignmentgroup": "True",
         "hovertemplate": "<b>Constructor Name: %{x}</b><br><b>Constructor Wins: %{y}</b><br>",
         "hovertext": [
          "Team Lotus"
         ],
         "legendgroup": "Team Lotus",
         "marker": {
          "color": "#FF6692",
          "pattern": {
           "shape": ""
          }
         },
         "name": "Team Lotus",
         "offsetgroup": "Team Lotus",
         "orientation": "v",
         "showlegend": true,
         "textposition": "auto",
         "type": "bar",
         "x": [
          "Team Lotus"
         ],
         "xaxis": "x",
         "y": [
          44
         ],
         "yaxis": "y"
        },
        {
         "alignmentgroup": "True",
         "hovertemplate": "<b>Constructor Name: %{x}</b><br><b>Constructor Wins: %{y}</b><br>",
         "hovertext": [
          "Benetton"
         ],
         "legendgroup": "Benetton",
         "marker": {
          "color": "#B6E880",
          "pattern": {
           "shape": ""
          }
         },
         "name": "Benetton",
         "offsetgroup": "Benetton",
         "orientation": "v",
         "showlegend": true,
         "textposition": "auto",
         "type": "bar",
         "x": [
          "Benetton"
         ],
         "xaxis": "x",
         "y": [
          29
         ],
         "yaxis": "y"
        },
        {
         "alignmentgroup": "True",
         "hovertemplate": "<b>Constructor Name: %{x}</b><br><b>Constructor Wins: %{y}</b><br>",
         "hovertext": [
          "Lotus-Climax"
         ],
         "legendgroup": "Lotus-Climax",
         "marker": {
          "color": "#FF97FF",
          "pattern": {
           "shape": ""
          }
         },
         "name": "Lotus-Climax",
         "offsetgroup": "Lotus-Climax",
         "orientation": "v",
         "showlegend": true,
         "textposition": "auto",
         "type": "bar",
         "x": [
          "Lotus-Climax"
         ],
         "xaxis": "x",
         "y": [
          23
         ],
         "yaxis": "y"
        },
        {
         "alignmentgroup": "True",
         "hovertemplate": "<b>Constructor Name: %{x}</b><br><b>Constructor Wins: %{y}</b><br>",
         "hovertext": [
          "Cooper-Climax"
         ],
         "legendgroup": "Cooper-Climax",
         "marker": {
          "color": "#FECB52",
          "pattern": {
           "shape": ""
          }
         },
         "name": "Cooper-Climax",
         "offsetgroup": "Cooper-Climax",
         "orientation": "v",
         "showlegend": true,
         "textposition": "auto",
         "type": "bar",
         "x": [
          "Cooper-Climax"
         ],
         "xaxis": "x",
         "y": [
          20
         ],
         "yaxis": "y"
        },
        {
         "alignmentgroup": "True",
         "hovertemplate": "<b>Constructor Name: %{x}</b><br><b>Constructor Wins: %{y}</b><br>",
         "hovertext": [
          "Brawn"
         ],
         "legendgroup": "Brawn",
         "marker": {
          "color": "#636efa",
          "pattern": {
           "shape": ""
          }
         },
         "name": "Brawn",
         "offsetgroup": "Brawn",
         "orientation": "v",
         "showlegend": true,
         "textposition": "auto",
         "type": "bar",
         "x": [
          "Brawn"
         ],
         "xaxis": "x",
         "y": [
          17
         ],
         "yaxis": "y"
        },
        {
         "alignmentgroup": "True",
         "hovertemplate": "<b>Constructor Name: %{x}</b><br><b>Constructor Wins: %{y}</b><br>",
         "hovertext": [
          "Brabham-Repco"
         ],
         "legendgroup": "Brabham-Repco",
         "marker": {
          "color": "#EF553B",
          "pattern": {
           "shape": ""
          }
         },
         "name": "Brabham-Repco",
         "offsetgroup": "Brabham-Repco",
         "orientation": "v",
         "showlegend": true,
         "textposition": "auto",
         "type": "bar",
         "x": [
          "Brabham-Repco"
         ],
         "xaxis": "x",
         "y": [
          16
         ],
         "yaxis": "y"
        },
        {
         "alignmentgroup": "True",
         "hovertemplate": "<b>Constructor Name: %{x}</b><br><b>Constructor Wins: %{y}</b><br>",
         "hovertext": [
          "Tyrrell"
         ],
         "legendgroup": "Tyrrell",
         "marker": {
          "color": "#00cc96",
          "pattern": {
           "shape": ""
          }
         },
         "name": "Tyrrell",
         "offsetgroup": "Tyrrell",
         "orientation": "v",
         "showlegend": true,
         "textposition": "auto",
         "type": "bar",
         "x": [
          "Tyrrell"
         ],
         "xaxis": "x",
         "y": [
          16
         ],
         "yaxis": "y"
        },
        {
         "alignmentgroup": "True",
         "hovertemplate": "<b>Constructor Name: %{x}</b><br><b>Constructor Wins: %{y}</b><br>",
         "hovertext": [
          "BRM"
         ],
         "legendgroup": "BRM",
         "marker": {
          "color": "#ab63fa",
          "pattern": {
           "shape": ""
          }
         },
         "name": "BRM",
         "offsetgroup": "BRM",
         "orientation": "v",
         "showlegend": true,
         "textposition": "auto",
         "type": "bar",
         "x": [
          "BRM"
         ],
         "xaxis": "x",
         "y": [
          14
         ],
         "yaxis": "y"
        },
        {
         "alignmentgroup": "True",
         "hovertemplate": "<b>Constructor Name: %{x}</b><br><b>Constructor Wins: %{y}</b><br>",
         "hovertext": [
          "Lotus-Ford"
         ],
         "legendgroup": "Lotus-Ford",
         "marker": {
          "color": "#FFA15A",
          "pattern": {
           "shape": ""
          }
         },
         "name": "Lotus-Ford",
         "offsetgroup": "Lotus-Ford",
         "orientation": "v",
         "showlegend": true,
         "textposition": "auto",
         "type": "bar",
         "x": [
          "Lotus-Ford"
         ],
         "xaxis": "x",
         "y": [
          12
         ],
         "yaxis": "y"
        },
        {
         "alignmentgroup": "True",
         "hovertemplate": "<b>Constructor Name: %{x}</b><br><b>Constructor Wins: %{y}</b><br>",
         "hovertext": [
          "Matra-Ford"
         ],
         "legendgroup": "Matra-Ford",
         "marker": {
          "color": "#19d3f3",
          "pattern": {
           "shape": ""
          }
         },
         "name": "Matra-Ford",
         "offsetgroup": "Matra-Ford",
         "orientation": "v",
         "showlegend": true,
         "textposition": "auto",
         "type": "bar",
         "x": [
          "Matra-Ford"
         ],
         "xaxis": "x",
         "y": [
          11
         ],
         "yaxis": "y"
        },
        {
         "alignmentgroup": "True",
         "hovertemplate": "<b>Constructor Name: %{x}</b><br><b>Constructor Wins: %{y}</b><br>",
         "hovertext": [
          "Brabham"
         ],
         "legendgroup": "Brabham",
         "marker": {
          "color": "#FF6692",
          "pattern": {
           "shape": ""
          }
         },
         "name": "Brabham",
         "offsetgroup": "Brabham",
         "orientation": "v",
         "showlegend": true,
         "textposition": "auto",
         "type": "bar",
         "x": [
          "Brabham"
         ],
         "xaxis": "x",
         "y": [
          6
         ],
         "yaxis": "y"
        },
        {
         "alignmentgroup": "True",
         "hovertemplate": "<b>Constructor Name: %{x}</b><br><b>Constructor Wins: %{y}</b><br>",
         "hovertext": [
          "Cooper"
         ],
         "legendgroup": "Cooper",
         "marker": {
          "color": "#B6E880",
          "pattern": {
           "shape": ""
          }
         },
         "name": "Cooper",
         "offsetgroup": "Cooper",
         "orientation": "v",
         "showlegend": true,
         "textposition": "auto",
         "type": "bar",
         "x": [
          "Cooper"
         ],
         "xaxis": "x",
         "y": [
          4
         ],
         "yaxis": "y"
        },
        {
         "alignmentgroup": "True",
         "hovertemplate": "<b>Constructor Name: %{x}</b><br><b>Constructor Wins: %{y}</b><br>",
         "hovertext": [
          "Ligier"
         ],
         "legendgroup": "Ligier",
         "marker": {
          "color": "#FF97FF",
          "pattern": {
           "shape": ""
          }
         },
         "name": "Ligier",
         "offsetgroup": "Ligier",
         "orientation": "v",
         "showlegend": true,
         "textposition": "auto",
         "type": "bar",
         "x": [
          "Ligier"
         ],
         "xaxis": "x",
         "y": [
          4
         ],
         "yaxis": "y"
        },
        {
         "alignmentgroup": "True",
         "hovertemplate": "<b>Constructor Name: %{x}</b><br><b>Constructor Wins: %{y}</b><br>",
         "hovertext": [
          "Vanwall"
         ],
         "legendgroup": "Vanwall",
         "marker": {
          "color": "#FECB52",
          "pattern": {
           "shape": ""
          }
         },
         "name": "Vanwall",
         "offsetgroup": "Vanwall",
         "orientation": "v",
         "showlegend": true,
         "textposition": "auto",
         "type": "bar",
         "x": [
          "Vanwall"
         ],
         "xaxis": "x",
         "y": [
          3
         ],
         "yaxis": "y"
        },
        {
         "alignmentgroup": "True",
         "hovertemplate": "<b>Constructor Name: %{x}</b><br><b>Constructor Wins: %{y}</b><br>",
         "hovertext": [
          "March"
         ],
         "legendgroup": "March",
         "marker": {
          "color": "#636efa",
          "pattern": {
           "shape": ""
          }
         },
         "name": "March",
         "offsetgroup": "March",
         "orientation": "v",
         "showlegend": true,
         "textposition": "auto",
         "type": "bar",
         "x": [
          "March"
         ],
         "xaxis": "x",
         "y": [
          3
         ],
         "yaxis": "y"
        },
        {
         "alignmentgroup": "True",
         "hovertemplate": "<b>Constructor Name: %{x}</b><br><b>Constructor Wins: %{y}</b><br>",
         "hovertext": [
          "Cooper-Maserati"
         ],
         "legendgroup": "Cooper-Maserati",
         "marker": {
          "color": "#EF553B",
          "pattern": {
           "shape": ""
          }
         },
         "name": "Cooper-Maserati",
         "offsetgroup": "Cooper-Maserati",
         "orientation": "v",
         "showlegend": true,
         "textposition": "auto",
         "type": "bar",
         "x": [
          "Cooper-Maserati"
         ],
         "xaxis": "x",
         "y": [
          1
         ],
         "yaxis": "y"
        },
        {
         "alignmentgroup": "True",
         "hovertemplate": "<b>Constructor Name: %{x}</b><br><b>Constructor Wins: %{y}</b><br>",
         "hovertext": [
          "Wolf"
         ],
         "legendgroup": "Wolf",
         "marker": {
          "color": "#00cc96",
          "pattern": {
           "shape": ""
          }
         },
         "name": "Wolf",
         "offsetgroup": "Wolf",
         "orientation": "v",
         "showlegend": true,
         "textposition": "auto",
         "type": "bar",
         "x": [
          "Wolf"
         ],
         "xaxis": "x",
         "y": [
          1
         ],
         "yaxis": "y"
        },
        {
         "alignmentgroup": "True",
         "hovertemplate": "<b>Constructor Name: %{x}</b><br><b>Constructor Wins: %{y}</b><br>",
         "hovertext": [
          "BMW Sauber"
         ],
         "legendgroup": "BMW Sauber",
         "marker": {
          "color": "#ab63fa",
          "pattern": {
           "shape": ""
          }
         },
         "name": "BMW Sauber",
         "offsetgroup": "BMW Sauber",
         "orientation": "v",
         "showlegend": true,
         "textposition": "auto",
         "type": "bar",
         "x": [
          "BMW Sauber"
         ],
         "xaxis": "x",
         "y": [
          1
         ],
         "yaxis": "y"
        }
       ],
       "layout": {
        "barmode": "relative",
        "legend": {
         "title": {
          "text": "name"
         },
         "tracegroupgap": 0
        },
        "showlegend": false,
        "template": {
         "data": {
          "bar": [
           {
            "error_x": {
             "color": "#2a3f5f"
            },
            "error_y": {
             "color": "#2a3f5f"
            },
            "marker": {
             "line": {
              "color": "#E5ECF6",
              "width": 0.5
             },
             "pattern": {
              "fillmode": "overlay",
              "size": 10,
              "solidity": 0.2
             }
            },
            "type": "bar"
           }
          ],
          "barpolar": [
           {
            "marker": {
             "line": {
              "color": "#E5ECF6",
              "width": 0.5
             },
             "pattern": {
              "fillmode": "overlay",
              "size": 10,
              "solidity": 0.2
             }
            },
            "type": "barpolar"
           }
          ],
          "carpet": [
           {
            "aaxis": {
             "endlinecolor": "#2a3f5f",
             "gridcolor": "white",
             "linecolor": "white",
             "minorgridcolor": "white",
             "startlinecolor": "#2a3f5f"
            },
            "baxis": {
             "endlinecolor": "#2a3f5f",
             "gridcolor": "white",
             "linecolor": "white",
             "minorgridcolor": "white",
             "startlinecolor": "#2a3f5f"
            },
            "type": "carpet"
           }
          ],
          "choropleth": [
           {
            "colorbar": {
             "outlinewidth": 0,
             "ticks": ""
            },
            "type": "choropleth"
           }
          ],
          "contour": [
           {
            "colorbar": {
             "outlinewidth": 0,
             "ticks": ""
            },
            "colorscale": [
             [
              0,
              "#0d0887"
             ],
             [
              0.1111111111111111,
              "#46039f"
             ],
             [
              0.2222222222222222,
              "#7201a8"
             ],
             [
              0.3333333333333333,
              "#9c179e"
             ],
             [
              0.4444444444444444,
              "#bd3786"
             ],
             [
              0.5555555555555556,
              "#d8576b"
             ],
             [
              0.6666666666666666,
              "#ed7953"
             ],
             [
              0.7777777777777778,
              "#fb9f3a"
             ],
             [
              0.8888888888888888,
              "#fdca26"
             ],
             [
              1,
              "#f0f921"
             ]
            ],
            "type": "contour"
           }
          ],
          "contourcarpet": [
           {
            "colorbar": {
             "outlinewidth": 0,
             "ticks": ""
            },
            "type": "contourcarpet"
           }
          ],
          "heatmap": [
           {
            "colorbar": {
             "outlinewidth": 0,
             "ticks": ""
            },
            "colorscale": [
             [
              0,
              "#0d0887"
             ],
             [
              0.1111111111111111,
              "#46039f"
             ],
             [
              0.2222222222222222,
              "#7201a8"
             ],
             [
              0.3333333333333333,
              "#9c179e"
             ],
             [
              0.4444444444444444,
              "#bd3786"
             ],
             [
              0.5555555555555556,
              "#d8576b"
             ],
             [
              0.6666666666666666,
              "#ed7953"
             ],
             [
              0.7777777777777778,
              "#fb9f3a"
             ],
             [
              0.8888888888888888,
              "#fdca26"
             ],
             [
              1,
              "#f0f921"
             ]
            ],
            "type": "heatmap"
           }
          ],
          "heatmapgl": [
           {
            "colorbar": {
             "outlinewidth": 0,
             "ticks": ""
            },
            "colorscale": [
             [
              0,
              "#0d0887"
             ],
             [
              0.1111111111111111,
              "#46039f"
             ],
             [
              0.2222222222222222,
              "#7201a8"
             ],
             [
              0.3333333333333333,
              "#9c179e"
             ],
             [
              0.4444444444444444,
              "#bd3786"
             ],
             [
              0.5555555555555556,
              "#d8576b"
             ],
             [
              0.6666666666666666,
              "#ed7953"
             ],
             [
              0.7777777777777778,
              "#fb9f3a"
             ],
             [
              0.8888888888888888,
              "#fdca26"
             ],
             [
              1,
              "#f0f921"
             ]
            ],
            "type": "heatmapgl"
           }
          ],
          "histogram": [
           {
            "marker": {
             "pattern": {
              "fillmode": "overlay",
              "size": 10,
              "solidity": 0.2
             }
            },
            "type": "histogram"
           }
          ],
          "histogram2d": [
           {
            "colorbar": {
             "outlinewidth": 0,
             "ticks": ""
            },
            "colorscale": [
             [
              0,
              "#0d0887"
             ],
             [
              0.1111111111111111,
              "#46039f"
             ],
             [
              0.2222222222222222,
              "#7201a8"
             ],
             [
              0.3333333333333333,
              "#9c179e"
             ],
             [
              0.4444444444444444,
              "#bd3786"
             ],
             [
              0.5555555555555556,
              "#d8576b"
             ],
             [
              0.6666666666666666,
              "#ed7953"
             ],
             [
              0.7777777777777778,
              "#fb9f3a"
             ],
             [
              0.8888888888888888,
              "#fdca26"
             ],
             [
              1,
              "#f0f921"
             ]
            ],
            "type": "histogram2d"
           }
          ],
          "histogram2dcontour": [
           {
            "colorbar": {
             "outlinewidth": 0,
             "ticks": ""
            },
            "colorscale": [
             [
              0,
              "#0d0887"
             ],
             [
              0.1111111111111111,
              "#46039f"
             ],
             [
              0.2222222222222222,
              "#7201a8"
             ],
             [
              0.3333333333333333,
              "#9c179e"
             ],
             [
              0.4444444444444444,
              "#bd3786"
             ],
             [
              0.5555555555555556,
              "#d8576b"
             ],
             [
              0.6666666666666666,
              "#ed7953"
             ],
             [
              0.7777777777777778,
              "#fb9f3a"
             ],
             [
              0.8888888888888888,
              "#fdca26"
             ],
             [
              1,
              "#f0f921"
             ]
            ],
            "type": "histogram2dcontour"
           }
          ],
          "mesh3d": [
           {
            "colorbar": {
             "outlinewidth": 0,
             "ticks": ""
            },
            "type": "mesh3d"
           }
          ],
          "parcoords": [
           {
            "line": {
             "colorbar": {
              "outlinewidth": 0,
              "ticks": ""
             }
            },
            "type": "parcoords"
           }
          ],
          "pie": [
           {
            "automargin": true,
            "type": "pie"
           }
          ],
          "scatter": [
           {
            "fillpattern": {
             "fillmode": "overlay",
             "size": 10,
             "solidity": 0.2
            },
            "type": "scatter"
           }
          ],
          "scatter3d": [
           {
            "line": {
             "colorbar": {
              "outlinewidth": 0,
              "ticks": ""
             }
            },
            "marker": {
             "colorbar": {
              "outlinewidth": 0,
              "ticks": ""
             }
            },
            "type": "scatter3d"
           }
          ],
          "scattercarpet": [
           {
            "marker": {
             "colorbar": {
              "outlinewidth": 0,
              "ticks": ""
             }
            },
            "type": "scattercarpet"
           }
          ],
          "scattergeo": [
           {
            "marker": {
             "colorbar": {
              "outlinewidth": 0,
              "ticks": ""
             }
            },
            "type": "scattergeo"
           }
          ],
          "scattergl": [
           {
            "marker": {
             "colorbar": {
              "outlinewidth": 0,
              "ticks": ""
             }
            },
            "type": "scattergl"
           }
          ],
          "scattermapbox": [
           {
            "marker": {
             "colorbar": {
              "outlinewidth": 0,
              "ticks": ""
             }
            },
            "type": "scattermapbox"
           }
          ],
          "scatterpolar": [
           {
            "marker": {
             "colorbar": {
              "outlinewidth": 0,
              "ticks": ""
             }
            },
            "type": "scatterpolar"
           }
          ],
          "scatterpolargl": [
           {
            "marker": {
             "colorbar": {
              "outlinewidth": 0,
              "ticks": ""
             }
            },
            "type": "scatterpolargl"
           }
          ],
          "scatterternary": [
           {
            "marker": {
             "colorbar": {
              "outlinewidth": 0,
              "ticks": ""
             }
            },
            "type": "scatterternary"
           }
          ],
          "surface": [
           {
            "colorbar": {
             "outlinewidth": 0,
             "ticks": ""
            },
            "colorscale": [
             [
              0,
              "#0d0887"
             ],
             [
              0.1111111111111111,
              "#46039f"
             ],
             [
              0.2222222222222222,
              "#7201a8"
             ],
             [
              0.3333333333333333,
              "#9c179e"
             ],
             [
              0.4444444444444444,
              "#bd3786"
             ],
             [
              0.5555555555555556,
              "#d8576b"
             ],
             [
              0.6666666666666666,
              "#ed7953"
             ],
             [
              0.7777777777777778,
              "#fb9f3a"
             ],
             [
              0.8888888888888888,
              "#fdca26"
             ],
             [
              1,
              "#f0f921"
             ]
            ],
            "type": "surface"
           }
          ],
          "table": [
           {
            "cells": {
             "fill": {
              "color": "#EBF0F8"
             },
             "line": {
              "color": "white"
             }
            },
            "header": {
             "fill": {
              "color": "#C8D4E3"
             },
             "line": {
              "color": "white"
             }
            },
            "type": "table"
           }
          ]
         },
         "layout": {
          "annotationdefaults": {
           "arrowcolor": "#2a3f5f",
           "arrowhead": 0,
           "arrowwidth": 1
          },
          "autotypenumbers": "strict",
          "coloraxis": {
           "colorbar": {
            "outlinewidth": 0,
            "ticks": ""
           }
          },
          "colorscale": {
           "diverging": [
            [
             0,
             "#8e0152"
            ],
            [
             0.1,
             "#c51b7d"
            ],
            [
             0.2,
             "#de77ae"
            ],
            [
             0.3,
             "#f1b6da"
            ],
            [
             0.4,
             "#fde0ef"
            ],
            [
             0.5,
             "#f7f7f7"
            ],
            [
             0.6,
             "#e6f5d0"
            ],
            [
             0.7,
             "#b8e186"
            ],
            [
             0.8,
             "#7fbc41"
            ],
            [
             0.9,
             "#4d9221"
            ],
            [
             1,
             "#276419"
            ]
           ],
           "sequential": [
            [
             0,
             "#0d0887"
            ],
            [
             0.1111111111111111,
             "#46039f"
            ],
            [
             0.2222222222222222,
             "#7201a8"
            ],
            [
             0.3333333333333333,
             "#9c179e"
            ],
            [
             0.4444444444444444,
             "#bd3786"
            ],
            [
             0.5555555555555556,
             "#d8576b"
            ],
            [
             0.6666666666666666,
             "#ed7953"
            ],
            [
             0.7777777777777778,
             "#fb9f3a"
            ],
            [
             0.8888888888888888,
             "#fdca26"
            ],
            [
             1,
             "#f0f921"
            ]
           ],
           "sequentialminus": [
            [
             0,
             "#0d0887"
            ],
            [
             0.1111111111111111,
             "#46039f"
            ],
            [
             0.2222222222222222,
             "#7201a8"
            ],
            [
             0.3333333333333333,
             "#9c179e"
            ],
            [
             0.4444444444444444,
             "#bd3786"
            ],
            [
             0.5555555555555556,
             "#d8576b"
            ],
            [
             0.6666666666666666,
             "#ed7953"
            ],
            [
             0.7777777777777778,
             "#fb9f3a"
            ],
            [
             0.8888888888888888,
             "#fdca26"
            ],
            [
             1,
             "#f0f921"
            ]
           ]
          },
          "colorway": [
           "#636efa",
           "#EF553B",
           "#00cc96",
           "#ab63fa",
           "#FFA15A",
           "#19d3f3",
           "#FF6692",
           "#B6E880",
           "#FF97FF",
           "#FECB52"
          ],
          "font": {
           "color": "#2a3f5f"
          },
          "geo": {
           "bgcolor": "white",
           "lakecolor": "white",
           "landcolor": "#E5ECF6",
           "showlakes": true,
           "showland": true,
           "subunitcolor": "white"
          },
          "hoverlabel": {
           "align": "left"
          },
          "hovermode": "closest",
          "mapbox": {
           "style": "light"
          },
          "paper_bgcolor": "white",
          "plot_bgcolor": "#E5ECF6",
          "polar": {
           "angularaxis": {
            "gridcolor": "white",
            "linecolor": "white",
            "ticks": ""
           },
           "bgcolor": "#E5ECF6",
           "radialaxis": {
            "gridcolor": "white",
            "linecolor": "white",
            "ticks": ""
           }
          },
          "scene": {
           "xaxis": {
            "backgroundcolor": "#E5ECF6",
            "gridcolor": "white",
            "gridwidth": 2,
            "linecolor": "white",
            "showbackground": true,
            "ticks": "",
            "zerolinecolor": "white"
           },
           "yaxis": {
            "backgroundcolor": "#E5ECF6",
            "gridcolor": "white",
            "gridwidth": 2,
            "linecolor": "white",
            "showbackground": true,
            "ticks": "",
            "zerolinecolor": "white"
           },
           "zaxis": {
            "backgroundcolor": "#E5ECF6",
            "gridcolor": "white",
            "gridwidth": 2,
            "linecolor": "white",
            "showbackground": true,
            "ticks": "",
            "zerolinecolor": "white"
           }
          },
          "shapedefaults": {
           "line": {
            "color": "#2a3f5f"
           }
          },
          "ternary": {
           "aaxis": {
            "gridcolor": "white",
            "linecolor": "white",
            "ticks": ""
           },
           "baxis": {
            "gridcolor": "white",
            "linecolor": "white",
            "ticks": ""
           },
           "bgcolor": "#E5ECF6",
           "caxis": {
            "gridcolor": "white",
            "linecolor": "white",
            "ticks": ""
           }
          },
          "title": {
           "x": 0.05
          },
          "xaxis": {
           "automargin": true,
           "gridcolor": "white",
           "linecolor": "white",
           "ticks": "",
           "title": {
            "standoff": 15
           },
           "zerolinecolor": "white",
           "zerolinewidth": 2
          },
          "yaxis": {
           "automargin": true,
           "gridcolor": "white",
           "linecolor": "white",
           "ticks": "",
           "title": {
            "standoff": 15
           },
           "zerolinecolor": "white",
           "zerolinewidth": 2
          }
         }
        },
        "title": {
         "text": "Total Constructor Wins",
         "x": 0.5,
         "xanchor": "center",
         "yanchor": "top"
        },
        "xaxis": {
         "anchor": "y",
         "categoryarray": [
          "Ferrari",
          "McLaren",
          "Mercedes",
          "Red Bull",
          "Williams",
          "Renault",
          "Team Lotus",
          "Benetton",
          "Lotus-Climax",
          "Cooper-Climax",
          "Brawn",
          "Brabham-Repco",
          "Tyrrell",
          "BRM",
          "Lotus-Ford",
          "Matra-Ford",
          "Brabham",
          "Cooper",
          "Ligier",
          "Vanwall",
          "March",
          "Cooper-Maserati",
          "Wolf",
          "BMW Sauber"
         ],
         "categoryorder": "array",
         "domain": [
          0,
          1
         ],
         "title": {
          "text": "Constructors"
         }
        },
        "yaxis": {
         "anchor": "x",
         "domain": [
          0,
          1
         ],
         "title": {
          "text": "Total Wins"
         }
        }
       }
      }
     },
     "metadata": {},
     "output_type": "display_data"
    }
   ],
   "source": [
    "#plotting thr data on a plotly bar plot\n",
    "g = px.bar(data_frame= constructor_performance, \n",
    "           x= 'name', \n",
    "           y= 'wins',\n",
    "           color= 'name',\n",
    "           title= 'Total Constructor Wins',\n",
    "           hover_name= 'name',\n",
    "           hover_data= {'name': True, 'wins': True})\n",
    "g.update_layout(\n",
    "    xaxis_title = 'Constructors',\n",
    "    yaxis_title = 'Total Wins',\n",
    "    showlegend = False,\n",
    "    title = {'text': \"Total Constructor Wins\", 'x': 0.5, 'xanchor':'center', 'yanchor':'top'}\n",
    ")\n",
    "g.update_traces(\n",
    "    hovertemplate= \"<b>Constructor Name: %{x}</b><br>\" +\n",
    "                    \"<b>Constructor Wins: %{y}</b><br>\"\n",
    ")\n",
    "g.show()"
   ]
  },
  {
   "cell_type": "markdown",
   "metadata": {},
   "source": [
    "*Total Constructor Wins* <br>\n",
    "<img src=\"graphs%20plotly/Total%20Constructor%20Wins.png\" alt=\"Total Constructor Wins\" width=\"600\">"
   ]
  },
  {
   "cell_type": "markdown",
   "metadata": {},
   "source": [
    "#### **Constructor Championship Wins**\n",
    "***Winning a race feels great. Winning a championship is better. Winning as a constructor is the pinnacle<br> - Niki Lauda*** *(F1 champion and team executive)*\n",
    "\n",
    "- Winning the Constructor Championship is a monumental achievement for any Formula One team. It signifies not only dominance on the track but also the pinnacle of engineering and teamwork throughout an entire season.\n",
    "- Each year, at the end of the F1 season, a single team is crowned the Constructor Champion, determined by the combined points of both drivers across all races in the calendar. This honor reflects a season-long consistency and superiority in both performance and strategy.\n",
    "- **Objective:**\n",
    "    - Retrieve the list of Constructor Championship winners for every season from 1950 to 2023, calculate the total championships won by each constructor, and visualize the data using a Plotly bar plot for better interpretation."
   ]
  },
  {
   "cell_type": "code",
   "execution_count": 32,
   "metadata": {},
   "outputs": [
    {
     "data": {
      "text/html": [
       "<div>\n",
       "<style scoped>\n",
       "    .dataframe tbody tr th:only-of-type {\n",
       "        vertical-align: middle;\n",
       "    }\n",
       "\n",
       "    .dataframe tbody tr th {\n",
       "        vertical-align: top;\n",
       "    }\n",
       "\n",
       "    .dataframe thead th {\n",
       "        text-align: right;\n",
       "    }\n",
       "</style>\n",
       "<table border=\"1\" class=\"dataframe\">\n",
       "  <thead>\n",
       "    <tr style=\"text-align: right;\">\n",
       "      <th></th>\n",
       "      <th>year</th>\n",
       "      <th>name</th>\n",
       "    </tr>\n",
       "  </thead>\n",
       "  <tbody>\n",
       "    <tr>\n",
       "      <th>0</th>\n",
       "      <td>2023</td>\n",
       "      <td>Red Bull</td>\n",
       "    </tr>\n",
       "    <tr>\n",
       "      <th>1</th>\n",
       "      <td>2022</td>\n",
       "      <td>Red Bull</td>\n",
       "    </tr>\n",
       "    <tr>\n",
       "      <th>2</th>\n",
       "      <td>2021</td>\n",
       "      <td>Mercedes</td>\n",
       "    </tr>\n",
       "    <tr>\n",
       "      <th>3</th>\n",
       "      <td>2020</td>\n",
       "      <td>Mercedes</td>\n",
       "    </tr>\n",
       "    <tr>\n",
       "      <th>4</th>\n",
       "      <td>2019</td>\n",
       "      <td>Mercedes</td>\n",
       "    </tr>\n",
       "  </tbody>\n",
       "</table>\n",
       "</div>"
      ],
      "text/plain": [
       "   year      name\n",
       "0  2023  Red Bull\n",
       "1  2022  Red Bull\n",
       "2  2021  Mercedes\n",
       "3  2020  Mercedes\n",
       "4  2019  Mercedes"
      ]
     },
     "execution_count": 32,
     "metadata": {},
     "output_type": "execute_result"
    }
   ],
   "source": [
    "query= \"\"\"\n",
    "SELECT year, name \n",
    "FROM constructor_standings AS cs\n",
    "JOIN(\n",
    "SELECT year, raceId \n",
    "FROM races\n",
    "GROUP BY year\n",
    "HAVING MAX(round)\n",
    ")AS max_race\n",
    "ON max_race.raceId = cs.raceId\n",
    "JOIN constructors AS c\n",
    "ON c.constructorId = cs.constructorId\n",
    "WHERE position = 1\n",
    "ORDER BY year DESC\n",
    "\"\"\"\n",
    "res = pd.read_sql(query, engine)\n",
    "res.head()"
   ]
  },
  {
   "cell_type": "code",
   "execution_count": 33,
   "metadata": {},
   "outputs": [],
   "source": [
    "Constructor_champions = res.groupby(by= 'name').size().reset_index(name = 'Constructor Wins')"
   ]
  },
  {
   "cell_type": "code",
   "execution_count": 34,
   "metadata": {},
   "outputs": [
    {
     "data": {
      "text/html": [
       "<div>\n",
       "<style scoped>\n",
       "    .dataframe tbody tr th:only-of-type {\n",
       "        vertical-align: middle;\n",
       "    }\n",
       "\n",
       "    .dataframe tbody tr th {\n",
       "        vertical-align: top;\n",
       "    }\n",
       "\n",
       "    .dataframe thead th {\n",
       "        text-align: right;\n",
       "    }\n",
       "</style>\n",
       "<table border=\"1\" class=\"dataframe\">\n",
       "  <thead>\n",
       "    <tr style=\"text-align: right;\">\n",
       "      <th></th>\n",
       "      <th>name</th>\n",
       "      <th>Constructor Wins</th>\n",
       "    </tr>\n",
       "  </thead>\n",
       "  <tbody>\n",
       "    <tr>\n",
       "      <th>0</th>\n",
       "      <td>Ferrari</td>\n",
       "      <td>16</td>\n",
       "    </tr>\n",
       "    <tr>\n",
       "      <th>1</th>\n",
       "      <td>Williams</td>\n",
       "      <td>9</td>\n",
       "    </tr>\n",
       "    <tr>\n",
       "      <th>2</th>\n",
       "      <td>McLaren</td>\n",
       "      <td>8</td>\n",
       "    </tr>\n",
       "    <tr>\n",
       "      <th>3</th>\n",
       "      <td>Mercedes</td>\n",
       "      <td>8</td>\n",
       "    </tr>\n",
       "    <tr>\n",
       "      <th>4</th>\n",
       "      <td>Red Bull</td>\n",
       "      <td>6</td>\n",
       "    </tr>\n",
       "  </tbody>\n",
       "</table>\n",
       "</div>"
      ],
      "text/plain": [
       "       name  Constructor Wins\n",
       "0   Ferrari                16\n",
       "1  Williams                 9\n",
       "2   McLaren                 8\n",
       "3  Mercedes                 8\n",
       "4  Red Bull                 6"
      ]
     },
     "execution_count": 34,
     "metadata": {},
     "output_type": "execute_result"
    }
   ],
   "source": [
    "Constructor_champions.sort_values('Constructor Wins', ascending= False, inplace= True)\n",
    "Constructor_champions.reset_index(drop=True, inplace= True)\n",
    "Constructor_champions.head()"
   ]
  },
  {
   "cell_type": "code",
   "execution_count": 35,
   "metadata": {},
   "outputs": [
    {
     "data": {
      "application/vnd.plotly.v1+json": {
       "config": {
        "plotlyServerURL": "https://plot.ly"
       },
       "data": [
        {
         "alignmentgroup": "True",
         "hovertemplate": "<b>Constructor Name: %{x}</b><br><b>Constructor Wins: %{y}</b><br>",
         "hovertext": [
          "Ferrari"
         ],
         "legendgroup": "Ferrari",
         "marker": {
          "color": "#636efa",
          "pattern": {
           "shape": ""
          }
         },
         "name": "Ferrari",
         "offsetgroup": "Ferrari",
         "orientation": "v",
         "showlegend": true,
         "textposition": "auto",
         "type": "bar",
         "x": [
          "Ferrari"
         ],
         "xaxis": "x",
         "y": [
          16
         ],
         "yaxis": "y"
        },
        {
         "alignmentgroup": "True",
         "hovertemplate": "<b>Constructor Name: %{x}</b><br><b>Constructor Wins: %{y}</b><br>",
         "hovertext": [
          "Williams"
         ],
         "legendgroup": "Williams",
         "marker": {
          "color": "#EF553B",
          "pattern": {
           "shape": ""
          }
         },
         "name": "Williams",
         "offsetgroup": "Williams",
         "orientation": "v",
         "showlegend": true,
         "textposition": "auto",
         "type": "bar",
         "x": [
          "Williams"
         ],
         "xaxis": "x",
         "y": [
          9
         ],
         "yaxis": "y"
        },
        {
         "alignmentgroup": "True",
         "hovertemplate": "<b>Constructor Name: %{x}</b><br><b>Constructor Wins: %{y}</b><br>",
         "hovertext": [
          "McLaren"
         ],
         "legendgroup": "McLaren",
         "marker": {
          "color": "#00cc96",
          "pattern": {
           "shape": ""
          }
         },
         "name": "McLaren",
         "offsetgroup": "McLaren",
         "orientation": "v",
         "showlegend": true,
         "textposition": "auto",
         "type": "bar",
         "x": [
          "McLaren"
         ],
         "xaxis": "x",
         "y": [
          8
         ],
         "yaxis": "y"
        },
        {
         "alignmentgroup": "True",
         "hovertemplate": "<b>Constructor Name: %{x}</b><br><b>Constructor Wins: %{y}</b><br>",
         "hovertext": [
          "Mercedes"
         ],
         "legendgroup": "Mercedes",
         "marker": {
          "color": "#ab63fa",
          "pattern": {
           "shape": ""
          }
         },
         "name": "Mercedes",
         "offsetgroup": "Mercedes",
         "orientation": "v",
         "showlegend": true,
         "textposition": "auto",
         "type": "bar",
         "x": [
          "Mercedes"
         ],
         "xaxis": "x",
         "y": [
          8
         ],
         "yaxis": "y"
        },
        {
         "alignmentgroup": "True",
         "hovertemplate": "<b>Constructor Name: %{x}</b><br><b>Constructor Wins: %{y}</b><br>",
         "hovertext": [
          "Red Bull"
         ],
         "legendgroup": "Red Bull",
         "marker": {
          "color": "#FFA15A",
          "pattern": {
           "shape": ""
          }
         },
         "name": "Red Bull",
         "offsetgroup": "Red Bull",
         "orientation": "v",
         "showlegend": true,
         "textposition": "auto",
         "type": "bar",
         "x": [
          "Red Bull"
         ],
         "xaxis": "x",
         "y": [
          6
         ],
         "yaxis": "y"
        },
        {
         "alignmentgroup": "True",
         "hovertemplate": "<b>Constructor Name: %{x}</b><br><b>Constructor Wins: %{y}</b><br>",
         "hovertext": [
          "Team Lotus"
         ],
         "legendgroup": "Team Lotus",
         "marker": {
          "color": "#19d3f3",
          "pattern": {
           "shape": ""
          }
         },
         "name": "Team Lotus",
         "offsetgroup": "Team Lotus",
         "orientation": "v",
         "showlegend": true,
         "textposition": "auto",
         "type": "bar",
         "x": [
          "Team Lotus"
         ],
         "xaxis": "x",
         "y": [
          4
         ],
         "yaxis": "y"
        },
        {
         "alignmentgroup": "True",
         "hovertemplate": "<b>Constructor Name: %{x}</b><br><b>Constructor Wins: %{y}</b><br>",
         "hovertext": [
          "Cooper-Climax"
         ],
         "legendgroup": "Cooper-Climax",
         "marker": {
          "color": "#FF6692",
          "pattern": {
           "shape": ""
          }
         },
         "name": "Cooper-Climax",
         "offsetgroup": "Cooper-Climax",
         "orientation": "v",
         "showlegend": true,
         "textposition": "auto",
         "type": "bar",
         "x": [
          "Cooper-Climax"
         ],
         "xaxis": "x",
         "y": [
          2
         ],
         "yaxis": "y"
        },
        {
         "alignmentgroup": "True",
         "hovertemplate": "<b>Constructor Name: %{x}</b><br><b>Constructor Wins: %{y}</b><br>",
         "hovertext": [
          "Lotus-Climax"
         ],
         "legendgroup": "Lotus-Climax",
         "marker": {
          "color": "#B6E880",
          "pattern": {
           "shape": ""
          }
         },
         "name": "Lotus-Climax",
         "offsetgroup": "Lotus-Climax",
         "orientation": "v",
         "showlegend": true,
         "textposition": "auto",
         "type": "bar",
         "x": [
          "Lotus-Climax"
         ],
         "xaxis": "x",
         "y": [
          2
         ],
         "yaxis": "y"
        },
        {
         "alignmentgroup": "True",
         "hovertemplate": "<b>Constructor Name: %{x}</b><br><b>Constructor Wins: %{y}</b><br>",
         "hovertext": [
          "Brabham-Repco"
         ],
         "legendgroup": "Brabham-Repco",
         "marker": {
          "color": "#FF97FF",
          "pattern": {
           "shape": ""
          }
         },
         "name": "Brabham-Repco",
         "offsetgroup": "Brabham-Repco",
         "orientation": "v",
         "showlegend": true,
         "textposition": "auto",
         "type": "bar",
         "x": [
          "Brabham-Repco"
         ],
         "xaxis": "x",
         "y": [
          2
         ],
         "yaxis": "y"
        },
        {
         "alignmentgroup": "True",
         "hovertemplate": "<b>Constructor Name: %{x}</b><br><b>Constructor Wins: %{y}</b><br>",
         "hovertext": [
          "Renault"
         ],
         "legendgroup": "Renault",
         "marker": {
          "color": "#FECB52",
          "pattern": {
           "shape": ""
          }
         },
         "name": "Renault",
         "offsetgroup": "Renault",
         "orientation": "v",
         "showlegend": true,
         "textposition": "auto",
         "type": "bar",
         "x": [
          "Renault"
         ],
         "xaxis": "x",
         "y": [
          2
         ],
         "yaxis": "y"
        },
        {
         "alignmentgroup": "True",
         "hovertemplate": "<b>Constructor Name: %{x}</b><br><b>Constructor Wins: %{y}</b><br>",
         "hovertext": [
          "BRM"
         ],
         "legendgroup": "BRM",
         "marker": {
          "color": "#636efa",
          "pattern": {
           "shape": ""
          }
         },
         "name": "BRM",
         "offsetgroup": "BRM",
         "orientation": "v",
         "showlegend": true,
         "textposition": "auto",
         "type": "bar",
         "x": [
          "BRM"
         ],
         "xaxis": "x",
         "y": [
          1
         ],
         "yaxis": "y"
        },
        {
         "alignmentgroup": "True",
         "hovertemplate": "<b>Constructor Name: %{x}</b><br><b>Constructor Wins: %{y}</b><br>",
         "hovertext": [
          "Benetton"
         ],
         "legendgroup": "Benetton",
         "marker": {
          "color": "#EF553B",
          "pattern": {
           "shape": ""
          }
         },
         "name": "Benetton",
         "offsetgroup": "Benetton",
         "orientation": "v",
         "showlegend": true,
         "textposition": "auto",
         "type": "bar",
         "x": [
          "Benetton"
         ],
         "xaxis": "x",
         "y": [
          1
         ],
         "yaxis": "y"
        },
        {
         "alignmentgroup": "True",
         "hovertemplate": "<b>Constructor Name: %{x}</b><br><b>Constructor Wins: %{y}</b><br>",
         "hovertext": [
          "Brawn"
         ],
         "legendgroup": "Brawn",
         "marker": {
          "color": "#00cc96",
          "pattern": {
           "shape": ""
          }
         },
         "name": "Brawn",
         "offsetgroup": "Brawn",
         "orientation": "v",
         "showlegend": true,
         "textposition": "auto",
         "type": "bar",
         "x": [
          "Brawn"
         ],
         "xaxis": "x",
         "y": [
          1
         ],
         "yaxis": "y"
        },
        {
         "alignmentgroup": "True",
         "hovertemplate": "<b>Constructor Name: %{x}</b><br><b>Constructor Wins: %{y}</b><br>",
         "hovertext": [
          "Matra-Ford"
         ],
         "legendgroup": "Matra-Ford",
         "marker": {
          "color": "#ab63fa",
          "pattern": {
           "shape": ""
          }
         },
         "name": "Matra-Ford",
         "offsetgroup": "Matra-Ford",
         "orientation": "v",
         "showlegend": true,
         "textposition": "auto",
         "type": "bar",
         "x": [
          "Matra-Ford"
         ],
         "xaxis": "x",
         "y": [
          1
         ],
         "yaxis": "y"
        },
        {
         "alignmentgroup": "True",
         "hovertemplate": "<b>Constructor Name: %{x}</b><br><b>Constructor Wins: %{y}</b><br>",
         "hovertext": [
          "Lotus-Ford"
         ],
         "legendgroup": "Lotus-Ford",
         "marker": {
          "color": "#FFA15A",
          "pattern": {
           "shape": ""
          }
         },
         "name": "Lotus-Ford",
         "offsetgroup": "Lotus-Ford",
         "orientation": "v",
         "showlegend": true,
         "textposition": "auto",
         "type": "bar",
         "x": [
          "Lotus-Ford"
         ],
         "xaxis": "x",
         "y": [
          1
         ],
         "yaxis": "y"
        },
        {
         "alignmentgroup": "True",
         "hovertemplate": "<b>Constructor Name: %{x}</b><br><b>Constructor Wins: %{y}</b><br>",
         "hovertext": [
          "Tyrrell"
         ],
         "legendgroup": "Tyrrell",
         "marker": {
          "color": "#19d3f3",
          "pattern": {
           "shape": ""
          }
         },
         "name": "Tyrrell",
         "offsetgroup": "Tyrrell",
         "orientation": "v",
         "showlegend": true,
         "textposition": "auto",
         "type": "bar",
         "x": [
          "Tyrrell"
         ],
         "xaxis": "x",
         "y": [
          1
         ],
         "yaxis": "y"
        },
        {
         "alignmentgroup": "True",
         "hovertemplate": "<b>Constructor Name: %{x}</b><br><b>Constructor Wins: %{y}</b><br>",
         "hovertext": [
          "Vanwall"
         ],
         "legendgroup": "Vanwall",
         "marker": {
          "color": "#FF6692",
          "pattern": {
           "shape": ""
          }
         },
         "name": "Vanwall",
         "offsetgroup": "Vanwall",
         "orientation": "v",
         "showlegend": true,
         "textposition": "auto",
         "type": "bar",
         "x": [
          "Vanwall"
         ],
         "xaxis": "x",
         "y": [
          1
         ],
         "yaxis": "y"
        }
       ],
       "layout": {
        "barmode": "relative",
        "legend": {
         "title": {
          "text": "name"
         },
         "tracegroupgap": 0
        },
        "showlegend": false,
        "template": {
         "data": {
          "bar": [
           {
            "error_x": {
             "color": "#2a3f5f"
            },
            "error_y": {
             "color": "#2a3f5f"
            },
            "marker": {
             "line": {
              "color": "#E5ECF6",
              "width": 0.5
             },
             "pattern": {
              "fillmode": "overlay",
              "size": 10,
              "solidity": 0.2
             }
            },
            "type": "bar"
           }
          ],
          "barpolar": [
           {
            "marker": {
             "line": {
              "color": "#E5ECF6",
              "width": 0.5
             },
             "pattern": {
              "fillmode": "overlay",
              "size": 10,
              "solidity": 0.2
             }
            },
            "type": "barpolar"
           }
          ],
          "carpet": [
           {
            "aaxis": {
             "endlinecolor": "#2a3f5f",
             "gridcolor": "white",
             "linecolor": "white",
             "minorgridcolor": "white",
             "startlinecolor": "#2a3f5f"
            },
            "baxis": {
             "endlinecolor": "#2a3f5f",
             "gridcolor": "white",
             "linecolor": "white",
             "minorgridcolor": "white",
             "startlinecolor": "#2a3f5f"
            },
            "type": "carpet"
           }
          ],
          "choropleth": [
           {
            "colorbar": {
             "outlinewidth": 0,
             "ticks": ""
            },
            "type": "choropleth"
           }
          ],
          "contour": [
           {
            "colorbar": {
             "outlinewidth": 0,
             "ticks": ""
            },
            "colorscale": [
             [
              0,
              "#0d0887"
             ],
             [
              0.1111111111111111,
              "#46039f"
             ],
             [
              0.2222222222222222,
              "#7201a8"
             ],
             [
              0.3333333333333333,
              "#9c179e"
             ],
             [
              0.4444444444444444,
              "#bd3786"
             ],
             [
              0.5555555555555556,
              "#d8576b"
             ],
             [
              0.6666666666666666,
              "#ed7953"
             ],
             [
              0.7777777777777778,
              "#fb9f3a"
             ],
             [
              0.8888888888888888,
              "#fdca26"
             ],
             [
              1,
              "#f0f921"
             ]
            ],
            "type": "contour"
           }
          ],
          "contourcarpet": [
           {
            "colorbar": {
             "outlinewidth": 0,
             "ticks": ""
            },
            "type": "contourcarpet"
           }
          ],
          "heatmap": [
           {
            "colorbar": {
             "outlinewidth": 0,
             "ticks": ""
            },
            "colorscale": [
             [
              0,
              "#0d0887"
             ],
             [
              0.1111111111111111,
              "#46039f"
             ],
             [
              0.2222222222222222,
              "#7201a8"
             ],
             [
              0.3333333333333333,
              "#9c179e"
             ],
             [
              0.4444444444444444,
              "#bd3786"
             ],
             [
              0.5555555555555556,
              "#d8576b"
             ],
             [
              0.6666666666666666,
              "#ed7953"
             ],
             [
              0.7777777777777778,
              "#fb9f3a"
             ],
             [
              0.8888888888888888,
              "#fdca26"
             ],
             [
              1,
              "#f0f921"
             ]
            ],
            "type": "heatmap"
           }
          ],
          "heatmapgl": [
           {
            "colorbar": {
             "outlinewidth": 0,
             "ticks": ""
            },
            "colorscale": [
             [
              0,
              "#0d0887"
             ],
             [
              0.1111111111111111,
              "#46039f"
             ],
             [
              0.2222222222222222,
              "#7201a8"
             ],
             [
              0.3333333333333333,
              "#9c179e"
             ],
             [
              0.4444444444444444,
              "#bd3786"
             ],
             [
              0.5555555555555556,
              "#d8576b"
             ],
             [
              0.6666666666666666,
              "#ed7953"
             ],
             [
              0.7777777777777778,
              "#fb9f3a"
             ],
             [
              0.8888888888888888,
              "#fdca26"
             ],
             [
              1,
              "#f0f921"
             ]
            ],
            "type": "heatmapgl"
           }
          ],
          "histogram": [
           {
            "marker": {
             "pattern": {
              "fillmode": "overlay",
              "size": 10,
              "solidity": 0.2
             }
            },
            "type": "histogram"
           }
          ],
          "histogram2d": [
           {
            "colorbar": {
             "outlinewidth": 0,
             "ticks": ""
            },
            "colorscale": [
             [
              0,
              "#0d0887"
             ],
             [
              0.1111111111111111,
              "#46039f"
             ],
             [
              0.2222222222222222,
              "#7201a8"
             ],
             [
              0.3333333333333333,
              "#9c179e"
             ],
             [
              0.4444444444444444,
              "#bd3786"
             ],
             [
              0.5555555555555556,
              "#d8576b"
             ],
             [
              0.6666666666666666,
              "#ed7953"
             ],
             [
              0.7777777777777778,
              "#fb9f3a"
             ],
             [
              0.8888888888888888,
              "#fdca26"
             ],
             [
              1,
              "#f0f921"
             ]
            ],
            "type": "histogram2d"
           }
          ],
          "histogram2dcontour": [
           {
            "colorbar": {
             "outlinewidth": 0,
             "ticks": ""
            },
            "colorscale": [
             [
              0,
              "#0d0887"
             ],
             [
              0.1111111111111111,
              "#46039f"
             ],
             [
              0.2222222222222222,
              "#7201a8"
             ],
             [
              0.3333333333333333,
              "#9c179e"
             ],
             [
              0.4444444444444444,
              "#bd3786"
             ],
             [
              0.5555555555555556,
              "#d8576b"
             ],
             [
              0.6666666666666666,
              "#ed7953"
             ],
             [
              0.7777777777777778,
              "#fb9f3a"
             ],
             [
              0.8888888888888888,
              "#fdca26"
             ],
             [
              1,
              "#f0f921"
             ]
            ],
            "type": "histogram2dcontour"
           }
          ],
          "mesh3d": [
           {
            "colorbar": {
             "outlinewidth": 0,
             "ticks": ""
            },
            "type": "mesh3d"
           }
          ],
          "parcoords": [
           {
            "line": {
             "colorbar": {
              "outlinewidth": 0,
              "ticks": ""
             }
            },
            "type": "parcoords"
           }
          ],
          "pie": [
           {
            "automargin": true,
            "type": "pie"
           }
          ],
          "scatter": [
           {
            "fillpattern": {
             "fillmode": "overlay",
             "size": 10,
             "solidity": 0.2
            },
            "type": "scatter"
           }
          ],
          "scatter3d": [
           {
            "line": {
             "colorbar": {
              "outlinewidth": 0,
              "ticks": ""
             }
            },
            "marker": {
             "colorbar": {
              "outlinewidth": 0,
              "ticks": ""
             }
            },
            "type": "scatter3d"
           }
          ],
          "scattercarpet": [
           {
            "marker": {
             "colorbar": {
              "outlinewidth": 0,
              "ticks": ""
             }
            },
            "type": "scattercarpet"
           }
          ],
          "scattergeo": [
           {
            "marker": {
             "colorbar": {
              "outlinewidth": 0,
              "ticks": ""
             }
            },
            "type": "scattergeo"
           }
          ],
          "scattergl": [
           {
            "marker": {
             "colorbar": {
              "outlinewidth": 0,
              "ticks": ""
             }
            },
            "type": "scattergl"
           }
          ],
          "scattermapbox": [
           {
            "marker": {
             "colorbar": {
              "outlinewidth": 0,
              "ticks": ""
             }
            },
            "type": "scattermapbox"
           }
          ],
          "scatterpolar": [
           {
            "marker": {
             "colorbar": {
              "outlinewidth": 0,
              "ticks": ""
             }
            },
            "type": "scatterpolar"
           }
          ],
          "scatterpolargl": [
           {
            "marker": {
             "colorbar": {
              "outlinewidth": 0,
              "ticks": ""
             }
            },
            "type": "scatterpolargl"
           }
          ],
          "scatterternary": [
           {
            "marker": {
             "colorbar": {
              "outlinewidth": 0,
              "ticks": ""
             }
            },
            "type": "scatterternary"
           }
          ],
          "surface": [
           {
            "colorbar": {
             "outlinewidth": 0,
             "ticks": ""
            },
            "colorscale": [
             [
              0,
              "#0d0887"
             ],
             [
              0.1111111111111111,
              "#46039f"
             ],
             [
              0.2222222222222222,
              "#7201a8"
             ],
             [
              0.3333333333333333,
              "#9c179e"
             ],
             [
              0.4444444444444444,
              "#bd3786"
             ],
             [
              0.5555555555555556,
              "#d8576b"
             ],
             [
              0.6666666666666666,
              "#ed7953"
             ],
             [
              0.7777777777777778,
              "#fb9f3a"
             ],
             [
              0.8888888888888888,
              "#fdca26"
             ],
             [
              1,
              "#f0f921"
             ]
            ],
            "type": "surface"
           }
          ],
          "table": [
           {
            "cells": {
             "fill": {
              "color": "#EBF0F8"
             },
             "line": {
              "color": "white"
             }
            },
            "header": {
             "fill": {
              "color": "#C8D4E3"
             },
             "line": {
              "color": "white"
             }
            },
            "type": "table"
           }
          ]
         },
         "layout": {
          "annotationdefaults": {
           "arrowcolor": "#2a3f5f",
           "arrowhead": 0,
           "arrowwidth": 1
          },
          "autotypenumbers": "strict",
          "coloraxis": {
           "colorbar": {
            "outlinewidth": 0,
            "ticks": ""
           }
          },
          "colorscale": {
           "diverging": [
            [
             0,
             "#8e0152"
            ],
            [
             0.1,
             "#c51b7d"
            ],
            [
             0.2,
             "#de77ae"
            ],
            [
             0.3,
             "#f1b6da"
            ],
            [
             0.4,
             "#fde0ef"
            ],
            [
             0.5,
             "#f7f7f7"
            ],
            [
             0.6,
             "#e6f5d0"
            ],
            [
             0.7,
             "#b8e186"
            ],
            [
             0.8,
             "#7fbc41"
            ],
            [
             0.9,
             "#4d9221"
            ],
            [
             1,
             "#276419"
            ]
           ],
           "sequential": [
            [
             0,
             "#0d0887"
            ],
            [
             0.1111111111111111,
             "#46039f"
            ],
            [
             0.2222222222222222,
             "#7201a8"
            ],
            [
             0.3333333333333333,
             "#9c179e"
            ],
            [
             0.4444444444444444,
             "#bd3786"
            ],
            [
             0.5555555555555556,
             "#d8576b"
            ],
            [
             0.6666666666666666,
             "#ed7953"
            ],
            [
             0.7777777777777778,
             "#fb9f3a"
            ],
            [
             0.8888888888888888,
             "#fdca26"
            ],
            [
             1,
             "#f0f921"
            ]
           ],
           "sequentialminus": [
            [
             0,
             "#0d0887"
            ],
            [
             0.1111111111111111,
             "#46039f"
            ],
            [
             0.2222222222222222,
             "#7201a8"
            ],
            [
             0.3333333333333333,
             "#9c179e"
            ],
            [
             0.4444444444444444,
             "#bd3786"
            ],
            [
             0.5555555555555556,
             "#d8576b"
            ],
            [
             0.6666666666666666,
             "#ed7953"
            ],
            [
             0.7777777777777778,
             "#fb9f3a"
            ],
            [
             0.8888888888888888,
             "#fdca26"
            ],
            [
             1,
             "#f0f921"
            ]
           ]
          },
          "colorway": [
           "#636efa",
           "#EF553B",
           "#00cc96",
           "#ab63fa",
           "#FFA15A",
           "#19d3f3",
           "#FF6692",
           "#B6E880",
           "#FF97FF",
           "#FECB52"
          ],
          "font": {
           "color": "#2a3f5f"
          },
          "geo": {
           "bgcolor": "white",
           "lakecolor": "white",
           "landcolor": "#E5ECF6",
           "showlakes": true,
           "showland": true,
           "subunitcolor": "white"
          },
          "hoverlabel": {
           "align": "left"
          },
          "hovermode": "closest",
          "mapbox": {
           "style": "light"
          },
          "paper_bgcolor": "white",
          "plot_bgcolor": "#E5ECF6",
          "polar": {
           "angularaxis": {
            "gridcolor": "white",
            "linecolor": "white",
            "ticks": ""
           },
           "bgcolor": "#E5ECF6",
           "radialaxis": {
            "gridcolor": "white",
            "linecolor": "white",
            "ticks": ""
           }
          },
          "scene": {
           "xaxis": {
            "backgroundcolor": "#E5ECF6",
            "gridcolor": "white",
            "gridwidth": 2,
            "linecolor": "white",
            "showbackground": true,
            "ticks": "",
            "zerolinecolor": "white"
           },
           "yaxis": {
            "backgroundcolor": "#E5ECF6",
            "gridcolor": "white",
            "gridwidth": 2,
            "linecolor": "white",
            "showbackground": true,
            "ticks": "",
            "zerolinecolor": "white"
           },
           "zaxis": {
            "backgroundcolor": "#E5ECF6",
            "gridcolor": "white",
            "gridwidth": 2,
            "linecolor": "white",
            "showbackground": true,
            "ticks": "",
            "zerolinecolor": "white"
           }
          },
          "shapedefaults": {
           "line": {
            "color": "#2a3f5f"
           }
          },
          "ternary": {
           "aaxis": {
            "gridcolor": "white",
            "linecolor": "white",
            "ticks": ""
           },
           "baxis": {
            "gridcolor": "white",
            "linecolor": "white",
            "ticks": ""
           },
           "bgcolor": "#E5ECF6",
           "caxis": {
            "gridcolor": "white",
            "linecolor": "white",
            "ticks": ""
           }
          },
          "title": {
           "x": 0.05
          },
          "xaxis": {
           "automargin": true,
           "gridcolor": "white",
           "linecolor": "white",
           "ticks": "",
           "title": {
            "standoff": 15
           },
           "zerolinecolor": "white",
           "zerolinewidth": 2
          },
          "yaxis": {
           "automargin": true,
           "gridcolor": "white",
           "linecolor": "white",
           "ticks": "",
           "title": {
            "standoff": 15
           },
           "zerolinecolor": "white",
           "zerolinewidth": 2
          }
         }
        },
        "title": {
         "text": "Constructor Champions",
         "x": 0.5,
         "xanchor": "center",
         "yanchor": "top"
        },
        "xaxis": {
         "anchor": "y",
         "categoryarray": [
          "Ferrari",
          "Williams",
          "McLaren",
          "Mercedes",
          "Red Bull",
          "Team Lotus",
          "Cooper-Climax",
          "Lotus-Climax",
          "Brabham-Repco",
          "Renault",
          "BRM",
          "Benetton",
          "Brawn",
          "Matra-Ford",
          "Lotus-Ford",
          "Tyrrell",
          "Vanwall"
         ],
         "categoryorder": "array",
         "domain": [
          0,
          1
         ],
         "title": {
          "text": "Constructors"
         }
        },
        "yaxis": {
         "anchor": "x",
         "domain": [
          0,
          1
         ],
         "title": {
          "text": "Total Constructor Wins"
         }
        }
       }
      }
     },
     "metadata": {},
     "output_type": "display_data"
    }
   ],
   "source": [
    "fig = px.bar(data_frame=Constructor_champions, \n",
    "                   x='name', \n",
    "                   y='Constructor Wins', \n",
    "                   title='Constructor Champions', \n",
    "                   color='name', \n",
    "                   hover_name='name', \n",
    "                   hover_data={'name': True, 'Constructor Wins': True})  # Proper hover data\n",
    "\n",
    "# Update layout for axis titles and remove legend\n",
    "fig.update_layout(\n",
    "    xaxis_title='Constructors', \n",
    "    yaxis_title='Total Constructor Wins', \n",
    "    showlegend=False,\n",
    "    title={'text': 'Constructor Champions', 'x': 0.5, 'yanchor': 'top', 'xanchor': 'center'}\n",
    ")\n",
    "\n",
    "# Update hover template to customize hover text\n",
    "fig.update_traces(\n",
    "    hovertemplate= \n",
    "                  \"<b>Constructor Name: %{x}</b><br>\" +  # Display the constructor name\n",
    "                  \"<b>Constructor Wins: %{y}</b><br>\"  # Display the 'Constructor Wins'\n",
    ")\n",
    "fig.show()"
   ]
  },
  {
   "cell_type": "markdown",
   "metadata": {},
   "source": [
    "*Constructor Champions* <br>\n",
    "<img src=\"graphs%20plotly/Total%20Constructor Wins.png\" alt=\"Constructor Champions\" width= 600>"
   ]
  },
  {
   "cell_type": "markdown",
   "metadata": {},
   "source": [
    "#### **Fastest Laps by Drivers Who Completed the Race**\n",
    "- **Objective:** Analyze and visualize the number of fastest laps achieved by drivers who successfully completed the race (statusId = 1) using a bar plot.\n"
   ]
  },
  {
   "cell_type": "code",
   "execution_count": 36,
   "metadata": {},
   "outputs": [],
   "source": [
    "query = \"\"\"\n",
    " WITH fastest_lap AS (\n",
    "        SELECT results.raceId, \n",
    "               drivers.driverId,\n",
    "               drivers.Name,\n",
    "               status.statusId,\n",
    "               ROW_NUMBER() OVER (PARTITION BY raceId ORDER BY fastestLap_time_ms ASC) as rn\n",
    "        FROM results\n",
    "        JOIN drivers ON drivers.driverId = results.driverId\n",
    "        JOIN status ON status.statusId = results.statusId\n",
    "        WHERE results.statusId =1 \n",
    "    ),\n",
    "    fastest_driver_race AS (\n",
    "        SELECT raceId,\n",
    "               driverId,\n",
    "               Name,\n",
    "               rn\n",
    "        FROM fastest_lap\n",
    "        WHERE rn = 1\n",
    "    )\n",
    "    SELECT driverId,\n",
    "           Name,\n",
    "           COUNT(driverId) AS Number_of_fastestLap\n",
    "    FROM fastest_driver_race\n",
    "    GROUP BY driverId, Name\n",
    "    ORDER BY Number_of_fastestLap DESC\n",
    "\"\"\"\n",
    "Fastest_lap = pd.read_sql(query, engine)"
   ]
  },
  {
   "cell_type": "code",
   "execution_count": 37,
   "metadata": {},
   "outputs": [
    {
     "data": {
      "text/html": [
       "<div>\n",
       "<style scoped>\n",
       "    .dataframe tbody tr th:only-of-type {\n",
       "        vertical-align: middle;\n",
       "    }\n",
       "\n",
       "    .dataframe tbody tr th {\n",
       "        vertical-align: top;\n",
       "    }\n",
       "\n",
       "    .dataframe thead th {\n",
       "        text-align: right;\n",
       "    }\n",
       "</style>\n",
       "<table border=\"1\" class=\"dataframe\">\n",
       "  <thead>\n",
       "    <tr style=\"text-align: right;\">\n",
       "      <th></th>\n",
       "      <th>driverId</th>\n",
       "      <th>Name</th>\n",
       "      <th>Number_of_fastestLap</th>\n",
       "    </tr>\n",
       "  </thead>\n",
       "  <tbody>\n",
       "    <tr>\n",
       "      <th>0</th>\n",
       "      <td>1</td>\n",
       "      <td>Lewis Hamilton</td>\n",
       "      <td>70</td>\n",
       "    </tr>\n",
       "    <tr>\n",
       "      <th>1</th>\n",
       "      <td>14</td>\n",
       "      <td>David Coulthard</td>\n",
       "      <td>70</td>\n",
       "    </tr>\n",
       "    <tr>\n",
       "      <th>2</th>\n",
       "      <td>30</td>\n",
       "      <td>Michael Schumacher</td>\n",
       "      <td>65</td>\n",
       "    </tr>\n",
       "    <tr>\n",
       "      <th>3</th>\n",
       "      <td>8</td>\n",
       "      <td>Kimi Räikkönen</td>\n",
       "      <td>49</td>\n",
       "    </tr>\n",
       "    <tr>\n",
       "      <th>4</th>\n",
       "      <td>20</td>\n",
       "      <td>Sebastian Vettel</td>\n",
       "      <td>39</td>\n",
       "    </tr>\n",
       "    <tr>\n",
       "      <th>5</th>\n",
       "      <td>95</td>\n",
       "      <td>Nigel Mansell</td>\n",
       "      <td>37</td>\n",
       "    </tr>\n",
       "    <tr>\n",
       "      <th>6</th>\n",
       "      <td>830</td>\n",
       "      <td>Max Verstappen</td>\n",
       "      <td>36</td>\n",
       "    </tr>\n",
       "    <tr>\n",
       "      <th>7</th>\n",
       "      <td>4</td>\n",
       "      <td>Fernando Alonso</td>\n",
       "      <td>34</td>\n",
       "    </tr>\n",
       "    <tr>\n",
       "      <th>8</th>\n",
       "      <td>289</td>\n",
       "      <td>Graham Hill</td>\n",
       "      <td>34</td>\n",
       "    </tr>\n",
       "    <tr>\n",
       "      <th>9</th>\n",
       "      <td>182</td>\n",
       "      <td>Niki Lauda</td>\n",
       "      <td>33</td>\n",
       "    </tr>\n",
       "  </tbody>\n",
       "</table>\n",
       "</div>"
      ],
      "text/plain": [
       "   driverId                Name  Number_of_fastestLap\n",
       "0         1      Lewis Hamilton                    70\n",
       "1        14     David Coulthard                    70\n",
       "2        30  Michael Schumacher                    65\n",
       "3         8      Kimi Räikkönen                    49\n",
       "4        20    Sebastian Vettel                    39\n",
       "5        95       Nigel Mansell                    37\n",
       "6       830      Max Verstappen                    36\n",
       "7         4     Fernando Alonso                    34\n",
       "8       289         Graham Hill                    34\n",
       "9       182          Niki Lauda                    33"
      ]
     },
     "execution_count": 37,
     "metadata": {},
     "output_type": "execute_result"
    }
   ],
   "source": [
    "Fastest_lap.head(10)"
   ]
  },
  {
   "cell_type": "code",
   "execution_count": 38,
   "metadata": {},
   "outputs": [
    {
     "data": {
      "application/vnd.plotly.v1+json": {
       "config": {
        "plotlyServerURL": "https://plot.ly"
       },
       "data": [
        {
         "alignmentgroup": "True",
         "hovertemplate": "<b>Name: %{x}</b><br><b>Fastest Laps: %{y}</b><br>",
         "hovertext": [
          "Lewis Hamilton"
         ],
         "legendgroup": "Lewis Hamilton",
         "marker": {
          "color": "#636efa",
          "pattern": {
           "shape": ""
          }
         },
         "name": "Lewis Hamilton",
         "offsetgroup": "Lewis Hamilton",
         "orientation": "v",
         "showlegend": true,
         "textposition": "auto",
         "type": "bar",
         "x": [
          "Lewis Hamilton"
         ],
         "xaxis": "x",
         "y": [
          70
         ],
         "yaxis": "y"
        },
        {
         "alignmentgroup": "True",
         "hovertemplate": "<b>Name: %{x}</b><br><b>Fastest Laps: %{y}</b><br>",
         "hovertext": [
          "David Coulthard"
         ],
         "legendgroup": "David Coulthard",
         "marker": {
          "color": "#EF553B",
          "pattern": {
           "shape": ""
          }
         },
         "name": "David Coulthard",
         "offsetgroup": "David Coulthard",
         "orientation": "v",
         "showlegend": true,
         "textposition": "auto",
         "type": "bar",
         "x": [
          "David Coulthard"
         ],
         "xaxis": "x",
         "y": [
          70
         ],
         "yaxis": "y"
        },
        {
         "alignmentgroup": "True",
         "hovertemplate": "<b>Name: %{x}</b><br><b>Fastest Laps: %{y}</b><br>",
         "hovertext": [
          "Michael Schumacher"
         ],
         "legendgroup": "Michael Schumacher",
         "marker": {
          "color": "#00cc96",
          "pattern": {
           "shape": ""
          }
         },
         "name": "Michael Schumacher",
         "offsetgroup": "Michael Schumacher",
         "orientation": "v",
         "showlegend": true,
         "textposition": "auto",
         "type": "bar",
         "x": [
          "Michael Schumacher"
         ],
         "xaxis": "x",
         "y": [
          65
         ],
         "yaxis": "y"
        },
        {
         "alignmentgroup": "True",
         "hovertemplate": "<b>Name: %{x}</b><br><b>Fastest Laps: %{y}</b><br>",
         "hovertext": [
          "Kimi Räikkönen"
         ],
         "legendgroup": "Kimi Räikkönen",
         "marker": {
          "color": "#ab63fa",
          "pattern": {
           "shape": ""
          }
         },
         "name": "Kimi Räikkönen",
         "offsetgroup": "Kimi Räikkönen",
         "orientation": "v",
         "showlegend": true,
         "textposition": "auto",
         "type": "bar",
         "x": [
          "Kimi Räikkönen"
         ],
         "xaxis": "x",
         "y": [
          49
         ],
         "yaxis": "y"
        },
        {
         "alignmentgroup": "True",
         "hovertemplate": "<b>Name: %{x}</b><br><b>Fastest Laps: %{y}</b><br>",
         "hovertext": [
          "Sebastian Vettel"
         ],
         "legendgroup": "Sebastian Vettel",
         "marker": {
          "color": "#FFA15A",
          "pattern": {
           "shape": ""
          }
         },
         "name": "Sebastian Vettel",
         "offsetgroup": "Sebastian Vettel",
         "orientation": "v",
         "showlegend": true,
         "textposition": "auto",
         "type": "bar",
         "x": [
          "Sebastian Vettel"
         ],
         "xaxis": "x",
         "y": [
          39
         ],
         "yaxis": "y"
        },
        {
         "alignmentgroup": "True",
         "hovertemplate": "<b>Name: %{x}</b><br><b>Fastest Laps: %{y}</b><br>",
         "hovertext": [
          "Nigel Mansell"
         ],
         "legendgroup": "Nigel Mansell",
         "marker": {
          "color": "#19d3f3",
          "pattern": {
           "shape": ""
          }
         },
         "name": "Nigel Mansell",
         "offsetgroup": "Nigel Mansell",
         "orientation": "v",
         "showlegend": true,
         "textposition": "auto",
         "type": "bar",
         "x": [
          "Nigel Mansell"
         ],
         "xaxis": "x",
         "y": [
          37
         ],
         "yaxis": "y"
        },
        {
         "alignmentgroup": "True",
         "hovertemplate": "<b>Name: %{x}</b><br><b>Fastest Laps: %{y}</b><br>",
         "hovertext": [
          "Max Verstappen"
         ],
         "legendgroup": "Max Verstappen",
         "marker": {
          "color": "#FF6692",
          "pattern": {
           "shape": ""
          }
         },
         "name": "Max Verstappen",
         "offsetgroup": "Max Verstappen",
         "orientation": "v",
         "showlegend": true,
         "textposition": "auto",
         "type": "bar",
         "x": [
          "Max Verstappen"
         ],
         "xaxis": "x",
         "y": [
          36
         ],
         "yaxis": "y"
        },
        {
         "alignmentgroup": "True",
         "hovertemplate": "<b>Name: %{x}</b><br><b>Fastest Laps: %{y}</b><br>",
         "hovertext": [
          "Fernando Alonso"
         ],
         "legendgroup": "Fernando Alonso",
         "marker": {
          "color": "#B6E880",
          "pattern": {
           "shape": ""
          }
         },
         "name": "Fernando Alonso",
         "offsetgroup": "Fernando Alonso",
         "orientation": "v",
         "showlegend": true,
         "textposition": "auto",
         "type": "bar",
         "x": [
          "Fernando Alonso"
         ],
         "xaxis": "x",
         "y": [
          34
         ],
         "yaxis": "y"
        },
        {
         "alignmentgroup": "True",
         "hovertemplate": "<b>Name: %{x}</b><br><b>Fastest Laps: %{y}</b><br>",
         "hovertext": [
          "Graham Hill"
         ],
         "legendgroup": "Graham Hill",
         "marker": {
          "color": "#FF97FF",
          "pattern": {
           "shape": ""
          }
         },
         "name": "Graham Hill",
         "offsetgroup": "Graham Hill",
         "orientation": "v",
         "showlegend": true,
         "textposition": "auto",
         "type": "bar",
         "x": [
          "Graham Hill"
         ],
         "xaxis": "x",
         "y": [
          34
         ],
         "yaxis": "y"
        },
        {
         "alignmentgroup": "True",
         "hovertemplate": "<b>Name: %{x}</b><br><b>Fastest Laps: %{y}</b><br>",
         "hovertext": [
          "Niki Lauda"
         ],
         "legendgroup": "Niki Lauda",
         "marker": {
          "color": "#FECB52",
          "pattern": {
           "shape": ""
          }
         },
         "name": "Niki Lauda",
         "offsetgroup": "Niki Lauda",
         "orientation": "v",
         "showlegend": true,
         "textposition": "auto",
         "type": "bar",
         "x": [
          "Niki Lauda"
         ],
         "xaxis": "x",
         "y": [
          33
         ],
         "yaxis": "y"
        }
       ],
       "layout": {
        "barmode": "relative",
        "legend": {
         "title": {
          "text": "Name"
         },
         "tracegroupgap": 0
        },
        "margin": {
         "t": 60
        },
        "showlegend": false,
        "template": {
         "data": {
          "bar": [
           {
            "error_x": {
             "color": "#2a3f5f"
            },
            "error_y": {
             "color": "#2a3f5f"
            },
            "marker": {
             "line": {
              "color": "#E5ECF6",
              "width": 0.5
             },
             "pattern": {
              "fillmode": "overlay",
              "size": 10,
              "solidity": 0.2
             }
            },
            "type": "bar"
           }
          ],
          "barpolar": [
           {
            "marker": {
             "line": {
              "color": "#E5ECF6",
              "width": 0.5
             },
             "pattern": {
              "fillmode": "overlay",
              "size": 10,
              "solidity": 0.2
             }
            },
            "type": "barpolar"
           }
          ],
          "carpet": [
           {
            "aaxis": {
             "endlinecolor": "#2a3f5f",
             "gridcolor": "white",
             "linecolor": "white",
             "minorgridcolor": "white",
             "startlinecolor": "#2a3f5f"
            },
            "baxis": {
             "endlinecolor": "#2a3f5f",
             "gridcolor": "white",
             "linecolor": "white",
             "minorgridcolor": "white",
             "startlinecolor": "#2a3f5f"
            },
            "type": "carpet"
           }
          ],
          "choropleth": [
           {
            "colorbar": {
             "outlinewidth": 0,
             "ticks": ""
            },
            "type": "choropleth"
           }
          ],
          "contour": [
           {
            "colorbar": {
             "outlinewidth": 0,
             "ticks": ""
            },
            "colorscale": [
             [
              0,
              "#0d0887"
             ],
             [
              0.1111111111111111,
              "#46039f"
             ],
             [
              0.2222222222222222,
              "#7201a8"
             ],
             [
              0.3333333333333333,
              "#9c179e"
             ],
             [
              0.4444444444444444,
              "#bd3786"
             ],
             [
              0.5555555555555556,
              "#d8576b"
             ],
             [
              0.6666666666666666,
              "#ed7953"
             ],
             [
              0.7777777777777778,
              "#fb9f3a"
             ],
             [
              0.8888888888888888,
              "#fdca26"
             ],
             [
              1,
              "#f0f921"
             ]
            ],
            "type": "contour"
           }
          ],
          "contourcarpet": [
           {
            "colorbar": {
             "outlinewidth": 0,
             "ticks": ""
            },
            "type": "contourcarpet"
           }
          ],
          "heatmap": [
           {
            "colorbar": {
             "outlinewidth": 0,
             "ticks": ""
            },
            "colorscale": [
             [
              0,
              "#0d0887"
             ],
             [
              0.1111111111111111,
              "#46039f"
             ],
             [
              0.2222222222222222,
              "#7201a8"
             ],
             [
              0.3333333333333333,
              "#9c179e"
             ],
             [
              0.4444444444444444,
              "#bd3786"
             ],
             [
              0.5555555555555556,
              "#d8576b"
             ],
             [
              0.6666666666666666,
              "#ed7953"
             ],
             [
              0.7777777777777778,
              "#fb9f3a"
             ],
             [
              0.8888888888888888,
              "#fdca26"
             ],
             [
              1,
              "#f0f921"
             ]
            ],
            "type": "heatmap"
           }
          ],
          "heatmapgl": [
           {
            "colorbar": {
             "outlinewidth": 0,
             "ticks": ""
            },
            "colorscale": [
             [
              0,
              "#0d0887"
             ],
             [
              0.1111111111111111,
              "#46039f"
             ],
             [
              0.2222222222222222,
              "#7201a8"
             ],
             [
              0.3333333333333333,
              "#9c179e"
             ],
             [
              0.4444444444444444,
              "#bd3786"
             ],
             [
              0.5555555555555556,
              "#d8576b"
             ],
             [
              0.6666666666666666,
              "#ed7953"
             ],
             [
              0.7777777777777778,
              "#fb9f3a"
             ],
             [
              0.8888888888888888,
              "#fdca26"
             ],
             [
              1,
              "#f0f921"
             ]
            ],
            "type": "heatmapgl"
           }
          ],
          "histogram": [
           {
            "marker": {
             "pattern": {
              "fillmode": "overlay",
              "size": 10,
              "solidity": 0.2
             }
            },
            "type": "histogram"
           }
          ],
          "histogram2d": [
           {
            "colorbar": {
             "outlinewidth": 0,
             "ticks": ""
            },
            "colorscale": [
             [
              0,
              "#0d0887"
             ],
             [
              0.1111111111111111,
              "#46039f"
             ],
             [
              0.2222222222222222,
              "#7201a8"
             ],
             [
              0.3333333333333333,
              "#9c179e"
             ],
             [
              0.4444444444444444,
              "#bd3786"
             ],
             [
              0.5555555555555556,
              "#d8576b"
             ],
             [
              0.6666666666666666,
              "#ed7953"
             ],
             [
              0.7777777777777778,
              "#fb9f3a"
             ],
             [
              0.8888888888888888,
              "#fdca26"
             ],
             [
              1,
              "#f0f921"
             ]
            ],
            "type": "histogram2d"
           }
          ],
          "histogram2dcontour": [
           {
            "colorbar": {
             "outlinewidth": 0,
             "ticks": ""
            },
            "colorscale": [
             [
              0,
              "#0d0887"
             ],
             [
              0.1111111111111111,
              "#46039f"
             ],
             [
              0.2222222222222222,
              "#7201a8"
             ],
             [
              0.3333333333333333,
              "#9c179e"
             ],
             [
              0.4444444444444444,
              "#bd3786"
             ],
             [
              0.5555555555555556,
              "#d8576b"
             ],
             [
              0.6666666666666666,
              "#ed7953"
             ],
             [
              0.7777777777777778,
              "#fb9f3a"
             ],
             [
              0.8888888888888888,
              "#fdca26"
             ],
             [
              1,
              "#f0f921"
             ]
            ],
            "type": "histogram2dcontour"
           }
          ],
          "mesh3d": [
           {
            "colorbar": {
             "outlinewidth": 0,
             "ticks": ""
            },
            "type": "mesh3d"
           }
          ],
          "parcoords": [
           {
            "line": {
             "colorbar": {
              "outlinewidth": 0,
              "ticks": ""
             }
            },
            "type": "parcoords"
           }
          ],
          "pie": [
           {
            "automargin": true,
            "type": "pie"
           }
          ],
          "scatter": [
           {
            "fillpattern": {
             "fillmode": "overlay",
             "size": 10,
             "solidity": 0.2
            },
            "type": "scatter"
           }
          ],
          "scatter3d": [
           {
            "line": {
             "colorbar": {
              "outlinewidth": 0,
              "ticks": ""
             }
            },
            "marker": {
             "colorbar": {
              "outlinewidth": 0,
              "ticks": ""
             }
            },
            "type": "scatter3d"
           }
          ],
          "scattercarpet": [
           {
            "marker": {
             "colorbar": {
              "outlinewidth": 0,
              "ticks": ""
             }
            },
            "type": "scattercarpet"
           }
          ],
          "scattergeo": [
           {
            "marker": {
             "colorbar": {
              "outlinewidth": 0,
              "ticks": ""
             }
            },
            "type": "scattergeo"
           }
          ],
          "scattergl": [
           {
            "marker": {
             "colorbar": {
              "outlinewidth": 0,
              "ticks": ""
             }
            },
            "type": "scattergl"
           }
          ],
          "scattermapbox": [
           {
            "marker": {
             "colorbar": {
              "outlinewidth": 0,
              "ticks": ""
             }
            },
            "type": "scattermapbox"
           }
          ],
          "scatterpolar": [
           {
            "marker": {
             "colorbar": {
              "outlinewidth": 0,
              "ticks": ""
             }
            },
            "type": "scatterpolar"
           }
          ],
          "scatterpolargl": [
           {
            "marker": {
             "colorbar": {
              "outlinewidth": 0,
              "ticks": ""
             }
            },
            "type": "scatterpolargl"
           }
          ],
          "scatterternary": [
           {
            "marker": {
             "colorbar": {
              "outlinewidth": 0,
              "ticks": ""
             }
            },
            "type": "scatterternary"
           }
          ],
          "surface": [
           {
            "colorbar": {
             "outlinewidth": 0,
             "ticks": ""
            },
            "colorscale": [
             [
              0,
              "#0d0887"
             ],
             [
              0.1111111111111111,
              "#46039f"
             ],
             [
              0.2222222222222222,
              "#7201a8"
             ],
             [
              0.3333333333333333,
              "#9c179e"
             ],
             [
              0.4444444444444444,
              "#bd3786"
             ],
             [
              0.5555555555555556,
              "#d8576b"
             ],
             [
              0.6666666666666666,
              "#ed7953"
             ],
             [
              0.7777777777777778,
              "#fb9f3a"
             ],
             [
              0.8888888888888888,
              "#fdca26"
             ],
             [
              1,
              "#f0f921"
             ]
            ],
            "type": "surface"
           }
          ],
          "table": [
           {
            "cells": {
             "fill": {
              "color": "#EBF0F8"
             },
             "line": {
              "color": "white"
             }
            },
            "header": {
             "fill": {
              "color": "#C8D4E3"
             },
             "line": {
              "color": "white"
             }
            },
            "type": "table"
           }
          ]
         },
         "layout": {
          "annotationdefaults": {
           "arrowcolor": "#2a3f5f",
           "arrowhead": 0,
           "arrowwidth": 1
          },
          "autotypenumbers": "strict",
          "coloraxis": {
           "colorbar": {
            "outlinewidth": 0,
            "ticks": ""
           }
          },
          "colorscale": {
           "diverging": [
            [
             0,
             "#8e0152"
            ],
            [
             0.1,
             "#c51b7d"
            ],
            [
             0.2,
             "#de77ae"
            ],
            [
             0.3,
             "#f1b6da"
            ],
            [
             0.4,
             "#fde0ef"
            ],
            [
             0.5,
             "#f7f7f7"
            ],
            [
             0.6,
             "#e6f5d0"
            ],
            [
             0.7,
             "#b8e186"
            ],
            [
             0.8,
             "#7fbc41"
            ],
            [
             0.9,
             "#4d9221"
            ],
            [
             1,
             "#276419"
            ]
           ],
           "sequential": [
            [
             0,
             "#0d0887"
            ],
            [
             0.1111111111111111,
             "#46039f"
            ],
            [
             0.2222222222222222,
             "#7201a8"
            ],
            [
             0.3333333333333333,
             "#9c179e"
            ],
            [
             0.4444444444444444,
             "#bd3786"
            ],
            [
             0.5555555555555556,
             "#d8576b"
            ],
            [
             0.6666666666666666,
             "#ed7953"
            ],
            [
             0.7777777777777778,
             "#fb9f3a"
            ],
            [
             0.8888888888888888,
             "#fdca26"
            ],
            [
             1,
             "#f0f921"
            ]
           ],
           "sequentialminus": [
            [
             0,
             "#0d0887"
            ],
            [
             0.1111111111111111,
             "#46039f"
            ],
            [
             0.2222222222222222,
             "#7201a8"
            ],
            [
             0.3333333333333333,
             "#9c179e"
            ],
            [
             0.4444444444444444,
             "#bd3786"
            ],
            [
             0.5555555555555556,
             "#d8576b"
            ],
            [
             0.6666666666666666,
             "#ed7953"
            ],
            [
             0.7777777777777778,
             "#fb9f3a"
            ],
            [
             0.8888888888888888,
             "#fdca26"
            ],
            [
             1,
             "#f0f921"
            ]
           ]
          },
          "colorway": [
           "#636efa",
           "#EF553B",
           "#00cc96",
           "#ab63fa",
           "#FFA15A",
           "#19d3f3",
           "#FF6692",
           "#B6E880",
           "#FF97FF",
           "#FECB52"
          ],
          "font": {
           "color": "#2a3f5f"
          },
          "geo": {
           "bgcolor": "white",
           "lakecolor": "white",
           "landcolor": "#E5ECF6",
           "showlakes": true,
           "showland": true,
           "subunitcolor": "white"
          },
          "hoverlabel": {
           "align": "left"
          },
          "hovermode": "closest",
          "mapbox": {
           "style": "light"
          },
          "paper_bgcolor": "white",
          "plot_bgcolor": "#E5ECF6",
          "polar": {
           "angularaxis": {
            "gridcolor": "white",
            "linecolor": "white",
            "ticks": ""
           },
           "bgcolor": "#E5ECF6",
           "radialaxis": {
            "gridcolor": "white",
            "linecolor": "white",
            "ticks": ""
           }
          },
          "scene": {
           "xaxis": {
            "backgroundcolor": "#E5ECF6",
            "gridcolor": "white",
            "gridwidth": 2,
            "linecolor": "white",
            "showbackground": true,
            "ticks": "",
            "zerolinecolor": "white"
           },
           "yaxis": {
            "backgroundcolor": "#E5ECF6",
            "gridcolor": "white",
            "gridwidth": 2,
            "linecolor": "white",
            "showbackground": true,
            "ticks": "",
            "zerolinecolor": "white"
           },
           "zaxis": {
            "backgroundcolor": "#E5ECF6",
            "gridcolor": "white",
            "gridwidth": 2,
            "linecolor": "white",
            "showbackground": true,
            "ticks": "",
            "zerolinecolor": "white"
           }
          },
          "shapedefaults": {
           "line": {
            "color": "#2a3f5f"
           }
          },
          "ternary": {
           "aaxis": {
            "gridcolor": "white",
            "linecolor": "white",
            "ticks": ""
           },
           "baxis": {
            "gridcolor": "white",
            "linecolor": "white",
            "ticks": ""
           },
           "bgcolor": "#E5ECF6",
           "caxis": {
            "gridcolor": "white",
            "linecolor": "white",
            "ticks": ""
           }
          },
          "title": {
           "x": 0.05
          },
          "xaxis": {
           "automargin": true,
           "gridcolor": "white",
           "linecolor": "white",
           "ticks": "",
           "title": {
            "standoff": 15
           },
           "zerolinecolor": "white",
           "zerolinewidth": 2
          },
          "yaxis": {
           "automargin": true,
           "gridcolor": "white",
           "linecolor": "white",
           "ticks": "",
           "title": {
            "standoff": 15
           },
           "zerolinecolor": "white",
           "zerolinewidth": 2
          }
         }
        },
        "title": {
         "text": "Top 10 drivers with Fastest Lap (status= finished)",
         "x": 0.5,
         "xanchor": "center",
         "yanchor": "top"
        },
        "xaxis": {
         "anchor": "y",
         "categoryarray": [
          "Lewis Hamilton",
          "David Coulthard",
          "Michael Schumacher",
          "Kimi Räikkönen",
          "Sebastian Vettel",
          "Nigel Mansell",
          "Max Verstappen",
          "Fernando Alonso",
          "Graham Hill",
          "Niki Lauda"
         ],
         "categoryorder": "array",
         "domain": [
          0,
          1
         ],
         "title": {
          "text": "Driver"
         }
        },
        "yaxis": {
         "anchor": "x",
         "domain": [
          0,
          1
         ],
         "title": {
          "text": "Fastest Laps"
         }
        }
       }
      }
     },
     "metadata": {},
     "output_type": "display_data"
    }
   ],
   "source": [
    "#plot\n",
    "g = px.bar(data_frame= Fastest_lap.head(10), x= 'Name', y= 'Number_of_fastestLap', color= 'Name', hover_name = \"Name\")\n",
    "g.update_layout(\n",
    "    xaxis_title = 'Driver',\n",
    "    yaxis_title = 'Fastest Laps',\n",
    "    title = {'text':'Top 10 drivers with Fastest Lap (status= finished)', 'x':0.5, 'yanchor':'top', 'xanchor':'center' },\n",
    "    showlegend = False\n",
    ")\n",
    "g.update_traces(\n",
    "    hovertemplate = \"<b>Name: %{x}</b><br>\"+\n",
    "                     \"<b>Fastest Laps: %{y}</b><br>\"\n",
    ")\n",
    "g.show()"
   ]
  },
  {
   "cell_type": "markdown",
   "metadata": {},
   "source": [
    "*Top 10 drivers with Fastest Lap (status= finished)* <br>\n",
    "<img src=\"graphs%20plotly/Top%2010%20drivers%20with%20fastest%20lap%20(status=finished).png\" alt=\"Top 10 drivers with Fastest Lap (status= finished)\" width=600>"
   ]
  },
  {
   "cell_type": "markdown",
   "metadata": {},
   "source": [
    "#### **Driver Win analysis: Hamilton vs. Schumacher**\n",
    "- Michael Schumacher and Lewis Hamilton are often regarded as the greatest drivers in Formula One history, each sharing the record for the most World Driver Championships (7). Their careers are marked by dominance in different eras, both shaping the sport in unique ways.\n",
    "- Michael Schumacher carrer highlights:\n",
    "    - **Debut:** 1991 with Jordan.\n",
    "    - **Benetton:** Won two championships in 1994 and 1995.\n",
    "    - **Ferrari:** Dominated the early 2000s, winning five consecutive titles from 2000 to 2004.\n",
    "    - **Mercedes:** Returned in 2010 but had limited success, retiring again in 2012.\n",
    "- Lewis Hamilton carrer Highlights:\n",
    "    - **Debut:** 2007 with McLaren, narrowly missed the title in his rookie year.\n",
    "    - **McLaren:** Won his first championship in 2008.\n",
    "    - **Mercedes:** Dominated the hybrid era, winning six titles from 2014 to 2020.\n",
    "- **Objective:** Analyze wins o Lewis Hamilton (2007–2024) and Michael Schumacher (1991–2012), comparing their race wins and performances over time. The data will be visualized using a line plot on two subplots for an easier head-to-head comparison.\n"
   ]
  },
  {
   "cell_type": "code",
   "execution_count": 39,
   "metadata": {},
   "outputs": [],
   "source": [
    "query = \"\"\"\n",
    "SELECT *\n",
    "FROM drivers as d\n",
    "JOIN driver_standings as ds\n",
    "ON d.driverId = ds.driverId\n",
    "JOIN races as r\n",
    "ON r.raceId = ds.raceId\n",
    "\"\"\"\n",
    "driver_df = pd.read_sql(query, engine)"
   ]
  },
  {
   "cell_type": "code",
   "execution_count": 40,
   "metadata": {},
   "outputs": [],
   "source": [
    "driver_df = driver_df.loc[:, ~driver_df.columns.duplicated()]"
   ]
  },
  {
   "cell_type": "code",
   "execution_count": 41,
   "metadata": {},
   "outputs": [],
   "source": [
    "lewis_performance = driver_df[(driver_df['Name']=='Lewis Hamilton') & (driver_df['year']>=2007) & (driver_df['year']<=2024)].copy()"
   ]
  },
  {
   "cell_type": "code",
   "execution_count": 42,
   "metadata": {},
   "outputs": [
    {
     "data": {
      "text/html": [
       "<div>\n",
       "<style scoped>\n",
       "    .dataframe tbody tr th:only-of-type {\n",
       "        vertical-align: middle;\n",
       "    }\n",
       "\n",
       "    .dataframe tbody tr th {\n",
       "        vertical-align: top;\n",
       "    }\n",
       "\n",
       "    .dataframe thead th {\n",
       "        text-align: right;\n",
       "    }\n",
       "</style>\n",
       "<table border=\"1\" class=\"dataframe\">\n",
       "  <thead>\n",
       "    <tr style=\"text-align: right;\">\n",
       "      <th></th>\n",
       "      <th>driverId</th>\n",
       "      <th>driverRef</th>\n",
       "      <th>number</th>\n",
       "      <th>code</th>\n",
       "      <th>dob</th>\n",
       "      <th>nationality</th>\n",
       "      <th>Name</th>\n",
       "      <th>driverStandingsId</th>\n",
       "      <th>raceId</th>\n",
       "      <th>points</th>\n",
       "      <th>position</th>\n",
       "      <th>positionText</th>\n",
       "      <th>wins</th>\n",
       "      <th>year</th>\n",
       "      <th>round</th>\n",
       "      <th>circuitId</th>\n",
       "      <th>Grand_Prix</th>\n",
       "      <th>date</th>\n",
       "      <th>time</th>\n",
       "    </tr>\n",
       "  </thead>\n",
       "  <tbody>\n",
       "    <tr>\n",
       "      <th>0</th>\n",
       "      <td>1</td>\n",
       "      <td>hamilton</td>\n",
       "      <td>44</td>\n",
       "      <td>HAM</td>\n",
       "      <td>1985-01-07 00:00:00.000000</td>\n",
       "      <td>British</td>\n",
       "      <td>Lewis Hamilton</td>\n",
       "      <td>1</td>\n",
       "      <td>18</td>\n",
       "      <td>10.0</td>\n",
       "      <td>1</td>\n",
       "      <td>1</td>\n",
       "      <td>1</td>\n",
       "      <td>2008</td>\n",
       "      <td>1</td>\n",
       "      <td>1</td>\n",
       "      <td>Australian Grand Prix</td>\n",
       "      <td>2008-03-16 00:00:00.000000</td>\n",
       "      <td>04:30:00</td>\n",
       "    </tr>\n",
       "    <tr>\n",
       "      <th>1</th>\n",
       "      <td>1</td>\n",
       "      <td>hamilton</td>\n",
       "      <td>44</td>\n",
       "      <td>HAM</td>\n",
       "      <td>1985-01-07 00:00:00.000000</td>\n",
       "      <td>British</td>\n",
       "      <td>Lewis Hamilton</td>\n",
       "      <td>9</td>\n",
       "      <td>19</td>\n",
       "      <td>14.0</td>\n",
       "      <td>1</td>\n",
       "      <td>1</td>\n",
       "      <td>1</td>\n",
       "      <td>2008</td>\n",
       "      <td>2</td>\n",
       "      <td>2</td>\n",
       "      <td>Malaysian Grand Prix</td>\n",
       "      <td>2008-03-23 00:00:00.000000</td>\n",
       "      <td>07:00:00</td>\n",
       "    </tr>\n",
       "    <tr>\n",
       "      <th>2</th>\n",
       "      <td>1</td>\n",
       "      <td>hamilton</td>\n",
       "      <td>44</td>\n",
       "      <td>HAM</td>\n",
       "      <td>1985-01-07 00:00:00.000000</td>\n",
       "      <td>British</td>\n",
       "      <td>Lewis Hamilton</td>\n",
       "      <td>27</td>\n",
       "      <td>20</td>\n",
       "      <td>14.0</td>\n",
       "      <td>3</td>\n",
       "      <td>3</td>\n",
       "      <td>1</td>\n",
       "      <td>2008</td>\n",
       "      <td>3</td>\n",
       "      <td>3</td>\n",
       "      <td>Bahrain Grand Prix</td>\n",
       "      <td>2008-04-06 00:00:00.000000</td>\n",
       "      <td>11:30:00</td>\n",
       "    </tr>\n",
       "    <tr>\n",
       "      <th>3</th>\n",
       "      <td>1</td>\n",
       "      <td>hamilton</td>\n",
       "      <td>44</td>\n",
       "      <td>HAM</td>\n",
       "      <td>1985-01-07 00:00:00.000000</td>\n",
       "      <td>British</td>\n",
       "      <td>Lewis Hamilton</td>\n",
       "      <td>48</td>\n",
       "      <td>21</td>\n",
       "      <td>20.0</td>\n",
       "      <td>2</td>\n",
       "      <td>2</td>\n",
       "      <td>1</td>\n",
       "      <td>2008</td>\n",
       "      <td>4</td>\n",
       "      <td>4</td>\n",
       "      <td>Spanish Grand Prix</td>\n",
       "      <td>2008-04-27 00:00:00.000000</td>\n",
       "      <td>12:00:00</td>\n",
       "    </tr>\n",
       "    <tr>\n",
       "      <th>4</th>\n",
       "      <td>1</td>\n",
       "      <td>hamilton</td>\n",
       "      <td>44</td>\n",
       "      <td>HAM</td>\n",
       "      <td>1985-01-07 00:00:00.000000</td>\n",
       "      <td>British</td>\n",
       "      <td>Lewis Hamilton</td>\n",
       "      <td>69</td>\n",
       "      <td>22</td>\n",
       "      <td>28.0</td>\n",
       "      <td>3</td>\n",
       "      <td>3</td>\n",
       "      <td>1</td>\n",
       "      <td>2008</td>\n",
       "      <td>5</td>\n",
       "      <td>5</td>\n",
       "      <td>Turkish Grand Prix</td>\n",
       "      <td>2008-05-11 00:00:00.000000</td>\n",
       "      <td>12:00:00</td>\n",
       "    </tr>\n",
       "  </tbody>\n",
       "</table>\n",
       "</div>"
      ],
      "text/plain": [
       "   driverId driverRef number code                         dob nationality  \\\n",
       "0         1  hamilton     44  HAM  1985-01-07 00:00:00.000000     British   \n",
       "1         1  hamilton     44  HAM  1985-01-07 00:00:00.000000     British   \n",
       "2         1  hamilton     44  HAM  1985-01-07 00:00:00.000000     British   \n",
       "3         1  hamilton     44  HAM  1985-01-07 00:00:00.000000     British   \n",
       "4         1  hamilton     44  HAM  1985-01-07 00:00:00.000000     British   \n",
       "\n",
       "             Name  driverStandingsId  raceId  points  position positionText  \\\n",
       "0  Lewis Hamilton                  1      18    10.0         1            1   \n",
       "1  Lewis Hamilton                  9      19    14.0         1            1   \n",
       "2  Lewis Hamilton                 27      20    14.0         3            3   \n",
       "3  Lewis Hamilton                 48      21    20.0         2            2   \n",
       "4  Lewis Hamilton                 69      22    28.0         3            3   \n",
       "\n",
       "   wins  year  round  circuitId             Grand_Prix  \\\n",
       "0     1  2008      1          1  Australian Grand Prix   \n",
       "1     1  2008      2          2   Malaysian Grand Prix   \n",
       "2     1  2008      3          3     Bahrain Grand Prix   \n",
       "3     1  2008      4          4     Spanish Grand Prix   \n",
       "4     1  2008      5          5     Turkish Grand Prix   \n",
       "\n",
       "                         date      time  \n",
       "0  2008-03-16 00:00:00.000000  04:30:00  \n",
       "1  2008-03-23 00:00:00.000000  07:00:00  \n",
       "2  2008-04-06 00:00:00.000000  11:30:00  \n",
       "3  2008-04-27 00:00:00.000000  12:00:00  \n",
       "4  2008-05-11 00:00:00.000000  12:00:00  "
      ]
     },
     "execution_count": 42,
     "metadata": {},
     "output_type": "execute_result"
    }
   ],
   "source": [
    "lewis_performance.head()"
   ]
  },
  {
   "cell_type": "code",
   "execution_count": 43,
   "metadata": {},
   "outputs": [],
   "source": [
    "lewis_performance.replace([np.inf, -np.inf], np.nan, inplace= True)"
   ]
  },
  {
   "cell_type": "code",
   "execution_count": 44,
   "metadata": {},
   "outputs": [],
   "source": [
    "schumacher_performance = driver_df[(driver_df['Name']== 'Michael Schumacher') & (driver_df['year']>=1991) &(driver_df['year']<=2012) ].copy()"
   ]
  },
  {
   "cell_type": "code",
   "execution_count": 45,
   "metadata": {},
   "outputs": [],
   "source": [
    "schumacher_performance.sort_values('year', ascending=True, inplace= True)"
   ]
  },
  {
   "cell_type": "code",
   "execution_count": 46,
   "metadata": {},
   "outputs": [
    {
     "data": {
      "image/png": "[encoded data removed]",
      "text/plain": [
       "<Figure size 1600x1000 with 2 Axes>"
      ]
     },
     "metadata": {},
     "output_type": "display_data"
    }
   ],
   "source": [
    "fig , (ax1,ax2) = plt.subplots(nrows=2, ncols=1, figsize=(16,10), sharex = False, sharey = False)\n",
    "ax1 = sns.lineplot(data= lewis_performance , x = 'year', y= 'position', marker='o',\\\n",
    "                hue= 'Name', palette= 'dark', ax= ax1)\n",
    "ax1.invert_yaxis()\n",
    "ax1.set_xticks(lewis_performance['year'].unique())\n",
    "ax1.set_title('Lewis Hamilton Performance from 2007 to 2024')\n",
    "ax1.set_ylabel('Championship Standing')\n",
    "\n",
    "ax2 = sns.lineplot(data= schumacher_performance, x= 'year', y= 'position', marker= 'o',\\\n",
    "                   hue= 'Name', palette= 'muted', ax=ax2)\n",
    "ax2.invert_yaxis()\n",
    "ax2.set_xticks(schumacher_performance['year'].unique())\n",
    "ax2.set_title('Michael Schumacher Performace from 1991 to 2012')\n",
    "ax2.set_ylabel('Championship Standing')\n",
    "\n",
    "plt.tight_layout()\n",
    "plt.show()"
   ]
  },
  {
   "cell_type": "markdown",
   "metadata": {},
   "source": [
    "#### **Constructor Performance: Ferrari vs. Mercedes**\n",
    "- A comparative analysis of Ferrari's and Mercedes' constructor performance during the peak years of their lead drivers, Michael Schumacher (Ferrari) and Lewis Hamilton (Mercedes), highlighting their dominance and contributions to their teams' success."
   ]
  },
  {
   "cell_type": "code",
   "execution_count": 47,
   "metadata": {},
   "outputs": [],
   "source": [
    "query = \"\"\"\n",
    "SELECT *\n",
    "FROM constructors as c\n",
    "JOIN constructor_standings as cs\n",
    "ON c.constructorId = cs.constructorId\n",
    "JOIN races as r\n",
    "ON r.raceId = cs.raceId\n",
    "\"\"\"\n",
    "constructor_df = pd.read_sql(query, engine)"
   ]
  },
  {
   "cell_type": "code",
   "execution_count": 48,
   "metadata": {},
   "outputs": [],
   "source": [
    "mercedes_performance = constructor_df[(constructor_df['name']== 'Mercedes') & (constructor_df['year'] >=2014) & (constructor_df['year'] <=2024)]"
   ]
  },
  {
   "cell_type": "code",
   "execution_count": 49,
   "metadata": {},
   "outputs": [],
   "source": [
    "ferrari_performance = constructor_df[(constructor_df['name']== 'Ferrari') & (constructor_df['year'] >=1996) & (constructor_df['year'] <=2006)]"
   ]
  },
  {
   "cell_type": "code",
   "execution_count": 50,
   "metadata": {},
   "outputs": [],
   "source": [
    "#comparison of constructor\n",
    "mercedes_ferrari_df = pd.concat([mercedes_performance, ferrari_performance])"
   ]
  },
  {
   "cell_type": "code",
   "execution_count": 51,
   "metadata": {},
   "outputs": [
    {
     "data": {
      "image/png": "[encoded data removed]",
      "text/plain": [
       "<Figure size 1116.62x500 with 2 Axes>"
      ]
     },
     "metadata": {},
     "output_type": "display_data"
    }
   ],
   "source": [
    "g = sns.relplot(data= mercedes_ferrari_df, x = 'year', y= 'position', col= 'name', kind= 'line', facet_kws= {'sharex': False}, height= 5, aspect=1, marker='o',\\\n",
    "                hue= 'name', palette= 'dark')\n",
    "plt.gca().invert_yaxis()\n",
    "titles = [\"Mercedes Performance (Hamilton Era)\", \"Ferrari Performance (Schumacher Era)\"]\n",
    "for ax,title in zip(g.axes.flatten(), titles):\n",
    "    ax.set_title(title)"
   ]
  },
  {
   "cell_type": "markdown",
   "metadata": {},
   "source": [
    "#### **Lewis Hamilton Average Lap Pace across his carrer**\n",
    "- **Objective:**  Analyze Lewis Hamilton's performance by calculating his average lap pace over the course of his career and visualizing the trends using a line plot."
   ]
  },
  {
   "cell_type": "code",
   "execution_count": 52,
   "metadata": {},
   "outputs": [
    {
     "data": {
      "text/plain": [
       "344"
      ]
     },
     "execution_count": 52,
     "metadata": {},
     "output_type": "execute_result"
    }
   ],
   "source": [
    "lewis_performance.to_sql('lewis_hamilton', engine, index= False, if_exists= 'replace')"
   ]
  },
  {
   "cell_type": "code",
   "execution_count": 53,
   "metadata": {},
   "outputs": [
    {
     "data": {
      "text/html": [
       "<div>\n",
       "<style scoped>\n",
       "    .dataframe tbody tr th:only-of-type {\n",
       "        vertical-align: middle;\n",
       "    }\n",
       "\n",
       "    .dataframe tbody tr th {\n",
       "        vertical-align: top;\n",
       "    }\n",
       "\n",
       "    .dataframe thead th {\n",
       "        text-align: right;\n",
       "    }\n",
       "</style>\n",
       "<table border=\"1\" class=\"dataframe\">\n",
       "  <thead>\n",
       "    <tr style=\"text-align: right;\">\n",
       "      <th></th>\n",
       "      <th>driverId</th>\n",
       "      <th>Name</th>\n",
       "      <th>year</th>\n",
       "      <th>Avg_pace</th>\n",
       "    </tr>\n",
       "  </thead>\n",
       "  <tbody>\n",
       "    <tr>\n",
       "      <th>0</th>\n",
       "      <td>1</td>\n",
       "      <td>Lewis Hamilton</td>\n",
       "      <td>2007</td>\n",
       "      <td>207.627941</td>\n",
       "    </tr>\n",
       "    <tr>\n",
       "      <th>1</th>\n",
       "      <td>1</td>\n",
       "      <td>Lewis Hamilton</td>\n",
       "      <td>2008</td>\n",
       "      <td>204.564667</td>\n",
       "    </tr>\n",
       "    <tr>\n",
       "      <th>2</th>\n",
       "      <td>1</td>\n",
       "      <td>Lewis Hamilton</td>\n",
       "      <td>2009</td>\n",
       "      <td>200.652080</td>\n",
       "    </tr>\n",
       "    <tr>\n",
       "      <th>3</th>\n",
       "      <td>1</td>\n",
       "      <td>Lewis Hamilton</td>\n",
       "      <td>2010</td>\n",
       "      <td>200.365120</td>\n",
       "    </tr>\n",
       "    <tr>\n",
       "      <th>4</th>\n",
       "      <td>1</td>\n",
       "      <td>Lewis Hamilton</td>\n",
       "      <td>2011</td>\n",
       "      <td>198.009053</td>\n",
       "    </tr>\n",
       "    <tr>\n",
       "      <th>5</th>\n",
       "      <td>1</td>\n",
       "      <td>Lewis Hamilton</td>\n",
       "      <td>2012</td>\n",
       "      <td>197.348264</td>\n",
       "    </tr>\n",
       "    <tr>\n",
       "      <th>6</th>\n",
       "      <td>1</td>\n",
       "      <td>Lewis Hamilton</td>\n",
       "      <td>2013</td>\n",
       "      <td>199.885684</td>\n",
       "    </tr>\n",
       "    <tr>\n",
       "      <th>7</th>\n",
       "      <td>1</td>\n",
       "      <td>Lewis Hamilton</td>\n",
       "      <td>2014</td>\n",
       "      <td>196.486158</td>\n",
       "    </tr>\n",
       "    <tr>\n",
       "      <th>8</th>\n",
       "      <td>1</td>\n",
       "      <td>Lewis Hamilton</td>\n",
       "      <td>2015</td>\n",
       "      <td>200.058632</td>\n",
       "    </tr>\n",
       "    <tr>\n",
       "      <th>9</th>\n",
       "      <td>1</td>\n",
       "      <td>Lewis Hamilton</td>\n",
       "      <td>2016</td>\n",
       "      <td>202.202918</td>\n",
       "    </tr>\n",
       "    <tr>\n",
       "      <th>10</th>\n",
       "      <td>1</td>\n",
       "      <td>Lewis Hamilton</td>\n",
       "      <td>2017</td>\n",
       "      <td>209.448550</td>\n",
       "    </tr>\n",
       "    <tr>\n",
       "      <th>11</th>\n",
       "      <td>1</td>\n",
       "      <td>Lewis Hamilton</td>\n",
       "      <td>2018</td>\n",
       "      <td>211.203190</td>\n",
       "    </tr>\n",
       "    <tr>\n",
       "      <th>12</th>\n",
       "      <td>1</td>\n",
       "      <td>Lewis Hamilton</td>\n",
       "      <td>2019</td>\n",
       "      <td>212.482857</td>\n",
       "    </tr>\n",
       "    <tr>\n",
       "      <th>13</th>\n",
       "      <td>1</td>\n",
       "      <td>Lewis Hamilton</td>\n",
       "      <td>2020</td>\n",
       "      <td>222.079750</td>\n",
       "    </tr>\n",
       "    <tr>\n",
       "      <th>14</th>\n",
       "      <td>1</td>\n",
       "      <td>Lewis Hamilton</td>\n",
       "      <td>2021</td>\n",
       "      <td>214.798377</td>\n",
       "    </tr>\n",
       "    <tr>\n",
       "      <th>15</th>\n",
       "      <td>1</td>\n",
       "      <td>Lewis Hamilton</td>\n",
       "      <td>2022</td>\n",
       "      <td>207.400467</td>\n",
       "    </tr>\n",
       "    <tr>\n",
       "      <th>16</th>\n",
       "      <td>1</td>\n",
       "      <td>Lewis Hamilton</td>\n",
       "      <td>2023</td>\n",
       "      <td>212.478649</td>\n",
       "    </tr>\n",
       "    <tr>\n",
       "      <th>17</th>\n",
       "      <td>1</td>\n",
       "      <td>Lewis Hamilton</td>\n",
       "      <td>2024</td>\n",
       "      <td>218.232524</td>\n",
       "    </tr>\n",
       "  </tbody>\n",
       "</table>\n",
       "</div>"
      ],
      "text/plain": [
       "    driverId            Name  year    Avg_pace\n",
       "0          1  Lewis Hamilton  2007  207.627941\n",
       "1          1  Lewis Hamilton  2008  204.564667\n",
       "2          1  Lewis Hamilton  2009  200.652080\n",
       "3          1  Lewis Hamilton  2010  200.365120\n",
       "4          1  Lewis Hamilton  2011  198.009053\n",
       "5          1  Lewis Hamilton  2012  197.348264\n",
       "6          1  Lewis Hamilton  2013  199.885684\n",
       "7          1  Lewis Hamilton  2014  196.486158\n",
       "8          1  Lewis Hamilton  2015  200.058632\n",
       "9          1  Lewis Hamilton  2016  202.202918\n",
       "10         1  Lewis Hamilton  2017  209.448550\n",
       "11         1  Lewis Hamilton  2018  211.203190\n",
       "12         1  Lewis Hamilton  2019  212.482857\n",
       "13         1  Lewis Hamilton  2020  222.079750\n",
       "14         1  Lewis Hamilton  2021  214.798377\n",
       "15         1  Lewis Hamilton  2022  207.400467\n",
       "16         1  Lewis Hamilton  2023  212.478649\n",
       "17         1  Lewis Hamilton  2024  218.232524"
      ]
     },
     "execution_count": 53,
     "metadata": {},
     "output_type": "execute_result"
    }
   ],
   "source": [
    "query =\"\"\"   \n",
    "SELECT hs.driverId, hs.Name, hs.year, AVG(r.fastestLapSpeed) AS Avg_pace\n",
    "FROM lewis_hamilton AS hs\n",
    "JOIN results AS r\n",
    "ON hs.driverId = r.driverId\n",
    "AND hs.raceId = r.raceId\n",
    "GROUP BY hs.driverId, hs.Name, hs.year\n",
    "\"\"\"\n",
    "hamilton_avg_pace = pd.read_sql(query, engine)\n",
    "hamilton_avg_pace"
   ]
  },
  {
   "cell_type": "code",
   "execution_count": 54,
   "metadata": {},
   "outputs": [
    {
     "data": {
      "image/png": "[encoded data removed]",
      "text/plain": [
       "<Figure size 1200x400 with 1 Axes>"
      ]
     },
     "metadata": {},
     "output_type": "display_data"
    }
   ],
   "source": [
    "plt.figure(figsize= (12,4))\n",
    "sns.lineplot(data= hamilton_avg_pace, x= 'year', y= 'Avg_pace', marker= 'o')\n",
    "plt.xticks(hamilton_avg_pace['year'].unique(), fontsize = 8)\n",
    "plt.yticks(fontsize= 8)\n",
    "plt.xlabel('year')\n",
    "plt.title('Lewis Hamilton average pace')\n",
    "plt.ylabel('average pace')\n",
    "plt.show()"
   ]
  },
  {
   "cell_type": "markdown",
   "metadata": {},
   "source": [
    "#### **Qualifying Performance Analysis**\n",
    "- **Objective:** Analyze the total number of times Lewis Hamilton advanced through qualifying stages (Q1 → Q2 → Q3) during his career."
   ]
  },
  {
   "cell_type": "code",
   "execution_count": 55,
   "metadata": {},
   "outputs": [],
   "source": [
    "qualifying['q2'] = qualifying['q2'].replace('\\\\N', 0)\n",
    "qualifying['q3'] = qualifying['q3'].replace('\\\\N', 0)"
   ]
  },
  {
   "cell_type": "code",
   "execution_count": 56,
   "metadata": {},
   "outputs": [],
   "source": [
    "qualifying['Q1'] = qualifying['q1'].apply(time_to_milliseconds)\n",
    "qualifying['Q2'] = qualifying['q2'].apply(time_to_milliseconds)\n",
    "qualifying['Q3'] = qualifying['q3'].apply(time_to_milliseconds)"
   ]
  },
  {
   "cell_type": "code",
   "execution_count": 57,
   "metadata": {},
   "outputs": [],
   "source": [
    "qualifying.drop(columns= ['q1', 'q2', 'q3'], axis=1, inplace= True )"
   ]
  },
  {
   "cell_type": "code",
   "execution_count": 58,
   "metadata": {},
   "outputs": [],
   "source": [
    "qualifying['Q2'] = qualifying['Q2'].replace(np.nan, 0)\n",
    "qualifying['Q3'] = qualifying['Q3'].replace(np.nan, 0)"
   ]
  },
  {
   "cell_type": "code",
   "execution_count": 59,
   "metadata": {},
   "outputs": [
    {
     "data": {
      "text/html": [
       "<div>\n",
       "<style scoped>\n",
       "    .dataframe tbody tr th:only-of-type {\n",
       "        vertical-align: middle;\n",
       "    }\n",
       "\n",
       "    .dataframe tbody tr th {\n",
       "        vertical-align: top;\n",
       "    }\n",
       "\n",
       "    .dataframe thead th {\n",
       "        text-align: right;\n",
       "    }\n",
       "</style>\n",
       "<table border=\"1\" class=\"dataframe\">\n",
       "  <thead>\n",
       "    <tr style=\"text-align: right;\">\n",
       "      <th></th>\n",
       "      <th>qualifyId</th>\n",
       "      <th>raceId</th>\n",
       "      <th>driverId</th>\n",
       "      <th>constructorId</th>\n",
       "      <th>number</th>\n",
       "      <th>position</th>\n",
       "      <th>Q1</th>\n",
       "      <th>Q2</th>\n",
       "      <th>Q3</th>\n",
       "    </tr>\n",
       "  </thead>\n",
       "  <tbody>\n",
       "    <tr>\n",
       "      <th>0</th>\n",
       "      <td>1</td>\n",
       "      <td>18</td>\n",
       "      <td>1</td>\n",
       "      <td>1</td>\n",
       "      <td>22</td>\n",
       "      <td>1</td>\n",
       "      <td>86572.0</td>\n",
       "      <td>85187.0</td>\n",
       "      <td>86714.0</td>\n",
       "    </tr>\n",
       "    <tr>\n",
       "      <th>1</th>\n",
       "      <td>2</td>\n",
       "      <td>18</td>\n",
       "      <td>9</td>\n",
       "      <td>2</td>\n",
       "      <td>4</td>\n",
       "      <td>2</td>\n",
       "      <td>86103.0</td>\n",
       "      <td>85315.0</td>\n",
       "      <td>86869.0</td>\n",
       "    </tr>\n",
       "    <tr>\n",
       "      <th>2</th>\n",
       "      <td>3</td>\n",
       "      <td>18</td>\n",
       "      <td>5</td>\n",
       "      <td>1</td>\n",
       "      <td>23</td>\n",
       "      <td>3</td>\n",
       "      <td>85664.0</td>\n",
       "      <td>85452.0</td>\n",
       "      <td>87079.0</td>\n",
       "    </tr>\n",
       "    <tr>\n",
       "      <th>3</th>\n",
       "      <td>4</td>\n",
       "      <td>18</td>\n",
       "      <td>13</td>\n",
       "      <td>6</td>\n",
       "      <td>2</td>\n",
       "      <td>4</td>\n",
       "      <td>85994.0</td>\n",
       "      <td>85691.0</td>\n",
       "      <td>87178.0</td>\n",
       "    </tr>\n",
       "    <tr>\n",
       "      <th>4</th>\n",
       "      <td>5</td>\n",
       "      <td>18</td>\n",
       "      <td>2</td>\n",
       "      <td>2</td>\n",
       "      <td>3</td>\n",
       "      <td>5</td>\n",
       "      <td>85960.0</td>\n",
       "      <td>85518.0</td>\n",
       "      <td>87236.0</td>\n",
       "    </tr>\n",
       "  </tbody>\n",
       "</table>\n",
       "</div>"
      ],
      "text/plain": [
       "   qualifyId  raceId  driverId  constructorId  number  position       Q1  \\\n",
       "0          1      18         1              1      22         1  86572.0   \n",
       "1          2      18         9              2       4         2  86103.0   \n",
       "2          3      18         5              1      23         3  85664.0   \n",
       "3          4      18        13              6       2         4  85994.0   \n",
       "4          5      18         2              2       3         5  85960.0   \n",
       "\n",
       "        Q2       Q3  \n",
       "0  85187.0  86714.0  \n",
       "1  85315.0  86869.0  \n",
       "2  85452.0  87079.0  \n",
       "3  85691.0  87178.0  \n",
       "4  85518.0  87236.0  "
      ]
     },
     "execution_count": 59,
     "metadata": {},
     "output_type": "execute_result"
    }
   ],
   "source": [
    "qualifying.head()"
   ]
  },
  {
   "cell_type": "code",
   "execution_count": 60,
   "metadata": {},
   "outputs": [
    {
     "data": {
      "text/plain": [
       "10254"
      ]
     },
     "execution_count": 60,
     "metadata": {},
     "output_type": "execute_result"
    }
   ],
   "source": [
    "qualifying.to_sql('qualifying', engine, index = False, if_exists= 'replace')"
   ]
  },
  {
   "cell_type": "code",
   "execution_count": 61,
   "metadata": {},
   "outputs": [],
   "source": [
    "query = \"\"\" \n",
    "SELECT d.driverId, d.Name,  \n",
    "COUNT(CASE WHEN Q1!=0 THEN Q1 END) AS Q1, \n",
    "COUNT(CASE WHEN Q2!=0 THEN Q2 END) AS Q2, \n",
    "COUNT(CASE WHEN Q3!=0 THEN Q3 END) AS Q3\n",
    "FROM qualifying AS q\n",
    "JOIN drivers AS d\n",
    "ON d.driverId = q.driverId\n",
    "WHERE q.driverId = 1 \n",
    "GROUP BY d.driverId, d.Name\n",
    "\"\"\"\n",
    "hamilton_qualifying_count = pd.read_sql(query, engine)"
   ]
  },
  {
   "cell_type": "code",
   "execution_count": 62,
   "metadata": {},
   "outputs": [
    {
     "data": {
      "text/html": [
       "<div>\n",
       "<style scoped>\n",
       "    .dataframe tbody tr th:only-of-type {\n",
       "        vertical-align: middle;\n",
       "    }\n",
       "\n",
       "    .dataframe tbody tr th {\n",
       "        vertical-align: top;\n",
       "    }\n",
       "\n",
       "    .dataframe thead th {\n",
       "        text-align: right;\n",
       "    }\n",
       "</style>\n",
       "<table border=\"1\" class=\"dataframe\">\n",
       "  <thead>\n",
       "    <tr style=\"text-align: right;\">\n",
       "      <th></th>\n",
       "      <th>driverId</th>\n",
       "      <th>Name</th>\n",
       "      <th>Q1</th>\n",
       "      <th>Q2</th>\n",
       "      <th>Q3</th>\n",
       "    </tr>\n",
       "  </thead>\n",
       "  <tbody>\n",
       "    <tr>\n",
       "      <th>0</th>\n",
       "      <td>1</td>\n",
       "      <td>Lewis Hamilton</td>\n",
       "      <td>341</td>\n",
       "      <td>330</td>\n",
       "      <td>314</td>\n",
       "    </tr>\n",
       "  </tbody>\n",
       "</table>\n",
       "</div>"
      ],
      "text/plain": [
       "   driverId            Name   Q1   Q2   Q3\n",
       "0         1  Lewis Hamilton  341  330  314"
      ]
     },
     "execution_count": 62,
     "metadata": {},
     "output_type": "execute_result"
    }
   ],
   "source": [
    "hamilton_qualifying_count"
   ]
  },
  {
   "cell_type": "code",
   "execution_count": 63,
   "metadata": {},
   "outputs": [],
   "source": [
    "hamilton_qualifying_count = pd.melt(frame= hamilton_qualifying_count, id_vars= 'Name', value_vars= ['Q1','Q2','Q3'], var_name= \"Qualifying\", value_name= 'Count')"
   ]
  },
  {
   "cell_type": "code",
   "execution_count": 64,
   "metadata": {},
   "outputs": [
    {
     "data": {
      "text/html": [
       "<div>\n",
       "<style scoped>\n",
       "    .dataframe tbody tr th:only-of-type {\n",
       "        vertical-align: middle;\n",
       "    }\n",
       "\n",
       "    .dataframe tbody tr th {\n",
       "        vertical-align: top;\n",
       "    }\n",
       "\n",
       "    .dataframe thead th {\n",
       "        text-align: right;\n",
       "    }\n",
       "</style>\n",
       "<table border=\"1\" class=\"dataframe\">\n",
       "  <thead>\n",
       "    <tr style=\"text-align: right;\">\n",
       "      <th></th>\n",
       "      <th>Name</th>\n",
       "      <th>Qualifying</th>\n",
       "      <th>Count</th>\n",
       "    </tr>\n",
       "  </thead>\n",
       "  <tbody>\n",
       "    <tr>\n",
       "      <th>0</th>\n",
       "      <td>Lewis Hamilton</td>\n",
       "      <td>Q1</td>\n",
       "      <td>341</td>\n",
       "    </tr>\n",
       "    <tr>\n",
       "      <th>1</th>\n",
       "      <td>Lewis Hamilton</td>\n",
       "      <td>Q2</td>\n",
       "      <td>330</td>\n",
       "    </tr>\n",
       "    <tr>\n",
       "      <th>2</th>\n",
       "      <td>Lewis Hamilton</td>\n",
       "      <td>Q3</td>\n",
       "      <td>314</td>\n",
       "    </tr>\n",
       "  </tbody>\n",
       "</table>\n",
       "</div>"
      ],
      "text/plain": [
       "             Name Qualifying  Count\n",
       "0  Lewis Hamilton         Q1    341\n",
       "1  Lewis Hamilton         Q2    330\n",
       "2  Lewis Hamilton         Q3    314"
      ]
     },
     "execution_count": 64,
     "metadata": {},
     "output_type": "execute_result"
    }
   ],
   "source": [
    "hamilton_qualifying_count"
   ]
  },
  {
   "cell_type": "code",
   "execution_count": 65,
   "metadata": {},
   "outputs": [
    {
     "data": {
      "image/png": "[encoded data removed]",
      "text/plain": [
       "<Figure size 1000x400 with 1 Axes>"
      ]
     },
     "metadata": {},
     "output_type": "display_data"
    }
   ],
   "source": [
    "plt.figure(figsize = (10,4))\n",
    "g= sns.barplot(data= hamilton_qualifying_count, y= 'Qualifying', x= 'Count', hue = 'Qualifying', palette= 'coolwarm')\n",
    "plt.title('Lewis Hamliton Qualifying Figures')\n",
    "plt.show()"
   ]
  },
  {
   "cell_type": "markdown",
   "metadata": {},
   "source": [
    "#### **Drivers with the Highest Pole Positions Count**\n",
    "- **Objective:** Calculate the total number of pole positions for every drivers by utilzing results and sprint_results table and plotting the top 10 drivers on a bar plot.\n"
   ]
  },
  {
   "cell_type": "code",
   "execution_count": 66,
   "metadata": {},
   "outputs": [],
   "source": [
    "query = \"\"\" \n",
    "WITH result_q AS(\n",
    "SELECT d.driverId, d.Name,  r.raceId, COUNT(grid) AS Pole_r\n",
    "FROM drivers AS d\n",
    "JOIN results AS rs\n",
    "ON d.driverId = rs.driverId\n",
    "JOIN races AS r\n",
    "ON rs.raceID = r.raceID\n",
    "WHERE rs.grid = 1\n",
    "GROUP BY d.driverId, d.Name\n",
    "),\n",
    "sprint_q AS(\n",
    "SELECT d.driverId, d.Name,  r.raceId, COUNT(grid) AS Pole_s\n",
    "FROM drivers AS d\n",
    "JOIN sprint_results AS s\n",
    "ON d.driverId = s.driverId\n",
    "JOIN races AS r\n",
    "ON s.raceID = r.raceID\n",
    "WHERE s.grid = 1\n",
    "GROUP BY d.driverId, d.Name\n",
    ")\n",
    "SELECT rq.driverId, rq.Name, \n",
    "       COALESCE(Pole_r, 0) + COALESCE(Pole_s, 0) AS Pole\n",
    "FROM result_q AS rq\n",
    "LEFT JOIN sprint_q AS sq ON rq.driverId = sq.driverId\n",
    "ORDER BY POLE DESC\n",
    "\"\"\"\n",
    "\n",
    "Pole_positions = pd.read_sql(query, engine)"
   ]
  },
  {
   "cell_type": "code",
   "execution_count": 67,
   "metadata": {},
   "outputs": [
    {
     "data": {
      "text/html": [
       "<div>\n",
       "<style scoped>\n",
       "    .dataframe tbody tr th:only-of-type {\n",
       "        vertical-align: middle;\n",
       "    }\n",
       "\n",
       "    .dataframe tbody tr th {\n",
       "        vertical-align: top;\n",
       "    }\n",
       "\n",
       "    .dataframe thead th {\n",
       "        text-align: right;\n",
       "    }\n",
       "</style>\n",
       "<table border=\"1\" class=\"dataframe\">\n",
       "  <thead>\n",
       "    <tr style=\"text-align: right;\">\n",
       "      <th></th>\n",
       "      <th>driverId</th>\n",
       "      <th>Name</th>\n",
       "      <th>Pole</th>\n",
       "    </tr>\n",
       "  </thead>\n",
       "  <tbody>\n",
       "    <tr>\n",
       "      <th>0</th>\n",
       "      <td>1</td>\n",
       "      <td>Lewis Hamilton</td>\n",
       "      <td>105</td>\n",
       "    </tr>\n",
       "    <tr>\n",
       "      <th>1</th>\n",
       "      <td>30</td>\n",
       "      <td>Michael Schumacher</td>\n",
       "      <td>68</td>\n",
       "    </tr>\n",
       "    <tr>\n",
       "      <th>2</th>\n",
       "      <td>102</td>\n",
       "      <td>Ayrton Senna</td>\n",
       "      <td>65</td>\n",
       "    </tr>\n",
       "    <tr>\n",
       "      <th>3</th>\n",
       "      <td>20</td>\n",
       "      <td>Sebastian Vettel</td>\n",
       "      <td>57</td>\n",
       "    </tr>\n",
       "    <tr>\n",
       "      <th>4</th>\n",
       "      <td>830</td>\n",
       "      <td>Max Verstappen</td>\n",
       "      <td>48</td>\n",
       "    </tr>\n",
       "    <tr>\n",
       "      <th>5</th>\n",
       "      <td>373</td>\n",
       "      <td>Jim Clark</td>\n",
       "      <td>34</td>\n",
       "    </tr>\n",
       "    <tr>\n",
       "      <th>6</th>\n",
       "      <td>117</td>\n",
       "      <td>Alain Prost</td>\n",
       "      <td>33</td>\n",
       "    </tr>\n",
       "    <tr>\n",
       "      <th>7</th>\n",
       "      <td>95</td>\n",
       "      <td>Nigel Mansell</td>\n",
       "      <td>32</td>\n",
       "    </tr>\n",
       "    <tr>\n",
       "      <th>8</th>\n",
       "      <td>3</td>\n",
       "      <td>Nico Rosberg</td>\n",
       "      <td>30</td>\n",
       "    </tr>\n",
       "    <tr>\n",
       "      <th>9</th>\n",
       "      <td>579</td>\n",
       "      <td>Juan Fangio</td>\n",
       "      <td>29</td>\n",
       "    </tr>\n",
       "  </tbody>\n",
       "</table>\n",
       "</div>"
      ],
      "text/plain": [
       "   driverId                Name  Pole\n",
       "0         1      Lewis Hamilton   105\n",
       "1        30  Michael Schumacher    68\n",
       "2       102        Ayrton Senna    65\n",
       "3        20    Sebastian Vettel    57\n",
       "4       830      Max Verstappen    48\n",
       "5       373           Jim Clark    34\n",
       "6       117         Alain Prost    33\n",
       "7        95       Nigel Mansell    32\n",
       "8         3        Nico Rosberg    30\n",
       "9       579         Juan Fangio    29"
      ]
     },
     "execution_count": 67,
     "metadata": {},
     "output_type": "execute_result"
    }
   ],
   "source": [
    "Pole_positions.head(10)"
   ]
  },
  {
   "cell_type": "code",
   "execution_count": 68,
   "metadata": {},
   "outputs": [
    {
     "data": {
      "image/png": "[encoded data removed]",
      "text/plain": [
       "<Figure size 1000x500 with 1 Axes>"
      ]
     },
     "metadata": {},
     "output_type": "display_data"
    }
   ],
   "source": [
    "plt.figure(figsize= (10,5))\n",
    "g = sns.barplot(data= Pole_positions.head(10), x= 'Name', y= 'Pole', hue= 'Name', palette= 'cubehelix')\n",
    "plt.title('F1 Drivers with the Highest Pole Positions Count')\n",
    "plt.xticks(rotation = -45, ha= 'left', va= 'top', fontsize = 10)\n",
    "plt.ylabel('Pole Positions')\n",
    "plt.show()"
   ]
  },
  {
   "cell_type": "markdown",
   "metadata": {},
   "source": [
    "#### **Hamilton's Qualifying vs Race Performance at Silverstone**\n",
    "- **Objective:** Analyze Lewis Hamilton's performance by comparing his qualifying positions to his race finishing positions at Silverstone."
   ]
  },
  {
   "cell_type": "code",
   "execution_count": 69,
   "metadata": {},
   "outputs": [],
   "source": [
    "query= \"\"\" \n",
    "SELECT DISTINCT r.raceId, r.circuitId, r.Grand_prix, rs.grid, rs.driverId, d.Name, rs.position, r.year\n",
    "FROM results as rs\n",
    "JOIN drivers as d\n",
    "ON d.driverId = rs.driverId\n",
    "JOIN races as r\n",
    "ON r.raceId = rs.raceId\n",
    "JOIN circuits as c\n",
    "ON c.circuitId = r.circuitId\n",
    "WHERE c.circuitId = 9 AND d.driverId = 1\n",
    "GROUP BY r.raceId, r.circuitId, rs.driverId, r.year\n",
    "\"\"\"\n",
    "\n",
    "hamilton_silverstone = pd.read_sql(query, engine)"
   ]
  },
  {
   "cell_type": "code",
   "execution_count": 70,
   "metadata": {},
   "outputs": [],
   "source": [
    "hamilton_silverstone = hamilton_silverstone[hamilton_silverstone['Grand_Prix']!='70th Anniversary Grand Prix']"
   ]
  },
  {
   "cell_type": "code",
   "execution_count": 71,
   "metadata": {},
   "outputs": [],
   "source": [
    "hamilton_silverstone.loc[:, 'position'] = hamilton_silverstone['position'].astype(int)"
   ]
  },
  {
   "cell_type": "code",
   "execution_count": 72,
   "metadata": {},
   "outputs": [],
   "source": [
    "hamilton_silverstone= pd.melt(frame= hamilton_silverstone, id_vars= 'year', value_vars= ['grid','position'], var_name= 'Position type', value_name= 'Position')"
   ]
  },
  {
   "cell_type": "code",
   "execution_count": 73,
   "metadata": {},
   "outputs": [
    {
     "data": {
      "text/html": [
       "<div>\n",
       "<style scoped>\n",
       "    .dataframe tbody tr th:only-of-type {\n",
       "        vertical-align: middle;\n",
       "    }\n",
       "\n",
       "    .dataframe tbody tr th {\n",
       "        vertical-align: top;\n",
       "    }\n",
       "\n",
       "    .dataframe thead th {\n",
       "        text-align: right;\n",
       "    }\n",
       "</style>\n",
       "<table border=\"1\" class=\"dataframe\">\n",
       "  <thead>\n",
       "    <tr style=\"text-align: right;\">\n",
       "      <th></th>\n",
       "      <th>year</th>\n",
       "      <th>Position type</th>\n",
       "      <th>Position</th>\n",
       "    </tr>\n",
       "  </thead>\n",
       "  <tbody>\n",
       "    <tr>\n",
       "      <th>0</th>\n",
       "      <td>2009</td>\n",
       "      <td>grid</td>\n",
       "      <td>18</td>\n",
       "    </tr>\n",
       "    <tr>\n",
       "      <th>1</th>\n",
       "      <td>2008</td>\n",
       "      <td>grid</td>\n",
       "      <td>4</td>\n",
       "    </tr>\n",
       "    <tr>\n",
       "      <th>2</th>\n",
       "      <td>2007</td>\n",
       "      <td>grid</td>\n",
       "      <td>1</td>\n",
       "    </tr>\n",
       "    <tr>\n",
       "      <th>3</th>\n",
       "      <td>2010</td>\n",
       "      <td>grid</td>\n",
       "      <td>4</td>\n",
       "    </tr>\n",
       "    <tr>\n",
       "      <th>4</th>\n",
       "      <td>2011</td>\n",
       "      <td>grid</td>\n",
       "      <td>10</td>\n",
       "    </tr>\n",
       "    <tr>\n",
       "      <th>5</th>\n",
       "      <td>2012</td>\n",
       "      <td>grid</td>\n",
       "      <td>8</td>\n",
       "    </tr>\n",
       "    <tr>\n",
       "      <th>6</th>\n",
       "      <td>2013</td>\n",
       "      <td>grid</td>\n",
       "      <td>1</td>\n",
       "    </tr>\n",
       "    <tr>\n",
       "      <th>7</th>\n",
       "      <td>2014</td>\n",
       "      <td>grid</td>\n",
       "      <td>6</td>\n",
       "    </tr>\n",
       "    <tr>\n",
       "      <th>8</th>\n",
       "      <td>2015</td>\n",
       "      <td>grid</td>\n",
       "      <td>1</td>\n",
       "    </tr>\n",
       "    <tr>\n",
       "      <th>9</th>\n",
       "      <td>2016</td>\n",
       "      <td>grid</td>\n",
       "      <td>1</td>\n",
       "    </tr>\n",
       "    <tr>\n",
       "      <th>10</th>\n",
       "      <td>2017</td>\n",
       "      <td>grid</td>\n",
       "      <td>1</td>\n",
       "    </tr>\n",
       "    <tr>\n",
       "      <th>11</th>\n",
       "      <td>2018</td>\n",
       "      <td>grid</td>\n",
       "      <td>1</td>\n",
       "    </tr>\n",
       "    <tr>\n",
       "      <th>12</th>\n",
       "      <td>2019</td>\n",
       "      <td>grid</td>\n",
       "      <td>2</td>\n",
       "    </tr>\n",
       "    <tr>\n",
       "      <th>13</th>\n",
       "      <td>2020</td>\n",
       "      <td>grid</td>\n",
       "      <td>1</td>\n",
       "    </tr>\n",
       "    <tr>\n",
       "      <th>14</th>\n",
       "      <td>2021</td>\n",
       "      <td>grid</td>\n",
       "      <td>2</td>\n",
       "    </tr>\n",
       "    <tr>\n",
       "      <th>15</th>\n",
       "      <td>2022</td>\n",
       "      <td>grid</td>\n",
       "      <td>5</td>\n",
       "    </tr>\n",
       "    <tr>\n",
       "      <th>16</th>\n",
       "      <td>2023</td>\n",
       "      <td>grid</td>\n",
       "      <td>7</td>\n",
       "    </tr>\n",
       "    <tr>\n",
       "      <th>17</th>\n",
       "      <td>2024</td>\n",
       "      <td>grid</td>\n",
       "      <td>2</td>\n",
       "    </tr>\n",
       "    <tr>\n",
       "      <th>18</th>\n",
       "      <td>2009</td>\n",
       "      <td>position</td>\n",
       "      <td>16</td>\n",
       "    </tr>\n",
       "    <tr>\n",
       "      <th>19</th>\n",
       "      <td>2008</td>\n",
       "      <td>position</td>\n",
       "      <td>1</td>\n",
       "    </tr>\n",
       "    <tr>\n",
       "      <th>20</th>\n",
       "      <td>2007</td>\n",
       "      <td>position</td>\n",
       "      <td>3</td>\n",
       "    </tr>\n",
       "    <tr>\n",
       "      <th>21</th>\n",
       "      <td>2010</td>\n",
       "      <td>position</td>\n",
       "      <td>2</td>\n",
       "    </tr>\n",
       "    <tr>\n",
       "      <th>22</th>\n",
       "      <td>2011</td>\n",
       "      <td>position</td>\n",
       "      <td>4</td>\n",
       "    </tr>\n",
       "    <tr>\n",
       "      <th>23</th>\n",
       "      <td>2012</td>\n",
       "      <td>position</td>\n",
       "      <td>8</td>\n",
       "    </tr>\n",
       "    <tr>\n",
       "      <th>24</th>\n",
       "      <td>2013</td>\n",
       "      <td>position</td>\n",
       "      <td>4</td>\n",
       "    </tr>\n",
       "    <tr>\n",
       "      <th>25</th>\n",
       "      <td>2014</td>\n",
       "      <td>position</td>\n",
       "      <td>1</td>\n",
       "    </tr>\n",
       "    <tr>\n",
       "      <th>26</th>\n",
       "      <td>2015</td>\n",
       "      <td>position</td>\n",
       "      <td>1</td>\n",
       "    </tr>\n",
       "    <tr>\n",
       "      <th>27</th>\n",
       "      <td>2016</td>\n",
       "      <td>position</td>\n",
       "      <td>1</td>\n",
       "    </tr>\n",
       "    <tr>\n",
       "      <th>28</th>\n",
       "      <td>2017</td>\n",
       "      <td>position</td>\n",
       "      <td>1</td>\n",
       "    </tr>\n",
       "    <tr>\n",
       "      <th>29</th>\n",
       "      <td>2018</td>\n",
       "      <td>position</td>\n",
       "      <td>2</td>\n",
       "    </tr>\n",
       "    <tr>\n",
       "      <th>30</th>\n",
       "      <td>2019</td>\n",
       "      <td>position</td>\n",
       "      <td>1</td>\n",
       "    </tr>\n",
       "    <tr>\n",
       "      <th>31</th>\n",
       "      <td>2020</td>\n",
       "      <td>position</td>\n",
       "      <td>1</td>\n",
       "    </tr>\n",
       "    <tr>\n",
       "      <th>32</th>\n",
       "      <td>2021</td>\n",
       "      <td>position</td>\n",
       "      <td>1</td>\n",
       "    </tr>\n",
       "    <tr>\n",
       "      <th>33</th>\n",
       "      <td>2022</td>\n",
       "      <td>position</td>\n",
       "      <td>3</td>\n",
       "    </tr>\n",
       "    <tr>\n",
       "      <th>34</th>\n",
       "      <td>2023</td>\n",
       "      <td>position</td>\n",
       "      <td>3</td>\n",
       "    </tr>\n",
       "    <tr>\n",
       "      <th>35</th>\n",
       "      <td>2024</td>\n",
       "      <td>position</td>\n",
       "      <td>1</td>\n",
       "    </tr>\n",
       "  </tbody>\n",
       "</table>\n",
       "</div>"
      ],
      "text/plain": [
       "    year Position type Position\n",
       "0   2009          grid       18\n",
       "1   2008          grid        4\n",
       "2   2007          grid        1\n",
       "3   2010          grid        4\n",
       "4   2011          grid       10\n",
       "5   2012          grid        8\n",
       "6   2013          grid        1\n",
       "7   2014          grid        6\n",
       "8   2015          grid        1\n",
       "9   2016          grid        1\n",
       "10  2017          grid        1\n",
       "11  2018          grid        1\n",
       "12  2019          grid        2\n",
       "13  2020          grid        1\n",
       "14  2021          grid        2\n",
       "15  2022          grid        5\n",
       "16  2023          grid        7\n",
       "17  2024          grid        2\n",
       "18  2009      position       16\n",
       "19  2008      position        1\n",
       "20  2007      position        3\n",
       "21  2010      position        2\n",
       "22  2011      position        4\n",
       "23  2012      position        8\n",
       "24  2013      position        4\n",
       "25  2014      position        1\n",
       "26  2015      position        1\n",
       "27  2016      position        1\n",
       "28  2017      position        1\n",
       "29  2018      position        2\n",
       "30  2019      position        1\n",
       "31  2020      position        1\n",
       "32  2021      position        1\n",
       "33  2022      position        3\n",
       "34  2023      position        3\n",
       "35  2024      position        1"
      ]
     },
     "execution_count": 73,
     "metadata": {},
     "output_type": "execute_result"
    }
   ],
   "source": [
    "hamilton_silverstone"
   ]
  },
  {
   "cell_type": "code",
   "execution_count": 74,
   "metadata": {},
   "outputs": [
    {
     "data": {
      "image/png": "[encoded data removed]",
      "text/plain": [
       "<Figure size 1400x600 with 1 Axes>"
      ]
     },
     "metadata": {},
     "output_type": "display_data"
    }
   ],
   "source": [
    "plt.figure(figsize = (14,6))\n",
    "g= sns.lineplot(data= hamilton_silverstone, x= 'year', y= 'Position', marker = 'o', hue= 'Position type')\n",
    "plt.ylim(0,18)\n",
    "plt.gca().invert_yaxis()\n",
    "plt.xticks(hamilton_silverstone['year'].unique())\n",
    "plt.legend(loc = 'center')\n",
    "plt.show()"
   ]
  }
 ],
 "metadata": {
  "kernelspec": {
   "display_name": "Python 3",
   "language": "python",
   "name": "python3"
  },
  "language_info": {
   "codemirror_mode": {
    "name": "ipython",
    "version": 3
   },
   "file_extension": ".py",
   "mimetype": "text/x-python",
   "name": "python",
   "nbconvert_exporter": "python",
   "pygments_lexer": "ipython3",
   "version": "3.12.4"
  }
 },
 "nbformat": 4,
 "nbformat_minor": 2
}

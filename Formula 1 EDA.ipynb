{
 "cells": [
  {
   "cell_type": "markdown",
   "metadata": {},
   "source": [
    "# **Formula 1 Data Analysis (1950-2024)**"
   ]
  },
  {
   "cell_type": "markdown",
   "metadata": {},
   "source": [
    "### **INTRODUCTION**\n",
    "- **Project Overview:** The Formula 1 Data Analysis (1950-2024) project explores historical performance data from Formula 1 racing to identify trends in driver and team performance, race outcomes, and the impact of different circuits. Using dataset from Kaggle, including race results, driver standings, lap times, and circuit data, this project aims to uncover insights into the evolution of Formula 1. The analysis is conducted with Python for data processing, SQL for querying, and a Power BI dashboard for visualizations.\n",
    "\n",
    "- **Context and Relevance:** Formula 1 is a dynamic sport where performance is influenced by multiple factors, such as driver skill, team strategies, and technological advancements. This project helps analyze:\n",
    "    - Driver and Team Performance: How drivers and teams have evolved over time.\n",
    "    - Driver and Constructor Analysis: A deeper look at how individual driver performances and constructor results have changed over the years, identifying patterns of dominance and rivalry.\n",
    "    - Circuit Characteristics: How different types of circuits (e.g., street vs. traditional) influence race strategies and outcomes.\n"
   ]
  },
  {
   "cell_type": "markdown",
   "metadata": {},
   "source": [
    "### **Data Collection and Sources**\n",
    "- **kaggle Dataset:** This project uses a comprehensive [Formula 1 dataset](https://www.kaggle.com/datasets/rohanrao/formula-1-world-championship-1950-2020/data) from Kaggle, which includes multiple CSV files such as:\n",
    "\n",
    "    - Circuits: Information about different race circuits (e.g., names, locations, and lengths).\n",
    "    - Driver Standings: Historical data on driver rankings by season and race.\n",
    "    - Constructor Results: Performance of constructors (teams) over the years.\n",
    "    - Lap Times: Detailed timing data for each driver in each race.\n",
    "    - Pit Stops: Information on pit stop timings and strategies during races.\n",
    "    - Races: Metadata about individual races, including locations, dates, and results.\n",
    "\n",
    "- **Data Availability:** The dataset spans from 1950 to 2024, covering over seven decades of Formula 1 history. This range enables analysis of long-term trends, including the evolution of teams, drivers, circuits, and race outcomes.\n",
    "\n",
    "- **Data Format and Importing:** The datasets are provided in CSV format. They were imported into Python using libraries like pandas for processing and exploration. Each dataset was subsequently uploaded into an SQLite database using SQLAlchemy and the to_sql() function, ensuring efficient data storage and enabling SQL-based querying for deeper insights.\n",
    "\n"
   ]
  },
  {
   "cell_type": "code",
   "execution_count": 1,
   "metadata": {},
   "outputs": [],
   "source": [
    "#Importing libarires required to perform cleaning operations and data visualization\n",
    "import numpy as np\n",
    "import pandas as pd\n",
    "import matplotlib.pyplot as plt\n",
    "import seaborn as sns\n",
    "import plotly.express as px\n",
    "import datetime as dt\n",
    "import sqlite3 "
   ]
  },
  {
   "cell_type": "code",
   "execution_count": 2,
   "metadata": {},
   "outputs": [],
   "source": [
    "#importing csv file to a dataframe\n",
    "circuits = pd.read_csv(r'dataset files\\circuits.csv')\n",
    "constructor_results = pd.read_csv(r'dataset files\\constructor_results.csv')\n",
    "constructor_standings = pd.read_csv(r'dataset files\\constructor_standings.csv')\n",
    "constructors = pd.read_csv(r'dataset files\\constructors.csv')\n",
    "driver_standings = pd.read_csv(r'dataset files\\driver_standings.csv')\n",
    "drivers = pd.read_csv(r'dataset files\\drivers.csv')\n",
    "lap_times = pd.read_csv(r'dataset files\\lap_times.csv')\n",
    "pit_stops = pd.read_csv(r'dataset files\\pit_stops.csv')\n",
    "qualifying = pd.read_csv(r'dataset files\\qualifying.csv')\n",
    "races = pd.read_csv(r'dataset files\\races.csv')\n",
    "results = pd.read_csv(r'dataset files\\results.csv')\n",
    "seasons = pd.read_csv(r'dataset files\\seasons.csv')\n",
    "sprint_results = pd.read_csv(r'dataset files\\sprint_results.csv')\n",
    "status = pd.read_csv(r'dataset files\\status.csv')"
   ]
  },
  {
   "cell_type": "markdown",
   "metadata": {},
   "source": [
    "### **Data Exploration and Preprocessing**\n",
    "\n",
    "- **Data Cleaning:** Addressed missing values, standardized data types (e.g., dates, times), and removed duplicates for consistency.\n",
    "\n",
    "- **Data Transformation:** Merged datasets to create comprehensive views, such as combining race results with driver standings and circuits.\n",
    "Added calculated fields like win percentages, average lap times, and points per season to enhance analysis.\n",
    "\n",
    "- **Database Integration:** Imported cleaned datasets into an SQLite database using SQLAlchemy and to_sql().\n",
    "Created tables for key datasets like drivers, constructors, circuits, and races. Relationships between datasets were managed through SQL joins during queries."
   ]
  },
  {
   "cell_type": "code",
   "execution_count": 3,
   "metadata": {},
   "outputs": [],
   "source": [
    "#dropping unnecessary columns from the dataframes\n",
    "circuits.drop('url', axis=1, inplace= True)\n",
    "constructors.drop('url', axis=1, inplace= True)\n",
    "drivers.drop('url', axis=1, inplace= True)\n",
    "seasons.drop('url', axis=1, inplace= True)\n",
    "constructor_results.drop('status', axis=1, inplace=True)\n",
    "constructor_standings.drop('positionText', axis=1, inplace= True)\n",
    "races.drop(columns= ['url','fp1_date','fp1_time','fp2_date','fp2_time','fp3_date',\\\n",
    "                     'fp3_time','quali_date','quali_time','sprint_date','sprint_time'], axis=1, inplace=True)"
   ]
  },
  {
   "cell_type": "code",
   "execution_count": 4,
   "metadata": {},
   "outputs": [],
   "source": [
    "#filling NA values for q2 and q3 NULL values\n",
    "qualifying['q2'] = qualifying['q2'].fillna('NA')\n",
    "qualifying['q3'] = qualifying['q3'].fillna('NA')"
   ]
  },
  {
   "cell_type": "code",
   "execution_count": 5,
   "metadata": {},
   "outputs": [],
   "source": [
    "#fucntion to convert time (in format min:sec:msec) to milliseconds\n",
    "def time_to_milliseconds(time_str):\n",
    "    # Handle invalid or missing values\n",
    "    if time_str == '\\\\N' or not time_str:\n",
    "        return None  # or return 0 depending on how you want to handle missing data\n",
    "    # elif time_str == 'Not qualified':\n",
    "    #     return None\n",
    "\n",
    "    # Split the time string by ':'\n",
    "    time_parts = time_str.split(':')\n",
    "\n",
    "    # Handle cases where there are 2 parts (minutes and seconds) or 1 part (seconds only)\n",
    "    if len(time_parts) == 2:\n",
    "        minutes, seconds = time_parts\n",
    "        milliseconds = 0\n",
    "    elif len(time_parts) == 1:\n",
    "        minutes = time_parts[0]\n",
    "        seconds = '0' \n",
    "        milliseconds = 0\n",
    "    else:\n",
    "        minutes, seconds, milliseconds = time_parts\n",
    "    \n",
    "    # If seconds have a decimal, split seconds into whole and fractional parts\n",
    "    if '.' in seconds:\n",
    "        seconds, milliseconds = seconds.split('.')\n",
    "        milliseconds = milliseconds.ljust(3, '0')  # Ensure milliseconds are 3 digits\n",
    "    \n",
    "    # Convert everything to integer values\n",
    "    try:\n",
    "        minutes = int(minutes)\n",
    "        seconds = int(seconds)\n",
    "        milliseconds = int(milliseconds)\n",
    "    except ValueError:\n",
    "        return None  # In case the value cannot be converted to an integer, return None or handle the error\n",
    "\n",
    "    # Convert the time to milliseconds\n",
    "    return (minutes * 60 * 1000) + (seconds * 1000) + milliseconds\n",
    "#time in milliseconds for easier calculations\n",
    "results['fastestLap_time_ms'] = results['fastestLapTime'].apply(time_to_milliseconds)"
   ]
  },
  {
   "cell_type": "code",
   "execution_count": 6,
   "metadata": {},
   "outputs": [],
   "source": [
    "l = ['number', 'fastestLapSpeed', 'milliseconds', 'rank', 'fastestLap_time_ms']\n",
    "for i in l:\n",
    "    results[i] = pd.to_numeric(results[i], errors= 'coerce')"
   ]
  },
  {
   "cell_type": "code",
   "execution_count": 7,
   "metadata": {},
   "outputs": [],
   "source": [
    "#Handling missing values\n",
    "results['fastestLapSpeed'] = results['fastestLapSpeed'].replace('\\\\N',results['fastestLapSpeed'].mean())\n",
    "results['fastestLap_time_ms'] = results['fastestLap_time_ms'].replace('\\\\N', results['fastestLap_time_ms'].mean())"
   ]
  },
  {
   "cell_type": "code",
   "execution_count": 8,
   "metadata": {},
   "outputs": [],
   "source": [
    "fastestLapSpeed_mean = results['fastestLapSpeed'].mean()\n",
    "fastestlaptime_mean = results['fastestLap_time_ms'].mean()"
   ]
  },
  {
   "cell_type": "code",
   "execution_count": 9,
   "metadata": {},
   "outputs": [],
   "source": [
    "results['fastestLapSpeed'] = results['fastestLapSpeed'].fillna(fastestLapSpeed_mean)\n",
    "results['fastestLap_time_ms'] = results['fastestLap_time_ms'].fillna(fastestlaptime_mean)"
   ]
  },
  {
   "cell_type": "code",
   "execution_count": 10,
   "metadata": {},
   "outputs": [],
   "source": [
    "results.rename(columns= {'milliseconds':'Lap_time_ms'}, inplace= True)"
   ]
  },
  {
   "cell_type": "code",
   "execution_count": 11,
   "metadata": {},
   "outputs": [],
   "source": [
    "#changing datatype for dob column in drivers and date column in races\n",
    "drivers['dob']= pd.to_datetime(drivers['dob'])\n",
    "races['date'] = pd.to_datetime(races['date'])"
   ]
  },
  {
   "cell_type": "code",
   "execution_count": 12,
   "metadata": {},
   "outputs": [],
   "source": [
    "#Concatenating forname and surname column from drivers DF\n",
    "drivers['Name'] = drivers['forename'] +\" \"+ drivers['surname']"
   ]
  },
  {
   "cell_type": "code",
   "execution_count": 13,
   "metadata": {},
   "outputs": [],
   "source": [
    "#Dropping the forename and surname column\n",
    "drivers.drop(columns= ['forename', 'surname'], axis=1, inplace= True)"
   ]
  },
  {
   "cell_type": "code",
   "execution_count": 14,
   "metadata": {},
   "outputs": [],
   "source": [
    "#Handling NULL values for fastetsLapTime column\n",
    "results = results[results['fastestLapTime'].notnull()]\n",
    "results['fastestLapTime'] = results['fastestLapTime'].fillna(0)"
   ]
  },
  {
   "cell_type": "code",
   "execution_count": 15,
   "metadata": {},
   "outputs": [
    {
     "data": {
      "text/plain": [
       "resultId                int64\n",
       "raceId                  int64\n",
       "driverId                int64\n",
       "constructorId           int64\n",
       "number                float64\n",
       "grid                    int64\n",
       "position               object\n",
       "positionText           object\n",
       "positionOrder           int64\n",
       "points                float64\n",
       "laps                    int64\n",
       "time                   object\n",
       "Lap_time_ms           float64\n",
       "fastestLap             object\n",
       "rank                  float64\n",
       "fastestLapTime         object\n",
       "fastestLapSpeed       float64\n",
       "statusId                int64\n",
       "fastestLap_time_ms    float64\n",
       "dtype: object"
      ]
     },
     "execution_count": 15,
     "metadata": {},
     "output_type": "execute_result"
    }
   ],
   "source": [
    "results.dtypes"
   ]
  },
  {
   "cell_type": "code",
   "execution_count": 16,
   "metadata": {},
   "outputs": [
    {
     "data": {
      "text/html": [
       "<div>\n",
       "<style scoped>\n",
       "    .dataframe tbody tr th:only-of-type {\n",
       "        vertical-align: middle;\n",
       "    }\n",
       "\n",
       "    .dataframe tbody tr th {\n",
       "        vertical-align: top;\n",
       "    }\n",
       "\n",
       "    .dataframe thead th {\n",
       "        text-align: right;\n",
       "    }\n",
       "</style>\n",
       "<table border=\"1\" class=\"dataframe\">\n",
       "  <thead>\n",
       "    <tr style=\"text-align: right;\">\n",
       "      <th></th>\n",
       "      <th>circuitId</th>\n",
       "      <th>circuitRef</th>\n",
       "      <th>name</th>\n",
       "      <th>location</th>\n",
       "      <th>country</th>\n",
       "      <th>lat</th>\n",
       "      <th>lng</th>\n",
       "      <th>alt</th>\n",
       "    </tr>\n",
       "  </thead>\n",
       "  <tbody>\n",
       "    <tr>\n",
       "      <th>0</th>\n",
       "      <td>1</td>\n",
       "      <td>albert_park</td>\n",
       "      <td>Albert Park Grand Prix Circuit</td>\n",
       "      <td>Melbourne</td>\n",
       "      <td>Australia</td>\n",
       "      <td>-37.84970</td>\n",
       "      <td>144.96800</td>\n",
       "      <td>10</td>\n",
       "    </tr>\n",
       "    <tr>\n",
       "      <th>1</th>\n",
       "      <td>2</td>\n",
       "      <td>sepang</td>\n",
       "      <td>Sepang International Circuit</td>\n",
       "      <td>Kuala Lumpur</td>\n",
       "      <td>Malaysia</td>\n",
       "      <td>2.76083</td>\n",
       "      <td>101.73800</td>\n",
       "      <td>18</td>\n",
       "    </tr>\n",
       "    <tr>\n",
       "      <th>2</th>\n",
       "      <td>3</td>\n",
       "      <td>bahrain</td>\n",
       "      <td>Bahrain International Circuit</td>\n",
       "      <td>Sakhir</td>\n",
       "      <td>Bahrain</td>\n",
       "      <td>26.03250</td>\n",
       "      <td>50.51060</td>\n",
       "      <td>7</td>\n",
       "    </tr>\n",
       "    <tr>\n",
       "      <th>3</th>\n",
       "      <td>4</td>\n",
       "      <td>catalunya</td>\n",
       "      <td>Circuit de Barcelona-Catalunya</td>\n",
       "      <td>Montmeló</td>\n",
       "      <td>Spain</td>\n",
       "      <td>41.57000</td>\n",
       "      <td>2.26111</td>\n",
       "      <td>109</td>\n",
       "    </tr>\n",
       "    <tr>\n",
       "      <th>4</th>\n",
       "      <td>5</td>\n",
       "      <td>istanbul</td>\n",
       "      <td>Istanbul Park</td>\n",
       "      <td>Istanbul</td>\n",
       "      <td>Turkey</td>\n",
       "      <td>40.95170</td>\n",
       "      <td>29.40500</td>\n",
       "      <td>130</td>\n",
       "    </tr>\n",
       "  </tbody>\n",
       "</table>\n",
       "</div>"
      ],
      "text/plain": [
       "   circuitId   circuitRef                            name      location  \\\n",
       "0          1  albert_park  Albert Park Grand Prix Circuit     Melbourne   \n",
       "1          2       sepang    Sepang International Circuit  Kuala Lumpur   \n",
       "2          3      bahrain   Bahrain International Circuit        Sakhir   \n",
       "3          4    catalunya  Circuit de Barcelona-Catalunya      Montmeló   \n",
       "4          5     istanbul                   Istanbul Park      Istanbul   \n",
       "\n",
       "     country       lat        lng  alt  \n",
       "0  Australia -37.84970  144.96800   10  \n",
       "1   Malaysia   2.76083  101.73800   18  \n",
       "2    Bahrain  26.03250   50.51060    7  \n",
       "3      Spain  41.57000    2.26111  109  \n",
       "4     Turkey  40.95170   29.40500  130  "
      ]
     },
     "metadata": {},
     "output_type": "display_data"
    },
    {
     "data": {
      "text/html": [
       "<div>\n",
       "<style scoped>\n",
       "    .dataframe tbody tr th:only-of-type {\n",
       "        vertical-align: middle;\n",
       "    }\n",
       "\n",
       "    .dataframe tbody tr th {\n",
       "        vertical-align: top;\n",
       "    }\n",
       "\n",
       "    .dataframe thead th {\n",
       "        text-align: right;\n",
       "    }\n",
       "</style>\n",
       "<table border=\"1\" class=\"dataframe\">\n",
       "  <thead>\n",
       "    <tr style=\"text-align: right;\">\n",
       "      <th></th>\n",
       "      <th>constructorResultsId</th>\n",
       "      <th>raceId</th>\n",
       "      <th>constructorId</th>\n",
       "      <th>points</th>\n",
       "    </tr>\n",
       "  </thead>\n",
       "  <tbody>\n",
       "    <tr>\n",
       "      <th>0</th>\n",
       "      <td>1</td>\n",
       "      <td>18</td>\n",
       "      <td>1</td>\n",
       "      <td>14.0</td>\n",
       "    </tr>\n",
       "    <tr>\n",
       "      <th>1</th>\n",
       "      <td>2</td>\n",
       "      <td>18</td>\n",
       "      <td>2</td>\n",
       "      <td>8.0</td>\n",
       "    </tr>\n",
       "    <tr>\n",
       "      <th>2</th>\n",
       "      <td>3</td>\n",
       "      <td>18</td>\n",
       "      <td>3</td>\n",
       "      <td>9.0</td>\n",
       "    </tr>\n",
       "    <tr>\n",
       "      <th>3</th>\n",
       "      <td>4</td>\n",
       "      <td>18</td>\n",
       "      <td>4</td>\n",
       "      <td>5.0</td>\n",
       "    </tr>\n",
       "    <tr>\n",
       "      <th>4</th>\n",
       "      <td>5</td>\n",
       "      <td>18</td>\n",
       "      <td>5</td>\n",
       "      <td>2.0</td>\n",
       "    </tr>\n",
       "  </tbody>\n",
       "</table>\n",
       "</div>"
      ],
      "text/plain": [
       "   constructorResultsId  raceId  constructorId  points\n",
       "0                     1      18              1    14.0\n",
       "1                     2      18              2     8.0\n",
       "2                     3      18              3     9.0\n",
       "3                     4      18              4     5.0\n",
       "4                     5      18              5     2.0"
      ]
     },
     "metadata": {},
     "output_type": "display_data"
    },
    {
     "data": {
      "text/html": [
       "<div>\n",
       "<style scoped>\n",
       "    .dataframe tbody tr th:only-of-type {\n",
       "        vertical-align: middle;\n",
       "    }\n",
       "\n",
       "    .dataframe tbody tr th {\n",
       "        vertical-align: top;\n",
       "    }\n",
       "\n",
       "    .dataframe thead th {\n",
       "        text-align: right;\n",
       "    }\n",
       "</style>\n",
       "<table border=\"1\" class=\"dataframe\">\n",
       "  <thead>\n",
       "    <tr style=\"text-align: right;\">\n",
       "      <th></th>\n",
       "      <th>constructorStandingsId</th>\n",
       "      <th>raceId</th>\n",
       "      <th>constructorId</th>\n",
       "      <th>points</th>\n",
       "      <th>position</th>\n",
       "      <th>wins</th>\n",
       "    </tr>\n",
       "  </thead>\n",
       "  <tbody>\n",
       "    <tr>\n",
       "      <th>0</th>\n",
       "      <td>1</td>\n",
       "      <td>18</td>\n",
       "      <td>1</td>\n",
       "      <td>14.0</td>\n",
       "      <td>1</td>\n",
       "      <td>1</td>\n",
       "    </tr>\n",
       "    <tr>\n",
       "      <th>1</th>\n",
       "      <td>2</td>\n",
       "      <td>18</td>\n",
       "      <td>2</td>\n",
       "      <td>8.0</td>\n",
       "      <td>3</td>\n",
       "      <td>0</td>\n",
       "    </tr>\n",
       "    <tr>\n",
       "      <th>2</th>\n",
       "      <td>3</td>\n",
       "      <td>18</td>\n",
       "      <td>3</td>\n",
       "      <td>9.0</td>\n",
       "      <td>2</td>\n",
       "      <td>0</td>\n",
       "    </tr>\n",
       "    <tr>\n",
       "      <th>3</th>\n",
       "      <td>4</td>\n",
       "      <td>18</td>\n",
       "      <td>4</td>\n",
       "      <td>5.0</td>\n",
       "      <td>4</td>\n",
       "      <td>0</td>\n",
       "    </tr>\n",
       "    <tr>\n",
       "      <th>4</th>\n",
       "      <td>5</td>\n",
       "      <td>18</td>\n",
       "      <td>5</td>\n",
       "      <td>2.0</td>\n",
       "      <td>5</td>\n",
       "      <td>0</td>\n",
       "    </tr>\n",
       "  </tbody>\n",
       "</table>\n",
       "</div>"
      ],
      "text/plain": [
       "   constructorStandingsId  raceId  constructorId  points  position  wins\n",
       "0                       1      18              1    14.0         1     1\n",
       "1                       2      18              2     8.0         3     0\n",
       "2                       3      18              3     9.0         2     0\n",
       "3                       4      18              4     5.0         4     0\n",
       "4                       5      18              5     2.0         5     0"
      ]
     },
     "metadata": {},
     "output_type": "display_data"
    },
    {
     "data": {
      "text/html": [
       "<div>\n",
       "<style scoped>\n",
       "    .dataframe tbody tr th:only-of-type {\n",
       "        vertical-align: middle;\n",
       "    }\n",
       "\n",
       "    .dataframe tbody tr th {\n",
       "        vertical-align: top;\n",
       "    }\n",
       "\n",
       "    .dataframe thead th {\n",
       "        text-align: right;\n",
       "    }\n",
       "</style>\n",
       "<table border=\"1\" class=\"dataframe\">\n",
       "  <thead>\n",
       "    <tr style=\"text-align: right;\">\n",
       "      <th></th>\n",
       "      <th>constructorId</th>\n",
       "      <th>constructorRef</th>\n",
       "      <th>name</th>\n",
       "      <th>nationality</th>\n",
       "    </tr>\n",
       "  </thead>\n",
       "  <tbody>\n",
       "    <tr>\n",
       "      <th>0</th>\n",
       "      <td>1</td>\n",
       "      <td>mclaren</td>\n",
       "      <td>McLaren</td>\n",
       "      <td>British</td>\n",
       "    </tr>\n",
       "    <tr>\n",
       "      <th>1</th>\n",
       "      <td>2</td>\n",
       "      <td>bmw_sauber</td>\n",
       "      <td>BMW Sauber</td>\n",
       "      <td>German</td>\n",
       "    </tr>\n",
       "    <tr>\n",
       "      <th>2</th>\n",
       "      <td>3</td>\n",
       "      <td>williams</td>\n",
       "      <td>Williams</td>\n",
       "      <td>British</td>\n",
       "    </tr>\n",
       "    <tr>\n",
       "      <th>3</th>\n",
       "      <td>4</td>\n",
       "      <td>renault</td>\n",
       "      <td>Renault</td>\n",
       "      <td>French</td>\n",
       "    </tr>\n",
       "    <tr>\n",
       "      <th>4</th>\n",
       "      <td>5</td>\n",
       "      <td>toro_rosso</td>\n",
       "      <td>Toro Rosso</td>\n",
       "      <td>Italian</td>\n",
       "    </tr>\n",
       "  </tbody>\n",
       "</table>\n",
       "</div>"
      ],
      "text/plain": [
       "   constructorId constructorRef        name nationality\n",
       "0              1        mclaren     McLaren     British\n",
       "1              2     bmw_sauber  BMW Sauber      German\n",
       "2              3       williams    Williams     British\n",
       "3              4        renault     Renault      French\n",
       "4              5     toro_rosso  Toro Rosso     Italian"
      ]
     },
     "metadata": {},
     "output_type": "display_data"
    },
    {
     "data": {
      "text/html": [
       "<div>\n",
       "<style scoped>\n",
       "    .dataframe tbody tr th:only-of-type {\n",
       "        vertical-align: middle;\n",
       "    }\n",
       "\n",
       "    .dataframe tbody tr th {\n",
       "        vertical-align: top;\n",
       "    }\n",
       "\n",
       "    .dataframe thead th {\n",
       "        text-align: right;\n",
       "    }\n",
       "</style>\n",
       "<table border=\"1\" class=\"dataframe\">\n",
       "  <thead>\n",
       "    <tr style=\"text-align: right;\">\n",
       "      <th></th>\n",
       "      <th>driverStandingsId</th>\n",
       "      <th>raceId</th>\n",
       "      <th>driverId</th>\n",
       "      <th>points</th>\n",
       "      <th>position</th>\n",
       "      <th>positionText</th>\n",
       "      <th>wins</th>\n",
       "    </tr>\n",
       "  </thead>\n",
       "  <tbody>\n",
       "    <tr>\n",
       "      <th>0</th>\n",
       "      <td>1</td>\n",
       "      <td>18</td>\n",
       "      <td>1</td>\n",
       "      <td>10.0</td>\n",
       "      <td>1</td>\n",
       "      <td>1</td>\n",
       "      <td>1</td>\n",
       "    </tr>\n",
       "    <tr>\n",
       "      <th>1</th>\n",
       "      <td>2</td>\n",
       "      <td>18</td>\n",
       "      <td>2</td>\n",
       "      <td>8.0</td>\n",
       "      <td>2</td>\n",
       "      <td>2</td>\n",
       "      <td>0</td>\n",
       "    </tr>\n",
       "    <tr>\n",
       "      <th>2</th>\n",
       "      <td>3</td>\n",
       "      <td>18</td>\n",
       "      <td>3</td>\n",
       "      <td>6.0</td>\n",
       "      <td>3</td>\n",
       "      <td>3</td>\n",
       "      <td>0</td>\n",
       "    </tr>\n",
       "    <tr>\n",
       "      <th>3</th>\n",
       "      <td>4</td>\n",
       "      <td>18</td>\n",
       "      <td>4</td>\n",
       "      <td>5.0</td>\n",
       "      <td>4</td>\n",
       "      <td>4</td>\n",
       "      <td>0</td>\n",
       "    </tr>\n",
       "    <tr>\n",
       "      <th>4</th>\n",
       "      <td>5</td>\n",
       "      <td>18</td>\n",
       "      <td>5</td>\n",
       "      <td>4.0</td>\n",
       "      <td>5</td>\n",
       "      <td>5</td>\n",
       "      <td>0</td>\n",
       "    </tr>\n",
       "  </tbody>\n",
       "</table>\n",
       "</div>"
      ],
      "text/plain": [
       "   driverStandingsId  raceId  driverId  points  position positionText  wins\n",
       "0                  1      18         1    10.0         1            1     1\n",
       "1                  2      18         2     8.0         2            2     0\n",
       "2                  3      18         3     6.0         3            3     0\n",
       "3                  4      18         4     5.0         4            4     0\n",
       "4                  5      18         5     4.0         5            5     0"
      ]
     },
     "metadata": {},
     "output_type": "display_data"
    },
    {
     "data": {
      "text/html": [
       "<div>\n",
       "<style scoped>\n",
       "    .dataframe tbody tr th:only-of-type {\n",
       "        vertical-align: middle;\n",
       "    }\n",
       "\n",
       "    .dataframe tbody tr th {\n",
       "        vertical-align: top;\n",
       "    }\n",
       "\n",
       "    .dataframe thead th {\n",
       "        text-align: right;\n",
       "    }\n",
       "</style>\n",
       "<table border=\"1\" class=\"dataframe\">\n",
       "  <thead>\n",
       "    <tr style=\"text-align: right;\">\n",
       "      <th></th>\n",
       "      <th>driverId</th>\n",
       "      <th>driverRef</th>\n",
       "      <th>number</th>\n",
       "      <th>code</th>\n",
       "      <th>dob</th>\n",
       "      <th>nationality</th>\n",
       "      <th>Name</th>\n",
       "    </tr>\n",
       "  </thead>\n",
       "  <tbody>\n",
       "    <tr>\n",
       "      <th>0</th>\n",
       "      <td>1</td>\n",
       "      <td>hamilton</td>\n",
       "      <td>44</td>\n",
       "      <td>HAM</td>\n",
       "      <td>1985-01-07</td>\n",
       "      <td>British</td>\n",
       "      <td>Lewis Hamilton</td>\n",
       "    </tr>\n",
       "    <tr>\n",
       "      <th>1</th>\n",
       "      <td>2</td>\n",
       "      <td>heidfeld</td>\n",
       "      <td>\\N</td>\n",
       "      <td>HEI</td>\n",
       "      <td>1977-05-10</td>\n",
       "      <td>German</td>\n",
       "      <td>Nick Heidfeld</td>\n",
       "    </tr>\n",
       "    <tr>\n",
       "      <th>2</th>\n",
       "      <td>3</td>\n",
       "      <td>rosberg</td>\n",
       "      <td>6</td>\n",
       "      <td>ROS</td>\n",
       "      <td>1985-06-27</td>\n",
       "      <td>German</td>\n",
       "      <td>Nico Rosberg</td>\n",
       "    </tr>\n",
       "    <tr>\n",
       "      <th>3</th>\n",
       "      <td>4</td>\n",
       "      <td>alonso</td>\n",
       "      <td>14</td>\n",
       "      <td>ALO</td>\n",
       "      <td>1981-07-29</td>\n",
       "      <td>Spanish</td>\n",
       "      <td>Fernando Alonso</td>\n",
       "    </tr>\n",
       "    <tr>\n",
       "      <th>4</th>\n",
       "      <td>5</td>\n",
       "      <td>kovalainen</td>\n",
       "      <td>\\N</td>\n",
       "      <td>KOV</td>\n",
       "      <td>1981-10-19</td>\n",
       "      <td>Finnish</td>\n",
       "      <td>Heikki Kovalainen</td>\n",
       "    </tr>\n",
       "  </tbody>\n",
       "</table>\n",
       "</div>"
      ],
      "text/plain": [
       "   driverId   driverRef number code        dob nationality               Name\n",
       "0         1    hamilton     44  HAM 1985-01-07     British     Lewis Hamilton\n",
       "1         2    heidfeld     \\N  HEI 1977-05-10      German      Nick Heidfeld\n",
       "2         3     rosberg      6  ROS 1985-06-27      German       Nico Rosberg\n",
       "3         4      alonso     14  ALO 1981-07-29     Spanish    Fernando Alonso\n",
       "4         5  kovalainen     \\N  KOV 1981-10-19     Finnish  Heikki Kovalainen"
      ]
     },
     "metadata": {},
     "output_type": "display_data"
    },
    {
     "data": {
      "text/html": [
       "<div>\n",
       "<style scoped>\n",
       "    .dataframe tbody tr th:only-of-type {\n",
       "        vertical-align: middle;\n",
       "    }\n",
       "\n",
       "    .dataframe tbody tr th {\n",
       "        vertical-align: top;\n",
       "    }\n",
       "\n",
       "    .dataframe thead th {\n",
       "        text-align: right;\n",
       "    }\n",
       "</style>\n",
       "<table border=\"1\" class=\"dataframe\">\n",
       "  <thead>\n",
       "    <tr style=\"text-align: right;\">\n",
       "      <th></th>\n",
       "      <th>raceId</th>\n",
       "      <th>driverId</th>\n",
       "      <th>lap</th>\n",
       "      <th>position</th>\n",
       "      <th>time</th>\n",
       "      <th>milliseconds</th>\n",
       "    </tr>\n",
       "  </thead>\n",
       "  <tbody>\n",
       "    <tr>\n",
       "      <th>0</th>\n",
       "      <td>841</td>\n",
       "      <td>20</td>\n",
       "      <td>1</td>\n",
       "      <td>1</td>\n",
       "      <td>1:38.109</td>\n",
       "      <td>98109</td>\n",
       "    </tr>\n",
       "    <tr>\n",
       "      <th>1</th>\n",
       "      <td>841</td>\n",
       "      <td>20</td>\n",
       "      <td>2</td>\n",
       "      <td>1</td>\n",
       "      <td>1:33.006</td>\n",
       "      <td>93006</td>\n",
       "    </tr>\n",
       "    <tr>\n",
       "      <th>2</th>\n",
       "      <td>841</td>\n",
       "      <td>20</td>\n",
       "      <td>3</td>\n",
       "      <td>1</td>\n",
       "      <td>1:32.713</td>\n",
       "      <td>92713</td>\n",
       "    </tr>\n",
       "    <tr>\n",
       "      <th>3</th>\n",
       "      <td>841</td>\n",
       "      <td>20</td>\n",
       "      <td>4</td>\n",
       "      <td>1</td>\n",
       "      <td>1:32.803</td>\n",
       "      <td>92803</td>\n",
       "    </tr>\n",
       "    <tr>\n",
       "      <th>4</th>\n",
       "      <td>841</td>\n",
       "      <td>20</td>\n",
       "      <td>5</td>\n",
       "      <td>1</td>\n",
       "      <td>1:32.342</td>\n",
       "      <td>92342</td>\n",
       "    </tr>\n",
       "  </tbody>\n",
       "</table>\n",
       "</div>"
      ],
      "text/plain": [
       "   raceId  driverId  lap  position      time  milliseconds\n",
       "0     841        20    1         1  1:38.109         98109\n",
       "1     841        20    2         1  1:33.006         93006\n",
       "2     841        20    3         1  1:32.713         92713\n",
       "3     841        20    4         1  1:32.803         92803\n",
       "4     841        20    5         1  1:32.342         92342"
      ]
     },
     "metadata": {},
     "output_type": "display_data"
    },
    {
     "data": {
      "text/html": [
       "<div>\n",
       "<style scoped>\n",
       "    .dataframe tbody tr th:only-of-type {\n",
       "        vertical-align: middle;\n",
       "    }\n",
       "\n",
       "    .dataframe tbody tr th {\n",
       "        vertical-align: top;\n",
       "    }\n",
       "\n",
       "    .dataframe thead th {\n",
       "        text-align: right;\n",
       "    }\n",
       "</style>\n",
       "<table border=\"1\" class=\"dataframe\">\n",
       "  <thead>\n",
       "    <tr style=\"text-align: right;\">\n",
       "      <th></th>\n",
       "      <th>raceId</th>\n",
       "      <th>driverId</th>\n",
       "      <th>stop</th>\n",
       "      <th>lap</th>\n",
       "      <th>time</th>\n",
       "      <th>duration</th>\n",
       "      <th>milliseconds</th>\n",
       "    </tr>\n",
       "  </thead>\n",
       "  <tbody>\n",
       "    <tr>\n",
       "      <th>0</th>\n",
       "      <td>841</td>\n",
       "      <td>153</td>\n",
       "      <td>1</td>\n",
       "      <td>1</td>\n",
       "      <td>17:05:23</td>\n",
       "      <td>26.898</td>\n",
       "      <td>26898</td>\n",
       "    </tr>\n",
       "    <tr>\n",
       "      <th>1</th>\n",
       "      <td>841</td>\n",
       "      <td>30</td>\n",
       "      <td>1</td>\n",
       "      <td>1</td>\n",
       "      <td>17:05:52</td>\n",
       "      <td>25.021</td>\n",
       "      <td>25021</td>\n",
       "    </tr>\n",
       "    <tr>\n",
       "      <th>2</th>\n",
       "      <td>841</td>\n",
       "      <td>17</td>\n",
       "      <td>1</td>\n",
       "      <td>11</td>\n",
       "      <td>17:20:48</td>\n",
       "      <td>23.426</td>\n",
       "      <td>23426</td>\n",
       "    </tr>\n",
       "    <tr>\n",
       "      <th>3</th>\n",
       "      <td>841</td>\n",
       "      <td>4</td>\n",
       "      <td>1</td>\n",
       "      <td>12</td>\n",
       "      <td>17:22:34</td>\n",
       "      <td>23.251</td>\n",
       "      <td>23251</td>\n",
       "    </tr>\n",
       "    <tr>\n",
       "      <th>4</th>\n",
       "      <td>841</td>\n",
       "      <td>13</td>\n",
       "      <td>1</td>\n",
       "      <td>13</td>\n",
       "      <td>17:24:10</td>\n",
       "      <td>23.842</td>\n",
       "      <td>23842</td>\n",
       "    </tr>\n",
       "  </tbody>\n",
       "</table>\n",
       "</div>"
      ],
      "text/plain": [
       "   raceId  driverId  stop  lap      time duration  milliseconds\n",
       "0     841       153     1    1  17:05:23   26.898         26898\n",
       "1     841        30     1    1  17:05:52   25.021         25021\n",
       "2     841        17     1   11  17:20:48   23.426         23426\n",
       "3     841         4     1   12  17:22:34   23.251         23251\n",
       "4     841        13     1   13  17:24:10   23.842         23842"
      ]
     },
     "metadata": {},
     "output_type": "display_data"
    },
    {
     "data": {
      "text/html": [
       "<div>\n",
       "<style scoped>\n",
       "    .dataframe tbody tr th:only-of-type {\n",
       "        vertical-align: middle;\n",
       "    }\n",
       "\n",
       "    .dataframe tbody tr th {\n",
       "        vertical-align: top;\n",
       "    }\n",
       "\n",
       "    .dataframe thead th {\n",
       "        text-align: right;\n",
       "    }\n",
       "</style>\n",
       "<table border=\"1\" class=\"dataframe\">\n",
       "  <thead>\n",
       "    <tr style=\"text-align: right;\">\n",
       "      <th></th>\n",
       "      <th>qualifyId</th>\n",
       "      <th>raceId</th>\n",
       "      <th>driverId</th>\n",
       "      <th>constructorId</th>\n",
       "      <th>number</th>\n",
       "      <th>position</th>\n",
       "      <th>q1</th>\n",
       "      <th>q2</th>\n",
       "      <th>q3</th>\n",
       "    </tr>\n",
       "  </thead>\n",
       "  <tbody>\n",
       "    <tr>\n",
       "      <th>0</th>\n",
       "      <td>1</td>\n",
       "      <td>18</td>\n",
       "      <td>1</td>\n",
       "      <td>1</td>\n",
       "      <td>22</td>\n",
       "      <td>1</td>\n",
       "      <td>1:26.572</td>\n",
       "      <td>1:25.187</td>\n",
       "      <td>1:26.714</td>\n",
       "    </tr>\n",
       "    <tr>\n",
       "      <th>1</th>\n",
       "      <td>2</td>\n",
       "      <td>18</td>\n",
       "      <td>9</td>\n",
       "      <td>2</td>\n",
       "      <td>4</td>\n",
       "      <td>2</td>\n",
       "      <td>1:26.103</td>\n",
       "      <td>1:25.315</td>\n",
       "      <td>1:26.869</td>\n",
       "    </tr>\n",
       "    <tr>\n",
       "      <th>2</th>\n",
       "      <td>3</td>\n",
       "      <td>18</td>\n",
       "      <td>5</td>\n",
       "      <td>1</td>\n",
       "      <td>23</td>\n",
       "      <td>3</td>\n",
       "      <td>1:25.664</td>\n",
       "      <td>1:25.452</td>\n",
       "      <td>1:27.079</td>\n",
       "    </tr>\n",
       "    <tr>\n",
       "      <th>3</th>\n",
       "      <td>4</td>\n",
       "      <td>18</td>\n",
       "      <td>13</td>\n",
       "      <td>6</td>\n",
       "      <td>2</td>\n",
       "      <td>4</td>\n",
       "      <td>1:25.994</td>\n",
       "      <td>1:25.691</td>\n",
       "      <td>1:27.178</td>\n",
       "    </tr>\n",
       "    <tr>\n",
       "      <th>4</th>\n",
       "      <td>5</td>\n",
       "      <td>18</td>\n",
       "      <td>2</td>\n",
       "      <td>2</td>\n",
       "      <td>3</td>\n",
       "      <td>5</td>\n",
       "      <td>1:25.960</td>\n",
       "      <td>1:25.518</td>\n",
       "      <td>1:27.236</td>\n",
       "    </tr>\n",
       "  </tbody>\n",
       "</table>\n",
       "</div>"
      ],
      "text/plain": [
       "   qualifyId  raceId  driverId  constructorId  number  position        q1  \\\n",
       "0          1      18         1              1      22         1  1:26.572   \n",
       "1          2      18         9              2       4         2  1:26.103   \n",
       "2          3      18         5              1      23         3  1:25.664   \n",
       "3          4      18        13              6       2         4  1:25.994   \n",
       "4          5      18         2              2       3         5  1:25.960   \n",
       "\n",
       "         q2        q3  \n",
       "0  1:25.187  1:26.714  \n",
       "1  1:25.315  1:26.869  \n",
       "2  1:25.452  1:27.079  \n",
       "3  1:25.691  1:27.178  \n",
       "4  1:25.518  1:27.236  "
      ]
     },
     "metadata": {},
     "output_type": "display_data"
    },
    {
     "data": {
      "text/html": [
       "<div>\n",
       "<style scoped>\n",
       "    .dataframe tbody tr th:only-of-type {\n",
       "        vertical-align: middle;\n",
       "    }\n",
       "\n",
       "    .dataframe tbody tr th {\n",
       "        vertical-align: top;\n",
       "    }\n",
       "\n",
       "    .dataframe thead th {\n",
       "        text-align: right;\n",
       "    }\n",
       "</style>\n",
       "<table border=\"1\" class=\"dataframe\">\n",
       "  <thead>\n",
       "    <tr style=\"text-align: right;\">\n",
       "      <th></th>\n",
       "      <th>raceId</th>\n",
       "      <th>year</th>\n",
       "      <th>round</th>\n",
       "      <th>circuitId</th>\n",
       "      <th>name</th>\n",
       "      <th>date</th>\n",
       "      <th>time</th>\n",
       "    </tr>\n",
       "  </thead>\n",
       "  <tbody>\n",
       "    <tr>\n",
       "      <th>0</th>\n",
       "      <td>1</td>\n",
       "      <td>2009</td>\n",
       "      <td>1</td>\n",
       "      <td>1</td>\n",
       "      <td>Australian Grand Prix</td>\n",
       "      <td>2009-03-29</td>\n",
       "      <td>06:00:00</td>\n",
       "    </tr>\n",
       "    <tr>\n",
       "      <th>1</th>\n",
       "      <td>2</td>\n",
       "      <td>2009</td>\n",
       "      <td>2</td>\n",
       "      <td>2</td>\n",
       "      <td>Malaysian Grand Prix</td>\n",
       "      <td>2009-04-05</td>\n",
       "      <td>09:00:00</td>\n",
       "    </tr>\n",
       "    <tr>\n",
       "      <th>2</th>\n",
       "      <td>3</td>\n",
       "      <td>2009</td>\n",
       "      <td>3</td>\n",
       "      <td>17</td>\n",
       "      <td>Chinese Grand Prix</td>\n",
       "      <td>2009-04-19</td>\n",
       "      <td>07:00:00</td>\n",
       "    </tr>\n",
       "    <tr>\n",
       "      <th>3</th>\n",
       "      <td>4</td>\n",
       "      <td>2009</td>\n",
       "      <td>4</td>\n",
       "      <td>3</td>\n",
       "      <td>Bahrain Grand Prix</td>\n",
       "      <td>2009-04-26</td>\n",
       "      <td>12:00:00</td>\n",
       "    </tr>\n",
       "    <tr>\n",
       "      <th>4</th>\n",
       "      <td>5</td>\n",
       "      <td>2009</td>\n",
       "      <td>5</td>\n",
       "      <td>4</td>\n",
       "      <td>Spanish Grand Prix</td>\n",
       "      <td>2009-05-10</td>\n",
       "      <td>12:00:00</td>\n",
       "    </tr>\n",
       "  </tbody>\n",
       "</table>\n",
       "</div>"
      ],
      "text/plain": [
       "   raceId  year  round  circuitId                   name       date      time\n",
       "0       1  2009      1          1  Australian Grand Prix 2009-03-29  06:00:00\n",
       "1       2  2009      2          2   Malaysian Grand Prix 2009-04-05  09:00:00\n",
       "2       3  2009      3         17     Chinese Grand Prix 2009-04-19  07:00:00\n",
       "3       4  2009      4          3     Bahrain Grand Prix 2009-04-26  12:00:00\n",
       "4       5  2009      5          4     Spanish Grand Prix 2009-05-10  12:00:00"
      ]
     },
     "metadata": {},
     "output_type": "display_data"
    },
    {
     "data": {
      "text/html": [
       "<div>\n",
       "<style scoped>\n",
       "    .dataframe tbody tr th:only-of-type {\n",
       "        vertical-align: middle;\n",
       "    }\n",
       "\n",
       "    .dataframe tbody tr th {\n",
       "        vertical-align: top;\n",
       "    }\n",
       "\n",
       "    .dataframe thead th {\n",
       "        text-align: right;\n",
       "    }\n",
       "</style>\n",
       "<table border=\"1\" class=\"dataframe\">\n",
       "  <thead>\n",
       "    <tr style=\"text-align: right;\">\n",
       "      <th></th>\n",
       "      <th>resultId</th>\n",
       "      <th>raceId</th>\n",
       "      <th>driverId</th>\n",
       "      <th>constructorId</th>\n",
       "      <th>number</th>\n",
       "      <th>grid</th>\n",
       "      <th>position</th>\n",
       "      <th>positionText</th>\n",
       "      <th>positionOrder</th>\n",
       "      <th>points</th>\n",
       "      <th>laps</th>\n",
       "      <th>time</th>\n",
       "      <th>Lap_time_ms</th>\n",
       "      <th>fastestLap</th>\n",
       "      <th>rank</th>\n",
       "      <th>fastestLapTime</th>\n",
       "      <th>fastestLapSpeed</th>\n",
       "      <th>statusId</th>\n",
       "      <th>fastestLap_time_ms</th>\n",
       "    </tr>\n",
       "  </thead>\n",
       "  <tbody>\n",
       "    <tr>\n",
       "      <th>0</th>\n",
       "      <td>1</td>\n",
       "      <td>18</td>\n",
       "      <td>1</td>\n",
       "      <td>1</td>\n",
       "      <td>22.0</td>\n",
       "      <td>1</td>\n",
       "      <td>1</td>\n",
       "      <td>1</td>\n",
       "      <td>1</td>\n",
       "      <td>10.0</td>\n",
       "      <td>58</td>\n",
       "      <td>1:34:50.616</td>\n",
       "      <td>5690616.0</td>\n",
       "      <td>39</td>\n",
       "      <td>2.0</td>\n",
       "      <td>1:27.452</td>\n",
       "      <td>218.300</td>\n",
       "      <td>1</td>\n",
       "      <td>87452.0</td>\n",
       "    </tr>\n",
       "    <tr>\n",
       "      <th>1</th>\n",
       "      <td>2</td>\n",
       "      <td>18</td>\n",
       "      <td>2</td>\n",
       "      <td>2</td>\n",
       "      <td>3.0</td>\n",
       "      <td>5</td>\n",
       "      <td>2</td>\n",
       "      <td>2</td>\n",
       "      <td>2</td>\n",
       "      <td>8.0</td>\n",
       "      <td>58</td>\n",
       "      <td>+5.478</td>\n",
       "      <td>5696094.0</td>\n",
       "      <td>41</td>\n",
       "      <td>3.0</td>\n",
       "      <td>1:27.739</td>\n",
       "      <td>217.586</td>\n",
       "      <td>1</td>\n",
       "      <td>87739.0</td>\n",
       "    </tr>\n",
       "    <tr>\n",
       "      <th>2</th>\n",
       "      <td>3</td>\n",
       "      <td>18</td>\n",
       "      <td>3</td>\n",
       "      <td>3</td>\n",
       "      <td>7.0</td>\n",
       "      <td>7</td>\n",
       "      <td>3</td>\n",
       "      <td>3</td>\n",
       "      <td>3</td>\n",
       "      <td>6.0</td>\n",
       "      <td>58</td>\n",
       "      <td>+8.163</td>\n",
       "      <td>5698779.0</td>\n",
       "      <td>41</td>\n",
       "      <td>5.0</td>\n",
       "      <td>1:28.090</td>\n",
       "      <td>216.719</td>\n",
       "      <td>1</td>\n",
       "      <td>88090.0</td>\n",
       "    </tr>\n",
       "    <tr>\n",
       "      <th>3</th>\n",
       "      <td>4</td>\n",
       "      <td>18</td>\n",
       "      <td>4</td>\n",
       "      <td>4</td>\n",
       "      <td>5.0</td>\n",
       "      <td>11</td>\n",
       "      <td>4</td>\n",
       "      <td>4</td>\n",
       "      <td>4</td>\n",
       "      <td>5.0</td>\n",
       "      <td>58</td>\n",
       "      <td>+17.181</td>\n",
       "      <td>5707797.0</td>\n",
       "      <td>58</td>\n",
       "      <td>7.0</td>\n",
       "      <td>1:28.603</td>\n",
       "      <td>215.464</td>\n",
       "      <td>1</td>\n",
       "      <td>88603.0</td>\n",
       "    </tr>\n",
       "    <tr>\n",
       "      <th>4</th>\n",
       "      <td>5</td>\n",
       "      <td>18</td>\n",
       "      <td>5</td>\n",
       "      <td>1</td>\n",
       "      <td>23.0</td>\n",
       "      <td>3</td>\n",
       "      <td>5</td>\n",
       "      <td>5</td>\n",
       "      <td>5</td>\n",
       "      <td>4.0</td>\n",
       "      <td>58</td>\n",
       "      <td>+18.014</td>\n",
       "      <td>5708630.0</td>\n",
       "      <td>43</td>\n",
       "      <td>1.0</td>\n",
       "      <td>1:27.418</td>\n",
       "      <td>218.385</td>\n",
       "      <td>1</td>\n",
       "      <td>87418.0</td>\n",
       "    </tr>\n",
       "  </tbody>\n",
       "</table>\n",
       "</div>"
      ],
      "text/plain": [
       "   resultId  raceId  driverId  constructorId  number  grid position  \\\n",
       "0         1      18         1              1    22.0     1        1   \n",
       "1         2      18         2              2     3.0     5        2   \n",
       "2         3      18         3              3     7.0     7        3   \n",
       "3         4      18         4              4     5.0    11        4   \n",
       "4         5      18         5              1    23.0     3        5   \n",
       "\n",
       "  positionText  positionOrder  points  laps         time  Lap_time_ms  \\\n",
       "0            1              1    10.0    58  1:34:50.616    5690616.0   \n",
       "1            2              2     8.0    58       +5.478    5696094.0   \n",
       "2            3              3     6.0    58       +8.163    5698779.0   \n",
       "3            4              4     5.0    58      +17.181    5707797.0   \n",
       "4            5              5     4.0    58      +18.014    5708630.0   \n",
       "\n",
       "  fastestLap  rank fastestLapTime  fastestLapSpeed  statusId  \\\n",
       "0         39   2.0       1:27.452          218.300         1   \n",
       "1         41   3.0       1:27.739          217.586         1   \n",
       "2         41   5.0       1:28.090          216.719         1   \n",
       "3         58   7.0       1:28.603          215.464         1   \n",
       "4         43   1.0       1:27.418          218.385         1   \n",
       "\n",
       "   fastestLap_time_ms  \n",
       "0             87452.0  \n",
       "1             87739.0  \n",
       "2             88090.0  \n",
       "3             88603.0  \n",
       "4             87418.0  "
      ]
     },
     "metadata": {},
     "output_type": "display_data"
    },
    {
     "data": {
      "text/html": [
       "<div>\n",
       "<style scoped>\n",
       "    .dataframe tbody tr th:only-of-type {\n",
       "        vertical-align: middle;\n",
       "    }\n",
       "\n",
       "    .dataframe tbody tr th {\n",
       "        vertical-align: top;\n",
       "    }\n",
       "\n",
       "    .dataframe thead th {\n",
       "        text-align: right;\n",
       "    }\n",
       "</style>\n",
       "<table border=\"1\" class=\"dataframe\">\n",
       "  <thead>\n",
       "    <tr style=\"text-align: right;\">\n",
       "      <th></th>\n",
       "      <th>year</th>\n",
       "    </tr>\n",
       "  </thead>\n",
       "  <tbody>\n",
       "    <tr>\n",
       "      <th>0</th>\n",
       "      <td>2009</td>\n",
       "    </tr>\n",
       "    <tr>\n",
       "      <th>1</th>\n",
       "      <td>2008</td>\n",
       "    </tr>\n",
       "    <tr>\n",
       "      <th>2</th>\n",
       "      <td>2007</td>\n",
       "    </tr>\n",
       "    <tr>\n",
       "      <th>3</th>\n",
       "      <td>2006</td>\n",
       "    </tr>\n",
       "    <tr>\n",
       "      <th>4</th>\n",
       "      <td>2005</td>\n",
       "    </tr>\n",
       "  </tbody>\n",
       "</table>\n",
       "</div>"
      ],
      "text/plain": [
       "   year\n",
       "0  2009\n",
       "1  2008\n",
       "2  2007\n",
       "3  2006\n",
       "4  2005"
      ]
     },
     "metadata": {},
     "output_type": "display_data"
    },
    {
     "data": {
      "text/html": [
       "<div>\n",
       "<style scoped>\n",
       "    .dataframe tbody tr th:only-of-type {\n",
       "        vertical-align: middle;\n",
       "    }\n",
       "\n",
       "    .dataframe tbody tr th {\n",
       "        vertical-align: top;\n",
       "    }\n",
       "\n",
       "    .dataframe thead th {\n",
       "        text-align: right;\n",
       "    }\n",
       "</style>\n",
       "<table border=\"1\" class=\"dataframe\">\n",
       "  <thead>\n",
       "    <tr style=\"text-align: right;\">\n",
       "      <th></th>\n",
       "      <th>resultId</th>\n",
       "      <th>raceId</th>\n",
       "      <th>driverId</th>\n",
       "      <th>constructorId</th>\n",
       "      <th>number</th>\n",
       "      <th>grid</th>\n",
       "      <th>position</th>\n",
       "      <th>positionText</th>\n",
       "      <th>positionOrder</th>\n",
       "      <th>points</th>\n",
       "      <th>laps</th>\n",
       "      <th>time</th>\n",
       "      <th>milliseconds</th>\n",
       "      <th>fastestLap</th>\n",
       "      <th>fastestLapTime</th>\n",
       "      <th>statusId</th>\n",
       "    </tr>\n",
       "  </thead>\n",
       "  <tbody>\n",
       "    <tr>\n",
       "      <th>0</th>\n",
       "      <td>1</td>\n",
       "      <td>1061</td>\n",
       "      <td>830</td>\n",
       "      <td>9</td>\n",
       "      <td>33</td>\n",
       "      <td>2</td>\n",
       "      <td>1</td>\n",
       "      <td>1</td>\n",
       "      <td>1</td>\n",
       "      <td>3</td>\n",
       "      <td>17</td>\n",
       "      <td>25:38.426</td>\n",
       "      <td>1538426</td>\n",
       "      <td>14</td>\n",
       "      <td>1:30.013</td>\n",
       "      <td>1</td>\n",
       "    </tr>\n",
       "    <tr>\n",
       "      <th>1</th>\n",
       "      <td>2</td>\n",
       "      <td>1061</td>\n",
       "      <td>1</td>\n",
       "      <td>131</td>\n",
       "      <td>44</td>\n",
       "      <td>1</td>\n",
       "      <td>2</td>\n",
       "      <td>2</td>\n",
       "      <td>2</td>\n",
       "      <td>2</td>\n",
       "      <td>17</td>\n",
       "      <td>+1.430</td>\n",
       "      <td>1539856</td>\n",
       "      <td>17</td>\n",
       "      <td>1:29.937</td>\n",
       "      <td>1</td>\n",
       "    </tr>\n",
       "    <tr>\n",
       "      <th>2</th>\n",
       "      <td>3</td>\n",
       "      <td>1061</td>\n",
       "      <td>822</td>\n",
       "      <td>131</td>\n",
       "      <td>77</td>\n",
       "      <td>3</td>\n",
       "      <td>3</td>\n",
       "      <td>3</td>\n",
       "      <td>3</td>\n",
       "      <td>1</td>\n",
       "      <td>17</td>\n",
       "      <td>+7.502</td>\n",
       "      <td>1545928</td>\n",
       "      <td>17</td>\n",
       "      <td>1:29.958</td>\n",
       "      <td>1</td>\n",
       "    </tr>\n",
       "    <tr>\n",
       "      <th>3</th>\n",
       "      <td>4</td>\n",
       "      <td>1061</td>\n",
       "      <td>844</td>\n",
       "      <td>6</td>\n",
       "      <td>16</td>\n",
       "      <td>4</td>\n",
       "      <td>4</td>\n",
       "      <td>4</td>\n",
       "      <td>4</td>\n",
       "      <td>0</td>\n",
       "      <td>17</td>\n",
       "      <td>+11.278</td>\n",
       "      <td>1549704</td>\n",
       "      <td>16</td>\n",
       "      <td>1:30.163</td>\n",
       "      <td>1</td>\n",
       "    </tr>\n",
       "    <tr>\n",
       "      <th>4</th>\n",
       "      <td>5</td>\n",
       "      <td>1061</td>\n",
       "      <td>846</td>\n",
       "      <td>1</td>\n",
       "      <td>4</td>\n",
       "      <td>6</td>\n",
       "      <td>5</td>\n",
       "      <td>5</td>\n",
       "      <td>5</td>\n",
       "      <td>0</td>\n",
       "      <td>17</td>\n",
       "      <td>+24.111</td>\n",
       "      <td>1562537</td>\n",
       "      <td>16</td>\n",
       "      <td>1:30.566</td>\n",
       "      <td>1</td>\n",
       "    </tr>\n",
       "  </tbody>\n",
       "</table>\n",
       "</div>"
      ],
      "text/plain": [
       "   resultId  raceId  driverId  constructorId  number  grid position  \\\n",
       "0         1    1061       830              9      33     2        1   \n",
       "1         2    1061         1            131      44     1        2   \n",
       "2         3    1061       822            131      77     3        3   \n",
       "3         4    1061       844              6      16     4        4   \n",
       "4         5    1061       846              1       4     6        5   \n",
       "\n",
       "  positionText  positionOrder  points  laps       time milliseconds  \\\n",
       "0            1              1       3    17  25:38.426      1538426   \n",
       "1            2              2       2    17     +1.430      1539856   \n",
       "2            3              3       1    17     +7.502      1545928   \n",
       "3            4              4       0    17    +11.278      1549704   \n",
       "4            5              5       0    17    +24.111      1562537   \n",
       "\n",
       "  fastestLap fastestLapTime  statusId  \n",
       "0         14       1:30.013         1  \n",
       "1         17       1:29.937         1  \n",
       "2         17       1:29.958         1  \n",
       "3         16       1:30.163         1  \n",
       "4         16       1:30.566         1  "
      ]
     },
     "metadata": {},
     "output_type": "display_data"
    },
    {
     "data": {
      "text/html": [
       "<div>\n",
       "<style scoped>\n",
       "    .dataframe tbody tr th:only-of-type {\n",
       "        vertical-align: middle;\n",
       "    }\n",
       "\n",
       "    .dataframe tbody tr th {\n",
       "        vertical-align: top;\n",
       "    }\n",
       "\n",
       "    .dataframe thead th {\n",
       "        text-align: right;\n",
       "    }\n",
       "</style>\n",
       "<table border=\"1\" class=\"dataframe\">\n",
       "  <thead>\n",
       "    <tr style=\"text-align: right;\">\n",
       "      <th></th>\n",
       "      <th>statusId</th>\n",
       "      <th>status</th>\n",
       "    </tr>\n",
       "  </thead>\n",
       "  <tbody>\n",
       "    <tr>\n",
       "      <th>0</th>\n",
       "      <td>1</td>\n",
       "      <td>Finished</td>\n",
       "    </tr>\n",
       "    <tr>\n",
       "      <th>1</th>\n",
       "      <td>2</td>\n",
       "      <td>Disqualified</td>\n",
       "    </tr>\n",
       "    <tr>\n",
       "      <th>2</th>\n",
       "      <td>3</td>\n",
       "      <td>Accident</td>\n",
       "    </tr>\n",
       "    <tr>\n",
       "      <th>3</th>\n",
       "      <td>4</td>\n",
       "      <td>Collision</td>\n",
       "    </tr>\n",
       "    <tr>\n",
       "      <th>4</th>\n",
       "      <td>5</td>\n",
       "      <td>Engine</td>\n",
       "    </tr>\n",
       "  </tbody>\n",
       "</table>\n",
       "</div>"
      ],
      "text/plain": [
       "   statusId        status\n",
       "0         1      Finished\n",
       "1         2  Disqualified\n",
       "2         3      Accident\n",
       "3         4     Collision\n",
       "4         5        Engine"
      ]
     },
     "metadata": {},
     "output_type": "display_data"
    }
   ],
   "source": [
    "#printing all the dataframes imported to csv\n",
    "display(circuits.head())\n",
    "display(constructor_results.head())\n",
    "display(constructor_standings.head())\n",
    "display(constructors.head())\n",
    "display(driver_standings.head())\n",
    "display(drivers.head())\n",
    "display(lap_times.head())\n",
    "display(pit_stops.head())\n",
    "display(qualifying.head())\n",
    "display(races.head())\n",
    "display(results.head())\n",
    "display(seasons.head())\n",
    "display(sprint_results.head())\n",
    "display(status.head())"
   ]
  },
  {
   "cell_type": "code",
   "execution_count": 17,
   "metadata": {},
   "outputs": [],
   "source": [
    "#Importing SQLAlchemy to integrate into the project\n",
    "from sqlalchemy import MetaData, create_engine, Column, Integer, String, Float, ForeignKey\n",
    "from sqlalchemy.orm import declarative_base\n",
    "from sqlalchemy.orm import sessionmaker, relationship\n",
    "from sqlalchemy import text\n",
    "metadata =MetaData()"
   ]
  },
  {
   "cell_type": "code",
   "execution_count": 18,
   "metadata": {},
   "outputs": [],
   "source": [
    "# Define the SQLite database\n",
    "engine = create_engine('sqlite:///f1_data.db')\n",
    "Base = declarative_base()"
   ]
  },
  {
   "cell_type": "code",
   "execution_count": 19,
   "metadata": {},
   "outputs": [
    {
     "data": {
      "text/plain": [
       "75"
      ]
     },
     "execution_count": 19,
     "metadata": {},
     "output_type": "execute_result"
    }
   ],
   "source": [
    "# pushing dataframe into sql tables\n",
    "circuits.to_sql('circuits', engine, index= False, if_exists= 'replace')\n",
    "drivers.to_sql('drivers', engine, index= False, if_exists= 'replace')\n",
    "driver_standings.to_sql('driver_standings', engine, index= False, if_exists= 'replace')\n",
    "constructor_results.to_sql('constructor_results', engine, index= False, if_exists= 'replace')\n",
    "constructor_standings.to_sql('constructor_standings', engine, index= False, if_exists= 'replace')\n",
    "constructors.to_sql('constructors', engine, index= False, if_exists= 'replace')\n",
    "races.to_sql('races', engine, index= False, if_exists= 'replace')\n",
    "lap_times.to_sql('lap_times', engine, index= False, if_exists= 'replace')\n",
    "pit_stops.to_sql('pit_stops', engine, index= False, if_exists= 'replace')\n",
    "qualifying.to_sql('qualifying', engine, index = False, if_exists= 'replace')\n",
    "status.to_sql('status', engine, index = False, if_exists= 'replace')\n",
    "results.to_sql('results', engine, index = False, if_exists= 'replace')\n",
    "sprint_results.to_sql('sprint_results', engine, index = False, if_exists= 'replace')\n",
    "seasons.to_sql('seasons', engine, index = False, if_exists= 'replace')"
   ]
  },
  {
   "cell_type": "markdown",
   "metadata": {},
   "source": [
    "#### **Circuits Distribution and Occurence**\n",
    "- Formula One races have been held across the globe, featuring a variety of circuits over the years. Some tracks are iconic, like the Monaco Circuit, which has been part of F1 since its inception in 1950, while others have been added and removed from the calendar.\n",
    "- **Objective:**\n",
    "    - Identify all circuits where a Grand Prix has been held.\n",
    "    - Calculate the frequency of each circuit's appearance in the F1 calendar.\n",
    "    - Visualize the distribution and occurrence of these circuits on a world map for better geographical understanding.\n",
    "- This analysis highlights trends in the choice of circuits, including those that have been historically significant and those that are part of newer additions."
   ]
  },
  {
   "cell_type": "code",
   "execution_count": 20,
   "metadata": {},
   "outputs": [],
   "source": [
    "#renaming column in races table\n",
    "with engine.connect() as connection:\n",
    "    connection.execute(text(\"\"\"ALTER TABLE races\n",
    "                               RENAME COLUMN name TO Grand_Prix\n",
    "                            \"\"\"))"
   ]
  },
  {
   "cell_type": "code",
   "execution_count": 21,
   "metadata": {},
   "outputs": [],
   "source": [
    "#query to find distinct circuits name and grand prix name and returing it into Circuit_df dataframe.\n",
    "query = \"\"\"\n",
    "        SELECT DISTINCT circuits.name, circuits.country, \n",
    "        FIRST_VALUE(races.Grand_Prix) OVER (PARTITION BY circuits.circuitId ORDER BY races.year) AS grand_prix, \n",
    "        circuits.lat, circuits.lng, COUNT(races.year) as occurence\n",
    "        FROM circuits\n",
    "        JOIN races ON circuits.circuitId = races.circuitId\n",
    "        GROUP BY circuits.name, circuits.country\n",
    "        \"\"\"\n",
    "Circuit_df = pd.read_sql(query, engine)"
   ]
  },
  {
   "cell_type": "code",
   "execution_count": 22,
   "metadata": {},
   "outputs": [
    {
     "data": {
      "text/html": [
       "<div>\n",
       "<style scoped>\n",
       "    .dataframe tbody tr th:only-of-type {\n",
       "        vertical-align: middle;\n",
       "    }\n",
       "\n",
       "    .dataframe tbody tr th {\n",
       "        vertical-align: top;\n",
       "    }\n",
       "\n",
       "    .dataframe thead th {\n",
       "        text-align: right;\n",
       "    }\n",
       "</style>\n",
       "<table border=\"1\" class=\"dataframe\">\n",
       "  <thead>\n",
       "    <tr style=\"text-align: right;\">\n",
       "      <th></th>\n",
       "      <th>name</th>\n",
       "      <th>country</th>\n",
       "      <th>grand_prix</th>\n",
       "      <th>lat</th>\n",
       "      <th>lng</th>\n",
       "      <th>occurence</th>\n",
       "    </tr>\n",
       "  </thead>\n",
       "  <tbody>\n",
       "    <tr>\n",
       "      <th>13</th>\n",
       "      <td>Autodromo Nazionale di Monza</td>\n",
       "      <td>Italy</td>\n",
       "      <td>Italian Grand Prix</td>\n",
       "      <td>45.6156</td>\n",
       "      <td>9.28111</td>\n",
       "      <td>74</td>\n",
       "    </tr>\n",
       "    <tr>\n",
       "      <th>5</th>\n",
       "      <td>Circuit de Monaco</td>\n",
       "      <td>Monaco</td>\n",
       "      <td>Monaco Grand Prix</td>\n",
       "      <td>43.7347</td>\n",
       "      <td>7.42056</td>\n",
       "      <td>70</td>\n",
       "    </tr>\n",
       "    <tr>\n",
       "      <th>8</th>\n",
       "      <td>Silverstone Circuit</td>\n",
       "      <td>UK</td>\n",
       "      <td>British Grand Prix</td>\n",
       "      <td>52.0786</td>\n",
       "      <td>-1.01694</td>\n",
       "      <td>59</td>\n",
       "    </tr>\n",
       "    <tr>\n",
       "      <th>12</th>\n",
       "      <td>Circuit de Spa-Francorchamps</td>\n",
       "      <td>Belgium</td>\n",
       "      <td>Belgian Grand Prix</td>\n",
       "      <td>50.4372</td>\n",
       "      <td>5.97139</td>\n",
       "      <td>57</td>\n",
       "    </tr>\n",
       "    <tr>\n",
       "      <th>6</th>\n",
       "      <td>Circuit Gilles Villeneuve</td>\n",
       "      <td>Canada</td>\n",
       "      <td>Canadian Grand Prix</td>\n",
       "      <td>45.5000</td>\n",
       "      <td>-73.52280</td>\n",
       "      <td>43</td>\n",
       "    </tr>\n",
       "    <tr>\n",
       "      <th>...</th>\n",
       "      <td>...</td>\n",
       "      <td>...</td>\n",
       "      <td>...</td>\n",
       "      <td>...</td>\n",
       "      <td>...</td>\n",
       "      <td>...</td>\n",
       "    </tr>\n",
       "    <tr>\n",
       "      <th>55</th>\n",
       "      <td>Zeltweg</td>\n",
       "      <td>Austria</td>\n",
       "      <td>Austrian Grand Prix</td>\n",
       "      <td>47.2039</td>\n",
       "      <td>14.74780</td>\n",
       "      <td>1</td>\n",
       "    </tr>\n",
       "    <tr>\n",
       "      <th>62</th>\n",
       "      <td>Ain Diab</td>\n",
       "      <td>Morocco</td>\n",
       "      <td>Moroccan Grand Prix</td>\n",
       "      <td>33.5786</td>\n",
       "      <td>-7.68750</td>\n",
       "      <td>1</td>\n",
       "    </tr>\n",
       "    <tr>\n",
       "      <th>61</th>\n",
       "      <td>Sebring International Raceway</td>\n",
       "      <td>USA</td>\n",
       "      <td>United States Grand Prix</td>\n",
       "      <td>27.4547</td>\n",
       "      <td>-81.34830</td>\n",
       "      <td>1</td>\n",
       "    </tr>\n",
       "    <tr>\n",
       "      <th>63</th>\n",
       "      <td>Pescara Circuit</td>\n",
       "      <td>Italy</td>\n",
       "      <td>Pescara Grand Prix</td>\n",
       "      <td>42.4750</td>\n",
       "      <td>14.15080</td>\n",
       "      <td>1</td>\n",
       "    </tr>\n",
       "    <tr>\n",
       "      <th>72</th>\n",
       "      <td>Autodromo Internazionale del Mugello</td>\n",
       "      <td>Italy</td>\n",
       "      <td>Tuscan Grand Prix</td>\n",
       "      <td>43.9975</td>\n",
       "      <td>11.37190</td>\n",
       "      <td>1</td>\n",
       "    </tr>\n",
       "  </tbody>\n",
       "</table>\n",
       "<p>77 rows × 6 columns</p>\n",
       "</div>"
      ],
      "text/plain": [
       "                                    name  country                grand_prix  \\\n",
       "13          Autodromo Nazionale di Monza    Italy        Italian Grand Prix   \n",
       "5                      Circuit de Monaco   Monaco         Monaco Grand Prix   \n",
       "8                    Silverstone Circuit       UK        British Grand Prix   \n",
       "12          Circuit de Spa-Francorchamps  Belgium        Belgian Grand Prix   \n",
       "6              Circuit Gilles Villeneuve   Canada       Canadian Grand Prix   \n",
       "..                                   ...      ...                       ...   \n",
       "55                               Zeltweg  Austria       Austrian Grand Prix   \n",
       "62                              Ain Diab  Morocco       Moroccan Grand Prix   \n",
       "61         Sebring International Raceway      USA  United States Grand Prix   \n",
       "63                       Pescara Circuit    Italy        Pescara Grand Prix   \n",
       "72  Autodromo Internazionale del Mugello    Italy         Tuscan Grand Prix   \n",
       "\n",
       "        lat       lng  occurence  \n",
       "13  45.6156   9.28111         74  \n",
       "5   43.7347   7.42056         70  \n",
       "8   52.0786  -1.01694         59  \n",
       "12  50.4372   5.97139         57  \n",
       "6   45.5000 -73.52280         43  \n",
       "..      ...       ...        ...  \n",
       "55  47.2039  14.74780          1  \n",
       "62  33.5786  -7.68750          1  \n",
       "61  27.4547 -81.34830          1  \n",
       "63  42.4750  14.15080          1  \n",
       "72  43.9975  11.37190          1  \n",
       "\n",
       "[77 rows x 6 columns]"
      ]
     },
     "execution_count": 22,
     "metadata": {},
     "output_type": "execute_result"
    }
   ],
   "source": [
    "#sorting the dataframe by occurence column in descending order\n",
    "Circuit_df.sort_values(by= 'occurence', ascending= False, inplace= True)\n",
    "Circuit_df"
   ]
  },
  {
   "cell_type": "code",
<<<<<<< HEAD
   "execution_count": 23,
=======
   "execution_count": 93,
>>>>>>> ec5764958aea83f5f3856a9e0e1ed791346ad65a
   "metadata": {},
   "outputs": [
    {
     "data": {
      "application/vnd.plotly.v1+json": {
       "config": {
        "plotlyServerURL": "https://plot.ly"
       },
       "data": [
        {
         "customdata": [
          [
           74,
           "Italian Grand Prix"
          ],
          [
           31,
           "Italian Grand Prix"
          ],
          [
           1,
           "Pescara Grand Prix"
          ],
          [
           1,
           "Tuscan Grand Prix"
          ]
         ],
         "geo": "geo",
         "hovertemplate": "<b>%{hovertext}<b><br><b>%{customdata[1]}<b><br>occurence:  %{customdata[0]:,.0f}<br>",
         "hovertext": [
          "Autodromo Nazionale di Monza",
          "Autodromo Enzo e Dino Ferrari",
          "Pescara Circuit",
          "Autodromo Internazionale del Mugello"
         ],
         "lat": [
          45.6156,
          44.3439,
          42.475,
          43.9975
         ],
         "legendgroup": "Italy",
         "lon": [
          9.28111,
          11.7167,
          14.1508,
          11.3719
         ],
         "marker": {
          "color": "#636efa",
          "line": {
           "color": "black",
           "width": 0.5
          },
          "symbol": "circle"
         },
         "mode": "markers",
         "name": "Italy",
         "showlegend": true,
         "type": "scattergeo"
        },
        {
         "customdata": [
          [
           70,
           "Monaco Grand Prix"
          ]
         ],
         "geo": "geo",
         "hovertemplate": "<b>%{hovertext}<b><br><b>%{customdata[1]}<b><br>occurence:  %{customdata[0]:,.0f}<br>",
         "hovertext": [
          "Circuit de Monaco"
         ],
         "lat": [
          43.7347
         ],
         "legendgroup": "Monaco",
         "lon": [
          7.42056
         ],
         "marker": {
          "color": "#EF553B",
          "line": {
           "color": "black",
           "width": 0.5
          },
          "symbol": "circle"
         },
         "mode": "markers",
         "name": "Monaco",
         "showlegend": true,
         "type": "scattergeo"
        },
        {
         "customdata": [
          [
           59,
           "British Grand Prix"
          ],
          [
           14,
           "British Grand Prix"
          ],
          [
           5,
           "British Grand Prix"
          ],
          [
           1,
           "European Grand Prix"
          ]
         ],
         "geo": "geo",
         "hovertemplate": "<b>%{hovertext}<b><br><b>%{customdata[1]}<b><br>occurence:  %{customdata[0]:,.0f}<br>",
         "hovertext": [
          "Silverstone Circuit",
          "Brands Hatch",
          "Aintree",
          "Donington Park"
         ],
         "lat": [
          52.0786,
          51.3569,
          53.4769,
          52.8306
         ],
         "legendgroup": "UK",
         "lon": [
          -1.01694,
          0.263056,
          -2.94056,
          -1.37528
         ],
         "marker": {
          "color": "#00cc96",
          "line": {
           "color": "black",
           "width": 0.5
          },
          "symbol": "circle"
         },
         "mode": "markers",
         "name": "UK",
         "showlegend": true,
         "type": "scattergeo"
        },
        {
         "customdata": [
          [
           57,
           "Belgian Grand Prix"
          ],
          [
           10,
           "Belgian Grand Prix"
          ],
          [
           2,
           "Belgian Grand Prix"
          ]
         ],
         "geo": "geo",
         "hovertemplate": "<b>%{hovertext}<b><br><b>%{customdata[1]}<b><br>occurence:  %{customdata[0]:,.0f}<br>",
         "hovertext": [
          "Circuit de Spa-Francorchamps",
          "Zolder",
          "Nivelles-Baulers"
         ],
         "lat": [
          50.4372,
          50.9894,
          50.6211
         ],
         "legendgroup": "Belgium",
         "lon": [
          5.97139,
          5.25694,
          4.32694
         ],
         "marker": {
          "color": "#ab63fa",
          "line": {
           "color": "black",
           "width": 0.5
          },
          "symbol": "circle"
         },
         "mode": "markers",
         "name": "Belgium",
         "showlegend": true,
         "type": "scattergeo"
        },
        {
         "customdata": [
          [
           43,
           "Canadian Grand Prix"
          ],
          [
           8,
           "Canadian Grand Prix"
          ],
          [
           2,
           "Canadian Grand Prix"
          ]
         ],
         "geo": "geo",
         "hovertemplate": "<b>%{hovertext}<b><br><b>%{customdata[1]}<b><br>occurence:  %{customdata[0]:,.0f}<br>",
         "hovertext": [
          "Circuit Gilles Villeneuve",
          "Mosport International Raceway",
          "Circuit Mont-Tremblant"
         ],
         "lat": [
          45.5,
          44.0481,
          46.1877
         ],
         "legendgroup": "Canada",
         "lon": [
          -73.5228,
          -78.6756,
          -74.6099
         ],
         "marker": {
          "color": "#FFA15A",
          "line": {
           "color": "black",
           "width": 0.5
          },
          "symbol": "circle"
         },
         "mode": "markers",
         "name": "Canada",
         "showlegend": true,
         "type": "scattergeo"
        },
        {
         "customdata": [
          [
           41,
           "Brazilian Grand Prix"
          ],
          [
           10,
           "Brazilian Grand Prix"
          ]
         ],
         "geo": "geo",
         "hovertemplate": "<b>%{hovertext}<b><br><b>%{customdata[1]}<b><br>occurence:  %{customdata[0]:,.0f}<br>",
         "hovertext": [
          "Autódromo José Carlos Pace",
          "Autódromo Internacional Nelson Piquet"
         ],
         "lat": [
          -23.7036,
          -22.9756
         ],
         "legendgroup": "Brazil",
         "lon": [
          -46.6997,
          -43.395
         ],
         "marker": {
          "color": "#19d3f3",
          "line": {
           "color": "black",
           "width": 0.5
          },
          "symbol": "circle"
         },
         "mode": "markers",
         "name": "Brazil",
         "showlegend": true,
         "type": "scattergeo"
        },
        {
         "customdata": [
          [
           41,
           "German Grand Prix"
          ],
          [
           37,
           "German Grand Prix"
          ],
          [
           1,
           "German Grand Prix"
          ]
         ],
         "geo": "geo",
         "hovertemplate": "<b>%{hovertext}<b><br><b>%{customdata[1]}<b><br>occurence:  %{customdata[0]:,.0f}<br>",
         "hovertext": [
          "Nürburgring",
          "Hockenheimring",
          "AVUS"
         ],
         "lat": [
          50.3356,
          49.3278,
          52.4806
         ],
         "legendgroup": "Germany",
         "lon": [
          6.9475,
          8.56583,
          13.2514
         ],
         "marker": {
          "color": "#FF6692",
          "line": {
           "color": "black",
           "width": 0.5
          },
          "symbol": "circle"
         },
         "mode": "markers",
         "name": "Germany",
         "showlegend": true,
         "type": "scattergeo"
        },
        {
         "customdata": [
          [
           39,
           "Hungarian Grand Prix"
          ]
         ],
         "geo": "geo",
         "hovertemplate": "<b>%{hovertext}<b><br><b>%{customdata[1]}<b><br>occurence:  %{customdata[0]:,.0f}<br>",
         "hovertext": [
          "Hungaroring"
         ],
         "lat": [
          47.5789
         ],
         "legendgroup": "Hungary",
         "lon": [
          19.2486
         ],
         "marker": {
          "color": "#B6E880",
          "line": {
           "color": "black",
           "width": 0.5
          },
          "symbol": "circle"
         },
         "mode": "markers",
         "name": "Hungary",
         "showlegend": true,
         "type": "scattergeo"
        },
        {
         "customdata": [
          [
           38,
           "Austrian Grand Prix"
          ],
          [
           1,
           "Austrian Grand Prix"
          ]
         ],
         "geo": "geo",
         "hovertemplate": "<b>%{hovertext}<b><br><b>%{customdata[1]}<b><br>occurence:  %{customdata[0]:,.0f}<br>",
         "hovertext": [
          "Red Bull Ring",
          "Zeltweg"
         ],
         "lat": [
          47.2197,
          47.2039
         ],
         "legendgroup": "Austria",
         "lon": [
          14.7647,
          14.7478
         ],
         "marker": {
          "color": "#FF97FF",
          "line": {
           "color": "black",
           "width": 0.5
          },
          "symbol": "circle"
         },
         "mode": "markers",
         "name": "Austria",
         "showlegend": true,
         "type": "scattergeo"
        },
        {
         "customdata": [
          [
           34,
           "Spanish Grand Prix"
          ],
          [
           9,
           "Spanish Grand Prix"
          ],
          [
           7,
           "Spanish Grand Prix"
          ],
          [
           5,
           "European Grand Prix"
          ],
          [
           4,
           "Spanish Grand Prix"
          ],
          [
           2,
           "Spanish Grand Prix"
          ]
         ],
         "geo": "geo",
         "hovertemplate": "<b>%{hovertext}<b><br><b>%{customdata[1]}<b><br>occurence:  %{customdata[0]:,.0f}<br>",
         "hovertext": [
          "Circuit de Barcelona-Catalunya",
          "Jarama",
          "Circuito de Jerez",
          "Valencia Street Circuit",
          "Montjuïc",
          "Circuit de Pedralbes"
         ],
         "lat": [
          41.57,
          40.6171,
          36.7083,
          39.4589,
          41.3664,
          41.3903
         ],
         "legendgroup": "Spain",
         "lon": [
          2.26111,
          -3.58558,
          -6.03417,
          -0.331667,
          2.15167,
          2.11667
         ],
         "marker": {
          "color": "#FECB52",
          "line": {
           "color": "black",
           "width": 0.5
          },
          "symbol": "circle"
         },
         "mode": "markers",
         "name": "Spain",
         "showlegend": true,
         "type": "scattergeo"
        },
        {
         "customdata": [
          [
           34,
           "Japanese Grand Prix"
          ],
          [
           4,
           "Japanese Grand Prix"
          ],
          [
           2,
           "Pacific Grand Prix"
          ]
         ],
         "geo": "geo",
         "hovertemplate": "<b>%{hovertext}<b><br><b>%{customdata[1]}<b><br>occurence:  %{customdata[0]:,.0f}<br>",
         "hovertext": [
          "Suzuka Circuit",
          "Fuji Speedway",
          "Okayama International Circuit"
         ],
         "lat": [
          34.8431,
          35.3717,
          34.915
         ],
         "legendgroup": "Japan",
         "lon": [
          136.541,
          138.927,
          134.221
         ],
         "marker": {
          "color": "#636efa",
          "line": {
           "color": "black",
           "width": 0.5
          },
          "symbol": "circle"
         },
         "mode": "markers",
         "name": "Japan",
         "showlegend": true,
         "type": "scattergeo"
        },
        {
         "customdata": [
          [
           34,
           "Dutch Grand Prix"
          ]
         ],
         "geo": "geo",
         "hovertemplate": "<b>%{hovertext}<b><br><b>%{customdata[1]}<b><br>occurence:  %{customdata[0]:,.0f}<br>",
         "hovertext": [
          "Circuit Park Zandvoort"
         ],
         "lat": [
          52.3888
         ],
         "legendgroup": "Netherlands",
         "lon": [
          4.54092
         ],
         "marker": {
          "color": "#EF553B",
          "line": {
           "color": "black",
           "width": 0.5
          },
          "symbol": "circle"
         },
         "mode": "markers",
         "name": "Netherlands",
         "showlegend": true,
         "type": "scattergeo"
        },
        {
         "customdata": [
          [
           27,
           "Australian Grand Prix"
          ],
          [
           11,
           "Australian Grand Prix"
          ]
         ],
         "geo": "geo",
         "hovertemplate": "<b>%{hovertext}<b><br><b>%{customdata[1]}<b><br>occurence:  %{customdata[0]:,.0f}<br>",
         "hovertext": [
          "Albert Park Grand Prix Circuit",
          "Adelaide Street Circuit"
         ],
         "lat": [
          -37.8497,
          -34.9272
         ],
         "legendgroup": "Australia",
         "lon": [
          144.968,
          138.617
         ],
         "marker": {
          "color": "#00cc96",
          "line": {
           "color": "black",
           "width": 0.5
          },
          "symbol": "circle"
         },
         "mode": "markers",
         "name": "Australia",
         "showlegend": true,
         "type": "scattergeo"
        },
        {
         "customdata": [
          [
           24,
           "Mexican Grand Prix"
          ]
         ],
         "geo": "geo",
         "hovertemplate": "<b>%{hovertext}<b><br><b>%{customdata[1]}<b><br>occurence:  %{customdata[0]:,.0f}<br>",
         "hovertext": [
          "Autódromo Hermanos Rodríguez"
         ],
         "lat": [
          19.4042
         ],
         "legendgroup": "Mexico",
         "lon": [
          -99.0907
         ],
         "marker": {
          "color": "#ab63fa",
          "line": {
           "color": "black",
           "width": 0.5
          },
          "symbol": "circle"
         },
         "mode": "markers",
         "name": "Mexico",
         "showlegend": true,
         "type": "scattergeo"
        },
        {
         "customdata": [
          [
           21,
           "Bahrain Grand Prix"
          ]
         ],
         "geo": "geo",
         "hovertemplate": "<b>%{hovertext}<b><br><b>%{customdata[1]}<b><br>occurence:  %{customdata[0]:,.0f}<br>",
         "hovertext": [
          "Bahrain International Circuit"
         ],
         "lat": [
          26.0325
         ],
         "legendgroup": "Bahrain",
         "lon": [
          50.5106
         ],
         "marker": {
          "color": "#FFA15A",
          "line": {
           "color": "black",
           "width": 0.5
          },
          "symbol": "circle"
         },
         "mode": "markers",
         "name": "Bahrain",
         "showlegend": true,
         "type": "scattergeo"
        },
        {
         "customdata": [
          [
           20,
           "South African Grand Prix"
          ],
          [
           3,
           "South African Grand Prix"
          ]
         ],
         "geo": "geo",
         "hovertemplate": "<b>%{hovertext}<b><br><b>%{customdata[1]}<b><br>occurence:  %{customdata[0]:,.0f}<br>",
         "hovertext": [
          "Kyalami",
          "Prince George Circuit"
         ],
         "lat": [
          -25.9894,
          -33.0486
         ],
         "legendgroup": "South Africa",
         "lon": [
          28.0767,
          27.8736
         ],
         "marker": {
          "color": "#19d3f3",
          "line": {
           "color": "black",
           "width": 0.5
          },
          "symbol": "circle"
         },
         "mode": "markers",
         "name": "South Africa",
         "showlegend": true,
         "type": "scattergeo"
        },
        {
         "customdata": [
          [
           20,
           "United States Grand Prix"
          ],
          [
           19,
           "Indianapolis 500"
          ],
          [
           12,
           "United States Grand Prix"
          ],
          [
           8,
           "United States Grand Prix West"
          ],
          [
           7,
           "Detroit Grand Prix"
          ],
          [
           3,
           "Miami Grand Prix"
          ],
          [
           3,
           "United States Grand Prix"
          ],
          [
           2,
           "Caesars Palace Grand Prix"
          ],
          [
           1,
           "Dallas Grand Prix"
          ],
          [
           1,
           "United States Grand Prix"
          ],
          [
           1,
           "United States Grand Prix"
          ]
         ],
         "geo": "geo",
         "hovertemplate": "<b>%{hovertext}<b><br><b>%{customdata[1]}<b><br>occurence:  %{customdata[0]:,.0f}<br>",
         "hovertext": [
          "Watkins Glen",
          "Indianapolis Motor Speedway",
          "Circuit of the Americas",
          "Long Beach",
          "Detroit Street Circuit",
          "Miami International Autodrome",
          "Phoenix street circuit",
          "Las Vegas Street Circuit",
          "Fair Park",
          "Riverside International Raceway",
          "Sebring International Raceway"
         ],
         "lat": [
          42.3369,
          39.795,
          30.1328,
          33.7651,
          42.3298,
          25.9581,
          33.4479,
          36.1162,
          32.7774,
          33.937,
          27.4547
         ],
         "legendgroup": "USA",
         "lon": [
          -76.9272,
          -86.2347,
          -97.6411,
          -118.189,
          -83.0401,
          -80.2389,
          -112.075,
          -115.174,
          -96.7587,
          -117.273,
          -81.3483
         ],
         "marker": {
          "color": "#FF6692",
          "line": {
           "color": "black",
           "width": 0.5
          },
          "symbol": "circle"
         },
         "mode": "markers",
         "name": "USA",
         "showlegend": true,
         "type": "scattergeo"
        },
        {
         "customdata": [
          [
           20,
           "Argentine Grand Prix"
          ]
         ],
         "geo": "geo",
         "hovertemplate": "<b>%{hovertext}<b><br><b>%{customdata[1]}<b><br>occurence:  %{customdata[0]:,.0f}<br>",
         "hovertext": [
          "Autódromo Juan y Oscar Gálvez"
         ],
         "lat": [
          -34.6943
         ],
         "legendgroup": "Argentina",
         "lon": [
          -58.4593
         ],
         "marker": {
          "color": "#B6E880",
          "line": {
           "color": "black",
           "width": 0.5
          },
          "symbol": "circle"
         },
         "mode": "markers",
         "name": "Argentina",
         "showlegend": true,
         "type": "scattergeo"
        },
        {
         "customdata": [
          [
           19,
           "Malaysian Grand Prix"
          ]
         ],
         "geo": "geo",
         "hovertemplate": "<b>%{hovertext}<b><br><b>%{customdata[1]}<b><br>occurence:  %{customdata[0]:,.0f}<br>",
         "hovertext": [
          "Sepang International Circuit"
         ],
         "lat": [
          2.76083
         ],
         "legendgroup": "Malaysia",
         "lon": [
          101.738
         ],
         "marker": {
          "color": "#FF97FF",
          "line": {
           "color": "black",
           "width": 0.5
          },
          "symbol": "circle"
         },
         "mode": "markers",
         "name": "Malaysia",
         "showlegend": true,
         "type": "scattergeo"
        },
        {
         "customdata": [
          [
           18,
           "French Grand Prix"
          ],
          [
           18,
           "French Grand Prix"
          ],
          [
           11,
           "French Grand Prix"
          ],
          [
           6,
           "French Grand Prix"
          ],
          [
           5,
           "French Grand Prix"
          ],
          [
           4,
           "French Grand Prix"
          ],
          [
           1,
           "French Grand Prix"
          ]
         ],
         "geo": "geo",
         "hovertemplate": "<b>%{hovertext}<b><br><b>%{customdata[1]}<b><br>occurence:  %{customdata[0]:,.0f}<br>",
         "hovertext": [
          "Circuit Paul Ricard",
          "Circuit de Nevers Magny-Cours",
          "Reims-Gueux",
          "Dijon-Prenois",
          "Rouen-Les-Essarts",
          "Charade Circuit",
          "Le Mans"
         ],
         "lat": [
          43.2506,
          46.8642,
          49.2542,
          47.3625,
          49.3306,
          45.7472,
          47.95
         ],
         "legendgroup": "France",
         "lon": [
          5.79167,
          3.16361,
          3.93083,
          4.89913,
          1.00458,
          3.03889,
          0.224231
         ],
         "marker": {
          "color": "#FECB52",
          "line": {
           "color": "black",
           "width": 0.5
          },
          "symbol": "circle"
         },
         "mode": "markers",
         "name": "France",
         "showlegend": true,
         "type": "scattergeo"
        },
        {
         "customdata": [
          [
           17,
           "Chinese Grand Prix"
          ]
         ],
         "geo": "geo",
         "hovertemplate": "<b>%{hovertext}<b><br><b>%{customdata[1]}<b><br>occurence:  %{customdata[0]:,.0f}<br>",
         "hovertext": [
          "Shanghai International Circuit"
         ],
         "lat": [
          31.3389
         ],
         "legendgroup": "China",
         "lon": [
          121.22
         ],
         "marker": {
          "color": "#636efa",
          "line": {
           "color": "black",
           "width": 0.5
          },
          "symbol": "circle"
         },
         "mode": "markers",
         "name": "China",
         "showlegend": true,
         "type": "scattergeo"
        },
        {
         "customdata": [
          [
           16,
           "Abu Dhabi Grand Prix"
          ]
         ],
         "geo": "geo",
         "hovertemplate": "<b>%{hovertext}<b><br><b>%{customdata[1]}<b><br>occurence:  %{customdata[0]:,.0f}<br>",
         "hovertext": [
          "Yas Marina Circuit"
         ],
         "lat": [
          24.4672
         ],
         "legendgroup": "UAE",
         "lon": [
          54.6031
         ],
         "marker": {
          "color": "#EF553B",
          "line": {
           "color": "black",
           "width": 0.5
          },
          "symbol": "circle"
         },
         "mode": "markers",
         "name": "UAE",
         "showlegend": true,
         "type": "scattergeo"
        },
        {
         "customdata": [
          [
           15,
           "Singapore Grand Prix"
          ]
         ],
         "geo": "geo",
         "hovertemplate": "<b>%{hovertext}<b><br><b>%{customdata[1]}<b><br>occurence:  %{customdata[0]:,.0f}<br>",
         "hovertext": [
          "Marina Bay Street Circuit"
         ],
         "lat": [
          1.2914
         ],
         "legendgroup": "Singapore",
         "lon": [
          103.864
         ],
         "marker": {
          "color": "#00cc96",
          "line": {
           "color": "black",
           "width": 0.5
          },
          "symbol": "circle"
         },
         "mode": "markers",
         "name": "Singapore",
         "showlegend": true,
         "type": "scattergeo"
        },
        {
         "customdata": [
          [
           13,
           "Portuguese Grand Prix"
          ],
          [
           2,
           "Portuguese Grand Prix"
          ],
          [
           2,
           "Portuguese Grand Prix"
          ],
          [
           1,
           "Portuguese Grand Prix"
          ]
         ],
         "geo": "geo",
         "hovertemplate": "<b>%{hovertext}<b><br><b>%{customdata[1]}<b><br>occurence:  %{customdata[0]:,.0f}<br>",
         "hovertext": [
          "Autódromo do Estoril",
          "Autódromo Internacional do Algarve",
          "Circuito da Boavista",
          "Monsanto Park Circuit"
         ],
         "lat": [
          38.7506,
          37.227,
          41.1705,
          38.7197
         ],
         "legendgroup": "Portugal",
         "lon": [
          -9.39417,
          -8.6267,
          -8.67325,
          -9.20306
         ],
         "marker": {
          "color": "#ab63fa",
          "line": {
           "color": "black",
           "width": 0.5
          },
          "symbol": "circle"
         },
         "mode": "markers",
         "name": "Portugal",
         "showlegend": true,
         "type": "scattergeo"
        },
        {
         "customdata": [
          [
           9,
           "Turkish Grand Prix"
          ]
         ],
         "geo": "geo",
         "hovertemplate": "<b>%{hovertext}<b><br><b>%{customdata[1]}<b><br>occurence:  %{customdata[0]:,.0f}<br>",
         "hovertext": [
          "Istanbul Park"
         ],
         "lat": [
          40.9517
         ],
         "legendgroup": "Turkey",
         "lon": [
          29.405
         ],
         "marker": {
          "color": "#FFA15A",
          "line": {
           "color": "black",
           "width": 0.5
          },
          "symbol": "circle"
         },
         "mode": "markers",
         "name": "Turkey",
         "showlegend": true,
         "type": "scattergeo"
        },
        {
         "customdata": [
          [
           8,
           "European Grand Prix"
          ]
         ],
         "geo": "geo",
         "hovertemplate": "<b>%{hovertext}<b><br><b>%{customdata[1]}<b><br>occurence:  %{customdata[0]:,.0f}<br>",
         "hovertext": [
          "Baku City Circuit"
         ],
         "lat": [
          40.3725
         ],
         "legendgroup": "Azerbaijan",
         "lon": [
          49.8533
         ],
         "marker": {
          "color": "#19d3f3",
          "line": {
           "color": "black",
           "width": 0.5
          },
          "symbol": "circle"
         },
         "mode": "markers",
         "name": "Azerbaijan",
         "showlegend": true,
         "type": "scattergeo"
        },
        {
         "customdata": [
          [
           8,
           "Russian Grand Prix"
          ]
         ],
         "geo": "geo",
         "hovertemplate": "<b>%{hovertext}<b><br><b>%{customdata[1]}<b><br>occurence:  %{customdata[0]:,.0f}<br>",
         "hovertext": [
          "Sochi Autodrom"
         ],
         "lat": [
          43.4057
         ],
         "legendgroup": "Russia",
         "lon": [
          39.9578
         ],
         "marker": {
          "color": "#FF6692",
          "line": {
           "color": "black",
           "width": 0.5
          },
          "symbol": "circle"
         },
         "mode": "markers",
         "name": "Russia",
         "showlegend": true,
         "type": "scattergeo"
        },
        {
         "customdata": [
          [
           6,
           "Swedish Grand Prix"
          ]
         ],
         "geo": "geo",
         "hovertemplate": "<b>%{hovertext}<b><br><b>%{customdata[1]}<b><br>occurence:  %{customdata[0]:,.0f}<br>",
         "hovertext": [
          "Scandinavian Raceway"
         ],
         "lat": [
          57.2653
         ],
         "legendgroup": "Sweden",
         "lon": [
          13.6042
         ],
         "marker": {
          "color": "#B6E880",
          "line": {
           "color": "black",
           "width": 0.5
          },
          "symbol": "circle"
         },
         "mode": "markers",
         "name": "Sweden",
         "showlegend": true,
         "type": "scattergeo"
        },
        {
         "customdata": [
          [
           5,
           "Swiss Grand Prix"
          ]
         ],
         "geo": "geo",
         "hovertemplate": "<b>%{hovertext}<b><br><b>%{customdata[1]}<b><br>occurence:  %{customdata[0]:,.0f}<br>",
         "hovertext": [
          "Circuit Bremgarten"
         ],
         "lat": [
          46.9589
         ],
         "legendgroup": "Switzerland",
         "lon": [
          7.40194
         ],
         "marker": {
          "color": "#FF97FF",
          "line": {
           "color": "black",
           "width": 0.5
          },
          "symbol": "circle"
         },
         "mode": "markers",
         "name": "Switzerland",
         "showlegend": true,
         "type": "scattergeo"
        },
        {
         "customdata": [
          [
           4,
           "Saudi Arabian Grand Prix"
          ]
         ],
         "geo": "geo",
         "hovertemplate": "<b>%{hovertext}<b><br><b>%{customdata[1]}<b><br>occurence:  %{customdata[0]:,.0f}<br>",
         "hovertext": [
          "Jeddah Corniche Circuit"
         ],
         "lat": [
          21.6319
         ],
         "legendgroup": "Saudi Arabia",
         "lon": [
          39.1044
         ],
         "marker": {
          "color": "#FECB52",
          "line": {
           "color": "black",
           "width": 0.5
          },
          "symbol": "circle"
         },
         "mode": "markers",
         "name": "Saudi Arabia",
         "showlegend": true,
         "type": "scattergeo"
        },
        {
         "customdata": [
          [
           4,
           "Korean Grand Prix"
          ]
         ],
         "geo": "geo",
         "hovertemplate": "<b>%{hovertext}<b><br><b>%{customdata[1]}<b><br>occurence:  %{customdata[0]:,.0f}<br>",
         "hovertext": [
          "Korean International Circuit"
         ],
         "lat": [
          34.7333
         ],
         "legendgroup": "Korea",
         "lon": [
          126.417
         ],
         "marker": {
          "color": "#636efa",
          "line": {
           "color": "black",
           "width": 0.5
          },
          "symbol": "circle"
         },
         "mode": "markers",
         "name": "Korea",
         "showlegend": true,
         "type": "scattergeo"
        },
        {
         "customdata": [
          [
           3,
           "Qatar Grand Prix"
          ]
         ],
         "geo": "geo",
         "hovertemplate": "<b>%{hovertext}<b><br><b>%{customdata[1]}<b><br>occurence:  %{customdata[0]:,.0f}<br>",
         "hovertext": [
          "Losail International Circuit"
         ],
         "lat": [
          25.49
         ],
         "legendgroup": "Qatar",
         "lon": [
          51.4542
         ],
         "marker": {
          "color": "#EF553B",
          "line": {
           "color": "black",
           "width": 0.5
          },
          "symbol": "circle"
         },
         "mode": "markers",
         "name": "Qatar",
         "showlegend": true,
         "type": "scattergeo"
        },
        {
         "customdata": [
          [
           3,
           "Indian Grand Prix"
          ]
         ],
         "geo": "geo",
         "hovertemplate": "<b>%{hovertext}<b><br><b>%{customdata[1]}<b><br>occurence:  %{customdata[0]:,.0f}<br>",
         "hovertext": [
          "Buddh International Circuit"
         ],
         "lat": [
          28.3487
         ],
         "legendgroup": "India",
         "lon": [
          77.5331
         ],
         "marker": {
          "color": "#00cc96",
          "line": {
           "color": "black",
           "width": 0.5
          },
          "symbol": "circle"
         },
         "mode": "markers",
         "name": "India",
         "showlegend": true,
         "type": "scattergeo"
        },
        {
         "customdata": [
          [
           2,
           "Las Vegas Grand Prix"
          ]
         ],
         "geo": "geo",
         "hovertemplate": "<b>%{hovertext}<b><br><b>%{customdata[1]}<b><br>occurence:  %{customdata[0]:,.0f}<br>",
         "hovertext": [
          "Las Vegas Strip Street Circuit"
         ],
         "lat": [
          36.1147
         ],
         "legendgroup": "United States",
         "lon": [
          -115.173
         ],
         "marker": {
          "color": "#ab63fa",
          "line": {
           "color": "black",
           "width": 0.5
          },
          "symbol": "circle"
         },
         "mode": "markers",
         "name": "United States",
         "showlegend": true,
         "type": "scattergeo"
        },
        {
         "customdata": [
          [
           1,
           "Moroccan Grand Prix"
          ]
         ],
         "geo": "geo",
         "hovertemplate": "<b>%{hovertext}<b><br><b>%{customdata[1]}<b><br>occurence:  %{customdata[0]:,.0f}<br>",
         "hovertext": [
          "Ain Diab"
         ],
         "lat": [
          33.5786
         ],
         "legendgroup": "Morocco",
         "lon": [
          -7.6875
         ],
         "marker": {
          "color": "#FFA15A",
          "line": {
           "color": "black",
           "width": 0.5
          },
          "symbol": "circle"
         },
         "mode": "markers",
         "name": "Morocco",
         "showlegend": true,
         "type": "scattergeo"
        }
       ],
       "layout": {
        "geo": {
         "center": {},
         "domain": {
          "x": [
           0,
           1
          ],
          "y": [
           0,
           1
          ]
         },
         "projection": {
          "type": "natural earth"
         }
        },
        "legend": {
         "title": {
          "text": "country"
         },
         "tracegroupgap": 0
        },
        "margin": {
         "t": 60
        },
        "template": {
         "data": {
          "bar": [
           {
            "error_x": {
             "color": "#2a3f5f"
            },
            "error_y": {
             "color": "#2a3f5f"
            },
            "marker": {
             "line": {
              "color": "#E5ECF6",
              "width": 0.5
             },
             "pattern": {
              "fillmode": "overlay",
              "size": 10,
              "solidity": 0.2
             }
            },
            "type": "bar"
           }
          ],
          "barpolar": [
           {
            "marker": {
             "line": {
              "color": "#E5ECF6",
              "width": 0.5
             },
             "pattern": {
              "fillmode": "overlay",
              "size": 10,
              "solidity": 0.2
             }
            },
            "type": "barpolar"
           }
          ],
          "carpet": [
           {
            "aaxis": {
             "endlinecolor": "#2a3f5f",
             "gridcolor": "white",
             "linecolor": "white",
             "minorgridcolor": "white",
             "startlinecolor": "#2a3f5f"
            },
            "baxis": {
             "endlinecolor": "#2a3f5f",
             "gridcolor": "white",
             "linecolor": "white",
             "minorgridcolor": "white",
             "startlinecolor": "#2a3f5f"
            },
            "type": "carpet"
           }
          ],
          "choropleth": [
           {
            "colorbar": {
             "outlinewidth": 0,
             "ticks": ""
            },
            "type": "choropleth"
           }
          ],
          "contour": [
           {
            "colorbar": {
             "outlinewidth": 0,
             "ticks": ""
            },
            "colorscale": [
             [
              0,
              "#0d0887"
             ],
             [
              0.1111111111111111,
              "#46039f"
             ],
             [
              0.2222222222222222,
              "#7201a8"
             ],
             [
              0.3333333333333333,
              "#9c179e"
             ],
             [
              0.4444444444444444,
              "#bd3786"
             ],
             [
              0.5555555555555556,
              "#d8576b"
             ],
             [
              0.6666666666666666,
              "#ed7953"
             ],
             [
              0.7777777777777778,
              "#fb9f3a"
             ],
             [
              0.8888888888888888,
              "#fdca26"
             ],
             [
              1,
              "#f0f921"
             ]
            ],
            "type": "contour"
           }
          ],
          "contourcarpet": [
           {
            "colorbar": {
             "outlinewidth": 0,
             "ticks": ""
            },
            "type": "contourcarpet"
           }
          ],
          "heatmap": [
           {
            "colorbar": {
             "outlinewidth": 0,
             "ticks": ""
            },
            "colorscale": [
             [
              0,
              "#0d0887"
             ],
             [
              0.1111111111111111,
              "#46039f"
             ],
             [
              0.2222222222222222,
              "#7201a8"
             ],
             [
              0.3333333333333333,
              "#9c179e"
             ],
             [
              0.4444444444444444,
              "#bd3786"
             ],
             [
              0.5555555555555556,
              "#d8576b"
             ],
             [
              0.6666666666666666,
              "#ed7953"
             ],
             [
              0.7777777777777778,
              "#fb9f3a"
             ],
             [
              0.8888888888888888,
              "#fdca26"
             ],
             [
              1,
              "#f0f921"
             ]
            ],
            "type": "heatmap"
           }
          ],
          "heatmapgl": [
           {
            "colorbar": {
             "outlinewidth": 0,
             "ticks": ""
            },
            "colorscale": [
             [
              0,
              "#0d0887"
             ],
             [
              0.1111111111111111,
              "#46039f"
             ],
             [
              0.2222222222222222,
              "#7201a8"
             ],
             [
              0.3333333333333333,
              "#9c179e"
             ],
             [
              0.4444444444444444,
              "#bd3786"
             ],
             [
              0.5555555555555556,
              "#d8576b"
             ],
             [
              0.6666666666666666,
              "#ed7953"
             ],
             [
              0.7777777777777778,
              "#fb9f3a"
             ],
             [
              0.8888888888888888,
              "#fdca26"
             ],
             [
              1,
              "#f0f921"
             ]
            ],
            "type": "heatmapgl"
           }
          ],
          "histogram": [
           {
            "marker": {
             "pattern": {
              "fillmode": "overlay",
              "size": 10,
              "solidity": 0.2
             }
            },
            "type": "histogram"
           }
          ],
          "histogram2d": [
           {
            "colorbar": {
             "outlinewidth": 0,
             "ticks": ""
            },
            "colorscale": [
             [
              0,
              "#0d0887"
             ],
             [
              0.1111111111111111,
              "#46039f"
             ],
             [
              0.2222222222222222,
              "#7201a8"
             ],
             [
              0.3333333333333333,
              "#9c179e"
             ],
             [
              0.4444444444444444,
              "#bd3786"
             ],
             [
              0.5555555555555556,
              "#d8576b"
             ],
             [
              0.6666666666666666,
              "#ed7953"
             ],
             [
              0.7777777777777778,
              "#fb9f3a"
             ],
             [
              0.8888888888888888,
              "#fdca26"
             ],
             [
              1,
              "#f0f921"
             ]
            ],
            "type": "histogram2d"
           }
          ],
          "histogram2dcontour": [
           {
            "colorbar": {
             "outlinewidth": 0,
             "ticks": ""
            },
            "colorscale": [
             [
              0,
              "#0d0887"
             ],
             [
              0.1111111111111111,
              "#46039f"
             ],
             [
              0.2222222222222222,
              "#7201a8"
             ],
             [
              0.3333333333333333,
              "#9c179e"
             ],
             [
              0.4444444444444444,
              "#bd3786"
             ],
             [
              0.5555555555555556,
              "#d8576b"
             ],
             [
              0.6666666666666666,
              "#ed7953"
             ],
             [
              0.7777777777777778,
              "#fb9f3a"
             ],
             [
              0.8888888888888888,
              "#fdca26"
             ],
             [
              1,
              "#f0f921"
             ]
            ],
            "type": "histogram2dcontour"
           }
          ],
          "mesh3d": [
           {
            "colorbar": {
             "outlinewidth": 0,
             "ticks": ""
            },
            "type": "mesh3d"
           }
          ],
          "parcoords": [
           {
            "line": {
             "colorbar": {
              "outlinewidth": 0,
              "ticks": ""
             }
            },
            "type": "parcoords"
           }
          ],
          "pie": [
           {
            "automargin": true,
            "type": "pie"
           }
          ],
          "scatter": [
           {
            "fillpattern": {
             "fillmode": "overlay",
             "size": 10,
             "solidity": 0.2
            },
            "type": "scatter"
           }
          ],
          "scatter3d": [
           {
            "line": {
             "colorbar": {
              "outlinewidth": 0,
              "ticks": ""
             }
            },
            "marker": {
             "colorbar": {
              "outlinewidth": 0,
              "ticks": ""
             }
            },
            "type": "scatter3d"
           }
          ],
          "scattercarpet": [
           {
            "marker": {
             "colorbar": {
              "outlinewidth": 0,
              "ticks": ""
             }
            },
            "type": "scattercarpet"
           }
          ],
          "scattergeo": [
           {
            "marker": {
             "colorbar": {
              "outlinewidth": 0,
              "ticks": ""
             }
            },
            "type": "scattergeo"
           }
          ],
          "scattergl": [
           {
            "marker": {
             "colorbar": {
              "outlinewidth": 0,
              "ticks": ""
             }
            },
            "type": "scattergl"
           }
          ],
          "scattermapbox": [
           {
            "marker": {
             "colorbar": {
              "outlinewidth": 0,
              "ticks": ""
             }
            },
            "type": "scattermapbox"
           }
          ],
          "scatterpolar": [
           {
            "marker": {
             "colorbar": {
              "outlinewidth": 0,
              "ticks": ""
             }
            },
            "type": "scatterpolar"
           }
          ],
          "scatterpolargl": [
           {
            "marker": {
             "colorbar": {
              "outlinewidth": 0,
              "ticks": ""
             }
            },
            "type": "scatterpolargl"
           }
          ],
          "scatterternary": [
           {
            "marker": {
             "colorbar": {
              "outlinewidth": 0,
              "ticks": ""
             }
            },
            "type": "scatterternary"
           }
          ],
          "surface": [
           {
            "colorbar": {
             "outlinewidth": 0,
             "ticks": ""
            },
            "colorscale": [
             [
              0,
              "#0d0887"
             ],
             [
              0.1111111111111111,
              "#46039f"
             ],
             [
              0.2222222222222222,
              "#7201a8"
             ],
             [
              0.3333333333333333,
              "#9c179e"
             ],
             [
              0.4444444444444444,
              "#bd3786"
             ],
             [
              0.5555555555555556,
              "#d8576b"
             ],
             [
              0.6666666666666666,
              "#ed7953"
             ],
             [
              0.7777777777777778,
              "#fb9f3a"
             ],
             [
              0.8888888888888888,
              "#fdca26"
             ],
             [
              1,
              "#f0f921"
             ]
            ],
            "type": "surface"
           }
          ],
          "table": [
           {
            "cells": {
             "fill": {
              "color": "#EBF0F8"
             },
             "line": {
              "color": "white"
             }
            },
            "header": {
             "fill": {
              "color": "#C8D4E3"
             },
             "line": {
              "color": "white"
             }
            },
            "type": "table"
           }
          ]
         },
         "layout": {
          "annotationdefaults": {
           "arrowcolor": "#2a3f5f",
           "arrowhead": 0,
           "arrowwidth": 1
          },
          "autotypenumbers": "strict",
          "coloraxis": {
           "colorbar": {
            "outlinewidth": 0,
            "ticks": ""
           }
          },
          "colorscale": {
           "diverging": [
            [
             0,
             "#8e0152"
            ],
            [
             0.1,
             "#c51b7d"
            ],
            [
             0.2,
             "#de77ae"
            ],
            [
             0.3,
             "#f1b6da"
            ],
            [
             0.4,
             "#fde0ef"
            ],
            [
             0.5,
             "#f7f7f7"
            ],
            [
             0.6,
             "#e6f5d0"
            ],
            [
             0.7,
             "#b8e186"
            ],
            [
             0.8,
             "#7fbc41"
            ],
            [
             0.9,
             "#4d9221"
            ],
            [
             1,
             "#276419"
            ]
           ],
           "sequential": [
            [
             0,
             "#0d0887"
            ],
            [
             0.1111111111111111,
             "#46039f"
            ],
            [
             0.2222222222222222,
             "#7201a8"
            ],
            [
             0.3333333333333333,
             "#9c179e"
            ],
            [
             0.4444444444444444,
             "#bd3786"
            ],
            [
             0.5555555555555556,
             "#d8576b"
            ],
            [
             0.6666666666666666,
             "#ed7953"
            ],
            [
             0.7777777777777778,
             "#fb9f3a"
            ],
            [
             0.8888888888888888,
             "#fdca26"
            ],
            [
             1,
             "#f0f921"
            ]
           ],
           "sequentialminus": [
            [
             0,
             "#0d0887"
            ],
            [
             0.1111111111111111,
             "#46039f"
            ],
            [
             0.2222222222222222,
             "#7201a8"
            ],
            [
             0.3333333333333333,
             "#9c179e"
            ],
            [
             0.4444444444444444,
             "#bd3786"
            ],
            [
             0.5555555555555556,
             "#d8576b"
            ],
            [
             0.6666666666666666,
             "#ed7953"
            ],
            [
             0.7777777777777778,
             "#fb9f3a"
            ],
            [
             0.8888888888888888,
             "#fdca26"
            ],
            [
             1,
             "#f0f921"
            ]
           ]
          },
          "colorway": [
           "#636efa",
           "#EF553B",
           "#00cc96",
           "#ab63fa",
           "#FFA15A",
           "#19d3f3",
           "#FF6692",
           "#B6E880",
           "#FF97FF",
           "#FECB52"
          ],
          "font": {
           "color": "#2a3f5f"
          },
          "geo": {
           "bgcolor": "white",
           "lakecolor": "white",
           "landcolor": "#E5ECF6",
           "showlakes": true,
           "showland": true,
           "subunitcolor": "white"
          },
          "hoverlabel": {
           "align": "left"
          },
          "hovermode": "closest",
          "mapbox": {
           "style": "light"
          },
          "paper_bgcolor": "white",
          "plot_bgcolor": "#E5ECF6",
          "polar": {
           "angularaxis": {
            "gridcolor": "white",
            "linecolor": "white",
            "ticks": ""
           },
           "bgcolor": "#E5ECF6",
           "radialaxis": {
            "gridcolor": "white",
            "linecolor": "white",
            "ticks": ""
           }
          },
          "scene": {
           "xaxis": {
            "backgroundcolor": "#E5ECF6",
            "gridcolor": "white",
            "gridwidth": 2,
            "linecolor": "white",
            "showbackground": true,
            "ticks": "",
            "zerolinecolor": "white"
           },
           "yaxis": {
            "backgroundcolor": "#E5ECF6",
            "gridcolor": "white",
            "gridwidth": 2,
            "linecolor": "white",
            "showbackground": true,
            "ticks": "",
            "zerolinecolor": "white"
           },
           "zaxis": {
            "backgroundcolor": "#E5ECF6",
            "gridcolor": "white",
            "gridwidth": 2,
            "linecolor": "white",
            "showbackground": true,
            "ticks": "",
            "zerolinecolor": "white"
           }
          },
          "shapedefaults": {
           "line": {
            "color": "#2a3f5f"
           }
          },
          "ternary": {
           "aaxis": {
            "gridcolor": "white",
            "linecolor": "white",
            "ticks": ""
           },
           "baxis": {
            "gridcolor": "white",
            "linecolor": "white",
            "ticks": ""
           },
           "bgcolor": "#E5ECF6",
           "caxis": {
            "gridcolor": "white",
            "linecolor": "white",
            "ticks": ""
           }
          },
          "title": {
           "x": 0.05
          },
          "xaxis": {
           "automargin": true,
           "gridcolor": "white",
           "linecolor": "white",
           "ticks": "",
           "title": {
            "standoff": 15
           },
           "zerolinecolor": "white",
           "zerolinewidth": 2
          },
          "yaxis": {
           "automargin": true,
           "gridcolor": "white",
           "linecolor": "white",
           "ticks": "",
           "title": {
            "standoff": 15
           },
           "zerolinecolor": "white",
           "zerolinewidth": 2
          }
         }
        }
       }
      }
     },
     "metadata": {},
     "output_type": "display_data"
    }
   ],
   "source": [
    "#utilizing the scatte_geo to plot the circuit_df in geographical manner\n",
    "fig = px.scatter_geo(data_frame= Circuit_df, lat= 'lat', lon= 'lng', hover_name= 'name',\n",
    "                     hover_data= {'occurence': True, 'grand_prix': True},\n",
    "                     projection= 'natural earth',\n",
    "                     color= 'country')\n",
    "fig.update_traces(marker = dict(line= dict(width= 0.5, color= 'black')),\n",
    "                  hovertemplate= \"<b>%{hovertext}<b><br>\"+\n",
    "                                 \"<b>%{customdata[1]}<b><br>\"+\n",
    "                                 \"occurence:  %{customdata[0]:,.0f}<br>\"\n",
    "                    )\n",
    "fig.show()"
   ]
  },
  {
   "cell_type": "markdown",
   "metadata": {},
   "source": [
    "#### **Driver Performance**\n",
    "*If you no longer go for a gap that exists, you're no longer a racing driver - Ayrton Senna*\n",
    "\n",
    "- Formula One boasts a rich history of extraordinary drivers, from legends like Alain Prost, Niki Lauda, and Ayrton Senna to modern champions such as Michael Schumacher, Sebastian Vettel, Fernando Alonso, Lewis Hamilton, and Max Verstappen.\n",
    "- A Grand Prix winner is crowned when a driver finishes the race in first place. Over the decades, many drivers have achieved remarkable success, setting historic records with their victories.\n",
    "- **Objective:**\n",
    "    - Identify the top 10 drivers with the most Grand Prix wins by calculating how many times each driver has finished in position = 1.\n",
    "    - Represent this data visually using a bar plot for clear comparison."
   ]
  },
  {
   "cell_type": "code",
   "execution_count": 24,
   "metadata": {},
   "outputs": [
    {
     "data": {
      "text/html": [
       "<div>\n",
       "<style scoped>\n",
       "    .dataframe tbody tr th:only-of-type {\n",
       "        vertical-align: middle;\n",
       "    }\n",
       "\n",
       "    .dataframe tbody tr th {\n",
       "        vertical-align: top;\n",
       "    }\n",
       "\n",
       "    .dataframe thead th {\n",
       "        text-align: right;\n",
       "    }\n",
       "</style>\n",
       "<table border=\"1\" class=\"dataframe\">\n",
       "  <thead>\n",
       "    <tr style=\"text-align: right;\">\n",
       "      <th></th>\n",
       "      <th>Name</th>\n",
       "      <th>wins</th>\n",
       "    </tr>\n",
       "  </thead>\n",
       "  <tbody>\n",
       "    <tr>\n",
       "      <th>0</th>\n",
       "      <td>Lewis Hamilton</td>\n",
       "      <td>104</td>\n",
       "    </tr>\n",
       "    <tr>\n",
       "      <th>1</th>\n",
       "      <td>Michael Schumacher</td>\n",
       "      <td>91</td>\n",
       "    </tr>\n",
       "    <tr>\n",
       "      <th>2</th>\n",
       "      <td>Max Verstappen</td>\n",
       "      <td>61</td>\n",
       "    </tr>\n",
       "    <tr>\n",
       "      <th>3</th>\n",
       "      <td>Sebastian Vettel</td>\n",
       "      <td>53</td>\n",
       "    </tr>\n",
       "    <tr>\n",
       "      <th>4</th>\n",
       "      <td>Alain Prost</td>\n",
       "      <td>51</td>\n",
       "    </tr>\n",
       "    <tr>\n",
       "      <th>...</th>\n",
       "      <td>...</td>\n",
       "      <td>...</td>\n",
       "    </tr>\n",
       "    <tr>\n",
       "      <th>109</th>\n",
       "      <td>Jean Alesi</td>\n",
       "      <td>1</td>\n",
       "    </tr>\n",
       "    <tr>\n",
       "      <th>110</th>\n",
       "      <td>Olivier Panis</td>\n",
       "      <td>1</td>\n",
       "    </tr>\n",
       "    <tr>\n",
       "      <th>111</th>\n",
       "      <td>Jarno Trulli</td>\n",
       "      <td>1</td>\n",
       "    </tr>\n",
       "    <tr>\n",
       "      <th>112</th>\n",
       "      <td>Robert Kubica</td>\n",
       "      <td>1</td>\n",
       "    </tr>\n",
       "    <tr>\n",
       "      <th>113</th>\n",
       "      <td>Heikki Kovalainen</td>\n",
       "      <td>1</td>\n",
       "    </tr>\n",
       "  </tbody>\n",
       "</table>\n",
       "<p>114 rows × 2 columns</p>\n",
       "</div>"
      ],
      "text/plain": [
       "                   Name  wins\n",
       "0        Lewis Hamilton   104\n",
       "1    Michael Schumacher    91\n",
       "2        Max Verstappen    61\n",
       "3      Sebastian Vettel    53\n",
       "4           Alain Prost    51\n",
       "..                  ...   ...\n",
       "109          Jean Alesi     1\n",
       "110       Olivier Panis     1\n",
       "111        Jarno Trulli     1\n",
       "112       Robert Kubica     1\n",
       "113   Heikki Kovalainen     1\n",
       "\n",
       "[114 rows x 2 columns]"
      ]
     },
     "execution_count": 24,
     "metadata": {},
     "output_type": "execute_result"
    }
   ],
   "source": [
    "#driver performance \n",
    "query = \"\"\"\n",
    "        SELECT drivers.Name, COUNT(results.position) AS wins\n",
    "        FROM drivers\n",
    "        JOIN results ON drivers.driverId = results.driverId\n",
    "        WHERE results.position = 1\n",
    "        GROUP BY drivers.driverId\n",
    "        ORDER BY wins DESC\n",
    "        \"\"\"\n",
    "driver_performance = pd.read_sql(query, engine)\n",
    "driver_performance"
   ]
  },
  {
   "cell_type": "code",
   "execution_count": 25,
   "metadata": {},
   "outputs": [
    {
     "data": {
      "image/png": "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",
      "text/plain": [
       "<Figure size 800x600 with 1 Axes>"
      ]
     },
     "metadata": {},
     "output_type": "display_data"
    }
   ],
   "source": [
    "#Plotting the data on seaborn bar plot\n",
    "plt.figure(figsize= (8,6))\n",
    "ax = sns.barplot(data= driver_performance.head(10), x= 'Name',y= 'wins', hue= 'Name')\n",
    "plt.title('Top 10 Drivers in Formual One')\n",
    "plt.ylabel('total wins')\n",
    "plt.xlabel('Drivers')\n",
    "plt.xticks(rotation = -45, ha= 'left',va= 'top')\n",
    "for p in ax.patches:\n",
    "    ax.annotate(f'{p.get_height(): .0f}',\n",
    "                (p.get_x() + p.get_width() / 2., p.get_height()), \n",
    "                ha='center', \n",
    "                va='bottom', \n",
    "                xytext=(0, 5),  # Offset to move text 5 points above the bar\n",
    "                textcoords='offset points')\n",
    "plt.show()"
   ]
  },
  {
   "cell_type": "markdown",
   "metadata": {},
   "source": [
    "### Driver Championship\n",
    "*The championship isn’t won in a single race. It’s a journey of consistency, adaptability, and seizing every opportunity<br>- Lewis Hamilton (7-time F1 World Champion)*\n",
    "- In Formula One, every driver aspires to achieve the ultimate accolade: the Drivers' Championship. However, only a select few succeed in turning this dream into reality.\n",
    "- The Drivers' Championship is awarded at the end of each season to the driver with the most points accumulated across all Grand Prix events. This honor symbolizes not only individual excellence but also resilience, adaptability, and consistency over the course of a demanding season.\n",
    "- **Objective:** Using historical F1 data from 1950 to 2023, we identified all Drivers' Championship winners and calculated the total number of titles won by each driver. The results were visualized in a bar graph, showcasing the legends of the sport and their dominance across different eras."
   ]
  },
  {
   "cell_type": "code",
   "execution_count": 26,
   "metadata": {},
   "outputs": [
    {
     "data": {
      "text/html": [
       "<div>\n",
       "<style scoped>\n",
       "    .dataframe tbody tr th:only-of-type {\n",
       "        vertical-align: middle;\n",
       "    }\n",
       "\n",
       "    .dataframe tbody tr th {\n",
       "        vertical-align: top;\n",
       "    }\n",
       "\n",
       "    .dataframe thead th {\n",
       "        text-align: right;\n",
       "    }\n",
       "</style>\n",
       "<table border=\"1\" class=\"dataframe\">\n",
       "  <thead>\n",
       "    <tr style=\"text-align: right;\">\n",
       "      <th></th>\n",
       "      <th>year</th>\n",
       "      <th>Name</th>\n",
       "    </tr>\n",
       "  </thead>\n",
       "  <tbody>\n",
       "    <tr>\n",
       "      <th>0</th>\n",
       "      <td>2023</td>\n",
       "      <td>Max Verstappen</td>\n",
       "    </tr>\n",
       "    <tr>\n",
       "      <th>1</th>\n",
       "      <td>2022</td>\n",
       "      <td>Max Verstappen</td>\n",
       "    </tr>\n",
       "    <tr>\n",
       "      <th>2</th>\n",
       "      <td>2021</td>\n",
       "      <td>Max Verstappen</td>\n",
       "    </tr>\n",
       "    <tr>\n",
       "      <th>3</th>\n",
       "      <td>2020</td>\n",
       "      <td>Lewis Hamilton</td>\n",
       "    </tr>\n",
       "    <tr>\n",
       "      <th>4</th>\n",
       "      <td>2019</td>\n",
       "      <td>Lewis Hamilton</td>\n",
       "    </tr>\n",
       "  </tbody>\n",
       "</table>\n",
       "</div>"
      ],
      "text/plain": [
       "   year            Name\n",
       "0  2023  Max Verstappen\n",
       "1  2022  Max Verstappen\n",
       "2  2021  Max Verstappen\n",
       "3  2020  Lewis Hamilton\n",
       "4  2019  Lewis Hamilton"
      ]
     },
     "execution_count": 26,
     "metadata": {},
     "output_type": "execute_result"
    }
   ],
   "source": [
    "query = \"\"\"    \n",
    "SELECT year, name \n",
    "FROM driver_standings AS ds\n",
    "JOIN(\n",
    "SELECT year, raceId \n",
    "FROM races\n",
    "GROUP BY year\n",
    "HAVING MAX(round)\n",
    ")AS max_race\n",
    "ON max_race.raceId = ds.raceId\n",
    "JOIN drivers AS d\n",
    "ON d.driverId = ds.driverId\n",
    "WHERE position = 1\n",
    "ORDER BY year DESC\n",
    "\"\"\"\n",
    "driver_championship_df = pd.read_sql(query, engine)\n",
    "driver_championship_df.head()"
   ]
  },
  {
   "cell_type": "code",
   "execution_count": 27,
   "metadata": {},
   "outputs": [],
   "source": [
    "driver_championship_df = driver_championship_df.groupby(by= 'Name').size().reset_index(name= 'Driver Championship Wins').sort_values(by= 'Driver Championship Wins', ascending= False)"
   ]
  },
  {
   "cell_type": "code",
   "execution_count": 28,
   "metadata": {},
   "outputs": [],
   "source": [
    "driver_championship_df.reset_index(drop= True, inplace=True)"
   ]
  },
  {
   "cell_type": "code",
   "execution_count": 29,
   "metadata": {},
   "outputs": [
    {
     "data": {
      "image/png": "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",
      "text/plain": [
       "<Figure size 1000x500 with 1 Axes>"
      ]
     },
     "metadata": {},
     "output_type": "display_data"
    }
   ],
   "source": [
    "plt.figure(figsize = (10,5))\n",
    "sns.barplot(data= driver_championship_df, x= 'Name', y= 'Driver Championship Wins', hue= 'Name')\n",
    "plt.xlabel('Driver')\n",
    "plt.xticks(rotation = -45, ha= 'left', va= 'top', fontsize= 8)\n",
    "plt.title('Driver Championship winners')\n",
    "plt.show()"
   ]
  },
  {
   "cell_type": "markdown",
   "metadata": {},
   "source": [
    "#### **Total Constructor Wins**\n",
    "*Formula 1 is not just about the driver; it’s about every single person at the factory. Without them, there’s no car<br> - Toto Wolf* *(Mercedes-AMG Team Principal.)*\n",
    "\n",
    "- Formula One has witnessed numerous legendary constructors (teams) throughout its history. Among them, Ferrari stands out as the only team to have participated in every F1 season since 1950.\n",
    "- In Formula One, the most successful constructor of a Grand Prix is determined by the team accumulating the most points from that race. Over the years, several teams have achieved remarkable success, leaving their mark on the sport's history.\n",
    "- **Objective**:\n",
    "    -Calculate the total number of constructor wins for each team and visualize their achievements to understand the dominance of various constructors across different eras."
   ]
  },
  {
   "cell_type": "code",
   "execution_count": 30,
   "metadata": {},
   "outputs": [
    {
     "data": {
      "text/html": [
       "<div>\n",
       "<style scoped>\n",
       "    .dataframe tbody tr th:only-of-type {\n",
       "        vertical-align: middle;\n",
       "    }\n",
       "\n",
       "    .dataframe tbody tr th {\n",
       "        vertical-align: top;\n",
       "    }\n",
       "\n",
       "    .dataframe thead th {\n",
       "        text-align: right;\n",
       "    }\n",
       "</style>\n",
       "<table border=\"1\" class=\"dataframe\">\n",
       "  <thead>\n",
       "    <tr style=\"text-align: right;\">\n",
       "      <th></th>\n",
       "      <th>name</th>\n",
       "      <th>wins</th>\n",
       "    </tr>\n",
       "  </thead>\n",
       "  <tbody>\n",
       "    <tr>\n",
       "      <th>0</th>\n",
       "      <td>Ferrari</td>\n",
       "      <td>234</td>\n",
       "    </tr>\n",
       "    <tr>\n",
       "      <th>1</th>\n",
       "      <td>McLaren</td>\n",
       "      <td>165</td>\n",
       "    </tr>\n",
       "    <tr>\n",
       "      <th>2</th>\n",
       "      <td>Mercedes</td>\n",
       "      <td>145</td>\n",
       "    </tr>\n",
       "    <tr>\n",
       "      <th>3</th>\n",
       "      <td>Red Bull</td>\n",
       "      <td>120</td>\n",
       "    </tr>\n",
       "    <tr>\n",
       "      <th>4</th>\n",
       "      <td>Williams</td>\n",
       "      <td>114</td>\n",
       "    </tr>\n",
       "  </tbody>\n",
       "</table>\n",
       "</div>"
      ],
      "text/plain": [
       "       name  wins\n",
       "0   Ferrari   234\n",
       "1   McLaren   165\n",
       "2  Mercedes   145\n",
       "3  Red Bull   120\n",
       "4  Williams   114"
      ]
     },
     "execution_count": 30,
     "metadata": {},
     "output_type": "execute_result"
    }
   ],
   "source": [
    "#query to find out total constructor wins \n",
    "query = \"\"\"\n",
    "        SELECT constructors.name, COUNT(constructor_standings.position) as wins \n",
    "        FROM constructors\n",
    "        JOIN constructor_standings ON constructors.constructorId = constructor_standings.constructorId\n",
    "        JOIN races ON races.raceId = constructor_standings.raceId\n",
    "        WHERE (constructor_standings.position) = 1\n",
    "        GROUP BY constructors.constructorId\n",
    "        ORDER BY wins DESC\n",
    "\"\"\"\n",
    "constructor_performance = pd.read_sql(query, engine)\n",
    "constructor_performance.head()"
   ]
  },
  {
   "cell_type": "code",
   "execution_count": 31,
   "metadata": {},
   "outputs": [
    {
     "data": {
      "application/vnd.plotly.v1+json": {
       "config": {
        "plotlyServerURL": "https://plot.ly"
       },
       "data": [
        {
         "alignmentgroup": "True",
         "hovertemplate": "<b>Constructor Name: %{x}</b><br><b>Constructor Wins: %{y}</b><br>",
         "hovertext": [
          "Ferrari"
         ],
         "legendgroup": "Ferrari",
         "marker": {
          "color": "#636efa",
          "pattern": {
           "shape": ""
          }
         },
         "name": "Ferrari",
         "offsetgroup": "Ferrari",
         "orientation": "v",
         "showlegend": true,
         "textposition": "auto",
         "type": "bar",
         "x": [
          "Ferrari"
         ],
         "xaxis": "x",
         "y": [
          234
         ],
         "yaxis": "y"
        },
        {
         "alignmentgroup": "True",
         "hovertemplate": "<b>Constructor Name: %{x}</b><br><b>Constructor Wins: %{y}</b><br>",
         "hovertext": [
          "McLaren"
         ],
         "legendgroup": "McLaren",
         "marker": {
          "color": "#EF553B",
          "pattern": {
           "shape": ""
          }
         },
         "name": "McLaren",
         "offsetgroup": "McLaren",
         "orientation": "v",
         "showlegend": true,
         "textposition": "auto",
         "type": "bar",
         "x": [
          "McLaren"
         ],
         "xaxis": "x",
         "y": [
          165
         ],
         "yaxis": "y"
        },
        {
         "alignmentgroup": "True",
         "hovertemplate": "<b>Constructor Name: %{x}</b><br><b>Constructor Wins: %{y}</b><br>",
         "hovertext": [
          "Mercedes"
         ],
         "legendgroup": "Mercedes",
         "marker": {
          "color": "#00cc96",
          "pattern": {
           "shape": ""
          }
         },
         "name": "Mercedes",
         "offsetgroup": "Mercedes",
         "orientation": "v",
         "showlegend": true,
         "textposition": "auto",
         "type": "bar",
         "x": [
          "Mercedes"
         ],
         "xaxis": "x",
         "y": [
          145
         ],
         "yaxis": "y"
        },
        {
         "alignmentgroup": "True",
         "hovertemplate": "<b>Constructor Name: %{x}</b><br><b>Constructor Wins: %{y}</b><br>",
         "hovertext": [
          "Red Bull"
         ],
         "legendgroup": "Red Bull",
         "marker": {
          "color": "#ab63fa",
          "pattern": {
           "shape": ""
          }
         },
         "name": "Red Bull",
         "offsetgroup": "Red Bull",
         "orientation": "v",
         "showlegend": true,
         "textposition": "auto",
         "type": "bar",
         "x": [
          "Red Bull"
         ],
         "xaxis": "x",
         "y": [
          120
         ],
         "yaxis": "y"
        },
        {
         "alignmentgroup": "True",
         "hovertemplate": "<b>Constructor Name: %{x}</b><br><b>Constructor Wins: %{y}</b><br>",
         "hovertext": [
          "Williams"
         ],
         "legendgroup": "Williams",
         "marker": {
          "color": "#FFA15A",
          "pattern": {
           "shape": ""
          }
         },
         "name": "Williams",
         "offsetgroup": "Williams",
         "orientation": "v",
         "showlegend": true,
         "textposition": "auto",
         "type": "bar",
         "x": [
          "Williams"
         ],
         "xaxis": "x",
         "y": [
          114
         ],
         "yaxis": "y"
        },
        {
         "alignmentgroup": "True",
         "hovertemplate": "<b>Constructor Name: %{x}</b><br><b>Constructor Wins: %{y}</b><br>",
         "hovertext": [
          "Renault"
         ],
         "legendgroup": "Renault",
         "marker": {
          "color": "#19d3f3",
          "pattern": {
           "shape": ""
          }
         },
         "name": "Renault",
         "offsetgroup": "Renault",
         "orientation": "v",
         "showlegend": true,
         "textposition": "auto",
         "type": "bar",
         "x": [
          "Renault"
         ],
         "xaxis": "x",
         "y": [
          46
         ],
         "yaxis": "y"
        },
        {
         "alignmentgroup": "True",
         "hovertemplate": "<b>Constructor Name: %{x}</b><br><b>Constructor Wins: %{y}</b><br>",
         "hovertext": [
          "Team Lotus"
         ],
         "legendgroup": "Team Lotus",
         "marker": {
          "color": "#FF6692",
          "pattern": {
           "shape": ""
          }
         },
         "name": "Team Lotus",
         "offsetgroup": "Team Lotus",
         "orientation": "v",
         "showlegend": true,
         "textposition": "auto",
         "type": "bar",
         "x": [
          "Team Lotus"
         ],
         "xaxis": "x",
         "y": [
          44
         ],
         "yaxis": "y"
        },
        {
         "alignmentgroup": "True",
         "hovertemplate": "<b>Constructor Name: %{x}</b><br><b>Constructor Wins: %{y}</b><br>",
         "hovertext": [
          "Benetton"
         ],
         "legendgroup": "Benetton",
         "marker": {
          "color": "#B6E880",
          "pattern": {
           "shape": ""
          }
         },
         "name": "Benetton",
         "offsetgroup": "Benetton",
         "orientation": "v",
         "showlegend": true,
         "textposition": "auto",
         "type": "bar",
         "x": [
          "Benetton"
         ],
         "xaxis": "x",
         "y": [
          29
         ],
         "yaxis": "y"
        },
        {
         "alignmentgroup": "True",
         "hovertemplate": "<b>Constructor Name: %{x}</b><br><b>Constructor Wins: %{y}</b><br>",
         "hovertext": [
          "Lotus-Climax"
         ],
         "legendgroup": "Lotus-Climax",
         "marker": {
          "color": "#FF97FF",
          "pattern": {
           "shape": ""
          }
         },
         "name": "Lotus-Climax",
         "offsetgroup": "Lotus-Climax",
         "orientation": "v",
         "showlegend": true,
         "textposition": "auto",
         "type": "bar",
         "x": [
          "Lotus-Climax"
         ],
         "xaxis": "x",
         "y": [
          23
         ],
         "yaxis": "y"
        },
        {
         "alignmentgroup": "True",
         "hovertemplate": "<b>Constructor Name: %{x}</b><br><b>Constructor Wins: %{y}</b><br>",
         "hovertext": [
          "Cooper-Climax"
         ],
         "legendgroup": "Cooper-Climax",
         "marker": {
          "color": "#FECB52",
          "pattern": {
           "shape": ""
          }
         },
         "name": "Cooper-Climax",
         "offsetgroup": "Cooper-Climax",
         "orientation": "v",
         "showlegend": true,
         "textposition": "auto",
         "type": "bar",
         "x": [
          "Cooper-Climax"
         ],
         "xaxis": "x",
         "y": [
          20
         ],
         "yaxis": "y"
        },
        {
         "alignmentgroup": "True",
         "hovertemplate": "<b>Constructor Name: %{x}</b><br><b>Constructor Wins: %{y}</b><br>",
         "hovertext": [
          "Brawn"
         ],
         "legendgroup": "Brawn",
         "marker": {
          "color": "#636efa",
          "pattern": {
           "shape": ""
          }
         },
         "name": "Brawn",
         "offsetgroup": "Brawn",
         "orientation": "v",
         "showlegend": true,
         "textposition": "auto",
         "type": "bar",
         "x": [
          "Brawn"
         ],
         "xaxis": "x",
         "y": [
          17
         ],
         "yaxis": "y"
        },
        {
         "alignmentgroup": "True",
         "hovertemplate": "<b>Constructor Name: %{x}</b><br><b>Constructor Wins: %{y}</b><br>",
         "hovertext": [
          "Brabham-Repco"
         ],
         "legendgroup": "Brabham-Repco",
         "marker": {
          "color": "#EF553B",
          "pattern": {
           "shape": ""
          }
         },
         "name": "Brabham-Repco",
         "offsetgroup": "Brabham-Repco",
         "orientation": "v",
         "showlegend": true,
         "textposition": "auto",
         "type": "bar",
         "x": [
          "Brabham-Repco"
         ],
         "xaxis": "x",
         "y": [
          16
         ],
         "yaxis": "y"
        },
        {
         "alignmentgroup": "True",
         "hovertemplate": "<b>Constructor Name: %{x}</b><br><b>Constructor Wins: %{y}</b><br>",
         "hovertext": [
          "Tyrrell"
         ],
         "legendgroup": "Tyrrell",
         "marker": {
          "color": "#00cc96",
          "pattern": {
           "shape": ""
          }
         },
         "name": "Tyrrell",
         "offsetgroup": "Tyrrell",
         "orientation": "v",
         "showlegend": true,
         "textposition": "auto",
         "type": "bar",
         "x": [
          "Tyrrell"
         ],
         "xaxis": "x",
         "y": [
          16
         ],
         "yaxis": "y"
        },
        {
         "alignmentgroup": "True",
         "hovertemplate": "<b>Constructor Name: %{x}</b><br><b>Constructor Wins: %{y}</b><br>",
         "hovertext": [
          "BRM"
         ],
         "legendgroup": "BRM",
         "marker": {
          "color": "#ab63fa",
          "pattern": {
           "shape": ""
          }
         },
         "name": "BRM",
         "offsetgroup": "BRM",
         "orientation": "v",
         "showlegend": true,
         "textposition": "auto",
         "type": "bar",
         "x": [
          "BRM"
         ],
         "xaxis": "x",
         "y": [
          14
         ],
         "yaxis": "y"
        },
        {
         "alignmentgroup": "True",
         "hovertemplate": "<b>Constructor Name: %{x}</b><br><b>Constructor Wins: %{y}</b><br>",
         "hovertext": [
          "Lotus-Ford"
         ],
         "legendgroup": "Lotus-Ford",
         "marker": {
          "color": "#FFA15A",
          "pattern": {
           "shape": ""
          }
         },
         "name": "Lotus-Ford",
         "offsetgroup": "Lotus-Ford",
         "orientation": "v",
         "showlegend": true,
         "textposition": "auto",
         "type": "bar",
         "x": [
          "Lotus-Ford"
         ],
         "xaxis": "x",
         "y": [
          12
         ],
         "yaxis": "y"
        },
        {
         "alignmentgroup": "True",
         "hovertemplate": "<b>Constructor Name: %{x}</b><br><b>Constructor Wins: %{y}</b><br>",
         "hovertext": [
          "Matra-Ford"
         ],
         "legendgroup": "Matra-Ford",
         "marker": {
          "color": "#19d3f3",
          "pattern": {
           "shape": ""
          }
         },
         "name": "Matra-Ford",
         "offsetgroup": "Matra-Ford",
         "orientation": "v",
         "showlegend": true,
         "textposition": "auto",
         "type": "bar",
         "x": [
          "Matra-Ford"
         ],
         "xaxis": "x",
         "y": [
          11
         ],
         "yaxis": "y"
        },
        {
         "alignmentgroup": "True",
         "hovertemplate": "<b>Constructor Name: %{x}</b><br><b>Constructor Wins: %{y}</b><br>",
         "hovertext": [
          "Brabham"
         ],
         "legendgroup": "Brabham",
         "marker": {
          "color": "#FF6692",
          "pattern": {
           "shape": ""
          }
         },
         "name": "Brabham",
         "offsetgroup": "Brabham",
         "orientation": "v",
         "showlegend": true,
         "textposition": "auto",
         "type": "bar",
         "x": [
          "Brabham"
         ],
         "xaxis": "x",
         "y": [
          6
         ],
         "yaxis": "y"
        },
        {
         "alignmentgroup": "True",
         "hovertemplate": "<b>Constructor Name: %{x}</b><br><b>Constructor Wins: %{y}</b><br>",
         "hovertext": [
          "Cooper"
         ],
         "legendgroup": "Cooper",
         "marker": {
          "color": "#B6E880",
          "pattern": {
           "shape": ""
          }
         },
         "name": "Cooper",
         "offsetgroup": "Cooper",
         "orientation": "v",
         "showlegend": true,
         "textposition": "auto",
         "type": "bar",
         "x": [
          "Cooper"
         ],
         "xaxis": "x",
         "y": [
          4
         ],
         "yaxis": "y"
        },
        {
         "alignmentgroup": "True",
         "hovertemplate": "<b>Constructor Name: %{x}</b><br><b>Constructor Wins: %{y}</b><br>",
         "hovertext": [
          "Ligier"
         ],
         "legendgroup": "Ligier",
         "marker": {
          "color": "#FF97FF",
          "pattern": {
           "shape": ""
          }
         },
         "name": "Ligier",
         "offsetgroup": "Ligier",
         "orientation": "v",
         "showlegend": true,
         "textposition": "auto",
         "type": "bar",
         "x": [
          "Ligier"
         ],
         "xaxis": "x",
         "y": [
          4
         ],
         "yaxis": "y"
        },
        {
         "alignmentgroup": "True",
         "hovertemplate": "<b>Constructor Name: %{x}</b><br><b>Constructor Wins: %{y}</b><br>",
         "hovertext": [
          "Vanwall"
         ],
         "legendgroup": "Vanwall",
         "marker": {
          "color": "#FECB52",
          "pattern": {
           "shape": ""
          }
         },
         "name": "Vanwall",
         "offsetgroup": "Vanwall",
         "orientation": "v",
         "showlegend": true,
         "textposition": "auto",
         "type": "bar",
         "x": [
          "Vanwall"
         ],
         "xaxis": "x",
         "y": [
          3
         ],
         "yaxis": "y"
        },
        {
         "alignmentgroup": "True",
         "hovertemplate": "<b>Constructor Name: %{x}</b><br><b>Constructor Wins: %{y}</b><br>",
         "hovertext": [
          "March"
         ],
         "legendgroup": "March",
         "marker": {
          "color": "#636efa",
          "pattern": {
           "shape": ""
          }
         },
         "name": "March",
         "offsetgroup": "March",
         "orientation": "v",
         "showlegend": true,
         "textposition": "auto",
         "type": "bar",
         "x": [
          "March"
         ],
         "xaxis": "x",
         "y": [
          3
         ],
         "yaxis": "y"
        },
        {
         "alignmentgroup": "True",
         "hovertemplate": "<b>Constructor Name: %{x}</b><br><b>Constructor Wins: %{y}</b><br>",
         "hovertext": [
          "Cooper-Maserati"
         ],
         "legendgroup": "Cooper-Maserati",
         "marker": {
          "color": "#EF553B",
          "pattern": {
           "shape": ""
          }
         },
         "name": "Cooper-Maserati",
         "offsetgroup": "Cooper-Maserati",
         "orientation": "v",
         "showlegend": true,
         "textposition": "auto",
         "type": "bar",
         "x": [
          "Cooper-Maserati"
         ],
         "xaxis": "x",
         "y": [
          1
         ],
         "yaxis": "y"
        },
        {
         "alignmentgroup": "True",
         "hovertemplate": "<b>Constructor Name: %{x}</b><br><b>Constructor Wins: %{y}</b><br>",
         "hovertext": [
          "Wolf"
         ],
         "legendgroup": "Wolf",
         "marker": {
          "color": "#00cc96",
          "pattern": {
           "shape": ""
          }
         },
         "name": "Wolf",
         "offsetgroup": "Wolf",
         "orientation": "v",
         "showlegend": true,
         "textposition": "auto",
         "type": "bar",
         "x": [
          "Wolf"
         ],
         "xaxis": "x",
         "y": [
          1
         ],
         "yaxis": "y"
        },
        {
         "alignmentgroup": "True",
         "hovertemplate": "<b>Constructor Name: %{x}</b><br><b>Constructor Wins: %{y}</b><br>",
         "hovertext": [
          "BMW Sauber"
         ],
         "legendgroup": "BMW Sauber",
         "marker": {
          "color": "#ab63fa",
          "pattern": {
           "shape": ""
          }
         },
         "name": "BMW Sauber",
         "offsetgroup": "BMW Sauber",
         "orientation": "v",
         "showlegend": true,
         "textposition": "auto",
         "type": "bar",
         "x": [
          "BMW Sauber"
         ],
         "xaxis": "x",
         "y": [
          1
         ],
         "yaxis": "y"
        }
       ],
       "layout": {
        "barmode": "relative",
        "legend": {
         "title": {
          "text": "name"
         },
         "tracegroupgap": 0
        },
        "showlegend": false,
        "template": {
         "data": {
          "bar": [
           {
            "error_x": {
             "color": "#2a3f5f"
            },
            "error_y": {
             "color": "#2a3f5f"
            },
            "marker": {
             "line": {
              "color": "#E5ECF6",
              "width": 0.5
             },
             "pattern": {
              "fillmode": "overlay",
              "size": 10,
              "solidity": 0.2
             }
            },
            "type": "bar"
           }
          ],
          "barpolar": [
           {
            "marker": {
             "line": {
              "color": "#E5ECF6",
              "width": 0.5
             },
             "pattern": {
              "fillmode": "overlay",
              "size": 10,
              "solidity": 0.2
             }
            },
            "type": "barpolar"
           }
          ],
          "carpet": [
           {
            "aaxis": {
             "endlinecolor": "#2a3f5f",
             "gridcolor": "white",
             "linecolor": "white",
             "minorgridcolor": "white",
             "startlinecolor": "#2a3f5f"
            },
            "baxis": {
             "endlinecolor": "#2a3f5f",
             "gridcolor": "white",
             "linecolor": "white",
             "minorgridcolor": "white",
             "startlinecolor": "#2a3f5f"
            },
            "type": "carpet"
           }
          ],
          "choropleth": [
           {
            "colorbar": {
             "outlinewidth": 0,
             "ticks": ""
            },
            "type": "choropleth"
           }
          ],
          "contour": [
           {
            "colorbar": {
             "outlinewidth": 0,
             "ticks": ""
            },
            "colorscale": [
             [
              0,
              "#0d0887"
             ],
             [
              0.1111111111111111,
              "#46039f"
             ],
             [
              0.2222222222222222,
              "#7201a8"
             ],
             [
              0.3333333333333333,
              "#9c179e"
             ],
             [
              0.4444444444444444,
              "#bd3786"
             ],
             [
              0.5555555555555556,
              "#d8576b"
             ],
             [
              0.6666666666666666,
              "#ed7953"
             ],
             [
              0.7777777777777778,
              "#fb9f3a"
             ],
             [
              0.8888888888888888,
              "#fdca26"
             ],
             [
              1,
              "#f0f921"
             ]
            ],
            "type": "contour"
           }
          ],
          "contourcarpet": [
           {
            "colorbar": {
             "outlinewidth": 0,
             "ticks": ""
            },
            "type": "contourcarpet"
           }
          ],
          "heatmap": [
           {
            "colorbar": {
             "outlinewidth": 0,
             "ticks": ""
            },
            "colorscale": [
             [
              0,
              "#0d0887"
             ],
             [
              0.1111111111111111,
              "#46039f"
             ],
             [
              0.2222222222222222,
              "#7201a8"
             ],
             [
              0.3333333333333333,
              "#9c179e"
             ],
             [
              0.4444444444444444,
              "#bd3786"
             ],
             [
              0.5555555555555556,
              "#d8576b"
             ],
             [
              0.6666666666666666,
              "#ed7953"
             ],
             [
              0.7777777777777778,
              "#fb9f3a"
             ],
             [
              0.8888888888888888,
              "#fdca26"
             ],
             [
              1,
              "#f0f921"
             ]
            ],
            "type": "heatmap"
           }
          ],
          "heatmapgl": [
           {
            "colorbar": {
             "outlinewidth": 0,
             "ticks": ""
            },
            "colorscale": [
             [
              0,
              "#0d0887"
             ],
             [
              0.1111111111111111,
              "#46039f"
             ],
             [
              0.2222222222222222,
              "#7201a8"
             ],
             [
              0.3333333333333333,
              "#9c179e"
             ],
             [
              0.4444444444444444,
              "#bd3786"
             ],
             [
              0.5555555555555556,
              "#d8576b"
             ],
             [
              0.6666666666666666,
              "#ed7953"
             ],
             [
              0.7777777777777778,
              "#fb9f3a"
             ],
             [
              0.8888888888888888,
              "#fdca26"
             ],
             [
              1,
              "#f0f921"
             ]
            ],
            "type": "heatmapgl"
           }
          ],
          "histogram": [
           {
            "marker": {
             "pattern": {
              "fillmode": "overlay",
              "size": 10,
              "solidity": 0.2
             }
            },
            "type": "histogram"
           }
          ],
          "histogram2d": [
           {
            "colorbar": {
             "outlinewidth": 0,
             "ticks": ""
            },
            "colorscale": [
             [
              0,
              "#0d0887"
             ],
             [
              0.1111111111111111,
              "#46039f"
             ],
             [
              0.2222222222222222,
              "#7201a8"
             ],
             [
              0.3333333333333333,
              "#9c179e"
             ],
             [
              0.4444444444444444,
              "#bd3786"
             ],
             [
              0.5555555555555556,
              "#d8576b"
             ],
             [
              0.6666666666666666,
              "#ed7953"
             ],
             [
              0.7777777777777778,
              "#fb9f3a"
             ],
             [
              0.8888888888888888,
              "#fdca26"
             ],
             [
              1,
              "#f0f921"
             ]
            ],
            "type": "histogram2d"
           }
          ],
          "histogram2dcontour": [
           {
            "colorbar": {
             "outlinewidth": 0,
             "ticks": ""
            },
            "colorscale": [
             [
              0,
              "#0d0887"
             ],
             [
              0.1111111111111111,
              "#46039f"
             ],
             [
              0.2222222222222222,
              "#7201a8"
             ],
             [
              0.3333333333333333,
              "#9c179e"
             ],
             [
              0.4444444444444444,
              "#bd3786"
             ],
             [
              0.5555555555555556,
              "#d8576b"
             ],
             [
              0.6666666666666666,
              "#ed7953"
             ],
             [
              0.7777777777777778,
              "#fb9f3a"
             ],
             [
              0.8888888888888888,
              "#fdca26"
             ],
             [
              1,
              "#f0f921"
             ]
            ],
            "type": "histogram2dcontour"
           }
          ],
          "mesh3d": [
           {
            "colorbar": {
             "outlinewidth": 0,
             "ticks": ""
            },
            "type": "mesh3d"
           }
          ],
          "parcoords": [
           {
            "line": {
             "colorbar": {
              "outlinewidth": 0,
              "ticks": ""
             }
            },
            "type": "parcoords"
           }
          ],
          "pie": [
           {
            "automargin": true,
            "type": "pie"
           }
          ],
          "scatter": [
           {
            "fillpattern": {
             "fillmode": "overlay",
             "size": 10,
             "solidity": 0.2
            },
            "type": "scatter"
           }
          ],
          "scatter3d": [
           {
            "line": {
             "colorbar": {
              "outlinewidth": 0,
              "ticks": ""
             }
            },
            "marker": {
             "colorbar": {
              "outlinewidth": 0,
              "ticks": ""
             }
            },
            "type": "scatter3d"
           }
          ],
          "scattercarpet": [
           {
            "marker": {
             "colorbar": {
              "outlinewidth": 0,
              "ticks": ""
             }
            },
            "type": "scattercarpet"
           }
          ],
          "scattergeo": [
           {
            "marker": {
             "colorbar": {
              "outlinewidth": 0,
              "ticks": ""
             }
            },
            "type": "scattergeo"
           }
          ],
          "scattergl": [
           {
            "marker": {
             "colorbar": {
              "outlinewidth": 0,
              "ticks": ""
             }
            },
            "type": "scattergl"
           }
          ],
          "scattermapbox": [
           {
            "marker": {
             "colorbar": {
              "outlinewidth": 0,
              "ticks": ""
             }
            },
            "type": "scattermapbox"
           }
          ],
          "scatterpolar": [
           {
            "marker": {
             "colorbar": {
              "outlinewidth": 0,
              "ticks": ""
             }
            },
            "type": "scatterpolar"
           }
          ],
          "scatterpolargl": [
           {
            "marker": {
             "colorbar": {
              "outlinewidth": 0,
              "ticks": ""
             }
            },
            "type": "scatterpolargl"
           }
          ],
          "scatterternary": [
           {
            "marker": {
             "colorbar": {
              "outlinewidth": 0,
              "ticks": ""
             }
            },
            "type": "scatterternary"
           }
          ],
          "surface": [
           {
            "colorbar": {
             "outlinewidth": 0,
             "ticks": ""
            },
            "colorscale": [
             [
              0,
              "#0d0887"
             ],
             [
              0.1111111111111111,
              "#46039f"
             ],
             [
              0.2222222222222222,
              "#7201a8"
             ],
             [
              0.3333333333333333,
              "#9c179e"
             ],
             [
              0.4444444444444444,
              "#bd3786"
             ],
             [
              0.5555555555555556,
              "#d8576b"
             ],
             [
              0.6666666666666666,
              "#ed7953"
             ],
             [
              0.7777777777777778,
              "#fb9f3a"
             ],
             [
              0.8888888888888888,
              "#fdca26"
             ],
             [
              1,
              "#f0f921"
             ]
            ],
            "type": "surface"
           }
          ],
          "table": [
           {
            "cells": {
             "fill": {
              "color": "#EBF0F8"
             },
             "line": {
              "color": "white"
             }
            },
            "header": {
             "fill": {
              "color": "#C8D4E3"
             },
             "line": {
              "color": "white"
             }
            },
            "type": "table"
           }
          ]
         },
         "layout": {
          "annotationdefaults": {
           "arrowcolor": "#2a3f5f",
           "arrowhead": 0,
           "arrowwidth": 1
          },
          "autotypenumbers": "strict",
          "coloraxis": {
           "colorbar": {
            "outlinewidth": 0,
            "ticks": ""
           }
          },
          "colorscale": {
           "diverging": [
            [
             0,
             "#8e0152"
            ],
            [
             0.1,
             "#c51b7d"
            ],
            [
             0.2,
             "#de77ae"
            ],
            [
             0.3,
             "#f1b6da"
            ],
            [
             0.4,
             "#fde0ef"
            ],
            [
             0.5,
             "#f7f7f7"
            ],
            [
             0.6,
             "#e6f5d0"
            ],
            [
             0.7,
             "#b8e186"
            ],
            [
             0.8,
             "#7fbc41"
            ],
            [
             0.9,
             "#4d9221"
            ],
            [
             1,
             "#276419"
            ]
           ],
           "sequential": [
            [
             0,
             "#0d0887"
            ],
            [
             0.1111111111111111,
             "#46039f"
            ],
            [
             0.2222222222222222,
             "#7201a8"
            ],
            [
             0.3333333333333333,
             "#9c179e"
            ],
            [
             0.4444444444444444,
             "#bd3786"
            ],
            [
             0.5555555555555556,
             "#d8576b"
            ],
            [
             0.6666666666666666,
             "#ed7953"
            ],
            [
             0.7777777777777778,
             "#fb9f3a"
            ],
            [
             0.8888888888888888,
             "#fdca26"
            ],
            [
             1,
             "#f0f921"
            ]
           ],
           "sequentialminus": [
            [
             0,
             "#0d0887"
            ],
            [
             0.1111111111111111,
             "#46039f"
            ],
            [
             0.2222222222222222,
             "#7201a8"
            ],
            [
             0.3333333333333333,
             "#9c179e"
            ],
            [
             0.4444444444444444,
             "#bd3786"
            ],
            [
             0.5555555555555556,
             "#d8576b"
            ],
            [
             0.6666666666666666,
             "#ed7953"
            ],
            [
             0.7777777777777778,
             "#fb9f3a"
            ],
            [
             0.8888888888888888,
             "#fdca26"
            ],
            [
             1,
             "#f0f921"
            ]
           ]
          },
          "colorway": [
           "#636efa",
           "#EF553B",
           "#00cc96",
           "#ab63fa",
           "#FFA15A",
           "#19d3f3",
           "#FF6692",
           "#B6E880",
           "#FF97FF",
           "#FECB52"
          ],
          "font": {
           "color": "#2a3f5f"
          },
          "geo": {
           "bgcolor": "white",
           "lakecolor": "white",
           "landcolor": "#E5ECF6",
           "showlakes": true,
           "showland": true,
           "subunitcolor": "white"
          },
          "hoverlabel": {
           "align": "left"
          },
          "hovermode": "closest",
          "mapbox": {
           "style": "light"
          },
          "paper_bgcolor": "white",
          "plot_bgcolor": "#E5ECF6",
          "polar": {
           "angularaxis": {
            "gridcolor": "white",
            "linecolor": "white",
            "ticks": ""
           },
           "bgcolor": "#E5ECF6",
           "radialaxis": {
            "gridcolor": "white",
            "linecolor": "white",
            "ticks": ""
           }
          },
          "scene": {
           "xaxis": {
            "backgroundcolor": "#E5ECF6",
            "gridcolor": "white",
            "gridwidth": 2,
            "linecolor": "white",
            "showbackground": true,
            "ticks": "",
            "zerolinecolor": "white"
           },
           "yaxis": {
            "backgroundcolor": "#E5ECF6",
            "gridcolor": "white",
            "gridwidth": 2,
            "linecolor": "white",
            "showbackground": true,
            "ticks": "",
            "zerolinecolor": "white"
           },
           "zaxis": {
            "backgroundcolor": "#E5ECF6",
            "gridcolor": "white",
            "gridwidth": 2,
            "linecolor": "white",
            "showbackground": true,
            "ticks": "",
            "zerolinecolor": "white"
           }
          },
          "shapedefaults": {
           "line": {
            "color": "#2a3f5f"
           }
          },
          "ternary": {
           "aaxis": {
            "gridcolor": "white",
            "linecolor": "white",
            "ticks": ""
           },
           "baxis": {
            "gridcolor": "white",
            "linecolor": "white",
            "ticks": ""
           },
           "bgcolor": "#E5ECF6",
           "caxis": {
            "gridcolor": "white",
            "linecolor": "white",
            "ticks": ""
           }
          },
          "title": {
           "x": 0.05
          },
          "xaxis": {
           "automargin": true,
           "gridcolor": "white",
           "linecolor": "white",
           "ticks": "",
           "title": {
            "standoff": 15
           },
           "zerolinecolor": "white",
           "zerolinewidth": 2
          },
          "yaxis": {
           "automargin": true,
           "gridcolor": "white",
           "linecolor": "white",
           "ticks": "",
           "title": {
            "standoff": 15
           },
           "zerolinecolor": "white",
           "zerolinewidth": 2
          }
         }
        },
        "title": {
         "text": "Total Constructor Wins",
         "x": 0.5,
         "xanchor": "center",
         "yanchor": "top"
        },
        "xaxis": {
         "anchor": "y",
         "categoryarray": [
          "Ferrari",
          "McLaren",
          "Mercedes",
          "Red Bull",
          "Williams",
          "Renault",
          "Team Lotus",
          "Benetton",
          "Lotus-Climax",
          "Cooper-Climax",
          "Brawn",
          "Brabham-Repco",
          "Tyrrell",
          "BRM",
          "Lotus-Ford",
          "Matra-Ford",
          "Brabham",
          "Cooper",
          "Ligier",
          "Vanwall",
          "March",
          "Cooper-Maserati",
          "Wolf",
          "BMW Sauber"
         ],
         "categoryorder": "array",
         "domain": [
          0,
          1
         ],
         "title": {
          "text": "Constructors"
         }
        },
        "yaxis": {
         "anchor": "x",
         "domain": [
          0,
          1
         ],
         "title": {
          "text": "Total Wins"
         }
        }
       }
      }
     },
     "metadata": {},
     "output_type": "display_data"
    }
   ],
   "source": [
    "#plotting thr data on a plotly bar plot\n",
    "g = px.bar(data_frame= constructor_performance, \n",
    "           x= 'name', \n",
    "           y= 'wins',\n",
    "           color= 'name',\n",
    "           title= 'Total Constructor Wins',\n",
    "           hover_name= 'name',\n",
    "           hover_data= {'name': True, 'wins': True})\n",
    "g.update_layout(\n",
    "    xaxis_title = 'Constructors',\n",
    "    yaxis_title = 'Total Wins',\n",
    "    showlegend = False,\n",
    "    title = {'text': \"Total Constructor Wins\", 'x': 0.5, 'xanchor':'center', 'yanchor':'top'}\n",
    ")\n",
    "g.update_traces(\n",
    "    hovertemplate= \"<b>Constructor Name: %{x}</b><br>\" +\n",
    "                    \"<b>Constructor Wins: %{y}</b><br>\"\n",
    ")\n",
    "g.show()"
   ]
  },
  {
   "cell_type": "markdown",
   "metadata": {},
   "source": [
    "#### **Constructor Championship Wins**\n",
    "***Winning a race feels great. Winning a championship is better. Winning as a constructor is the pinnacle<br> - Niki Lauda*** *(F1 champion and team executive)*\n",
    "\n",
    "- Winning the Constructor Championship is a monumental achievement for any Formula One team. It signifies not only dominance on the track but also the pinnacle of engineering and teamwork throughout an entire season.\n",
    "- Each year, at the end of the F1 season, a single team is crowned the Constructor Champion, determined by the combined points of both drivers across all races in the calendar. This honor reflects a season-long consistency and superiority in both performance and strategy.\n",
    "- **Objective:**\n",
    "    - Retrieve the list of Constructor Championship winners for every season from 1950 to 2023, calculate the total championships won by each constructor, and visualize the data using a Plotly bar plot for better interpretation."
   ]
  },
  {
   "cell_type": "code",
   "execution_count": 32,
   "metadata": {},
   "outputs": [
    {
     "data": {
      "text/html": [
       "<div>\n",
       "<style scoped>\n",
       "    .dataframe tbody tr th:only-of-type {\n",
       "        vertical-align: middle;\n",
       "    }\n",
       "\n",
       "    .dataframe tbody tr th {\n",
       "        vertical-align: top;\n",
       "    }\n",
       "\n",
       "    .dataframe thead th {\n",
       "        text-align: right;\n",
       "    }\n",
       "</style>\n",
       "<table border=\"1\" class=\"dataframe\">\n",
       "  <thead>\n",
       "    <tr style=\"text-align: right;\">\n",
       "      <th></th>\n",
       "      <th>year</th>\n",
       "      <th>name</th>\n",
       "    </tr>\n",
       "  </thead>\n",
       "  <tbody>\n",
       "    <tr>\n",
       "      <th>0</th>\n",
       "      <td>2023</td>\n",
       "      <td>Red Bull</td>\n",
       "    </tr>\n",
       "    <tr>\n",
       "      <th>1</th>\n",
       "      <td>2022</td>\n",
       "      <td>Red Bull</td>\n",
       "    </tr>\n",
       "    <tr>\n",
       "      <th>2</th>\n",
       "      <td>2021</td>\n",
       "      <td>Mercedes</td>\n",
       "    </tr>\n",
       "    <tr>\n",
       "      <th>3</th>\n",
       "      <td>2020</td>\n",
       "      <td>Mercedes</td>\n",
       "    </tr>\n",
       "    <tr>\n",
       "      <th>4</th>\n",
       "      <td>2019</td>\n",
       "      <td>Mercedes</td>\n",
       "    </tr>\n",
       "  </tbody>\n",
       "</table>\n",
       "</div>"
      ],
      "text/plain": [
       "   year      name\n",
       "0  2023  Red Bull\n",
       "1  2022  Red Bull\n",
       "2  2021  Mercedes\n",
       "3  2020  Mercedes\n",
       "4  2019  Mercedes"
      ]
     },
     "execution_count": 32,
     "metadata": {},
     "output_type": "execute_result"
    }
   ],
   "source": [
    "query= \"\"\"\n",
    "SELECT year, name \n",
    "FROM constructor_standings AS cs\n",
    "JOIN(\n",
    "SELECT year, raceId \n",
    "FROM races\n",
    "GROUP BY year\n",
    "HAVING MAX(round)\n",
    ")AS max_race\n",
    "ON max_race.raceId = cs.raceId\n",
    "JOIN constructors AS c\n",
    "ON c.constructorId = cs.constructorId\n",
    "WHERE position = 1\n",
    "ORDER BY year DESC\n",
    "\"\"\"\n",
    "res = pd.read_sql(query, engine)\n",
    "res.head()"
   ]
  },
  {
   "cell_type": "code",
   "execution_count": 33,
   "metadata": {},
   "outputs": [],
   "source": [
    "Constructor_champions = res.groupby(by= 'name').size().reset_index(name = 'Constructor Wins')"
   ]
  },
  {
   "cell_type": "code",
   "execution_count": 34,
   "metadata": {},
   "outputs": [
    {
     "data": {
      "text/html": [
       "<div>\n",
       "<style scoped>\n",
       "    .dataframe tbody tr th:only-of-type {\n",
       "        vertical-align: middle;\n",
       "    }\n",
       "\n",
       "    .dataframe tbody tr th {\n",
       "        vertical-align: top;\n",
       "    }\n",
       "\n",
       "    .dataframe thead th {\n",
       "        text-align: right;\n",
       "    }\n",
       "</style>\n",
       "<table border=\"1\" class=\"dataframe\">\n",
       "  <thead>\n",
       "    <tr style=\"text-align: right;\">\n",
       "      <th></th>\n",
       "      <th>name</th>\n",
       "      <th>Constructor Wins</th>\n",
       "    </tr>\n",
       "  </thead>\n",
       "  <tbody>\n",
       "    <tr>\n",
       "      <th>0</th>\n",
       "      <td>Ferrari</td>\n",
       "      <td>16</td>\n",
       "    </tr>\n",
       "    <tr>\n",
       "      <th>1</th>\n",
       "      <td>Williams</td>\n",
       "      <td>9</td>\n",
       "    </tr>\n",
       "    <tr>\n",
       "      <th>2</th>\n",
       "      <td>McLaren</td>\n",
       "      <td>8</td>\n",
       "    </tr>\n",
       "    <tr>\n",
       "      <th>3</th>\n",
       "      <td>Mercedes</td>\n",
       "      <td>8</td>\n",
       "    </tr>\n",
       "    <tr>\n",
       "      <th>4</th>\n",
       "      <td>Red Bull</td>\n",
       "      <td>6</td>\n",
       "    </tr>\n",
       "  </tbody>\n",
       "</table>\n",
       "</div>"
      ],
      "text/plain": [
       "       name  Constructor Wins\n",
       "0   Ferrari                16\n",
       "1  Williams                 9\n",
       "2   McLaren                 8\n",
       "3  Mercedes                 8\n",
       "4  Red Bull                 6"
      ]
     },
     "execution_count": 34,
     "metadata": {},
     "output_type": "execute_result"
    }
   ],
   "source": [
    "Constructor_champions.sort_values('Constructor Wins', ascending= False, inplace= True)\n",
    "Constructor_champions.reset_index(drop=True, inplace= True)\n",
    "Constructor_champions.head()"
   ]
  },
  {
   "cell_type": "code",
   "execution_count": 35,
   "metadata": {},
   "outputs": [
    {
     "data": {
      "application/vnd.plotly.v1+json": {
       "config": {
        "plotlyServerURL": "https://plot.ly"
       },
       "data": [
        {
         "alignmentgroup": "True",
         "hovertemplate": "<b>Constructor Name: %{x}</b><br><b>Constructor Wins: %{y}</b><br>",
         "hovertext": [
          "Ferrari"
         ],
         "legendgroup": "Ferrari",
         "marker": {
          "color": "#636efa",
          "pattern": {
           "shape": ""
          }
         },
         "name": "Ferrari",
         "offsetgroup": "Ferrari",
         "orientation": "v",
         "showlegend": true,
         "textposition": "auto",
         "type": "bar",
         "x": [
          "Ferrari"
         ],
         "xaxis": "x",
         "y": [
          16
         ],
         "yaxis": "y"
        },
        {
         "alignmentgroup": "True",
         "hovertemplate": "<b>Constructor Name: %{x}</b><br><b>Constructor Wins: %{y}</b><br>",
         "hovertext": [
          "Williams"
         ],
         "legendgroup": "Williams",
         "marker": {
          "color": "#EF553B",
          "pattern": {
           "shape": ""
          }
         },
         "name": "Williams",
         "offsetgroup": "Williams",
         "orientation": "v",
         "showlegend": true,
         "textposition": "auto",
         "type": "bar",
         "x": [
          "Williams"
         ],
         "xaxis": "x",
         "y": [
          9
         ],
         "yaxis": "y"
        },
        {
         "alignmentgroup": "True",
         "hovertemplate": "<b>Constructor Name: %{x}</b><br><b>Constructor Wins: %{y}</b><br>",
         "hovertext": [
          "McLaren"
         ],
         "legendgroup": "McLaren",
         "marker": {
          "color": "#00cc96",
          "pattern": {
           "shape": ""
          }
         },
         "name": "McLaren",
         "offsetgroup": "McLaren",
         "orientation": "v",
         "showlegend": true,
         "textposition": "auto",
         "type": "bar",
         "x": [
          "McLaren"
         ],
         "xaxis": "x",
         "y": [
          8
         ],
         "yaxis": "y"
        },
        {
         "alignmentgroup": "True",
         "hovertemplate": "<b>Constructor Name: %{x}</b><br><b>Constructor Wins: %{y}</b><br>",
         "hovertext": [
          "Mercedes"
         ],
         "legendgroup": "Mercedes",
         "marker": {
          "color": "#ab63fa",
          "pattern": {
           "shape": ""
          }
         },
         "name": "Mercedes",
         "offsetgroup": "Mercedes",
         "orientation": "v",
         "showlegend": true,
         "textposition": "auto",
         "type": "bar",
         "x": [
          "Mercedes"
         ],
         "xaxis": "x",
         "y": [
          8
         ],
         "yaxis": "y"
        },
        {
         "alignmentgroup": "True",
         "hovertemplate": "<b>Constructor Name: %{x}</b><br><b>Constructor Wins: %{y}</b><br>",
         "hovertext": [
          "Red Bull"
         ],
         "legendgroup": "Red Bull",
         "marker": {
          "color": "#FFA15A",
          "pattern": {
           "shape": ""
          }
         },
         "name": "Red Bull",
         "offsetgroup": "Red Bull",
         "orientation": "v",
         "showlegend": true,
         "textposition": "auto",
         "type": "bar",
         "x": [
          "Red Bull"
         ],
         "xaxis": "x",
         "y": [
          6
         ],
         "yaxis": "y"
        },
        {
         "alignmentgroup": "True",
         "hovertemplate": "<b>Constructor Name: %{x}</b><br><b>Constructor Wins: %{y}</b><br>",
         "hovertext": [
          "Team Lotus"
         ],
         "legendgroup": "Team Lotus",
         "marker": {
          "color": "#19d3f3",
          "pattern": {
           "shape": ""
          }
         },
         "name": "Team Lotus",
         "offsetgroup": "Team Lotus",
         "orientation": "v",
         "showlegend": true,
         "textposition": "auto",
         "type": "bar",
         "x": [
          "Team Lotus"
         ],
         "xaxis": "x",
         "y": [
          4
         ],
         "yaxis": "y"
        },
        {
         "alignmentgroup": "True",
         "hovertemplate": "<b>Constructor Name: %{x}</b><br><b>Constructor Wins: %{y}</b><br>",
         "hovertext": [
          "Cooper-Climax"
         ],
         "legendgroup": "Cooper-Climax",
         "marker": {
          "color": "#FF6692",
          "pattern": {
           "shape": ""
          }
         },
         "name": "Cooper-Climax",
         "offsetgroup": "Cooper-Climax",
         "orientation": "v",
         "showlegend": true,
         "textposition": "auto",
         "type": "bar",
         "x": [
          "Cooper-Climax"
         ],
         "xaxis": "x",
         "y": [
          2
         ],
         "yaxis": "y"
        },
        {
         "alignmentgroup": "True",
         "hovertemplate": "<b>Constructor Name: %{x}</b><br><b>Constructor Wins: %{y}</b><br>",
         "hovertext": [
          "Lotus-Climax"
         ],
         "legendgroup": "Lotus-Climax",
         "marker": {
          "color": "#B6E880",
          "pattern": {
           "shape": ""
          }
         },
         "name": "Lotus-Climax",
         "offsetgroup": "Lotus-Climax",
         "orientation": "v",
         "showlegend": true,
         "textposition": "auto",
         "type": "bar",
         "x": [
          "Lotus-Climax"
         ],
         "xaxis": "x",
         "y": [
          2
         ],
         "yaxis": "y"
        },
        {
         "alignmentgroup": "True",
         "hovertemplate": "<b>Constructor Name: %{x}</b><br><b>Constructor Wins: %{y}</b><br>",
         "hovertext": [
          "Brabham-Repco"
         ],
         "legendgroup": "Brabham-Repco",
         "marker": {
          "color": "#FF97FF",
          "pattern": {
           "shape": ""
          }
         },
         "name": "Brabham-Repco",
         "offsetgroup": "Brabham-Repco",
         "orientation": "v",
         "showlegend": true,
         "textposition": "auto",
         "type": "bar",
         "x": [
          "Brabham-Repco"
         ],
         "xaxis": "x",
         "y": [
          2
         ],
         "yaxis": "y"
        },
        {
         "alignmentgroup": "True",
         "hovertemplate": "<b>Constructor Name: %{x}</b><br><b>Constructor Wins: %{y}</b><br>",
         "hovertext": [
          "Renault"
         ],
         "legendgroup": "Renault",
         "marker": {
          "color": "#FECB52",
          "pattern": {
           "shape": ""
          }
         },
         "name": "Renault",
         "offsetgroup": "Renault",
         "orientation": "v",
         "showlegend": true,
         "textposition": "auto",
         "type": "bar",
         "x": [
          "Renault"
         ],
         "xaxis": "x",
         "y": [
          2
         ],
         "yaxis": "y"
        },
        {
         "alignmentgroup": "True",
         "hovertemplate": "<b>Constructor Name: %{x}</b><br><b>Constructor Wins: %{y}</b><br>",
         "hovertext": [
          "BRM"
         ],
         "legendgroup": "BRM",
         "marker": {
          "color": "#636efa",
          "pattern": {
           "shape": ""
          }
         },
         "name": "BRM",
         "offsetgroup": "BRM",
         "orientation": "v",
         "showlegend": true,
         "textposition": "auto",
         "type": "bar",
         "x": [
          "BRM"
         ],
         "xaxis": "x",
         "y": [
          1
         ],
         "yaxis": "y"
        },
        {
         "alignmentgroup": "True",
         "hovertemplate": "<b>Constructor Name: %{x}</b><br><b>Constructor Wins: %{y}</b><br>",
         "hovertext": [
          "Benetton"
         ],
         "legendgroup": "Benetton",
         "marker": {
          "color": "#EF553B",
          "pattern": {
           "shape": ""
          }
         },
         "name": "Benetton",
         "offsetgroup": "Benetton",
         "orientation": "v",
         "showlegend": true,
         "textposition": "auto",
         "type": "bar",
         "x": [
          "Benetton"
         ],
         "xaxis": "x",
         "y": [
          1
         ],
         "yaxis": "y"
        },
        {
         "alignmentgroup": "True",
         "hovertemplate": "<b>Constructor Name: %{x}</b><br><b>Constructor Wins: %{y}</b><br>",
         "hovertext": [
          "Brawn"
         ],
         "legendgroup": "Brawn",
         "marker": {
          "color": "#00cc96",
          "pattern": {
           "shape": ""
          }
         },
         "name": "Brawn",
         "offsetgroup": "Brawn",
         "orientation": "v",
         "showlegend": true,
         "textposition": "auto",
         "type": "bar",
         "x": [
          "Brawn"
         ],
         "xaxis": "x",
         "y": [
          1
         ],
         "yaxis": "y"
        },
        {
         "alignmentgroup": "True",
         "hovertemplate": "<b>Constructor Name: %{x}</b><br><b>Constructor Wins: %{y}</b><br>",
         "hovertext": [
          "Matra-Ford"
         ],
         "legendgroup": "Matra-Ford",
         "marker": {
          "color": "#ab63fa",
          "pattern": {
           "shape": ""
          }
         },
         "name": "Matra-Ford",
         "offsetgroup": "Matra-Ford",
         "orientation": "v",
         "showlegend": true,
         "textposition": "auto",
         "type": "bar",
         "x": [
          "Matra-Ford"
         ],
         "xaxis": "x",
         "y": [
          1
         ],
         "yaxis": "y"
        },
        {
         "alignmentgroup": "True",
         "hovertemplate": "<b>Constructor Name: %{x}</b><br><b>Constructor Wins: %{y}</b><br>",
         "hovertext": [
          "Lotus-Ford"
         ],
         "legendgroup": "Lotus-Ford",
         "marker": {
          "color": "#FFA15A",
          "pattern": {
           "shape": ""
          }
         },
         "name": "Lotus-Ford",
         "offsetgroup": "Lotus-Ford",
         "orientation": "v",
         "showlegend": true,
         "textposition": "auto",
         "type": "bar",
         "x": [
          "Lotus-Ford"
         ],
         "xaxis": "x",
         "y": [
          1
         ],
         "yaxis": "y"
        },
        {
         "alignmentgroup": "True",
         "hovertemplate": "<b>Constructor Name: %{x}</b><br><b>Constructor Wins: %{y}</b><br>",
         "hovertext": [
          "Tyrrell"
         ],
         "legendgroup": "Tyrrell",
         "marker": {
          "color": "#19d3f3",
          "pattern": {
           "shape": ""
          }
         },
         "name": "Tyrrell",
         "offsetgroup": "Tyrrell",
         "orientation": "v",
         "showlegend": true,
         "textposition": "auto",
         "type": "bar",
         "x": [
          "Tyrrell"
         ],
         "xaxis": "x",
         "y": [
          1
         ],
         "yaxis": "y"
        },
        {
         "alignmentgroup": "True",
         "hovertemplate": "<b>Constructor Name: %{x}</b><br><b>Constructor Wins: %{y}</b><br>",
         "hovertext": [
          "Vanwall"
         ],
         "legendgroup": "Vanwall",
         "marker": {
          "color": "#FF6692",
          "pattern": {
           "shape": ""
          }
         },
         "name": "Vanwall",
         "offsetgroup": "Vanwall",
         "orientation": "v",
         "showlegend": true,
         "textposition": "auto",
         "type": "bar",
         "x": [
          "Vanwall"
         ],
         "xaxis": "x",
         "y": [
          1
         ],
         "yaxis": "y"
        }
       ],
       "layout": {
        "barmode": "relative",
        "legend": {
         "title": {
          "text": "name"
         },
         "tracegroupgap": 0
        },
        "showlegend": false,
        "template": {
         "data": {
          "bar": [
           {
            "error_x": {
             "color": "#2a3f5f"
            },
            "error_y": {
             "color": "#2a3f5f"
            },
            "marker": {
             "line": {
              "color": "#E5ECF6",
              "width": 0.5
             },
             "pattern": {
              "fillmode": "overlay",
              "size": 10,
              "solidity": 0.2
             }
            },
            "type": "bar"
           }
          ],
          "barpolar": [
           {
            "marker": {
             "line": {
              "color": "#E5ECF6",
              "width": 0.5
             },
             "pattern": {
              "fillmode": "overlay",
              "size": 10,
              "solidity": 0.2
             }
            },
            "type": "barpolar"
           }
          ],
          "carpet": [
           {
            "aaxis": {
             "endlinecolor": "#2a3f5f",
             "gridcolor": "white",
             "linecolor": "white",
             "minorgridcolor": "white",
             "startlinecolor": "#2a3f5f"
            },
            "baxis": {
             "endlinecolor": "#2a3f5f",
             "gridcolor": "white",
             "linecolor": "white",
             "minorgridcolor": "white",
             "startlinecolor": "#2a3f5f"
            },
            "type": "carpet"
           }
          ],
          "choropleth": [
           {
            "colorbar": {
             "outlinewidth": 0,
             "ticks": ""
            },
            "type": "choropleth"
           }
          ],
          "contour": [
           {
            "colorbar": {
             "outlinewidth": 0,
             "ticks": ""
            },
            "colorscale": [
             [
              0,
              "#0d0887"
             ],
             [
              0.1111111111111111,
              "#46039f"
             ],
             [
              0.2222222222222222,
              "#7201a8"
             ],
             [
              0.3333333333333333,
              "#9c179e"
             ],
             [
              0.4444444444444444,
              "#bd3786"
             ],
             [
              0.5555555555555556,
              "#d8576b"
             ],
             [
              0.6666666666666666,
              "#ed7953"
             ],
             [
              0.7777777777777778,
              "#fb9f3a"
             ],
             [
              0.8888888888888888,
              "#fdca26"
             ],
             [
              1,
              "#f0f921"
             ]
            ],
            "type": "contour"
           }
          ],
          "contourcarpet": [
           {
            "colorbar": {
             "outlinewidth": 0,
             "ticks": ""
            },
            "type": "contourcarpet"
           }
          ],
          "heatmap": [
           {
            "colorbar": {
             "outlinewidth": 0,
             "ticks": ""
            },
            "colorscale": [
             [
              0,
              "#0d0887"
             ],
             [
              0.1111111111111111,
              "#46039f"
             ],
             [
              0.2222222222222222,
              "#7201a8"
             ],
             [
              0.3333333333333333,
              "#9c179e"
             ],
             [
              0.4444444444444444,
              "#bd3786"
             ],
             [
              0.5555555555555556,
              "#d8576b"
             ],
             [
              0.6666666666666666,
              "#ed7953"
             ],
             [
              0.7777777777777778,
              "#fb9f3a"
             ],
             [
              0.8888888888888888,
              "#fdca26"
             ],
             [
              1,
              "#f0f921"
             ]
            ],
            "type": "heatmap"
           }
          ],
          "heatmapgl": [
           {
            "colorbar": {
             "outlinewidth": 0,
             "ticks": ""
            },
            "colorscale": [
             [
              0,
              "#0d0887"
             ],
             [
              0.1111111111111111,
              "#46039f"
             ],
             [
              0.2222222222222222,
              "#7201a8"
             ],
             [
              0.3333333333333333,
              "#9c179e"
             ],
             [
              0.4444444444444444,
              "#bd3786"
             ],
             [
              0.5555555555555556,
              "#d8576b"
             ],
             [
              0.6666666666666666,
              "#ed7953"
             ],
             [
              0.7777777777777778,
              "#fb9f3a"
             ],
             [
              0.8888888888888888,
              "#fdca26"
             ],
             [
              1,
              "#f0f921"
             ]
            ],
            "type": "heatmapgl"
           }
          ],
          "histogram": [
           {
            "marker": {
             "pattern": {
              "fillmode": "overlay",
              "size": 10,
              "solidity": 0.2
             }
            },
            "type": "histogram"
           }
          ],
          "histogram2d": [
           {
            "colorbar": {
             "outlinewidth": 0,
             "ticks": ""
            },
            "colorscale": [
             [
              0,
              "#0d0887"
             ],
             [
              0.1111111111111111,
              "#46039f"
             ],
             [
              0.2222222222222222,
              "#7201a8"
             ],
             [
              0.3333333333333333,
              "#9c179e"
             ],
             [
              0.4444444444444444,
              "#bd3786"
             ],
             [
              0.5555555555555556,
              "#d8576b"
             ],
             [
              0.6666666666666666,
              "#ed7953"
             ],
             [
              0.7777777777777778,
              "#fb9f3a"
             ],
             [
              0.8888888888888888,
              "#fdca26"
             ],
             [
              1,
              "#f0f921"
             ]
            ],
            "type": "histogram2d"
           }
          ],
          "histogram2dcontour": [
           {
            "colorbar": {
             "outlinewidth": 0,
             "ticks": ""
            },
            "colorscale": [
             [
              0,
              "#0d0887"
             ],
             [
              0.1111111111111111,
              "#46039f"
             ],
             [
              0.2222222222222222,
              "#7201a8"
             ],
             [
              0.3333333333333333,
              "#9c179e"
             ],
             [
              0.4444444444444444,
              "#bd3786"
             ],
             [
              0.5555555555555556,
              "#d8576b"
             ],
             [
              0.6666666666666666,
              "#ed7953"
             ],
             [
              0.7777777777777778,
              "#fb9f3a"
             ],
             [
              0.8888888888888888,
              "#fdca26"
             ],
             [
              1,
              "#f0f921"
             ]
            ],
            "type": "histogram2dcontour"
           }
          ],
          "mesh3d": [
           {
            "colorbar": {
             "outlinewidth": 0,
             "ticks": ""
            },
            "type": "mesh3d"
           }
          ],
          "parcoords": [
           {
            "line": {
             "colorbar": {
              "outlinewidth": 0,
              "ticks": ""
             }
            },
            "type": "parcoords"
           }
          ],
          "pie": [
           {
            "automargin": true,
            "type": "pie"
           }
          ],
          "scatter": [
           {
            "fillpattern": {
             "fillmode": "overlay",
             "size": 10,
             "solidity": 0.2
            },
            "type": "scatter"
           }
          ],
          "scatter3d": [
           {
            "line": {
             "colorbar": {
              "outlinewidth": 0,
              "ticks": ""
             }
            },
            "marker": {
             "colorbar": {
              "outlinewidth": 0,
              "ticks": ""
             }
            },
            "type": "scatter3d"
           }
          ],
          "scattercarpet": [
           {
            "marker": {
             "colorbar": {
              "outlinewidth": 0,
              "ticks": ""
             }
            },
            "type": "scattercarpet"
           }
          ],
          "scattergeo": [
           {
            "marker": {
             "colorbar": {
              "outlinewidth": 0,
              "ticks": ""
             }
            },
            "type": "scattergeo"
           }
          ],
          "scattergl": [
           {
            "marker": {
             "colorbar": {
              "outlinewidth": 0,
              "ticks": ""
             }
            },
            "type": "scattergl"
           }
          ],
          "scattermapbox": [
           {
            "marker": {
             "colorbar": {
              "outlinewidth": 0,
              "ticks": ""
             }
            },
            "type": "scattermapbox"
           }
          ],
          "scatterpolar": [
           {
            "marker": {
             "colorbar": {
              "outlinewidth": 0,
              "ticks": ""
             }
            },
            "type": "scatterpolar"
           }
          ],
          "scatterpolargl": [
           {
            "marker": {
             "colorbar": {
              "outlinewidth": 0,
              "ticks": ""
             }
            },
            "type": "scatterpolargl"
           }
          ],
          "scatterternary": [
           {
            "marker": {
             "colorbar": {
              "outlinewidth": 0,
              "ticks": ""
             }
            },
            "type": "scatterternary"
           }
          ],
          "surface": [
           {
            "colorbar": {
             "outlinewidth": 0,
             "ticks": ""
            },
            "colorscale": [
             [
              0,
              "#0d0887"
             ],
             [
              0.1111111111111111,
              "#46039f"
             ],
             [
              0.2222222222222222,
              "#7201a8"
             ],
             [
              0.3333333333333333,
              "#9c179e"
             ],
             [
              0.4444444444444444,
              "#bd3786"
             ],
             [
              0.5555555555555556,
              "#d8576b"
             ],
             [
              0.6666666666666666,
              "#ed7953"
             ],
             [
              0.7777777777777778,
              "#fb9f3a"
             ],
             [
              0.8888888888888888,
              "#fdca26"
             ],
             [
              1,
              "#f0f921"
             ]
            ],
            "type": "surface"
           }
          ],
          "table": [
           {
            "cells": {
             "fill": {
              "color": "#EBF0F8"
             },
             "line": {
              "color": "white"
             }
            },
            "header": {
             "fill": {
              "color": "#C8D4E3"
             },
             "line": {
              "color": "white"
             }
            },
            "type": "table"
           }
          ]
         },
         "layout": {
          "annotationdefaults": {
           "arrowcolor": "#2a3f5f",
           "arrowhead": 0,
           "arrowwidth": 1
          },
          "autotypenumbers": "strict",
          "coloraxis": {
           "colorbar": {
            "outlinewidth": 0,
            "ticks": ""
           }
          },
          "colorscale": {
           "diverging": [
            [
             0,
             "#8e0152"
            ],
            [
             0.1,
             "#c51b7d"
            ],
            [
             0.2,
             "#de77ae"
            ],
            [
             0.3,
             "#f1b6da"
            ],
            [
             0.4,
             "#fde0ef"
            ],
            [
             0.5,
             "#f7f7f7"
            ],
            [
             0.6,
             "#e6f5d0"
            ],
            [
             0.7,
             "#b8e186"
            ],
            [
             0.8,
             "#7fbc41"
            ],
            [
             0.9,
             "#4d9221"
            ],
            [
             1,
             "#276419"
            ]
           ],
           "sequential": [
            [
             0,
             "#0d0887"
            ],
            [
             0.1111111111111111,
             "#46039f"
            ],
            [
             0.2222222222222222,
             "#7201a8"
            ],
            [
             0.3333333333333333,
             "#9c179e"
            ],
            [
             0.4444444444444444,
             "#bd3786"
            ],
            [
             0.5555555555555556,
             "#d8576b"
            ],
            [
             0.6666666666666666,
             "#ed7953"
            ],
            [
             0.7777777777777778,
             "#fb9f3a"
            ],
            [
             0.8888888888888888,
             "#fdca26"
            ],
            [
             1,
             "#f0f921"
            ]
           ],
           "sequentialminus": [
            [
             0,
             "#0d0887"
            ],
            [
             0.1111111111111111,
             "#46039f"
            ],
            [
             0.2222222222222222,
             "#7201a8"
            ],
            [
             0.3333333333333333,
             "#9c179e"
            ],
            [
             0.4444444444444444,
             "#bd3786"
            ],
            [
             0.5555555555555556,
             "#d8576b"
            ],
            [
             0.6666666666666666,
             "#ed7953"
            ],
            [
             0.7777777777777778,
             "#fb9f3a"
            ],
            [
             0.8888888888888888,
             "#fdca26"
            ],
            [
             1,
             "#f0f921"
            ]
           ]
          },
          "colorway": [
           "#636efa",
           "#EF553B",
           "#00cc96",
           "#ab63fa",
           "#FFA15A",
           "#19d3f3",
           "#FF6692",
           "#B6E880",
           "#FF97FF",
           "#FECB52"
          ],
          "font": {
           "color": "#2a3f5f"
          },
          "geo": {
           "bgcolor": "white",
           "lakecolor": "white",
           "landcolor": "#E5ECF6",
           "showlakes": true,
           "showland": true,
           "subunitcolor": "white"
          },
          "hoverlabel": {
           "align": "left"
          },
          "hovermode": "closest",
          "mapbox": {
           "style": "light"
          },
          "paper_bgcolor": "white",
          "plot_bgcolor": "#E5ECF6",
          "polar": {
           "angularaxis": {
            "gridcolor": "white",
            "linecolor": "white",
            "ticks": ""
           },
           "bgcolor": "#E5ECF6",
           "radialaxis": {
            "gridcolor": "white",
            "linecolor": "white",
            "ticks": ""
           }
          },
          "scene": {
           "xaxis": {
            "backgroundcolor": "#E5ECF6",
            "gridcolor": "white",
            "gridwidth": 2,
            "linecolor": "white",
            "showbackground": true,
            "ticks": "",
            "zerolinecolor": "white"
           },
           "yaxis": {
            "backgroundcolor": "#E5ECF6",
            "gridcolor": "white",
            "gridwidth": 2,
            "linecolor": "white",
            "showbackground": true,
            "ticks": "",
            "zerolinecolor": "white"
           },
           "zaxis": {
            "backgroundcolor": "#E5ECF6",
            "gridcolor": "white",
            "gridwidth": 2,
            "linecolor": "white",
            "showbackground": true,
            "ticks": "",
            "zerolinecolor": "white"
           }
          },
          "shapedefaults": {
           "line": {
            "color": "#2a3f5f"
           }
          },
          "ternary": {
           "aaxis": {
            "gridcolor": "white",
            "linecolor": "white",
            "ticks": ""
           },
           "baxis": {
            "gridcolor": "white",
            "linecolor": "white",
            "ticks": ""
           },
           "bgcolor": "#E5ECF6",
           "caxis": {
            "gridcolor": "white",
            "linecolor": "white",
            "ticks": ""
           }
          },
          "title": {
           "x": 0.05
          },
          "xaxis": {
           "automargin": true,
           "gridcolor": "white",
           "linecolor": "white",
           "ticks": "",
           "title": {
            "standoff": 15
           },
           "zerolinecolor": "white",
           "zerolinewidth": 2
          },
          "yaxis": {
           "automargin": true,
           "gridcolor": "white",
           "linecolor": "white",
           "ticks": "",
           "title": {
            "standoff": 15
           },
           "zerolinecolor": "white",
           "zerolinewidth": 2
          }
         }
        },
        "title": {
         "text": "Constructor Champions",
         "x": 0.5,
         "xanchor": "center",
         "yanchor": "top"
        },
        "xaxis": {
         "anchor": "y",
         "categoryarray": [
          "Ferrari",
          "Williams",
          "McLaren",
          "Mercedes",
          "Red Bull",
          "Team Lotus",
          "Cooper-Climax",
          "Lotus-Climax",
          "Brabham-Repco",
          "Renault",
          "BRM",
          "Benetton",
          "Brawn",
          "Matra-Ford",
          "Lotus-Ford",
          "Tyrrell",
          "Vanwall"
         ],
         "categoryorder": "array",
         "domain": [
          0,
          1
         ],
         "title": {
          "text": "Constructors"
         }
        },
        "yaxis": {
         "anchor": "x",
         "domain": [
          0,
          1
         ],
         "title": {
          "text": "Total Constructor Wins"
         }
        }
       }
      }
     },
     "metadata": {},
     "output_type": "display_data"
    }
   ],
   "source": [
    "fig = px.bar(data_frame=Constructor_champions, \n",
    "                   x='name', \n",
    "                   y='Constructor Wins', \n",
    "                   title='Constructor Champions', \n",
    "                   color='name', \n",
    "                   hover_name='name', \n",
    "                   hover_data={'name': True, 'Constructor Wins': True})  # Proper hover data\n",
    "\n",
    "# Update layout for axis titles and remove legend\n",
    "fig.update_layout(\n",
    "    xaxis_title='Constructors', \n",
    "    yaxis_title='Total Constructor Wins', \n",
    "    showlegend=False,\n",
    "    title={'text': 'Constructor Champions', 'x': 0.5, 'yanchor': 'top', 'xanchor': 'center'}\n",
    ")\n",
    "\n",
    "# Update hover template to customize hover text\n",
    "fig.update_traces(\n",
    "    hovertemplate= \n",
    "                  \"<b>Constructor Name: %{x}</b><br>\" +  # Display the constructor name\n",
    "                  \"<b>Constructor Wins: %{y}</b><br>\"  # Display the 'Constructor Wins'\n",
    ")\n",
    "fig.show()"
   ]
  },
  {
   "cell_type": "markdown",
   "metadata": {},
   "source": [
    "#### **Fastest Laps by Drivers Who Completed the Race**\n",
    "- **Objective:** Analyze and visualize the number of fastest laps achieved by drivers who successfully completed the race (statusId = 1) using a bar plot.\n"
   ]
  },
  {
   "cell_type": "code",
   "execution_count": 36,
   "metadata": {},
   "outputs": [],
   "source": [
    "query = \"\"\"\n",
    " WITH fastest_lap AS (\n",
    "        SELECT results.raceId, \n",
    "               drivers.driverId,\n",
    "               drivers.Name,\n",
    "               status.statusId,\n",
    "               ROW_NUMBER() OVER (PARTITION BY raceId ORDER BY fastestLap_time_ms ASC) as rn\n",
    "        FROM results\n",
    "        JOIN drivers ON drivers.driverId = results.driverId\n",
    "        JOIN status ON status.statusId = results.statusId\n",
    "        WHERE results.statusId =1 \n",
    "    ),\n",
    "    fastest_driver_race AS (\n",
    "        SELECT raceId,\n",
    "               driverId,\n",
    "               Name,\n",
    "               rn\n",
    "        FROM fastest_lap\n",
    "        WHERE rn = 1\n",
    "    )\n",
    "    SELECT driverId,\n",
    "           Name,\n",
    "           COUNT(driverId) AS Number_of_fastestLap\n",
    "    FROM fastest_driver_race\n",
    "    GROUP BY driverId, Name\n",
    "    ORDER BY Number_of_fastestLap DESC\n",
    "\"\"\"\n",
    "Fastest_lap = pd.read_sql(query, engine)"
   ]
  },
  {
   "cell_type": "code",
   "execution_count": 37,
   "metadata": {},
   "outputs": [
    {
     "data": {
      "text/html": [
       "<div>\n",
       "<style scoped>\n",
       "    .dataframe tbody tr th:only-of-type {\n",
       "        vertical-align: middle;\n",
       "    }\n",
       "\n",
       "    .dataframe tbody tr th {\n",
       "        vertical-align: top;\n",
       "    }\n",
       "\n",
       "    .dataframe thead th {\n",
       "        text-align: right;\n",
       "    }\n",
       "</style>\n",
       "<table border=\"1\" class=\"dataframe\">\n",
       "  <thead>\n",
       "    <tr style=\"text-align: right;\">\n",
       "      <th></th>\n",
       "      <th>driverId</th>\n",
       "      <th>Name</th>\n",
       "      <th>Number_of_fastestLap</th>\n",
       "    </tr>\n",
       "  </thead>\n",
       "  <tbody>\n",
       "    <tr>\n",
       "      <th>0</th>\n",
       "      <td>1</td>\n",
       "      <td>Lewis Hamilton</td>\n",
       "      <td>70</td>\n",
       "    </tr>\n",
       "    <tr>\n",
       "      <th>1</th>\n",
       "      <td>14</td>\n",
       "      <td>David Coulthard</td>\n",
       "      <td>70</td>\n",
       "    </tr>\n",
       "    <tr>\n",
       "      <th>2</th>\n",
       "      <td>30</td>\n",
       "      <td>Michael Schumacher</td>\n",
       "      <td>65</td>\n",
       "    </tr>\n",
       "    <tr>\n",
       "      <th>3</th>\n",
       "      <td>8</td>\n",
       "      <td>Kimi Räikkönen</td>\n",
       "      <td>49</td>\n",
       "    </tr>\n",
       "    <tr>\n",
       "      <th>4</th>\n",
       "      <td>20</td>\n",
       "      <td>Sebastian Vettel</td>\n",
       "      <td>39</td>\n",
       "    </tr>\n",
       "    <tr>\n",
       "      <th>5</th>\n",
       "      <td>95</td>\n",
       "      <td>Nigel Mansell</td>\n",
       "      <td>37</td>\n",
       "    </tr>\n",
       "    <tr>\n",
       "      <th>6</th>\n",
       "      <td>830</td>\n",
       "      <td>Max Verstappen</td>\n",
       "      <td>36</td>\n",
       "    </tr>\n",
       "    <tr>\n",
       "      <th>7</th>\n",
       "      <td>4</td>\n",
       "      <td>Fernando Alonso</td>\n",
       "      <td>34</td>\n",
       "    </tr>\n",
       "    <tr>\n",
       "      <th>8</th>\n",
       "      <td>289</td>\n",
       "      <td>Graham Hill</td>\n",
       "      <td>34</td>\n",
       "    </tr>\n",
       "    <tr>\n",
       "      <th>9</th>\n",
       "      <td>182</td>\n",
       "      <td>Niki Lauda</td>\n",
       "      <td>33</td>\n",
       "    </tr>\n",
       "  </tbody>\n",
       "</table>\n",
       "</div>"
      ],
      "text/plain": [
       "   driverId                Name  Number_of_fastestLap\n",
       "0         1      Lewis Hamilton                    70\n",
       "1        14     David Coulthard                    70\n",
       "2        30  Michael Schumacher                    65\n",
       "3         8      Kimi Räikkönen                    49\n",
       "4        20    Sebastian Vettel                    39\n",
       "5        95       Nigel Mansell                    37\n",
       "6       830      Max Verstappen                    36\n",
       "7         4     Fernando Alonso                    34\n",
       "8       289         Graham Hill                    34\n",
       "9       182          Niki Lauda                    33"
      ]
     },
     "execution_count": 37,
     "metadata": {},
     "output_type": "execute_result"
    }
   ],
   "source": [
    "Fastest_lap.head(10)"
   ]
  },
  {
   "cell_type": "code",
   "execution_count": 38,
   "metadata": {},
   "outputs": [
    {
     "data": {
      "application/vnd.plotly.v1+json": {
       "config": {
        "plotlyServerURL": "https://plot.ly"
       },
       "data": [
        {
         "alignmentgroup": "True",
         "hovertemplate": "<b>Name: %{x}</b><br><b>Fastest Laps: %{y}</b><br>",
         "hovertext": [
          "Lewis Hamilton"
         ],
         "legendgroup": "Lewis Hamilton",
         "marker": {
          "color": "#636efa",
          "pattern": {
           "shape": ""
          }
         },
         "name": "Lewis Hamilton",
         "offsetgroup": "Lewis Hamilton",
         "orientation": "v",
         "showlegend": true,
         "textposition": "auto",
         "type": "bar",
         "x": [
          "Lewis Hamilton"
         ],
         "xaxis": "x",
         "y": [
          70
         ],
         "yaxis": "y"
        },
        {
         "alignmentgroup": "True",
         "hovertemplate": "<b>Name: %{x}</b><br><b>Fastest Laps: %{y}</b><br>",
         "hovertext": [
          "David Coulthard"
         ],
         "legendgroup": "David Coulthard",
         "marker": {
          "color": "#EF553B",
          "pattern": {
           "shape": ""
          }
         },
         "name": "David Coulthard",
         "offsetgroup": "David Coulthard",
         "orientation": "v",
         "showlegend": true,
         "textposition": "auto",
         "type": "bar",
         "x": [
          "David Coulthard"
         ],
         "xaxis": "x",
         "y": [
          70
         ],
         "yaxis": "y"
        },
        {
         "alignmentgroup": "True",
         "hovertemplate": "<b>Name: %{x}</b><br><b>Fastest Laps: %{y}</b><br>",
         "hovertext": [
          "Michael Schumacher"
         ],
         "legendgroup": "Michael Schumacher",
         "marker": {
          "color": "#00cc96",
          "pattern": {
           "shape": ""
          }
         },
         "name": "Michael Schumacher",
         "offsetgroup": "Michael Schumacher",
         "orientation": "v",
         "showlegend": true,
         "textposition": "auto",
         "type": "bar",
         "x": [
          "Michael Schumacher"
         ],
         "xaxis": "x",
         "y": [
          65
         ],
         "yaxis": "y"
        },
        {
         "alignmentgroup": "True",
         "hovertemplate": "<b>Name: %{x}</b><br><b>Fastest Laps: %{y}</b><br>",
         "hovertext": [
          "Kimi Räikkönen"
         ],
         "legendgroup": "Kimi Räikkönen",
         "marker": {
          "color": "#ab63fa",
          "pattern": {
           "shape": ""
          }
         },
         "name": "Kimi Räikkönen",
         "offsetgroup": "Kimi Räikkönen",
         "orientation": "v",
         "showlegend": true,
         "textposition": "auto",
         "type": "bar",
         "x": [
          "Kimi Räikkönen"
         ],
         "xaxis": "x",
         "y": [
          49
         ],
         "yaxis": "y"
        },
        {
         "alignmentgroup": "True",
         "hovertemplate": "<b>Name: %{x}</b><br><b>Fastest Laps: %{y}</b><br>",
         "hovertext": [
          "Sebastian Vettel"
         ],
         "legendgroup": "Sebastian Vettel",
         "marker": {
          "color": "#FFA15A",
          "pattern": {
           "shape": ""
          }
         },
         "name": "Sebastian Vettel",
         "offsetgroup": "Sebastian Vettel",
         "orientation": "v",
         "showlegend": true,
         "textposition": "auto",
         "type": "bar",
         "x": [
          "Sebastian Vettel"
         ],
         "xaxis": "x",
         "y": [
          39
         ],
         "yaxis": "y"
        },
        {
         "alignmentgroup": "True",
         "hovertemplate": "<b>Name: %{x}</b><br><b>Fastest Laps: %{y}</b><br>",
         "hovertext": [
          "Nigel Mansell"
         ],
         "legendgroup": "Nigel Mansell",
         "marker": {
          "color": "#19d3f3",
          "pattern": {
           "shape": ""
          }
         },
         "name": "Nigel Mansell",
         "offsetgroup": "Nigel Mansell",
         "orientation": "v",
         "showlegend": true,
         "textposition": "auto",
         "type": "bar",
         "x": [
          "Nigel Mansell"
         ],
         "xaxis": "x",
         "y": [
          37
         ],
         "yaxis": "y"
        },
        {
         "alignmentgroup": "True",
         "hovertemplate": "<b>Name: %{x}</b><br><b>Fastest Laps: %{y}</b><br>",
         "hovertext": [
          "Max Verstappen"
         ],
         "legendgroup": "Max Verstappen",
         "marker": {
          "color": "#FF6692",
          "pattern": {
           "shape": ""
          }
         },
         "name": "Max Verstappen",
         "offsetgroup": "Max Verstappen",
         "orientation": "v",
         "showlegend": true,
         "textposition": "auto",
         "type": "bar",
         "x": [
          "Max Verstappen"
         ],
         "xaxis": "x",
         "y": [
          36
         ],
         "yaxis": "y"
        },
        {
         "alignmentgroup": "True",
         "hovertemplate": "<b>Name: %{x}</b><br><b>Fastest Laps: %{y}</b><br>",
         "hovertext": [
          "Fernando Alonso"
         ],
         "legendgroup": "Fernando Alonso",
         "marker": {
          "color": "#B6E880",
          "pattern": {
           "shape": ""
          }
         },
         "name": "Fernando Alonso",
         "offsetgroup": "Fernando Alonso",
         "orientation": "v",
         "showlegend": true,
         "textposition": "auto",
         "type": "bar",
         "x": [
          "Fernando Alonso"
         ],
         "xaxis": "x",
         "y": [
          34
         ],
         "yaxis": "y"
        },
        {
         "alignmentgroup": "True",
         "hovertemplate": "<b>Name: %{x}</b><br><b>Fastest Laps: %{y}</b><br>",
         "hovertext": [
          "Graham Hill"
         ],
         "legendgroup": "Graham Hill",
         "marker": {
          "color": "#FF97FF",
          "pattern": {
           "shape": ""
          }
         },
         "name": "Graham Hill",
         "offsetgroup": "Graham Hill",
         "orientation": "v",
         "showlegend": true,
         "textposition": "auto",
         "type": "bar",
         "x": [
          "Graham Hill"
         ],
         "xaxis": "x",
         "y": [
          34
         ],
         "yaxis": "y"
        },
        {
         "alignmentgroup": "True",
         "hovertemplate": "<b>Name: %{x}</b><br><b>Fastest Laps: %{y}</b><br>",
         "hovertext": [
          "Niki Lauda"
         ],
         "legendgroup": "Niki Lauda",
         "marker": {
          "color": "#FECB52",
          "pattern": {
           "shape": ""
          }
         },
         "name": "Niki Lauda",
         "offsetgroup": "Niki Lauda",
         "orientation": "v",
         "showlegend": true,
         "textposition": "auto",
         "type": "bar",
         "x": [
          "Niki Lauda"
         ],
         "xaxis": "x",
         "y": [
          33
         ],
         "yaxis": "y"
        }
       ],
       "layout": {
        "barmode": "relative",
        "legend": {
         "title": {
          "text": "Name"
         },
         "tracegroupgap": 0
        },
        "margin": {
         "t": 60
        },
        "showlegend": false,
        "template": {
         "data": {
          "bar": [
           {
            "error_x": {
             "color": "#2a3f5f"
            },
            "error_y": {
             "color": "#2a3f5f"
            },
            "marker": {
             "line": {
              "color": "#E5ECF6",
              "width": 0.5
             },
             "pattern": {
              "fillmode": "overlay",
              "size": 10,
              "solidity": 0.2
             }
            },
            "type": "bar"
           }
          ],
          "barpolar": [
           {
            "marker": {
             "line": {
              "color": "#E5ECF6",
              "width": 0.5
             },
             "pattern": {
              "fillmode": "overlay",
              "size": 10,
              "solidity": 0.2
             }
            },
            "type": "barpolar"
           }
          ],
          "carpet": [
           {
            "aaxis": {
             "endlinecolor": "#2a3f5f",
             "gridcolor": "white",
             "linecolor": "white",
             "minorgridcolor": "white",
             "startlinecolor": "#2a3f5f"
            },
            "baxis": {
             "endlinecolor": "#2a3f5f",
             "gridcolor": "white",
             "linecolor": "white",
             "minorgridcolor": "white",
             "startlinecolor": "#2a3f5f"
            },
            "type": "carpet"
           }
          ],
          "choropleth": [
           {
            "colorbar": {
             "outlinewidth": 0,
             "ticks": ""
            },
            "type": "choropleth"
           }
          ],
          "contour": [
           {
            "colorbar": {
             "outlinewidth": 0,
             "ticks": ""
            },
            "colorscale": [
             [
              0,
              "#0d0887"
             ],
             [
              0.1111111111111111,
              "#46039f"
             ],
             [
              0.2222222222222222,
              "#7201a8"
             ],
             [
              0.3333333333333333,
              "#9c179e"
             ],
             [
              0.4444444444444444,
              "#bd3786"
             ],
             [
              0.5555555555555556,
              "#d8576b"
             ],
             [
              0.6666666666666666,
              "#ed7953"
             ],
             [
              0.7777777777777778,
              "#fb9f3a"
             ],
             [
              0.8888888888888888,
              "#fdca26"
             ],
             [
              1,
              "#f0f921"
             ]
            ],
            "type": "contour"
           }
          ],
          "contourcarpet": [
           {
            "colorbar": {
             "outlinewidth": 0,
             "ticks": ""
            },
            "type": "contourcarpet"
           }
          ],
          "heatmap": [
           {
            "colorbar": {
             "outlinewidth": 0,
             "ticks": ""
            },
            "colorscale": [
             [
              0,
              "#0d0887"
             ],
             [
              0.1111111111111111,
              "#46039f"
             ],
             [
              0.2222222222222222,
              "#7201a8"
             ],
             [
              0.3333333333333333,
              "#9c179e"
             ],
             [
              0.4444444444444444,
              "#bd3786"
             ],
             [
              0.5555555555555556,
              "#d8576b"
             ],
             [
              0.6666666666666666,
              "#ed7953"
             ],
             [
              0.7777777777777778,
              "#fb9f3a"
             ],
             [
              0.8888888888888888,
              "#fdca26"
             ],
             [
              1,
              "#f0f921"
             ]
            ],
            "type": "heatmap"
           }
          ],
          "heatmapgl": [
           {
            "colorbar": {
             "outlinewidth": 0,
             "ticks": ""
            },
            "colorscale": [
             [
              0,
              "#0d0887"
             ],
             [
              0.1111111111111111,
              "#46039f"
             ],
             [
              0.2222222222222222,
              "#7201a8"
             ],
             [
              0.3333333333333333,
              "#9c179e"
             ],
             [
              0.4444444444444444,
              "#bd3786"
             ],
             [
              0.5555555555555556,
              "#d8576b"
             ],
             [
              0.6666666666666666,
              "#ed7953"
             ],
             [
              0.7777777777777778,
              "#fb9f3a"
             ],
             [
              0.8888888888888888,
              "#fdca26"
             ],
             [
              1,
              "#f0f921"
             ]
            ],
            "type": "heatmapgl"
           }
          ],
          "histogram": [
           {
            "marker": {
             "pattern": {
              "fillmode": "overlay",
              "size": 10,
              "solidity": 0.2
             }
            },
            "type": "histogram"
           }
          ],
          "histogram2d": [
           {
            "colorbar": {
             "outlinewidth": 0,
             "ticks": ""
            },
            "colorscale": [
             [
              0,
              "#0d0887"
             ],
             [
              0.1111111111111111,
              "#46039f"
             ],
             [
              0.2222222222222222,
              "#7201a8"
             ],
             [
              0.3333333333333333,
              "#9c179e"
             ],
             [
              0.4444444444444444,
              "#bd3786"
             ],
             [
              0.5555555555555556,
              "#d8576b"
             ],
             [
              0.6666666666666666,
              "#ed7953"
             ],
             [
              0.7777777777777778,
              "#fb9f3a"
             ],
             [
              0.8888888888888888,
              "#fdca26"
             ],
             [
              1,
              "#f0f921"
             ]
            ],
            "type": "histogram2d"
           }
          ],
          "histogram2dcontour": [
           {
            "colorbar": {
             "outlinewidth": 0,
             "ticks": ""
            },
            "colorscale": [
             [
              0,
              "#0d0887"
             ],
             [
              0.1111111111111111,
              "#46039f"
             ],
             [
              0.2222222222222222,
              "#7201a8"
             ],
             [
              0.3333333333333333,
              "#9c179e"
             ],
             [
              0.4444444444444444,
              "#bd3786"
             ],
             [
              0.5555555555555556,
              "#d8576b"
             ],
             [
              0.6666666666666666,
              "#ed7953"
             ],
             [
              0.7777777777777778,
              "#fb9f3a"
             ],
             [
              0.8888888888888888,
              "#fdca26"
             ],
             [
              1,
              "#f0f921"
             ]
            ],
            "type": "histogram2dcontour"
           }
          ],
          "mesh3d": [
           {
            "colorbar": {
             "outlinewidth": 0,
             "ticks": ""
            },
            "type": "mesh3d"
           }
          ],
          "parcoords": [
           {
            "line": {
             "colorbar": {
              "outlinewidth": 0,
              "ticks": ""
             }
            },
            "type": "parcoords"
           }
          ],
          "pie": [
           {
            "automargin": true,
            "type": "pie"
           }
          ],
          "scatter": [
           {
            "fillpattern": {
             "fillmode": "overlay",
             "size": 10,
             "solidity": 0.2
            },
            "type": "scatter"
           }
          ],
          "scatter3d": [
           {
            "line": {
             "colorbar": {
              "outlinewidth": 0,
              "ticks": ""
             }
            },
            "marker": {
             "colorbar": {
              "outlinewidth": 0,
              "ticks": ""
             }
            },
            "type": "scatter3d"
           }
          ],
          "scattercarpet": [
           {
            "marker": {
             "colorbar": {
              "outlinewidth": 0,
              "ticks": ""
             }
            },
            "type": "scattercarpet"
           }
          ],
          "scattergeo": [
           {
            "marker": {
             "colorbar": {
              "outlinewidth": 0,
              "ticks": ""
             }
            },
            "type": "scattergeo"
           }
          ],
          "scattergl": [
           {
            "marker": {
             "colorbar": {
              "outlinewidth": 0,
              "ticks": ""
             }
            },
            "type": "scattergl"
           }
          ],
          "scattermapbox": [
           {
            "marker": {
             "colorbar": {
              "outlinewidth": 0,
              "ticks": ""
             }
            },
            "type": "scattermapbox"
           }
          ],
          "scatterpolar": [
           {
            "marker": {
             "colorbar": {
              "outlinewidth": 0,
              "ticks": ""
             }
            },
            "type": "scatterpolar"
           }
          ],
          "scatterpolargl": [
           {
            "marker": {
             "colorbar": {
              "outlinewidth": 0,
              "ticks": ""
             }
            },
            "type": "scatterpolargl"
           }
          ],
          "scatterternary": [
           {
            "marker": {
             "colorbar": {
              "outlinewidth": 0,
              "ticks": ""
             }
            },
            "type": "scatterternary"
           }
          ],
          "surface": [
           {
            "colorbar": {
             "outlinewidth": 0,
             "ticks": ""
            },
            "colorscale": [
             [
              0,
              "#0d0887"
             ],
             [
              0.1111111111111111,
              "#46039f"
             ],
             [
              0.2222222222222222,
              "#7201a8"
             ],
             [
              0.3333333333333333,
              "#9c179e"
             ],
             [
              0.4444444444444444,
              "#bd3786"
             ],
             [
              0.5555555555555556,
              "#d8576b"
             ],
             [
              0.6666666666666666,
              "#ed7953"
             ],
             [
              0.7777777777777778,
              "#fb9f3a"
             ],
             [
              0.8888888888888888,
              "#fdca26"
             ],
             [
              1,
              "#f0f921"
             ]
            ],
            "type": "surface"
           }
          ],
          "table": [
           {
            "cells": {
             "fill": {
              "color": "#EBF0F8"
             },
             "line": {
              "color": "white"
             }
            },
            "header": {
             "fill": {
              "color": "#C8D4E3"
             },
             "line": {
              "color": "white"
             }
            },
            "type": "table"
           }
          ]
         },
         "layout": {
          "annotationdefaults": {
           "arrowcolor": "#2a3f5f",
           "arrowhead": 0,
           "arrowwidth": 1
          },
          "autotypenumbers": "strict",
          "coloraxis": {
           "colorbar": {
            "outlinewidth": 0,
            "ticks": ""
           }
          },
          "colorscale": {
           "diverging": [
            [
             0,
             "#8e0152"
            ],
            [
             0.1,
             "#c51b7d"
            ],
            [
             0.2,
             "#de77ae"
            ],
            [
             0.3,
             "#f1b6da"
            ],
            [
             0.4,
             "#fde0ef"
            ],
            [
             0.5,
             "#f7f7f7"
            ],
            [
             0.6,
             "#e6f5d0"
            ],
            [
             0.7,
             "#b8e186"
            ],
            [
             0.8,
             "#7fbc41"
            ],
            [
             0.9,
             "#4d9221"
            ],
            [
             1,
             "#276419"
            ]
           ],
           "sequential": [
            [
             0,
             "#0d0887"
            ],
            [
             0.1111111111111111,
             "#46039f"
            ],
            [
             0.2222222222222222,
             "#7201a8"
            ],
            [
             0.3333333333333333,
             "#9c179e"
            ],
            [
             0.4444444444444444,
             "#bd3786"
            ],
            [
             0.5555555555555556,
             "#d8576b"
            ],
            [
             0.6666666666666666,
             "#ed7953"
            ],
            [
             0.7777777777777778,
             "#fb9f3a"
            ],
            [
             0.8888888888888888,
             "#fdca26"
            ],
            [
             1,
             "#f0f921"
            ]
           ],
           "sequentialminus": [
            [
             0,
             "#0d0887"
            ],
            [
             0.1111111111111111,
             "#46039f"
            ],
            [
             0.2222222222222222,
             "#7201a8"
            ],
            [
             0.3333333333333333,
             "#9c179e"
            ],
            [
             0.4444444444444444,
             "#bd3786"
            ],
            [
             0.5555555555555556,
             "#d8576b"
            ],
            [
             0.6666666666666666,
             "#ed7953"
            ],
            [
             0.7777777777777778,
             "#fb9f3a"
            ],
            [
             0.8888888888888888,
             "#fdca26"
            ],
            [
             1,
             "#f0f921"
            ]
           ]
          },
          "colorway": [
           "#636efa",
           "#EF553B",
           "#00cc96",
           "#ab63fa",
           "#FFA15A",
           "#19d3f3",
           "#FF6692",
           "#B6E880",
           "#FF97FF",
           "#FECB52"
          ],
          "font": {
           "color": "#2a3f5f"
          },
          "geo": {
           "bgcolor": "white",
           "lakecolor": "white",
           "landcolor": "#E5ECF6",
           "showlakes": true,
           "showland": true,
           "subunitcolor": "white"
          },
          "hoverlabel": {
           "align": "left"
          },
          "hovermode": "closest",
          "mapbox": {
           "style": "light"
          },
          "paper_bgcolor": "white",
          "plot_bgcolor": "#E5ECF6",
          "polar": {
           "angularaxis": {
            "gridcolor": "white",
            "linecolor": "white",
            "ticks": ""
           },
           "bgcolor": "#E5ECF6",
           "radialaxis": {
            "gridcolor": "white",
            "linecolor": "white",
            "ticks": ""
           }
          },
          "scene": {
           "xaxis": {
            "backgroundcolor": "#E5ECF6",
            "gridcolor": "white",
            "gridwidth": 2,
            "linecolor": "white",
            "showbackground": true,
            "ticks": "",
            "zerolinecolor": "white"
           },
           "yaxis": {
            "backgroundcolor": "#E5ECF6",
            "gridcolor": "white",
            "gridwidth": 2,
            "linecolor": "white",
            "showbackground": true,
            "ticks": "",
            "zerolinecolor": "white"
           },
           "zaxis": {
            "backgroundcolor": "#E5ECF6",
            "gridcolor": "white",
            "gridwidth": 2,
            "linecolor": "white",
            "showbackground": true,
            "ticks": "",
            "zerolinecolor": "white"
           }
          },
          "shapedefaults": {
           "line": {
            "color": "#2a3f5f"
           }
          },
          "ternary": {
           "aaxis": {
            "gridcolor": "white",
            "linecolor": "white",
            "ticks": ""
           },
           "baxis": {
            "gridcolor": "white",
            "linecolor": "white",
            "ticks": ""
           },
           "bgcolor": "#E5ECF6",
           "caxis": {
            "gridcolor": "white",
            "linecolor": "white",
            "ticks": ""
           }
          },
          "title": {
           "x": 0.05
          },
          "xaxis": {
           "automargin": true,
           "gridcolor": "white",
           "linecolor": "white",
           "ticks": "",
           "title": {
            "standoff": 15
           },
           "zerolinecolor": "white",
           "zerolinewidth": 2
          },
          "yaxis": {
           "automargin": true,
           "gridcolor": "white",
           "linecolor": "white",
           "ticks": "",
           "title": {
            "standoff": 15
           },
           "zerolinecolor": "white",
           "zerolinewidth": 2
          }
         }
        },
        "title": {
         "text": "Top 10 drivers with Fastest Lap (status= finished)",
         "x": 0.5,
         "xanchor": "center",
         "yanchor": "top"
        },
        "xaxis": {
         "anchor": "y",
         "categoryarray": [
          "Lewis Hamilton",
          "David Coulthard",
          "Michael Schumacher",
          "Kimi Räikkönen",
          "Sebastian Vettel",
          "Nigel Mansell",
          "Max Verstappen",
          "Fernando Alonso",
          "Graham Hill",
          "Niki Lauda"
         ],
         "categoryorder": "array",
         "domain": [
          0,
          1
         ],
         "title": {
          "text": "Driver"
         }
        },
        "yaxis": {
         "anchor": "x",
         "domain": [
          0,
          1
         ],
         "title": {
          "text": "Fastest Laps"
         }
        }
       }
      }
     },
     "metadata": {},
     "output_type": "display_data"
    }
   ],
   "source": [
    "#plot\n",
    "g = px.bar(data_frame= Fastest_lap.head(10), x= 'Name', y= 'Number_of_fastestLap', color= 'Name', hover_name = \"Name\")\n",
    "g.update_layout(\n",
    "    xaxis_title = 'Driver',\n",
    "    yaxis_title = 'Fastest Laps',\n",
    "    title = {'text':'Top 10 drivers with Fastest Lap (status= finished)', 'x':0.5, 'yanchor':'top', 'xanchor':'center' },\n",
    "    showlegend = False\n",
    ")\n",
    "g.update_traces(\n",
    "    hovertemplate = \"<b>Name: %{x}</b><br>\"+\n",
    "                     \"<b>Fastest Laps: %{y}</b><br>\"\n",
    ")\n",
    "g.show()"
   ]
  },
  {
   "cell_type": "markdown",
   "metadata": {},
   "source": [
    "#### **Driver Win analysis: Hamilton vs. Schumacher**\n",
    "- Michael Schumacher and Lewis Hamilton are often regarded as the greatest drivers in Formula One history, each sharing the record for the most World Driver Championships (7). Their careers are marked by dominance in different eras, both shaping the sport in unique ways.\n",
    "- Michael Schumacher carrer highlights:\n",
    "    - **Debut:** 1991 with Jordan.\n",
    "    - **Benetton:** Won two championships in 1994 and 1995.\n",
    "    - **Ferrari:** Dominated the early 2000s, winning five consecutive titles from 2000 to 2004.\n",
    "    - **Mercedes:** Returned in 2010 but had limited success, retiring again in 2012.\n",
    "- Lewis Hamilton carrer Highlights:\n",
    "    - **Debut:** 2007 with McLaren, narrowly missed the title in his rookie year.\n",
    "    - **McLaren:** Won his first championship in 2008.\n",
    "    - **Mercedes:** Dominated the hybrid era, winning six titles from 2014 to 2020.\n",
    "- **Objective:** Analyze wins o Lewis Hamilton (2007–2024) and Michael Schumacher (1991–2012), comparing their race wins and performances over time. The data will be visualized using a line plot on two subplots for an easier head-to-head comparison.\n"
   ]
  },
  {
   "cell_type": "code",
   "execution_count": 39,
   "metadata": {},
   "outputs": [],
   "source": [
    "query = \"\"\"\n",
    "SELECT *\n",
    "FROM drivers as d\n",
    "JOIN driver_standings as ds\n",
    "ON d.driverId = ds.driverId\n",
    "JOIN races as r\n",
    "ON r.raceId = ds.raceId\n",
    "\"\"\"\n",
    "driver_df = pd.read_sql(query, engine)"
   ]
  },
  {
   "cell_type": "code",
   "execution_count": 40,
   "metadata": {},
   "outputs": [],
   "source": [
    "driver_df = driver_df.loc[:, ~driver_df.columns.duplicated()]"
   ]
  },
  {
   "cell_type": "code",
   "execution_count": 41,
   "metadata": {},
   "outputs": [],
   "source": [
    "lewis_performance = driver_df[(driver_df['Name']=='Lewis Hamilton') & (driver_df['year']>=2007) & (driver_df['year']<=2024)].copy()"
   ]
  },
  {
   "cell_type": "code",
   "execution_count": 42,
   "metadata": {},
   "outputs": [
    {
     "data": {
      "text/html": [
       "<div>\n",
       "<style scoped>\n",
       "    .dataframe tbody tr th:only-of-type {\n",
       "        vertical-align: middle;\n",
       "    }\n",
       "\n",
       "    .dataframe tbody tr th {\n",
       "        vertical-align: top;\n",
       "    }\n",
       "\n",
       "    .dataframe thead th {\n",
       "        text-align: right;\n",
       "    }\n",
       "</style>\n",
       "<table border=\"1\" class=\"dataframe\">\n",
       "  <thead>\n",
       "    <tr style=\"text-align: right;\">\n",
       "      <th></th>\n",
       "      <th>driverId</th>\n",
       "      <th>driverRef</th>\n",
       "      <th>number</th>\n",
       "      <th>code</th>\n",
       "      <th>dob</th>\n",
       "      <th>nationality</th>\n",
       "      <th>Name</th>\n",
       "      <th>driverStandingsId</th>\n",
       "      <th>raceId</th>\n",
       "      <th>points</th>\n",
       "      <th>position</th>\n",
       "      <th>positionText</th>\n",
       "      <th>wins</th>\n",
       "      <th>year</th>\n",
       "      <th>round</th>\n",
       "      <th>circuitId</th>\n",
       "      <th>Grand_Prix</th>\n",
       "      <th>date</th>\n",
       "      <th>time</th>\n",
       "    </tr>\n",
       "  </thead>\n",
       "  <tbody>\n",
       "    <tr>\n",
       "      <th>0</th>\n",
       "      <td>1</td>\n",
       "      <td>hamilton</td>\n",
       "      <td>44</td>\n",
       "      <td>HAM</td>\n",
       "      <td>1985-01-07 00:00:00.000000</td>\n",
       "      <td>British</td>\n",
       "      <td>Lewis Hamilton</td>\n",
       "      <td>1</td>\n",
       "      <td>18</td>\n",
       "      <td>10.0</td>\n",
       "      <td>1</td>\n",
       "      <td>1</td>\n",
       "      <td>1</td>\n",
       "      <td>2008</td>\n",
       "      <td>1</td>\n",
       "      <td>1</td>\n",
       "      <td>Australian Grand Prix</td>\n",
       "      <td>2008-03-16 00:00:00.000000</td>\n",
       "      <td>04:30:00</td>\n",
       "    </tr>\n",
       "    <tr>\n",
       "      <th>1</th>\n",
       "      <td>1</td>\n",
       "      <td>hamilton</td>\n",
       "      <td>44</td>\n",
       "      <td>HAM</td>\n",
       "      <td>1985-01-07 00:00:00.000000</td>\n",
       "      <td>British</td>\n",
       "      <td>Lewis Hamilton</td>\n",
       "      <td>9</td>\n",
       "      <td>19</td>\n",
       "      <td>14.0</td>\n",
       "      <td>1</td>\n",
       "      <td>1</td>\n",
       "      <td>1</td>\n",
       "      <td>2008</td>\n",
       "      <td>2</td>\n",
       "      <td>2</td>\n",
       "      <td>Malaysian Grand Prix</td>\n",
       "      <td>2008-03-23 00:00:00.000000</td>\n",
       "      <td>07:00:00</td>\n",
       "    </tr>\n",
       "    <tr>\n",
       "      <th>2</th>\n",
       "      <td>1</td>\n",
       "      <td>hamilton</td>\n",
       "      <td>44</td>\n",
       "      <td>HAM</td>\n",
       "      <td>1985-01-07 00:00:00.000000</td>\n",
       "      <td>British</td>\n",
       "      <td>Lewis Hamilton</td>\n",
       "      <td>27</td>\n",
       "      <td>20</td>\n",
       "      <td>14.0</td>\n",
       "      <td>3</td>\n",
       "      <td>3</td>\n",
       "      <td>1</td>\n",
       "      <td>2008</td>\n",
       "      <td>3</td>\n",
       "      <td>3</td>\n",
       "      <td>Bahrain Grand Prix</td>\n",
       "      <td>2008-04-06 00:00:00.000000</td>\n",
       "      <td>11:30:00</td>\n",
       "    </tr>\n",
       "    <tr>\n",
       "      <th>3</th>\n",
       "      <td>1</td>\n",
       "      <td>hamilton</td>\n",
       "      <td>44</td>\n",
       "      <td>HAM</td>\n",
       "      <td>1985-01-07 00:00:00.000000</td>\n",
       "      <td>British</td>\n",
       "      <td>Lewis Hamilton</td>\n",
       "      <td>48</td>\n",
       "      <td>21</td>\n",
       "      <td>20.0</td>\n",
       "      <td>2</td>\n",
       "      <td>2</td>\n",
       "      <td>1</td>\n",
       "      <td>2008</td>\n",
       "      <td>4</td>\n",
       "      <td>4</td>\n",
       "      <td>Spanish Grand Prix</td>\n",
       "      <td>2008-04-27 00:00:00.000000</td>\n",
       "      <td>12:00:00</td>\n",
       "    </tr>\n",
       "    <tr>\n",
       "      <th>4</th>\n",
       "      <td>1</td>\n",
       "      <td>hamilton</td>\n",
       "      <td>44</td>\n",
       "      <td>HAM</td>\n",
       "      <td>1985-01-07 00:00:00.000000</td>\n",
       "      <td>British</td>\n",
       "      <td>Lewis Hamilton</td>\n",
       "      <td>69</td>\n",
       "      <td>22</td>\n",
       "      <td>28.0</td>\n",
       "      <td>3</td>\n",
       "      <td>3</td>\n",
       "      <td>1</td>\n",
       "      <td>2008</td>\n",
       "      <td>5</td>\n",
       "      <td>5</td>\n",
       "      <td>Turkish Grand Prix</td>\n",
       "      <td>2008-05-11 00:00:00.000000</td>\n",
       "      <td>12:00:00</td>\n",
       "    </tr>\n",
       "  </tbody>\n",
       "</table>\n",
       "</div>"
      ],
      "text/plain": [
       "   driverId driverRef number code                         dob nationality  \\\n",
       "0         1  hamilton     44  HAM  1985-01-07 00:00:00.000000     British   \n",
       "1         1  hamilton     44  HAM  1985-01-07 00:00:00.000000     British   \n",
       "2         1  hamilton     44  HAM  1985-01-07 00:00:00.000000     British   \n",
       "3         1  hamilton     44  HAM  1985-01-07 00:00:00.000000     British   \n",
       "4         1  hamilton     44  HAM  1985-01-07 00:00:00.000000     British   \n",
       "\n",
       "             Name  driverStandingsId  raceId  points  position positionText  \\\n",
       "0  Lewis Hamilton                  1      18    10.0         1            1   \n",
       "1  Lewis Hamilton                  9      19    14.0         1            1   \n",
       "2  Lewis Hamilton                 27      20    14.0         3            3   \n",
       "3  Lewis Hamilton                 48      21    20.0         2            2   \n",
       "4  Lewis Hamilton                 69      22    28.0         3            3   \n",
       "\n",
       "   wins  year  round  circuitId             Grand_Prix  \\\n",
       "0     1  2008      1          1  Australian Grand Prix   \n",
       "1     1  2008      2          2   Malaysian Grand Prix   \n",
       "2     1  2008      3          3     Bahrain Grand Prix   \n",
       "3     1  2008      4          4     Spanish Grand Prix   \n",
       "4     1  2008      5          5     Turkish Grand Prix   \n",
       "\n",
       "                         date      time  \n",
       "0  2008-03-16 00:00:00.000000  04:30:00  \n",
       "1  2008-03-23 00:00:00.000000  07:00:00  \n",
       "2  2008-04-06 00:00:00.000000  11:30:00  \n",
       "3  2008-04-27 00:00:00.000000  12:00:00  \n",
       "4  2008-05-11 00:00:00.000000  12:00:00  "
      ]
     },
     "execution_count": 42,
     "metadata": {},
     "output_type": "execute_result"
    }
   ],
   "source": [
    "lewis_performance.head()"
   ]
  },
  {
   "cell_type": "code",
   "execution_count": 43,
   "metadata": {},
   "outputs": [],
   "source": [
    "lewis_performance.replace([np.inf, -np.inf], np.nan, inplace= True)"
   ]
  },
  {
   "cell_type": "code",
   "execution_count": 44,
   "metadata": {},
   "outputs": [],
   "source": [
    "schumacher_performance = driver_df[(driver_df['Name']== 'Michael Schumacher') & (driver_df['year']>=1991) &(driver_df['year']<=2012) ].copy()"
   ]
  },
  {
   "cell_type": "code",
   "execution_count": 45,
   "metadata": {},
   "outputs": [],
   "source": [
    "schumacher_performance.sort_values('year', ascending=True, inplace= True)"
   ]
  },
  {
   "cell_type": "code",
   "execution_count": 46,
   "metadata": {},
   "outputs": [
    {
     "data": {
      "image/png": "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",
      "text/plain": [
       "<Figure size 1600x1000 with 2 Axes>"
      ]
     },
     "metadata": {},
     "output_type": "display_data"
    }
   ],
   "source": [
    "fig , (ax1,ax2) = plt.subplots(nrows=2, ncols=1, figsize=(16,10), sharex = False, sharey = False)\n",
    "ax1 = sns.lineplot(data= lewis_performance , x = 'year', y= 'position', marker='o',\\\n",
    "                hue= 'Name', palette= 'dark', ax= ax1)\n",
    "ax1.invert_yaxis()\n",
    "ax1.set_xticks(lewis_performance['year'].unique())\n",
    "ax1.set_title('Lewis Hamilton Performance from 2007 to 2024')\n",
    "ax1.set_ylabel('Championship Standing')\n",
    "\n",
    "ax2 = sns.lineplot(data= schumacher_performance, x= 'year', y= 'position', marker= 'o',\\\n",
    "                   hue= 'Name', palette= 'muted', ax=ax2)\n",
    "ax2.invert_yaxis()\n",
    "ax2.set_xticks(schumacher_performance['year'].unique())\n",
    "ax2.set_title('Michael Schumacher Performace from 1991 to 2012')\n",
    "ax2.set_ylabel('Championship Standing')\n",
    "\n",
    "plt.tight_layout()\n",
    "plt.show()"
   ]
  },
  {
   "cell_type": "markdown",
   "metadata": {},
   "source": [
    "#### **Constructor Performance: Ferrari vs. Mercedes**\n",
    "- A comparative analysis of Ferrari's and Mercedes' constructor performance during the peak years of their lead drivers, Michael Schumacher (Ferrari) and Lewis Hamilton (Mercedes), highlighting their dominance and contributions to their teams' success."
   ]
  },
  {
   "cell_type": "code",
   "execution_count": 47,
   "metadata": {},
   "outputs": [],
   "source": [
    "query = \"\"\"\n",
    "SELECT *\n",
    "FROM constructors as c\n",
    "JOIN constructor_standings as cs\n",
    "ON c.constructorId = cs.constructorId\n",
    "JOIN races as r\n",
    "ON r.raceId = cs.raceId\n",
    "\"\"\"\n",
    "constructor_df = pd.read_sql(query, engine)"
   ]
  },
  {
   "cell_type": "code",
   "execution_count": 48,
   "metadata": {},
   "outputs": [],
   "source": [
    "mercedes_performance = constructor_df[(constructor_df['name']== 'Mercedes') & (constructor_df['year'] >=2014) & (constructor_df['year'] <=2024)]"
   ]
  },
  {
   "cell_type": "code",
   "execution_count": 49,
   "metadata": {},
   "outputs": [],
   "source": [
    "ferrari_performance = constructor_df[(constructor_df['name']== 'Ferrari') & (constructor_df['year'] >=1996) & (constructor_df['year'] <=2006)]"
   ]
  },
  {
   "cell_type": "code",
   "execution_count": 50,
   "metadata": {},
   "outputs": [],
   "source": [
    "#comparison of constructor\n",
    "mercedes_ferrari_df = pd.concat([mercedes_performance, ferrari_performance])"
   ]
  },
  {
   "cell_type": "code",
   "execution_count": 51,
   "metadata": {},
   "outputs": [
    {
     "data": {
      "image/png": "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",
      "text/plain": [
       "<Figure size 1116.62x500 with 2 Axes>"
      ]
     },
     "metadata": {},
     "output_type": "display_data"
    }
   ],
   "source": [
    "g = sns.relplot(data= mercedes_ferrari_df, x = 'year', y= 'position', col= 'name', kind= 'line', facet_kws= {'sharex': False}, height= 5, aspect=1, marker='o',\\\n",
    "                hue= 'name', palette= 'dark')\n",
    "plt.gca().invert_yaxis()\n",
    "titles = [\"Mercedes Performance (Hamilton Era)\", \"Ferrari Performance (Schumacher Era)\"]\n",
    "for ax,title in zip(g.axes.flatten(), titles):\n",
    "    ax.set_title(title)"
   ]
  },
  {
   "cell_type": "markdown",
   "metadata": {},
   "source": [
    "#### **Lewis Hamilton Average Lap Pace across his carrer**\n",
    "- **Objective:**  Analyze Lewis Hamilton's performance by calculating his average lap pace over the course of his career and visualizing the trends using a line plot."
   ]
  },
  {
   "cell_type": "code",
   "execution_count": 52,
   "metadata": {},
   "outputs": [
    {
     "data": {
      "text/plain": [
       "344"
      ]
     },
     "execution_count": 52,
     "metadata": {},
     "output_type": "execute_result"
    }
   ],
   "source": [
    "lewis_performance.to_sql('lewis_hamilton', engine, index= False, if_exists= 'replace')"
   ]
  },
  {
   "cell_type": "code",
   "execution_count": 53,
   "metadata": {},
   "outputs": [
    {
     "data": {
      "text/html": [
       "<div>\n",
       "<style scoped>\n",
       "    .dataframe tbody tr th:only-of-type {\n",
       "        vertical-align: middle;\n",
       "    }\n",
       "\n",
       "    .dataframe tbody tr th {\n",
       "        vertical-align: top;\n",
       "    }\n",
       "\n",
       "    .dataframe thead th {\n",
       "        text-align: right;\n",
       "    }\n",
       "</style>\n",
       "<table border=\"1\" class=\"dataframe\">\n",
       "  <thead>\n",
       "    <tr style=\"text-align: right;\">\n",
       "      <th></th>\n",
       "      <th>driverId</th>\n",
       "      <th>Name</th>\n",
       "      <th>year</th>\n",
       "      <th>Avg_pace</th>\n",
       "    </tr>\n",
       "  </thead>\n",
       "  <tbody>\n",
       "    <tr>\n",
       "      <th>0</th>\n",
       "      <td>1</td>\n",
       "      <td>Lewis Hamilton</td>\n",
       "      <td>2007</td>\n",
       "      <td>207.627941</td>\n",
       "    </tr>\n",
       "    <tr>\n",
       "      <th>1</th>\n",
       "      <td>1</td>\n",
       "      <td>Lewis Hamilton</td>\n",
       "      <td>2008</td>\n",
       "      <td>204.564667</td>\n",
       "    </tr>\n",
       "    <tr>\n",
       "      <th>2</th>\n",
       "      <td>1</td>\n",
       "      <td>Lewis Hamilton</td>\n",
       "      <td>2009</td>\n",
       "      <td>200.652080</td>\n",
       "    </tr>\n",
       "    <tr>\n",
       "      <th>3</th>\n",
       "      <td>1</td>\n",
       "      <td>Lewis Hamilton</td>\n",
       "      <td>2010</td>\n",
       "      <td>200.365120</td>\n",
       "    </tr>\n",
       "    <tr>\n",
       "      <th>4</th>\n",
       "      <td>1</td>\n",
       "      <td>Lewis Hamilton</td>\n",
       "      <td>2011</td>\n",
       "      <td>198.009053</td>\n",
       "    </tr>\n",
       "    <tr>\n",
       "      <th>5</th>\n",
       "      <td>1</td>\n",
       "      <td>Lewis Hamilton</td>\n",
       "      <td>2012</td>\n",
       "      <td>197.348264</td>\n",
       "    </tr>\n",
       "    <tr>\n",
       "      <th>6</th>\n",
       "      <td>1</td>\n",
       "      <td>Lewis Hamilton</td>\n",
       "      <td>2013</td>\n",
       "      <td>199.885684</td>\n",
       "    </tr>\n",
       "    <tr>\n",
       "      <th>7</th>\n",
       "      <td>1</td>\n",
       "      <td>Lewis Hamilton</td>\n",
       "      <td>2014</td>\n",
       "      <td>196.486158</td>\n",
       "    </tr>\n",
       "    <tr>\n",
       "      <th>8</th>\n",
       "      <td>1</td>\n",
       "      <td>Lewis Hamilton</td>\n",
       "      <td>2015</td>\n",
       "      <td>200.058632</td>\n",
       "    </tr>\n",
       "    <tr>\n",
       "      <th>9</th>\n",
       "      <td>1</td>\n",
       "      <td>Lewis Hamilton</td>\n",
       "      <td>2016</td>\n",
       "      <td>202.202918</td>\n",
       "    </tr>\n",
       "    <tr>\n",
       "      <th>10</th>\n",
       "      <td>1</td>\n",
       "      <td>Lewis Hamilton</td>\n",
       "      <td>2017</td>\n",
       "      <td>209.448550</td>\n",
       "    </tr>\n",
       "    <tr>\n",
       "      <th>11</th>\n",
       "      <td>1</td>\n",
       "      <td>Lewis Hamilton</td>\n",
       "      <td>2018</td>\n",
       "      <td>211.203190</td>\n",
       "    </tr>\n",
       "    <tr>\n",
       "      <th>12</th>\n",
       "      <td>1</td>\n",
       "      <td>Lewis Hamilton</td>\n",
       "      <td>2019</td>\n",
       "      <td>212.482857</td>\n",
       "    </tr>\n",
       "    <tr>\n",
       "      <th>13</th>\n",
       "      <td>1</td>\n",
       "      <td>Lewis Hamilton</td>\n",
       "      <td>2020</td>\n",
       "      <td>222.079750</td>\n",
       "    </tr>\n",
       "    <tr>\n",
       "      <th>14</th>\n",
       "      <td>1</td>\n",
       "      <td>Lewis Hamilton</td>\n",
       "      <td>2021</td>\n",
       "      <td>214.798377</td>\n",
       "    </tr>\n",
       "    <tr>\n",
       "      <th>15</th>\n",
       "      <td>1</td>\n",
       "      <td>Lewis Hamilton</td>\n",
       "      <td>2022</td>\n",
       "      <td>207.400467</td>\n",
       "    </tr>\n",
       "    <tr>\n",
       "      <th>16</th>\n",
       "      <td>1</td>\n",
       "      <td>Lewis Hamilton</td>\n",
       "      <td>2023</td>\n",
       "      <td>212.478649</td>\n",
       "    </tr>\n",
       "    <tr>\n",
       "      <th>17</th>\n",
       "      <td>1</td>\n",
       "      <td>Lewis Hamilton</td>\n",
       "      <td>2024</td>\n",
       "      <td>218.232524</td>\n",
       "    </tr>\n",
       "  </tbody>\n",
       "</table>\n",
       "</div>"
      ],
      "text/plain": [
       "    driverId            Name  year    Avg_pace\n",
       "0          1  Lewis Hamilton  2007  207.627941\n",
       "1          1  Lewis Hamilton  2008  204.564667\n",
       "2          1  Lewis Hamilton  2009  200.652080\n",
       "3          1  Lewis Hamilton  2010  200.365120\n",
       "4          1  Lewis Hamilton  2011  198.009053\n",
       "5          1  Lewis Hamilton  2012  197.348264\n",
       "6          1  Lewis Hamilton  2013  199.885684\n",
       "7          1  Lewis Hamilton  2014  196.486158\n",
       "8          1  Lewis Hamilton  2015  200.058632\n",
       "9          1  Lewis Hamilton  2016  202.202918\n",
       "10         1  Lewis Hamilton  2017  209.448550\n",
       "11         1  Lewis Hamilton  2018  211.203190\n",
       "12         1  Lewis Hamilton  2019  212.482857\n",
       "13         1  Lewis Hamilton  2020  222.079750\n",
       "14         1  Lewis Hamilton  2021  214.798377\n",
       "15         1  Lewis Hamilton  2022  207.400467\n",
       "16         1  Lewis Hamilton  2023  212.478649\n",
       "17         1  Lewis Hamilton  2024  218.232524"
      ]
     },
     "execution_count": 53,
     "metadata": {},
     "output_type": "execute_result"
    }
   ],
   "source": [
    "query =\"\"\"   \n",
    "SELECT hs.driverId, hs.Name, hs.year, AVG(r.fastestLapSpeed) AS Avg_pace\n",
    "FROM lewis_hamilton AS hs\n",
    "JOIN results AS r\n",
    "ON hs.driverId = r.driverId\n",
    "AND hs.raceId = r.raceId\n",
    "GROUP BY hs.driverId, hs.Name, hs.year\n",
    "\"\"\"\n",
    "hamilton_avg_pace = pd.read_sql(query, engine)\n",
    "hamilton_avg_pace"
   ]
  },
  {
   "cell_type": "code",
   "execution_count": 54,
   "metadata": {},
   "outputs": [
    {
     "data": {
      "image/png": "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",
      "text/plain": [
       "<Figure size 1200x400 with 1 Axes>"
      ]
     },
     "metadata": {},
     "output_type": "display_data"
    }
   ],
   "source": [
    "plt.figure(figsize= (12,4))\n",
    "sns.lineplot(data= hamilton_avg_pace, x= 'year', y= 'Avg_pace', marker= 'o')\n",
    "plt.xticks(hamilton_avg_pace['year'].unique(), fontsize = 8)\n",
    "plt.yticks(fontsize= 8)\n",
    "plt.xlabel('year')\n",
    "plt.title('Lewis Hamilton average pace')\n",
    "plt.ylabel('average pace')\n",
    "plt.show()"
   ]
  },
  {
   "cell_type": "markdown",
   "metadata": {},
   "source": [
    "#### Qaulifying\n"
   ]
  },
  {
   "cell_type": "code",
   "execution_count": 55,
   "metadata": {},
   "outputs": [],
   "source": [
    "# qualifying['q2'] = qualifying['q2'].replace('\\\\N', 'Not Qualified')\n",
    "# qualifying['q3'] = qualifying['q3'].replace('\\\\N', 'Not Qualified')"
   ]
  },
  {
   "cell_type": "code",
   "execution_count": 56,
   "metadata": {},
   "outputs": [
    {
     "data": {
      "text/html": [
       "<div>\n",
       "<style scoped>\n",
       "    .dataframe tbody tr th:only-of-type {\n",
       "        vertical-align: middle;\n",
       "    }\n",
       "\n",
       "    .dataframe tbody tr th {\n",
       "        vertical-align: top;\n",
       "    }\n",
       "\n",
       "    .dataframe thead th {\n",
       "        text-align: right;\n",
       "    }\n",
       "</style>\n",
       "<table border=\"1\" class=\"dataframe\">\n",
       "  <thead>\n",
       "    <tr style=\"text-align: right;\">\n",
       "      <th></th>\n",
       "      <th>qualifyId</th>\n",
       "      <th>raceId</th>\n",
       "      <th>driverId</th>\n",
       "      <th>constructorId</th>\n",
       "      <th>number</th>\n",
       "      <th>position</th>\n",
       "      <th>q1</th>\n",
       "      <th>q2</th>\n",
       "      <th>q3</th>\n",
       "    </tr>\n",
       "  </thead>\n",
       "  <tbody>\n",
       "    <tr>\n",
       "      <th>0</th>\n",
       "      <td>1</td>\n",
       "      <td>18</td>\n",
       "      <td>1</td>\n",
       "      <td>1</td>\n",
       "      <td>22</td>\n",
       "      <td>1</td>\n",
       "      <td>1:26.572</td>\n",
       "      <td>1:25.187</td>\n",
       "      <td>1:26.714</td>\n",
       "    </tr>\n",
       "    <tr>\n",
       "      <th>1</th>\n",
       "      <td>2</td>\n",
       "      <td>18</td>\n",
       "      <td>9</td>\n",
       "      <td>2</td>\n",
       "      <td>4</td>\n",
       "      <td>2</td>\n",
       "      <td>1:26.103</td>\n",
       "      <td>1:25.315</td>\n",
       "      <td>1:26.869</td>\n",
       "    </tr>\n",
       "    <tr>\n",
       "      <th>2</th>\n",
       "      <td>3</td>\n",
       "      <td>18</td>\n",
       "      <td>5</td>\n",
       "      <td>1</td>\n",
       "      <td>23</td>\n",
       "      <td>3</td>\n",
       "      <td>1:25.664</td>\n",
       "      <td>1:25.452</td>\n",
       "      <td>1:27.079</td>\n",
       "    </tr>\n",
       "    <tr>\n",
       "      <th>3</th>\n",
       "      <td>4</td>\n",
       "      <td>18</td>\n",
       "      <td>13</td>\n",
       "      <td>6</td>\n",
       "      <td>2</td>\n",
       "      <td>4</td>\n",
       "      <td>1:25.994</td>\n",
       "      <td>1:25.691</td>\n",
       "      <td>1:27.178</td>\n",
       "    </tr>\n",
       "    <tr>\n",
       "      <th>4</th>\n",
       "      <td>5</td>\n",
       "      <td>18</td>\n",
       "      <td>2</td>\n",
       "      <td>2</td>\n",
       "      <td>3</td>\n",
       "      <td>5</td>\n",
       "      <td>1:25.960</td>\n",
       "      <td>1:25.518</td>\n",
       "      <td>1:27.236</td>\n",
       "    </tr>\n",
       "    <tr>\n",
       "      <th>...</th>\n",
       "      <td>...</td>\n",
       "      <td>...</td>\n",
       "      <td>...</td>\n",
       "      <td>...</td>\n",
       "      <td>...</td>\n",
       "      <td>...</td>\n",
       "      <td>...</td>\n",
       "      <td>...</td>\n",
       "      <td>...</td>\n",
       "    </tr>\n",
       "    <tr>\n",
       "      <th>10249</th>\n",
       "      <td>10307</td>\n",
       "      <td>1132</td>\n",
       "      <td>822</td>\n",
       "      <td>15</td>\n",
       "      <td>77</td>\n",
       "      <td>16</td>\n",
       "      <td>1:32.431</td>\n",
       "      <td>\\N</td>\n",
       "      <td>\\N</td>\n",
       "    </tr>\n",
       "    <tr>\n",
       "      <th>10250</th>\n",
       "      <td>10308</td>\n",
       "      <td>1132</td>\n",
       "      <td>825</td>\n",
       "      <td>210</td>\n",
       "      <td>20</td>\n",
       "      <td>17</td>\n",
       "      <td>1:32.905</td>\n",
       "      <td>\\N</td>\n",
       "      <td>\\N</td>\n",
       "    </tr>\n",
       "    <tr>\n",
       "      <th>10251</th>\n",
       "      <td>10309</td>\n",
       "      <td>1132</td>\n",
       "      <td>839</td>\n",
       "      <td>214</td>\n",
       "      <td>31</td>\n",
       "      <td>18</td>\n",
       "      <td>1:34.557</td>\n",
       "      <td>\\N</td>\n",
       "      <td>\\N</td>\n",
       "    </tr>\n",
       "    <tr>\n",
       "      <th>10252</th>\n",
       "      <td>10310</td>\n",
       "      <td>1132</td>\n",
       "      <td>815</td>\n",
       "      <td>9</td>\n",
       "      <td>11</td>\n",
       "      <td>19</td>\n",
       "      <td>1:38.348</td>\n",
       "      <td>\\N</td>\n",
       "      <td>\\N</td>\n",
       "    </tr>\n",
       "    <tr>\n",
       "      <th>10253</th>\n",
       "      <td>10311</td>\n",
       "      <td>1132</td>\n",
       "      <td>842</td>\n",
       "      <td>214</td>\n",
       "      <td>10</td>\n",
       "      <td>20</td>\n",
       "      <td>1:39.804</td>\n",
       "      <td>\\N</td>\n",
       "      <td>\\N</td>\n",
       "    </tr>\n",
       "  </tbody>\n",
       "</table>\n",
       "<p>10254 rows × 9 columns</p>\n",
       "</div>"
      ],
      "text/plain": [
       "       qualifyId  raceId  driverId  constructorId  number  position        q1  \\\n",
       "0              1      18         1              1      22         1  1:26.572   \n",
       "1              2      18         9              2       4         2  1:26.103   \n",
       "2              3      18         5              1      23         3  1:25.664   \n",
       "3              4      18        13              6       2         4  1:25.994   \n",
       "4              5      18         2              2       3         5  1:25.960   \n",
       "...          ...     ...       ...            ...     ...       ...       ...   \n",
       "10249      10307    1132       822             15      77        16  1:32.431   \n",
       "10250      10308    1132       825            210      20        17  1:32.905   \n",
       "10251      10309    1132       839            214      31        18  1:34.557   \n",
       "10252      10310    1132       815              9      11        19  1:38.348   \n",
       "10253      10311    1132       842            214      10        20  1:39.804   \n",
       "\n",
       "             q2        q3  \n",
       "0      1:25.187  1:26.714  \n",
       "1      1:25.315  1:26.869  \n",
       "2      1:25.452  1:27.079  \n",
       "3      1:25.691  1:27.178  \n",
       "4      1:25.518  1:27.236  \n",
       "...         ...       ...  \n",
       "10249        \\N        \\N  \n",
       "10250        \\N        \\N  \n",
       "10251        \\N        \\N  \n",
       "10252        \\N        \\N  \n",
       "10253        \\N        \\N  \n",
       "\n",
       "[10254 rows x 9 columns]"
      ]
     },
     "execution_count": 56,
     "metadata": {},
     "output_type": "execute_result"
    }
   ],
   "source": [
    "qualifying"
   ]
  }
 ],
 "metadata": {
  "kernelspec": {
   "display_name": "Python 3",
   "language": "python",
   "name": "python3"
  },
  "language_info": {
   "codemirror_mode": {
    "name": "ipython",
    "version": 3
   },
   "file_extension": ".py",
   "mimetype": "text/x-python",
   "name": "python",
   "nbconvert_exporter": "python",
   "pygments_lexer": "ipython3",
   "version": "3.12.4"
  }
 },
 "nbformat": 4,
 "nbformat_minor": 2
}
